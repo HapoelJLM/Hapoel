{
 "cells": [
  {
   "cell_type": "code",
   "execution_count": 1,
   "id": "cd7a88d8-ee95-43c7-957f-3a39fb3966a0",
   "metadata": {},
   "outputs": [],
   "source": [
    "import matplotlib.pyplot as plt\n",
    "import numpy as np\n",
    "import pandas as pd\n",
    "import plotly.graph_objects as go\n",
    "from ipysankeywidget import SankeyWidget\n",
    "from IPython.display import display\n",
    "\n",
    "\n",
    "from IPython.display import HTML\n",
    "def View(df):\n",
    "    css = \"\"\"<style>\n",
    "    table { border-collapse: collapse; border: 3px solid #eee; }\n",
    "    table tr th:first-child { background-color: #eeeeee; color: #333; font-weight: bold }\n",
    "    table thead th { background-color: #eee; color: #000; }\n",
    "    tr, th, td { border: 1px solid #ccc; border-width: 1px 0 0 1px; border-collapse: collapse;\n",
    "    padding: 3px; font-family: monospace; font-size: 10px }</style>\n",
    "    \"\"\"\n",
    "    s  = '<script type=\"text/Javascript\">'\n",
    "    s += 'var win = window.open(\"\", \"Title\", \"toolbar=no, location=no, directories=no, status=no, menubar=no, scrollbars=yes, resizable=yes, width=780, height=200, top=\"+(screen.height-400)+\", left=\"+(screen.width-840));'\n",
    "    s += 'win.document.body.innerHTML = \\'' + (df.to_html() + css).replace(\"\\n\",'\\\\') + '\\';'\n",
    "    s += '</script>'\n",
    "    return(HTML(s+css))\n",
    "\n",
    "# read tables:\n",
    "perc = pd.read_csv('List_Report_20250824091120.csv')\n",
    "chair_mapping = pd.read_excel('chair_mapping_20240801.xlsx')\n",
    "st_2425 = pd.read_csv('List_Report_20250609080140.csv')\n",
    "st_2324 = pd.read_csv('List_Report_20250606154459.csv')"
   ]
  },
  {
   "cell_type": "code",
   "execution_count": 2,
   "id": "76bca7c9",
   "metadata": {},
   "outputs": [],
   "source": [
    "def preprocess_sales_data(df, chair_mapping, return_extras=False):\n",
    "\n",
    "    rename_columns = {\n",
    "        \"Birth date\": 'birth date',\n",
    "        'City': \"city\",\n",
    "        'Gender': 'gender',\n",
    "        'Type': 'status',\n",
    "        'Date': 'sale_date',\n",
    "        'Time': 'sale_hour',\n",
    "        'Base price': 'base_price',\n",
    "        'Price': 'price',\n",
    "        'Ticket price types': 'price_type',\n",
    "        'Stand': 'location_name',\n",
    "        'Price area': 'price_category',\n",
    "        'User Id': 'client_number',\n",
    "        'Area': 'area',\n",
    "        'Row': 'row',\n",
    "        'assign using email or ID': \"tz\",\n",
    "        'Number': 'seat',\n",
    "        'Card number': 'card_number',\n",
    "        'Transaction': 'transaction',\n",
    "        'Cashier': 'purchaser_email',\n",
    "        'Co-owner': 'co_purchaser_email',\n",
    "        'Pelecard_PayType_VisaInstallments': 'payment_type',\n",
    "        'Voucher number': 'voucher_type',\n",
    "        'Status': 'st_status'\n",
    "    }\n",
    "\n",
    "    area_mapper = {\n",
    "        'אולם 1 עמידה': 'Court_1S', '1C': 'Court_1C', 'אולם 2': 'Court_2', 'אולם 3': 'Court_3', 'אולם 4': 'Court_4',\n",
    "        'אולם 5': 'Court_5', 'אולם 6': 'Court_6', 'אולם 7': 'Court_7', 'אולם 8': 'Court_8',\n",
    "        'אולם 9': 'Court_9', 'אולם 10': 'Court_10', 'אולם 11': 'Court_11', '12 אולם': 'Court_12',\n",
    "        'גלריה 1': 'Gallery_1', 'גלריה 2': 'Gallery_2', '3 גלריה': 'Gallery_3', 'גלריה 4': 'Gallery_4',\n",
    "        '5 גלריה': 'Gallery_5', 'גלריה 6': 'Gallery_6', 'גלריה 7': 'Gallery_7', 'גלריה 8': 'Gallery_8',\n",
    "        'גלריה 9': 'Gallery_9', 'גלריה 10': 'Gallery_10', 'גלריה 11': 'Gallery_11', 'גלריה 12': 'Gallery_12',\n",
    "        'פרקט מרכזי': 'Court_side_17', 'פרקט צפוני': 'Court_side_18', 'פרקט דרומי': 'Court_side_19',\n",
    "        'תא 1': 'Suite_1', 'תא 2': 'Suite_2', 'תא 3': 'Suite_3', 'תא 4': 'Suite_4', 'תא 5': 'Suite_5',\n",
    "        'תא 6': 'Suite_6', 'תא 7': 'Suite_7', 'תא 8': 'Suite_8', 'תא 9': 'Suite_9', 'תא 10': 'Suite_10',\n",
    "        'תא 11': 'Suite_11', 'תא 12': 'Suite_12', 'תא 13': 'Suite_13', 'תא 14': 'Suite_14',\n",
    "        'תא 15': 'Suite_15', 'תא 16': 'Suite_16'\n",
    "    }\n",
    "    \n",
    "\n",
    "    presentation_order = {\n",
    "        'Court_1S': 0,   # אולם 1 עמידה — comes first\n",
    "        'Court_1C': 1,   # 1C — comes second\n",
    "        'Court_2': 2,\n",
    "        'Court_3': 3,\n",
    "        'Court_4': 4,\n",
    "        'Court_5': 5,\n",
    "        'Court_6': 6,\n",
    "        'Court_7': 7,\n",
    "        'Court_8': 8,\n",
    "        'Court_9': 9,\n",
    "        'Court_10': 10,\n",
    "        'Court_11': 11,\n",
    "        'Court_12': 12,\n",
    "        'Gallery_1': 13,\n",
    "        'Gallery_2': 14,\n",
    "        'Gallery_3': 15,\n",
    "        'Gallery_4': 16,\n",
    "        'Gallery_5': 17,\n",
    "        'Gallery_6': 18,\n",
    "        'Gallery_7': 19,\n",
    "        'Gallery_8': 20,\n",
    "        'Gallery_9': 21,\n",
    "        'Gallery_10': 22,\n",
    "        'Gallery_11': 23,\n",
    "        'Gallery_12': 24,\n",
    "        'Court_side_17': 25,\n",
    "        'Court_side_18': 26,\n",
    "        'Court_side_19': 27,\n",
    "        'Suite_1': 28,\n",
    "        'Suite_2': 29,\n",
    "        'Suite_3': 30,\n",
    "        'Suite_4': 31,\n",
    "        'Suite_5': 32,\n",
    "        'Suite_6': 33,\n",
    "        'Suite_7': 34,\n",
    "        'Suite_8': 35,\n",
    "        'Suite_9': 36,\n",
    "        'Suite_10': 37,\n",
    "        'Suite_11': 38,\n",
    "        'Suite_12': 39,\n",
    "        'Suite_13': 40,\n",
    "        'Suite_14': 41,\n",
    "        'Suite_15': 42,\n",
    "        'Suite_16': 43,\n",
    "        'Suite_21': 44,\n",
    "        'Unmarked_6': 45,\n",
    "        'Unmarked_12': 46\n",
    "    }\n",
    "\n",
    "\n",
    "    # Rename columns\n",
    "    df = df.rename(columns=rename_columns)\n",
    "\n",
    "    # Convert price\n",
    "    df['price'] = pd.to_numeric(df.get('price', 0), errors='coerce').fillna(0)\n",
    "\n",
    "    # Filter status if available\n",
    "    if 'st_status' in df.columns:\n",
    "        df = df[df['st_status'] == 'Active'].reset_index(drop=True)\n",
    "\n",
    "    # Map area names\n",
    "    if 'area' in df.columns:\n",
    "        df['area'] = df['area'].replace(area_mapper)\n",
    "\n",
    "    # Parse date and time\n",
    "    if 'sale_date' in df.columns:\n",
    "        df['full_datetime'] = pd.to_datetime(df['sale_date'], errors='coerce')\n",
    "\n",
    "        df['sale_date'] = df['full_datetime'].dt.date  # <- this keeps only the date part\n",
    "        df['sale_hour'] = df['full_datetime'].dt.strftime('%H:%M')\n",
    "        df['weekday_sale'] = pd.to_datetime(df['sale_date'], errors='coerce').dt.day_name()\n",
    "\n",
    "    # Mark renewals\n",
    "    # if 'price_type' in df.columns:\n",
    "    #     df['is_renew'] = df['price_type'].str.contains('renew', na=False)\n",
    "    #     df['price_type'] = df['price_type'].str.replace(' (renew)', '', regex=False)\n",
    "\n",
    "    # Mark hapoel purchasers\n",
    "    if 'purchaser_email' in df.columns:\n",
    "        df['hapoels_purchaser'] = df['purchaser_email'].str.contains('hapoel|Hapoel|HAPOEL', na=False)\n",
    "\n",
    "    if return_extras:\n",
    "        capacity = (\n",
    "            chair_mapping.groupby('section_name')\n",
    "            .count()['seat_id']\n",
    "            .reset_index()\n",
    "            .rename(columns={'seat_id': 'area_capacity'})\n",
    "        )\n",
    "        return df, capacity, presentation_order\n",
    "    else:\n",
    "        return df\n"
   ]
  },
  {
   "cell_type": "code",
   "execution_count": 3,
   "id": "269f39aa",
   "metadata": {},
   "outputs": [
    {
     "name": "stderr",
     "output_type": "stream",
     "text": [
      "/var/folders/nt/lqq9984n7p3fpfvd92swmw280000gn/T/ipykernel_3133/2017225922.py:111: UserWarning: Could not infer format, so each element will be parsed individually, falling back to `dateutil`. To ensure parsing is consistent and as-expected, please specify a format.\n",
      "  df['full_datetime'] = pd.to_datetime(df['sale_date'], errors='coerce')\n"
     ]
    }
   ],
   "source": [
    "perc, capacity, presentation_order = preprocess_sales_data(perc, chair_mapping, return_extras=True)\n",
    "st_2425 = preprocess_sales_data(st_2425, chair_mapping, return_extras=False)"
   ]
  },
  {
   "cell_type": "code",
   "execution_count": 4,
   "id": "cdbbf2ca",
   "metadata": {},
   "outputs": [],
   "source": [
    "area_mapper = {\n",
    "    'אולם 1 עמידה': 'Court_1S', '1C': 'Court_1C', 'אולם 2': 'Court_2', 'אולם 3': 'Court_3', 'אולם 4': 'Court_4',\n",
    "    'אולם 5': 'Court_5', 'אולם 6': 'Court_6', 'אולם 7': 'Court_7', 'אולם 8': 'Court_8',\n",
    "    'אולם 9': 'Court_9', 'אולם 10': 'Court_10', 'אולם 11': 'Court_11', '12 אולם': 'Court_12',\n",
    "    'גלריה 1': 'Gallery_1', 'גלריה 2': 'Gallery_2', '3 גלריה': 'Gallery_3', 'גלריה 4': 'Gallery_4',\n",
    "    '5 גלריה': 'Gallery_5', 'גלריה 6': 'Gallery_6', 'גלריה 7': 'Gallery_7', 'גלריה 8': 'Gallery_8',\n",
    "    'גלריה 9': 'Gallery_9', 'גלריה 10': 'Gallery_10', 'גלריה 11': 'Gallery_11', 'גלריה 12': 'Gallery_12',\n",
    "    'פרקט מרכזי': 'Court_side_17', 'פרקט צפוני': 'Court_side_18', 'פרקט דרומי': 'Court_side_19',\n",
    "    'תא 1': 'Suite_1', 'תא 2': 'Suite_2', 'תא 3': 'Suite_3', 'תא 4': 'Suite_4', 'תא 5': 'Suite_5',\n",
    "    'תא 6': 'Suite_6', 'תא 7': 'Suite_7', 'תא 8': 'Suite_8', 'תא 9': 'Suite_9', 'תא 10': 'Suite_10',\n",
    "    'תא 11': 'Suite_11', 'תא 12': 'Suite_12', 'תא 13': 'Suite_13', 'תא 14': 'Suite_14',\n",
    "    'תא 15': 'Suite_15', 'תא 16': 'Suite_16'\n",
    "    }"
   ]
  },
  {
   "cell_type": "code",
   "execution_count": 5,
   "id": "6ba9bab4",
   "metadata": {},
   "outputs": [
    {
     "data": {
      "application/vnd.plotly.v1+json": {
       "config": {
        "plotlyServerURL": "https://plot.ly"
       },
       "data": [
        {
         "hoverinfo": "text",
         "hovertext": [
          "56 Tickets<br>(96.55%)",
          "270 Tickets<br>(90.00%)",
          "269 Tickets<br>(91.50%)",
          "155 Tickets<br>(77.11%)",
          "172 Tickets<br>(85.15%)",
          "321 Tickets<br>(76.07%)",
          "72 Tickets<br>(58.54%)",
          "157 Tickets<br>(80.10%)",
          "99 Tickets<br>(73.88%)",
          "211 Tickets<br>(90.56%)",
          "238 Tickets<br>(85.00%)",
          "456 Tickets<br>(88.37%)",
          "7 Tickets<br>(77.78%)",
          "227 Tickets<br>(59.58%)",
          "27 Tickets<br>(84.38%)",
          "16 Tickets<br>(100.00%)"
         ],
         "marker": {
          "color": "red"
         },
         "name": "Renewals",
         "type": "bar",
         "x": [
          "1C",
          "אולם 2",
          "אולם 3",
          "אולם 4",
          "אולם 5",
          "אולם 6",
          "אולם 7",
          "אולם 8",
          "אולם 9",
          "אולם 10",
          "אולם 11",
          "12 אולם",
          "פרקט צפוני",
          "אולם 1 עמידה ",
          "פרקט מרכז",
          "תא צפיה 3"
         ],
         "y": [
          56,
          270,
          269,
          155,
          172,
          321,
          72,
          157,
          99,
          211,
          238,
          456,
          7,
          227,
          27,
          16
         ]
        },
        {
         "hoverinfo": "text",
         "hovertext": [
          "2 Tickets<br>(3.45%)",
          "30 Tickets<br>(10.00%)",
          "25 Tickets<br>(8.50%)",
          "46 Tickets<br>(22.89%)",
          "22 Tickets<br>(10.89%)",
          "101 Tickets<br>(23.93%)",
          "26 Tickets<br>(21.14%)",
          "39 Tickets<br>(19.90%)",
          "12 Tickets<br>(8.96%)",
          "22 Tickets<br>(9.44%)",
          "42 Tickets<br>(15.00%)",
          "60 Tickets<br>(11.63%)",
          "0 Tickets<br>(0.00%)",
          "70 Tickets<br>(18.37%)",
          "0 Tickets<br>(0.00%)",
          "0 Tickets<br>(0.00%)"
         ],
         "marker": {
          "color": "tomato"
         },
         "name": "New",
         "type": "bar",
         "x": [
          "1C",
          "אולם 2",
          "אולם 3",
          "אולם 4",
          "אולם 5",
          "אולם 6",
          "אולם 7",
          "אולם 8",
          "אולם 9",
          "אולם 10",
          "אולם 11",
          "12 אולם",
          "פרקט צפוני",
          "אולם 1 עמידה ",
          "פרקט מרכז",
          "תא צפיה 3"
         ],
         "y": [
          2,
          30,
          25,
          46,
          22,
          101,
          26,
          39,
          12,
          22,
          42,
          60,
          0,
          70,
          0,
          0
         ]
        },
        {
         "base": [
          58,
          300,
          294,
          201,
          194,
          422,
          98,
          196,
          111,
          233,
          280,
          516,
          7,
          297,
          27,
          16
         ],
         "hoverinfo": "text",
         "hovertext": [
          "0 Tickets<br>(0.00%)",
          "0 Tickets<br>(0.00%)",
          "0 Tickets<br>(0.00%)",
          "0 Tickets<br>(0.00%)",
          "8 Tickets<br>(3.96%)",
          "0 Tickets<br>(0.00%)",
          "25 Tickets<br>(20.33%)",
          "0 Tickets<br>(0.00%)",
          "23 Tickets<br>(17.16%)",
          "0 Tickets<br>(0.00%)",
          "0 Tickets<br>(0.00%)",
          "0 Tickets<br>(0.00%)",
          "2 Tickets<br>(22.22%)",
          "84 Tickets<br>(22.05%)",
          "5 Tickets<br>(15.62%)",
          "0 Tickets<br>(0.00%)"
         ],
         "marker": {
          "color": "grey"
         },
         "name": "Remaining Capacity",
         "type": "bar",
         "x": [
          "1C",
          "אולם 2",
          "אולם 3",
          "אולם 4",
          "אולם 5",
          "אולם 6",
          "אולם 7",
          "אולם 8",
          "אולם 9",
          "אולם 10",
          "אולם 11",
          "12 אולם",
          "פרקט צפוני",
          "אולם 1 עמידה ",
          "פרקט מרכז",
          "תא צפיה 3"
         ],
         "y": [
          0,
          0,
          0,
          0,
          8,
          0,
          25,
          0,
          23,
          0,
          0,
          0,
          2,
          84,
          5,
          0
         ]
        }
       ],
       "layout": {
        "annotations": [
         {
          "align": "center",
          "font": {
           "color": "black",
           "size": 12
          },
          "showarrow": false,
          "text": "100%",
          "x": "1C",
          "y": 78
         },
         {
          "align": "center",
          "font": {
           "color": "black",
           "size": 12
          },
          "showarrow": false,
          "text": "100%",
          "x": "אולם 2",
          "y": 320
         },
         {
          "align": "center",
          "font": {
           "color": "black",
           "size": 12
          },
          "showarrow": false,
          "text": "100%",
          "x": "אולם 3",
          "y": 314
         },
         {
          "align": "center",
          "font": {
           "color": "black",
           "size": 12
          },
          "showarrow": false,
          "text": "100%",
          "x": "אולם 4",
          "y": 221
         },
         {
          "align": "center",
          "font": {
           "color": "black",
           "size": 12
          },
          "showarrow": false,
          "text": "96%",
          "x": "אולם 5",
          "y": 214
         },
         {
          "align": "center",
          "font": {
           "color": "black",
           "size": 12
          },
          "showarrow": false,
          "text": "100%",
          "x": "אולם 6",
          "y": 442
         },
         {
          "align": "center",
          "font": {
           "color": "black",
           "size": 12
          },
          "showarrow": false,
          "text": "80%",
          "x": "אולם 7",
          "y": 118
         },
         {
          "align": "center",
          "font": {
           "color": "black",
           "size": 12
          },
          "showarrow": false,
          "text": "100%",
          "x": "אולם 8",
          "y": 216
         },
         {
          "align": "center",
          "font": {
           "color": "black",
           "size": 12
          },
          "showarrow": false,
          "text": "83%",
          "x": "אולם 9",
          "y": 131
         },
         {
          "align": "center",
          "font": {
           "color": "black",
           "size": 12
          },
          "showarrow": false,
          "text": "100%",
          "x": "אולם 10",
          "y": 253
         },
         {
          "align": "center",
          "font": {
           "color": "black",
           "size": 12
          },
          "showarrow": false,
          "text": "100%",
          "x": "אולם 11",
          "y": 300
         },
         {
          "align": "center",
          "font": {
           "color": "black",
           "size": 12
          },
          "showarrow": false,
          "text": "100%",
          "x": "12 אולם",
          "y": 536
         },
         {
          "align": "center",
          "font": {
           "color": "black",
           "size": 12
          },
          "showarrow": false,
          "text": "78%",
          "x": "פרקט צפוני",
          "y": 27
         },
         {
          "align": "center",
          "font": {
           "color": "black",
           "size": 12
          },
          "showarrow": false,
          "text": "78%",
          "x": "אולם 1 עמידה ",
          "y": 317
         },
         {
          "align": "center",
          "font": {
           "color": "black",
           "size": 12
          },
          "showarrow": false,
          "text": "84%",
          "x": "פרקט מרכז",
          "y": 47
         },
         {
          "align": "center",
          "font": {
           "color": "black",
           "size": 12
          },
          "showarrow": false,
          "text": "100%",
          "x": "תא צפיה 3",
          "y": 36
         },
         {
          "font": {
           "color": "blue",
           "size": 12
          },
          "showarrow": false,
          "text": "₪63,470",
          "textangle": 45,
          "x": "1C",
          "y": 0,
          "yshift": -30
         },
         {
          "font": {
           "color": "blue",
           "size": 12
          },
          "showarrow": false,
          "text": "₪444,615",
          "textangle": 45,
          "x": "אולם 2",
          "y": 0,
          "yshift": -30
         },
         {
          "font": {
           "color": "blue",
           "size": 12
          },
          "showarrow": false,
          "text": "₪674,881",
          "textangle": 45,
          "x": "אולם 3",
          "y": 0,
          "yshift": -30
         },
         {
          "font": {
           "color": "blue",
           "size": 12
          },
          "showarrow": false,
          "text": "₪288,260",
          "textangle": 45,
          "x": "אולם 4",
          "y": 0,
          "yshift": -30
         },
         {
          "font": {
           "color": "blue",
           "size": 12
          },
          "showarrow": false,
          "text": "₪208,064",
          "textangle": 45,
          "x": "אולם 5",
          "y": 0,
          "yshift": -30
         },
         {
          "font": {
           "color": "blue",
           "size": 12
          },
          "showarrow": false,
          "text": "₪311,595",
          "textangle": 45,
          "x": "אולם 6",
          "y": 0,
          "yshift": -30
         },
         {
          "font": {
           "color": "blue",
           "size": 12
          },
          "showarrow": false,
          "text": "₪57,190",
          "textangle": 45,
          "x": "אולם 7",
          "y": 0,
          "yshift": -30
         },
         {
          "font": {
           "color": "blue",
           "size": 12
          },
          "showarrow": false,
          "text": "₪307,460",
          "textangle": 45,
          "x": "אולם 8",
          "y": 0,
          "yshift": -30
         },
         {
          "font": {
           "color": "blue",
           "size": 12
          },
          "showarrow": false,
          "text": "₪778,100",
          "textangle": 45,
          "x": "אולם 9",
          "y": 0,
          "yshift": -30
         },
         {
          "font": {
           "color": "blue",
           "size": 12
          },
          "showarrow": false,
          "text": "₪316,030",
          "textangle": 45,
          "x": "אולם 10",
          "y": 0,
          "yshift": -30
         },
         {
          "font": {
           "color": "blue",
           "size": 12
          },
          "showarrow": false,
          "text": "₪303,264",
          "textangle": 45,
          "x": "אולם 11",
          "y": 0,
          "yshift": -30
         },
         {
          "font": {
           "color": "blue",
           "size": 12
          },
          "showarrow": false,
          "text": "₪364,914",
          "textangle": 45,
          "x": "12 אולם",
          "y": 0,
          "yshift": -30
         },
         {
          "font": {
           "color": "blue",
           "size": 12
          },
          "showarrow": false,
          "text": "₪140,000",
          "textangle": 45,
          "x": "פרקט צפוני",
          "y": 0,
          "yshift": -30
         },
         {
          "font": {
           "color": "blue",
           "size": 12
          },
          "showarrow": false,
          "text": "₪240,576",
          "textangle": 45,
          "x": "אולם 1 עמידה ",
          "y": 0,
          "yshift": -30
         },
         {
          "font": {
           "color": "blue",
           "size": 12
          },
          "showarrow": false,
          "text": "₪655,000",
          "textangle": 45,
          "x": "פרקט מרכז",
          "y": 0,
          "yshift": -30
         },
         {
          "font": {
           "color": "blue",
           "size": 12
          },
          "showarrow": false,
          "text": "₪200,000",
          "textangle": 45,
          "x": "תא צפיה 3",
          "y": 0,
          "yshift": -30
         },
         {
          "align": "center",
          "font": {
           "color": "grey",
           "size": 14
          },
          "showarrow": false,
          "text": "Percentages represent total sold / total from last year<br>Gray reference total capacity of each section",
          "x": 0.5,
          "xref": "paper",
          "y": -0.2,
          "yref": "paper"
         }
        ],
        "bargap": 0.3,
        "barmode": "stack",
        "height": 600,
        "legend": {
         "bordercolor": "Black",
         "borderwidth": 1,
         "font": {
          "size": 10
         },
         "x": 0.02,
         "y": 0.99
        },
        "margin": {
         "b": 80,
         "l": 20,
         "r": 20,
         "t": 40
        },
        "paper_bgcolor": "white",
        "plot_bgcolor": "white",
        "template": {
         "data": {
          "bar": [
           {
            "error_x": {
             "color": "#2a3f5f"
            },
            "error_y": {
             "color": "#2a3f5f"
            },
            "marker": {
             "line": {
              "color": "#E5ECF6",
              "width": 0.5
             },
             "pattern": {
              "fillmode": "overlay",
              "size": 10,
              "solidity": 0.2
             }
            },
            "type": "bar"
           }
          ],
          "barpolar": [
           {
            "marker": {
             "line": {
              "color": "#E5ECF6",
              "width": 0.5
             },
             "pattern": {
              "fillmode": "overlay",
              "size": 10,
              "solidity": 0.2
             }
            },
            "type": "barpolar"
           }
          ],
          "carpet": [
           {
            "aaxis": {
             "endlinecolor": "#2a3f5f",
             "gridcolor": "white",
             "linecolor": "white",
             "minorgridcolor": "white",
             "startlinecolor": "#2a3f5f"
            },
            "baxis": {
             "endlinecolor": "#2a3f5f",
             "gridcolor": "white",
             "linecolor": "white",
             "minorgridcolor": "white",
             "startlinecolor": "#2a3f5f"
            },
            "type": "carpet"
           }
          ],
          "choropleth": [
           {
            "colorbar": {
             "outlinewidth": 0,
             "ticks": ""
            },
            "type": "choropleth"
           }
          ],
          "contour": [
           {
            "colorbar": {
             "outlinewidth": 0,
             "ticks": ""
            },
            "colorscale": [
             [
              0,
              "#0d0887"
             ],
             [
              0.1111111111111111,
              "#46039f"
             ],
             [
              0.2222222222222222,
              "#7201a8"
             ],
             [
              0.3333333333333333,
              "#9c179e"
             ],
             [
              0.4444444444444444,
              "#bd3786"
             ],
             [
              0.5555555555555556,
              "#d8576b"
             ],
             [
              0.6666666666666666,
              "#ed7953"
             ],
             [
              0.7777777777777778,
              "#fb9f3a"
             ],
             [
              0.8888888888888888,
              "#fdca26"
             ],
             [
              1,
              "#f0f921"
             ]
            ],
            "type": "contour"
           }
          ],
          "contourcarpet": [
           {
            "colorbar": {
             "outlinewidth": 0,
             "ticks": ""
            },
            "type": "contourcarpet"
           }
          ],
          "heatmap": [
           {
            "colorbar": {
             "outlinewidth": 0,
             "ticks": ""
            },
            "colorscale": [
             [
              0,
              "#0d0887"
             ],
             [
              0.1111111111111111,
              "#46039f"
             ],
             [
              0.2222222222222222,
              "#7201a8"
             ],
             [
              0.3333333333333333,
              "#9c179e"
             ],
             [
              0.4444444444444444,
              "#bd3786"
             ],
             [
              0.5555555555555556,
              "#d8576b"
             ],
             [
              0.6666666666666666,
              "#ed7953"
             ],
             [
              0.7777777777777778,
              "#fb9f3a"
             ],
             [
              0.8888888888888888,
              "#fdca26"
             ],
             [
              1,
              "#f0f921"
             ]
            ],
            "type": "heatmap"
           }
          ],
          "heatmapgl": [
           {
            "colorbar": {
             "outlinewidth": 0,
             "ticks": ""
            },
            "colorscale": [
             [
              0,
              "#0d0887"
             ],
             [
              0.1111111111111111,
              "#46039f"
             ],
             [
              0.2222222222222222,
              "#7201a8"
             ],
             [
              0.3333333333333333,
              "#9c179e"
             ],
             [
              0.4444444444444444,
              "#bd3786"
             ],
             [
              0.5555555555555556,
              "#d8576b"
             ],
             [
              0.6666666666666666,
              "#ed7953"
             ],
             [
              0.7777777777777778,
              "#fb9f3a"
             ],
             [
              0.8888888888888888,
              "#fdca26"
             ],
             [
              1,
              "#f0f921"
             ]
            ],
            "type": "heatmapgl"
           }
          ],
          "histogram": [
           {
            "marker": {
             "pattern": {
              "fillmode": "overlay",
              "size": 10,
              "solidity": 0.2
             }
            },
            "type": "histogram"
           }
          ],
          "histogram2d": [
           {
            "colorbar": {
             "outlinewidth": 0,
             "ticks": ""
            },
            "colorscale": [
             [
              0,
              "#0d0887"
             ],
             [
              0.1111111111111111,
              "#46039f"
             ],
             [
              0.2222222222222222,
              "#7201a8"
             ],
             [
              0.3333333333333333,
              "#9c179e"
             ],
             [
              0.4444444444444444,
              "#bd3786"
             ],
             [
              0.5555555555555556,
              "#d8576b"
             ],
             [
              0.6666666666666666,
              "#ed7953"
             ],
             [
              0.7777777777777778,
              "#fb9f3a"
             ],
             [
              0.8888888888888888,
              "#fdca26"
             ],
             [
              1,
              "#f0f921"
             ]
            ],
            "type": "histogram2d"
           }
          ],
          "histogram2dcontour": [
           {
            "colorbar": {
             "outlinewidth": 0,
             "ticks": ""
            },
            "colorscale": [
             [
              0,
              "#0d0887"
             ],
             [
              0.1111111111111111,
              "#46039f"
             ],
             [
              0.2222222222222222,
              "#7201a8"
             ],
             [
              0.3333333333333333,
              "#9c179e"
             ],
             [
              0.4444444444444444,
              "#bd3786"
             ],
             [
              0.5555555555555556,
              "#d8576b"
             ],
             [
              0.6666666666666666,
              "#ed7953"
             ],
             [
              0.7777777777777778,
              "#fb9f3a"
             ],
             [
              0.8888888888888888,
              "#fdca26"
             ],
             [
              1,
              "#f0f921"
             ]
            ],
            "type": "histogram2dcontour"
           }
          ],
          "mesh3d": [
           {
            "colorbar": {
             "outlinewidth": 0,
             "ticks": ""
            },
            "type": "mesh3d"
           }
          ],
          "parcoords": [
           {
            "line": {
             "colorbar": {
              "outlinewidth": 0,
              "ticks": ""
             }
            },
            "type": "parcoords"
           }
          ],
          "pie": [
           {
            "automargin": true,
            "type": "pie"
           }
          ],
          "scatter": [
           {
            "fillpattern": {
             "fillmode": "overlay",
             "size": 10,
             "solidity": 0.2
            },
            "type": "scatter"
           }
          ],
          "scatter3d": [
           {
            "line": {
             "colorbar": {
              "outlinewidth": 0,
              "ticks": ""
             }
            },
            "marker": {
             "colorbar": {
              "outlinewidth": 0,
              "ticks": ""
             }
            },
            "type": "scatter3d"
           }
          ],
          "scattercarpet": [
           {
            "marker": {
             "colorbar": {
              "outlinewidth": 0,
              "ticks": ""
             }
            },
            "type": "scattercarpet"
           }
          ],
          "scattergeo": [
           {
            "marker": {
             "colorbar": {
              "outlinewidth": 0,
              "ticks": ""
             }
            },
            "type": "scattergeo"
           }
          ],
          "scattergl": [
           {
            "marker": {
             "colorbar": {
              "outlinewidth": 0,
              "ticks": ""
             }
            },
            "type": "scattergl"
           }
          ],
          "scattermapbox": [
           {
            "marker": {
             "colorbar": {
              "outlinewidth": 0,
              "ticks": ""
             }
            },
            "type": "scattermapbox"
           }
          ],
          "scatterpolar": [
           {
            "marker": {
             "colorbar": {
              "outlinewidth": 0,
              "ticks": ""
             }
            },
            "type": "scatterpolar"
           }
          ],
          "scatterpolargl": [
           {
            "marker": {
             "colorbar": {
              "outlinewidth": 0,
              "ticks": ""
             }
            },
            "type": "scatterpolargl"
           }
          ],
          "scatterternary": [
           {
            "marker": {
             "colorbar": {
              "outlinewidth": 0,
              "ticks": ""
             }
            },
            "type": "scatterternary"
           }
          ],
          "surface": [
           {
            "colorbar": {
             "outlinewidth": 0,
             "ticks": ""
            },
            "colorscale": [
             [
              0,
              "#0d0887"
             ],
             [
              0.1111111111111111,
              "#46039f"
             ],
             [
              0.2222222222222222,
              "#7201a8"
             ],
             [
              0.3333333333333333,
              "#9c179e"
             ],
             [
              0.4444444444444444,
              "#bd3786"
             ],
             [
              0.5555555555555556,
              "#d8576b"
             ],
             [
              0.6666666666666666,
              "#ed7953"
             ],
             [
              0.7777777777777778,
              "#fb9f3a"
             ],
             [
              0.8888888888888888,
              "#fdca26"
             ],
             [
              1,
              "#f0f921"
             ]
            ],
            "type": "surface"
           }
          ],
          "table": [
           {
            "cells": {
             "fill": {
              "color": "#EBF0F8"
             },
             "line": {
              "color": "white"
             }
            },
            "header": {
             "fill": {
              "color": "#C8D4E3"
             },
             "line": {
              "color": "white"
             }
            },
            "type": "table"
           }
          ]
         },
         "layout": {
          "annotationdefaults": {
           "arrowcolor": "#2a3f5f",
           "arrowhead": 0,
           "arrowwidth": 1
          },
          "autotypenumbers": "strict",
          "coloraxis": {
           "colorbar": {
            "outlinewidth": 0,
            "ticks": ""
           }
          },
          "colorscale": {
           "diverging": [
            [
             0,
             "#8e0152"
            ],
            [
             0.1,
             "#c51b7d"
            ],
            [
             0.2,
             "#de77ae"
            ],
            [
             0.3,
             "#f1b6da"
            ],
            [
             0.4,
             "#fde0ef"
            ],
            [
             0.5,
             "#f7f7f7"
            ],
            [
             0.6,
             "#e6f5d0"
            ],
            [
             0.7,
             "#b8e186"
            ],
            [
             0.8,
             "#7fbc41"
            ],
            [
             0.9,
             "#4d9221"
            ],
            [
             1,
             "#276419"
            ]
           ],
           "sequential": [
            [
             0,
             "#0d0887"
            ],
            [
             0.1111111111111111,
             "#46039f"
            ],
            [
             0.2222222222222222,
             "#7201a8"
            ],
            [
             0.3333333333333333,
             "#9c179e"
            ],
            [
             0.4444444444444444,
             "#bd3786"
            ],
            [
             0.5555555555555556,
             "#d8576b"
            ],
            [
             0.6666666666666666,
             "#ed7953"
            ],
            [
             0.7777777777777778,
             "#fb9f3a"
            ],
            [
             0.8888888888888888,
             "#fdca26"
            ],
            [
             1,
             "#f0f921"
            ]
           ],
           "sequentialminus": [
            [
             0,
             "#0d0887"
            ],
            [
             0.1111111111111111,
             "#46039f"
            ],
            [
             0.2222222222222222,
             "#7201a8"
            ],
            [
             0.3333333333333333,
             "#9c179e"
            ],
            [
             0.4444444444444444,
             "#bd3786"
            ],
            [
             0.5555555555555556,
             "#d8576b"
            ],
            [
             0.6666666666666666,
             "#ed7953"
            ],
            [
             0.7777777777777778,
             "#fb9f3a"
            ],
            [
             0.8888888888888888,
             "#fdca26"
            ],
            [
             1,
             "#f0f921"
            ]
           ]
          },
          "colorway": [
           "#636efa",
           "#EF553B",
           "#00cc96",
           "#ab63fa",
           "#FFA15A",
           "#19d3f3",
           "#FF6692",
           "#B6E880",
           "#FF97FF",
           "#FECB52"
          ],
          "font": {
           "color": "#2a3f5f"
          },
          "geo": {
           "bgcolor": "white",
           "lakecolor": "white",
           "landcolor": "#E5ECF6",
           "showlakes": true,
           "showland": true,
           "subunitcolor": "white"
          },
          "hoverlabel": {
           "align": "left"
          },
          "hovermode": "closest",
          "mapbox": {
           "style": "light"
          },
          "paper_bgcolor": "white",
          "plot_bgcolor": "#E5ECF6",
          "polar": {
           "angularaxis": {
            "gridcolor": "white",
            "linecolor": "white",
            "ticks": ""
           },
           "bgcolor": "#E5ECF6",
           "radialaxis": {
            "gridcolor": "white",
            "linecolor": "white",
            "ticks": ""
           }
          },
          "scene": {
           "xaxis": {
            "backgroundcolor": "#E5ECF6",
            "gridcolor": "white",
            "gridwidth": 2,
            "linecolor": "white",
            "showbackground": true,
            "ticks": "",
            "zerolinecolor": "white"
           },
           "yaxis": {
            "backgroundcolor": "#E5ECF6",
            "gridcolor": "white",
            "gridwidth": 2,
            "linecolor": "white",
            "showbackground": true,
            "ticks": "",
            "zerolinecolor": "white"
           },
           "zaxis": {
            "backgroundcolor": "#E5ECF6",
            "gridcolor": "white",
            "gridwidth": 2,
            "linecolor": "white",
            "showbackground": true,
            "ticks": "",
            "zerolinecolor": "white"
           }
          },
          "shapedefaults": {
           "line": {
            "color": "#2a3f5f"
           }
          },
          "ternary": {
           "aaxis": {
            "gridcolor": "white",
            "linecolor": "white",
            "ticks": ""
           },
           "baxis": {
            "gridcolor": "white",
            "linecolor": "white",
            "ticks": ""
           },
           "bgcolor": "#E5ECF6",
           "caxis": {
            "gridcolor": "white",
            "linecolor": "white",
            "ticks": ""
           }
          },
          "title": {
           "x": 0.05
          },
          "xaxis": {
           "automargin": true,
           "gridcolor": "white",
           "linecolor": "white",
           "ticks": "",
           "title": {
            "standoff": 15
           },
           "zerolinecolor": "white",
           "zerolinewidth": 2
          },
          "yaxis": {
           "automargin": true,
           "gridcolor": "white",
           "linecolor": "white",
           "ticks": "",
           "title": {
            "standoff": 15
           },
           "zerolinecolor": "white",
           "zerolinewidth": 2
          }
         }
        },
        "title": {
         "font": {
          "size": 16
         },
         "text": "Season Ticket Distribution by Section",
         "x": 0.25
        },
        "width": 1200,
        "xaxis": {
         "constrain": "domain",
         "tickangle": 45,
         "tickfont": {
          "size": 10
         },
         "title": {
          "font": {
           "size": 14
          },
          "text": ""
         }
        },
        "yaxis": {
         "range": [
          0,
          null
         ],
         "tickfont": {
          "size": 12
         },
         "title": {
          "font": {
           "size": 14
          },
          "text": "Tickets"
         }
        }
       }
      }
     },
     "metadata": {},
     "output_type": "display_data"
    },
    {
     "data": {
      "application/vnd.microsoft.datawrangler.viewer.v0+json": {
       "columns": [
        {
         "name": "index",
         "rawType": "int64",
         "type": "integer"
        },
        {
         "name": "area",
         "rawType": "object",
         "type": "string"
        },
        {
         "name": "Season_Tickets_Renew",
         "rawType": "int64",
         "type": "integer"
        },
        {
         "name": "Season_Tickets_New",
         "rawType": "int64",
         "type": "integer"
        },
        {
         "name": "Total_Price",
         "rawType": "float64",
         "type": "float"
        },
        {
         "name": "area_velocity",
         "rawType": "int64",
         "type": "integer"
        },
        {
         "name": "presentation_order",
         "rawType": "float64",
         "type": "float"
        },
        {
         "name": "last_year_tickets",
         "rawType": "int64",
         "type": "integer"
        },
        {
         "name": "remaining_capacity",
         "rawType": "int64",
         "type": "integer"
        },
        {
         "name": "fixed_remaining_capacity",
         "rawType": "int64",
         "type": "integer"
        },
        {
         "name": "ratio_capacity",
         "rawType": "float64",
         "type": "float"
        },
        {
         "name": "ratio_capacity_percent",
         "rawType": "float64",
         "type": "float"
        },
        {
         "name": "total_tickets",
         "rawType": "int64",
         "type": "integer"
        },
        {
         "name": "area_he",
         "rawType": "object",
         "type": "string"
        },
        {
         "name": "Season_Tickets_Renew_hover_text",
         "rawType": "object",
         "type": "string"
        },
        {
         "name": "Season_Tickets_New_hover_text",
         "rawType": "object",
         "type": "string"
        },
        {
         "name": "remaining_capacity_hover_text",
         "rawType": "object",
         "type": "string"
        }
       ],
       "ref": "c2de76aa-e9f4-4655-aef5-7197df72cf19",
       "rows": [
        [
         "0",
         "Court_1C",
         "56",
         "2",
         "63470.0",
         "58",
         "1.0",
         "57",
         "-1",
         "0",
         "1.0",
         "100.0",
         "58",
         "1C",
         "56 Tickets<br>(96.55%)",
         "2 Tickets<br>(3.45%)",
         "0 Tickets<br>(0.00%)"
        ],
        [
         "1",
         "Court_2",
         "270",
         "30",
         "444615.0",
         "300",
         "2.0",
         "278",
         "-22",
         "0",
         "1.0",
         "100.0",
         "300",
         "אולם 2",
         "270 Tickets<br>(90.00%)",
         "30 Tickets<br>(10.00%)",
         "0 Tickets<br>(0.00%)"
        ],
        [
         "2",
         "Court_3",
         "269",
         "25",
         "674881.8",
         "294",
         "3.0",
         "267",
         "-27",
         "0",
         "1.0",
         "100.0",
         "294",
         "אולם 3",
         "269 Tickets<br>(91.50%)",
         "25 Tickets<br>(8.50%)",
         "0 Tickets<br>(0.00%)"
        ],
        [
         "3",
         "Court_4",
         "155",
         "46",
         "288260.0",
         "201",
         "4.0",
         "200",
         "-1",
         "0",
         "1.0",
         "100.0",
         "201",
         "אולם 4",
         "155 Tickets<br>(77.11%)",
         "46 Tickets<br>(22.89%)",
         "0 Tickets<br>(0.00%)"
        ],
        [
         "4",
         "Court_5",
         "172",
         "22",
         "208064.0",
         "194",
         "5.0",
         "202",
         "8",
         "8",
         "0.9603960396039604",
         "96.0",
         "202",
         "אולם 5",
         "172 Tickets<br>(85.15%)",
         "22 Tickets<br>(10.89%)",
         "8 Tickets<br>(3.96%)"
        ],
        [
         "5",
         "Court_6",
         "321",
         "101",
         "311595.5",
         "422",
         "6.0",
         "404",
         "-18",
         "0",
         "1.0",
         "100.0",
         "422",
         "אולם 6",
         "321 Tickets<br>(76.07%)",
         "101 Tickets<br>(23.93%)",
         "0 Tickets<br>(0.00%)"
        ],
        [
         "6",
         "Court_7",
         "72",
         "26",
         "57190.0",
         "98",
         "7.0",
         "123",
         "25",
         "25",
         "0.7967479674796748",
         "80.0",
         "123",
         "אולם 7",
         "72 Tickets<br>(58.54%)",
         "26 Tickets<br>(21.14%)",
         "25 Tickets<br>(20.33%)"
        ],
        [
         "7",
         "Court_8",
         "157",
         "39",
         "307460.0",
         "196",
         "8.0",
         "169",
         "-27",
         "0",
         "1.0",
         "100.0",
         "196",
         "אולם 8",
         "157 Tickets<br>(80.10%)",
         "39 Tickets<br>(19.90%)",
         "0 Tickets<br>(0.00%)"
        ],
        [
         "8",
         "Court_9",
         "99",
         "12",
         "778100.0",
         "111",
         "9.0",
         "134",
         "23",
         "23",
         "0.8283582089552238",
         "83.0",
         "134",
         "אולם 9",
         "99 Tickets<br>(73.88%)",
         "12 Tickets<br>(8.96%)",
         "23 Tickets<br>(17.16%)"
        ],
        [
         "9",
         "Court_10",
         "211",
         "22",
         "316030.0",
         "233",
         "10.0",
         "212",
         "-21",
         "0",
         "1.0",
         "100.0",
         "233",
         "אולם 10",
         "211 Tickets<br>(90.56%)",
         "22 Tickets<br>(9.44%)",
         "0 Tickets<br>(0.00%)"
        ],
        [
         "10",
         "Court_11",
         "238",
         "42",
         "303264.0",
         "280",
         "11.0",
         "265",
         "-15",
         "0",
         "1.0",
         "100.0",
         "280",
         "אולם 11",
         "238 Tickets<br>(85.00%)",
         "42 Tickets<br>(15.00%)",
         "0 Tickets<br>(0.00%)"
        ],
        [
         "11",
         "Court_12",
         "456",
         "60",
         "364914.0",
         "516",
         "12.0",
         "483",
         "-33",
         "0",
         "1.0",
         "100.0",
         "516",
         "12 אולם",
         "456 Tickets<br>(88.37%)",
         "60 Tickets<br>(11.63%)",
         "0 Tickets<br>(0.00%)"
        ],
        [
         "12",
         "Court_side_18",
         "7",
         "0",
         "140000.0",
         "7",
         "26.0",
         "9",
         "2",
         "2",
         "0.7777777777777778",
         "78.0",
         "9",
         "פרקט צפוני",
         "7 Tickets<br>(77.78%)",
         "0 Tickets<br>(0.00%)",
         "2 Tickets<br>(22.22%)"
        ],
        [
         "13",
         "אולם 1 עמידה ",
         "227",
         "70",
         "240576.5",
         "297",
         null,
         "381",
         "84",
         "84",
         "0.7795275590551181",
         "78.0",
         "381",
         "אולם 1 עמידה ",
         "227 Tickets<br>(59.58%)",
         "70 Tickets<br>(18.37%)",
         "84 Tickets<br>(22.05%)"
        ],
        [
         "14",
         "פרקט מרכז",
         "27",
         "0",
         "655000.0",
         "27",
         null,
         "32",
         "5",
         "5",
         "0.84375",
         "84.0",
         "32",
         "פרקט מרכז",
         "27 Tickets<br>(84.38%)",
         "0 Tickets<br>(0.00%)",
         "5 Tickets<br>(15.62%)"
        ],
        [
         "15",
         "תא צפיה 3",
         "16",
         "0",
         "200000.0",
         "16",
         null,
         "16",
         "0",
         "0",
         "1.0",
         "100.0",
         "16",
         "תא צפיה 3",
         "16 Tickets<br>(100.00%)",
         "0 Tickets<br>(0.00%)",
         "0 Tickets<br>(0.00%)"
        ]
       ],
       "shape": {
        "columns": 16,
        "rows": 16
       }
      },
      "text/html": [
       "<div>\n",
       "<style scoped>\n",
       "    .dataframe tbody tr th:only-of-type {\n",
       "        vertical-align: middle;\n",
       "    }\n",
       "\n",
       "    .dataframe tbody tr th {\n",
       "        vertical-align: top;\n",
       "    }\n",
       "\n",
       "    .dataframe thead th {\n",
       "        text-align: right;\n",
       "    }\n",
       "</style>\n",
       "<table border=\"1\" class=\"dataframe\">\n",
       "  <thead>\n",
       "    <tr style=\"text-align: right;\">\n",
       "      <th></th>\n",
       "      <th>area</th>\n",
       "      <th>Season_Tickets_Renew</th>\n",
       "      <th>Season_Tickets_New</th>\n",
       "      <th>Total_Price</th>\n",
       "      <th>area_velocity</th>\n",
       "      <th>presentation_order</th>\n",
       "      <th>last_year_tickets</th>\n",
       "      <th>remaining_capacity</th>\n",
       "      <th>fixed_remaining_capacity</th>\n",
       "      <th>ratio_capacity</th>\n",
       "      <th>ratio_capacity_percent</th>\n",
       "      <th>total_tickets</th>\n",
       "      <th>area_he</th>\n",
       "      <th>Season_Tickets_Renew_hover_text</th>\n",
       "      <th>Season_Tickets_New_hover_text</th>\n",
       "      <th>remaining_capacity_hover_text</th>\n",
       "    </tr>\n",
       "  </thead>\n",
       "  <tbody>\n",
       "    <tr>\n",
       "      <th>0</th>\n",
       "      <td>Court_1C</td>\n",
       "      <td>56</td>\n",
       "      <td>2</td>\n",
       "      <td>63470.0</td>\n",
       "      <td>58</td>\n",
       "      <td>1.0</td>\n",
       "      <td>57</td>\n",
       "      <td>-1</td>\n",
       "      <td>0</td>\n",
       "      <td>1.000000</td>\n",
       "      <td>100.0</td>\n",
       "      <td>58</td>\n",
       "      <td>1C</td>\n",
       "      <td>56 Tickets&lt;br&gt;(96.55%)</td>\n",
       "      <td>2 Tickets&lt;br&gt;(3.45%)</td>\n",
       "      <td>0 Tickets&lt;br&gt;(0.00%)</td>\n",
       "    </tr>\n",
       "    <tr>\n",
       "      <th>1</th>\n",
       "      <td>Court_2</td>\n",
       "      <td>270</td>\n",
       "      <td>30</td>\n",
       "      <td>444615.0</td>\n",
       "      <td>300</td>\n",
       "      <td>2.0</td>\n",
       "      <td>278</td>\n",
       "      <td>-22</td>\n",
       "      <td>0</td>\n",
       "      <td>1.000000</td>\n",
       "      <td>100.0</td>\n",
       "      <td>300</td>\n",
       "      <td>אולם 2</td>\n",
       "      <td>270 Tickets&lt;br&gt;(90.00%)</td>\n",
       "      <td>30 Tickets&lt;br&gt;(10.00%)</td>\n",
       "      <td>0 Tickets&lt;br&gt;(0.00%)</td>\n",
       "    </tr>\n",
       "    <tr>\n",
       "      <th>2</th>\n",
       "      <td>Court_3</td>\n",
       "      <td>269</td>\n",
       "      <td>25</td>\n",
       "      <td>674881.8</td>\n",
       "      <td>294</td>\n",
       "      <td>3.0</td>\n",
       "      <td>267</td>\n",
       "      <td>-27</td>\n",
       "      <td>0</td>\n",
       "      <td>1.000000</td>\n",
       "      <td>100.0</td>\n",
       "      <td>294</td>\n",
       "      <td>אולם 3</td>\n",
       "      <td>269 Tickets&lt;br&gt;(91.50%)</td>\n",
       "      <td>25 Tickets&lt;br&gt;(8.50%)</td>\n",
       "      <td>0 Tickets&lt;br&gt;(0.00%)</td>\n",
       "    </tr>\n",
       "    <tr>\n",
       "      <th>3</th>\n",
       "      <td>Court_4</td>\n",
       "      <td>155</td>\n",
       "      <td>46</td>\n",
       "      <td>288260.0</td>\n",
       "      <td>201</td>\n",
       "      <td>4.0</td>\n",
       "      <td>200</td>\n",
       "      <td>-1</td>\n",
       "      <td>0</td>\n",
       "      <td>1.000000</td>\n",
       "      <td>100.0</td>\n",
       "      <td>201</td>\n",
       "      <td>אולם 4</td>\n",
       "      <td>155 Tickets&lt;br&gt;(77.11%)</td>\n",
       "      <td>46 Tickets&lt;br&gt;(22.89%)</td>\n",
       "      <td>0 Tickets&lt;br&gt;(0.00%)</td>\n",
       "    </tr>\n",
       "    <tr>\n",
       "      <th>4</th>\n",
       "      <td>Court_5</td>\n",
       "      <td>172</td>\n",
       "      <td>22</td>\n",
       "      <td>208064.0</td>\n",
       "      <td>194</td>\n",
       "      <td>5.0</td>\n",
       "      <td>202</td>\n",
       "      <td>8</td>\n",
       "      <td>8</td>\n",
       "      <td>0.960396</td>\n",
       "      <td>96.0</td>\n",
       "      <td>202</td>\n",
       "      <td>אולם 5</td>\n",
       "      <td>172 Tickets&lt;br&gt;(85.15%)</td>\n",
       "      <td>22 Tickets&lt;br&gt;(10.89%)</td>\n",
       "      <td>8 Tickets&lt;br&gt;(3.96%)</td>\n",
       "    </tr>\n",
       "    <tr>\n",
       "      <th>5</th>\n",
       "      <td>Court_6</td>\n",
       "      <td>321</td>\n",
       "      <td>101</td>\n",
       "      <td>311595.5</td>\n",
       "      <td>422</td>\n",
       "      <td>6.0</td>\n",
       "      <td>404</td>\n",
       "      <td>-18</td>\n",
       "      <td>0</td>\n",
       "      <td>1.000000</td>\n",
       "      <td>100.0</td>\n",
       "      <td>422</td>\n",
       "      <td>אולם 6</td>\n",
       "      <td>321 Tickets&lt;br&gt;(76.07%)</td>\n",
       "      <td>101 Tickets&lt;br&gt;(23.93%)</td>\n",
       "      <td>0 Tickets&lt;br&gt;(0.00%)</td>\n",
       "    </tr>\n",
       "    <tr>\n",
       "      <th>6</th>\n",
       "      <td>Court_7</td>\n",
       "      <td>72</td>\n",
       "      <td>26</td>\n",
       "      <td>57190.0</td>\n",
       "      <td>98</td>\n",
       "      <td>7.0</td>\n",
       "      <td>123</td>\n",
       "      <td>25</td>\n",
       "      <td>25</td>\n",
       "      <td>0.796748</td>\n",
       "      <td>80.0</td>\n",
       "      <td>123</td>\n",
       "      <td>אולם 7</td>\n",
       "      <td>72 Tickets&lt;br&gt;(58.54%)</td>\n",
       "      <td>26 Tickets&lt;br&gt;(21.14%)</td>\n",
       "      <td>25 Tickets&lt;br&gt;(20.33%)</td>\n",
       "    </tr>\n",
       "    <tr>\n",
       "      <th>7</th>\n",
       "      <td>Court_8</td>\n",
       "      <td>157</td>\n",
       "      <td>39</td>\n",
       "      <td>307460.0</td>\n",
       "      <td>196</td>\n",
       "      <td>8.0</td>\n",
       "      <td>169</td>\n",
       "      <td>-27</td>\n",
       "      <td>0</td>\n",
       "      <td>1.000000</td>\n",
       "      <td>100.0</td>\n",
       "      <td>196</td>\n",
       "      <td>אולם 8</td>\n",
       "      <td>157 Tickets&lt;br&gt;(80.10%)</td>\n",
       "      <td>39 Tickets&lt;br&gt;(19.90%)</td>\n",
       "      <td>0 Tickets&lt;br&gt;(0.00%)</td>\n",
       "    </tr>\n",
       "    <tr>\n",
       "      <th>8</th>\n",
       "      <td>Court_9</td>\n",
       "      <td>99</td>\n",
       "      <td>12</td>\n",
       "      <td>778100.0</td>\n",
       "      <td>111</td>\n",
       "      <td>9.0</td>\n",
       "      <td>134</td>\n",
       "      <td>23</td>\n",
       "      <td>23</td>\n",
       "      <td>0.828358</td>\n",
       "      <td>83.0</td>\n",
       "      <td>134</td>\n",
       "      <td>אולם 9</td>\n",
       "      <td>99 Tickets&lt;br&gt;(73.88%)</td>\n",
       "      <td>12 Tickets&lt;br&gt;(8.96%)</td>\n",
       "      <td>23 Tickets&lt;br&gt;(17.16%)</td>\n",
       "    </tr>\n",
       "    <tr>\n",
       "      <th>9</th>\n",
       "      <td>Court_10</td>\n",
       "      <td>211</td>\n",
       "      <td>22</td>\n",
       "      <td>316030.0</td>\n",
       "      <td>233</td>\n",
       "      <td>10.0</td>\n",
       "      <td>212</td>\n",
       "      <td>-21</td>\n",
       "      <td>0</td>\n",
       "      <td>1.000000</td>\n",
       "      <td>100.0</td>\n",
       "      <td>233</td>\n",
       "      <td>אולם 10</td>\n",
       "      <td>211 Tickets&lt;br&gt;(90.56%)</td>\n",
       "      <td>22 Tickets&lt;br&gt;(9.44%)</td>\n",
       "      <td>0 Tickets&lt;br&gt;(0.00%)</td>\n",
       "    </tr>\n",
       "    <tr>\n",
       "      <th>10</th>\n",
       "      <td>Court_11</td>\n",
       "      <td>238</td>\n",
       "      <td>42</td>\n",
       "      <td>303264.0</td>\n",
       "      <td>280</td>\n",
       "      <td>11.0</td>\n",
       "      <td>265</td>\n",
       "      <td>-15</td>\n",
       "      <td>0</td>\n",
       "      <td>1.000000</td>\n",
       "      <td>100.0</td>\n",
       "      <td>280</td>\n",
       "      <td>אולם 11</td>\n",
       "      <td>238 Tickets&lt;br&gt;(85.00%)</td>\n",
       "      <td>42 Tickets&lt;br&gt;(15.00%)</td>\n",
       "      <td>0 Tickets&lt;br&gt;(0.00%)</td>\n",
       "    </tr>\n",
       "    <tr>\n",
       "      <th>11</th>\n",
       "      <td>Court_12</td>\n",
       "      <td>456</td>\n",
       "      <td>60</td>\n",
       "      <td>364914.0</td>\n",
       "      <td>516</td>\n",
       "      <td>12.0</td>\n",
       "      <td>483</td>\n",
       "      <td>-33</td>\n",
       "      <td>0</td>\n",
       "      <td>1.000000</td>\n",
       "      <td>100.0</td>\n",
       "      <td>516</td>\n",
       "      <td>12 אולם</td>\n",
       "      <td>456 Tickets&lt;br&gt;(88.37%)</td>\n",
       "      <td>60 Tickets&lt;br&gt;(11.63%)</td>\n",
       "      <td>0 Tickets&lt;br&gt;(0.00%)</td>\n",
       "    </tr>\n",
       "    <tr>\n",
       "      <th>12</th>\n",
       "      <td>Court_side_18</td>\n",
       "      <td>7</td>\n",
       "      <td>0</td>\n",
       "      <td>140000.0</td>\n",
       "      <td>7</td>\n",
       "      <td>26.0</td>\n",
       "      <td>9</td>\n",
       "      <td>2</td>\n",
       "      <td>2</td>\n",
       "      <td>0.777778</td>\n",
       "      <td>78.0</td>\n",
       "      <td>9</td>\n",
       "      <td>פרקט צפוני</td>\n",
       "      <td>7 Tickets&lt;br&gt;(77.78%)</td>\n",
       "      <td>0 Tickets&lt;br&gt;(0.00%)</td>\n",
       "      <td>2 Tickets&lt;br&gt;(22.22%)</td>\n",
       "    </tr>\n",
       "    <tr>\n",
       "      <th>13</th>\n",
       "      <td>אולם 1 עמידה</td>\n",
       "      <td>227</td>\n",
       "      <td>70</td>\n",
       "      <td>240576.5</td>\n",
       "      <td>297</td>\n",
       "      <td>NaN</td>\n",
       "      <td>381</td>\n",
       "      <td>84</td>\n",
       "      <td>84</td>\n",
       "      <td>0.779528</td>\n",
       "      <td>78.0</td>\n",
       "      <td>381</td>\n",
       "      <td>אולם 1 עמידה</td>\n",
       "      <td>227 Tickets&lt;br&gt;(59.58%)</td>\n",
       "      <td>70 Tickets&lt;br&gt;(18.37%)</td>\n",
       "      <td>84 Tickets&lt;br&gt;(22.05%)</td>\n",
       "    </tr>\n",
       "    <tr>\n",
       "      <th>14</th>\n",
       "      <td>פרקט מרכז</td>\n",
       "      <td>27</td>\n",
       "      <td>0</td>\n",
       "      <td>655000.0</td>\n",
       "      <td>27</td>\n",
       "      <td>NaN</td>\n",
       "      <td>32</td>\n",
       "      <td>5</td>\n",
       "      <td>5</td>\n",
       "      <td>0.843750</td>\n",
       "      <td>84.0</td>\n",
       "      <td>32</td>\n",
       "      <td>פרקט מרכז</td>\n",
       "      <td>27 Tickets&lt;br&gt;(84.38%)</td>\n",
       "      <td>0 Tickets&lt;br&gt;(0.00%)</td>\n",
       "      <td>5 Tickets&lt;br&gt;(15.62%)</td>\n",
       "    </tr>\n",
       "    <tr>\n",
       "      <th>15</th>\n",
       "      <td>תא צפיה 3</td>\n",
       "      <td>16</td>\n",
       "      <td>0</td>\n",
       "      <td>200000.0</td>\n",
       "      <td>16</td>\n",
       "      <td>NaN</td>\n",
       "      <td>16</td>\n",
       "      <td>0</td>\n",
       "      <td>0</td>\n",
       "      <td>1.000000</td>\n",
       "      <td>100.0</td>\n",
       "      <td>16</td>\n",
       "      <td>תא צפיה 3</td>\n",
       "      <td>16 Tickets&lt;br&gt;(100.00%)</td>\n",
       "      <td>0 Tickets&lt;br&gt;(0.00%)</td>\n",
       "      <td>0 Tickets&lt;br&gt;(0.00%)</td>\n",
       "    </tr>\n",
       "  </tbody>\n",
       "</table>\n",
       "</div>"
      ],
      "text/plain": [
       "             area  Season_Tickets_Renew  Season_Tickets_New  Total_Price  \\\n",
       "0        Court_1C                    56                   2      63470.0   \n",
       "1         Court_2                   270                  30     444615.0   \n",
       "2         Court_3                   269                  25     674881.8   \n",
       "3         Court_4                   155                  46     288260.0   \n",
       "4         Court_5                   172                  22     208064.0   \n",
       "5         Court_6                   321                 101     311595.5   \n",
       "6         Court_7                    72                  26      57190.0   \n",
       "7         Court_8                   157                  39     307460.0   \n",
       "8         Court_9                    99                  12     778100.0   \n",
       "9        Court_10                   211                  22     316030.0   \n",
       "10       Court_11                   238                  42     303264.0   \n",
       "11       Court_12                   456                  60     364914.0   \n",
       "12  Court_side_18                     7                   0     140000.0   \n",
       "13  אולם 1 עמידה                    227                  70     240576.5   \n",
       "14      פרקט מרכז                    27                   0     655000.0   \n",
       "15      תא צפיה 3                    16                   0     200000.0   \n",
       "\n",
       "    area_velocity  presentation_order  last_year_tickets  remaining_capacity  \\\n",
       "0              58                 1.0                 57                  -1   \n",
       "1             300                 2.0                278                 -22   \n",
       "2             294                 3.0                267                 -27   \n",
       "3             201                 4.0                200                  -1   \n",
       "4             194                 5.0                202                   8   \n",
       "5             422                 6.0                404                 -18   \n",
       "6              98                 7.0                123                  25   \n",
       "7             196                 8.0                169                 -27   \n",
       "8             111                 9.0                134                  23   \n",
       "9             233                10.0                212                 -21   \n",
       "10            280                11.0                265                 -15   \n",
       "11            516                12.0                483                 -33   \n",
       "12              7                26.0                  9                   2   \n",
       "13            297                 NaN                381                  84   \n",
       "14             27                 NaN                 32                   5   \n",
       "15             16                 NaN                 16                   0   \n",
       "\n",
       "    fixed_remaining_capacity  ratio_capacity  ratio_capacity_percent  \\\n",
       "0                          0        1.000000                   100.0   \n",
       "1                          0        1.000000                   100.0   \n",
       "2                          0        1.000000                   100.0   \n",
       "3                          0        1.000000                   100.0   \n",
       "4                          8        0.960396                    96.0   \n",
       "5                          0        1.000000                   100.0   \n",
       "6                         25        0.796748                    80.0   \n",
       "7                          0        1.000000                   100.0   \n",
       "8                         23        0.828358                    83.0   \n",
       "9                          0        1.000000                   100.0   \n",
       "10                         0        1.000000                   100.0   \n",
       "11                         0        1.000000                   100.0   \n",
       "12                         2        0.777778                    78.0   \n",
       "13                        84        0.779528                    78.0   \n",
       "14                         5        0.843750                    84.0   \n",
       "15                         0        1.000000                   100.0   \n",
       "\n",
       "    total_tickets        area_he Season_Tickets_Renew_hover_text  \\\n",
       "0              58             1C          56 Tickets<br>(96.55%)   \n",
       "1             300         אולם 2         270 Tickets<br>(90.00%)   \n",
       "2             294         אולם 3         269 Tickets<br>(91.50%)   \n",
       "3             201         אולם 4         155 Tickets<br>(77.11%)   \n",
       "4             202         אולם 5         172 Tickets<br>(85.15%)   \n",
       "5             422         אולם 6         321 Tickets<br>(76.07%)   \n",
       "6             123         אולם 7          72 Tickets<br>(58.54%)   \n",
       "7             196         אולם 8         157 Tickets<br>(80.10%)   \n",
       "8             134         אולם 9          99 Tickets<br>(73.88%)   \n",
       "9             233        אולם 10         211 Tickets<br>(90.56%)   \n",
       "10            280        אולם 11         238 Tickets<br>(85.00%)   \n",
       "11            516        12 אולם         456 Tickets<br>(88.37%)   \n",
       "12              9     פרקט צפוני           7 Tickets<br>(77.78%)   \n",
       "13            381  אולם 1 עמידה          227 Tickets<br>(59.58%)   \n",
       "14             32      פרקט מרכז          27 Tickets<br>(84.38%)   \n",
       "15             16      תא צפיה 3         16 Tickets<br>(100.00%)   \n",
       "\n",
       "   Season_Tickets_New_hover_text remaining_capacity_hover_text  \n",
       "0           2 Tickets<br>(3.45%)          0 Tickets<br>(0.00%)  \n",
       "1         30 Tickets<br>(10.00%)          0 Tickets<br>(0.00%)  \n",
       "2          25 Tickets<br>(8.50%)          0 Tickets<br>(0.00%)  \n",
       "3         46 Tickets<br>(22.89%)          0 Tickets<br>(0.00%)  \n",
       "4         22 Tickets<br>(10.89%)          8 Tickets<br>(3.96%)  \n",
       "5        101 Tickets<br>(23.93%)          0 Tickets<br>(0.00%)  \n",
       "6         26 Tickets<br>(21.14%)        25 Tickets<br>(20.33%)  \n",
       "7         39 Tickets<br>(19.90%)          0 Tickets<br>(0.00%)  \n",
       "8          12 Tickets<br>(8.96%)        23 Tickets<br>(17.16%)  \n",
       "9          22 Tickets<br>(9.44%)          0 Tickets<br>(0.00%)  \n",
       "10        42 Tickets<br>(15.00%)          0 Tickets<br>(0.00%)  \n",
       "11        60 Tickets<br>(11.63%)          0 Tickets<br>(0.00%)  \n",
       "12          0 Tickets<br>(0.00%)         2 Tickets<br>(22.22%)  \n",
       "13        70 Tickets<br>(18.37%)        84 Tickets<br>(22.05%)  \n",
       "14          0 Tickets<br>(0.00%)         5 Tickets<br>(15.62%)  \n",
       "15          0 Tickets<br>(0.00%)          0 Tickets<br>(0.00%)  "
      ]
     },
     "execution_count": 5,
     "metadata": {},
     "output_type": "execute_result"
    }
   ],
   "source": [
    "def distributed_by_area(perc, presentation_order, st_2425, area_mapper):\n",
    "    # SMALL CHANGE WITHOUT GALLERIES\n",
    "    perc = perc[~perc['area'].isin(['גלריה 2', 'גלריה 6', 'Gallery_12'])]\n",
    "    st_2425 = st_2425[~st_2425['area'].isin(['גלריה 2', 'גלריה 6', 'Gallery_12'])]\n",
    "\n",
    "    # Prepare last year tickets\n",
    "    last_year_tickets = (\n",
    "        st_2425[st_2425['price'] > 0]\n",
    "        .groupby('area')\n",
    "        .size()\n",
    "        .reset_index(name='last_year_tickets')\n",
    "    )\n",
    "\n",
    "    # Mark renewals\n",
    "    perc['is_renew'] = perc['client_number'].isin(st_2425['client_number'])\n",
    "\n",
    "    # Mark new members\n",
    "    perc['is_new'] = ~perc['is_renew']\n",
    "\n",
    "    stats_by_Court = (\n",
    "        perc.groupby('area')\n",
    "            .agg(\n",
    "                Season_Tickets_Renew=('is_renew', 'sum'),\n",
    "                Season_Tickets_New=('is_new', 'sum'),\n",
    "                Total_Price=('price', 'sum')\n",
    "            )\n",
    "            .reset_index()\n",
    "    )\n",
    "\n",
    "    stats_by_Court['area_velocity'] = stats_by_Court[['Season_Tickets_Renew', 'Season_Tickets_New']].sum(axis=1)\n",
    "    stats_by_Court['presentation_order'] = stats_by_Court['area'].map(presentation_order)\n",
    "    stats_by_Court = stats_by_Court.sort_values(by='presentation_order')\n",
    "\n",
    "    # CHANGED FROM LEFT TO INNER JOIN\n",
    "    stats_by_Court = stats_by_Court.merge(last_year_tickets, on='area', how='inner')\n",
    "    stats_by_Court = stats_by_Court[stats_by_Court['area_velocity'] > 0]\n",
    "\n",
    "    stats_by_Court['remaining_capacity'] = stats_by_Court['last_year_tickets'] - stats_by_Court['area_velocity']\n",
    "    stats_by_Court['fixed_remaining_capacity'] = np.maximum(stats_by_Court['remaining_capacity'], 0)\n",
    "    stats_by_Court['ratio_capacity'] = stats_by_Court['area_velocity'] / stats_by_Court['last_year_tickets']\n",
    "    stats_by_Court['ratio_capacity'] = np.minimum(stats_by_Court['ratio_capacity'], 1).fillna(1)\n",
    "    stats_by_Court['ratio_capacity_percent'] = (stats_by_Court['ratio_capacity'] * 100).round().fillna(0)\n",
    "\n",
    "    stats_by_Court['total_tickets'] = stats_by_Court['area_velocity'] + stats_by_Court['fixed_remaining_capacity']\n",
    "\n",
    "    # Map area names back to Hebrew for plot\n",
    "    reverse_area_mapper = {v: k for k, v in area_mapper.items()}\n",
    "    stats_by_Court['area_he'] = stats_by_Court['area'].map(reverse_area_mapper).fillna(stats_by_Court['area'])\n",
    "\n",
    "    # Override specific values\n",
    "    stats_by_Court.loc[stats_by_Court['area'] == 'Court_1S', 'area_he'] = 'אולם 1 עמידה'\n",
    "    stats_by_Court.loc[stats_by_Court['area'] == 'Court_1C', 'area_he'] = '1C'\n",
    "\n",
    "    # Hover texts\n",
    "    stats_by_Court['Season_Tickets_Renew_hover_text'] = stats_by_Court.apply(lambda x: f\"{x['Season_Tickets_Renew']} Tickets<br>({x['Season_Tickets_Renew']/x['total_tickets']:.2%})\", axis=1)\n",
    "    stats_by_Court['Season_Tickets_New_hover_text'] = stats_by_Court.apply(lambda x: f\"{x['Season_Tickets_New']} Tickets<br>({x['Season_Tickets_New']/x['total_tickets']:.2%})\", axis=1)\n",
    "    stats_by_Court['remaining_capacity_hover_text'] = stats_by_Court.apply(lambda x: f\"{x['fixed_remaining_capacity']} Tickets<br>({x['fixed_remaining_capacity']/x['total_tickets']:.2%})\", axis=1)\n",
    "\n",
    "    # Plot\n",
    "    fig = go.Figure()\n",
    "\n",
    "    fig.add_trace(go.Bar(\n",
    "        x=stats_by_Court['area_he'],\n",
    "        y=stats_by_Court['Season_Tickets_Renew'],\n",
    "        name='Renewals',\n",
    "        marker_color='red',\n",
    "        hovertext=stats_by_Court['Season_Tickets_Renew_hover_text'],\n",
    "        hoverinfo='text'\n",
    "    ))\n",
    "\n",
    "    fig.add_trace(go.Bar(\n",
    "        x=stats_by_Court['area_he'],\n",
    "        y=stats_by_Court['Season_Tickets_New'],\n",
    "        name='New',\n",
    "        marker_color='tomato',\n",
    "        hovertext=stats_by_Court['Season_Tickets_New_hover_text'],\n",
    "        hoverinfo='text'\n",
    "    ))\n",
    "\n",
    "    fig.add_trace(go.Bar(\n",
    "        x=stats_by_Court['area_he'],\n",
    "        y=stats_by_Court['fixed_remaining_capacity'],\n",
    "        name='Remaining Capacity',\n",
    "        marker_color='grey',\n",
    "        base=stats_by_Court['area_velocity'],\n",
    "        hovertext=stats_by_Court['remaining_capacity_hover_text'],\n",
    "        hoverinfo='text'\n",
    "    ))\n",
    "\n",
    "    fig.update_layout(\n",
    "        title=dict(text='Season Ticket Distribution by Section', font=dict(size=16)),\n",
    "        xaxis=dict(title='', tickangle=45, title_font=dict(size=14), tickfont=dict(size=10), constrain='domain'),\n",
    "        yaxis=dict(title='Tickets', title_font=dict(size=14), tickfont=dict(size=12), range=[0, None]),\n",
    "        barmode='stack',\n",
    "        bargap=0.3,\n",
    "        legend=dict(\n",
    "            x=0.02,  # near the left\n",
    "            y=0.99,  # top\n",
    "            bordercolor=\"Black\",\n",
    "            borderwidth=1,\n",
    "            font=dict(size=10)\n",
    "        ),\n",
    "        margin=dict(l=20, r=20, t=40, b=80),\n",
    "        width=1200,\n",
    "        height=600,\n",
    "        plot_bgcolor='white',\n",
    "        paper_bgcolor='white',\n",
    "        title_x=0.25\n",
    "    )\n",
    "\n",
    "    # % sold annotations\n",
    "    for area_he, pct, y1, y2 in zip(stats_by_Court['area_he'], stats_by_Court['ratio_capacity_percent'],\n",
    "                                    stats_by_Court['Season_Tickets_Renew'], stats_by_Court['Season_Tickets_New']):\n",
    "        total_height = y1 + y2\n",
    "        fig.add_annotation(\n",
    "            x=area_he,\n",
    "            y=total_height + 20,\n",
    "            text=f\"{int(pct)}%\",\n",
    "            showarrow=False,\n",
    "            font=dict(size=12, color=\"black\"),\n",
    "            align='center'\n",
    "        )\n",
    "\n",
    "    # ₪ revenue annotations\n",
    "    for area_he, revenue in zip(stats_by_Court['area_he'], stats_by_Court['Total_Price']):\n",
    "        fig.add_annotation(\n",
    "            x=area_he,\n",
    "            y=0,\n",
    "            text=f\"₪{int(revenue):,}\",\n",
    "            showarrow=False,\n",
    "            yshift=-30,\n",
    "            font=dict(size=12, color=\"blue\"),\n",
    "            textangle=45\n",
    "        )\n",
    "\n",
    "    fig.add_annotation(\n",
    "        text=\"Percentages represent total sold / total from last year<br>Gray reference total capacity of each section\",\n",
    "        xref=\"paper\", yref=\"paper\", x=0.5, y=-0.2,\n",
    "        showarrow=False, font=dict(size=14, color=\"grey\"), align=\"center\"\n",
    "    )\n",
    "\n",
    "    fig.show()\n",
    "\n",
    "    return stats_by_Court\n",
    "\n",
    "# Example usage\n",
    "distributed_by_area(perc, presentation_order, st_2425, area_mapper)\n"
   ]
  },
  {
   "cell_type": "code",
   "execution_count": 6,
   "id": "d9154518",
   "metadata": {},
   "outputs": [
    {
     "data": {
      "application/vnd.plotly.v1+json": {
       "config": {
        "plotlyServerURL": "https://plot.ly"
       },
       "data": [
        {
         "marker": {
          "color": "firebrick"
         },
         "name": "Daily Sales",
         "text": [
          "985",
          "279",
          "119",
          "519",
          "140",
          "81",
          "3",
          "1",
          "2",
          "8",
          "27",
          "5",
          "33",
          "23",
          "2",
          "2",
          "38",
          "31",
          "29",
          "21",
          "23",
          "6",
          "19",
          "12",
          "20",
          "22",
          "27",
          "11",
          "1",
          "17",
          "22",
          "9",
          "69",
          "16",
          "1",
          "21",
          "18",
          "14",
          "66",
          "108",
          "4",
          "5",
          "35",
          "17",
          "27",
          "24",
          "14",
          "2",
          "8",
          "56",
          "42",
          "27",
          "49",
          "1",
          "16",
          "9",
          "21",
          "5",
          "1",
          "21",
          "8",
          "22",
          "3",
          "11"
         ],
         "textfont": {
          "size": 12
         },
         "textposition": "outside",
         "type": "bar",
         "x": [
          "2025-06-05",
          "2025-06-06",
          "2025-06-07",
          "2025-06-08",
          "2025-06-09",
          "2025-06-10",
          "2025-06-11",
          "2025-06-12",
          "2025-06-19",
          "2025-06-22",
          "2025-06-23",
          "2025-06-24",
          "2025-06-25",
          "2025-06-26",
          "2025-06-27",
          "2025-06-28",
          "2025-06-29",
          "2025-06-30",
          "2025-07-01",
          "2025-07-02",
          "2025-07-03",
          "2025-07-04",
          "2025-07-06",
          "2025-07-07",
          "2025-07-08",
          "2025-07-09",
          "2025-07-10",
          "2025-07-11",
          "2025-07-12",
          "2025-07-13",
          "2025-07-14",
          "2025-07-15",
          "2025-07-16",
          "2025-07-17",
          "2025-07-19",
          "2025-07-20",
          "2025-07-21",
          "2025-07-22",
          "2025-07-23",
          "2025-07-24",
          "2025-07-25",
          "2025-07-26",
          "2025-07-27",
          "2025-07-28",
          "2025-07-29",
          "2025-07-30",
          "2025-07-31",
          "2025-08-02",
          "2025-08-03",
          "2025-08-04",
          "2025-08-05",
          "2025-08-06",
          "2025-08-07",
          "2025-08-08",
          "2025-08-10",
          "2025-08-11",
          "2025-08-12",
          "2025-08-13",
          "2025-08-14",
          "2025-08-17",
          "2025-08-18",
          "2025-08-19",
          "2025-08-20",
          "2025-08-21"
         ],
         "y": [
          985,
          279,
          119,
          519,
          140,
          81,
          3,
          1,
          2,
          8,
          27,
          5,
          33,
          23,
          2,
          2,
          38,
          31,
          29,
          21,
          23,
          6,
          19,
          12,
          20,
          22,
          27,
          11,
          1,
          17,
          22,
          9,
          69,
          16,
          1,
          21,
          18,
          14,
          66,
          108,
          4,
          5,
          35,
          17,
          27,
          24,
          14,
          2,
          8,
          56,
          42,
          27,
          49,
          1,
          16,
          9,
          21,
          5,
          1,
          21,
          8,
          22,
          3,
          11
         ]
        }
       ],
       "layout": {
        "bargap": 0.1,
        "height": 750,
        "margin": {
         "b": 120,
         "l": 60,
         "r": 60,
         "t": 90
        },
        "paper_bgcolor": "white",
        "plot_bgcolor": "white",
        "showlegend": false,
        "template": {
         "data": {
          "bar": [
           {
            "error_x": {
             "color": "#2a3f5f"
            },
            "error_y": {
             "color": "#2a3f5f"
            },
            "marker": {
             "line": {
              "color": "#E5ECF6",
              "width": 0.5
             },
             "pattern": {
              "fillmode": "overlay",
              "size": 10,
              "solidity": 0.2
             }
            },
            "type": "bar"
           }
          ],
          "barpolar": [
           {
            "marker": {
             "line": {
              "color": "#E5ECF6",
              "width": 0.5
             },
             "pattern": {
              "fillmode": "overlay",
              "size": 10,
              "solidity": 0.2
             }
            },
            "type": "barpolar"
           }
          ],
          "carpet": [
           {
            "aaxis": {
             "endlinecolor": "#2a3f5f",
             "gridcolor": "white",
             "linecolor": "white",
             "minorgridcolor": "white",
             "startlinecolor": "#2a3f5f"
            },
            "baxis": {
             "endlinecolor": "#2a3f5f",
             "gridcolor": "white",
             "linecolor": "white",
             "minorgridcolor": "white",
             "startlinecolor": "#2a3f5f"
            },
            "type": "carpet"
           }
          ],
          "choropleth": [
           {
            "colorbar": {
             "outlinewidth": 0,
             "ticks": ""
            },
            "type": "choropleth"
           }
          ],
          "contour": [
           {
            "colorbar": {
             "outlinewidth": 0,
             "ticks": ""
            },
            "colorscale": [
             [
              0,
              "#0d0887"
             ],
             [
              0.1111111111111111,
              "#46039f"
             ],
             [
              0.2222222222222222,
              "#7201a8"
             ],
             [
              0.3333333333333333,
              "#9c179e"
             ],
             [
              0.4444444444444444,
              "#bd3786"
             ],
             [
              0.5555555555555556,
              "#d8576b"
             ],
             [
              0.6666666666666666,
              "#ed7953"
             ],
             [
              0.7777777777777778,
              "#fb9f3a"
             ],
             [
              0.8888888888888888,
              "#fdca26"
             ],
             [
              1,
              "#f0f921"
             ]
            ],
            "type": "contour"
           }
          ],
          "contourcarpet": [
           {
            "colorbar": {
             "outlinewidth": 0,
             "ticks": ""
            },
            "type": "contourcarpet"
           }
          ],
          "heatmap": [
           {
            "colorbar": {
             "outlinewidth": 0,
             "ticks": ""
            },
            "colorscale": [
             [
              0,
              "#0d0887"
             ],
             [
              0.1111111111111111,
              "#46039f"
             ],
             [
              0.2222222222222222,
              "#7201a8"
             ],
             [
              0.3333333333333333,
              "#9c179e"
             ],
             [
              0.4444444444444444,
              "#bd3786"
             ],
             [
              0.5555555555555556,
              "#d8576b"
             ],
             [
              0.6666666666666666,
              "#ed7953"
             ],
             [
              0.7777777777777778,
              "#fb9f3a"
             ],
             [
              0.8888888888888888,
              "#fdca26"
             ],
             [
              1,
              "#f0f921"
             ]
            ],
            "type": "heatmap"
           }
          ],
          "heatmapgl": [
           {
            "colorbar": {
             "outlinewidth": 0,
             "ticks": ""
            },
            "colorscale": [
             [
              0,
              "#0d0887"
             ],
             [
              0.1111111111111111,
              "#46039f"
             ],
             [
              0.2222222222222222,
              "#7201a8"
             ],
             [
              0.3333333333333333,
              "#9c179e"
             ],
             [
              0.4444444444444444,
              "#bd3786"
             ],
             [
              0.5555555555555556,
              "#d8576b"
             ],
             [
              0.6666666666666666,
              "#ed7953"
             ],
             [
              0.7777777777777778,
              "#fb9f3a"
             ],
             [
              0.8888888888888888,
              "#fdca26"
             ],
             [
              1,
              "#f0f921"
             ]
            ],
            "type": "heatmapgl"
           }
          ],
          "histogram": [
           {
            "marker": {
             "pattern": {
              "fillmode": "overlay",
              "size": 10,
              "solidity": 0.2
             }
            },
            "type": "histogram"
           }
          ],
          "histogram2d": [
           {
            "colorbar": {
             "outlinewidth": 0,
             "ticks": ""
            },
            "colorscale": [
             [
              0,
              "#0d0887"
             ],
             [
              0.1111111111111111,
              "#46039f"
             ],
             [
              0.2222222222222222,
              "#7201a8"
             ],
             [
              0.3333333333333333,
              "#9c179e"
             ],
             [
              0.4444444444444444,
              "#bd3786"
             ],
             [
              0.5555555555555556,
              "#d8576b"
             ],
             [
              0.6666666666666666,
              "#ed7953"
             ],
             [
              0.7777777777777778,
              "#fb9f3a"
             ],
             [
              0.8888888888888888,
              "#fdca26"
             ],
             [
              1,
              "#f0f921"
             ]
            ],
            "type": "histogram2d"
           }
          ],
          "histogram2dcontour": [
           {
            "colorbar": {
             "outlinewidth": 0,
             "ticks": ""
            },
            "colorscale": [
             [
              0,
              "#0d0887"
             ],
             [
              0.1111111111111111,
              "#46039f"
             ],
             [
              0.2222222222222222,
              "#7201a8"
             ],
             [
              0.3333333333333333,
              "#9c179e"
             ],
             [
              0.4444444444444444,
              "#bd3786"
             ],
             [
              0.5555555555555556,
              "#d8576b"
             ],
             [
              0.6666666666666666,
              "#ed7953"
             ],
             [
              0.7777777777777778,
              "#fb9f3a"
             ],
             [
              0.8888888888888888,
              "#fdca26"
             ],
             [
              1,
              "#f0f921"
             ]
            ],
            "type": "histogram2dcontour"
           }
          ],
          "mesh3d": [
           {
            "colorbar": {
             "outlinewidth": 0,
             "ticks": ""
            },
            "type": "mesh3d"
           }
          ],
          "parcoords": [
           {
            "line": {
             "colorbar": {
              "outlinewidth": 0,
              "ticks": ""
             }
            },
            "type": "parcoords"
           }
          ],
          "pie": [
           {
            "automargin": true,
            "type": "pie"
           }
          ],
          "scatter": [
           {
            "fillpattern": {
             "fillmode": "overlay",
             "size": 10,
             "solidity": 0.2
            },
            "type": "scatter"
           }
          ],
          "scatter3d": [
           {
            "line": {
             "colorbar": {
              "outlinewidth": 0,
              "ticks": ""
             }
            },
            "marker": {
             "colorbar": {
              "outlinewidth": 0,
              "ticks": ""
             }
            },
            "type": "scatter3d"
           }
          ],
          "scattercarpet": [
           {
            "marker": {
             "colorbar": {
              "outlinewidth": 0,
              "ticks": ""
             }
            },
            "type": "scattercarpet"
           }
          ],
          "scattergeo": [
           {
            "marker": {
             "colorbar": {
              "outlinewidth": 0,
              "ticks": ""
             }
            },
            "type": "scattergeo"
           }
          ],
          "scattergl": [
           {
            "marker": {
             "colorbar": {
              "outlinewidth": 0,
              "ticks": ""
             }
            },
            "type": "scattergl"
           }
          ],
          "scattermapbox": [
           {
            "marker": {
             "colorbar": {
              "outlinewidth": 0,
              "ticks": ""
             }
            },
            "type": "scattermapbox"
           }
          ],
          "scatterpolar": [
           {
            "marker": {
             "colorbar": {
              "outlinewidth": 0,
              "ticks": ""
             }
            },
            "type": "scatterpolar"
           }
          ],
          "scatterpolargl": [
           {
            "marker": {
             "colorbar": {
              "outlinewidth": 0,
              "ticks": ""
             }
            },
            "type": "scatterpolargl"
           }
          ],
          "scatterternary": [
           {
            "marker": {
             "colorbar": {
              "outlinewidth": 0,
              "ticks": ""
             }
            },
            "type": "scatterternary"
           }
          ],
          "surface": [
           {
            "colorbar": {
             "outlinewidth": 0,
             "ticks": ""
            },
            "colorscale": [
             [
              0,
              "#0d0887"
             ],
             [
              0.1111111111111111,
              "#46039f"
             ],
             [
              0.2222222222222222,
              "#7201a8"
             ],
             [
              0.3333333333333333,
              "#9c179e"
             ],
             [
              0.4444444444444444,
              "#bd3786"
             ],
             [
              0.5555555555555556,
              "#d8576b"
             ],
             [
              0.6666666666666666,
              "#ed7953"
             ],
             [
              0.7777777777777778,
              "#fb9f3a"
             ],
             [
              0.8888888888888888,
              "#fdca26"
             ],
             [
              1,
              "#f0f921"
             ]
            ],
            "type": "surface"
           }
          ],
          "table": [
           {
            "cells": {
             "fill": {
              "color": "#EBF0F8"
             },
             "line": {
              "color": "white"
             }
            },
            "header": {
             "fill": {
              "color": "#C8D4E3"
             },
             "line": {
              "color": "white"
             }
            },
            "type": "table"
           }
          ]
         },
         "layout": {
          "annotationdefaults": {
           "arrowcolor": "#2a3f5f",
           "arrowhead": 0,
           "arrowwidth": 1
          },
          "autotypenumbers": "strict",
          "coloraxis": {
           "colorbar": {
            "outlinewidth": 0,
            "ticks": ""
           }
          },
          "colorscale": {
           "diverging": [
            [
             0,
             "#8e0152"
            ],
            [
             0.1,
             "#c51b7d"
            ],
            [
             0.2,
             "#de77ae"
            ],
            [
             0.3,
             "#f1b6da"
            ],
            [
             0.4,
             "#fde0ef"
            ],
            [
             0.5,
             "#f7f7f7"
            ],
            [
             0.6,
             "#e6f5d0"
            ],
            [
             0.7,
             "#b8e186"
            ],
            [
             0.8,
             "#7fbc41"
            ],
            [
             0.9,
             "#4d9221"
            ],
            [
             1,
             "#276419"
            ]
           ],
           "sequential": [
            [
             0,
             "#0d0887"
            ],
            [
             0.1111111111111111,
             "#46039f"
            ],
            [
             0.2222222222222222,
             "#7201a8"
            ],
            [
             0.3333333333333333,
             "#9c179e"
            ],
            [
             0.4444444444444444,
             "#bd3786"
            ],
            [
             0.5555555555555556,
             "#d8576b"
            ],
            [
             0.6666666666666666,
             "#ed7953"
            ],
            [
             0.7777777777777778,
             "#fb9f3a"
            ],
            [
             0.8888888888888888,
             "#fdca26"
            ],
            [
             1,
             "#f0f921"
            ]
           ],
           "sequentialminus": [
            [
             0,
             "#0d0887"
            ],
            [
             0.1111111111111111,
             "#46039f"
            ],
            [
             0.2222222222222222,
             "#7201a8"
            ],
            [
             0.3333333333333333,
             "#9c179e"
            ],
            [
             0.4444444444444444,
             "#bd3786"
            ],
            [
             0.5555555555555556,
             "#d8576b"
            ],
            [
             0.6666666666666666,
             "#ed7953"
            ],
            [
             0.7777777777777778,
             "#fb9f3a"
            ],
            [
             0.8888888888888888,
             "#fdca26"
            ],
            [
             1,
             "#f0f921"
            ]
           ]
          },
          "colorway": [
           "#636efa",
           "#EF553B",
           "#00cc96",
           "#ab63fa",
           "#FFA15A",
           "#19d3f3",
           "#FF6692",
           "#B6E880",
           "#FF97FF",
           "#FECB52"
          ],
          "font": {
           "color": "#2a3f5f"
          },
          "geo": {
           "bgcolor": "white",
           "lakecolor": "white",
           "landcolor": "#E5ECF6",
           "showlakes": true,
           "showland": true,
           "subunitcolor": "white"
          },
          "hoverlabel": {
           "align": "left"
          },
          "hovermode": "closest",
          "mapbox": {
           "style": "light"
          },
          "paper_bgcolor": "white",
          "plot_bgcolor": "#E5ECF6",
          "polar": {
           "angularaxis": {
            "gridcolor": "white",
            "linecolor": "white",
            "ticks": ""
           },
           "bgcolor": "#E5ECF6",
           "radialaxis": {
            "gridcolor": "white",
            "linecolor": "white",
            "ticks": ""
           }
          },
          "scene": {
           "xaxis": {
            "backgroundcolor": "#E5ECF6",
            "gridcolor": "white",
            "gridwidth": 2,
            "linecolor": "white",
            "showbackground": true,
            "ticks": "",
            "zerolinecolor": "white"
           },
           "yaxis": {
            "backgroundcolor": "#E5ECF6",
            "gridcolor": "white",
            "gridwidth": 2,
            "linecolor": "white",
            "showbackground": true,
            "ticks": "",
            "zerolinecolor": "white"
           },
           "zaxis": {
            "backgroundcolor": "#E5ECF6",
            "gridcolor": "white",
            "gridwidth": 2,
            "linecolor": "white",
            "showbackground": true,
            "ticks": "",
            "zerolinecolor": "white"
           }
          },
          "shapedefaults": {
           "line": {
            "color": "#2a3f5f"
           }
          },
          "ternary": {
           "aaxis": {
            "gridcolor": "white",
            "linecolor": "white",
            "ticks": ""
           },
           "baxis": {
            "gridcolor": "white",
            "linecolor": "white",
            "ticks": ""
           },
           "bgcolor": "#E5ECF6",
           "caxis": {
            "gridcolor": "white",
            "linecolor": "white",
            "ticks": ""
           }
          },
          "title": {
           "x": 0.05
          },
          "xaxis": {
           "automargin": true,
           "gridcolor": "white",
           "linecolor": "white",
           "ticks": "",
           "title": {
            "standoff": 15
           },
           "zerolinecolor": "white",
           "zerolinewidth": 2
          },
          "yaxis": {
           "automargin": true,
           "gridcolor": "white",
           "linecolor": "white",
           "ticks": "",
           "title": {
            "standoff": 15
           },
           "zerolinecolor": "white",
           "zerolinewidth": 2
          }
         }
        },
        "title": {
         "font": {
          "size": 20
         },
         "text": "Daily Season Tickets Sold",
         "x": 0.5
        },
        "width": 1400,
        "xaxis": {
         "tickangle": 45,
         "tickfont": {
          "size": 12
         },
         "tickmode": "array",
         "ticktext": [
          "2025-06-05",
          "2025-06-06",
          "2025-06-07",
          "2025-06-08",
          "2025-06-09",
          "2025-06-10",
          "2025-06-11",
          "2025-06-12",
          "2025-06-19",
          "2025-06-22",
          "2025-06-23",
          "2025-06-24",
          "2025-06-25",
          "2025-06-26",
          "2025-06-27",
          "2025-06-28",
          "2025-06-29",
          "2025-06-30",
          "2025-07-01",
          "2025-07-02",
          "2025-07-03",
          "2025-07-04",
          "2025-07-06",
          "2025-07-07",
          "2025-07-08",
          "2025-07-09",
          "2025-07-10",
          "2025-07-11",
          "2025-07-12",
          "2025-07-13",
          "2025-07-14",
          "2025-07-15",
          "2025-07-16",
          "2025-07-17",
          "2025-07-19",
          "2025-07-20",
          "2025-07-21",
          "2025-07-22",
          "2025-07-23",
          "2025-07-24",
          "2025-07-25",
          "2025-07-26",
          "2025-07-27",
          "2025-07-28",
          "2025-07-29",
          "2025-07-30",
          "2025-07-31",
          "2025-08-02",
          "2025-08-03",
          "2025-08-04",
          "2025-08-05",
          "2025-08-06",
          "2025-08-07",
          "2025-08-08",
          "2025-08-10",
          "2025-08-11",
          "2025-08-12",
          "2025-08-13",
          "2025-08-14",
          "2025-08-17",
          "2025-08-18",
          "2025-08-19",
          "2025-08-20",
          "2025-08-21"
         ],
         "tickvals": [
          "2025-06-05",
          "2025-06-06",
          "2025-06-07",
          "2025-06-08",
          "2025-06-09",
          "2025-06-10",
          "2025-06-11",
          "2025-06-12",
          "2025-06-19",
          "2025-06-22",
          "2025-06-23",
          "2025-06-24",
          "2025-06-25",
          "2025-06-26",
          "2025-06-27",
          "2025-06-28",
          "2025-06-29",
          "2025-06-30",
          "2025-07-01",
          "2025-07-02",
          "2025-07-03",
          "2025-07-04",
          "2025-07-06",
          "2025-07-07",
          "2025-07-08",
          "2025-07-09",
          "2025-07-10",
          "2025-07-11",
          "2025-07-12",
          "2025-07-13",
          "2025-07-14",
          "2025-07-15",
          "2025-07-16",
          "2025-07-17",
          "2025-07-19",
          "2025-07-20",
          "2025-07-21",
          "2025-07-22",
          "2025-07-23",
          "2025-07-24",
          "2025-07-25",
          "2025-07-26",
          "2025-07-27",
          "2025-07-28",
          "2025-07-29",
          "2025-07-30",
          "2025-07-31",
          "2025-08-02",
          "2025-08-03",
          "2025-08-04",
          "2025-08-05",
          "2025-08-06",
          "2025-08-07",
          "2025-08-08",
          "2025-08-10",
          "2025-08-11",
          "2025-08-12",
          "2025-08-13",
          "2025-08-14",
          "2025-08-17",
          "2025-08-18",
          "2025-08-19",
          "2025-08-20",
          "2025-08-21"
         ],
         "title": {
          "text": "Date"
         },
         "type": "category"
        },
        "yaxis": {
         "gridcolor": "lightgrey",
         "griddash": "dot",
         "tickfont": {
          "size": 14
         },
         "title": {
          "text": "Sales"
         }
        }
       }
      }
     },
     "metadata": {},
     "output_type": "display_data"
    }
   ],
   "source": [
    "def plot_daily_sales_plotly(df, date_column, font_size=12, y_shift=8):\n",
    "    df = df.copy()\n",
    "\n",
    "    # Ensure datetime only if not already\n",
    "    if not pd.api.types.is_datetime64_any_dtype(df[date_column]):\n",
    "        df[date_column] = pd.to_datetime(df[date_column], errors='coerce')\n",
    "\n",
    "    # Filter dates >= 2025-06-05\n",
    "    df = df[df[date_column] >= pd.to_datetime(\"2025-06-05\")]\n",
    "\n",
    "    # Group by date only (not full datetime)\n",
    "    df['date_only'] = df[date_column].dt.date\n",
    "\n",
    "    grouped = (\n",
    "        df.groupby('date_only')\n",
    "        .size()\n",
    "        .reset_index(name=\"Total_Sales\")\n",
    "        .sort_values('date_only')\n",
    "    )\n",
    "\n",
    "    # Convert date_only to string format for x-axis\n",
    "    grouped['period_label'] = grouped['date_only'].astype(str)\n",
    "\n",
    "    # Plotly figure\n",
    "    fig = go.Figure()\n",
    "\n",
    "    # Bar chart\n",
    "    fig.add_trace(go.Bar(\n",
    "        x=grouped['period_label'],\n",
    "        y=grouped['Total_Sales'],\n",
    "        name='Daily Sales',\n",
    "        marker_color='firebrick',\n",
    "        text=[f\"{val:,}\" for val in grouped['Total_Sales']],  # Pre-create formatted text\n",
    "        textposition='outside',\n",
    "        textfont=dict(size=font_size)\n",
    "    ))\n",
    "\n",
    "    # Layout\n",
    "    fig.update_layout(\n",
    "        title=dict(\n",
    "            text='Daily Season Tickets Sold',\n",
    "            font=dict(size=20),\n",
    "            x=0.5\n",
    "        ),\n",
    "        xaxis=dict(\n",
    "            title='Date',\n",
    "            tickmode='array',\n",
    "            tickvals=grouped['period_label'],\n",
    "            ticktext=grouped['period_label'],\n",
    "            tickangle=45,\n",
    "            tickfont=dict(size=12),\n",
    "            type='category'  # 👈 Force categorical spacing\n",
    "        ),\n",
    "        yaxis=dict(\n",
    "            title='Sales',\n",
    "            tickfont=dict(size=14),\n",
    "            gridcolor='lightgrey',\n",
    "            griddash='dot'\n",
    "        ),\n",
    "        bargap=0.1,\n",
    "        height=750,\n",
    "        width=1400,\n",
    "        margin=dict(l=60, r=60, t=90, b=120),\n",
    "        plot_bgcolor='white',\n",
    "        paper_bgcolor='white',\n",
    "        showlegend=False\n",
    "    )\n",
    "\n",
    "    fig.show()\n",
    "\n",
    "# Call\n",
    "plot_daily_sales_plotly(perc, date_column='sale_date', font_size=12, y_shift=10)"
   ]
  },
  {
   "cell_type": "code",
   "execution_count": 7,
   "id": "777ea86b-16d8-4045-a21d-c9735ab1a7f5",
   "metadata": {},
   "outputs": [
    {
     "data": {
      "application/vnd.plotly.v1+json": {
       "config": {
        "plotlyServerURL": "https://plot.ly"
       },
       "data": [
        {
         "marker": {
          "color": "firebrick"
         },
         "name": "Cumulative Sales",
         "text": [
          "2,042",
          "2,127",
          "2,164",
          "2,298",
          "2,408",
          "2,528",
          "2,662",
          "2,911",
          "3,042",
          "3,186",
          "3,242",
          "3,278"
         ],
         "textfont": {
          "size": 12
         },
         "textposition": "outside",
         "type": "bar",
         "x": [
          "2025-06-03",
          "2025-06-10",
          "2025-06-17",
          "2025-06-24",
          "2025-07-01",
          "2025-07-08",
          "2025-07-15",
          "2025-07-22",
          "2025-07-29",
          "2025-08-05",
          "2025-08-12",
          "2025-08-19"
         ],
         "y": [
          2042,
          2127,
          2164,
          2298,
          2408,
          2528,
          2662,
          2911,
          3042,
          3186,
          3242,
          3278
         ]
        }
       ],
       "layout": {
        "bargap": 0.1,
        "height": 750,
        "margin": {
         "b": 120,
         "l": 60,
         "r": 60,
         "t": 90
        },
        "paper_bgcolor": "white",
        "plot_bgcolor": "white",
        "showlegend": false,
        "template": {
         "data": {
          "bar": [
           {
            "error_x": {
             "color": "#2a3f5f"
            },
            "error_y": {
             "color": "#2a3f5f"
            },
            "marker": {
             "line": {
              "color": "#E5ECF6",
              "width": 0.5
             },
             "pattern": {
              "fillmode": "overlay",
              "size": 10,
              "solidity": 0.2
             }
            },
            "type": "bar"
           }
          ],
          "barpolar": [
           {
            "marker": {
             "line": {
              "color": "#E5ECF6",
              "width": 0.5
             },
             "pattern": {
              "fillmode": "overlay",
              "size": 10,
              "solidity": 0.2
             }
            },
            "type": "barpolar"
           }
          ],
          "carpet": [
           {
            "aaxis": {
             "endlinecolor": "#2a3f5f",
             "gridcolor": "white",
             "linecolor": "white",
             "minorgridcolor": "white",
             "startlinecolor": "#2a3f5f"
            },
            "baxis": {
             "endlinecolor": "#2a3f5f",
             "gridcolor": "white",
             "linecolor": "white",
             "minorgridcolor": "white",
             "startlinecolor": "#2a3f5f"
            },
            "type": "carpet"
           }
          ],
          "choropleth": [
           {
            "colorbar": {
             "outlinewidth": 0,
             "ticks": ""
            },
            "type": "choropleth"
           }
          ],
          "contour": [
           {
            "colorbar": {
             "outlinewidth": 0,
             "ticks": ""
            },
            "colorscale": [
             [
              0,
              "#0d0887"
             ],
             [
              0.1111111111111111,
              "#46039f"
             ],
             [
              0.2222222222222222,
              "#7201a8"
             ],
             [
              0.3333333333333333,
              "#9c179e"
             ],
             [
              0.4444444444444444,
              "#bd3786"
             ],
             [
              0.5555555555555556,
              "#d8576b"
             ],
             [
              0.6666666666666666,
              "#ed7953"
             ],
             [
              0.7777777777777778,
              "#fb9f3a"
             ],
             [
              0.8888888888888888,
              "#fdca26"
             ],
             [
              1,
              "#f0f921"
             ]
            ],
            "type": "contour"
           }
          ],
          "contourcarpet": [
           {
            "colorbar": {
             "outlinewidth": 0,
             "ticks": ""
            },
            "type": "contourcarpet"
           }
          ],
          "heatmap": [
           {
            "colorbar": {
             "outlinewidth": 0,
             "ticks": ""
            },
            "colorscale": [
             [
              0,
              "#0d0887"
             ],
             [
              0.1111111111111111,
              "#46039f"
             ],
             [
              0.2222222222222222,
              "#7201a8"
             ],
             [
              0.3333333333333333,
              "#9c179e"
             ],
             [
              0.4444444444444444,
              "#bd3786"
             ],
             [
              0.5555555555555556,
              "#d8576b"
             ],
             [
              0.6666666666666666,
              "#ed7953"
             ],
             [
              0.7777777777777778,
              "#fb9f3a"
             ],
             [
              0.8888888888888888,
              "#fdca26"
             ],
             [
              1,
              "#f0f921"
             ]
            ],
            "type": "heatmap"
           }
          ],
          "heatmapgl": [
           {
            "colorbar": {
             "outlinewidth": 0,
             "ticks": ""
            },
            "colorscale": [
             [
              0,
              "#0d0887"
             ],
             [
              0.1111111111111111,
              "#46039f"
             ],
             [
              0.2222222222222222,
              "#7201a8"
             ],
             [
              0.3333333333333333,
              "#9c179e"
             ],
             [
              0.4444444444444444,
              "#bd3786"
             ],
             [
              0.5555555555555556,
              "#d8576b"
             ],
             [
              0.6666666666666666,
              "#ed7953"
             ],
             [
              0.7777777777777778,
              "#fb9f3a"
             ],
             [
              0.8888888888888888,
              "#fdca26"
             ],
             [
              1,
              "#f0f921"
             ]
            ],
            "type": "heatmapgl"
           }
          ],
          "histogram": [
           {
            "marker": {
             "pattern": {
              "fillmode": "overlay",
              "size": 10,
              "solidity": 0.2
             }
            },
            "type": "histogram"
           }
          ],
          "histogram2d": [
           {
            "colorbar": {
             "outlinewidth": 0,
             "ticks": ""
            },
            "colorscale": [
             [
              0,
              "#0d0887"
             ],
             [
              0.1111111111111111,
              "#46039f"
             ],
             [
              0.2222222222222222,
              "#7201a8"
             ],
             [
              0.3333333333333333,
              "#9c179e"
             ],
             [
              0.4444444444444444,
              "#bd3786"
             ],
             [
              0.5555555555555556,
              "#d8576b"
             ],
             [
              0.6666666666666666,
              "#ed7953"
             ],
             [
              0.7777777777777778,
              "#fb9f3a"
             ],
             [
              0.8888888888888888,
              "#fdca26"
             ],
             [
              1,
              "#f0f921"
             ]
            ],
            "type": "histogram2d"
           }
          ],
          "histogram2dcontour": [
           {
            "colorbar": {
             "outlinewidth": 0,
             "ticks": ""
            },
            "colorscale": [
             [
              0,
              "#0d0887"
             ],
             [
              0.1111111111111111,
              "#46039f"
             ],
             [
              0.2222222222222222,
              "#7201a8"
             ],
             [
              0.3333333333333333,
              "#9c179e"
             ],
             [
              0.4444444444444444,
              "#bd3786"
             ],
             [
              0.5555555555555556,
              "#d8576b"
             ],
             [
              0.6666666666666666,
              "#ed7953"
             ],
             [
              0.7777777777777778,
              "#fb9f3a"
             ],
             [
              0.8888888888888888,
              "#fdca26"
             ],
             [
              1,
              "#f0f921"
             ]
            ],
            "type": "histogram2dcontour"
           }
          ],
          "mesh3d": [
           {
            "colorbar": {
             "outlinewidth": 0,
             "ticks": ""
            },
            "type": "mesh3d"
           }
          ],
          "parcoords": [
           {
            "line": {
             "colorbar": {
              "outlinewidth": 0,
              "ticks": ""
             }
            },
            "type": "parcoords"
           }
          ],
          "pie": [
           {
            "automargin": true,
            "type": "pie"
           }
          ],
          "scatter": [
           {
            "fillpattern": {
             "fillmode": "overlay",
             "size": 10,
             "solidity": 0.2
            },
            "type": "scatter"
           }
          ],
          "scatter3d": [
           {
            "line": {
             "colorbar": {
              "outlinewidth": 0,
              "ticks": ""
             }
            },
            "marker": {
             "colorbar": {
              "outlinewidth": 0,
              "ticks": ""
             }
            },
            "type": "scatter3d"
           }
          ],
          "scattercarpet": [
           {
            "marker": {
             "colorbar": {
              "outlinewidth": 0,
              "ticks": ""
             }
            },
            "type": "scattercarpet"
           }
          ],
          "scattergeo": [
           {
            "marker": {
             "colorbar": {
              "outlinewidth": 0,
              "ticks": ""
             }
            },
            "type": "scattergeo"
           }
          ],
          "scattergl": [
           {
            "marker": {
             "colorbar": {
              "outlinewidth": 0,
              "ticks": ""
             }
            },
            "type": "scattergl"
           }
          ],
          "scattermapbox": [
           {
            "marker": {
             "colorbar": {
              "outlinewidth": 0,
              "ticks": ""
             }
            },
            "type": "scattermapbox"
           }
          ],
          "scatterpolar": [
           {
            "marker": {
             "colorbar": {
              "outlinewidth": 0,
              "ticks": ""
             }
            },
            "type": "scatterpolar"
           }
          ],
          "scatterpolargl": [
           {
            "marker": {
             "colorbar": {
              "outlinewidth": 0,
              "ticks": ""
             }
            },
            "type": "scatterpolargl"
           }
          ],
          "scatterternary": [
           {
            "marker": {
             "colorbar": {
              "outlinewidth": 0,
              "ticks": ""
             }
            },
            "type": "scatterternary"
           }
          ],
          "surface": [
           {
            "colorbar": {
             "outlinewidth": 0,
             "ticks": ""
            },
            "colorscale": [
             [
              0,
              "#0d0887"
             ],
             [
              0.1111111111111111,
              "#46039f"
             ],
             [
              0.2222222222222222,
              "#7201a8"
             ],
             [
              0.3333333333333333,
              "#9c179e"
             ],
             [
              0.4444444444444444,
              "#bd3786"
             ],
             [
              0.5555555555555556,
              "#d8576b"
             ],
             [
              0.6666666666666666,
              "#ed7953"
             ],
             [
              0.7777777777777778,
              "#fb9f3a"
             ],
             [
              0.8888888888888888,
              "#fdca26"
             ],
             [
              1,
              "#f0f921"
             ]
            ],
            "type": "surface"
           }
          ],
          "table": [
           {
            "cells": {
             "fill": {
              "color": "#EBF0F8"
             },
             "line": {
              "color": "white"
             }
            },
            "header": {
             "fill": {
              "color": "#C8D4E3"
             },
             "line": {
              "color": "white"
             }
            },
            "type": "table"
           }
          ]
         },
         "layout": {
          "annotationdefaults": {
           "arrowcolor": "#2a3f5f",
           "arrowhead": 0,
           "arrowwidth": 1
          },
          "autotypenumbers": "strict",
          "coloraxis": {
           "colorbar": {
            "outlinewidth": 0,
            "ticks": ""
           }
          },
          "colorscale": {
           "diverging": [
            [
             0,
             "#8e0152"
            ],
            [
             0.1,
             "#c51b7d"
            ],
            [
             0.2,
             "#de77ae"
            ],
            [
             0.3,
             "#f1b6da"
            ],
            [
             0.4,
             "#fde0ef"
            ],
            [
             0.5,
             "#f7f7f7"
            ],
            [
             0.6,
             "#e6f5d0"
            ],
            [
             0.7,
             "#b8e186"
            ],
            [
             0.8,
             "#7fbc41"
            ],
            [
             0.9,
             "#4d9221"
            ],
            [
             1,
             "#276419"
            ]
           ],
           "sequential": [
            [
             0,
             "#0d0887"
            ],
            [
             0.1111111111111111,
             "#46039f"
            ],
            [
             0.2222222222222222,
             "#7201a8"
            ],
            [
             0.3333333333333333,
             "#9c179e"
            ],
            [
             0.4444444444444444,
             "#bd3786"
            ],
            [
             0.5555555555555556,
             "#d8576b"
            ],
            [
             0.6666666666666666,
             "#ed7953"
            ],
            [
             0.7777777777777778,
             "#fb9f3a"
            ],
            [
             0.8888888888888888,
             "#fdca26"
            ],
            [
             1,
             "#f0f921"
            ]
           ],
           "sequentialminus": [
            [
             0,
             "#0d0887"
            ],
            [
             0.1111111111111111,
             "#46039f"
            ],
            [
             0.2222222222222222,
             "#7201a8"
            ],
            [
             0.3333333333333333,
             "#9c179e"
            ],
            [
             0.4444444444444444,
             "#bd3786"
            ],
            [
             0.5555555555555556,
             "#d8576b"
            ],
            [
             0.6666666666666666,
             "#ed7953"
            ],
            [
             0.7777777777777778,
             "#fb9f3a"
            ],
            [
             0.8888888888888888,
             "#fdca26"
            ],
            [
             1,
             "#f0f921"
            ]
           ]
          },
          "colorway": [
           "#636efa",
           "#EF553B",
           "#00cc96",
           "#ab63fa",
           "#FFA15A",
           "#19d3f3",
           "#FF6692",
           "#B6E880",
           "#FF97FF",
           "#FECB52"
          ],
          "font": {
           "color": "#2a3f5f"
          },
          "geo": {
           "bgcolor": "white",
           "lakecolor": "white",
           "landcolor": "#E5ECF6",
           "showlakes": true,
           "showland": true,
           "subunitcolor": "white"
          },
          "hoverlabel": {
           "align": "left"
          },
          "hovermode": "closest",
          "mapbox": {
           "style": "light"
          },
          "paper_bgcolor": "white",
          "plot_bgcolor": "#E5ECF6",
          "polar": {
           "angularaxis": {
            "gridcolor": "white",
            "linecolor": "white",
            "ticks": ""
           },
           "bgcolor": "#E5ECF6",
           "radialaxis": {
            "gridcolor": "white",
            "linecolor": "white",
            "ticks": ""
           }
          },
          "scene": {
           "xaxis": {
            "backgroundcolor": "#E5ECF6",
            "gridcolor": "white",
            "gridwidth": 2,
            "linecolor": "white",
            "showbackground": true,
            "ticks": "",
            "zerolinecolor": "white"
           },
           "yaxis": {
            "backgroundcolor": "#E5ECF6",
            "gridcolor": "white",
            "gridwidth": 2,
            "linecolor": "white",
            "showbackground": true,
            "ticks": "",
            "zerolinecolor": "white"
           },
           "zaxis": {
            "backgroundcolor": "#E5ECF6",
            "gridcolor": "white",
            "gridwidth": 2,
            "linecolor": "white",
            "showbackground": true,
            "ticks": "",
            "zerolinecolor": "white"
           }
          },
          "shapedefaults": {
           "line": {
            "color": "#2a3f5f"
           }
          },
          "ternary": {
           "aaxis": {
            "gridcolor": "white",
            "linecolor": "white",
            "ticks": ""
           },
           "baxis": {
            "gridcolor": "white",
            "linecolor": "white",
            "ticks": ""
           },
           "bgcolor": "#E5ECF6",
           "caxis": {
            "gridcolor": "white",
            "linecolor": "white",
            "ticks": ""
           }
          },
          "title": {
           "x": 0.05
          },
          "xaxis": {
           "automargin": true,
           "gridcolor": "white",
           "linecolor": "white",
           "ticks": "",
           "title": {
            "standoff": 15
           },
           "zerolinecolor": "white",
           "zerolinewidth": 2
          },
          "yaxis": {
           "automargin": true,
           "gridcolor": "white",
           "linecolor": "white",
           "ticks": "",
           "title": {
            "standoff": 15
           },
           "zerolinecolor": "white",
           "zerolinewidth": 2
          }
         }
        },
        "title": {
         "font": {
          "size": 20
         },
         "text": "Cumulative Season Tickets Sold (7-Day Aggregated)",
         "x": 0.5
        },
        "width": 1400,
        "xaxis": {
         "tickangle": 45,
         "tickfont": {
          "size": 12
         },
         "tickmode": "array",
         "ticktext": [
          "2025-06-03",
          "2025-06-10",
          "2025-06-17",
          "2025-06-24",
          "2025-07-01",
          "2025-07-08",
          "2025-07-15",
          "2025-07-22",
          "2025-07-29",
          "2025-08-05",
          "2025-08-12",
          "2025-08-19"
         ],
         "tickvals": [
          "2025-06-03",
          "2025-06-10",
          "2025-06-17",
          "2025-06-24",
          "2025-07-01",
          "2025-07-08",
          "2025-07-15",
          "2025-07-22",
          "2025-07-29",
          "2025-08-05",
          "2025-08-12",
          "2025-08-19"
         ],
         "title": {
          "text": "Date"
         },
         "type": "category"
        },
        "yaxis": {
         "gridcolor": "lightgrey",
         "griddash": "dot",
         "tickfont": {
          "size": 14
         },
         "title": {
          "text": "Cumulative Season Tickets Sold"
         }
        }
       }
      }
     },
     "metadata": {},
     "output_type": "display_data"
    }
   ],
   "source": [
    "def plot_cumulative_sales_plotly(df, date_column, days=1, font_size=12, y_shift=8, start_date=\"2025-06-05\"):\n",
    "    df = df.copy()\n",
    "\n",
    "    # Ensure datetime only if needed\n",
    "    if not pd.api.types.is_datetime64_any_dtype(df[date_column]):\n",
    "        df[date_column] = pd.to_datetime(df[date_column], errors='coerce')\n",
    "\n",
    "    df = df[pd.notna(df[date_column])]\n",
    "\n",
    "    # Filter to start from start_date\n",
    "    df = df[df[date_column] >= pd.to_datetime(start_date)]\n",
    "\n",
    "    # Work with date only\n",
    "    df['date_only'] = df[date_column].dt.date\n",
    "\n",
    "    if days == 1:\n",
    "        grouped = (\n",
    "            df.groupby('date_only')\n",
    "            .size()\n",
    "            .reset_index(name=\"Total_Sales\")\n",
    "            .sort_values('date_only')\n",
    "        )\n",
    "        grouped['period_label'] = grouped['date_only'].astype(str)  # Already date, just string it\n",
    "    else:\n",
    "        # N-day aggregation (e.g., 7 days = weekly)\n",
    "        df['n_day_period'] = (pd.to_datetime(df['date_only']) - pd.to_timedelta(pd.to_datetime(df['date_only']).dt.dayofyear % days, unit='D')).dt.date\n",
    "\n",
    "        grouped = (\n",
    "            df.groupby('n_day_period')\n",
    "            .size()\n",
    "            .reset_index(name=\"Total_Sales\")\n",
    "            .sort_values('n_day_period')\n",
    "        )\n",
    "        grouped['period_label'] = grouped['n_day_period'].astype(str)\n",
    "\n",
    "    # Cumulative sum\n",
    "    grouped['Cumulative_Sales'] = grouped['Total_Sales'].cumsum()\n",
    "\n",
    "    # Plotly figure\n",
    "    fig = go.Figure()\n",
    "\n",
    "    # Bars\n",
    "    fig.add_trace(go.Bar(\n",
    "        x=grouped['period_label'],\n",
    "        y=grouped['Cumulative_Sales'],\n",
    "        name='Cumulative Sales',\n",
    "        marker_color='firebrick',\n",
    "        text=[f\"{val:,}\" for val in grouped['Cumulative_Sales']],  # Faster than iterrows\n",
    "        textposition='outside',\n",
    "        textfont=dict(size=font_size)\n",
    "    ))\n",
    "\n",
    "    # Layout\n",
    "    fig.update_layout(\n",
    "        title=dict(\n",
    "            text=f'Cumulative Season Tickets Sold ({days}-Day Aggregated)',\n",
    "            font=dict(size=20),\n",
    "            x=0.5\n",
    "        ),\n",
    "        xaxis=dict(\n",
    "            title='Date',\n",
    "            tickmode='array',\n",
    "            tickvals=grouped['period_label'],\n",
    "            ticktext=grouped['period_label'],\n",
    "            tickangle=45,\n",
    "            tickfont=dict(size=12),\n",
    "            type='category'  # 👈 Force categorical spacing\n",
    "        ),\n",
    "        yaxis=dict(\n",
    "            title='Cumulative Season Tickets Sold',\n",
    "            tickfont=dict(size=14),\n",
    "            gridcolor='lightgrey',\n",
    "            griddash='dot'\n",
    "        ),\n",
    "        bargap=0.1,\n",
    "        height=750,\n",
    "        width=1400,\n",
    "        margin=dict(l=60, r=60, t=90, b=120),\n",
    "        plot_bgcolor='white',\n",
    "        paper_bgcolor='white',\n",
    "        showlegend=False\n",
    "    )\n",
    "\n",
    "    fig.show()\n",
    "\n",
    "plot_cumulative_sales_plotly(perc, 'sale_date', days=7, font_size=12, y_shift=10)"
   ]
  },
  {
   "cell_type": "code",
   "execution_count": 8,
   "id": "91c7412e-4974-4fa2-80fd-16052559c6f7",
   "metadata": {},
   "outputs": [
    {
     "data": {
      "application/vnd.plotly.v1+json": {
       "config": {
        "plotlyServerURL": "https://plot.ly"
       },
       "data": [
        {
         "marker": {
          "color": "firebrick"
         },
         "name": "Daily Revenue",
         "text": [
          "1,217₪",
          "329₪",
          "145₪",
          "665₪",
          "188₪",
          "114₪",
          "3₪",
          "11₪",
          "46₪",
          "61₪",
          "35₪",
          "2₪",
          "1₪",
          "35₪",
          "38₪",
          "35₪",
          "25₪",
          "37₪",
          "7₪",
          "16₪",
          "12₪",
          "22₪",
          "20₪",
          "29₪",
          "11₪",
          "1₪",
          "14₪",
          "30₪",
          "6₪",
          "399₪",
          "14₪",
          "146₪",
          "14₪",
          "16₪",
          "120₪",
          "60₪",
          "4₪",
          "4₪",
          "166₪",
          "63₪",
          "90₪",
          "97₪",
          "33₪",
          "145₪",
          "225₪",
          "84₪",
          "14₪",
          "48₪",
          "11₪",
          "51₪",
          "15₪",
          "15₪",
          "154₪",
          "13₪",
          "156₪",
          "3₪",
          "12₪"
         ],
         "textfont": {
          "size": 12
         },
         "textposition": "outside",
         "type": "bar",
         "x": [
          "05-Jun-2025",
          "06-Jun-2025",
          "07-Jun-2025",
          "08-Jun-2025",
          "09-Jun-2025",
          "10-Jun-2025",
          "11-Jun-2025",
          "22-Jun-2025",
          "23-Jun-2025",
          "25-Jun-2025",
          "26-Jun-2025",
          "27-Jun-2025",
          "28-Jun-2025",
          "29-Jun-2025",
          "30-Jun-2025",
          "01-Jul-2025",
          "02-Jul-2025",
          "03-Jul-2025",
          "04-Jul-2025",
          "06-Jul-2025",
          "07-Jul-2025",
          "08-Jul-2025",
          "09-Jul-2025",
          "10-Jul-2025",
          "11-Jul-2025",
          "12-Jul-2025",
          "13-Jul-2025",
          "14-Jul-2025",
          "15-Jul-2025",
          "16-Jul-2025",
          "17-Jul-2025",
          "20-Jul-2025",
          "21-Jul-2025",
          "22-Jul-2025",
          "23-Jul-2025",
          "24-Jul-2025",
          "25-Jul-2025",
          "26-Jul-2025",
          "27-Jul-2025",
          "28-Jul-2025",
          "29-Jul-2025",
          "30-Jul-2025",
          "31-Jul-2025",
          "04-Aug-2025",
          "05-Aug-2025",
          "06-Aug-2025",
          "07-Aug-2025",
          "10-Aug-2025",
          "11-Aug-2025",
          "12-Aug-2025",
          "13-Aug-2025",
          "14-Aug-2025",
          "17-Aug-2025",
          "18-Aug-2025",
          "19-Aug-2025",
          "20-Aug-2025",
          "21-Aug-2025"
         ],
         "y": [
          1217.471,
          329.107,
          145.24,
          665.318,
          188.4,
          114.8,
          3.36,
          11.13,
          46.7,
          61.48,
          35.37,
          2.13,
          1.89,
          35.03,
          38.36,
          35.575,
          25.85,
          37.62,
          7.5,
          16.48,
          12.795,
          22.28,
          20.08,
          29.07,
          11.38,
          1.28,
          14.1488,
          30.66,
          6.536,
          399.303,
          14.57,
          146.58,
          14.82,
          16.445,
          120.635,
          60.274,
          4.66,
          4.86,
          166.47,
          63.3,
          90.19,
          97.97,
          33.37,
          145.28,
          225.496,
          84.35,
          14.13,
          48.115,
          11.68,
          51.84,
          15.56,
          15,
          154.2,
          13.2375,
          156.7545,
          3.49,
          12.01
         ]
        }
       ],
       "layout": {
        "bargap": 0.1,
        "height": 750,
        "margin": {
         "b": 120,
         "l": 60,
         "r": 60,
         "t": 90
        },
        "paper_bgcolor": "white",
        "plot_bgcolor": "white",
        "showlegend": false,
        "template": {
         "data": {
          "bar": [
           {
            "error_x": {
             "color": "#2a3f5f"
            },
            "error_y": {
             "color": "#2a3f5f"
            },
            "marker": {
             "line": {
              "color": "#E5ECF6",
              "width": 0.5
             },
             "pattern": {
              "fillmode": "overlay",
              "size": 10,
              "solidity": 0.2
             }
            },
            "type": "bar"
           }
          ],
          "barpolar": [
           {
            "marker": {
             "line": {
              "color": "#E5ECF6",
              "width": 0.5
             },
             "pattern": {
              "fillmode": "overlay",
              "size": 10,
              "solidity": 0.2
             }
            },
            "type": "barpolar"
           }
          ],
          "carpet": [
           {
            "aaxis": {
             "endlinecolor": "#2a3f5f",
             "gridcolor": "white",
             "linecolor": "white",
             "minorgridcolor": "white",
             "startlinecolor": "#2a3f5f"
            },
            "baxis": {
             "endlinecolor": "#2a3f5f",
             "gridcolor": "white",
             "linecolor": "white",
             "minorgridcolor": "white",
             "startlinecolor": "#2a3f5f"
            },
            "type": "carpet"
           }
          ],
          "choropleth": [
           {
            "colorbar": {
             "outlinewidth": 0,
             "ticks": ""
            },
            "type": "choropleth"
           }
          ],
          "contour": [
           {
            "colorbar": {
             "outlinewidth": 0,
             "ticks": ""
            },
            "colorscale": [
             [
              0,
              "#0d0887"
             ],
             [
              0.1111111111111111,
              "#46039f"
             ],
             [
              0.2222222222222222,
              "#7201a8"
             ],
             [
              0.3333333333333333,
              "#9c179e"
             ],
             [
              0.4444444444444444,
              "#bd3786"
             ],
             [
              0.5555555555555556,
              "#d8576b"
             ],
             [
              0.6666666666666666,
              "#ed7953"
             ],
             [
              0.7777777777777778,
              "#fb9f3a"
             ],
             [
              0.8888888888888888,
              "#fdca26"
             ],
             [
              1,
              "#f0f921"
             ]
            ],
            "type": "contour"
           }
          ],
          "contourcarpet": [
           {
            "colorbar": {
             "outlinewidth": 0,
             "ticks": ""
            },
            "type": "contourcarpet"
           }
          ],
          "heatmap": [
           {
            "colorbar": {
             "outlinewidth": 0,
             "ticks": ""
            },
            "colorscale": [
             [
              0,
              "#0d0887"
             ],
             [
              0.1111111111111111,
              "#46039f"
             ],
             [
              0.2222222222222222,
              "#7201a8"
             ],
             [
              0.3333333333333333,
              "#9c179e"
             ],
             [
              0.4444444444444444,
              "#bd3786"
             ],
             [
              0.5555555555555556,
              "#d8576b"
             ],
             [
              0.6666666666666666,
              "#ed7953"
             ],
             [
              0.7777777777777778,
              "#fb9f3a"
             ],
             [
              0.8888888888888888,
              "#fdca26"
             ],
             [
              1,
              "#f0f921"
             ]
            ],
            "type": "heatmap"
           }
          ],
          "heatmapgl": [
           {
            "colorbar": {
             "outlinewidth": 0,
             "ticks": ""
            },
            "colorscale": [
             [
              0,
              "#0d0887"
             ],
             [
              0.1111111111111111,
              "#46039f"
             ],
             [
              0.2222222222222222,
              "#7201a8"
             ],
             [
              0.3333333333333333,
              "#9c179e"
             ],
             [
              0.4444444444444444,
              "#bd3786"
             ],
             [
              0.5555555555555556,
              "#d8576b"
             ],
             [
              0.6666666666666666,
              "#ed7953"
             ],
             [
              0.7777777777777778,
              "#fb9f3a"
             ],
             [
              0.8888888888888888,
              "#fdca26"
             ],
             [
              1,
              "#f0f921"
             ]
            ],
            "type": "heatmapgl"
           }
          ],
          "histogram": [
           {
            "marker": {
             "pattern": {
              "fillmode": "overlay",
              "size": 10,
              "solidity": 0.2
             }
            },
            "type": "histogram"
           }
          ],
          "histogram2d": [
           {
            "colorbar": {
             "outlinewidth": 0,
             "ticks": ""
            },
            "colorscale": [
             [
              0,
              "#0d0887"
             ],
             [
              0.1111111111111111,
              "#46039f"
             ],
             [
              0.2222222222222222,
              "#7201a8"
             ],
             [
              0.3333333333333333,
              "#9c179e"
             ],
             [
              0.4444444444444444,
              "#bd3786"
             ],
             [
              0.5555555555555556,
              "#d8576b"
             ],
             [
              0.6666666666666666,
              "#ed7953"
             ],
             [
              0.7777777777777778,
              "#fb9f3a"
             ],
             [
              0.8888888888888888,
              "#fdca26"
             ],
             [
              1,
              "#f0f921"
             ]
            ],
            "type": "histogram2d"
           }
          ],
          "histogram2dcontour": [
           {
            "colorbar": {
             "outlinewidth": 0,
             "ticks": ""
            },
            "colorscale": [
             [
              0,
              "#0d0887"
             ],
             [
              0.1111111111111111,
              "#46039f"
             ],
             [
              0.2222222222222222,
              "#7201a8"
             ],
             [
              0.3333333333333333,
              "#9c179e"
             ],
             [
              0.4444444444444444,
              "#bd3786"
             ],
             [
              0.5555555555555556,
              "#d8576b"
             ],
             [
              0.6666666666666666,
              "#ed7953"
             ],
             [
              0.7777777777777778,
              "#fb9f3a"
             ],
             [
              0.8888888888888888,
              "#fdca26"
             ],
             [
              1,
              "#f0f921"
             ]
            ],
            "type": "histogram2dcontour"
           }
          ],
          "mesh3d": [
           {
            "colorbar": {
             "outlinewidth": 0,
             "ticks": ""
            },
            "type": "mesh3d"
           }
          ],
          "parcoords": [
           {
            "line": {
             "colorbar": {
              "outlinewidth": 0,
              "ticks": ""
             }
            },
            "type": "parcoords"
           }
          ],
          "pie": [
           {
            "automargin": true,
            "type": "pie"
           }
          ],
          "scatter": [
           {
            "fillpattern": {
             "fillmode": "overlay",
             "size": 10,
             "solidity": 0.2
            },
            "type": "scatter"
           }
          ],
          "scatter3d": [
           {
            "line": {
             "colorbar": {
              "outlinewidth": 0,
              "ticks": ""
             }
            },
            "marker": {
             "colorbar": {
              "outlinewidth": 0,
              "ticks": ""
             }
            },
            "type": "scatter3d"
           }
          ],
          "scattercarpet": [
           {
            "marker": {
             "colorbar": {
              "outlinewidth": 0,
              "ticks": ""
             }
            },
            "type": "scattercarpet"
           }
          ],
          "scattergeo": [
           {
            "marker": {
             "colorbar": {
              "outlinewidth": 0,
              "ticks": ""
             }
            },
            "type": "scattergeo"
           }
          ],
          "scattergl": [
           {
            "marker": {
             "colorbar": {
              "outlinewidth": 0,
              "ticks": ""
             }
            },
            "type": "scattergl"
           }
          ],
          "scattermapbox": [
           {
            "marker": {
             "colorbar": {
              "outlinewidth": 0,
              "ticks": ""
             }
            },
            "type": "scattermapbox"
           }
          ],
          "scatterpolar": [
           {
            "marker": {
             "colorbar": {
              "outlinewidth": 0,
              "ticks": ""
             }
            },
            "type": "scatterpolar"
           }
          ],
          "scatterpolargl": [
           {
            "marker": {
             "colorbar": {
              "outlinewidth": 0,
              "ticks": ""
             }
            },
            "type": "scatterpolargl"
           }
          ],
          "scatterternary": [
           {
            "marker": {
             "colorbar": {
              "outlinewidth": 0,
              "ticks": ""
             }
            },
            "type": "scatterternary"
           }
          ],
          "surface": [
           {
            "colorbar": {
             "outlinewidth": 0,
             "ticks": ""
            },
            "colorscale": [
             [
              0,
              "#0d0887"
             ],
             [
              0.1111111111111111,
              "#46039f"
             ],
             [
              0.2222222222222222,
              "#7201a8"
             ],
             [
              0.3333333333333333,
              "#9c179e"
             ],
             [
              0.4444444444444444,
              "#bd3786"
             ],
             [
              0.5555555555555556,
              "#d8576b"
             ],
             [
              0.6666666666666666,
              "#ed7953"
             ],
             [
              0.7777777777777778,
              "#fb9f3a"
             ],
             [
              0.8888888888888888,
              "#fdca26"
             ],
             [
              1,
              "#f0f921"
             ]
            ],
            "type": "surface"
           }
          ],
          "table": [
           {
            "cells": {
             "fill": {
              "color": "#EBF0F8"
             },
             "line": {
              "color": "white"
             }
            },
            "header": {
             "fill": {
              "color": "#C8D4E3"
             },
             "line": {
              "color": "white"
             }
            },
            "type": "table"
           }
          ]
         },
         "layout": {
          "annotationdefaults": {
           "arrowcolor": "#2a3f5f",
           "arrowhead": 0,
           "arrowwidth": 1
          },
          "autotypenumbers": "strict",
          "coloraxis": {
           "colorbar": {
            "outlinewidth": 0,
            "ticks": ""
           }
          },
          "colorscale": {
           "diverging": [
            [
             0,
             "#8e0152"
            ],
            [
             0.1,
             "#c51b7d"
            ],
            [
             0.2,
             "#de77ae"
            ],
            [
             0.3,
             "#f1b6da"
            ],
            [
             0.4,
             "#fde0ef"
            ],
            [
             0.5,
             "#f7f7f7"
            ],
            [
             0.6,
             "#e6f5d0"
            ],
            [
             0.7,
             "#b8e186"
            ],
            [
             0.8,
             "#7fbc41"
            ],
            [
             0.9,
             "#4d9221"
            ],
            [
             1,
             "#276419"
            ]
           ],
           "sequential": [
            [
             0,
             "#0d0887"
            ],
            [
             0.1111111111111111,
             "#46039f"
            ],
            [
             0.2222222222222222,
             "#7201a8"
            ],
            [
             0.3333333333333333,
             "#9c179e"
            ],
            [
             0.4444444444444444,
             "#bd3786"
            ],
            [
             0.5555555555555556,
             "#d8576b"
            ],
            [
             0.6666666666666666,
             "#ed7953"
            ],
            [
             0.7777777777777778,
             "#fb9f3a"
            ],
            [
             0.8888888888888888,
             "#fdca26"
            ],
            [
             1,
             "#f0f921"
            ]
           ],
           "sequentialminus": [
            [
             0,
             "#0d0887"
            ],
            [
             0.1111111111111111,
             "#46039f"
            ],
            [
             0.2222222222222222,
             "#7201a8"
            ],
            [
             0.3333333333333333,
             "#9c179e"
            ],
            [
             0.4444444444444444,
             "#bd3786"
            ],
            [
             0.5555555555555556,
             "#d8576b"
            ],
            [
             0.6666666666666666,
             "#ed7953"
            ],
            [
             0.7777777777777778,
             "#fb9f3a"
            ],
            [
             0.8888888888888888,
             "#fdca26"
            ],
            [
             1,
             "#f0f921"
            ]
           ]
          },
          "colorway": [
           "#636efa",
           "#EF553B",
           "#00cc96",
           "#ab63fa",
           "#FFA15A",
           "#19d3f3",
           "#FF6692",
           "#B6E880",
           "#FF97FF",
           "#FECB52"
          ],
          "font": {
           "color": "#2a3f5f"
          },
          "geo": {
           "bgcolor": "white",
           "lakecolor": "white",
           "landcolor": "#E5ECF6",
           "showlakes": true,
           "showland": true,
           "subunitcolor": "white"
          },
          "hoverlabel": {
           "align": "left"
          },
          "hovermode": "closest",
          "mapbox": {
           "style": "light"
          },
          "paper_bgcolor": "white",
          "plot_bgcolor": "#E5ECF6",
          "polar": {
           "angularaxis": {
            "gridcolor": "white",
            "linecolor": "white",
            "ticks": ""
           },
           "bgcolor": "#E5ECF6",
           "radialaxis": {
            "gridcolor": "white",
            "linecolor": "white",
            "ticks": ""
           }
          },
          "scene": {
           "xaxis": {
            "backgroundcolor": "#E5ECF6",
            "gridcolor": "white",
            "gridwidth": 2,
            "linecolor": "white",
            "showbackground": true,
            "ticks": "",
            "zerolinecolor": "white"
           },
           "yaxis": {
            "backgroundcolor": "#E5ECF6",
            "gridcolor": "white",
            "gridwidth": 2,
            "linecolor": "white",
            "showbackground": true,
            "ticks": "",
            "zerolinecolor": "white"
           },
           "zaxis": {
            "backgroundcolor": "#E5ECF6",
            "gridcolor": "white",
            "gridwidth": 2,
            "linecolor": "white",
            "showbackground": true,
            "ticks": "",
            "zerolinecolor": "white"
           }
          },
          "shapedefaults": {
           "line": {
            "color": "#2a3f5f"
           }
          },
          "ternary": {
           "aaxis": {
            "gridcolor": "white",
            "linecolor": "white",
            "ticks": ""
           },
           "baxis": {
            "gridcolor": "white",
            "linecolor": "white",
            "ticks": ""
           },
           "bgcolor": "#E5ECF6",
           "caxis": {
            "gridcolor": "white",
            "linecolor": "white",
            "ticks": ""
           }
          },
          "title": {
           "x": 0.05
          },
          "xaxis": {
           "automargin": true,
           "gridcolor": "white",
           "linecolor": "white",
           "ticks": "",
           "title": {
            "standoff": 15
           },
           "zerolinecolor": "white",
           "zerolinewidth": 2
          },
          "yaxis": {
           "automargin": true,
           "gridcolor": "white",
           "linecolor": "white",
           "ticks": "",
           "title": {
            "standoff": 15
           },
           "zerolinecolor": "white",
           "zerolinewidth": 2
          }
         }
        },
        "title": {
         "font": {
          "size": 20
         },
         "text": "Daily Income Revenue",
         "x": 0.5
        },
        "width": 1400,
        "xaxis": {
         "tickangle": 45,
         "tickfont": {
          "size": 12
         },
         "title": {
          "text": "Date"
         }
        },
        "yaxis": {
         "gridcolor": "lightgrey",
         "griddash": "dot",
         "tickfont": {
          "size": 14
         },
         "title": {
          "text": "Revenue (Thousands of ₪)"
         }
        }
       }
      }
     },
     "metadata": {},
     "output_type": "display_data"
    }
   ],
   "source": [
    "def plot_daily_revenue_readable(df, font_size=12, y_shift=10):\n",
    "    df = df.copy()\n",
    "\n",
    "    # Ensure sale_date is datetime if needed\n",
    "    if not pd.api.types.is_datetime64_any_dtype(df['sale_date']):\n",
    "        df['sale_date'] = pd.to_datetime(df['sale_date'], errors='coerce')\n",
    "\n",
    "    # Clean price column\n",
    "    df = df[pd.to_numeric(df['price'], errors='coerce').notnull()]\n",
    "    df['price'] = df['price'].astype(float)\n",
    "\n",
    "    # ✅ Filter out zero-price rows\n",
    "    df = df[df['price'] > 0]\n",
    "\n",
    "    # Group by date only\n",
    "    df['sale_date_only'] = df['sale_date'].dt.date\n",
    "\n",
    "    daily = (\n",
    "        df.groupby('sale_date_only')['price']\n",
    "        .sum()\n",
    "        .reset_index(name='Total_revenue')\n",
    "        .sort_values('sale_date_only')\n",
    "    )\n",
    "\n",
    "    # Filter from June 5, 2025\n",
    "    daily = daily[pd.to_datetime(daily['sale_date_only']) >= pd.to_datetime('2025-06-05')]\n",
    "\n",
    "    # Divide by 1000\n",
    "    daily['Total_revenue_thousands'] = daily['Total_revenue'] / 1000\n",
    "\n",
    "    # Extra safeguard\n",
    "    daily = daily[daily['Total_revenue_thousands'] >= 1].copy()\n",
    "\n",
    "    # Format labels\n",
    "    daily['period_label'] = pd.to_datetime(daily['sale_date_only']).dt.strftime('%d-%b-%Y')\n",
    "    text_annotations = [f\"{int(val):,}₪\" for val in daily['Total_revenue_thousands']]\n",
    "\n",
    "    # Plot\n",
    "    fig = go.Figure()\n",
    "    fig.add_trace(go.Bar(\n",
    "        x=daily['period_label'],\n",
    "        y=daily['Total_revenue_thousands'],\n",
    "        name='Daily Revenue',\n",
    "        marker_color='firebrick',\n",
    "        text=text_annotations,\n",
    "        textposition='outside',\n",
    "        textfont=dict(size=font_size)\n",
    "    ))\n",
    "\n",
    "    # Layout\n",
    "    fig.update_layout(\n",
    "        title=dict(text='Daily Income Revenue', font=dict(size=20), x=0.5),\n",
    "        xaxis=dict(\n",
    "            title='Date',\n",
    "            tickangle=45,\n",
    "            tickfont=dict(size=12)\n",
    "        ),\n",
    "\n",
    "        yaxis=dict(\n",
    "            title='Revenue (Thousands of ₪)',\n",
    "            tickfont=dict(size=14),\n",
    "            gridcolor='lightgrey',\n",
    "            griddash='dot'\n",
    "        ),\n",
    "        bargap=0.1,\n",
    "        height=750,\n",
    "        width=1400,\n",
    "        margin=dict(l=60, r=60, t=90, b=120),\n",
    "        plot_bgcolor='white',\n",
    "        paper_bgcolor='white',\n",
    "        showlegend=False\n",
    "    )\n",
    "\n",
    "    fig.show()\n",
    "\n",
    "\n",
    "# Example call\n",
    "plot_daily_revenue_readable(perc, font_size=12, y_shift=10)"
   ]
  },
  {
   "cell_type": "code",
   "execution_count": 9,
   "id": "00f6fc29-3adc-46ab-8fa8-262a9a10a552",
   "metadata": {},
   "outputs": [
    {
     "data": {
      "application/vnd.plotly.v1+json": {
       "config": {
        "plotlyServerURL": "https://plot.ly"
       },
       "data": [
        {
         "marker": {
          "color": "firebrick"
         },
         "name": "Cumulative Revenue",
         "text": [
          "2.664",
          "2.665",
          "2.785",
          "2.959",
          "3.075",
          "3.568",
          "3.882",
          "4.369",
          "4.859",
          "5.001",
          "5.344",
          "5.356"
         ],
         "textfont": {
          "size": 12
         },
         "textposition": "outside",
         "type": "bar",
         "x": [
          "2025-06-05",
          "2025-06-12",
          "2025-06-19",
          "2025-06-26",
          "2025-07-03",
          "2025-07-10",
          "2025-07-17",
          "2025-07-24",
          "2025-07-31",
          "2025-08-07",
          "2025-08-14",
          "2025-08-21"
         ],
         "y": [
          2.664,
          2.665,
          2.785,
          2.959,
          3.075,
          3.568,
          3.882,
          4.369,
          4.859,
          5.001,
          5.344,
          5.356
         ]
        }
       ],
       "layout": {
        "bargap": 0.1,
        "height": 750,
        "margin": {
         "b": 120,
         "l": 60,
         "r": 60,
         "t": 90
        },
        "paper_bgcolor": "white",
        "plot_bgcolor": "white",
        "showlegend": false,
        "template": {
         "data": {
          "bar": [
           {
            "error_x": {
             "color": "#2a3f5f"
            },
            "error_y": {
             "color": "#2a3f5f"
            },
            "marker": {
             "line": {
              "color": "#E5ECF6",
              "width": 0.5
             },
             "pattern": {
              "fillmode": "overlay",
              "size": 10,
              "solidity": 0.2
             }
            },
            "type": "bar"
           }
          ],
          "barpolar": [
           {
            "marker": {
             "line": {
              "color": "#E5ECF6",
              "width": 0.5
             },
             "pattern": {
              "fillmode": "overlay",
              "size": 10,
              "solidity": 0.2
             }
            },
            "type": "barpolar"
           }
          ],
          "carpet": [
           {
            "aaxis": {
             "endlinecolor": "#2a3f5f",
             "gridcolor": "white",
             "linecolor": "white",
             "minorgridcolor": "white",
             "startlinecolor": "#2a3f5f"
            },
            "baxis": {
             "endlinecolor": "#2a3f5f",
             "gridcolor": "white",
             "linecolor": "white",
             "minorgridcolor": "white",
             "startlinecolor": "#2a3f5f"
            },
            "type": "carpet"
           }
          ],
          "choropleth": [
           {
            "colorbar": {
             "outlinewidth": 0,
             "ticks": ""
            },
            "type": "choropleth"
           }
          ],
          "contour": [
           {
            "colorbar": {
             "outlinewidth": 0,
             "ticks": ""
            },
            "colorscale": [
             [
              0,
              "#0d0887"
             ],
             [
              0.1111111111111111,
              "#46039f"
             ],
             [
              0.2222222222222222,
              "#7201a8"
             ],
             [
              0.3333333333333333,
              "#9c179e"
             ],
             [
              0.4444444444444444,
              "#bd3786"
             ],
             [
              0.5555555555555556,
              "#d8576b"
             ],
             [
              0.6666666666666666,
              "#ed7953"
             ],
             [
              0.7777777777777778,
              "#fb9f3a"
             ],
             [
              0.8888888888888888,
              "#fdca26"
             ],
             [
              1,
              "#f0f921"
             ]
            ],
            "type": "contour"
           }
          ],
          "contourcarpet": [
           {
            "colorbar": {
             "outlinewidth": 0,
             "ticks": ""
            },
            "type": "contourcarpet"
           }
          ],
          "heatmap": [
           {
            "colorbar": {
             "outlinewidth": 0,
             "ticks": ""
            },
            "colorscale": [
             [
              0,
              "#0d0887"
             ],
             [
              0.1111111111111111,
              "#46039f"
             ],
             [
              0.2222222222222222,
              "#7201a8"
             ],
             [
              0.3333333333333333,
              "#9c179e"
             ],
             [
              0.4444444444444444,
              "#bd3786"
             ],
             [
              0.5555555555555556,
              "#d8576b"
             ],
             [
              0.6666666666666666,
              "#ed7953"
             ],
             [
              0.7777777777777778,
              "#fb9f3a"
             ],
             [
              0.8888888888888888,
              "#fdca26"
             ],
             [
              1,
              "#f0f921"
             ]
            ],
            "type": "heatmap"
           }
          ],
          "heatmapgl": [
           {
            "colorbar": {
             "outlinewidth": 0,
             "ticks": ""
            },
            "colorscale": [
             [
              0,
              "#0d0887"
             ],
             [
              0.1111111111111111,
              "#46039f"
             ],
             [
              0.2222222222222222,
              "#7201a8"
             ],
             [
              0.3333333333333333,
              "#9c179e"
             ],
             [
              0.4444444444444444,
              "#bd3786"
             ],
             [
              0.5555555555555556,
              "#d8576b"
             ],
             [
              0.6666666666666666,
              "#ed7953"
             ],
             [
              0.7777777777777778,
              "#fb9f3a"
             ],
             [
              0.8888888888888888,
              "#fdca26"
             ],
             [
              1,
              "#f0f921"
             ]
            ],
            "type": "heatmapgl"
           }
          ],
          "histogram": [
           {
            "marker": {
             "pattern": {
              "fillmode": "overlay",
              "size": 10,
              "solidity": 0.2
             }
            },
            "type": "histogram"
           }
          ],
          "histogram2d": [
           {
            "colorbar": {
             "outlinewidth": 0,
             "ticks": ""
            },
            "colorscale": [
             [
              0,
              "#0d0887"
             ],
             [
              0.1111111111111111,
              "#46039f"
             ],
             [
              0.2222222222222222,
              "#7201a8"
             ],
             [
              0.3333333333333333,
              "#9c179e"
             ],
             [
              0.4444444444444444,
              "#bd3786"
             ],
             [
              0.5555555555555556,
              "#d8576b"
             ],
             [
              0.6666666666666666,
              "#ed7953"
             ],
             [
              0.7777777777777778,
              "#fb9f3a"
             ],
             [
              0.8888888888888888,
              "#fdca26"
             ],
             [
              1,
              "#f0f921"
             ]
            ],
            "type": "histogram2d"
           }
          ],
          "histogram2dcontour": [
           {
            "colorbar": {
             "outlinewidth": 0,
             "ticks": ""
            },
            "colorscale": [
             [
              0,
              "#0d0887"
             ],
             [
              0.1111111111111111,
              "#46039f"
             ],
             [
              0.2222222222222222,
              "#7201a8"
             ],
             [
              0.3333333333333333,
              "#9c179e"
             ],
             [
              0.4444444444444444,
              "#bd3786"
             ],
             [
              0.5555555555555556,
              "#d8576b"
             ],
             [
              0.6666666666666666,
              "#ed7953"
             ],
             [
              0.7777777777777778,
              "#fb9f3a"
             ],
             [
              0.8888888888888888,
              "#fdca26"
             ],
             [
              1,
              "#f0f921"
             ]
            ],
            "type": "histogram2dcontour"
           }
          ],
          "mesh3d": [
           {
            "colorbar": {
             "outlinewidth": 0,
             "ticks": ""
            },
            "type": "mesh3d"
           }
          ],
          "parcoords": [
           {
            "line": {
             "colorbar": {
              "outlinewidth": 0,
              "ticks": ""
             }
            },
            "type": "parcoords"
           }
          ],
          "pie": [
           {
            "automargin": true,
            "type": "pie"
           }
          ],
          "scatter": [
           {
            "fillpattern": {
             "fillmode": "overlay",
             "size": 10,
             "solidity": 0.2
            },
            "type": "scatter"
           }
          ],
          "scatter3d": [
           {
            "line": {
             "colorbar": {
              "outlinewidth": 0,
              "ticks": ""
             }
            },
            "marker": {
             "colorbar": {
              "outlinewidth": 0,
              "ticks": ""
             }
            },
            "type": "scatter3d"
           }
          ],
          "scattercarpet": [
           {
            "marker": {
             "colorbar": {
              "outlinewidth": 0,
              "ticks": ""
             }
            },
            "type": "scattercarpet"
           }
          ],
          "scattergeo": [
           {
            "marker": {
             "colorbar": {
              "outlinewidth": 0,
              "ticks": ""
             }
            },
            "type": "scattergeo"
           }
          ],
          "scattergl": [
           {
            "marker": {
             "colorbar": {
              "outlinewidth": 0,
              "ticks": ""
             }
            },
            "type": "scattergl"
           }
          ],
          "scattermapbox": [
           {
            "marker": {
             "colorbar": {
              "outlinewidth": 0,
              "ticks": ""
             }
            },
            "type": "scattermapbox"
           }
          ],
          "scatterpolar": [
           {
            "marker": {
             "colorbar": {
              "outlinewidth": 0,
              "ticks": ""
             }
            },
            "type": "scatterpolar"
           }
          ],
          "scatterpolargl": [
           {
            "marker": {
             "colorbar": {
              "outlinewidth": 0,
              "ticks": ""
             }
            },
            "type": "scatterpolargl"
           }
          ],
          "scatterternary": [
           {
            "marker": {
             "colorbar": {
              "outlinewidth": 0,
              "ticks": ""
             }
            },
            "type": "scatterternary"
           }
          ],
          "surface": [
           {
            "colorbar": {
             "outlinewidth": 0,
             "ticks": ""
            },
            "colorscale": [
             [
              0,
              "#0d0887"
             ],
             [
              0.1111111111111111,
              "#46039f"
             ],
             [
              0.2222222222222222,
              "#7201a8"
             ],
             [
              0.3333333333333333,
              "#9c179e"
             ],
             [
              0.4444444444444444,
              "#bd3786"
             ],
             [
              0.5555555555555556,
              "#d8576b"
             ],
             [
              0.6666666666666666,
              "#ed7953"
             ],
             [
              0.7777777777777778,
              "#fb9f3a"
             ],
             [
              0.8888888888888888,
              "#fdca26"
             ],
             [
              1,
              "#f0f921"
             ]
            ],
            "type": "surface"
           }
          ],
          "table": [
           {
            "cells": {
             "fill": {
              "color": "#EBF0F8"
             },
             "line": {
              "color": "white"
             }
            },
            "header": {
             "fill": {
              "color": "#C8D4E3"
             },
             "line": {
              "color": "white"
             }
            },
            "type": "table"
           }
          ]
         },
         "layout": {
          "annotationdefaults": {
           "arrowcolor": "#2a3f5f",
           "arrowhead": 0,
           "arrowwidth": 1
          },
          "autotypenumbers": "strict",
          "coloraxis": {
           "colorbar": {
            "outlinewidth": 0,
            "ticks": ""
           }
          },
          "colorscale": {
           "diverging": [
            [
             0,
             "#8e0152"
            ],
            [
             0.1,
             "#c51b7d"
            ],
            [
             0.2,
             "#de77ae"
            ],
            [
             0.3,
             "#f1b6da"
            ],
            [
             0.4,
             "#fde0ef"
            ],
            [
             0.5,
             "#f7f7f7"
            ],
            [
             0.6,
             "#e6f5d0"
            ],
            [
             0.7,
             "#b8e186"
            ],
            [
             0.8,
             "#7fbc41"
            ],
            [
             0.9,
             "#4d9221"
            ],
            [
             1,
             "#276419"
            ]
           ],
           "sequential": [
            [
             0,
             "#0d0887"
            ],
            [
             0.1111111111111111,
             "#46039f"
            ],
            [
             0.2222222222222222,
             "#7201a8"
            ],
            [
             0.3333333333333333,
             "#9c179e"
            ],
            [
             0.4444444444444444,
             "#bd3786"
            ],
            [
             0.5555555555555556,
             "#d8576b"
            ],
            [
             0.6666666666666666,
             "#ed7953"
            ],
            [
             0.7777777777777778,
             "#fb9f3a"
            ],
            [
             0.8888888888888888,
             "#fdca26"
            ],
            [
             1,
             "#f0f921"
            ]
           ],
           "sequentialminus": [
            [
             0,
             "#0d0887"
            ],
            [
             0.1111111111111111,
             "#46039f"
            ],
            [
             0.2222222222222222,
             "#7201a8"
            ],
            [
             0.3333333333333333,
             "#9c179e"
            ],
            [
             0.4444444444444444,
             "#bd3786"
            ],
            [
             0.5555555555555556,
             "#d8576b"
            ],
            [
             0.6666666666666666,
             "#ed7953"
            ],
            [
             0.7777777777777778,
             "#fb9f3a"
            ],
            [
             0.8888888888888888,
             "#fdca26"
            ],
            [
             1,
             "#f0f921"
            ]
           ]
          },
          "colorway": [
           "#636efa",
           "#EF553B",
           "#00cc96",
           "#ab63fa",
           "#FFA15A",
           "#19d3f3",
           "#FF6692",
           "#B6E880",
           "#FF97FF",
           "#FECB52"
          ],
          "font": {
           "color": "#2a3f5f"
          },
          "geo": {
           "bgcolor": "white",
           "lakecolor": "white",
           "landcolor": "#E5ECF6",
           "showlakes": true,
           "showland": true,
           "subunitcolor": "white"
          },
          "hoverlabel": {
           "align": "left"
          },
          "hovermode": "closest",
          "mapbox": {
           "style": "light"
          },
          "paper_bgcolor": "white",
          "plot_bgcolor": "#E5ECF6",
          "polar": {
           "angularaxis": {
            "gridcolor": "white",
            "linecolor": "white",
            "ticks": ""
           },
           "bgcolor": "#E5ECF6",
           "radialaxis": {
            "gridcolor": "white",
            "linecolor": "white",
            "ticks": ""
           }
          },
          "scene": {
           "xaxis": {
            "backgroundcolor": "#E5ECF6",
            "gridcolor": "white",
            "gridwidth": 2,
            "linecolor": "white",
            "showbackground": true,
            "ticks": "",
            "zerolinecolor": "white"
           },
           "yaxis": {
            "backgroundcolor": "#E5ECF6",
            "gridcolor": "white",
            "gridwidth": 2,
            "linecolor": "white",
            "showbackground": true,
            "ticks": "",
            "zerolinecolor": "white"
           },
           "zaxis": {
            "backgroundcolor": "#E5ECF6",
            "gridcolor": "white",
            "gridwidth": 2,
            "linecolor": "white",
            "showbackground": true,
            "ticks": "",
            "zerolinecolor": "white"
           }
          },
          "shapedefaults": {
           "line": {
            "color": "#2a3f5f"
           }
          },
          "ternary": {
           "aaxis": {
            "gridcolor": "white",
            "linecolor": "white",
            "ticks": ""
           },
           "baxis": {
            "gridcolor": "white",
            "linecolor": "white",
            "ticks": ""
           },
           "bgcolor": "#E5ECF6",
           "caxis": {
            "gridcolor": "white",
            "linecolor": "white",
            "ticks": ""
           }
          },
          "title": {
           "x": 0.05
          },
          "xaxis": {
           "automargin": true,
           "gridcolor": "white",
           "linecolor": "white",
           "ticks": "",
           "title": {
            "standoff": 15
           },
           "zerolinecolor": "white",
           "zerolinewidth": 2
          },
          "yaxis": {
           "automargin": true,
           "gridcolor": "white",
           "linecolor": "white",
           "ticks": "",
           "title": {
            "standoff": 15
           },
           "zerolinecolor": "white",
           "zerolinewidth": 2
          }
         }
        },
        "title": {
         "font": {
          "size": 20
         },
         "text": "Cumulative Revenue (7-Day Aggregated)",
         "x": 0.5
        },
        "width": 1400,
        "xaxis": {
         "tickangle": 45,
         "tickfont": {
          "size": 12
         },
         "tickmode": "array",
         "ticktext": [
          "2025-06-05",
          "2025-06-12",
          "2025-06-19",
          "2025-06-26",
          "2025-07-03",
          "2025-07-10",
          "2025-07-17",
          "2025-07-24",
          "2025-07-31",
          "2025-08-07",
          "2025-08-14",
          "2025-08-21"
         ],
         "tickvals": [
          "2025-06-05",
          "2025-06-12",
          "2025-06-19",
          "2025-06-26",
          "2025-07-03",
          "2025-07-10",
          "2025-07-17",
          "2025-07-24",
          "2025-07-31",
          "2025-08-07",
          "2025-08-14",
          "2025-08-21"
         ],
         "title": {
          "text": "Date"
         },
         "type": "category"
        },
        "yaxis": {
         "gridcolor": "lightgrey",
         "griddash": "dot",
         "tickfont": {
          "size": 14
         },
         "title": {
          "text": "Cumulative Revenue (Millions of ₪)"
         }
        }
       }
      }
     },
     "metadata": {},
     "output_type": "display_data"
    }
   ],
   "source": [
    "def plot_cumulative_revenue_plotly(df, date_column, revenue_column, days, font_size=12, y_shift=10, start_date=\"2025-06-05\"):\n",
    "    df = df.copy()\n",
    "\n",
    "    # Ensure datetime if needed\n",
    "    if not pd.api.types.is_datetime64_any_dtype(df[date_column]):\n",
    "        df[date_column] = pd.to_datetime(df[date_column], errors='coerce')\n",
    "\n",
    "    # Ensure numeric revenue\n",
    "    df = df[pd.to_numeric(df[revenue_column], errors='coerce').notnull()]\n",
    "    df[revenue_column] = df[revenue_column].astype(float)\n",
    "\n",
    "    # Filter dates\n",
    "    df = df[df[date_column] >= pd.to_datetime(start_date)]\n",
    "\n",
    "    # Vectorized calculation of n-day periods\n",
    "    df['n_day_period'] = (\n",
    "        df[date_column]\n",
    "        .dt.floor(f'{days}D')  # Round down to nearest n-day bucket\n",
    "    )\n",
    "\n",
    "    # Group and cumulative revenue\n",
    "    grouped = (\n",
    "        df.groupby('n_day_period')[revenue_column]\n",
    "        .sum()\n",
    "        .reset_index(name=\"Total_revenue\")\n",
    "        .sort_values('n_day_period')\n",
    "    )\n",
    "\n",
    "    grouped['Cumulative_Revenue'] = grouped['Total_revenue'].cumsum()\n",
    "    grouped['Cumulative_Revenue_Million'] = (grouped['Cumulative_Revenue'] / 1_000_000).round(3)\n",
    "\n",
    "    # Create period labels\n",
    "    grouped['period_label'] = grouped['n_day_period'].dt.strftime('%Y-%m-%d')\n",
    "\n",
    "    # Pre-create annotations\n",
    "    text_annotations = [f\"{val}\" for val in grouped['Cumulative_Revenue_Million']]\n",
    "\n",
    "    # Plot\n",
    "    fig = go.Figure()\n",
    "\n",
    "    fig.add_trace(go.Bar(\n",
    "        x=grouped['period_label'],\n",
    "        y=grouped['Cumulative_Revenue_Million'],\n",
    "        name='Cumulative Revenue',\n",
    "        marker_color='firebrick',\n",
    "        text=text_annotations,\n",
    "        textposition='outside',\n",
    "        textfont=dict(size=font_size)\n",
    "    ))\n",
    "\n",
    "    # Layout\n",
    "    fig.update_layout(\n",
    "        title=dict(\n",
    "            text=f'Cumulative Revenue ({days}-Day Aggregated)',\n",
    "            font=dict(size=20),\n",
    "            x=0.5\n",
    "        ),\n",
    "        xaxis=dict(\n",
    "            title='Date',\n",
    "            tickangle=45,\n",
    "            tickfont=dict(size=12),\n",
    "            tickmode='array',\n",
    "            tickvals=grouped['period_label'],\n",
    "            ticktext=grouped['period_label'],\n",
    "            type='category'  # 👈 Force categorical spacing\n",
    "        ),\n",
    "        yaxis=dict(\n",
    "            title='Cumulative Revenue (Millions of ₪)',\n",
    "            tickfont=dict(size=14),\n",
    "            gridcolor='lightgrey',\n",
    "            griddash='dot'\n",
    "        ),\n",
    "        bargap=0.1,\n",
    "        height=750,\n",
    "        width=1400,\n",
    "        margin=dict(l=60, r=60, t=90, b=120),\n",
    "        plot_bgcolor='white',\n",
    "        paper_bgcolor='white',\n",
    "        showlegend=False\n",
    "    )\n",
    "\n",
    "    fig.show()\n",
    "\n",
    "# Example call\n",
    "plot_cumulative_revenue_plotly(perc, 'sale_date', 'price', days=7)"
   ]
  },
  {
   "cell_type": "code",
   "execution_count": 10,
   "id": "d64cf16f-547e-49aa-9d79-e0072aa280f2",
   "metadata": {},
   "outputs": [
    {
     "data": {
      "application/vnd.plotly.v1+json": {
       "config": {
        "plotlyServerURL": "https://plot.ly"
       },
       "data": [
        {
         "hole": 0.3,
         "insidetextorientation": "radial",
         "labels": [
          "Renewal (2763)",
          "New (516)"
         ],
         "marker": {
          "colors": [
           "red",
           "skyblue"
          ]
         },
         "textinfo": "label+percent",
         "type": "pie",
         "values": [
          2763,
          516
         ]
        }
       ],
       "layout": {
        "height": 500,
        "margin": {
         "b": 60,
         "l": 60,
         "r": 60,
         "t": 60
        },
        "showlegend": false,
        "template": {
         "data": {
          "bar": [
           {
            "error_x": {
             "color": "#2a3f5f"
            },
            "error_y": {
             "color": "#2a3f5f"
            },
            "marker": {
             "line": {
              "color": "#E5ECF6",
              "width": 0.5
             },
             "pattern": {
              "fillmode": "overlay",
              "size": 10,
              "solidity": 0.2
             }
            },
            "type": "bar"
           }
          ],
          "barpolar": [
           {
            "marker": {
             "line": {
              "color": "#E5ECF6",
              "width": 0.5
             },
             "pattern": {
              "fillmode": "overlay",
              "size": 10,
              "solidity": 0.2
             }
            },
            "type": "barpolar"
           }
          ],
          "carpet": [
           {
            "aaxis": {
             "endlinecolor": "#2a3f5f",
             "gridcolor": "white",
             "linecolor": "white",
             "minorgridcolor": "white",
             "startlinecolor": "#2a3f5f"
            },
            "baxis": {
             "endlinecolor": "#2a3f5f",
             "gridcolor": "white",
             "linecolor": "white",
             "minorgridcolor": "white",
             "startlinecolor": "#2a3f5f"
            },
            "type": "carpet"
           }
          ],
          "choropleth": [
           {
            "colorbar": {
             "outlinewidth": 0,
             "ticks": ""
            },
            "type": "choropleth"
           }
          ],
          "contour": [
           {
            "colorbar": {
             "outlinewidth": 0,
             "ticks": ""
            },
            "colorscale": [
             [
              0,
              "#0d0887"
             ],
             [
              0.1111111111111111,
              "#46039f"
             ],
             [
              0.2222222222222222,
              "#7201a8"
             ],
             [
              0.3333333333333333,
              "#9c179e"
             ],
             [
              0.4444444444444444,
              "#bd3786"
             ],
             [
              0.5555555555555556,
              "#d8576b"
             ],
             [
              0.6666666666666666,
              "#ed7953"
             ],
             [
              0.7777777777777778,
              "#fb9f3a"
             ],
             [
              0.8888888888888888,
              "#fdca26"
             ],
             [
              1,
              "#f0f921"
             ]
            ],
            "type": "contour"
           }
          ],
          "contourcarpet": [
           {
            "colorbar": {
             "outlinewidth": 0,
             "ticks": ""
            },
            "type": "contourcarpet"
           }
          ],
          "heatmap": [
           {
            "colorbar": {
             "outlinewidth": 0,
             "ticks": ""
            },
            "colorscale": [
             [
              0,
              "#0d0887"
             ],
             [
              0.1111111111111111,
              "#46039f"
             ],
             [
              0.2222222222222222,
              "#7201a8"
             ],
             [
              0.3333333333333333,
              "#9c179e"
             ],
             [
              0.4444444444444444,
              "#bd3786"
             ],
             [
              0.5555555555555556,
              "#d8576b"
             ],
             [
              0.6666666666666666,
              "#ed7953"
             ],
             [
              0.7777777777777778,
              "#fb9f3a"
             ],
             [
              0.8888888888888888,
              "#fdca26"
             ],
             [
              1,
              "#f0f921"
             ]
            ],
            "type": "heatmap"
           }
          ],
          "heatmapgl": [
           {
            "colorbar": {
             "outlinewidth": 0,
             "ticks": ""
            },
            "colorscale": [
             [
              0,
              "#0d0887"
             ],
             [
              0.1111111111111111,
              "#46039f"
             ],
             [
              0.2222222222222222,
              "#7201a8"
             ],
             [
              0.3333333333333333,
              "#9c179e"
             ],
             [
              0.4444444444444444,
              "#bd3786"
             ],
             [
              0.5555555555555556,
              "#d8576b"
             ],
             [
              0.6666666666666666,
              "#ed7953"
             ],
             [
              0.7777777777777778,
              "#fb9f3a"
             ],
             [
              0.8888888888888888,
              "#fdca26"
             ],
             [
              1,
              "#f0f921"
             ]
            ],
            "type": "heatmapgl"
           }
          ],
          "histogram": [
           {
            "marker": {
             "pattern": {
              "fillmode": "overlay",
              "size": 10,
              "solidity": 0.2
             }
            },
            "type": "histogram"
           }
          ],
          "histogram2d": [
           {
            "colorbar": {
             "outlinewidth": 0,
             "ticks": ""
            },
            "colorscale": [
             [
              0,
              "#0d0887"
             ],
             [
              0.1111111111111111,
              "#46039f"
             ],
             [
              0.2222222222222222,
              "#7201a8"
             ],
             [
              0.3333333333333333,
              "#9c179e"
             ],
             [
              0.4444444444444444,
              "#bd3786"
             ],
             [
              0.5555555555555556,
              "#d8576b"
             ],
             [
              0.6666666666666666,
              "#ed7953"
             ],
             [
              0.7777777777777778,
              "#fb9f3a"
             ],
             [
              0.8888888888888888,
              "#fdca26"
             ],
             [
              1,
              "#f0f921"
             ]
            ],
            "type": "histogram2d"
           }
          ],
          "histogram2dcontour": [
           {
            "colorbar": {
             "outlinewidth": 0,
             "ticks": ""
            },
            "colorscale": [
             [
              0,
              "#0d0887"
             ],
             [
              0.1111111111111111,
              "#46039f"
             ],
             [
              0.2222222222222222,
              "#7201a8"
             ],
             [
              0.3333333333333333,
              "#9c179e"
             ],
             [
              0.4444444444444444,
              "#bd3786"
             ],
             [
              0.5555555555555556,
              "#d8576b"
             ],
             [
              0.6666666666666666,
              "#ed7953"
             ],
             [
              0.7777777777777778,
              "#fb9f3a"
             ],
             [
              0.8888888888888888,
              "#fdca26"
             ],
             [
              1,
              "#f0f921"
             ]
            ],
            "type": "histogram2dcontour"
           }
          ],
          "mesh3d": [
           {
            "colorbar": {
             "outlinewidth": 0,
             "ticks": ""
            },
            "type": "mesh3d"
           }
          ],
          "parcoords": [
           {
            "line": {
             "colorbar": {
              "outlinewidth": 0,
              "ticks": ""
             }
            },
            "type": "parcoords"
           }
          ],
          "pie": [
           {
            "automargin": true,
            "type": "pie"
           }
          ],
          "scatter": [
           {
            "fillpattern": {
             "fillmode": "overlay",
             "size": 10,
             "solidity": 0.2
            },
            "type": "scatter"
           }
          ],
          "scatter3d": [
           {
            "line": {
             "colorbar": {
              "outlinewidth": 0,
              "ticks": ""
             }
            },
            "marker": {
             "colorbar": {
              "outlinewidth": 0,
              "ticks": ""
             }
            },
            "type": "scatter3d"
           }
          ],
          "scattercarpet": [
           {
            "marker": {
             "colorbar": {
              "outlinewidth": 0,
              "ticks": ""
             }
            },
            "type": "scattercarpet"
           }
          ],
          "scattergeo": [
           {
            "marker": {
             "colorbar": {
              "outlinewidth": 0,
              "ticks": ""
             }
            },
            "type": "scattergeo"
           }
          ],
          "scattergl": [
           {
            "marker": {
             "colorbar": {
              "outlinewidth": 0,
              "ticks": ""
             }
            },
            "type": "scattergl"
           }
          ],
          "scattermapbox": [
           {
            "marker": {
             "colorbar": {
              "outlinewidth": 0,
              "ticks": ""
             }
            },
            "type": "scattermapbox"
           }
          ],
          "scatterpolar": [
           {
            "marker": {
             "colorbar": {
              "outlinewidth": 0,
              "ticks": ""
             }
            },
            "type": "scatterpolar"
           }
          ],
          "scatterpolargl": [
           {
            "marker": {
             "colorbar": {
              "outlinewidth": 0,
              "ticks": ""
             }
            },
            "type": "scatterpolargl"
           }
          ],
          "scatterternary": [
           {
            "marker": {
             "colorbar": {
              "outlinewidth": 0,
              "ticks": ""
             }
            },
            "type": "scatterternary"
           }
          ],
          "surface": [
           {
            "colorbar": {
             "outlinewidth": 0,
             "ticks": ""
            },
            "colorscale": [
             [
              0,
              "#0d0887"
             ],
             [
              0.1111111111111111,
              "#46039f"
             ],
             [
              0.2222222222222222,
              "#7201a8"
             ],
             [
              0.3333333333333333,
              "#9c179e"
             ],
             [
              0.4444444444444444,
              "#bd3786"
             ],
             [
              0.5555555555555556,
              "#d8576b"
             ],
             [
              0.6666666666666666,
              "#ed7953"
             ],
             [
              0.7777777777777778,
              "#fb9f3a"
             ],
             [
              0.8888888888888888,
              "#fdca26"
             ],
             [
              1,
              "#f0f921"
             ]
            ],
            "type": "surface"
           }
          ],
          "table": [
           {
            "cells": {
             "fill": {
              "color": "#EBF0F8"
             },
             "line": {
              "color": "white"
             }
            },
            "header": {
             "fill": {
              "color": "#C8D4E3"
             },
             "line": {
              "color": "white"
             }
            },
            "type": "table"
           }
          ]
         },
         "layout": {
          "annotationdefaults": {
           "arrowcolor": "#2a3f5f",
           "arrowhead": 0,
           "arrowwidth": 1
          },
          "autotypenumbers": "strict",
          "coloraxis": {
           "colorbar": {
            "outlinewidth": 0,
            "ticks": ""
           }
          },
          "colorscale": {
           "diverging": [
            [
             0,
             "#8e0152"
            ],
            [
             0.1,
             "#c51b7d"
            ],
            [
             0.2,
             "#de77ae"
            ],
            [
             0.3,
             "#f1b6da"
            ],
            [
             0.4,
             "#fde0ef"
            ],
            [
             0.5,
             "#f7f7f7"
            ],
            [
             0.6,
             "#e6f5d0"
            ],
            [
             0.7,
             "#b8e186"
            ],
            [
             0.8,
             "#7fbc41"
            ],
            [
             0.9,
             "#4d9221"
            ],
            [
             1,
             "#276419"
            ]
           ],
           "sequential": [
            [
             0,
             "#0d0887"
            ],
            [
             0.1111111111111111,
             "#46039f"
            ],
            [
             0.2222222222222222,
             "#7201a8"
            ],
            [
             0.3333333333333333,
             "#9c179e"
            ],
            [
             0.4444444444444444,
             "#bd3786"
            ],
            [
             0.5555555555555556,
             "#d8576b"
            ],
            [
             0.6666666666666666,
             "#ed7953"
            ],
            [
             0.7777777777777778,
             "#fb9f3a"
            ],
            [
             0.8888888888888888,
             "#fdca26"
            ],
            [
             1,
             "#f0f921"
            ]
           ],
           "sequentialminus": [
            [
             0,
             "#0d0887"
            ],
            [
             0.1111111111111111,
             "#46039f"
            ],
            [
             0.2222222222222222,
             "#7201a8"
            ],
            [
             0.3333333333333333,
             "#9c179e"
            ],
            [
             0.4444444444444444,
             "#bd3786"
            ],
            [
             0.5555555555555556,
             "#d8576b"
            ],
            [
             0.6666666666666666,
             "#ed7953"
            ],
            [
             0.7777777777777778,
             "#fb9f3a"
            ],
            [
             0.8888888888888888,
             "#fdca26"
            ],
            [
             1,
             "#f0f921"
            ]
           ]
          },
          "colorway": [
           "#636efa",
           "#EF553B",
           "#00cc96",
           "#ab63fa",
           "#FFA15A",
           "#19d3f3",
           "#FF6692",
           "#B6E880",
           "#FF97FF",
           "#FECB52"
          ],
          "font": {
           "color": "#2a3f5f"
          },
          "geo": {
           "bgcolor": "white",
           "lakecolor": "white",
           "landcolor": "#E5ECF6",
           "showlakes": true,
           "showland": true,
           "subunitcolor": "white"
          },
          "hoverlabel": {
           "align": "left"
          },
          "hovermode": "closest",
          "mapbox": {
           "style": "light"
          },
          "paper_bgcolor": "white",
          "plot_bgcolor": "#E5ECF6",
          "polar": {
           "angularaxis": {
            "gridcolor": "white",
            "linecolor": "white",
            "ticks": ""
           },
           "bgcolor": "#E5ECF6",
           "radialaxis": {
            "gridcolor": "white",
            "linecolor": "white",
            "ticks": ""
           }
          },
          "scene": {
           "xaxis": {
            "backgroundcolor": "#E5ECF6",
            "gridcolor": "white",
            "gridwidth": 2,
            "linecolor": "white",
            "showbackground": true,
            "ticks": "",
            "zerolinecolor": "white"
           },
           "yaxis": {
            "backgroundcolor": "#E5ECF6",
            "gridcolor": "white",
            "gridwidth": 2,
            "linecolor": "white",
            "showbackground": true,
            "ticks": "",
            "zerolinecolor": "white"
           },
           "zaxis": {
            "backgroundcolor": "#E5ECF6",
            "gridcolor": "white",
            "gridwidth": 2,
            "linecolor": "white",
            "showbackground": true,
            "ticks": "",
            "zerolinecolor": "white"
           }
          },
          "shapedefaults": {
           "line": {
            "color": "#2a3f5f"
           }
          },
          "ternary": {
           "aaxis": {
            "gridcolor": "white",
            "linecolor": "white",
            "ticks": ""
           },
           "baxis": {
            "gridcolor": "white",
            "linecolor": "white",
            "ticks": ""
           },
           "bgcolor": "#E5ECF6",
           "caxis": {
            "gridcolor": "white",
            "linecolor": "white",
            "ticks": ""
           }
          },
          "title": {
           "x": 0.05
          },
          "xaxis": {
           "automargin": true,
           "gridcolor": "white",
           "linecolor": "white",
           "ticks": "",
           "title": {
            "standoff": 15
           },
           "zerolinecolor": "white",
           "zerolinewidth": 2
          },
          "yaxis": {
           "automargin": true,
           "gridcolor": "white",
           "linecolor": "white",
           "ticks": "",
           "title": {
            "standoff": 15
           },
           "zerolinecolor": "white",
           "zerolinewidth": 2
          }
         }
        },
        "title": {
         "font": {
          "size": 20
         },
         "text": "Season Tickets: Renewals vs New",
         "x": 0.5
        },
        "width": 500
       }
      }
     },
     "metadata": {},
     "output_type": "display_data"
    }
   ],
   "source": [
    "def plot_renewals_pie_chart(df, st_df, client_col='client_number', column='is_renew'):\n",
    "    \"\"\"\n",
    "    Plots a pie chart of renewals vs new season tickets using Plotly.\n",
    "\n",
    "    Parameters:\n",
    "    - df: DataFrame with season ticket holders for this season.\n",
    "    - st_df: DataFrame with last season's client numbers (for renewals).\n",
    "    - client_col: Column name with client numbers.\n",
    "    - column: Name of the boolean column for renewal status (calculated inside).\n",
    "    \"\"\"\n",
    "    # Do not modify original df\n",
    "    temp_df = df.copy()\n",
    "\n",
    "    # Calculate renewals (True if client_number is in last season's data)\n",
    "    temp_df[column] = temp_df[client_col].isin(st_df[client_col])\n",
    "\n",
    "    # Count renewals and new\n",
    "    counts = temp_df[column].value_counts()\n",
    "\n",
    "    # Extract values safely\n",
    "    renew_count = counts.get(True, 0)\n",
    "    new_count = counts.get(False, 0)\n",
    "\n",
    "    # Labels and values\n",
    "    labels = [f'Renewal ({renew_count})', f'New ({new_count})']\n",
    "    values = [renew_count, new_count]\n",
    "    colors = ['red', 'skyblue']\n",
    "\n",
    "    # Plotly pie chart\n",
    "    fig = go.Figure(data=[\n",
    "        go.Pie(\n",
    "            labels=labels,\n",
    "            values=values,\n",
    "            marker=dict(colors=colors),\n",
    "            textinfo='label+percent',\n",
    "            insidetextorientation='radial',\n",
    "            hole=0.3  # donut chart\n",
    "        )\n",
    "    ])\n",
    "\n",
    "    fig.update_layout(\n",
    "        title=dict(text='Season Tickets: Renewals vs New', font=dict(size=20), x=0.5),\n",
    "        height=500,\n",
    "        width=500,\n",
    "        margin=dict(t=60, b=60, l=60, r=60),\n",
    "        showlegend=False\n",
    "    )\n",
    "\n",
    "    fig.show()\n",
    "\n",
    "# Example usage\n",
    "plot_renewals_pie_chart(perc, st_2425)"
   ]
  },
  {
   "cell_type": "code",
   "execution_count": 11,
   "id": "0a0b4812-1512-4f5b-842f-7f9e5a077571",
   "metadata": {},
   "outputs": [
    {
     "data": {
      "application/vnd.plotly.v1+json": {
       "config": {
        "plotlyServerURL": "https://plot.ly"
       },
       "data": [
        {
         "marker": {
          "color": [
           "firebrick",
           "skyblue",
           "rgb(141,211,199)",
           "red",
           "rgb(255,255,179)",
           "purple",
           "black",
           "gray",
           "rgb(190,186,218)",
           "rgb(251,128,114)",
           "brown",
           "rgb(128,177,211)"
          ]
         },
         "orientation": "h",
         "text": [
          1620,
          528,
          510,
          174,
          119,
          81,
          76,
          61,
          42,
          34,
          32,
          2
         ],
         "textfont": {
          "size": 14
         },
         "textposition": "outside",
         "type": "bar",
         "x": [
          1620,
          528,
          510,
          174,
          119,
          81,
          76,
          61,
          42,
          34,
          32,
          2
         ],
         "y": [
          "Playoff finals - Adult",
          "Playoff finals - Child",
          "Adult (renew)",
          "Adult",
          "Child (renew)",
          "VIP",
          "Child",
          "Complementary",
          "Adult - New promo",
          "Child - New promo",
          "Box",
          "test"
         ]
        }
       ],
       "layout": {
        "height": 600,
        "margin": {
         "b": 60,
         "l": 120,
         "r": 60,
         "t": 80
        },
        "paper_bgcolor": "white",
        "plot_bgcolor": "white",
        "showlegend": false,
        "template": {
         "data": {
          "bar": [
           {
            "error_x": {
             "color": "#2a3f5f"
            },
            "error_y": {
             "color": "#2a3f5f"
            },
            "marker": {
             "line": {
              "color": "#E5ECF6",
              "width": 0.5
             },
             "pattern": {
              "fillmode": "overlay",
              "size": 10,
              "solidity": 0.2
             }
            },
            "type": "bar"
           }
          ],
          "barpolar": [
           {
            "marker": {
             "line": {
              "color": "#E5ECF6",
              "width": 0.5
             },
             "pattern": {
              "fillmode": "overlay",
              "size": 10,
              "solidity": 0.2
             }
            },
            "type": "barpolar"
           }
          ],
          "carpet": [
           {
            "aaxis": {
             "endlinecolor": "#2a3f5f",
             "gridcolor": "white",
             "linecolor": "white",
             "minorgridcolor": "white",
             "startlinecolor": "#2a3f5f"
            },
            "baxis": {
             "endlinecolor": "#2a3f5f",
             "gridcolor": "white",
             "linecolor": "white",
             "minorgridcolor": "white",
             "startlinecolor": "#2a3f5f"
            },
            "type": "carpet"
           }
          ],
          "choropleth": [
           {
            "colorbar": {
             "outlinewidth": 0,
             "ticks": ""
            },
            "type": "choropleth"
           }
          ],
          "contour": [
           {
            "colorbar": {
             "outlinewidth": 0,
             "ticks": ""
            },
            "colorscale": [
             [
              0,
              "#0d0887"
             ],
             [
              0.1111111111111111,
              "#46039f"
             ],
             [
              0.2222222222222222,
              "#7201a8"
             ],
             [
              0.3333333333333333,
              "#9c179e"
             ],
             [
              0.4444444444444444,
              "#bd3786"
             ],
             [
              0.5555555555555556,
              "#d8576b"
             ],
             [
              0.6666666666666666,
              "#ed7953"
             ],
             [
              0.7777777777777778,
              "#fb9f3a"
             ],
             [
              0.8888888888888888,
              "#fdca26"
             ],
             [
              1,
              "#f0f921"
             ]
            ],
            "type": "contour"
           }
          ],
          "contourcarpet": [
           {
            "colorbar": {
             "outlinewidth": 0,
             "ticks": ""
            },
            "type": "contourcarpet"
           }
          ],
          "heatmap": [
           {
            "colorbar": {
             "outlinewidth": 0,
             "ticks": ""
            },
            "colorscale": [
             [
              0,
              "#0d0887"
             ],
             [
              0.1111111111111111,
              "#46039f"
             ],
             [
              0.2222222222222222,
              "#7201a8"
             ],
             [
              0.3333333333333333,
              "#9c179e"
             ],
             [
              0.4444444444444444,
              "#bd3786"
             ],
             [
              0.5555555555555556,
              "#d8576b"
             ],
             [
              0.6666666666666666,
              "#ed7953"
             ],
             [
              0.7777777777777778,
              "#fb9f3a"
             ],
             [
              0.8888888888888888,
              "#fdca26"
             ],
             [
              1,
              "#f0f921"
             ]
            ],
            "type": "heatmap"
           }
          ],
          "heatmapgl": [
           {
            "colorbar": {
             "outlinewidth": 0,
             "ticks": ""
            },
            "colorscale": [
             [
              0,
              "#0d0887"
             ],
             [
              0.1111111111111111,
              "#46039f"
             ],
             [
              0.2222222222222222,
              "#7201a8"
             ],
             [
              0.3333333333333333,
              "#9c179e"
             ],
             [
              0.4444444444444444,
              "#bd3786"
             ],
             [
              0.5555555555555556,
              "#d8576b"
             ],
             [
              0.6666666666666666,
              "#ed7953"
             ],
             [
              0.7777777777777778,
              "#fb9f3a"
             ],
             [
              0.8888888888888888,
              "#fdca26"
             ],
             [
              1,
              "#f0f921"
             ]
            ],
            "type": "heatmapgl"
           }
          ],
          "histogram": [
           {
            "marker": {
             "pattern": {
              "fillmode": "overlay",
              "size": 10,
              "solidity": 0.2
             }
            },
            "type": "histogram"
           }
          ],
          "histogram2d": [
           {
            "colorbar": {
             "outlinewidth": 0,
             "ticks": ""
            },
            "colorscale": [
             [
              0,
              "#0d0887"
             ],
             [
              0.1111111111111111,
              "#46039f"
             ],
             [
              0.2222222222222222,
              "#7201a8"
             ],
             [
              0.3333333333333333,
              "#9c179e"
             ],
             [
              0.4444444444444444,
              "#bd3786"
             ],
             [
              0.5555555555555556,
              "#d8576b"
             ],
             [
              0.6666666666666666,
              "#ed7953"
             ],
             [
              0.7777777777777778,
              "#fb9f3a"
             ],
             [
              0.8888888888888888,
              "#fdca26"
             ],
             [
              1,
              "#f0f921"
             ]
            ],
            "type": "histogram2d"
           }
          ],
          "histogram2dcontour": [
           {
            "colorbar": {
             "outlinewidth": 0,
             "ticks": ""
            },
            "colorscale": [
             [
              0,
              "#0d0887"
             ],
             [
              0.1111111111111111,
              "#46039f"
             ],
             [
              0.2222222222222222,
              "#7201a8"
             ],
             [
              0.3333333333333333,
              "#9c179e"
             ],
             [
              0.4444444444444444,
              "#bd3786"
             ],
             [
              0.5555555555555556,
              "#d8576b"
             ],
             [
              0.6666666666666666,
              "#ed7953"
             ],
             [
              0.7777777777777778,
              "#fb9f3a"
             ],
             [
              0.8888888888888888,
              "#fdca26"
             ],
             [
              1,
              "#f0f921"
             ]
            ],
            "type": "histogram2dcontour"
           }
          ],
          "mesh3d": [
           {
            "colorbar": {
             "outlinewidth": 0,
             "ticks": ""
            },
            "type": "mesh3d"
           }
          ],
          "parcoords": [
           {
            "line": {
             "colorbar": {
              "outlinewidth": 0,
              "ticks": ""
             }
            },
            "type": "parcoords"
           }
          ],
          "pie": [
           {
            "automargin": true,
            "type": "pie"
           }
          ],
          "scatter": [
           {
            "fillpattern": {
             "fillmode": "overlay",
             "size": 10,
             "solidity": 0.2
            },
            "type": "scatter"
           }
          ],
          "scatter3d": [
           {
            "line": {
             "colorbar": {
              "outlinewidth": 0,
              "ticks": ""
             }
            },
            "marker": {
             "colorbar": {
              "outlinewidth": 0,
              "ticks": ""
             }
            },
            "type": "scatter3d"
           }
          ],
          "scattercarpet": [
           {
            "marker": {
             "colorbar": {
              "outlinewidth": 0,
              "ticks": ""
             }
            },
            "type": "scattercarpet"
           }
          ],
          "scattergeo": [
           {
            "marker": {
             "colorbar": {
              "outlinewidth": 0,
              "ticks": ""
             }
            },
            "type": "scattergeo"
           }
          ],
          "scattergl": [
           {
            "marker": {
             "colorbar": {
              "outlinewidth": 0,
              "ticks": ""
             }
            },
            "type": "scattergl"
           }
          ],
          "scattermapbox": [
           {
            "marker": {
             "colorbar": {
              "outlinewidth": 0,
              "ticks": ""
             }
            },
            "type": "scattermapbox"
           }
          ],
          "scatterpolar": [
           {
            "marker": {
             "colorbar": {
              "outlinewidth": 0,
              "ticks": ""
             }
            },
            "type": "scatterpolar"
           }
          ],
          "scatterpolargl": [
           {
            "marker": {
             "colorbar": {
              "outlinewidth": 0,
              "ticks": ""
             }
            },
            "type": "scatterpolargl"
           }
          ],
          "scatterternary": [
           {
            "marker": {
             "colorbar": {
              "outlinewidth": 0,
              "ticks": ""
             }
            },
            "type": "scatterternary"
           }
          ],
          "surface": [
           {
            "colorbar": {
             "outlinewidth": 0,
             "ticks": ""
            },
            "colorscale": [
             [
              0,
              "#0d0887"
             ],
             [
              0.1111111111111111,
              "#46039f"
             ],
             [
              0.2222222222222222,
              "#7201a8"
             ],
             [
              0.3333333333333333,
              "#9c179e"
             ],
             [
              0.4444444444444444,
              "#bd3786"
             ],
             [
              0.5555555555555556,
              "#d8576b"
             ],
             [
              0.6666666666666666,
              "#ed7953"
             ],
             [
              0.7777777777777778,
              "#fb9f3a"
             ],
             [
              0.8888888888888888,
              "#fdca26"
             ],
             [
              1,
              "#f0f921"
             ]
            ],
            "type": "surface"
           }
          ],
          "table": [
           {
            "cells": {
             "fill": {
              "color": "#EBF0F8"
             },
             "line": {
              "color": "white"
             }
            },
            "header": {
             "fill": {
              "color": "#C8D4E3"
             },
             "line": {
              "color": "white"
             }
            },
            "type": "table"
           }
          ]
         },
         "layout": {
          "annotationdefaults": {
           "arrowcolor": "#2a3f5f",
           "arrowhead": 0,
           "arrowwidth": 1
          },
          "autotypenumbers": "strict",
          "coloraxis": {
           "colorbar": {
            "outlinewidth": 0,
            "ticks": ""
           }
          },
          "colorscale": {
           "diverging": [
            [
             0,
             "#8e0152"
            ],
            [
             0.1,
             "#c51b7d"
            ],
            [
             0.2,
             "#de77ae"
            ],
            [
             0.3,
             "#f1b6da"
            ],
            [
             0.4,
             "#fde0ef"
            ],
            [
             0.5,
             "#f7f7f7"
            ],
            [
             0.6,
             "#e6f5d0"
            ],
            [
             0.7,
             "#b8e186"
            ],
            [
             0.8,
             "#7fbc41"
            ],
            [
             0.9,
             "#4d9221"
            ],
            [
             1,
             "#276419"
            ]
           ],
           "sequential": [
            [
             0,
             "#0d0887"
            ],
            [
             0.1111111111111111,
             "#46039f"
            ],
            [
             0.2222222222222222,
             "#7201a8"
            ],
            [
             0.3333333333333333,
             "#9c179e"
            ],
            [
             0.4444444444444444,
             "#bd3786"
            ],
            [
             0.5555555555555556,
             "#d8576b"
            ],
            [
             0.6666666666666666,
             "#ed7953"
            ],
            [
             0.7777777777777778,
             "#fb9f3a"
            ],
            [
             0.8888888888888888,
             "#fdca26"
            ],
            [
             1,
             "#f0f921"
            ]
           ],
           "sequentialminus": [
            [
             0,
             "#0d0887"
            ],
            [
             0.1111111111111111,
             "#46039f"
            ],
            [
             0.2222222222222222,
             "#7201a8"
            ],
            [
             0.3333333333333333,
             "#9c179e"
            ],
            [
             0.4444444444444444,
             "#bd3786"
            ],
            [
             0.5555555555555556,
             "#d8576b"
            ],
            [
             0.6666666666666666,
             "#ed7953"
            ],
            [
             0.7777777777777778,
             "#fb9f3a"
            ],
            [
             0.8888888888888888,
             "#fdca26"
            ],
            [
             1,
             "#f0f921"
            ]
           ]
          },
          "colorway": [
           "#636efa",
           "#EF553B",
           "#00cc96",
           "#ab63fa",
           "#FFA15A",
           "#19d3f3",
           "#FF6692",
           "#B6E880",
           "#FF97FF",
           "#FECB52"
          ],
          "font": {
           "color": "#2a3f5f"
          },
          "geo": {
           "bgcolor": "white",
           "lakecolor": "white",
           "landcolor": "#E5ECF6",
           "showlakes": true,
           "showland": true,
           "subunitcolor": "white"
          },
          "hoverlabel": {
           "align": "left"
          },
          "hovermode": "closest",
          "mapbox": {
           "style": "light"
          },
          "paper_bgcolor": "white",
          "plot_bgcolor": "#E5ECF6",
          "polar": {
           "angularaxis": {
            "gridcolor": "white",
            "linecolor": "white",
            "ticks": ""
           },
           "bgcolor": "#E5ECF6",
           "radialaxis": {
            "gridcolor": "white",
            "linecolor": "white",
            "ticks": ""
           }
          },
          "scene": {
           "xaxis": {
            "backgroundcolor": "#E5ECF6",
            "gridcolor": "white",
            "gridwidth": 2,
            "linecolor": "white",
            "showbackground": true,
            "ticks": "",
            "zerolinecolor": "white"
           },
           "yaxis": {
            "backgroundcolor": "#E5ECF6",
            "gridcolor": "white",
            "gridwidth": 2,
            "linecolor": "white",
            "showbackground": true,
            "ticks": "",
            "zerolinecolor": "white"
           },
           "zaxis": {
            "backgroundcolor": "#E5ECF6",
            "gridcolor": "white",
            "gridwidth": 2,
            "linecolor": "white",
            "showbackground": true,
            "ticks": "",
            "zerolinecolor": "white"
           }
          },
          "shapedefaults": {
           "line": {
            "color": "#2a3f5f"
           }
          },
          "ternary": {
           "aaxis": {
            "gridcolor": "white",
            "linecolor": "white",
            "ticks": ""
           },
           "baxis": {
            "gridcolor": "white",
            "linecolor": "white",
            "ticks": ""
           },
           "bgcolor": "#E5ECF6",
           "caxis": {
            "gridcolor": "white",
            "linecolor": "white",
            "ticks": ""
           }
          },
          "title": {
           "x": 0.05
          },
          "xaxis": {
           "automargin": true,
           "gridcolor": "white",
           "linecolor": "white",
           "ticks": "",
           "title": {
            "standoff": 15
           },
           "zerolinecolor": "white",
           "zerolinewidth": 2
          },
          "yaxis": {
           "automargin": true,
           "gridcolor": "white",
           "linecolor": "white",
           "ticks": "",
           "title": {
            "standoff": 15
           },
           "zerolinecolor": "white",
           "zerolinewidth": 2
          }
         }
        },
        "title": {
         "font": {
          "size": 24
         },
         "text": "Season Tickets By Price Type",
         "x": 0.5
        },
        "width": 950,
        "yaxis": {
         "categoryorder": "total ascending",
         "tickfont": {
          "size": 14
         },
         "title": {
          "text": ""
         }
        }
       }
      }
     },
     "metadata": {},
     "output_type": "display_data"
    }
   ],
   "source": [
    "import plotly.express as px\n",
    "\n",
    "def plot_season_tickets_by_price_type(df):\n",
    "    \"\"\"\n",
    "    Plots a horizontal bar chart of season tickets by price type using Plotly,\n",
    "    ordered from most popular to least.\n",
    "    \"\"\"\n",
    "    # Copy only if necessary\n",
    "    df = df.copy()\n",
    "\n",
    "    # Efficiently clean up price types\n",
    "    df['price_type'] = (\n",
    "        df['price_type']\n",
    "        .astype(str)  # Ensure it's a string\n",
    "        .str.replace(' (upgrade)', '', regex=False)\n",
    "        .replace({'עסקי': 'Business'})\n",
    "        .replace(to_replace=r'.*VIP.*', value='VIP', regex=True)\n",
    "        .replace(to_replace=r'.*מחלקת נוער.*', value='Youth Department', regex=True)\n",
    "    )\n",
    "\n",
    "    # Count and aggregate\n",
    "    grouped = (\n",
    "        df['price_type']\n",
    "        .value_counts()\n",
    "        .rename_axis('price_type')\n",
    "        .reset_index(name='ticket_count')\n",
    "    )\n",
    "\n",
    "    # Color map\n",
    "    color_map = {\n",
    "        'Complementary': 'gray',\n",
    "        'Business': 'orange',\n",
    "        'Box': 'brown',\n",
    "        'VIP': 'purple',\n",
    "        'Community': 'seagreen',\n",
    "        'Youth Department': 'navy',\n",
    "        'Child': 'black',\n",
    "        'Adult': 'red',\n",
    "        'Playoff finals - Adult': 'firebrick',\n",
    "        'Playoff finals - Child': 'skyblue'\n",
    "    }\n",
    "\n",
    "    # Use Plotly's built-in qualitative color scale\n",
    "    all_colors = px.colors.qualitative.Set3 + px.colors.qualitative.Pastel + px.colors.qualitative.Bold\n",
    "\n",
    "    # Create dynamic color map for missing price types\n",
    "    missing_types = [ptype for ptype in grouped['price_type'] if ptype not in color_map]\n",
    "    dynamic_colors = dict(zip(missing_types, all_colors[:len(missing_types)]))\n",
    "\n",
    "    # Combine static and dynamic color maps\n",
    "    full_color_map = {**color_map, **dynamic_colors}\n",
    "\n",
    "    # Assign colors\n",
    "    grouped['color'] = grouped['price_type'].map(full_color_map)\n",
    "\n",
    "\n",
    "    # Plot\n",
    "    fig = go.Figure(go.Bar(\n",
    "        x=grouped['ticket_count'],\n",
    "        y=grouped['price_type'],\n",
    "        orientation='h',\n",
    "        marker_color=grouped['color'],\n",
    "        text=grouped['ticket_count'],\n",
    "        textposition='outside',\n",
    "        textfont=dict(size=14)\n",
    "    ))\n",
    "\n",
    "    fig.update_layout(\n",
    "        title=dict(text='Season Tickets By Price Type', font=dict(size=24), x=0.5),\n",
    "        yaxis=dict(\n",
    "            title='',\n",
    "            tickfont=dict(size=14),\n",
    "            categoryorder='total ascending'  # Automatically sort y-axis\n",
    "        ),\n",
    "        height=600,\n",
    "        width=950,\n",
    "        margin=dict(l=120, r=60, t=80, b=60),\n",
    "        plot_bgcolor='white',\n",
    "        paper_bgcolor='white',\n",
    "        showlegend=False\n",
    "    )\n",
    "\n",
    "    fig.show()\n",
    "\n",
    "# Example run\n",
    "plot_season_tickets_by_price_type(perc)"
   ]
  },
  {
   "cell_type": "code",
   "execution_count": 12,
   "id": "a679f432-3c76-469e-967c-784385d63e3d",
   "metadata": {},
   "outputs": [
    {
     "data": {
      "application/vnd.plotly.v1+json": {
       "config": {
        "plotlyServerURL": "https://plot.ly"
       },
       "data": [
        {
         "hole": 0.4,
         "insidetextorientation": "radial",
         "labels": [
          "Independently (1901)",
          "Telemarketing (1378)"
         ],
         "marker": {
          "colors": [
           "red",
           "skyblue"
          ]
         },
         "textfont": {
          "color": "white",
          "size": 16
         },
         "textinfo": "label+percent",
         "textposition": "inside",
         "type": "pie",
         "values": [
          1901,
          1378
         ]
        }
       ],
       "layout": {
        "height": 400,
        "margin": {
         "b": 40,
         "l": 40,
         "r": 40,
         "t": 60
        },
        "showlegend": false,
        "template": {
         "data": {
          "bar": [
           {
            "error_x": {
             "color": "#2a3f5f"
            },
            "error_y": {
             "color": "#2a3f5f"
            },
            "marker": {
             "line": {
              "color": "#E5ECF6",
              "width": 0.5
             },
             "pattern": {
              "fillmode": "overlay",
              "size": 10,
              "solidity": 0.2
             }
            },
            "type": "bar"
           }
          ],
          "barpolar": [
           {
            "marker": {
             "line": {
              "color": "#E5ECF6",
              "width": 0.5
             },
             "pattern": {
              "fillmode": "overlay",
              "size": 10,
              "solidity": 0.2
             }
            },
            "type": "barpolar"
           }
          ],
          "carpet": [
           {
            "aaxis": {
             "endlinecolor": "#2a3f5f",
             "gridcolor": "white",
             "linecolor": "white",
             "minorgridcolor": "white",
             "startlinecolor": "#2a3f5f"
            },
            "baxis": {
             "endlinecolor": "#2a3f5f",
             "gridcolor": "white",
             "linecolor": "white",
             "minorgridcolor": "white",
             "startlinecolor": "#2a3f5f"
            },
            "type": "carpet"
           }
          ],
          "choropleth": [
           {
            "colorbar": {
             "outlinewidth": 0,
             "ticks": ""
            },
            "type": "choropleth"
           }
          ],
          "contour": [
           {
            "colorbar": {
             "outlinewidth": 0,
             "ticks": ""
            },
            "colorscale": [
             [
              0,
              "#0d0887"
             ],
             [
              0.1111111111111111,
              "#46039f"
             ],
             [
              0.2222222222222222,
              "#7201a8"
             ],
             [
              0.3333333333333333,
              "#9c179e"
             ],
             [
              0.4444444444444444,
              "#bd3786"
             ],
             [
              0.5555555555555556,
              "#d8576b"
             ],
             [
              0.6666666666666666,
              "#ed7953"
             ],
             [
              0.7777777777777778,
              "#fb9f3a"
             ],
             [
              0.8888888888888888,
              "#fdca26"
             ],
             [
              1,
              "#f0f921"
             ]
            ],
            "type": "contour"
           }
          ],
          "contourcarpet": [
           {
            "colorbar": {
             "outlinewidth": 0,
             "ticks": ""
            },
            "type": "contourcarpet"
           }
          ],
          "heatmap": [
           {
            "colorbar": {
             "outlinewidth": 0,
             "ticks": ""
            },
            "colorscale": [
             [
              0,
              "#0d0887"
             ],
             [
              0.1111111111111111,
              "#46039f"
             ],
             [
              0.2222222222222222,
              "#7201a8"
             ],
             [
              0.3333333333333333,
              "#9c179e"
             ],
             [
              0.4444444444444444,
              "#bd3786"
             ],
             [
              0.5555555555555556,
              "#d8576b"
             ],
             [
              0.6666666666666666,
              "#ed7953"
             ],
             [
              0.7777777777777778,
              "#fb9f3a"
             ],
             [
              0.8888888888888888,
              "#fdca26"
             ],
             [
              1,
              "#f0f921"
             ]
            ],
            "type": "heatmap"
           }
          ],
          "heatmapgl": [
           {
            "colorbar": {
             "outlinewidth": 0,
             "ticks": ""
            },
            "colorscale": [
             [
              0,
              "#0d0887"
             ],
             [
              0.1111111111111111,
              "#46039f"
             ],
             [
              0.2222222222222222,
              "#7201a8"
             ],
             [
              0.3333333333333333,
              "#9c179e"
             ],
             [
              0.4444444444444444,
              "#bd3786"
             ],
             [
              0.5555555555555556,
              "#d8576b"
             ],
             [
              0.6666666666666666,
              "#ed7953"
             ],
             [
              0.7777777777777778,
              "#fb9f3a"
             ],
             [
              0.8888888888888888,
              "#fdca26"
             ],
             [
              1,
              "#f0f921"
             ]
            ],
            "type": "heatmapgl"
           }
          ],
          "histogram": [
           {
            "marker": {
             "pattern": {
              "fillmode": "overlay",
              "size": 10,
              "solidity": 0.2
             }
            },
            "type": "histogram"
           }
          ],
          "histogram2d": [
           {
            "colorbar": {
             "outlinewidth": 0,
             "ticks": ""
            },
            "colorscale": [
             [
              0,
              "#0d0887"
             ],
             [
              0.1111111111111111,
              "#46039f"
             ],
             [
              0.2222222222222222,
              "#7201a8"
             ],
             [
              0.3333333333333333,
              "#9c179e"
             ],
             [
              0.4444444444444444,
              "#bd3786"
             ],
             [
              0.5555555555555556,
              "#d8576b"
             ],
             [
              0.6666666666666666,
              "#ed7953"
             ],
             [
              0.7777777777777778,
              "#fb9f3a"
             ],
             [
              0.8888888888888888,
              "#fdca26"
             ],
             [
              1,
              "#f0f921"
             ]
            ],
            "type": "histogram2d"
           }
          ],
          "histogram2dcontour": [
           {
            "colorbar": {
             "outlinewidth": 0,
             "ticks": ""
            },
            "colorscale": [
             [
              0,
              "#0d0887"
             ],
             [
              0.1111111111111111,
              "#46039f"
             ],
             [
              0.2222222222222222,
              "#7201a8"
             ],
             [
              0.3333333333333333,
              "#9c179e"
             ],
             [
              0.4444444444444444,
              "#bd3786"
             ],
             [
              0.5555555555555556,
              "#d8576b"
             ],
             [
              0.6666666666666666,
              "#ed7953"
             ],
             [
              0.7777777777777778,
              "#fb9f3a"
             ],
             [
              0.8888888888888888,
              "#fdca26"
             ],
             [
              1,
              "#f0f921"
             ]
            ],
            "type": "histogram2dcontour"
           }
          ],
          "mesh3d": [
           {
            "colorbar": {
             "outlinewidth": 0,
             "ticks": ""
            },
            "type": "mesh3d"
           }
          ],
          "parcoords": [
           {
            "line": {
             "colorbar": {
              "outlinewidth": 0,
              "ticks": ""
             }
            },
            "type": "parcoords"
           }
          ],
          "pie": [
           {
            "automargin": true,
            "type": "pie"
           }
          ],
          "scatter": [
           {
            "fillpattern": {
             "fillmode": "overlay",
             "size": 10,
             "solidity": 0.2
            },
            "type": "scatter"
           }
          ],
          "scatter3d": [
           {
            "line": {
             "colorbar": {
              "outlinewidth": 0,
              "ticks": ""
             }
            },
            "marker": {
             "colorbar": {
              "outlinewidth": 0,
              "ticks": ""
             }
            },
            "type": "scatter3d"
           }
          ],
          "scattercarpet": [
           {
            "marker": {
             "colorbar": {
              "outlinewidth": 0,
              "ticks": ""
             }
            },
            "type": "scattercarpet"
           }
          ],
          "scattergeo": [
           {
            "marker": {
             "colorbar": {
              "outlinewidth": 0,
              "ticks": ""
             }
            },
            "type": "scattergeo"
           }
          ],
          "scattergl": [
           {
            "marker": {
             "colorbar": {
              "outlinewidth": 0,
              "ticks": ""
             }
            },
            "type": "scattergl"
           }
          ],
          "scattermapbox": [
           {
            "marker": {
             "colorbar": {
              "outlinewidth": 0,
              "ticks": ""
             }
            },
            "type": "scattermapbox"
           }
          ],
          "scatterpolar": [
           {
            "marker": {
             "colorbar": {
              "outlinewidth": 0,
              "ticks": ""
             }
            },
            "type": "scatterpolar"
           }
          ],
          "scatterpolargl": [
           {
            "marker": {
             "colorbar": {
              "outlinewidth": 0,
              "ticks": ""
             }
            },
            "type": "scatterpolargl"
           }
          ],
          "scatterternary": [
           {
            "marker": {
             "colorbar": {
              "outlinewidth": 0,
              "ticks": ""
             }
            },
            "type": "scatterternary"
           }
          ],
          "surface": [
           {
            "colorbar": {
             "outlinewidth": 0,
             "ticks": ""
            },
            "colorscale": [
             [
              0,
              "#0d0887"
             ],
             [
              0.1111111111111111,
              "#46039f"
             ],
             [
              0.2222222222222222,
              "#7201a8"
             ],
             [
              0.3333333333333333,
              "#9c179e"
             ],
             [
              0.4444444444444444,
              "#bd3786"
             ],
             [
              0.5555555555555556,
              "#d8576b"
             ],
             [
              0.6666666666666666,
              "#ed7953"
             ],
             [
              0.7777777777777778,
              "#fb9f3a"
             ],
             [
              0.8888888888888888,
              "#fdca26"
             ],
             [
              1,
              "#f0f921"
             ]
            ],
            "type": "surface"
           }
          ],
          "table": [
           {
            "cells": {
             "fill": {
              "color": "#EBF0F8"
             },
             "line": {
              "color": "white"
             }
            },
            "header": {
             "fill": {
              "color": "#C8D4E3"
             },
             "line": {
              "color": "white"
             }
            },
            "type": "table"
           }
          ]
         },
         "layout": {
          "annotationdefaults": {
           "arrowcolor": "#2a3f5f",
           "arrowhead": 0,
           "arrowwidth": 1
          },
          "autotypenumbers": "strict",
          "coloraxis": {
           "colorbar": {
            "outlinewidth": 0,
            "ticks": ""
           }
          },
          "colorscale": {
           "diverging": [
            [
             0,
             "#8e0152"
            ],
            [
             0.1,
             "#c51b7d"
            ],
            [
             0.2,
             "#de77ae"
            ],
            [
             0.3,
             "#f1b6da"
            ],
            [
             0.4,
             "#fde0ef"
            ],
            [
             0.5,
             "#f7f7f7"
            ],
            [
             0.6,
             "#e6f5d0"
            ],
            [
             0.7,
             "#b8e186"
            ],
            [
             0.8,
             "#7fbc41"
            ],
            [
             0.9,
             "#4d9221"
            ],
            [
             1,
             "#276419"
            ]
           ],
           "sequential": [
            [
             0,
             "#0d0887"
            ],
            [
             0.1111111111111111,
             "#46039f"
            ],
            [
             0.2222222222222222,
             "#7201a8"
            ],
            [
             0.3333333333333333,
             "#9c179e"
            ],
            [
             0.4444444444444444,
             "#bd3786"
            ],
            [
             0.5555555555555556,
             "#d8576b"
            ],
            [
             0.6666666666666666,
             "#ed7953"
            ],
            [
             0.7777777777777778,
             "#fb9f3a"
            ],
            [
             0.8888888888888888,
             "#fdca26"
            ],
            [
             1,
             "#f0f921"
            ]
           ],
           "sequentialminus": [
            [
             0,
             "#0d0887"
            ],
            [
             0.1111111111111111,
             "#46039f"
            ],
            [
             0.2222222222222222,
             "#7201a8"
            ],
            [
             0.3333333333333333,
             "#9c179e"
            ],
            [
             0.4444444444444444,
             "#bd3786"
            ],
            [
             0.5555555555555556,
             "#d8576b"
            ],
            [
             0.6666666666666666,
             "#ed7953"
            ],
            [
             0.7777777777777778,
             "#fb9f3a"
            ],
            [
             0.8888888888888888,
             "#fdca26"
            ],
            [
             1,
             "#f0f921"
            ]
           ]
          },
          "colorway": [
           "#636efa",
           "#EF553B",
           "#00cc96",
           "#ab63fa",
           "#FFA15A",
           "#19d3f3",
           "#FF6692",
           "#B6E880",
           "#FF97FF",
           "#FECB52"
          ],
          "font": {
           "color": "#2a3f5f"
          },
          "geo": {
           "bgcolor": "white",
           "lakecolor": "white",
           "landcolor": "#E5ECF6",
           "showlakes": true,
           "showland": true,
           "subunitcolor": "white"
          },
          "hoverlabel": {
           "align": "left"
          },
          "hovermode": "closest",
          "mapbox": {
           "style": "light"
          },
          "paper_bgcolor": "white",
          "plot_bgcolor": "#E5ECF6",
          "polar": {
           "angularaxis": {
            "gridcolor": "white",
            "linecolor": "white",
            "ticks": ""
           },
           "bgcolor": "#E5ECF6",
           "radialaxis": {
            "gridcolor": "white",
            "linecolor": "white",
            "ticks": ""
           }
          },
          "scene": {
           "xaxis": {
            "backgroundcolor": "#E5ECF6",
            "gridcolor": "white",
            "gridwidth": 2,
            "linecolor": "white",
            "showbackground": true,
            "ticks": "",
            "zerolinecolor": "white"
           },
           "yaxis": {
            "backgroundcolor": "#E5ECF6",
            "gridcolor": "white",
            "gridwidth": 2,
            "linecolor": "white",
            "showbackground": true,
            "ticks": "",
            "zerolinecolor": "white"
           },
           "zaxis": {
            "backgroundcolor": "#E5ECF6",
            "gridcolor": "white",
            "gridwidth": 2,
            "linecolor": "white",
            "showbackground": true,
            "ticks": "",
            "zerolinecolor": "white"
           }
          },
          "shapedefaults": {
           "line": {
            "color": "#2a3f5f"
           }
          },
          "ternary": {
           "aaxis": {
            "gridcolor": "white",
            "linecolor": "white",
            "ticks": ""
           },
           "baxis": {
            "gridcolor": "white",
            "linecolor": "white",
            "ticks": ""
           },
           "bgcolor": "#E5ECF6",
           "caxis": {
            "gridcolor": "white",
            "linecolor": "white",
            "ticks": ""
           }
          },
          "title": {
           "x": 0.05
          },
          "xaxis": {
           "automargin": true,
           "gridcolor": "white",
           "linecolor": "white",
           "ticks": "",
           "title": {
            "standoff": 15
           },
           "zerolinecolor": "white",
           "zerolinewidth": 2
          },
          "yaxis": {
           "automargin": true,
           "gridcolor": "white",
           "linecolor": "white",
           "ticks": "",
           "title": {
            "standoff": 15
           },
           "zerolinecolor": "white",
           "zerolinewidth": 2
          }
         }
        },
        "title": {
         "font": {
          "size": 20
         },
         "text": "How Is A Season Ticket Purchased?",
         "x": 0.5
        },
        "width": 500
       }
      }
     },
     "metadata": {},
     "output_type": "display_data"
    }
   ],
   "source": [
    "def plot_purchase_method_pie(df, column='co_purchaser_email'):\n",
    "    \"\"\"\n",
    "    Plots a pie chart of purchase methods (Independently vs Telemarketing).\n",
    "    \"\"\"\n",
    "    # Do not modify original df\n",
    "    temp_df = df.copy()\n",
    "\n",
    "    # Vectorized assignment of purchase method\n",
    "    temp_df['purchase_method'] = np.where(temp_df[column].isna(), 'Independently', 'Telemarketing')\n",
    "\n",
    "    # Count\n",
    "    counts = temp_df['purchase_method'].value_counts()\n",
    "\n",
    "    # Prepare data\n",
    "    purchase_methods = ['Independently', 'Telemarketing']\n",
    "    values = [counts.get(method, 0) for method in purchase_methods]\n",
    "    labels = [f\"{method} ({count})\" for method, count in zip(purchase_methods, values)]\n",
    "    colors = ['red', 'skyblue']\n",
    "\n",
    "    # Plot\n",
    "    fig = go.Figure(data=[\n",
    "        go.Pie(\n",
    "            labels=labels,\n",
    "            values=values,\n",
    "            marker=dict(colors=colors),\n",
    "            hole=0.4,\n",
    "            textinfo='label+percent',\n",
    "            textposition='inside',\n",
    "            insidetextorientation='radial',\n",
    "            textfont=dict(size=16, color='white')\n",
    "        )\n",
    "    ])\n",
    "\n",
    "    fig.update_layout(\n",
    "        title=dict(text='How Is A Season Ticket Purchased?', x=0.5, font=dict(size=20)),\n",
    "        height=400,\n",
    "        width=500,\n",
    "        margin=dict(t=60, b=40, l=40, r=40),\n",
    "        showlegend=False\n",
    "    )\n",
    "\n",
    "    fig.show()\n",
    "\n",
    "# Example call\n",
    "plot_purchase_method_pie(perc)"
   ]
  },
  {
   "cell_type": "code",
   "execution_count": 13,
   "id": "2e4191e0",
   "metadata": {},
   "outputs": [
    {
     "data": {
      "application/vnd.plotly.v1+json": {
       "config": {
        "plotlyServerURL": "https://plot.ly"
       },
       "data": [
        {
         "arrangement": "snap",
         "link": {
          "color": [
           "rgba(255, 105, 180, 0.6)",
           "rgba(255, 105, 180, 0.6)",
           "rgba(255, 105, 180, 0.6)",
           "rgba(70, 130, 180, 0.6)",
           "rgba(70, 130, 180, 0.6)",
           "rgba(70, 130, 180, 0.6)",
           "rgba(70, 130, 180, 0.6)",
           "rgba(70, 130, 180, 0.6)",
           "rgba(70, 130, 180, 0.6)",
           "rgba(70, 130, 180, 0.6)",
           "rgba(70, 130, 180, 0.6)",
           "rgba(70, 130, 180, 0.6)",
           "rgba(220, 20, 60, 0.6)",
           "rgba(220, 20, 60, 0.6)",
           "rgba(220, 20, 60, 0.6)",
           "rgba(220, 20, 60, 0.6)",
           "rgba(144, 238, 144, 0.6)",
           "rgba(144, 238, 144, 0.6)",
           "rgba(144, 238, 144, 0.6)",
           "rgba(144, 238, 144, 0.6)",
           "rgba(144, 238, 144, 0.6)",
           "rgba(144, 238, 144, 0.6)",
           "rgba(255, 165, 0, 0.6)",
           "rgba(255, 140, 0, 0.6)",
           "rgba(255, 140, 0, 0.6)",
           "rgba(255, 140, 0, 0.6)",
           "rgba(34, 139, 34, 0.6)",
           "rgba(34, 139, 34, 0.6)",
           "rgba(34, 139, 34, 0.6)",
           "rgba(34, 139, 34, 0.6)",
           "rgba(34, 139, 34, 0.6)",
           "rgba(135, 206, 250, 0.6)",
           "rgba(135, 206, 250, 0.6)",
           "rgba(135, 206, 250, 0.6)",
           "rgba(200, 100, 100, 0.6)",
           "rgba(200, 100, 100, 0.6)",
           "rgba(200, 100, 100, 0.6)",
           "rgba(200, 100, 100, 0.6)",
           "rgba(200, 100, 100, 0.6)",
           "rgba(200, 100, 100, 0.6)",
           "rgba(200, 100, 100, 0.6)",
           "rgba(200, 100, 100, 0.6)",
           "rgba(200, 100, 100, 0.6)",
           "rgba(200, 100, 100, 0.6)",
           "rgba(200, 100, 100, 0.6)"
          ],
          "customdata": [
           "446 clients moved from A (24/25) to A (25/26)",
           "11 clients moved from A (24/25) to Gold (25/26)",
           "8 clients moved from A (24/25) to Silver (25/26)",
           "27 clients moved from B (24/25) to A (25/26)",
           "1867 clients moved from B (24/25) to B (25/26)",
           "85 clients moved from B (24/25) to C (25/26)",
           "18 clients moved from B (24/25) to D (25/26)",
           "8 clients moved from B (24/25) to F (25/26)",
           "16 clients moved from B (24/25) to Gold (25/26)",
           "46 clients moved from B (24/25) to Silver (25/26)",
           "6 clients moved from B (24/25) to פרקט מרכז (25/26)",
           "61 clients moved from B (24/25) to פרקט מרכז שורה 2 (25/26)",
           "109 clients moved from C (24/25) to B (25/26)",
           "1460 clients moved from C (24/25) to C (25/26)",
           "25 clients moved from C (24/25) to D (25/26)",
           "70 clients moved from C (24/25) to Gold (25/26)",
           "6 clients moved from D (24/25) to A (25/26)",
           "22 clients moved from D (24/25) to B (25/26)",
           "27 clients moved from D (24/25) to C (25/26)",
           "757 clients moved from D (24/25) to D (25/26)",
           "5 clients moved from D (24/25) to F (25/26)",
           "5 clients moved from D (24/25) to פרקט מרכז שורה 2 (25/26)",
           "7 clients moved from E (24/25) to D (25/26)",
           "16 clients moved from F (24/25) to D (25/26)",
           "232 clients moved from F (24/25) to F (25/26)",
           "28 clients moved from F (24/25) to Silver (25/26)",
           "16 clients moved from Gold (24/25) to B (25/26)",
           "70 clients moved from Gold (24/25) to C (25/26)",
           "7 clients moved from Gold (24/25) to D (25/26)",
           "6 clients moved from Gold (24/25) to F (25/26)",
           "89 clients moved from Gold (24/25) to Gold (25/26)",
           "49 clients moved from Silver (24/25) to A (25/26)",
           "31 clients moved from Silver (24/25) to F (25/26)",
           "274 clients moved from Silver (24/25) to Silver (25/26)",
           "10 clients moved from Silver Up (24/25) to Silver Up (25/26)",
           "6 clients moved from פרקט מרכז (24/25) to B (25/26)",
           "45 clients moved from פרקט מרכז (24/25) to פרקט מרכז (25/26)",
           "6 clients moved from פרקט מרכז (24/25) to פרקט מרכז שורה 2 (25/26)",
           "60 clients moved from פרקט מרכז שורה 2 (24/25) to B (25/26)",
           "6 clients moved from פרקט מרכז שורה 2 (24/25) to פרקט מרכז (25/26)",
           "17 clients moved from פרקט מרכז שורה 2 (24/25) to פרקט מרכז שורה 2 (25/26)",
           "5 clients moved from פרקט צד (24/25) to A (25/26)",
           "12 clients moved from פרקט צד (24/25) to פרקט צד (25/26)",
           "33 clients moved from תא צפיה (24/25) to Gold (25/26)",
           "256 clients moved from תא צפיה (24/25) to תא צפיה (25/26)"
          ],
          "hovertemplate": "%{customdata}<extra></extra>",
          "source": [
           0,
           0,
           0,
           1,
           1,
           1,
           1,
           1,
           1,
           1,
           1,
           1,
           2,
           2,
           2,
           2,
           3,
           3,
           3,
           3,
           3,
           3,
           4,
           5,
           5,
           5,
           6,
           6,
           6,
           6,
           6,
           7,
           7,
           7,
           8,
           9,
           9,
           9,
           10,
           10,
           10,
           11,
           11,
           12,
           12
          ],
          "target": [
           13,
           19,
           20,
           13,
           14,
           15,
           16,
           18,
           19,
           20,
           22,
           23,
           14,
           15,
           16,
           19,
           13,
           14,
           15,
           16,
           18,
           23,
           16,
           16,
           18,
           20,
           14,
           15,
           16,
           18,
           19,
           13,
           18,
           20,
           21,
           14,
           22,
           23,
           14,
           22,
           23,
           13,
           24,
           19,
           25
          ],
          "value": [
           446,
           11,
           8,
           27,
           1867,
           85,
           18,
           8,
           16,
           46,
           6,
           61,
           109,
           1460,
           25,
           70,
           6,
           22,
           27,
           757,
           5,
           5,
           7,
           16,
           232,
           28,
           16,
           70,
           7,
           6,
           89,
           49,
           31,
           274,
           10,
           6,
           45,
           6,
           60,
           6,
           17,
           5,
           12,
           33,
           256
          ]
         },
         "node": {
          "color": "lightgray",
          "label": [
           "A",
           "B",
           "C",
           "D",
           "E",
           "F",
           "Gold",
           "Silver",
           "Silver Up",
           "פרקט מרכז",
           "פרקט מרכז שורה 2",
           "פרקט צד",
           "תא צפיה",
           "A",
           "B",
           "C",
           "D",
           "E",
           "F",
           "Gold",
           "Silver",
           "Silver Up",
           "פרקט מרכז",
           "פרקט מרכז שורה 2",
           "פרקט צד",
           "תא צפיה"
          ],
          "line": {
           "color": "black",
           "width": 0.5
          },
          "pad": 15,
          "thickness": 20,
          "x": [
           0.01,
           0.01,
           0.01,
           0.01,
           0.01,
           0.01,
           0.01,
           0.01,
           0.01,
           0.01,
           0.01,
           0.01,
           0.01,
           0.99,
           0.99,
           0.99,
           0.99,
           0.99,
           0.99,
           0.99,
           0.99,
           0.99,
           0.99,
           0.99,
           0.99,
           0.99
          ],
          "y": [
           0.07142857142857142,
           0.14285714285714285,
           0.21428571428571427,
           0.2857142857142857,
           0.3571428571428571,
           0.42857142857142855,
           0.5,
           0.5714285714285714,
           0.6428571428571428,
           0.7142857142857142,
           0.7857142857142857,
           0.8571428571428571,
           0.9285714285714285,
           0.07142857142857142,
           0.14285714285714285,
           0.21428571428571427,
           0.2857142857142857,
           0.3571428571428571,
           0.42857142857142855,
           0.5,
           0.5714285714285714,
           0.6428571428571428,
           0.7142857142857142,
           0.7857142857142857,
           0.8571428571428571,
           0.9285714285714285
          ]
         },
         "type": "sankey"
        }
       ],
       "layout": {
        "font": {
         "size": 14
        },
        "height": 600,
        "template": {
         "data": {
          "bar": [
           {
            "error_x": {
             "color": "#2a3f5f"
            },
            "error_y": {
             "color": "#2a3f5f"
            },
            "marker": {
             "line": {
              "color": "#E5ECF6",
              "width": 0.5
             },
             "pattern": {
              "fillmode": "overlay",
              "size": 10,
              "solidity": 0.2
             }
            },
            "type": "bar"
           }
          ],
          "barpolar": [
           {
            "marker": {
             "line": {
              "color": "#E5ECF6",
              "width": 0.5
             },
             "pattern": {
              "fillmode": "overlay",
              "size": 10,
              "solidity": 0.2
             }
            },
            "type": "barpolar"
           }
          ],
          "carpet": [
           {
            "aaxis": {
             "endlinecolor": "#2a3f5f",
             "gridcolor": "white",
             "linecolor": "white",
             "minorgridcolor": "white",
             "startlinecolor": "#2a3f5f"
            },
            "baxis": {
             "endlinecolor": "#2a3f5f",
             "gridcolor": "white",
             "linecolor": "white",
             "minorgridcolor": "white",
             "startlinecolor": "#2a3f5f"
            },
            "type": "carpet"
           }
          ],
          "choropleth": [
           {
            "colorbar": {
             "outlinewidth": 0,
             "ticks": ""
            },
            "type": "choropleth"
           }
          ],
          "contour": [
           {
            "colorbar": {
             "outlinewidth": 0,
             "ticks": ""
            },
            "colorscale": [
             [
              0,
              "#0d0887"
             ],
             [
              0.1111111111111111,
              "#46039f"
             ],
             [
              0.2222222222222222,
              "#7201a8"
             ],
             [
              0.3333333333333333,
              "#9c179e"
             ],
             [
              0.4444444444444444,
              "#bd3786"
             ],
             [
              0.5555555555555556,
              "#d8576b"
             ],
             [
              0.6666666666666666,
              "#ed7953"
             ],
             [
              0.7777777777777778,
              "#fb9f3a"
             ],
             [
              0.8888888888888888,
              "#fdca26"
             ],
             [
              1,
              "#f0f921"
             ]
            ],
            "type": "contour"
           }
          ],
          "contourcarpet": [
           {
            "colorbar": {
             "outlinewidth": 0,
             "ticks": ""
            },
            "type": "contourcarpet"
           }
          ],
          "heatmap": [
           {
            "colorbar": {
             "outlinewidth": 0,
             "ticks": ""
            },
            "colorscale": [
             [
              0,
              "#0d0887"
             ],
             [
              0.1111111111111111,
              "#46039f"
             ],
             [
              0.2222222222222222,
              "#7201a8"
             ],
             [
              0.3333333333333333,
              "#9c179e"
             ],
             [
              0.4444444444444444,
              "#bd3786"
             ],
             [
              0.5555555555555556,
              "#d8576b"
             ],
             [
              0.6666666666666666,
              "#ed7953"
             ],
             [
              0.7777777777777778,
              "#fb9f3a"
             ],
             [
              0.8888888888888888,
              "#fdca26"
             ],
             [
              1,
              "#f0f921"
             ]
            ],
            "type": "heatmap"
           }
          ],
          "heatmapgl": [
           {
            "colorbar": {
             "outlinewidth": 0,
             "ticks": ""
            },
            "colorscale": [
             [
              0,
              "#0d0887"
             ],
             [
              0.1111111111111111,
              "#46039f"
             ],
             [
              0.2222222222222222,
              "#7201a8"
             ],
             [
              0.3333333333333333,
              "#9c179e"
             ],
             [
              0.4444444444444444,
              "#bd3786"
             ],
             [
              0.5555555555555556,
              "#d8576b"
             ],
             [
              0.6666666666666666,
              "#ed7953"
             ],
             [
              0.7777777777777778,
              "#fb9f3a"
             ],
             [
              0.8888888888888888,
              "#fdca26"
             ],
             [
              1,
              "#f0f921"
             ]
            ],
            "type": "heatmapgl"
           }
          ],
          "histogram": [
           {
            "marker": {
             "pattern": {
              "fillmode": "overlay",
              "size": 10,
              "solidity": 0.2
             }
            },
            "type": "histogram"
           }
          ],
          "histogram2d": [
           {
            "colorbar": {
             "outlinewidth": 0,
             "ticks": ""
            },
            "colorscale": [
             [
              0,
              "#0d0887"
             ],
             [
              0.1111111111111111,
              "#46039f"
             ],
             [
              0.2222222222222222,
              "#7201a8"
             ],
             [
              0.3333333333333333,
              "#9c179e"
             ],
             [
              0.4444444444444444,
              "#bd3786"
             ],
             [
              0.5555555555555556,
              "#d8576b"
             ],
             [
              0.6666666666666666,
              "#ed7953"
             ],
             [
              0.7777777777777778,
              "#fb9f3a"
             ],
             [
              0.8888888888888888,
              "#fdca26"
             ],
             [
              1,
              "#f0f921"
             ]
            ],
            "type": "histogram2d"
           }
          ],
          "histogram2dcontour": [
           {
            "colorbar": {
             "outlinewidth": 0,
             "ticks": ""
            },
            "colorscale": [
             [
              0,
              "#0d0887"
             ],
             [
              0.1111111111111111,
              "#46039f"
             ],
             [
              0.2222222222222222,
              "#7201a8"
             ],
             [
              0.3333333333333333,
              "#9c179e"
             ],
             [
              0.4444444444444444,
              "#bd3786"
             ],
             [
              0.5555555555555556,
              "#d8576b"
             ],
             [
              0.6666666666666666,
              "#ed7953"
             ],
             [
              0.7777777777777778,
              "#fb9f3a"
             ],
             [
              0.8888888888888888,
              "#fdca26"
             ],
             [
              1,
              "#f0f921"
             ]
            ],
            "type": "histogram2dcontour"
           }
          ],
          "mesh3d": [
           {
            "colorbar": {
             "outlinewidth": 0,
             "ticks": ""
            },
            "type": "mesh3d"
           }
          ],
          "parcoords": [
           {
            "line": {
             "colorbar": {
              "outlinewidth": 0,
              "ticks": ""
             }
            },
            "type": "parcoords"
           }
          ],
          "pie": [
           {
            "automargin": true,
            "type": "pie"
           }
          ],
          "scatter": [
           {
            "fillpattern": {
             "fillmode": "overlay",
             "size": 10,
             "solidity": 0.2
            },
            "type": "scatter"
           }
          ],
          "scatter3d": [
           {
            "line": {
             "colorbar": {
              "outlinewidth": 0,
              "ticks": ""
             }
            },
            "marker": {
             "colorbar": {
              "outlinewidth": 0,
              "ticks": ""
             }
            },
            "type": "scatter3d"
           }
          ],
          "scattercarpet": [
           {
            "marker": {
             "colorbar": {
              "outlinewidth": 0,
              "ticks": ""
             }
            },
            "type": "scattercarpet"
           }
          ],
          "scattergeo": [
           {
            "marker": {
             "colorbar": {
              "outlinewidth": 0,
              "ticks": ""
             }
            },
            "type": "scattergeo"
           }
          ],
          "scattergl": [
           {
            "marker": {
             "colorbar": {
              "outlinewidth": 0,
              "ticks": ""
             }
            },
            "type": "scattergl"
           }
          ],
          "scattermapbox": [
           {
            "marker": {
             "colorbar": {
              "outlinewidth": 0,
              "ticks": ""
             }
            },
            "type": "scattermapbox"
           }
          ],
          "scatterpolar": [
           {
            "marker": {
             "colorbar": {
              "outlinewidth": 0,
              "ticks": ""
             }
            },
            "type": "scatterpolar"
           }
          ],
          "scatterpolargl": [
           {
            "marker": {
             "colorbar": {
              "outlinewidth": 0,
              "ticks": ""
             }
            },
            "type": "scatterpolargl"
           }
          ],
          "scatterternary": [
           {
            "marker": {
             "colorbar": {
              "outlinewidth": 0,
              "ticks": ""
             }
            },
            "type": "scatterternary"
           }
          ],
          "surface": [
           {
            "colorbar": {
             "outlinewidth": 0,
             "ticks": ""
            },
            "colorscale": [
             [
              0,
              "#0d0887"
             ],
             [
              0.1111111111111111,
              "#46039f"
             ],
             [
              0.2222222222222222,
              "#7201a8"
             ],
             [
              0.3333333333333333,
              "#9c179e"
             ],
             [
              0.4444444444444444,
              "#bd3786"
             ],
             [
              0.5555555555555556,
              "#d8576b"
             ],
             [
              0.6666666666666666,
              "#ed7953"
             ],
             [
              0.7777777777777778,
              "#fb9f3a"
             ],
             [
              0.8888888888888888,
              "#fdca26"
             ],
             [
              1,
              "#f0f921"
             ]
            ],
            "type": "surface"
           }
          ],
          "table": [
           {
            "cells": {
             "fill": {
              "color": "#EBF0F8"
             },
             "line": {
              "color": "white"
             }
            },
            "header": {
             "fill": {
              "color": "#C8D4E3"
             },
             "line": {
              "color": "white"
             }
            },
            "type": "table"
           }
          ]
         },
         "layout": {
          "annotationdefaults": {
           "arrowcolor": "#2a3f5f",
           "arrowhead": 0,
           "arrowwidth": 1
          },
          "autotypenumbers": "strict",
          "coloraxis": {
           "colorbar": {
            "outlinewidth": 0,
            "ticks": ""
           }
          },
          "colorscale": {
           "diverging": [
            [
             0,
             "#8e0152"
            ],
            [
             0.1,
             "#c51b7d"
            ],
            [
             0.2,
             "#de77ae"
            ],
            [
             0.3,
             "#f1b6da"
            ],
            [
             0.4,
             "#fde0ef"
            ],
            [
             0.5,
             "#f7f7f7"
            ],
            [
             0.6,
             "#e6f5d0"
            ],
            [
             0.7,
             "#b8e186"
            ],
            [
             0.8,
             "#7fbc41"
            ],
            [
             0.9,
             "#4d9221"
            ],
            [
             1,
             "#276419"
            ]
           ],
           "sequential": [
            [
             0,
             "#0d0887"
            ],
            [
             0.1111111111111111,
             "#46039f"
            ],
            [
             0.2222222222222222,
             "#7201a8"
            ],
            [
             0.3333333333333333,
             "#9c179e"
            ],
            [
             0.4444444444444444,
             "#bd3786"
            ],
            [
             0.5555555555555556,
             "#d8576b"
            ],
            [
             0.6666666666666666,
             "#ed7953"
            ],
            [
             0.7777777777777778,
             "#fb9f3a"
            ],
            [
             0.8888888888888888,
             "#fdca26"
            ],
            [
             1,
             "#f0f921"
            ]
           ],
           "sequentialminus": [
            [
             0,
             "#0d0887"
            ],
            [
             0.1111111111111111,
             "#46039f"
            ],
            [
             0.2222222222222222,
             "#7201a8"
            ],
            [
             0.3333333333333333,
             "#9c179e"
            ],
            [
             0.4444444444444444,
             "#bd3786"
            ],
            [
             0.5555555555555556,
             "#d8576b"
            ],
            [
             0.6666666666666666,
             "#ed7953"
            ],
            [
             0.7777777777777778,
             "#fb9f3a"
            ],
            [
             0.8888888888888888,
             "#fdca26"
            ],
            [
             1,
             "#f0f921"
            ]
           ]
          },
          "colorway": [
           "#636efa",
           "#EF553B",
           "#00cc96",
           "#ab63fa",
           "#FFA15A",
           "#19d3f3",
           "#FF6692",
           "#B6E880",
           "#FF97FF",
           "#FECB52"
          ],
          "font": {
           "color": "#2a3f5f"
          },
          "geo": {
           "bgcolor": "white",
           "lakecolor": "white",
           "landcolor": "#E5ECF6",
           "showlakes": true,
           "showland": true,
           "subunitcolor": "white"
          },
          "hoverlabel": {
           "align": "left"
          },
          "hovermode": "closest",
          "mapbox": {
           "style": "light"
          },
          "paper_bgcolor": "white",
          "plot_bgcolor": "#E5ECF6",
          "polar": {
           "angularaxis": {
            "gridcolor": "white",
            "linecolor": "white",
            "ticks": ""
           },
           "bgcolor": "#E5ECF6",
           "radialaxis": {
            "gridcolor": "white",
            "linecolor": "white",
            "ticks": ""
           }
          },
          "scene": {
           "xaxis": {
            "backgroundcolor": "#E5ECF6",
            "gridcolor": "white",
            "gridwidth": 2,
            "linecolor": "white",
            "showbackground": true,
            "ticks": "",
            "zerolinecolor": "white"
           },
           "yaxis": {
            "backgroundcolor": "#E5ECF6",
            "gridcolor": "white",
            "gridwidth": 2,
            "linecolor": "white",
            "showbackground": true,
            "ticks": "",
            "zerolinecolor": "white"
           },
           "zaxis": {
            "backgroundcolor": "#E5ECF6",
            "gridcolor": "white",
            "gridwidth": 2,
            "linecolor": "white",
            "showbackground": true,
            "ticks": "",
            "zerolinecolor": "white"
           }
          },
          "shapedefaults": {
           "line": {
            "color": "#2a3f5f"
           }
          },
          "ternary": {
           "aaxis": {
            "gridcolor": "white",
            "linecolor": "white",
            "ticks": ""
           },
           "baxis": {
            "gridcolor": "white",
            "linecolor": "white",
            "ticks": ""
           },
           "bgcolor": "#E5ECF6",
           "caxis": {
            "gridcolor": "white",
            "linecolor": "white",
            "ticks": ""
           }
          },
          "title": {
           "x": 0.05
          },
          "xaxis": {
           "automargin": true,
           "gridcolor": "white",
           "linecolor": "white",
           "ticks": "",
           "title": {
            "standoff": 15
           },
           "zerolinecolor": "white",
           "zerolinewidth": 2
          },
          "yaxis": {
           "automargin": true,
           "gridcolor": "white",
           "linecolor": "white",
           "ticks": "",
           "title": {
            "standoff": 15
           },
           "zerolinecolor": "white",
           "zerolinewidth": 2
          }
         }
        },
        "title": {
         "text": "Season Ticket Price Category Transitions",
         "x": 0.5
        },
        "width": 1100
       }
      }
     },
     "metadata": {},
     "output_type": "display_data"
    },
    {
     "data": {
      "application/vnd.microsoft.datawrangler.viewer.v0+json": {
       "columns": [
        {
         "name": "index",
         "rawType": "int64",
         "type": "integer"
        },
        {
         "name": "From (24/25)",
         "rawType": "object",
         "type": "string"
        },
        {
         "name": "To (25/26)",
         "rawType": "object",
         "type": "string"
        },
        {
         "name": "Number of Clients",
         "rawType": "int64",
         "type": "integer"
        }
       ],
       "ref": "8e8789cf-bdfa-4e84-97af-b5491b1c35ee",
       "rows": [
        [
         "0",
         "A",
         "A",
         "446"
        ],
        [
         "5",
         "A",
         "Gold",
         "11"
        ],
        [
         "6",
         "A",
         "Silver",
         "8"
        ],
        [
         "9",
         "B",
         "A",
         "27"
        ],
        [
         "10",
         "B",
         "B",
         "1867"
        ],
        [
         "11",
         "B",
         "C",
         "85"
        ],
        [
         "12",
         "B",
         "D",
         "18"
        ],
        [
         "13",
         "B",
         "F",
         "8"
        ],
        [
         "14",
         "B",
         "Gold",
         "16"
        ],
        [
         "15",
         "B",
         "Silver",
         "46"
        ],
        [
         "16",
         "B",
         "פרקט מרכז",
         "6"
        ],
        [
         "17",
         "B",
         "פרקט מרכז שורה 2",
         "61"
        ],
        [
         "19",
         "C",
         "B",
         "109"
        ],
        [
         "20",
         "C",
         "C",
         "1460"
        ],
        [
         "21",
         "C",
         "D",
         "25"
        ],
        [
         "25",
         "C",
         "Gold",
         "70"
        ],
        [
         "28",
         "D",
         "A",
         "6"
        ],
        [
         "29",
         "D",
         "B",
         "22"
        ],
        [
         "30",
         "D",
         "C",
         "27"
        ],
        [
         "31",
         "D",
         "D",
         "757"
        ],
        [
         "33",
         "D",
         "F",
         "5"
        ],
        [
         "36",
         "D",
         "פרקט מרכז שורה 2",
         "5"
        ],
        [
         "37",
         "E",
         "D",
         "7"
        ],
        [
         "42",
         "F",
         "D",
         "16"
        ],
        [
         "43",
         "F",
         "F",
         "232"
        ],
        [
         "46",
         "F",
         "Silver",
         "28"
        ],
        [
         "53",
         "Gold",
         "B",
         "16"
        ],
        [
         "54",
         "Gold",
         "C",
         "70"
        ],
        [
         "55",
         "Gold",
         "D",
         "7"
        ],
        [
         "57",
         "Gold",
         "F",
         "6"
        ],
        [
         "59",
         "Gold",
         "Gold",
         "89"
        ],
        [
         "61",
         "Silver",
         "A",
         "49"
        ],
        [
         "64",
         "Silver",
         "F",
         "31"
        ],
        [
         "67",
         "Silver",
         "Silver",
         "274"
        ],
        [
         "71",
         "Silver Up",
         "Silver Up",
         "10"
        ],
        [
         "73",
         "פרקט מרכז",
         "B",
         "6"
        ],
        [
         "74",
         "פרקט מרכז",
         "פרקט מרכז",
         "45"
        ],
        [
         "75",
         "פרקט מרכז",
         "פרקט מרכז שורה 2",
         "6"
        ],
        [
         "76",
         "פרקט מרכז שורה 2",
         "B",
         "60"
        ],
        [
         "78",
         "פרקט מרכז שורה 2",
         "פרקט מרכז",
         "6"
        ],
        [
         "79",
         "פרקט מרכז שורה 2",
         "פרקט מרכז שורה 2",
         "17"
        ],
        [
         "80",
         "פרקט צד",
         "A",
         "5"
        ],
        [
         "84",
         "פרקט צד",
         "פרקט צד",
         "12"
        ],
        [
         "87",
         "תא צפיה",
         "Gold",
         "33"
        ],
        [
         "89",
         "תא צפיה",
         "תא צפיה",
         "256"
        ]
       ],
       "shape": {
        "columns": 3,
        "rows": 45
       }
      },
      "text/html": [
       "<div>\n",
       "<style scoped>\n",
       "    .dataframe tbody tr th:only-of-type {\n",
       "        vertical-align: middle;\n",
       "    }\n",
       "\n",
       "    .dataframe tbody tr th {\n",
       "        vertical-align: top;\n",
       "    }\n",
       "\n",
       "    .dataframe thead th {\n",
       "        text-align: right;\n",
       "    }\n",
       "</style>\n",
       "<table border=\"1\" class=\"dataframe\">\n",
       "  <thead>\n",
       "    <tr style=\"text-align: right;\">\n",
       "      <th></th>\n",
       "      <th>From (24/25)</th>\n",
       "      <th>To (25/26)</th>\n",
       "      <th>Number of Clients</th>\n",
       "    </tr>\n",
       "  </thead>\n",
       "  <tbody>\n",
       "    <tr>\n",
       "      <th>0</th>\n",
       "      <td>A</td>\n",
       "      <td>A</td>\n",
       "      <td>446</td>\n",
       "    </tr>\n",
       "    <tr>\n",
       "      <th>5</th>\n",
       "      <td>A</td>\n",
       "      <td>Gold</td>\n",
       "      <td>11</td>\n",
       "    </tr>\n",
       "    <tr>\n",
       "      <th>6</th>\n",
       "      <td>A</td>\n",
       "      <td>Silver</td>\n",
       "      <td>8</td>\n",
       "    </tr>\n",
       "    <tr>\n",
       "      <th>9</th>\n",
       "      <td>B</td>\n",
       "      <td>A</td>\n",
       "      <td>27</td>\n",
       "    </tr>\n",
       "    <tr>\n",
       "      <th>10</th>\n",
       "      <td>B</td>\n",
       "      <td>B</td>\n",
       "      <td>1867</td>\n",
       "    </tr>\n",
       "    <tr>\n",
       "      <th>11</th>\n",
       "      <td>B</td>\n",
       "      <td>C</td>\n",
       "      <td>85</td>\n",
       "    </tr>\n",
       "    <tr>\n",
       "      <th>12</th>\n",
       "      <td>B</td>\n",
       "      <td>D</td>\n",
       "      <td>18</td>\n",
       "    </tr>\n",
       "    <tr>\n",
       "      <th>13</th>\n",
       "      <td>B</td>\n",
       "      <td>F</td>\n",
       "      <td>8</td>\n",
       "    </tr>\n",
       "    <tr>\n",
       "      <th>14</th>\n",
       "      <td>B</td>\n",
       "      <td>Gold</td>\n",
       "      <td>16</td>\n",
       "    </tr>\n",
       "    <tr>\n",
       "      <th>15</th>\n",
       "      <td>B</td>\n",
       "      <td>Silver</td>\n",
       "      <td>46</td>\n",
       "    </tr>\n",
       "    <tr>\n",
       "      <th>16</th>\n",
       "      <td>B</td>\n",
       "      <td>פרקט מרכז</td>\n",
       "      <td>6</td>\n",
       "    </tr>\n",
       "    <tr>\n",
       "      <th>17</th>\n",
       "      <td>B</td>\n",
       "      <td>פרקט מרכז שורה 2</td>\n",
       "      <td>61</td>\n",
       "    </tr>\n",
       "    <tr>\n",
       "      <th>19</th>\n",
       "      <td>C</td>\n",
       "      <td>B</td>\n",
       "      <td>109</td>\n",
       "    </tr>\n",
       "    <tr>\n",
       "      <th>20</th>\n",
       "      <td>C</td>\n",
       "      <td>C</td>\n",
       "      <td>1460</td>\n",
       "    </tr>\n",
       "    <tr>\n",
       "      <th>21</th>\n",
       "      <td>C</td>\n",
       "      <td>D</td>\n",
       "      <td>25</td>\n",
       "    </tr>\n",
       "    <tr>\n",
       "      <th>25</th>\n",
       "      <td>C</td>\n",
       "      <td>Gold</td>\n",
       "      <td>70</td>\n",
       "    </tr>\n",
       "    <tr>\n",
       "      <th>28</th>\n",
       "      <td>D</td>\n",
       "      <td>A</td>\n",
       "      <td>6</td>\n",
       "    </tr>\n",
       "    <tr>\n",
       "      <th>29</th>\n",
       "      <td>D</td>\n",
       "      <td>B</td>\n",
       "      <td>22</td>\n",
       "    </tr>\n",
       "    <tr>\n",
       "      <th>30</th>\n",
       "      <td>D</td>\n",
       "      <td>C</td>\n",
       "      <td>27</td>\n",
       "    </tr>\n",
       "    <tr>\n",
       "      <th>31</th>\n",
       "      <td>D</td>\n",
       "      <td>D</td>\n",
       "      <td>757</td>\n",
       "    </tr>\n",
       "    <tr>\n",
       "      <th>33</th>\n",
       "      <td>D</td>\n",
       "      <td>F</td>\n",
       "      <td>5</td>\n",
       "    </tr>\n",
       "    <tr>\n",
       "      <th>36</th>\n",
       "      <td>D</td>\n",
       "      <td>פרקט מרכז שורה 2</td>\n",
       "      <td>5</td>\n",
       "    </tr>\n",
       "    <tr>\n",
       "      <th>37</th>\n",
       "      <td>E</td>\n",
       "      <td>D</td>\n",
       "      <td>7</td>\n",
       "    </tr>\n",
       "    <tr>\n",
       "      <th>42</th>\n",
       "      <td>F</td>\n",
       "      <td>D</td>\n",
       "      <td>16</td>\n",
       "    </tr>\n",
       "    <tr>\n",
       "      <th>43</th>\n",
       "      <td>F</td>\n",
       "      <td>F</td>\n",
       "      <td>232</td>\n",
       "    </tr>\n",
       "    <tr>\n",
       "      <th>46</th>\n",
       "      <td>F</td>\n",
       "      <td>Silver</td>\n",
       "      <td>28</td>\n",
       "    </tr>\n",
       "    <tr>\n",
       "      <th>53</th>\n",
       "      <td>Gold</td>\n",
       "      <td>B</td>\n",
       "      <td>16</td>\n",
       "    </tr>\n",
       "    <tr>\n",
       "      <th>54</th>\n",
       "      <td>Gold</td>\n",
       "      <td>C</td>\n",
       "      <td>70</td>\n",
       "    </tr>\n",
       "    <tr>\n",
       "      <th>55</th>\n",
       "      <td>Gold</td>\n",
       "      <td>D</td>\n",
       "      <td>7</td>\n",
       "    </tr>\n",
       "    <tr>\n",
       "      <th>57</th>\n",
       "      <td>Gold</td>\n",
       "      <td>F</td>\n",
       "      <td>6</td>\n",
       "    </tr>\n",
       "    <tr>\n",
       "      <th>59</th>\n",
       "      <td>Gold</td>\n",
       "      <td>Gold</td>\n",
       "      <td>89</td>\n",
       "    </tr>\n",
       "    <tr>\n",
       "      <th>61</th>\n",
       "      <td>Silver</td>\n",
       "      <td>A</td>\n",
       "      <td>49</td>\n",
       "    </tr>\n",
       "    <tr>\n",
       "      <th>64</th>\n",
       "      <td>Silver</td>\n",
       "      <td>F</td>\n",
       "      <td>31</td>\n",
       "    </tr>\n",
       "    <tr>\n",
       "      <th>67</th>\n",
       "      <td>Silver</td>\n",
       "      <td>Silver</td>\n",
       "      <td>274</td>\n",
       "    </tr>\n",
       "    <tr>\n",
       "      <th>71</th>\n",
       "      <td>Silver Up</td>\n",
       "      <td>Silver Up</td>\n",
       "      <td>10</td>\n",
       "    </tr>\n",
       "    <tr>\n",
       "      <th>73</th>\n",
       "      <td>פרקט מרכז</td>\n",
       "      <td>B</td>\n",
       "      <td>6</td>\n",
       "    </tr>\n",
       "    <tr>\n",
       "      <th>74</th>\n",
       "      <td>פרקט מרכז</td>\n",
       "      <td>פרקט מרכז</td>\n",
       "      <td>45</td>\n",
       "    </tr>\n",
       "    <tr>\n",
       "      <th>75</th>\n",
       "      <td>פרקט מרכז</td>\n",
       "      <td>פרקט מרכז שורה 2</td>\n",
       "      <td>6</td>\n",
       "    </tr>\n",
       "    <tr>\n",
       "      <th>76</th>\n",
       "      <td>פרקט מרכז שורה 2</td>\n",
       "      <td>B</td>\n",
       "      <td>60</td>\n",
       "    </tr>\n",
       "    <tr>\n",
       "      <th>78</th>\n",
       "      <td>פרקט מרכז שורה 2</td>\n",
       "      <td>פרקט מרכז</td>\n",
       "      <td>6</td>\n",
       "    </tr>\n",
       "    <tr>\n",
       "      <th>79</th>\n",
       "      <td>פרקט מרכז שורה 2</td>\n",
       "      <td>פרקט מרכז שורה 2</td>\n",
       "      <td>17</td>\n",
       "    </tr>\n",
       "    <tr>\n",
       "      <th>80</th>\n",
       "      <td>פרקט צד</td>\n",
       "      <td>A</td>\n",
       "      <td>5</td>\n",
       "    </tr>\n",
       "    <tr>\n",
       "      <th>84</th>\n",
       "      <td>פרקט צד</td>\n",
       "      <td>פרקט צד</td>\n",
       "      <td>12</td>\n",
       "    </tr>\n",
       "    <tr>\n",
       "      <th>87</th>\n",
       "      <td>תא צפיה</td>\n",
       "      <td>Gold</td>\n",
       "      <td>33</td>\n",
       "    </tr>\n",
       "    <tr>\n",
       "      <th>89</th>\n",
       "      <td>תא צפיה</td>\n",
       "      <td>תא צפיה</td>\n",
       "      <td>256</td>\n",
       "    </tr>\n",
       "  </tbody>\n",
       "</table>\n",
       "</div>"
      ],
      "text/plain": [
       "        From (24/25)        To (25/26)  Number of Clients\n",
       "0                  A                 A                446\n",
       "5                  A              Gold                 11\n",
       "6                  A            Silver                  8\n",
       "9                  B                 A                 27\n",
       "10                 B                 B               1867\n",
       "11                 B                 C                 85\n",
       "12                 B                 D                 18\n",
       "13                 B                 F                  8\n",
       "14                 B              Gold                 16\n",
       "15                 B            Silver                 46\n",
       "16                 B         פרקט מרכז                  6\n",
       "17                 B  פרקט מרכז שורה 2                 61\n",
       "19                 C                 B                109\n",
       "20                 C                 C               1460\n",
       "21                 C                 D                 25\n",
       "25                 C              Gold                 70\n",
       "28                 D                 A                  6\n",
       "29                 D                 B                 22\n",
       "30                 D                 C                 27\n",
       "31                 D                 D                757\n",
       "33                 D                 F                  5\n",
       "36                 D  פרקט מרכז שורה 2                  5\n",
       "37                 E                 D                  7\n",
       "42                 F                 D                 16\n",
       "43                 F                 F                232\n",
       "46                 F            Silver                 28\n",
       "53              Gold                 B                 16\n",
       "54              Gold                 C                 70\n",
       "55              Gold                 D                  7\n",
       "57              Gold                 F                  6\n",
       "59              Gold              Gold                 89\n",
       "61            Silver                 A                 49\n",
       "64            Silver                 F                 31\n",
       "67            Silver            Silver                274\n",
       "71         Silver Up         Silver Up                 10\n",
       "73         פרקט מרכז                 B                  6\n",
       "74         פרקט מרכז         פרקט מרכז                 45\n",
       "75         פרקט מרכז  פרקט מרכז שורה 2                  6\n",
       "76  פרקט מרכז שורה 2                 B                 60\n",
       "78  פרקט מרכז שורה 2         פרקט מרכז                  6\n",
       "79  פרקט מרכז שורה 2  פרקט מרכז שורה 2                 17\n",
       "80           פרקט צד                 A                  5\n",
       "84           פרקט צד           פרקט צד                 12\n",
       "87           תא צפיה              Gold                 33\n",
       "89           תא צפיה           תא צפיה                256"
      ]
     },
     "metadata": {},
     "output_type": "display_data"
    }
   ],
   "source": [
    "def plot_two_column_price_transition_sankey(st_2425, perc, min_value=5):\n",
    "    perc = perc.copy()\n",
    "    perc['is_renew'] = perc['client_number'].isin(st_2425['client_number'])\n",
    "\n",
    "    # Keep column names clean and intuitive\n",
    "    df = pd.merge(\n",
    "        st_2425[['client_number', 'price_category']],\n",
    "        perc[perc['is_renew']][['client_number', 'price_category']],\n",
    "        on='client_number',\n",
    "        how='inner'\n",
    "    ).dropna()\n",
    "\n",
    "    df.columns = ['client_number', 'price_2425', 'price_2526']\n",
    "    df = df.drop(columns=['client_number'])\n",
    "\n",
    "    # Count transitions\n",
    "    pair_counts = df.groupby(['price_2425', 'price_2526']).size().reset_index(name='value')\n",
    "    pair_counts = pair_counts[pair_counts['value'] >= min_value]\n",
    "\n",
    "    if pair_counts.empty:\n",
    "        print(\"No transitions meet the minimum value.\")\n",
    "        return\n",
    "\n",
    "    # Detect all categories dynamically and align left/right\n",
    "    used_labels = sorted(set(pair_counts['price_2425']).union(set(pair_counts['price_2526'])))\n",
    "    all_labels = used_labels + used_labels\n",
    "    label_to_index = {label: i for i, label in enumerate(all_labels)}\n",
    "\n",
    "    sources = pair_counts['price_2425'].map(lambda x: used_labels.index(x)).astype(int)\n",
    "    targets = pair_counts['price_2526'].map(lambda x: len(used_labels) + used_labels.index(x)).astype(int)\n",
    "    values = pair_counts['value'].values\n",
    "\n",
    "    hover_labels = (\n",
    "        pair_counts['value'].astype(str) + \" clients moved from \" +\n",
    "        pair_counts['price_2425'] + \" (24/25) to \" +\n",
    "        pair_counts['price_2526'] + \" (25/26)\"\n",
    "    )\n",
    "\n",
    "    # Node positions (left = x=0.01, right = x=0.99, aligned vertically)\n",
    "    node_x, node_y = [], []\n",
    "    y_step = 1 / (len(used_labels) + 1)\n",
    "\n",
    "    for i in range(len(used_labels)):\n",
    "        node_x.append(0.01)  # Left column (24/25)\n",
    "        node_y.append((i + 1) * y_step)\n",
    "\n",
    "    for i in range(len(used_labels)):\n",
    "        node_x.append(0.99)  # Right column (25/26)\n",
    "        node_y.append((i + 1) * y_step)\n",
    "\n",
    "    # Optional colors\n",
    "    color_map = {\n",
    "        'A': 'rgba(255, 105, 180, 0.6)',\n",
    "        'B': 'rgba(70, 130, 180, 0.6)',\n",
    "        'C': 'rgba(220, 20, 60, 0.6)',\n",
    "        'D': 'rgba(144, 238, 144, 0.6)',\n",
    "        'E': 'rgba(255, 165, 0, 0.6)',\n",
    "        'F': 'rgba(255, 140, 0, 0.6)',\n",
    "        'Silver': 'rgba(135, 206, 250, 0.6)',\n",
    "        'Gold': 'rgba(34, 139, 34, 0.6)',\n",
    "        'Court_side': 'rgba(255, 0, 0, 0.6)',\n",
    "    }\n",
    "\n",
    "    link_colors = [\n",
    "        color_map.get(src, 'rgba(200, 100, 100, 0.6)')\n",
    "        for src in pair_counts['price_2425']\n",
    "    ]\n",
    "\n",
    "    # Sankey diagram\n",
    "    fig = go.Figure(data=[go.Sankey(\n",
    "        arrangement=\"snap\",\n",
    "        node=dict(\n",
    "            pad=15,\n",
    "            thickness=20,\n",
    "            line=dict(color=\"black\", width=0.5),\n",
    "            label=all_labels,\n",
    "            color=\"lightgray\",\n",
    "            x=node_x,\n",
    "            y=node_y\n",
    "        ),\n",
    "        link=dict(\n",
    "            source=sources,\n",
    "            target=targets,\n",
    "            value=values,\n",
    "            color=link_colors,\n",
    "            customdata=hover_labels,\n",
    "            hovertemplate='%{customdata}<extra></extra>',\n",
    "        )\n",
    "    )])\n",
    "\n",
    "    fig.update_layout(\n",
    "        title_text=\"Season Ticket Price Category Transitions\",\n",
    "        title_x=0.5,\n",
    "        font_size=14,\n",
    "        width=1100,\n",
    "        height=600\n",
    "    )\n",
    "\n",
    "    fig.show()\n",
    "\n",
    "    # Show the summary table\n",
    "    display(pair_counts.rename(columns={\n",
    "        'price_2425': 'From (24/25)',\n",
    "        'price_2526': 'To (25/26)',\n",
    "        'value': 'Number of Clients'\n",
    "    }))\n",
    "\n",
    "# Usage\n",
    "plot_two_column_price_transition_sankey(st_2425, perc)"
   ]
  },
  {
   "cell_type": "code",
   "execution_count": 14,
   "id": "a60b6828",
   "metadata": {},
   "outputs": [],
   "source": [
    "# Prepare cumulative revenue with active selling days\n",
    "def prepare_cumulative_revenue(data, opening_date, date_column, amount_column, exclude_dates=None):\n",
    "    \"\"\"\n",
    "    Prepares cumulative revenue data counting only active selling days.\n",
    "    \"\"\"\n",
    "    df = data.copy()\n",
    "    df[date_column] = pd.to_datetime(df[date_column])\n",
    "\n",
    "    # Remove dates before opening\n",
    "    df = df[df[date_column] >= opening_date]\n",
    "\n",
    "    # Exclude dates if provided\n",
    "    if exclude_dates is not None:\n",
    "        df = df[~df[date_column].dt.date.isin(exclude_dates)]\n",
    "\n",
    "    # Group by date and sum revenue\n",
    "    daily_rev = (\n",
    "        df.groupby(df[date_column].dt.date)[amount_column]\n",
    "        .sum()\n",
    "        .reset_index()\n",
    "        .rename(columns={amount_column: 'daily_revenue'})\n",
    "        .sort_values(date_column)\n",
    "        .reset_index(drop=True)\n",
    "    )\n",
    "\n",
    "    # Assign sequential active selling days\n",
    "    daily_rev['Days Since Opening'] = range(1, len(daily_rev) + 1)\n",
    "\n",
    "    # Cumulative sum\n",
    "    daily_rev['Cumulative Revenue'] = daily_rev['daily_revenue'].cumsum()\n",
    "\n",
    "    return daily_rev"
   ]
  },
  {
   "cell_type": "code",
   "execution_count": 15,
   "id": "65527ef4",
   "metadata": {},
   "outputs": [
    {
     "data": {
      "application/vnd.plotly.v1+json": {
       "config": {
        "plotlyServerURL": "https://plot.ly"
       },
       "data": [
        {
         "line": {
          "color": "black",
          "width": 2
         },
         "marker": {
          "size": 5
         },
         "mode": "lines+markers",
         "name": "Season 24/25 (4,330 ST)",
         "type": "scatter",
         "x": [
          1,
          2,
          3,
          4,
          5,
          6,
          7,
          8,
          9,
          10,
          11,
          12,
          13,
          14,
          15,
          16,
          17,
          18,
          19,
          20,
          21,
          22,
          23,
          24,
          25,
          26,
          27,
          28,
          29,
          30,
          31,
          32,
          33,
          34,
          35,
          36,
          37,
          38,
          39,
          40,
          41,
          42,
          43,
          44,
          45,
          46,
          47,
          48,
          49,
          50,
          51,
          52,
          53,
          54,
          55,
          56,
          57,
          58,
          59,
          60,
          61,
          62,
          63,
          64,
          65,
          66,
          67,
          68,
          69,
          70,
          71,
          72,
          73,
          74,
          75,
          76,
          77,
          78,
          79,
          80,
          81,
          82,
          83,
          84,
          85,
          86,
          87,
          88,
          89,
          90,
          91,
          92,
          93,
          94,
          95,
          96,
          97,
          98,
          99,
          100,
          101,
          102,
          103,
          104,
          105,
          106,
          107,
          108,
          109,
          110,
          111,
          112,
          113,
          114,
          115,
          116,
          117,
          118,
          119,
          120,
          121,
          122,
          123,
          124,
          125,
          126,
          127,
          128,
          129,
          130,
          131,
          132,
          133,
          134,
          135,
          136,
          137,
          138,
          139,
          140,
          141,
          142,
          143,
          144,
          145,
          146,
          147,
          148,
          149,
          150,
          151,
          152,
          153,
          154,
          155,
          156,
          157,
          158,
          159,
          160,
          161,
          162,
          163,
          164,
          165,
          166,
          167,
          168,
          169,
          170,
          171
         ],
         "y": [
          184831,
          347931,
          376399,
          399134,
          511137,
          591577,
          644463,
          731078,
          821933,
          829563,
          832863,
          904148,
          993508,
          1088613,
          1138601,
          1191026,
          1199434,
          1203524,
          1260894,
          1332249,
          1364294,
          1430334,
          1451344,
          1456294,
          1456994,
          1491879,
          1520994,
          1571169,
          1607049,
          1706944,
          1709044,
          1710724,
          1741274,
          1774044,
          1828724,
          1876109,
          1907179,
          1910979,
          1912029,
          1954239,
          2032219,
          2038644,
          2130434,
          2250114,
          2280399,
          2282809,
          2342574,
          2384619,
          2407364,
          2442169,
          2468454,
          2471854,
          2484074,
          2531994,
          2558574,
          2581134,
          2605679,
          2618334,
          2619884,
          2621334,
          2628474,
          2632724,
          2670559,
          2743229,
          2777959,
          2779509,
          2804479,
          2817199,
          2837009,
          2873769,
          2900249,
          2941864,
          2967864,
          3053934,
          3055734,
          3077684,
          3080184,
          3080734,
          3081334,
          3081334,
          3082434,
          3114194,
          3141444,
          3143784,
          3145434,
          3146734,
          3214454,
          3302454,
          3489214,
          3870364,
          3884794,
          3884794,
          3896044,
          3899874,
          3912284,
          3913584,
          3914984,
          4213134,
          4490934,
          4491684,
          4492334,
          4801744,
          4815704,
          4815704,
          4962254,
          4985654,
          4986254,
          5080684,
          5212774,
          5214664,
          5214664,
          5263709,
          5364259,
          5414259,
          5415359,
          5415359,
          5417909,
          5476709,
          5486709,
          5577569,
          5602569,
          5602569,
          5613609,
          5613609,
          5613609,
          5631859,
          5670659,
          5678389,
          5678389,
          5696689,
          5771689,
          5771689,
          5771689,
          5773039,
          5773889,
          5775539,
          5776089,
          5782089,
          5782639,
          5793659,
          5802959,
          5802959,
          5802959,
          5802959,
          5804569,
          5804569,
          5806939,
          5826939,
          5831139,
          5832664,
          5843904,
          5843904,
          5844204,
          5845804,
          5846679,
          5848329,
          5868329,
          5875779,
          5877504,
          5878329,
          5878329,
          5880004,
          5881774,
          5881775,
          5882625,
          5882625,
          5882625,
          5892525,
          5892525,
          5892525,
          5892525
         ]
        },
        {
         "line": {
          "color": "red",
          "width": 2
         },
         "marker": {
          "size": 5
         },
         "mode": "lines+markers",
         "name": "Season 25/26 (3,278 ST)",
         "type": "scatter",
         "x": [
          1,
          2,
          3,
          4,
          5,
          6,
          7,
          8,
          9,
          10,
          11,
          12,
          13,
          14,
          15,
          16,
          17,
          18,
          19,
          20,
          21,
          22,
          23,
          24,
          25,
          26,
          27,
          28,
          29,
          30,
          31,
          32,
          33,
          34,
          35,
          36,
          37,
          38,
          39,
          40,
          41,
          42,
          43,
          44,
          45,
          46,
          47,
          48,
          49,
          50,
          51,
          52,
          53,
          54,
          55,
          56,
          57,
          58,
          59,
          60,
          61,
          62,
          63,
          64
         ],
         "y": [
          1217471,
          1546578,
          1691818,
          2357136,
          2545536,
          2660336,
          2663696,
          2664546,
          2664546,
          2675676,
          2722376,
          2723056,
          2784536,
          2819906,
          2822036,
          2823926,
          2858956,
          2897316,
          2932891,
          2958741,
          2996361,
          3003861,
          3020341,
          3033136,
          3055416,
          3075496,
          3104566,
          3115946,
          3117226,
          3131374.8,
          3162034.8,
          3168570.8,
          3567873.8,
          3582443.8,
          3583293.8,
          3729873.8,
          3744693.8,
          3761138.8,
          3881773.8,
          3942047.8,
          3946707.8,
          3951567.8,
          4118037.8,
          4181337.8,
          4271527.8,
          4369497.8,
          4402867.8,
          4403767.8,
          4403767.8,
          4549047.8,
          4774543.8,
          4858893.8,
          4873023.8,
          4873873.8,
          4921988.8,
          4933668.8,
          4985508.8,
          5001068.8,
          5016068.8,
          5170268.8,
          5183506.3,
          5340260.8,
          5343750.8,
          5355760.8
         ]
        }
       ],
       "layout": {
        "annotations": [
         {
          "font": {
           "color": "blue"
          },
          "showarrow": false,
          "text": "Early Bird End",
          "x": 27,
          "xanchor": "left",
          "xref": "x",
          "y": 1,
          "yanchor": "bottom",
          "yref": "paper"
         },
         {
          "arrowcolor": "red",
          "arrowhead": 2,
          "ax": 30,
          "ay": -40,
          "font": {
           "color": "red"
          },
          "showarrow": true,
          "text": "Day 64<br>5,355,761₪",
          "x": 64,
          "y": 5355760.8
         },
         {
          "arrowcolor": "black",
          "arrowhead": 2,
          "ax": 25,
          "ay": -90,
          "font": {
           "color": "black"
          },
          "showarrow": true,
          "text": "Day 64<br>2,743,229₪",
          "x": 64,
          "y": 2743229
         }
        ],
        "height": 600,
        "legend": {
         "font": {
          "size": 12
         }
        },
        "paper_bgcolor": "white",
        "plot_bgcolor": "white",
        "shapes": [
         {
          "layer": "below",
          "line": {
           "color": "blue",
           "dash": "dash",
           "width": 2
          },
          "type": "line",
          "x0": 27,
          "x1": 27,
          "xref": "x",
          "y0": 0,
          "y1": 1,
          "yref": "paper"
         }
        ],
        "template": {
         "data": {
          "bar": [
           {
            "error_x": {
             "color": "#2a3f5f"
            },
            "error_y": {
             "color": "#2a3f5f"
            },
            "marker": {
             "line": {
              "color": "#E5ECF6",
              "width": 0.5
             },
             "pattern": {
              "fillmode": "overlay",
              "size": 10,
              "solidity": 0.2
             }
            },
            "type": "bar"
           }
          ],
          "barpolar": [
           {
            "marker": {
             "line": {
              "color": "#E5ECF6",
              "width": 0.5
             },
             "pattern": {
              "fillmode": "overlay",
              "size": 10,
              "solidity": 0.2
             }
            },
            "type": "barpolar"
           }
          ],
          "carpet": [
           {
            "aaxis": {
             "endlinecolor": "#2a3f5f",
             "gridcolor": "white",
             "linecolor": "white",
             "minorgridcolor": "white",
             "startlinecolor": "#2a3f5f"
            },
            "baxis": {
             "endlinecolor": "#2a3f5f",
             "gridcolor": "white",
             "linecolor": "white",
             "minorgridcolor": "white",
             "startlinecolor": "#2a3f5f"
            },
            "type": "carpet"
           }
          ],
          "choropleth": [
           {
            "colorbar": {
             "outlinewidth": 0,
             "ticks": ""
            },
            "type": "choropleth"
           }
          ],
          "contour": [
           {
            "colorbar": {
             "outlinewidth": 0,
             "ticks": ""
            },
            "colorscale": [
             [
              0,
              "#0d0887"
             ],
             [
              0.1111111111111111,
              "#46039f"
             ],
             [
              0.2222222222222222,
              "#7201a8"
             ],
             [
              0.3333333333333333,
              "#9c179e"
             ],
             [
              0.4444444444444444,
              "#bd3786"
             ],
             [
              0.5555555555555556,
              "#d8576b"
             ],
             [
              0.6666666666666666,
              "#ed7953"
             ],
             [
              0.7777777777777778,
              "#fb9f3a"
             ],
             [
              0.8888888888888888,
              "#fdca26"
             ],
             [
              1,
              "#f0f921"
             ]
            ],
            "type": "contour"
           }
          ],
          "contourcarpet": [
           {
            "colorbar": {
             "outlinewidth": 0,
             "ticks": ""
            },
            "type": "contourcarpet"
           }
          ],
          "heatmap": [
           {
            "colorbar": {
             "outlinewidth": 0,
             "ticks": ""
            },
            "colorscale": [
             [
              0,
              "#0d0887"
             ],
             [
              0.1111111111111111,
              "#46039f"
             ],
             [
              0.2222222222222222,
              "#7201a8"
             ],
             [
              0.3333333333333333,
              "#9c179e"
             ],
             [
              0.4444444444444444,
              "#bd3786"
             ],
             [
              0.5555555555555556,
              "#d8576b"
             ],
             [
              0.6666666666666666,
              "#ed7953"
             ],
             [
              0.7777777777777778,
              "#fb9f3a"
             ],
             [
              0.8888888888888888,
              "#fdca26"
             ],
             [
              1,
              "#f0f921"
             ]
            ],
            "type": "heatmap"
           }
          ],
          "heatmapgl": [
           {
            "colorbar": {
             "outlinewidth": 0,
             "ticks": ""
            },
            "colorscale": [
             [
              0,
              "#0d0887"
             ],
             [
              0.1111111111111111,
              "#46039f"
             ],
             [
              0.2222222222222222,
              "#7201a8"
             ],
             [
              0.3333333333333333,
              "#9c179e"
             ],
             [
              0.4444444444444444,
              "#bd3786"
             ],
             [
              0.5555555555555556,
              "#d8576b"
             ],
             [
              0.6666666666666666,
              "#ed7953"
             ],
             [
              0.7777777777777778,
              "#fb9f3a"
             ],
             [
              0.8888888888888888,
              "#fdca26"
             ],
             [
              1,
              "#f0f921"
             ]
            ],
            "type": "heatmapgl"
           }
          ],
          "histogram": [
           {
            "marker": {
             "pattern": {
              "fillmode": "overlay",
              "size": 10,
              "solidity": 0.2
             }
            },
            "type": "histogram"
           }
          ],
          "histogram2d": [
           {
            "colorbar": {
             "outlinewidth": 0,
             "ticks": ""
            },
            "colorscale": [
             [
              0,
              "#0d0887"
             ],
             [
              0.1111111111111111,
              "#46039f"
             ],
             [
              0.2222222222222222,
              "#7201a8"
             ],
             [
              0.3333333333333333,
              "#9c179e"
             ],
             [
              0.4444444444444444,
              "#bd3786"
             ],
             [
              0.5555555555555556,
              "#d8576b"
             ],
             [
              0.6666666666666666,
              "#ed7953"
             ],
             [
              0.7777777777777778,
              "#fb9f3a"
             ],
             [
              0.8888888888888888,
              "#fdca26"
             ],
             [
              1,
              "#f0f921"
             ]
            ],
            "type": "histogram2d"
           }
          ],
          "histogram2dcontour": [
           {
            "colorbar": {
             "outlinewidth": 0,
             "ticks": ""
            },
            "colorscale": [
             [
              0,
              "#0d0887"
             ],
             [
              0.1111111111111111,
              "#46039f"
             ],
             [
              0.2222222222222222,
              "#7201a8"
             ],
             [
              0.3333333333333333,
              "#9c179e"
             ],
             [
              0.4444444444444444,
              "#bd3786"
             ],
             [
              0.5555555555555556,
              "#d8576b"
             ],
             [
              0.6666666666666666,
              "#ed7953"
             ],
             [
              0.7777777777777778,
              "#fb9f3a"
             ],
             [
              0.8888888888888888,
              "#fdca26"
             ],
             [
              1,
              "#f0f921"
             ]
            ],
            "type": "histogram2dcontour"
           }
          ],
          "mesh3d": [
           {
            "colorbar": {
             "outlinewidth": 0,
             "ticks": ""
            },
            "type": "mesh3d"
           }
          ],
          "parcoords": [
           {
            "line": {
             "colorbar": {
              "outlinewidth": 0,
              "ticks": ""
             }
            },
            "type": "parcoords"
           }
          ],
          "pie": [
           {
            "automargin": true,
            "type": "pie"
           }
          ],
          "scatter": [
           {
            "fillpattern": {
             "fillmode": "overlay",
             "size": 10,
             "solidity": 0.2
            },
            "type": "scatter"
           }
          ],
          "scatter3d": [
           {
            "line": {
             "colorbar": {
              "outlinewidth": 0,
              "ticks": ""
             }
            },
            "marker": {
             "colorbar": {
              "outlinewidth": 0,
              "ticks": ""
             }
            },
            "type": "scatter3d"
           }
          ],
          "scattercarpet": [
           {
            "marker": {
             "colorbar": {
              "outlinewidth": 0,
              "ticks": ""
             }
            },
            "type": "scattercarpet"
           }
          ],
          "scattergeo": [
           {
            "marker": {
             "colorbar": {
              "outlinewidth": 0,
              "ticks": ""
             }
            },
            "type": "scattergeo"
           }
          ],
          "scattergl": [
           {
            "marker": {
             "colorbar": {
              "outlinewidth": 0,
              "ticks": ""
             }
            },
            "type": "scattergl"
           }
          ],
          "scattermapbox": [
           {
            "marker": {
             "colorbar": {
              "outlinewidth": 0,
              "ticks": ""
             }
            },
            "type": "scattermapbox"
           }
          ],
          "scatterpolar": [
           {
            "marker": {
             "colorbar": {
              "outlinewidth": 0,
              "ticks": ""
             }
            },
            "type": "scatterpolar"
           }
          ],
          "scatterpolargl": [
           {
            "marker": {
             "colorbar": {
              "outlinewidth": 0,
              "ticks": ""
             }
            },
            "type": "scatterpolargl"
           }
          ],
          "scatterternary": [
           {
            "marker": {
             "colorbar": {
              "outlinewidth": 0,
              "ticks": ""
             }
            },
            "type": "scatterternary"
           }
          ],
          "surface": [
           {
            "colorbar": {
             "outlinewidth": 0,
             "ticks": ""
            },
            "colorscale": [
             [
              0,
              "#0d0887"
             ],
             [
              0.1111111111111111,
              "#46039f"
             ],
             [
              0.2222222222222222,
              "#7201a8"
             ],
             [
              0.3333333333333333,
              "#9c179e"
             ],
             [
              0.4444444444444444,
              "#bd3786"
             ],
             [
              0.5555555555555556,
              "#d8576b"
             ],
             [
              0.6666666666666666,
              "#ed7953"
             ],
             [
              0.7777777777777778,
              "#fb9f3a"
             ],
             [
              0.8888888888888888,
              "#fdca26"
             ],
             [
              1,
              "#f0f921"
             ]
            ],
            "type": "surface"
           }
          ],
          "table": [
           {
            "cells": {
             "fill": {
              "color": "#EBF0F8"
             },
             "line": {
              "color": "white"
             }
            },
            "header": {
             "fill": {
              "color": "#C8D4E3"
             },
             "line": {
              "color": "white"
             }
            },
            "type": "table"
           }
          ]
         },
         "layout": {
          "annotationdefaults": {
           "arrowcolor": "#2a3f5f",
           "arrowhead": 0,
           "arrowwidth": 1
          },
          "autotypenumbers": "strict",
          "coloraxis": {
           "colorbar": {
            "outlinewidth": 0,
            "ticks": ""
           }
          },
          "colorscale": {
           "diverging": [
            [
             0,
             "#8e0152"
            ],
            [
             0.1,
             "#c51b7d"
            ],
            [
             0.2,
             "#de77ae"
            ],
            [
             0.3,
             "#f1b6da"
            ],
            [
             0.4,
             "#fde0ef"
            ],
            [
             0.5,
             "#f7f7f7"
            ],
            [
             0.6,
             "#e6f5d0"
            ],
            [
             0.7,
             "#b8e186"
            ],
            [
             0.8,
             "#7fbc41"
            ],
            [
             0.9,
             "#4d9221"
            ],
            [
             1,
             "#276419"
            ]
           ],
           "sequential": [
            [
             0,
             "#0d0887"
            ],
            [
             0.1111111111111111,
             "#46039f"
            ],
            [
             0.2222222222222222,
             "#7201a8"
            ],
            [
             0.3333333333333333,
             "#9c179e"
            ],
            [
             0.4444444444444444,
             "#bd3786"
            ],
            [
             0.5555555555555556,
             "#d8576b"
            ],
            [
             0.6666666666666666,
             "#ed7953"
            ],
            [
             0.7777777777777778,
             "#fb9f3a"
            ],
            [
             0.8888888888888888,
             "#fdca26"
            ],
            [
             1,
             "#f0f921"
            ]
           ],
           "sequentialminus": [
            [
             0,
             "#0d0887"
            ],
            [
             0.1111111111111111,
             "#46039f"
            ],
            [
             0.2222222222222222,
             "#7201a8"
            ],
            [
             0.3333333333333333,
             "#9c179e"
            ],
            [
             0.4444444444444444,
             "#bd3786"
            ],
            [
             0.5555555555555556,
             "#d8576b"
            ],
            [
             0.6666666666666666,
             "#ed7953"
            ],
            [
             0.7777777777777778,
             "#fb9f3a"
            ],
            [
             0.8888888888888888,
             "#fdca26"
            ],
            [
             1,
             "#f0f921"
            ]
           ]
          },
          "colorway": [
           "#636efa",
           "#EF553B",
           "#00cc96",
           "#ab63fa",
           "#FFA15A",
           "#19d3f3",
           "#FF6692",
           "#B6E880",
           "#FF97FF",
           "#FECB52"
          ],
          "font": {
           "color": "#2a3f5f"
          },
          "geo": {
           "bgcolor": "white",
           "lakecolor": "white",
           "landcolor": "#E5ECF6",
           "showlakes": true,
           "showland": true,
           "subunitcolor": "white"
          },
          "hoverlabel": {
           "align": "left"
          },
          "hovermode": "closest",
          "mapbox": {
           "style": "light"
          },
          "paper_bgcolor": "white",
          "plot_bgcolor": "#E5ECF6",
          "polar": {
           "angularaxis": {
            "gridcolor": "white",
            "linecolor": "white",
            "ticks": ""
           },
           "bgcolor": "#E5ECF6",
           "radialaxis": {
            "gridcolor": "white",
            "linecolor": "white",
            "ticks": ""
           }
          },
          "scene": {
           "xaxis": {
            "backgroundcolor": "#E5ECF6",
            "gridcolor": "white",
            "gridwidth": 2,
            "linecolor": "white",
            "showbackground": true,
            "ticks": "",
            "zerolinecolor": "white"
           },
           "yaxis": {
            "backgroundcolor": "#E5ECF6",
            "gridcolor": "white",
            "gridwidth": 2,
            "linecolor": "white",
            "showbackground": true,
            "ticks": "",
            "zerolinecolor": "white"
           },
           "zaxis": {
            "backgroundcolor": "#E5ECF6",
            "gridcolor": "white",
            "gridwidth": 2,
            "linecolor": "white",
            "showbackground": true,
            "ticks": "",
            "zerolinecolor": "white"
           }
          },
          "shapedefaults": {
           "line": {
            "color": "#2a3f5f"
           }
          },
          "ternary": {
           "aaxis": {
            "gridcolor": "white",
            "linecolor": "white",
            "ticks": ""
           },
           "baxis": {
            "gridcolor": "white",
            "linecolor": "white",
            "ticks": ""
           },
           "bgcolor": "#E5ECF6",
           "caxis": {
            "gridcolor": "white",
            "linecolor": "white",
            "ticks": ""
           }
          },
          "title": {
           "x": 0.05
          },
          "xaxis": {
           "automargin": true,
           "gridcolor": "white",
           "linecolor": "white",
           "ticks": "",
           "title": {
            "standoff": 15
           },
           "zerolinecolor": "white",
           "zerolinewidth": 2
          },
          "yaxis": {
           "automargin": true,
           "gridcolor": "white",
           "linecolor": "white",
           "ticks": "",
           "title": {
            "standoff": 15
           },
           "zerolinecolor": "white",
           "zerolinewidth": 2
          }
         }
        },
        "title": {
         "font": {
          "size": 20
         },
         "text": "Cumulative Revenue Over Time",
         "x": 0.5
        },
        "width": 1000,
        "xaxis": {
         "dtick": 7,
         "range": [
          1,
          172
         ],
         "tick0": 1,
         "tickangle": 45,
         "tickfont": {
          "size": 12
         },
         "title": {
          "text": "Days Since the Season Ticket Renewals Period Opening"
         }
        },
        "yaxis": {
         "gridcolor": "lightgray",
         "tickfont": {
          "size": 12
         },
         "title": {
          "text": "Cumulative Revenue"
         },
         "zeroline": false
        }
       }
      }
     },
     "metadata": {},
     "output_type": "display_data"
    }
   ],
   "source": [
    "def plot_cumulative_revenue_comparison(st_2425, perc):\n",
    "    OPENING_DATE_2425 = pd.to_datetime(\"2024-07-03\")\n",
    "    OPENING_DATE_2526 = pd.to_datetime(\"2025-06-05\")\n",
    "\n",
    "    # Create war dates (24/25 excluded dates)\n",
    "    war_dates = [d.date() for d in pd.date_range(\"2025-07-13\", \"2025-07-24\")]\n",
    "\n",
    "    # Count tickets sold\n",
    "    st_count_2425 = st_2425.shape[0]\n",
    "    # st_count_2526 = perc.shape[0]\n",
    "\n",
    "    # Filter 25/26\n",
    "    df_2526_filtered = perc.copy()\n",
    "    df_2526_filtered[\"sale_date\"] = pd.to_datetime(df_2526_filtered[\"sale_date\"])\n",
    "    df_2526_filtered = df_2526_filtered[df_2526_filtered[\"sale_date\"] >= OPENING_DATE_2526]\n",
    "\n",
    "    # Count tickets\n",
    "    st_count_2526 = df_2526_filtered.shape[0]\n",
    "\n",
    "\n",
    "    # Prepare data with war dates excluded for 24/25\n",
    "    daily_revenue_2425 = prepare_cumulative_revenue(\n",
    "        st_2425,\n",
    "        OPENING_DATE_2425,\n",
    "        date_column=\"sale_date\",\n",
    "        amount_column=\"price\",\n",
    "        exclude_dates=war_dates\n",
    "    )\n",
    "\n",
    "    daily_revenue_2526 = prepare_cumulative_revenue(\n",
    "        perc,\n",
    "        OPENING_DATE_2526,\n",
    "        date_column=\"sale_date\",\n",
    "        amount_column=\"price\"\n",
    "    )\n",
    "\n",
    "    fig = go.Figure()\n",
    "\n",
    "    # Trace for 24/25\n",
    "    fig.add_trace(go.Scatter(\n",
    "        x=daily_revenue_2425['Days Since Opening'],\n",
    "        y=daily_revenue_2425['Cumulative Revenue'],\n",
    "        mode='lines+markers',\n",
    "        name=f'Season 24/25 ({st_count_2425:,} ST)',\n",
    "        line=dict(color='black', width=2),\n",
    "        marker=dict(size=5)\n",
    "    ))\n",
    "\n",
    "    # Trace for 25/26\n",
    "    fig.add_trace(go.Scatter(\n",
    "        x=daily_revenue_2526['Days Since Opening'],\n",
    "        y=daily_revenue_2526['Cumulative Revenue'],\n",
    "        mode='lines+markers',\n",
    "        name=f'Season 25/26 ({st_count_2526:,} ST)',\n",
    "        line=dict(color='red', width=2),\n",
    "        marker=dict(size=5)\n",
    "    ))\n",
    "\n",
    "    # Early Bird End line (11/07/2025)\n",
    "    early_bird_end_date = pd.to_datetime(\"2025-07-11\")\n",
    "    early_bird_row = daily_revenue_2526.loc[\n",
    "        daily_revenue_2526['sale_date'] == early_bird_end_date\n",
    "    ]\n",
    "\n",
    "    if not early_bird_row.empty:\n",
    "        early_bird_end_day_number = early_bird_row['Days Since Opening'].values[0]\n",
    "    else:\n",
    "        # Fallback if the date is not in the data\n",
    "        # Force the Early Bird line to be at day 27\n",
    "        early_bird_end_day_number = 27\n",
    "\n",
    "    fig.update_layout(\n",
    "        shapes=[\n",
    "            dict(\n",
    "                type=\"line\",\n",
    "                xref=\"x\",\n",
    "                yref=\"paper\",\n",
    "                x0=early_bird_end_day_number,\n",
    "                y0=0,\n",
    "                x1=early_bird_end_day_number,\n",
    "                y1=1,\n",
    "                line=dict(color=\"blue\", width=2, dash=\"dash\"),\n",
    "                layer=\"below\"\n",
    "            )\n",
    "        ],\n",
    "        annotations=[\n",
    "            dict(\n",
    "                x=early_bird_end_day_number,\n",
    "                y=1,\n",
    "                xref=\"x\",\n",
    "                yref=\"paper\",\n",
    "                text=\"Early Bird End\",\n",
    "                showarrow=False,\n",
    "                font=dict(color=\"blue\"),\n",
    "                xanchor=\"left\",\n",
    "                yanchor=\"bottom\"\n",
    "            )\n",
    "        ]\n",
    "    )\n",
    "\n",
    "    # Annotations for the last day of 25/26\n",
    "    last_day = daily_revenue_2526['Days Since Opening'].max()\n",
    "    last_rev_2526 = daily_revenue_2526.loc[\n",
    "        daily_revenue_2526['Days Since Opening'] == last_day, 'Cumulative Revenue'\n",
    "    ].values[0]\n",
    "    last_rev_2425 = daily_revenue_2425.loc[\n",
    "        daily_revenue_2425['Days Since Opening'] == last_day, 'Cumulative Revenue'\n",
    "    ]\n",
    "    last_rev_2425 = last_rev_2425.values[0] if not last_rev_2425.empty else None\n",
    "\n",
    "    fig.add_annotation(\n",
    "        x=last_day,\n",
    "        y=last_rev_2526,\n",
    "        text=f'Day {last_day}<br>{last_rev_2526:,.0f}₪',\n",
    "        showarrow=True,\n",
    "        arrowhead=2,\n",
    "        ax=30,\n",
    "        ay=-40,\n",
    "        font=dict(color='red'),\n",
    "        arrowcolor='red'\n",
    "    )\n",
    "\n",
    "    if last_rev_2425 is not None:\n",
    "        fig.add_annotation(\n",
    "            x=last_day,\n",
    "            y=last_rev_2425,\n",
    "            text=f'Day {last_day}<br>{last_rev_2425:,.0f}₪',\n",
    "            showarrow=True,\n",
    "            arrowhead=2,\n",
    "            ax=25,\n",
    "            ay=-90,\n",
    "            font=dict(color='black'),\n",
    "            arrowcolor='black'\n",
    "        )\n",
    "\n",
    "    # Layout\n",
    "    fig.update_layout(\n",
    "        title=dict(\n",
    "            text='Cumulative Revenue Over Time',\n",
    "            x=0.5,\n",
    "            font=dict(size=20)\n",
    "        ),\n",
    "        xaxis=dict(\n",
    "            title='Days Since the Season Ticket Renewals Period Opening',\n",
    "            tickfont=dict(size=12),\n",
    "            tick0=1,\n",
    "            dtick=7,\n",
    "            tickangle=45,\n",
    "            range=[\n",
    "                1,\n",
    "                max(\n",
    "                    daily_revenue_2425['Days Since Opening'].max(),\n",
    "                    daily_revenue_2526['Days Since Opening'].max()\n",
    "                ) + 1\n",
    "            ]\n",
    "        ),\n",
    "        yaxis=dict(\n",
    "            title='Cumulative Revenue',\n",
    "            tickfont=dict(size=12),\n",
    "            zeroline=False,\n",
    "            gridcolor='lightgray',\n",
    "        ),\n",
    "        width=1000,\n",
    "        height=600,\n",
    "        plot_bgcolor='white',\n",
    "        paper_bgcolor='white',\n",
    "        legend=dict(font=dict(size=12)),\n",
    "    )\n",
    "\n",
    "    fig.show()\n",
    "\n",
    "plot_cumulative_revenue_comparison(st_2425, perc)"
   ]
  },
  {
   "cell_type": "code",
   "execution_count": 16,
   "id": "dcd2f9b1",
   "metadata": {},
   "outputs": [],
   "source": [
    "def prepare_cumulative_count(\n",
    "    df,\n",
    "    open_date=None,\n",
    "    days_limit=160,\n",
    "    exclude_dates=None\n",
    "):\n",
    "    df = df.copy()\n",
    "\n",
    "    # Determine which date column to use\n",
    "    date_column = 'Date.1' if 'Date.1' in df.columns else 'sale_date'\n",
    "\n",
    "    if 'Date.1' in df.columns:\n",
    "        sample = str(df['Date.1'].dropna().iloc[0])\n",
    "        if '/' in sample:\n",
    "            # st_2324 style: DD/MM/YYYY\n",
    "            df['Date'] = pd.to_datetime(df['Date.1'], format='%d/%m/%Y', errors='coerce')\n",
    "        else:\n",
    "            df['Date'] = pd.to_datetime(df['Date.1'], errors='coerce')\n",
    "    else:\n",
    "        df['Date'] = pd.to_datetime(df[date_column], errors='coerce')\n",
    "\n",
    "    # Drop rows with failed date parsing\n",
    "    df = df.dropna(subset=['Date'])\n",
    "\n",
    "    # Filter for valid 2023/2024 ranges\n",
    "    df = df[\n",
    "        ((df['Date'].dt.year == 2023) & (df['Date'].dt.month >= 6) & (df['Date'] >= pd.Timestamp('2023-06-25')))\n",
    "        | (df['Date'].dt.year >= 2024)\n",
    "    ]\n",
    "\n",
    "    # Set the open date\n",
    "    if open_date is None:\n",
    "        open_date = df['Date'].min()\n",
    "\n",
    "    # Remove dates before opening\n",
    "    df = df[df['Date'] >= open_date]\n",
    "\n",
    "    # Exclude specific dates if provided\n",
    "    if exclude_dates is not None:\n",
    "        df = df[~df['Date'].dt.date.isin(exclude_dates)]\n",
    "\n",
    "    if df.empty:\n",
    "        raise ValueError(\"No data remaining after applying date filters.\")\n",
    "\n",
    "    # Group by sale date and count\n",
    "    daily_counts = (\n",
    "        df.groupby(df['Date'].dt.date)\n",
    "        .size()\n",
    "        .reset_index()\n",
    "        .rename(columns={0: 'daily_count', 'Date': 'Date'})\n",
    "        .sort_values('Date')\n",
    "        .reset_index(drop=True)\n",
    "    )\n",
    "\n",
    "    # Assign sequential \"Days Since Opening\"\n",
    "    daily_counts['Days Since Opening'] = range(1, len(daily_counts) + 1)\n",
    "\n",
    "    # Cumulative sum\n",
    "    daily_counts['Cumulative Count'] = daily_counts['daily_count'].cumsum()\n",
    "\n",
    "    return daily_counts\n"
   ]
  },
  {
   "cell_type": "code",
   "execution_count": 17,
   "id": "1a70e8c7",
   "metadata": {},
   "outputs": [
    {
     "data": {
      "application/vnd.plotly.v1+json": {
       "config": {
        "plotlyServerURL": "https://plot.ly"
       },
       "data": [
        {
         "line": {
          "color": "gray",
          "width": 2
         },
         "marker": {
          "size": 5
         },
         "mode": "lines+markers",
         "name": "Season 23/24 (4,253 ST)",
         "type": "scatter",
         "x": [
          1,
          2,
          3,
          4,
          5,
          6,
          7,
          8,
          9,
          10,
          11,
          12,
          13,
          14,
          15,
          16,
          17,
          18,
          19,
          20,
          21,
          22,
          23,
          24,
          25,
          26,
          27,
          28,
          29,
          30,
          31,
          32,
          33,
          34,
          35,
          36,
          37,
          38,
          39,
          40,
          41,
          42,
          43,
          44,
          45,
          46,
          47,
          48,
          49,
          50,
          51,
          52,
          53,
          54,
          55,
          56,
          57,
          58,
          59,
          60,
          61,
          62,
          63,
          64,
          65,
          66,
          67,
          68,
          69,
          70,
          71,
          72,
          73,
          74,
          75,
          76,
          77,
          78,
          79,
          80,
          81,
          82,
          83,
          84,
          85,
          86,
          87,
          88,
          89,
          90,
          91,
          92,
          93,
          94,
          95,
          96,
          97,
          98,
          99,
          100,
          101,
          102,
          103,
          104,
          105,
          106,
          107,
          108,
          109,
          110,
          111,
          112,
          113,
          114,
          115,
          116,
          117,
          118,
          119,
          120,
          121,
          122,
          123,
          124,
          125,
          126,
          127,
          128,
          129,
          130,
          131,
          132,
          133,
          134,
          135,
          136,
          137,
          138,
          139,
          140,
          141,
          142,
          143,
          144,
          145,
          146,
          147,
          148,
          149,
          150,
          151,
          152,
          153,
          154,
          155,
          156,
          157,
          158,
          159,
          160,
          161,
          162,
          163,
          164,
          165,
          166,
          167,
          168,
          169,
          170
         ],
         "y": [
          358,
          553,
          668,
          763,
          768,
          781,
          882,
          965,
          1087,
          1163,
          1237,
          1255,
          1261,
          1333,
          1413,
          1497,
          1586,
          1648,
          1657,
          1664,
          1710,
          1798,
          1894,
          1973,
          2030,
          2037,
          2043,
          2118,
          2189,
          2313,
          2334,
          2342,
          2343,
          2346,
          2386,
          2395,
          2401,
          2409,
          2415,
          2416,
          2422,
          2452,
          2457,
          2477,
          2516,
          2549,
          2550,
          2554,
          2581,
          2600,
          2617,
          2631,
          2642,
          2643,
          2653,
          2662,
          2672,
          2682,
          2694,
          2695,
          2715,
          2718,
          2726,
          2740,
          2763,
          2764,
          2787,
          2803,
          2824,
          2835,
          2884,
          2885,
          2949,
          3021,
          3047,
          3061,
          3071,
          3072,
          3073,
          3168,
          3246,
          3283,
          3290,
          3293,
          3294,
          3368,
          3386,
          3396,
          3427,
          3439,
          3475,
          3492,
          3500,
          3501,
          3502,
          3504,
          3510,
          3511,
          3512,
          3514,
          3515,
          3517,
          3523,
          3524,
          3525,
          3532,
          3538,
          3541,
          3542,
          3548,
          3550,
          3553,
          3554,
          3576,
          3603,
          3604,
          3620,
          3622,
          3632,
          3648,
          3768,
          3769,
          3798,
          3831,
          3858,
          3877,
          3904,
          3912,
          3933,
          3940,
          3951,
          3954,
          3955,
          3958,
          3963,
          3975,
          3977,
          3986,
          3989,
          4008,
          4014,
          4016,
          4078,
          4083,
          4091,
          4102,
          4110,
          4122,
          4133,
          4139,
          4141,
          4147,
          4149,
          4151,
          4162,
          4172,
          4177,
          4180,
          4182,
          4188,
          4190,
          4194,
          4202,
          4206,
          4207,
          4208,
          4209,
          4210,
          4213,
          4214
         ]
        },
        {
         "line": {
          "color": "black",
          "width": 2
         },
         "marker": {
          "size": 5
         },
         "mode": "lines+markers",
         "name": "Season 24/25 (4,330 ST)",
         "type": "scatter",
         "x": [
          1,
          2,
          3,
          4,
          5,
          6,
          7,
          8,
          9,
          10,
          11,
          12,
          13,
          14,
          15,
          16,
          17,
          18,
          19,
          20,
          21,
          22,
          23,
          24,
          25,
          26,
          27,
          28,
          29,
          30,
          31,
          32,
          33,
          34,
          35,
          36,
          37,
          38,
          39,
          40,
          41,
          42,
          43,
          44,
          45,
          46,
          47,
          48,
          49,
          50,
          51,
          52,
          53,
          54,
          55,
          56,
          57,
          58,
          59,
          60,
          61,
          62,
          63,
          64,
          65,
          66,
          67,
          68,
          69,
          70,
          71,
          72,
          73,
          74,
          75,
          76,
          77,
          78,
          79,
          80,
          81,
          82,
          83,
          84,
          85,
          86,
          87,
          88,
          89,
          90,
          91,
          92,
          93,
          94,
          95,
          96,
          97,
          98,
          99,
          100,
          101,
          102,
          103,
          104,
          105,
          106,
          107,
          108,
          109,
          110,
          111,
          112,
          113,
          114,
          115,
          116,
          117,
          118,
          119,
          120,
          121,
          122,
          123,
          124,
          125,
          126,
          127,
          128,
          129,
          130,
          131,
          132,
          133,
          134,
          135,
          136,
          137,
          138,
          139,
          140,
          141,
          142,
          143,
          144,
          145,
          146,
          147,
          148,
          149,
          150,
          151,
          152,
          153,
          154,
          155,
          156,
          157,
          158,
          159,
          160,
          161,
          162,
          163,
          164,
          165,
          166,
          167,
          168,
          169,
          170
         ],
         "y": [
          159,
          295,
          320,
          339,
          440,
          516,
          572,
          659,
          737,
          746,
          751,
          820,
          905,
          974,
          1030,
          1081,
          1088,
          1092,
          1142,
          1204,
          1234,
          1285,
          1310,
          1315,
          1316,
          1343,
          1373,
          1423,
          1466,
          1553,
          1554,
          1557,
          1587,
          1620,
          1669,
          1712,
          1752,
          1758,
          1759,
          1797,
          1870,
          1877,
          1971,
          2091,
          2121,
          2124,
          2176,
          2212,
          2238,
          2279,
          2310,
          2313,
          2332,
          2435,
          2481,
          2511,
          2542,
          2559,
          2561,
          2563,
          2571,
          2577,
          2635,
          2696,
          2724,
          2726,
          2762,
          2797,
          2822,
          2852,
          2882,
          2910,
          2975,
          3010,
          3027,
          3071,
          3082,
          3098,
          3099,
          3109,
          3121,
          3127,
          3170,
          3178,
          3179,
          3180,
          3221,
          3236,
          3266,
          3407,
          3441,
          3442,
          3501,
          3507,
          3541,
          3542,
          3546,
          3691,
          3754,
          3755,
          3765,
          3799,
          3832,
          3847,
          3876,
          3883,
          3894,
          3910,
          3918,
          3923,
          3926,
          3936,
          3955,
          3959,
          3963,
          3968,
          3984,
          3996,
          3998,
          4013,
          4015,
          4018,
          4028,
          4029,
          4030,
          4034,
          4063,
          4081,
          4085,
          4091,
          4103,
          4104,
          4105,
          4109,
          4111,
          4118,
          4126,
          4128,
          4129,
          4144,
          4155,
          4158,
          4160,
          4161,
          4164,
          4166,
          4169,
          4175,
          4176,
          4179,
          4196,
          4197,
          4198,
          4201,
          4203,
          4207,
          4259,
          4280,
          4284,
          4285,
          4286,
          4291,
          4293,
          4294,
          4297,
          4300,
          4309,
          4311,
          4315,
          4317
         ]
        },
        {
         "line": {
          "color": "red",
          "width": 2
         },
         "marker": {
          "size": 5
         },
         "mode": "lines+markers",
         "name": "Season 25/26 (3,278 ST)",
         "type": "scatter",
         "x": [
          1,
          2,
          3,
          4,
          5,
          6,
          7,
          8,
          9,
          10,
          11,
          12,
          13,
          14,
          15,
          16,
          17,
          18,
          19,
          20,
          21,
          22,
          23,
          24,
          25,
          26,
          27,
          28,
          29,
          30,
          31,
          32,
          33,
          34,
          35,
          36,
          37,
          38,
          39,
          40,
          41,
          42,
          43,
          44,
          45,
          46,
          47,
          48,
          49,
          50,
          51,
          52,
          53,
          54,
          55,
          56,
          57,
          58,
          59,
          60,
          61,
          62,
          63,
          64
         ],
         "y": [
          985,
          1264,
          1383,
          1902,
          2042,
          2123,
          2126,
          2127,
          2129,
          2137,
          2164,
          2169,
          2202,
          2225,
          2227,
          2229,
          2267,
          2298,
          2327,
          2348,
          2371,
          2377,
          2396,
          2408,
          2428,
          2450,
          2477,
          2488,
          2489,
          2506,
          2528,
          2537,
          2606,
          2622,
          2623,
          2644,
          2662,
          2676,
          2742,
          2850,
          2854,
          2859,
          2894,
          2911,
          2938,
          2962,
          2976,
          2978,
          2986,
          3042,
          3084,
          3111,
          3160,
          3161,
          3177,
          3186,
          3207,
          3212,
          3213,
          3234,
          3242,
          3264,
          3267,
          3278
         ]
        }
       ],
       "layout": {
        "annotations": [
         {
          "font": {
           "color": "blue"
          },
          "showarrow": false,
          "text": "Early Bird End",
          "x": 28,
          "xanchor": "left",
          "xref": "x",
          "y": 1,
          "yanchor": "top",
          "yref": "y domain"
         },
         {
          "arrowcolor": "gray",
          "arrowhead": 2,
          "ax": -150,
          "ay": -30,
          "font": {
           "color": "gray"
          },
          "showarrow": true,
          "text": "Day 64<br>2,740 ST",
          "x": 64,
          "y": 2740
         },
         {
          "arrowcolor": "black",
          "arrowhead": 2,
          "ax": 70,
          "ay": 30,
          "font": {
           "color": "black"
          },
          "showarrow": true,
          "text": "Day 64<br>2,696 ST",
          "x": 64,
          "y": 2696
         },
         {
          "arrowcolor": "red",
          "arrowhead": 2,
          "ax": 25,
          "ay": -40,
          "font": {
           "color": "red"
          },
          "showarrow": true,
          "text": "Day 64<br>3,278 ST",
          "x": 64.6,
          "y": 3378
         }
        ],
        "height": 600,
        "legend": {
         "font": {
          "size": 12
         }
        },
        "paper_bgcolor": "white",
        "plot_bgcolor": "white",
        "shapes": [
         {
          "line": {
           "color": "blue",
           "dash": "dash",
           "width": 2
          },
          "type": "line",
          "x0": 28,
          "x1": 28,
          "xref": "x",
          "y0": 0,
          "y1": 1,
          "yref": "y domain"
         }
        ],
        "template": {
         "data": {
          "bar": [
           {
            "error_x": {
             "color": "#2a3f5f"
            },
            "error_y": {
             "color": "#2a3f5f"
            },
            "marker": {
             "line": {
              "color": "#E5ECF6",
              "width": 0.5
             },
             "pattern": {
              "fillmode": "overlay",
              "size": 10,
              "solidity": 0.2
             }
            },
            "type": "bar"
           }
          ],
          "barpolar": [
           {
            "marker": {
             "line": {
              "color": "#E5ECF6",
              "width": 0.5
             },
             "pattern": {
              "fillmode": "overlay",
              "size": 10,
              "solidity": 0.2
             }
            },
            "type": "barpolar"
           }
          ],
          "carpet": [
           {
            "aaxis": {
             "endlinecolor": "#2a3f5f",
             "gridcolor": "white",
             "linecolor": "white",
             "minorgridcolor": "white",
             "startlinecolor": "#2a3f5f"
            },
            "baxis": {
             "endlinecolor": "#2a3f5f",
             "gridcolor": "white",
             "linecolor": "white",
             "minorgridcolor": "white",
             "startlinecolor": "#2a3f5f"
            },
            "type": "carpet"
           }
          ],
          "choropleth": [
           {
            "colorbar": {
             "outlinewidth": 0,
             "ticks": ""
            },
            "type": "choropleth"
           }
          ],
          "contour": [
           {
            "colorbar": {
             "outlinewidth": 0,
             "ticks": ""
            },
            "colorscale": [
             [
              0,
              "#0d0887"
             ],
             [
              0.1111111111111111,
              "#46039f"
             ],
             [
              0.2222222222222222,
              "#7201a8"
             ],
             [
              0.3333333333333333,
              "#9c179e"
             ],
             [
              0.4444444444444444,
              "#bd3786"
             ],
             [
              0.5555555555555556,
              "#d8576b"
             ],
             [
              0.6666666666666666,
              "#ed7953"
             ],
             [
              0.7777777777777778,
              "#fb9f3a"
             ],
             [
              0.8888888888888888,
              "#fdca26"
             ],
             [
              1,
              "#f0f921"
             ]
            ],
            "type": "contour"
           }
          ],
          "contourcarpet": [
           {
            "colorbar": {
             "outlinewidth": 0,
             "ticks": ""
            },
            "type": "contourcarpet"
           }
          ],
          "heatmap": [
           {
            "colorbar": {
             "outlinewidth": 0,
             "ticks": ""
            },
            "colorscale": [
             [
              0,
              "#0d0887"
             ],
             [
              0.1111111111111111,
              "#46039f"
             ],
             [
              0.2222222222222222,
              "#7201a8"
             ],
             [
              0.3333333333333333,
              "#9c179e"
             ],
             [
              0.4444444444444444,
              "#bd3786"
             ],
             [
              0.5555555555555556,
              "#d8576b"
             ],
             [
              0.6666666666666666,
              "#ed7953"
             ],
             [
              0.7777777777777778,
              "#fb9f3a"
             ],
             [
              0.8888888888888888,
              "#fdca26"
             ],
             [
              1,
              "#f0f921"
             ]
            ],
            "type": "heatmap"
           }
          ],
          "heatmapgl": [
           {
            "colorbar": {
             "outlinewidth": 0,
             "ticks": ""
            },
            "colorscale": [
             [
              0,
              "#0d0887"
             ],
             [
              0.1111111111111111,
              "#46039f"
             ],
             [
              0.2222222222222222,
              "#7201a8"
             ],
             [
              0.3333333333333333,
              "#9c179e"
             ],
             [
              0.4444444444444444,
              "#bd3786"
             ],
             [
              0.5555555555555556,
              "#d8576b"
             ],
             [
              0.6666666666666666,
              "#ed7953"
             ],
             [
              0.7777777777777778,
              "#fb9f3a"
             ],
             [
              0.8888888888888888,
              "#fdca26"
             ],
             [
              1,
              "#f0f921"
             ]
            ],
            "type": "heatmapgl"
           }
          ],
          "histogram": [
           {
            "marker": {
             "pattern": {
              "fillmode": "overlay",
              "size": 10,
              "solidity": 0.2
             }
            },
            "type": "histogram"
           }
          ],
          "histogram2d": [
           {
            "colorbar": {
             "outlinewidth": 0,
             "ticks": ""
            },
            "colorscale": [
             [
              0,
              "#0d0887"
             ],
             [
              0.1111111111111111,
              "#46039f"
             ],
             [
              0.2222222222222222,
              "#7201a8"
             ],
             [
              0.3333333333333333,
              "#9c179e"
             ],
             [
              0.4444444444444444,
              "#bd3786"
             ],
             [
              0.5555555555555556,
              "#d8576b"
             ],
             [
              0.6666666666666666,
              "#ed7953"
             ],
             [
              0.7777777777777778,
              "#fb9f3a"
             ],
             [
              0.8888888888888888,
              "#fdca26"
             ],
             [
              1,
              "#f0f921"
             ]
            ],
            "type": "histogram2d"
           }
          ],
          "histogram2dcontour": [
           {
            "colorbar": {
             "outlinewidth": 0,
             "ticks": ""
            },
            "colorscale": [
             [
              0,
              "#0d0887"
             ],
             [
              0.1111111111111111,
              "#46039f"
             ],
             [
              0.2222222222222222,
              "#7201a8"
             ],
             [
              0.3333333333333333,
              "#9c179e"
             ],
             [
              0.4444444444444444,
              "#bd3786"
             ],
             [
              0.5555555555555556,
              "#d8576b"
             ],
             [
              0.6666666666666666,
              "#ed7953"
             ],
             [
              0.7777777777777778,
              "#fb9f3a"
             ],
             [
              0.8888888888888888,
              "#fdca26"
             ],
             [
              1,
              "#f0f921"
             ]
            ],
            "type": "histogram2dcontour"
           }
          ],
          "mesh3d": [
           {
            "colorbar": {
             "outlinewidth": 0,
             "ticks": ""
            },
            "type": "mesh3d"
           }
          ],
          "parcoords": [
           {
            "line": {
             "colorbar": {
              "outlinewidth": 0,
              "ticks": ""
             }
            },
            "type": "parcoords"
           }
          ],
          "pie": [
           {
            "automargin": true,
            "type": "pie"
           }
          ],
          "scatter": [
           {
            "fillpattern": {
             "fillmode": "overlay",
             "size": 10,
             "solidity": 0.2
            },
            "type": "scatter"
           }
          ],
          "scatter3d": [
           {
            "line": {
             "colorbar": {
              "outlinewidth": 0,
              "ticks": ""
             }
            },
            "marker": {
             "colorbar": {
              "outlinewidth": 0,
              "ticks": ""
             }
            },
            "type": "scatter3d"
           }
          ],
          "scattercarpet": [
           {
            "marker": {
             "colorbar": {
              "outlinewidth": 0,
              "ticks": ""
             }
            },
            "type": "scattercarpet"
           }
          ],
          "scattergeo": [
           {
            "marker": {
             "colorbar": {
              "outlinewidth": 0,
              "ticks": ""
             }
            },
            "type": "scattergeo"
           }
          ],
          "scattergl": [
           {
            "marker": {
             "colorbar": {
              "outlinewidth": 0,
              "ticks": ""
             }
            },
            "type": "scattergl"
           }
          ],
          "scattermapbox": [
           {
            "marker": {
             "colorbar": {
              "outlinewidth": 0,
              "ticks": ""
             }
            },
            "type": "scattermapbox"
           }
          ],
          "scatterpolar": [
           {
            "marker": {
             "colorbar": {
              "outlinewidth": 0,
              "ticks": ""
             }
            },
            "type": "scatterpolar"
           }
          ],
          "scatterpolargl": [
           {
            "marker": {
             "colorbar": {
              "outlinewidth": 0,
              "ticks": ""
             }
            },
            "type": "scatterpolargl"
           }
          ],
          "scatterternary": [
           {
            "marker": {
             "colorbar": {
              "outlinewidth": 0,
              "ticks": ""
             }
            },
            "type": "scatterternary"
           }
          ],
          "surface": [
           {
            "colorbar": {
             "outlinewidth": 0,
             "ticks": ""
            },
            "colorscale": [
             [
              0,
              "#0d0887"
             ],
             [
              0.1111111111111111,
              "#46039f"
             ],
             [
              0.2222222222222222,
              "#7201a8"
             ],
             [
              0.3333333333333333,
              "#9c179e"
             ],
             [
              0.4444444444444444,
              "#bd3786"
             ],
             [
              0.5555555555555556,
              "#d8576b"
             ],
             [
              0.6666666666666666,
              "#ed7953"
             ],
             [
              0.7777777777777778,
              "#fb9f3a"
             ],
             [
              0.8888888888888888,
              "#fdca26"
             ],
             [
              1,
              "#f0f921"
             ]
            ],
            "type": "surface"
           }
          ],
          "table": [
           {
            "cells": {
             "fill": {
              "color": "#EBF0F8"
             },
             "line": {
              "color": "white"
             }
            },
            "header": {
             "fill": {
              "color": "#C8D4E3"
             },
             "line": {
              "color": "white"
             }
            },
            "type": "table"
           }
          ]
         },
         "layout": {
          "annotationdefaults": {
           "arrowcolor": "#2a3f5f",
           "arrowhead": 0,
           "arrowwidth": 1
          },
          "autotypenumbers": "strict",
          "coloraxis": {
           "colorbar": {
            "outlinewidth": 0,
            "ticks": ""
           }
          },
          "colorscale": {
           "diverging": [
            [
             0,
             "#8e0152"
            ],
            [
             0.1,
             "#c51b7d"
            ],
            [
             0.2,
             "#de77ae"
            ],
            [
             0.3,
             "#f1b6da"
            ],
            [
             0.4,
             "#fde0ef"
            ],
            [
             0.5,
             "#f7f7f7"
            ],
            [
             0.6,
             "#e6f5d0"
            ],
            [
             0.7,
             "#b8e186"
            ],
            [
             0.8,
             "#7fbc41"
            ],
            [
             0.9,
             "#4d9221"
            ],
            [
             1,
             "#276419"
            ]
           ],
           "sequential": [
            [
             0,
             "#0d0887"
            ],
            [
             0.1111111111111111,
             "#46039f"
            ],
            [
             0.2222222222222222,
             "#7201a8"
            ],
            [
             0.3333333333333333,
             "#9c179e"
            ],
            [
             0.4444444444444444,
             "#bd3786"
            ],
            [
             0.5555555555555556,
             "#d8576b"
            ],
            [
             0.6666666666666666,
             "#ed7953"
            ],
            [
             0.7777777777777778,
             "#fb9f3a"
            ],
            [
             0.8888888888888888,
             "#fdca26"
            ],
            [
             1,
             "#f0f921"
            ]
           ],
           "sequentialminus": [
            [
             0,
             "#0d0887"
            ],
            [
             0.1111111111111111,
             "#46039f"
            ],
            [
             0.2222222222222222,
             "#7201a8"
            ],
            [
             0.3333333333333333,
             "#9c179e"
            ],
            [
             0.4444444444444444,
             "#bd3786"
            ],
            [
             0.5555555555555556,
             "#d8576b"
            ],
            [
             0.6666666666666666,
             "#ed7953"
            ],
            [
             0.7777777777777778,
             "#fb9f3a"
            ],
            [
             0.8888888888888888,
             "#fdca26"
            ],
            [
             1,
             "#f0f921"
            ]
           ]
          },
          "colorway": [
           "#636efa",
           "#EF553B",
           "#00cc96",
           "#ab63fa",
           "#FFA15A",
           "#19d3f3",
           "#FF6692",
           "#B6E880",
           "#FF97FF",
           "#FECB52"
          ],
          "font": {
           "color": "#2a3f5f"
          },
          "geo": {
           "bgcolor": "white",
           "lakecolor": "white",
           "landcolor": "#E5ECF6",
           "showlakes": true,
           "showland": true,
           "subunitcolor": "white"
          },
          "hoverlabel": {
           "align": "left"
          },
          "hovermode": "closest",
          "mapbox": {
           "style": "light"
          },
          "paper_bgcolor": "white",
          "plot_bgcolor": "#E5ECF6",
          "polar": {
           "angularaxis": {
            "gridcolor": "white",
            "linecolor": "white",
            "ticks": ""
           },
           "bgcolor": "#E5ECF6",
           "radialaxis": {
            "gridcolor": "white",
            "linecolor": "white",
            "ticks": ""
           }
          },
          "scene": {
           "xaxis": {
            "backgroundcolor": "#E5ECF6",
            "gridcolor": "white",
            "gridwidth": 2,
            "linecolor": "white",
            "showbackground": true,
            "ticks": "",
            "zerolinecolor": "white"
           },
           "yaxis": {
            "backgroundcolor": "#E5ECF6",
            "gridcolor": "white",
            "gridwidth": 2,
            "linecolor": "white",
            "showbackground": true,
            "ticks": "",
            "zerolinecolor": "white"
           },
           "zaxis": {
            "backgroundcolor": "#E5ECF6",
            "gridcolor": "white",
            "gridwidth": 2,
            "linecolor": "white",
            "showbackground": true,
            "ticks": "",
            "zerolinecolor": "white"
           }
          },
          "shapedefaults": {
           "line": {
            "color": "#2a3f5f"
           }
          },
          "ternary": {
           "aaxis": {
            "gridcolor": "white",
            "linecolor": "white",
            "ticks": ""
           },
           "baxis": {
            "gridcolor": "white",
            "linecolor": "white",
            "ticks": ""
           },
           "bgcolor": "#E5ECF6",
           "caxis": {
            "gridcolor": "white",
            "linecolor": "white",
            "ticks": ""
           }
          },
          "title": {
           "x": 0.05
          },
          "xaxis": {
           "automargin": true,
           "gridcolor": "white",
           "linecolor": "white",
           "ticks": "",
           "title": {
            "standoff": 15
           },
           "zerolinecolor": "white",
           "zerolinewidth": 2
          },
          "yaxis": {
           "automargin": true,
           "gridcolor": "white",
           "linecolor": "white",
           "ticks": "",
           "title": {
            "standoff": 15
           },
           "zerolinecolor": "white",
           "zerolinewidth": 2
          }
         }
        },
        "title": {
         "font": {
          "size": 20
         },
         "text": "Cumulative Season Ticket Count Over Time",
         "x": 0.5
        },
        "width": 1000,
        "xaxis": {
         "dtick": 7,
         "range": [
          1,
          170
         ],
         "tick0": 1,
         "tickangle": 0,
         "tickfont": {
          "size": 12
         },
         "tickmode": "linear",
         "title": {
          "text": "Days Since the Season Ticket Renewals Period Opening"
         }
        },
        "yaxis": {
         "gridcolor": "lightgray",
         "tickfont": {
          "size": 12
         },
         "title": {
          "text": "Cumulative Count"
         },
         "zeroline": false
        }
       }
      }
     },
     "metadata": {},
     "output_type": "display_data"
    }
   ],
   "source": [
    "def plot_cumulative_count_comparison(st_2324, st_2425, perc, x_max_days=170):\n",
    "    OPENING_DATE_2324 = pd.to_datetime(\"2023-06-26\")\n",
    "    OPENING_DATE_2425 = pd.to_datetime(\"2024-07-03\")\n",
    "    OPENING_DATE_2526 = pd.to_datetime(\"2025-06-05\")\n",
    "\n",
    "    st_count_2324 = st_2324.shape[0]\n",
    "    st_count_2425 = st_2425.shape[0]\n",
    "    st_count_2526 = prepare_cumulative_count(perc, OPENING_DATE_2526)['Cumulative Count'].iloc[-1]\n",
    "\n",
    "    # Prepare data\n",
    "    daily_count_2324 = prepare_cumulative_count(st_2324, OPENING_DATE_2324)\n",
    "    daily_count_2425 = prepare_cumulative_count(st_2425, OPENING_DATE_2425)\n",
    "    daily_count_2526 = prepare_cumulative_count(perc, OPENING_DATE_2526)\n",
    "\n",
    "    # --- Clip series to x_max_days so traces & annotations match the view ---\n",
    "    def clip_to(df, x_max):\n",
    "        return df[df['Days Since Opening'] <= x_max].copy()\n",
    "\n",
    "    dc2324_v = clip_to(daily_count_2324, x_max_days)\n",
    "    dc2425_v = clip_to(daily_count_2425, x_max_days)\n",
    "    dc2526_v = clip_to(daily_count_2526, x_max_days)\n",
    "\n",
    "    fig = go.Figure()\n",
    "\n",
    "    fig.add_trace(go.Scatter(\n",
    "        x=dc2324_v['Days Since Opening'], y=dc2324_v['Cumulative Count'],\n",
    "        mode='lines+markers', name=f'Season 23/24 ({st_count_2324:,} ST)',\n",
    "        line=dict(color='gray', width=2), marker=dict(size=5)\n",
    "    ))\n",
    "    fig.add_trace(go.Scatter(\n",
    "        x=dc2425_v['Days Since Opening'], y=dc2425_v['Cumulative Count'],\n",
    "        mode='lines+markers', name=f'Season 24/25 ({st_count_2425:,} ST)',\n",
    "        line=dict(color='black', width=2), marker=dict(size=5)\n",
    "    ))\n",
    "    fig.add_trace(go.Scatter(\n",
    "        x=dc2526_v['Days Since Opening'], y=dc2526_v['Cumulative Count'],\n",
    "        mode='lines+markers', name=f'Season 25/26 ({st_count_2526:,} ST)',\n",
    "        line=dict(color='red', width=2), marker=dict(size=5)\n",
    "    ))\n",
    "\n",
    "    # Early Bird END (cap at view)\n",
    "    early_bird_end_date = pd.to_datetime(\"2025-07-11\")\n",
    "    m = daily_count_2526.loc[\n",
    "        daily_count_2526['Date'] == early_bird_end_date.date(), 'Days Since Opening'\n",
    "    ]\n",
    "    early_bird_end_day_number = int(m.iloc[0]) if not m.empty else 27\n",
    "    early_bird_end_day_number = min(early_bird_end_day_number, x_max_days)\n",
    "\n",
    "    fig.add_vline(\n",
    "        x=early_bird_end_day_number, line=dict(color=\"blue\", width=2, dash=\"dash\"),\n",
    "        annotation_text=\"Early Bird End\", annotation_position=\"top right\",\n",
    "        annotation_font_color=\"blue\",\n",
    "    )\n",
    "\n",
    "    # Annotations for last visible day\n",
    "    day_to_annotate = min(daily_count_2526['Days Since Opening'].max(), x_max_days)\n",
    "    for df_full, df_vis, color in [\n",
    "        (daily_count_2324, dc2324_v, 'gray'),\n",
    "        (daily_count_2425, dc2425_v, 'black'),\n",
    "        (daily_count_2526, dc2526_v, 'red')\n",
    "    ]:\n",
    "        s = df_vis.loc[df_vis['Days Since Opening'] == day_to_annotate, 'Cumulative Count']\n",
    "        if not s.empty:\n",
    "            y = s.values[0]\n",
    "            ax_shift, ay_shift = (-150, -30) if color == 'gray' else ((70, 30) if color == 'black' else (25, -40))\n",
    "            fig.add_annotation(\n",
    "                x=day_to_annotate + (0.6 if color == 'red' else 0),\n",
    "                y=y + (100 if color == 'red' else 0),\n",
    "                text=f'Day {day_to_annotate}<br>{y:,} ST',\n",
    "                showarrow=True, arrowhead=2, ax=ax_shift, ay=ay_shift,\n",
    "                font=dict(color=color), arrowcolor=('black' if color == 'black' else color)\n",
    "            )\n",
    "\n",
    "    # --- Force the x-axis window to 1..x_max_days ---\n",
    "    fig.update_layout(\n",
    "        title=dict(text='Cumulative Season Ticket Count Over Time', x=0.5, font=dict(size=20)),\n",
    "        xaxis=dict(\n",
    "            title='Days Since the Season Ticket Renewals Period Opening',\n",
    "            tickmode='linear', tick0=1, dtick=7, tickangle=0, tickfont=dict(size=12),\n",
    "            range=[1, x_max_days]   # <- the key line\n",
    "        ),\n",
    "        yaxis=dict(title='Cumulative Count', tickfont=dict(size=12), zeroline=False, gridcolor='lightgray'),\n",
    "        width=1000, height=600, plot_bgcolor='white', paper_bgcolor='white',\n",
    "        legend=dict(font=dict(size=12)),\n",
    "    )\n",
    "\n",
    "    fig.show()\n",
    "\n",
    "\n",
    "# Usage example\n",
    "plot_cumulative_count_comparison(st_2324, st_2425, perc, x_max_days=170)"
   ]
  },
  {
   "cell_type": "markdown",
   "id": "01f14f9d",
   "metadata": {},
   "source": [
    "# OLD CODE WITHOUT 23-24    "
   ]
  },
  {
   "cell_type": "code",
   "execution_count": 18,
   "id": "ef3e59b5",
   "metadata": {},
   "outputs": [],
   "source": [
    "# def prepare_cumulative_count(df, open_date, days_limit=160):\n",
    "#     df = df.copy()\n",
    "#     df['Date'] = pd.to_datetime(df['sale_date'])\n",
    "#     df = df[df['Date'] >= open_date]\n",
    "\n",
    "#     count = (\n",
    "#         df.groupby('Date')\n",
    "#         .size()\n",
    "#         .reindex(pd.date_range(df['Date'].min(), df['Date'].max()), fill_value=0)\n",
    "#         .rename_axis('Date')\n",
    "#         .reset_index(name='daily_count')\n",
    "#     )\n",
    "\n",
    "#     count['Days Since Opening'] = (count['Date'] - open_date).dt.days + 1\n",
    "#     count = count[count['Days Since Opening'] < days_limit]\n",
    "#     count['Cumulative Count'] = count['daily_count'].cumsum()\n",
    "\n",
    "#     return count"
   ]
  },
  {
   "cell_type": "code",
   "execution_count": 19,
   "id": "b2e8e813-f535-43ef-9339-c0bd823e2937",
   "metadata": {},
   "outputs": [],
   "source": [
    "# def plot_cumulative_count_comparison(st_2425, perc):\n",
    "#     OPENING_DATE_2425 = pd.to_datetime(\"2024-07-03\")\n",
    "#     OPENING_DATE_2526 = pd.to_datetime(\"2025-06-05\")\n",
    "\n",
    "#     st_count_2425 = st_2425.shape[0]\n",
    "#     st_count_2526 = perc.shape[0]\n",
    "\n",
    "#     # Prepare data\n",
    "#     daily_count_2425 = prepare_cumulative_count(st_2425, OPENING_DATE_2425)\n",
    "#     daily_count_2526 = prepare_cumulative_count(perc, OPENING_DATE_2526)\n",
    "\n",
    "#     fig = go.Figure()\n",
    "\n",
    "#     # Trace for 24/25\n",
    "#     fig.add_trace(go.Scatter(\n",
    "#         x=daily_count_2425['Days Since Opening'],\n",
    "#         y=daily_count_2425['Cumulative Count'],\n",
    "#         mode='lines+markers',\n",
    "#         name=f'Season 24/25 ({st_count_2425:,} ST)',\n",
    "#         line=dict(color='black', width=2),\n",
    "#         marker=dict(size=5)\n",
    "#     ))\n",
    "\n",
    "#     # Trace for 25/26\n",
    "#     fig.add_trace(go.Scatter(\n",
    "#         x=daily_count_2526['Days Since Opening'],\n",
    "#         y=daily_count_2526['Cumulative Count'],\n",
    "#         mode='lines+markers',\n",
    "#         name=f'Season 25/26 ({st_count_2526:,} ST)',\n",
    "#         line=dict(color='red', width=2),\n",
    "#         marker=dict(size=5)\n",
    "#     ))\n",
    "\n",
    "#     # Add annotations\n",
    "#     last_day = daily_count_2526['Days Since Opening'].max()\n",
    "#     last_count_2526 = daily_count_2526.loc[daily_count_2526['Days Since Opening'] == last_day, 'Cumulative Count'].values[0]\n",
    "#     last_count_2425 = daily_count_2425.loc[daily_count_2425['Days Since Opening'] == last_day, 'Cumulative Count']\n",
    "#     last_count_2425 = last_count_2425.values[0] if not last_count_2425.empty else None\n",
    "\n",
    "#     fig.add_annotation(\n",
    "#         x=last_day,\n",
    "#         y=last_count_2526,\n",
    "#         text=f'Day {last_day}<br>{last_count_2526:,} ST',\n",
    "#         showarrow=True,\n",
    "#         arrowhead=2,\n",
    "#         ax=20,\n",
    "#         ay=-40,\n",
    "#         font=dict(color='red'),\n",
    "#         arrowcolor='red'\n",
    "#     )\n",
    "\n",
    "#     if last_count_2425 is not None:\n",
    "#         fig.add_annotation(\n",
    "#             x=last_day,\n",
    "#             y=last_count_2425,\n",
    "#             text=f'Day {last_day}<br>{last_count_2425:,} ST',\n",
    "#             showarrow=True,\n",
    "#             arrowhead=2,\n",
    "#             ax=60,\n",
    "#             ay=-90,\n",
    "#             font=dict(color='black'),\n",
    "#             arrowcolor='black'\n",
    "#         )\n",
    "\n",
    "#     fig.update_layout(\n",
    "#         title=dict(\n",
    "#             text='Cumulative Season Ticket Count Over Time',\n",
    "#             x=0.5,\n",
    "#             font=dict(size=20)\n",
    "#         ),\n",
    "#         xaxis=dict(\n",
    "#             title='Days Since the Season Ticket Renewals Period Opening',\n",
    "#             tickfont=dict(size=12),\n",
    "#             tick0=1,\n",
    "#             dtick=7,\n",
    "#             tickangle=45,\n",
    "#             range=[1, max(daily_count_2425['Days Since Opening'].max(), daily_count_2526['Days Since Opening'].max()) + 1]\n",
    "#         ),\n",
    "#         yaxis=dict(\n",
    "#             title='Cumulative Count',\n",
    "#             tickfont=dict(size=12),\n",
    "#             zeroline=False,\n",
    "#             gridcolor='lightgray',\n",
    "#         ),\n",
    "#         width=1000,\n",
    "#         height=600,\n",
    "#         plot_bgcolor='white',\n",
    "#         paper_bgcolor='white',\n",
    "#         legend=dict(font=dict(size=12)),\n",
    "#     )\n",
    "\n",
    "#     fig.show()\n",
    "\n",
    "# # Usage\n",
    "# plot_cumulative_count_comparison(st_2425, perc)"
   ]
  },
  {
   "cell_type": "markdown",
   "id": "6c5db987",
   "metadata": {},
   "source": [
    "## Impact of Games Attended on ST Renewal"
   ]
  },
  {
   "cell_type": "code",
   "execution_count": 20,
   "id": "1b4007ad",
   "metadata": {},
   "outputs": [],
   "source": [
    "df = pd.read_excel('summary_df.xlsx')"
   ]
  },
  {
   "cell_type": "code",
   "execution_count": 21,
   "id": "f1a819ee",
   "metadata": {},
   "outputs": [
    {
     "data": {
      "application/vnd.plotly.v1+json": {
       "config": {
        "plotlyServerURL": "https://plot.ly"
       },
       "data": [
        {
         "marker": {
          "color": "#ff9999"
         },
         "name": "ST Members",
         "text": [
          "434",
          "330",
          "417",
          "455",
          "473",
          "479",
          "487",
          "396",
          "344",
          "255",
          "184",
          "87"
         ],
         "textposition": "outside",
         "type": "bar",
         "x": [
          0,
          1,
          2,
          3,
          4,
          5,
          6,
          7,
          8,
          9,
          10,
          11
         ],
         "y": [
          434,
          330,
          417,
          455,
          473,
          479,
          487,
          396,
          344,
          255,
          184,
          87
         ],
         "yaxis": "y"
        },
        {
         "marker": {
          "color": "#cc0000"
         },
         "name": "Renewed Members",
         "text": [
          "123",
          "170",
          "219",
          "222",
          "312",
          "337",
          "337",
          "297",
          "288",
          "217",
          "159",
          "77"
         ],
         "textposition": "outside",
         "type": "bar",
         "x": [
          0,
          1,
          2,
          3,
          4,
          5,
          6,
          7,
          8,
          9,
          10,
          11
         ],
         "y": [
          123,
          170,
          219,
          222,
          312,
          337,
          337,
          297,
          288,
          217,
          159,
          77
         ],
         "yaxis": "y"
        },
        {
         "line": {
          "color": "black",
          "width": 2
         },
         "marker": {
          "size": 8
         },
         "mode": "lines+markers+text",
         "name": "Renewal Rate (%)",
         "text": [
          "28.3%",
          "51.5%",
          "52.5%",
          "48.8%",
          "66.0%",
          "70.4%",
          "69.2%",
          "75.0%",
          "83.7%",
          "85.1%",
          "86.4%",
          "88.5%"
         ],
         "textposition": "top center",
         "type": "scatter",
         "x": [
          0,
          1,
          2,
          3,
          4,
          5,
          6,
          7,
          8,
          9,
          10,
          11
         ],
         "y": [
          28.3,
          51.5,
          52.5,
          48.8,
          66,
          70.4,
          69.2,
          75,
          83.7,
          85.1,
          86.4,
          88.5
         ],
         "yaxis": "y2"
        }
       ],
       "layout": {
        "bargap": 0.15,
        "bargroupgap": 0.1,
        "barmode": "group",
        "height": 500,
        "legend": {
         "bgcolor": "rgba(255,255,255,0)",
         "orientation": "h",
         "x": 0.7,
         "y": 1.15
        },
        "template": {
         "data": {
          "bar": [
           {
            "error_x": {
             "color": "rgb(36,36,36)"
            },
            "error_y": {
             "color": "rgb(36,36,36)"
            },
            "marker": {
             "line": {
              "color": "white",
              "width": 0.5
             },
             "pattern": {
              "fillmode": "overlay",
              "size": 10,
              "solidity": 0.2
             }
            },
            "type": "bar"
           }
          ],
          "barpolar": [
           {
            "marker": {
             "line": {
              "color": "white",
              "width": 0.5
             },
             "pattern": {
              "fillmode": "overlay",
              "size": 10,
              "solidity": 0.2
             }
            },
            "type": "barpolar"
           }
          ],
          "carpet": [
           {
            "aaxis": {
             "endlinecolor": "rgb(36,36,36)",
             "gridcolor": "white",
             "linecolor": "white",
             "minorgridcolor": "white",
             "startlinecolor": "rgb(36,36,36)"
            },
            "baxis": {
             "endlinecolor": "rgb(36,36,36)",
             "gridcolor": "white",
             "linecolor": "white",
             "minorgridcolor": "white",
             "startlinecolor": "rgb(36,36,36)"
            },
            "type": "carpet"
           }
          ],
          "choropleth": [
           {
            "colorbar": {
             "outlinewidth": 1,
             "tickcolor": "rgb(36,36,36)",
             "ticks": "outside"
            },
            "type": "choropleth"
           }
          ],
          "contour": [
           {
            "colorbar": {
             "outlinewidth": 1,
             "tickcolor": "rgb(36,36,36)",
             "ticks": "outside"
            },
            "colorscale": [
             [
              0,
              "#440154"
             ],
             [
              0.1111111111111111,
              "#482878"
             ],
             [
              0.2222222222222222,
              "#3e4989"
             ],
             [
              0.3333333333333333,
              "#31688e"
             ],
             [
              0.4444444444444444,
              "#26828e"
             ],
             [
              0.5555555555555556,
              "#1f9e89"
             ],
             [
              0.6666666666666666,
              "#35b779"
             ],
             [
              0.7777777777777778,
              "#6ece58"
             ],
             [
              0.8888888888888888,
              "#b5de2b"
             ],
             [
              1,
              "#fde725"
             ]
            ],
            "type": "contour"
           }
          ],
          "contourcarpet": [
           {
            "colorbar": {
             "outlinewidth": 1,
             "tickcolor": "rgb(36,36,36)",
             "ticks": "outside"
            },
            "type": "contourcarpet"
           }
          ],
          "heatmap": [
           {
            "colorbar": {
             "outlinewidth": 1,
             "tickcolor": "rgb(36,36,36)",
             "ticks": "outside"
            },
            "colorscale": [
             [
              0,
              "#440154"
             ],
             [
              0.1111111111111111,
              "#482878"
             ],
             [
              0.2222222222222222,
              "#3e4989"
             ],
             [
              0.3333333333333333,
              "#31688e"
             ],
             [
              0.4444444444444444,
              "#26828e"
             ],
             [
              0.5555555555555556,
              "#1f9e89"
             ],
             [
              0.6666666666666666,
              "#35b779"
             ],
             [
              0.7777777777777778,
              "#6ece58"
             ],
             [
              0.8888888888888888,
              "#b5de2b"
             ],
             [
              1,
              "#fde725"
             ]
            ],
            "type": "heatmap"
           }
          ],
          "heatmapgl": [
           {
            "colorbar": {
             "outlinewidth": 1,
             "tickcolor": "rgb(36,36,36)",
             "ticks": "outside"
            },
            "colorscale": [
             [
              0,
              "#440154"
             ],
             [
              0.1111111111111111,
              "#482878"
             ],
             [
              0.2222222222222222,
              "#3e4989"
             ],
             [
              0.3333333333333333,
              "#31688e"
             ],
             [
              0.4444444444444444,
              "#26828e"
             ],
             [
              0.5555555555555556,
              "#1f9e89"
             ],
             [
              0.6666666666666666,
              "#35b779"
             ],
             [
              0.7777777777777778,
              "#6ece58"
             ],
             [
              0.8888888888888888,
              "#b5de2b"
             ],
             [
              1,
              "#fde725"
             ]
            ],
            "type": "heatmapgl"
           }
          ],
          "histogram": [
           {
            "marker": {
             "line": {
              "color": "white",
              "width": 0.6
             }
            },
            "type": "histogram"
           }
          ],
          "histogram2d": [
           {
            "colorbar": {
             "outlinewidth": 1,
             "tickcolor": "rgb(36,36,36)",
             "ticks": "outside"
            },
            "colorscale": [
             [
              0,
              "#440154"
             ],
             [
              0.1111111111111111,
              "#482878"
             ],
             [
              0.2222222222222222,
              "#3e4989"
             ],
             [
              0.3333333333333333,
              "#31688e"
             ],
             [
              0.4444444444444444,
              "#26828e"
             ],
             [
              0.5555555555555556,
              "#1f9e89"
             ],
             [
              0.6666666666666666,
              "#35b779"
             ],
             [
              0.7777777777777778,
              "#6ece58"
             ],
             [
              0.8888888888888888,
              "#b5de2b"
             ],
             [
              1,
              "#fde725"
             ]
            ],
            "type": "histogram2d"
           }
          ],
          "histogram2dcontour": [
           {
            "colorbar": {
             "outlinewidth": 1,
             "tickcolor": "rgb(36,36,36)",
             "ticks": "outside"
            },
            "colorscale": [
             [
              0,
              "#440154"
             ],
             [
              0.1111111111111111,
              "#482878"
             ],
             [
              0.2222222222222222,
              "#3e4989"
             ],
             [
              0.3333333333333333,
              "#31688e"
             ],
             [
              0.4444444444444444,
              "#26828e"
             ],
             [
              0.5555555555555556,
              "#1f9e89"
             ],
             [
              0.6666666666666666,
              "#35b779"
             ],
             [
              0.7777777777777778,
              "#6ece58"
             ],
             [
              0.8888888888888888,
              "#b5de2b"
             ],
             [
              1,
              "#fde725"
             ]
            ],
            "type": "histogram2dcontour"
           }
          ],
          "mesh3d": [
           {
            "colorbar": {
             "outlinewidth": 1,
             "tickcolor": "rgb(36,36,36)",
             "ticks": "outside"
            },
            "type": "mesh3d"
           }
          ],
          "parcoords": [
           {
            "line": {
             "colorbar": {
              "outlinewidth": 1,
              "tickcolor": "rgb(36,36,36)",
              "ticks": "outside"
             }
            },
            "type": "parcoords"
           }
          ],
          "pie": [
           {
            "automargin": true,
            "type": "pie"
           }
          ],
          "scatter": [
           {
            "fillpattern": {
             "fillmode": "overlay",
             "size": 10,
             "solidity": 0.2
            },
            "type": "scatter"
           }
          ],
          "scatter3d": [
           {
            "line": {
             "colorbar": {
              "outlinewidth": 1,
              "tickcolor": "rgb(36,36,36)",
              "ticks": "outside"
             }
            },
            "marker": {
             "colorbar": {
              "outlinewidth": 1,
              "tickcolor": "rgb(36,36,36)",
              "ticks": "outside"
             }
            },
            "type": "scatter3d"
           }
          ],
          "scattercarpet": [
           {
            "marker": {
             "colorbar": {
              "outlinewidth": 1,
              "tickcolor": "rgb(36,36,36)",
              "ticks": "outside"
             }
            },
            "type": "scattercarpet"
           }
          ],
          "scattergeo": [
           {
            "marker": {
             "colorbar": {
              "outlinewidth": 1,
              "tickcolor": "rgb(36,36,36)",
              "ticks": "outside"
             }
            },
            "type": "scattergeo"
           }
          ],
          "scattergl": [
           {
            "marker": {
             "colorbar": {
              "outlinewidth": 1,
              "tickcolor": "rgb(36,36,36)",
              "ticks": "outside"
             }
            },
            "type": "scattergl"
           }
          ],
          "scattermapbox": [
           {
            "marker": {
             "colorbar": {
              "outlinewidth": 1,
              "tickcolor": "rgb(36,36,36)",
              "ticks": "outside"
             }
            },
            "type": "scattermapbox"
           }
          ],
          "scatterpolar": [
           {
            "marker": {
             "colorbar": {
              "outlinewidth": 1,
              "tickcolor": "rgb(36,36,36)",
              "ticks": "outside"
             }
            },
            "type": "scatterpolar"
           }
          ],
          "scatterpolargl": [
           {
            "marker": {
             "colorbar": {
              "outlinewidth": 1,
              "tickcolor": "rgb(36,36,36)",
              "ticks": "outside"
             }
            },
            "type": "scatterpolargl"
           }
          ],
          "scatterternary": [
           {
            "marker": {
             "colorbar": {
              "outlinewidth": 1,
              "tickcolor": "rgb(36,36,36)",
              "ticks": "outside"
             }
            },
            "type": "scatterternary"
           }
          ],
          "surface": [
           {
            "colorbar": {
             "outlinewidth": 1,
             "tickcolor": "rgb(36,36,36)",
             "ticks": "outside"
            },
            "colorscale": [
             [
              0,
              "#440154"
             ],
             [
              0.1111111111111111,
              "#482878"
             ],
             [
              0.2222222222222222,
              "#3e4989"
             ],
             [
              0.3333333333333333,
              "#31688e"
             ],
             [
              0.4444444444444444,
              "#26828e"
             ],
             [
              0.5555555555555556,
              "#1f9e89"
             ],
             [
              0.6666666666666666,
              "#35b779"
             ],
             [
              0.7777777777777778,
              "#6ece58"
             ],
             [
              0.8888888888888888,
              "#b5de2b"
             ],
             [
              1,
              "#fde725"
             ]
            ],
            "type": "surface"
           }
          ],
          "table": [
           {
            "cells": {
             "fill": {
              "color": "rgb(237,237,237)"
             },
             "line": {
              "color": "white"
             }
            },
            "header": {
             "fill": {
              "color": "rgb(217,217,217)"
             },
             "line": {
              "color": "white"
             }
            },
            "type": "table"
           }
          ]
         },
         "layout": {
          "annotationdefaults": {
           "arrowhead": 0,
           "arrowwidth": 1
          },
          "autotypenumbers": "strict",
          "coloraxis": {
           "colorbar": {
            "outlinewidth": 1,
            "tickcolor": "rgb(36,36,36)",
            "ticks": "outside"
           }
          },
          "colorscale": {
           "diverging": [
            [
             0,
             "rgb(103,0,31)"
            ],
            [
             0.1,
             "rgb(178,24,43)"
            ],
            [
             0.2,
             "rgb(214,96,77)"
            ],
            [
             0.3,
             "rgb(244,165,130)"
            ],
            [
             0.4,
             "rgb(253,219,199)"
            ],
            [
             0.5,
             "rgb(247,247,247)"
            ],
            [
             0.6,
             "rgb(209,229,240)"
            ],
            [
             0.7,
             "rgb(146,197,222)"
            ],
            [
             0.8,
             "rgb(67,147,195)"
            ],
            [
             0.9,
             "rgb(33,102,172)"
            ],
            [
             1,
             "rgb(5,48,97)"
            ]
           ],
           "sequential": [
            [
             0,
             "#440154"
            ],
            [
             0.1111111111111111,
             "#482878"
            ],
            [
             0.2222222222222222,
             "#3e4989"
            ],
            [
             0.3333333333333333,
             "#31688e"
            ],
            [
             0.4444444444444444,
             "#26828e"
            ],
            [
             0.5555555555555556,
             "#1f9e89"
            ],
            [
             0.6666666666666666,
             "#35b779"
            ],
            [
             0.7777777777777778,
             "#6ece58"
            ],
            [
             0.8888888888888888,
             "#b5de2b"
            ],
            [
             1,
             "#fde725"
            ]
           ],
           "sequentialminus": [
            [
             0,
             "#440154"
            ],
            [
             0.1111111111111111,
             "#482878"
            ],
            [
             0.2222222222222222,
             "#3e4989"
            ],
            [
             0.3333333333333333,
             "#31688e"
            ],
            [
             0.4444444444444444,
             "#26828e"
            ],
            [
             0.5555555555555556,
             "#1f9e89"
            ],
            [
             0.6666666666666666,
             "#35b779"
            ],
            [
             0.7777777777777778,
             "#6ece58"
            ],
            [
             0.8888888888888888,
             "#b5de2b"
            ],
            [
             1,
             "#fde725"
            ]
           ]
          },
          "colorway": [
           "#1F77B4",
           "#FF7F0E",
           "#2CA02C",
           "#D62728",
           "#9467BD",
           "#8C564B",
           "#E377C2",
           "#7F7F7F",
           "#BCBD22",
           "#17BECF"
          ],
          "font": {
           "color": "rgb(36,36,36)"
          },
          "geo": {
           "bgcolor": "white",
           "lakecolor": "white",
           "landcolor": "white",
           "showlakes": true,
           "showland": true,
           "subunitcolor": "white"
          },
          "hoverlabel": {
           "align": "left"
          },
          "hovermode": "closest",
          "mapbox": {
           "style": "light"
          },
          "paper_bgcolor": "white",
          "plot_bgcolor": "white",
          "polar": {
           "angularaxis": {
            "gridcolor": "rgb(232,232,232)",
            "linecolor": "rgb(36,36,36)",
            "showgrid": false,
            "showline": true,
            "ticks": "outside"
           },
           "bgcolor": "white",
           "radialaxis": {
            "gridcolor": "rgb(232,232,232)",
            "linecolor": "rgb(36,36,36)",
            "showgrid": false,
            "showline": true,
            "ticks": "outside"
           }
          },
          "scene": {
           "xaxis": {
            "backgroundcolor": "white",
            "gridcolor": "rgb(232,232,232)",
            "gridwidth": 2,
            "linecolor": "rgb(36,36,36)",
            "showbackground": true,
            "showgrid": false,
            "showline": true,
            "ticks": "outside",
            "zeroline": false,
            "zerolinecolor": "rgb(36,36,36)"
           },
           "yaxis": {
            "backgroundcolor": "white",
            "gridcolor": "rgb(232,232,232)",
            "gridwidth": 2,
            "linecolor": "rgb(36,36,36)",
            "showbackground": true,
            "showgrid": false,
            "showline": true,
            "ticks": "outside",
            "zeroline": false,
            "zerolinecolor": "rgb(36,36,36)"
           },
           "zaxis": {
            "backgroundcolor": "white",
            "gridcolor": "rgb(232,232,232)",
            "gridwidth": 2,
            "linecolor": "rgb(36,36,36)",
            "showbackground": true,
            "showgrid": false,
            "showline": true,
            "ticks": "outside",
            "zeroline": false,
            "zerolinecolor": "rgb(36,36,36)"
           }
          },
          "shapedefaults": {
           "fillcolor": "black",
           "line": {
            "width": 0
           },
           "opacity": 0.3
          },
          "ternary": {
           "aaxis": {
            "gridcolor": "rgb(232,232,232)",
            "linecolor": "rgb(36,36,36)",
            "showgrid": false,
            "showline": true,
            "ticks": "outside"
           },
           "baxis": {
            "gridcolor": "rgb(232,232,232)",
            "linecolor": "rgb(36,36,36)",
            "showgrid": false,
            "showline": true,
            "ticks": "outside"
           },
           "bgcolor": "white",
           "caxis": {
            "gridcolor": "rgb(232,232,232)",
            "linecolor": "rgb(36,36,36)",
            "showgrid": false,
            "showline": true,
            "ticks": "outside"
           }
          },
          "title": {
           "x": 0.05
          },
          "xaxis": {
           "automargin": true,
           "gridcolor": "rgb(232,232,232)",
           "linecolor": "rgb(36,36,36)",
           "showgrid": false,
           "showline": true,
           "ticks": "outside",
           "title": {
            "standoff": 15
           },
           "zeroline": false,
           "zerolinecolor": "rgb(36,36,36)"
          },
          "yaxis": {
           "automargin": true,
           "gridcolor": "rgb(232,232,232)",
           "linecolor": "rgb(36,36,36)",
           "showgrid": false,
           "showline": true,
           "ticks": "outside",
           "title": {
            "standoff": 15
           },
           "zeroline": false,
           "zerolinecolor": "rgb(36,36,36)"
          }
         }
        },
        "title": {
         "text": "Impact of Games Attended on ST Renewal"
        },
        "xaxis": {
         "dtick": 1,
         "tick0": 0,
         "tickmode": "linear",
         "title": {
          "text": "Games Attended"
         }
        },
        "yaxis": {
         "side": "left",
         "title": {
          "text": "Number of ST Members"
         }
        },
        "yaxis2": {
         "overlaying": "y",
         "range": [
          0,
          100
         ],
         "side": "right",
         "title": {
          "text": "Renewal Rate (%)"
         }
        }
       }
      }
     },
     "metadata": {},
     "output_type": "display_data"
    }
   ],
   "source": [
    "# Convert User Id and client_number to int\n",
    "df['User Id'] = df['User Id'].astype(int)\n",
    "perc['client_number'] = perc['client_number'].astype(int)\n",
    "\n",
    "# Make sure Games Attended is numeric\n",
    "df['Games Attended'] = pd.to_numeric(df['Games Attended'], errors='coerce')\n",
    "\n",
    "# Prepare renewed flag\n",
    "renewed_ids = set(perc['client_number'])\n",
    "df['Renewed'] = df['User Id'].isin(renewed_ids)\n",
    "\n",
    "# Max games attended (to define the range)\n",
    "max_games_attended = int(df['Games Attended'].max())\n",
    "\n",
    "# Create categories: 0, 1, 2, ..., max_games_attended\n",
    "attendance_bins = list(range(0, max_games_attended + 1))\n",
    "\n",
    "# Count total ST members per number of games attended\n",
    "total_counts = df['Games Attended'].value_counts().reindex(attendance_bins, fill_value=0)\n",
    "\n",
    "# Count renewed ST members per number of games attended\n",
    "renewed_counts = df[df['Renewed']]['Games Attended'].value_counts().reindex(attendance_bins, fill_value=0)\n",
    "\n",
    "# Calculate renewal rates\n",
    "renewal_rates = (renewed_counts / total_counts * 100).round(1)  # percentage with 1 decimal\n",
    "\n",
    "# Prepare texts (only counts, no percentages)\n",
    "total_texts = total_counts.astype(str)\n",
    "renewed_texts = renewed_counts.astype(str)\n",
    "\n",
    "# Plot with Plotly\n",
    "fig = go.Figure()\n",
    "\n",
    "# Light Red bars - total ST members\n",
    "fig.add_trace(go.Bar(\n",
    "    x=attendance_bins,\n",
    "    y=total_counts,\n",
    "    name='ST Members',\n",
    "    marker_color='#ff9999',\n",
    "    text=total_counts.astype(str),\n",
    "    textposition='outside',\n",
    "    yaxis='y1'\n",
    "))\n",
    "\n",
    "# Dark Red bars - renewed ST members\n",
    "fig.add_trace(go.Bar(\n",
    "    x=attendance_bins,\n",
    "    y=renewed_counts,\n",
    "    name='Renewed Members',\n",
    "    marker_color='#cc0000',\n",
    "    text=renewed_counts.astype(str),\n",
    "    textposition='outside',\n",
    "    yaxis='y1'\n",
    "))\n",
    "\n",
    "# Renewal Rate Line\n",
    "fig.add_trace(go.Scatter(\n",
    "    x=attendance_bins,\n",
    "    y=renewal_rates,\n",
    "    name='Renewal Rate (%)',\n",
    "    mode='lines+markers+text',\n",
    "    text=[f\"{r}%\" for r in renewal_rates],\n",
    "    textposition='top center',\n",
    "    line=dict(color='black', width=2),\n",
    "    marker=dict(size=8),\n",
    "    yaxis='y2'\n",
    "))\n",
    "\n",
    "# Update layout with bigger height\n",
    "fig.update_layout(\n",
    "    title='Impact of Games Attended on ST Renewal',\n",
    "    xaxis_title='Games Attended',\n",
    "    yaxis=dict(\n",
    "        title='Number of ST Members',\n",
    "        side='left'\n",
    "    ),\n",
    "    yaxis2=dict(\n",
    "        title='Renewal Rate (%)',\n",
    "        overlaying='y',\n",
    "        side='right',\n",
    "        range=[0, 100]\n",
    "    ),\n",
    "    xaxis=dict(\n",
    "        tickmode='linear',\n",
    "        tick0=0,\n",
    "        dtick=1\n",
    "    ),\n",
    "    barmode='group',\n",
    "    bargap=0.15,\n",
    "    bargroupgap=0.1,\n",
    "    template='simple_white',\n",
    "    legend=dict(x=0.7, y=1.15, orientation='h', bgcolor='rgba(255,255,255,0)'),\n",
    "    height=500  # <-- This makes it higher! Default is ~450-500\n",
    ")\n",
    "\n",
    "fig.show()"
   ]
  },
  {
   "cell_type": "code",
   "execution_count": null,
   "id": "90621773",
   "metadata": {},
   "outputs": [],
   "source": []
  }
 ],
 "metadata": {
  "kernelspec": {
   "display_name": "base",
   "language": "python",
   "name": "python3"
  },
  "language_info": {
   "codemirror_mode": {
    "name": "ipython",
    "version": 3
   },
   "file_extension": ".py",
   "mimetype": "text/x-python",
   "name": "python",
   "nbconvert_exporter": "python",
   "pygments_lexer": "ipython3",
   "version": "3.12.4"
  }
 },
 "nbformat": 4,
 "nbformat_minor": 5
}
