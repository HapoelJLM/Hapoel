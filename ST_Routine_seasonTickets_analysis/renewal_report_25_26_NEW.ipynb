{
 "cells": [
  {
   "cell_type": "code",
   "execution_count": 2,
   "id": "cd7a88d8-ee95-43c7-957f-3a39fb3966a0",
   "metadata": {},
   "outputs": [],
   "source": [
    "import matplotlib.pyplot as plt\n",
    "import numpy as np\n",
    "import pandas as pd\n",
    "import plotly.graph_objects as go\n",
    "from ipysankeywidget import SankeyWidget\n",
    "from IPython.display import display\n",
    "\n",
    "\n",
    "from IPython.display import HTML\n",
    "def View(df):\n",
    "    css = \"\"\"<style>\n",
    "    table { border-collapse: collapse; border: 3px solid #eee; }\n",
    "    table tr th:first-child { background-color: #eeeeee; color: #333; font-weight: bold }\n",
    "    table thead th { background-color: #eee; color: #000; }\n",
    "    tr, th, td { border: 1px solid #ccc; border-width: 1px 0 0 1px; border-collapse: collapse;\n",
    "    padding: 3px; font-family: monospace; font-size: 10px }</style>\n",
    "    \"\"\"\n",
    "    s  = '<script type=\"text/Javascript\">'\n",
    "    s += 'var win = window.open(\"\", \"Title\", \"toolbar=no, location=no, directories=no, status=no, menubar=no, scrollbars=yes, resizable=yes, width=780, height=200, top=\"+(screen.height-400)+\", left=\"+(screen.width-840));'\n",
    "    s += 'win.document.body.innerHTML = \\'' + (df.to_html() + css).replace(\"\\n\",'\\\\') + '\\';'\n",
    "    s += '</script>'\n",
    "    return(HTML(s+css))\n",
    "\n",
    "# read tables:\n",
    "perc = pd.read_csv('List_Report_20250617162514.csv')\n",
    "chair_mapping = pd.read_excel('chair_mapping_20240801.xlsx')\n",
    "st_2425 = pd.read_csv('List_Report_20250609080140.csv')\n",
    "st_2324 = pd.read_csv('List_Report_20250606154459.csv')"
   ]
  },
  {
   "cell_type": "code",
   "execution_count": 3,
   "id": "76bca7c9",
   "metadata": {},
   "outputs": [],
   "source": [
    "def preprocess_sales_data(df, chair_mapping, return_extras=False):\n",
    "\n",
    "    rename_columns = {\n",
    "        \"Birth date\": 'birth date',\n",
    "        'City': \"city\",\n",
    "        'Gender': 'gender',\n",
    "        'Type': 'status',\n",
    "        'Date': 'sale_date',\n",
    "        'Time': 'sale_hour',\n",
    "        'Base price': 'base_price',\n",
    "        'Price': 'price',\n",
    "        'Ticket price types': 'price_type',\n",
    "        'Stand': 'location_name',\n",
    "        'Price area': 'price_category',\n",
    "        'User Id': 'client_number',\n",
    "        'Area': 'area',\n",
    "        'Row': 'row',\n",
    "        'assign using email or ID': \"tz\",\n",
    "        'Number': 'seat',\n",
    "        'Card number': 'card_number',\n",
    "        'Transaction': 'transaction',\n",
    "        'Cashier': 'purchaser_email',\n",
    "        'Co-owner': 'co_purchaser_email',\n",
    "        'Pelecard_PayType_VisaInstallments': 'payment_type',\n",
    "        'Voucher number': 'voucher_type',\n",
    "        'Status': 'st_status'\n",
    "    }\n",
    "\n",
    "    area_mapper = {\n",
    "        'אולם 1 עמידה': 'Court_1S', '1C': 'Court_1C', 'אולם 2': 'Court_2', 'אולם 3': 'Court_3', 'אולם 4': 'Court_4',\n",
    "        'אולם 5': 'Court_5', 'אולם 6': 'Court_6', 'אולם 7': 'Court_7', 'אולם 8': 'Court_8',\n",
    "        'אולם 9': 'Court_9', 'אולם 10': 'Court_10', 'אולם 11': 'Court_11', '12 אולם': 'Court_12',\n",
    "        'גלריה 1': 'Gallery_1', 'גלריה 2': 'Gallery_2', '3 גלריה': 'Gallery_3', 'גלריה 4': 'Gallery_4',\n",
    "        '5 גלריה': 'Gallery_5', 'גלריה 6': 'Gallery_6', 'גלריה 7': 'Gallery_7', 'גלריה 8': 'Gallery_8',\n",
    "        'גלריה 9': 'Gallery_9', 'גלריה 10': 'Gallery_10', 'גלריה 11': 'Gallery_11', 'גלריה 12': 'Gallery_12',\n",
    "        'פרקט מרכזי': 'Court_side_17', 'פרקט צפוני': 'Court_side_18', 'פרקט דרומי': 'Court_side_19',\n",
    "        'תא 1': 'Suite_1', 'תא 2': 'Suite_2', 'תא 3': 'Suite_3', 'תא 4': 'Suite_4', 'תא 5': 'Suite_5',\n",
    "        'תא 6': 'Suite_6', 'תא 7': 'Suite_7', 'תא 8': 'Suite_8', 'תא 9': 'Suite_9', 'תא 10': 'Suite_10',\n",
    "        'תא 11': 'Suite_11', 'תא 12': 'Suite_12', 'תא 13': 'Suite_13', 'תא 14': 'Suite_14',\n",
    "        'תא 15': 'Suite_15', 'תא 16': 'Suite_16'\n",
    "    }\n",
    "    \n",
    "\n",
    "    presentation_order = {\n",
    "        'Court_1S': 0,   # אולם 1 עמידה — comes first\n",
    "        'Court_1C': 1,   # 1C — comes second\n",
    "        'Court_2': 2,\n",
    "        'Court_3': 3,\n",
    "        'Court_4': 4,\n",
    "        'Court_5': 5,\n",
    "        'Court_6': 6,\n",
    "        'Court_7': 7,\n",
    "        'Court_8': 8,\n",
    "        'Court_9': 9,\n",
    "        'Court_10': 10,\n",
    "        'Court_11': 11,\n",
    "        'Court_12': 12,\n",
    "        'Gallery_1': 13,\n",
    "        'Gallery_2': 14,\n",
    "        'Gallery_3': 15,\n",
    "        'Gallery_4': 16,\n",
    "        'Gallery_5': 17,\n",
    "        'Gallery_6': 18,\n",
    "        'Gallery_7': 19,\n",
    "        'Gallery_8': 20,\n",
    "        'Gallery_9': 21,\n",
    "        'Gallery_10': 22,\n",
    "        'Gallery_11': 23,\n",
    "        'Gallery_12': 24,\n",
    "        'Court_side_17': 25,\n",
    "        'Court_side_18': 26,\n",
    "        'Court_side_19': 27,\n",
    "        'Suite_1': 28,\n",
    "        'Suite_2': 29,\n",
    "        'Suite_3': 30,\n",
    "        'Suite_4': 31,\n",
    "        'Suite_5': 32,\n",
    "        'Suite_6': 33,\n",
    "        'Suite_7': 34,\n",
    "        'Suite_8': 35,\n",
    "        'Suite_9': 36,\n",
    "        'Suite_10': 37,\n",
    "        'Suite_11': 38,\n",
    "        'Suite_12': 39,\n",
    "        'Suite_13': 40,\n",
    "        'Suite_14': 41,\n",
    "        'Suite_15': 42,\n",
    "        'Suite_16': 43,\n",
    "        'Suite_21': 44,\n",
    "        'Unmarked_6': 45,\n",
    "        'Unmarked_12': 46\n",
    "    }\n",
    "\n",
    "\n",
    "    # Rename columns\n",
    "    df = df.rename(columns=rename_columns)\n",
    "\n",
    "    # Convert price\n",
    "    df['price'] = pd.to_numeric(df.get('price', 0), errors='coerce').fillna(0)\n",
    "\n",
    "    # Filter status if available\n",
    "    if 'st_status' in df.columns:\n",
    "        df = df[df['st_status'] == 'Active'].reset_index(drop=True)\n",
    "\n",
    "    # Map area names\n",
    "    if 'area' in df.columns:\n",
    "        df['area'] = df['area'].replace(area_mapper)\n",
    "\n",
    "    # Parse date and time\n",
    "    if 'sale_date' in df.columns:\n",
    "        df['full_datetime'] = pd.to_datetime(df['sale_date'], errors='coerce')\n",
    "\n",
    "        df['sale_date'] = df['full_datetime'].dt.date  # <- this keeps only the date part\n",
    "        df['sale_hour'] = df['full_datetime'].dt.strftime('%H:%M')\n",
    "        df['weekday_sale'] = pd.to_datetime(df['sale_date'], errors='coerce').dt.day_name()\n",
    "\n",
    "    # Mark renewals\n",
    "    # if 'price_type' in df.columns:\n",
    "    #     df['is_renew'] = df['price_type'].str.contains('renew', na=False)\n",
    "    #     df['price_type'] = df['price_type'].str.replace(' (renew)', '', regex=False)\n",
    "\n",
    "    # Mark hapoel purchasers\n",
    "    if 'purchaser_email' in df.columns:\n",
    "        df['hapoels_purchaser'] = df['purchaser_email'].str.contains('hapoel|Hapoel|HAPOEL', na=False)\n",
    "\n",
    "    if return_extras:\n",
    "        capacity = (\n",
    "            chair_mapping.groupby('section_name')\n",
    "            .count()['seat_id']\n",
    "            .reset_index()\n",
    "            .rename(columns={'seat_id': 'area_capacity'})\n",
    "        )\n",
    "        return df, capacity, presentation_order\n",
    "    else:\n",
    "        return df\n"
   ]
  },
  {
   "cell_type": "code",
   "execution_count": 4,
   "id": "269f39aa",
   "metadata": {},
   "outputs": [],
   "source": [
    "perc, capacity, presentation_order = preprocess_sales_data(perc, chair_mapping, return_extras=True)\n",
    "st_2425 = preprocess_sales_data(st_2425, chair_mapping, return_extras=False)"
   ]
  },
  {
   "cell_type": "code",
   "execution_count": 5,
   "id": "cdbbf2ca",
   "metadata": {},
   "outputs": [],
   "source": [
    "area_mapper = {\n",
    "    'אולם 1 עמידה': 'Court_1S', '1C': 'Court_1C', 'אולם 2': 'Court_2', 'אולם 3': 'Court_3', 'אולם 4': 'Court_4',\n",
    "    'אולם 5': 'Court_5', 'אולם 6': 'Court_6', 'אולם 7': 'Court_7', 'אולם 8': 'Court_8',\n",
    "    'אולם 9': 'Court_9', 'אולם 10': 'Court_10', 'אולם 11': 'Court_11', '12 אולם': 'Court_12',\n",
    "    'גלריה 1': 'Gallery_1', 'גלריה 2': 'Gallery_2', '3 גלריה': 'Gallery_3', 'גלריה 4': 'Gallery_4',\n",
    "    '5 גלריה': 'Gallery_5', 'גלריה 6': 'Gallery_6', 'גלריה 7': 'Gallery_7', 'גלריה 8': 'Gallery_8',\n",
    "    'גלריה 9': 'Gallery_9', 'גלריה 10': 'Gallery_10', 'גלריה 11': 'Gallery_11', 'גלריה 12': 'Gallery_12',\n",
    "    'פרקט מרכזי': 'Court_side_17', 'פרקט צפוני': 'Court_side_18', 'פרקט דרומי': 'Court_side_19',\n",
    "    'תא 1': 'Suite_1', 'תא 2': 'Suite_2', 'תא 3': 'Suite_3', 'תא 4': 'Suite_4', 'תא 5': 'Suite_5',\n",
    "    'תא 6': 'Suite_6', 'תא 7': 'Suite_7', 'תא 8': 'Suite_8', 'תא 9': 'Suite_9', 'תא 10': 'Suite_10',\n",
    "    'תא 11': 'Suite_11', 'תא 12': 'Suite_12', 'תא 13': 'Suite_13', 'תא 14': 'Suite_14',\n",
    "    'תא 15': 'Suite_15', 'תא 16': 'Suite_16'\n",
    "    }"
   ]
  },
  {
   "cell_type": "code",
   "execution_count": 6,
   "id": "6ba9bab4",
   "metadata": {},
   "outputs": [
    {
     "data": {
      "application/vnd.plotly.v1+json": {
       "config": {
        "plotlyServerURL": "https://plot.ly"
       },
       "data": [
        {
         "hoverinfo": "text",
         "hovertext": [
          "48 Tickets<br>(84.21%)",
          "231 Tickets<br>(83.09%)",
          "196 Tickets<br>(73.41%)",
          "108 Tickets<br>(54.00%)",
          "136 Tickets<br>(67.33%)",
          "274 Tickets<br>(67.82%)",
          "22 Tickets<br>(17.89%)",
          "101 Tickets<br>(59.76%)",
          "41 Tickets<br>(30.60%)",
          "165 Tickets<br>(77.83%)",
          "189 Tickets<br>(71.32%)",
          "371 Tickets<br>(76.81%)",
          "179 Tickets<br>(46.98%)"
         ],
         "marker": {
          "color": "red"
         },
         "name": "Renewals",
         "type": "bar",
         "x": [
          "1C",
          "אולם 2",
          "אולם 3",
          "אולם 4",
          "אולם 5",
          "אולם 6",
          "אולם 7",
          "אולם 8",
          "אולם 9",
          "אולם 10",
          "אולם 11",
          "12 אולם",
          "אולם 1 עמידה "
         ],
         "y": [
          48,
          231,
          196,
          108,
          136,
          274,
          22,
          101,
          41,
          165,
          189,
          371,
          179
         ]
        },
        {
         "hoverinfo": "text",
         "hovertext": [
          "2 Tickets<br>(3.51%)",
          "18 Tickets<br>(6.47%)",
          "13 Tickets<br>(4.87%)",
          "10 Tickets<br>(5.00%)",
          "2 Tickets<br>(0.99%)",
          "68 Tickets<br>(16.83%)",
          "2 Tickets<br>(1.63%)",
          "8 Tickets<br>(4.73%)",
          "1 Tickets<br>(0.75%)",
          "12 Tickets<br>(5.66%)",
          "24 Tickets<br>(9.06%)",
          "7 Tickets<br>(1.45%)",
          "35 Tickets<br>(9.19%)"
         ],
         "marker": {
          "color": "tomato"
         },
         "name": "New",
         "type": "bar",
         "x": [
          "1C",
          "אולם 2",
          "אולם 3",
          "אולם 4",
          "אולם 5",
          "אולם 6",
          "אולם 7",
          "אולם 8",
          "אולם 9",
          "אולם 10",
          "אולם 11",
          "12 אולם",
          "אולם 1 עמידה "
         ],
         "y": [
          2,
          18,
          13,
          10,
          2,
          68,
          2,
          8,
          1,
          12,
          24,
          7,
          35
         ]
        },
        {
         "base": [
          50,
          249,
          209,
          118,
          138,
          342,
          24,
          109,
          42,
          177,
          213,
          378,
          214
         ],
         "hoverinfo": "text",
         "hovertext": [
          "7 Tickets<br>(12.28%)",
          "29 Tickets<br>(10.43%)",
          "58 Tickets<br>(21.72%)",
          "82 Tickets<br>(41.00%)",
          "64 Tickets<br>(31.68%)",
          "62 Tickets<br>(15.35%)",
          "99 Tickets<br>(80.49%)",
          "60 Tickets<br>(35.50%)",
          "92 Tickets<br>(68.66%)",
          "35 Tickets<br>(16.51%)",
          "52 Tickets<br>(19.62%)",
          "105 Tickets<br>(21.74%)",
          "167 Tickets<br>(43.83%)"
         ],
         "marker": {
          "color": "grey"
         },
         "name": "Remaining Capacity",
         "type": "bar",
         "x": [
          "1C",
          "אולם 2",
          "אולם 3",
          "אולם 4",
          "אולם 5",
          "אולם 6",
          "אולם 7",
          "אולם 8",
          "אולם 9",
          "אולם 10",
          "אולם 11",
          "12 אולם",
          "אולם 1 עמידה "
         ],
         "y": [
          7,
          29,
          58,
          82,
          64,
          62,
          99,
          60,
          92,
          35,
          52,
          105,
          167
         ]
        }
       ],
       "layout": {
        "annotations": [
         {
          "align": "center",
          "font": {
           "color": "black",
           "size": 12
          },
          "showarrow": false,
          "text": "88%",
          "x": "1C",
          "y": 70
         },
         {
          "align": "center",
          "font": {
           "color": "black",
           "size": 12
          },
          "showarrow": false,
          "text": "90%",
          "x": "אולם 2",
          "y": 269
         },
         {
          "align": "center",
          "font": {
           "color": "black",
           "size": 12
          },
          "showarrow": false,
          "text": "78%",
          "x": "אולם 3",
          "y": 229
         },
         {
          "align": "center",
          "font": {
           "color": "black",
           "size": 12
          },
          "showarrow": false,
          "text": "59%",
          "x": "אולם 4",
          "y": 138
         },
         {
          "align": "center",
          "font": {
           "color": "black",
           "size": 12
          },
          "showarrow": false,
          "text": "68%",
          "x": "אולם 5",
          "y": 158
         },
         {
          "align": "center",
          "font": {
           "color": "black",
           "size": 12
          },
          "showarrow": false,
          "text": "85%",
          "x": "אולם 6",
          "y": 362
         },
         {
          "align": "center",
          "font": {
           "color": "black",
           "size": 12
          },
          "showarrow": false,
          "text": "20%",
          "x": "אולם 7",
          "y": 44
         },
         {
          "align": "center",
          "font": {
           "color": "black",
           "size": 12
          },
          "showarrow": false,
          "text": "64%",
          "x": "אולם 8",
          "y": 129
         },
         {
          "align": "center",
          "font": {
           "color": "black",
           "size": 12
          },
          "showarrow": false,
          "text": "31%",
          "x": "אולם 9",
          "y": 62
         },
         {
          "align": "center",
          "font": {
           "color": "black",
           "size": 12
          },
          "showarrow": false,
          "text": "83%",
          "x": "אולם 10",
          "y": 197
         },
         {
          "align": "center",
          "font": {
           "color": "black",
           "size": 12
          },
          "showarrow": false,
          "text": "80%",
          "x": "אולם 11",
          "y": 233
         },
         {
          "align": "center",
          "font": {
           "color": "black",
           "size": 12
          },
          "showarrow": false,
          "text": "78%",
          "x": "12 אולם",
          "y": 398
         },
         {
          "align": "center",
          "font": {
           "color": "black",
           "size": 12
          },
          "showarrow": false,
          "text": "56%",
          "x": "אולם 1 עמידה ",
          "y": 234
         },
         {
          "font": {
           "color": "blue",
           "size": 12
          },
          "showarrow": false,
          "text": "₪58,040",
          "textangle": 45,
          "x": "1C",
          "y": 0,
          "yshift": -30
         },
         {
          "font": {
           "color": "blue",
           "size": 12
          },
          "showarrow": false,
          "text": "₪396,760",
          "textangle": 45,
          "x": "אולם 2",
          "y": 0,
          "yshift": -30
         },
         {
          "font": {
           "color": "blue",
           "size": 12
          },
          "showarrow": false,
          "text": "₪451,811",
          "textangle": 45,
          "x": "אולם 3",
          "y": 0,
          "yshift": -30
         },
         {
          "font": {
           "color": "blue",
           "size": 12
          },
          "showarrow": false,
          "text": "₪184,950",
          "textangle": 45,
          "x": "אולם 4",
          "y": 0,
          "yshift": -30
         },
         {
          "font": {
           "color": "blue",
           "size": 12
          },
          "showarrow": false,
          "text": "₪162,300",
          "textangle": 45,
          "x": "אולם 5",
          "y": 0,
          "yshift": -30
         },
         {
          "font": {
           "color": "blue",
           "size": 12
          },
          "showarrow": false,
          "text": "₪259,825",
          "textangle": 45,
          "x": "אולם 6",
          "y": 0,
          "yshift": -30
         },
         {
          "font": {
           "color": "blue",
           "size": 12
          },
          "showarrow": false,
          "text": "₪27,930",
          "textangle": 45,
          "x": "אולם 7",
          "y": 0,
          "yshift": -30
         },
         {
          "font": {
           "color": "blue",
           "size": 12
          },
          "showarrow": false,
          "text": "₪171,680",
          "textangle": 45,
          "x": "אולם 8",
          "y": 0,
          "yshift": -30
         },
         {
          "font": {
           "color": "blue",
           "size": 12
          },
          "showarrow": false,
          "text": "₪194,100",
          "textangle": 45,
          "x": "אולם 9",
          "y": 0,
          "yshift": -30
         },
         {
          "font": {
           "color": "blue",
           "size": 12
          },
          "showarrow": false,
          "text": "₪274,800",
          "textangle": 45,
          "x": "אולם 10",
          "y": 0,
          "yshift": -30
         },
         {
          "font": {
           "color": "blue",
           "size": 12
          },
          "showarrow": false,
          "text": "₪249,710",
          "textangle": 45,
          "x": "אולם 11",
          "y": 0,
          "yshift": -30
         },
         {
          "font": {
           "color": "blue",
           "size": 12
          },
          "showarrow": false,
          "text": "₪283,918",
          "textangle": 45,
          "x": "12 אולם",
          "y": 0,
          "yshift": -30
         },
         {
          "font": {
           "color": "blue",
           "size": 12
          },
          "showarrow": false,
          "text": "₪178,012",
          "textangle": 45,
          "x": "אולם 1 עמידה ",
          "y": 0,
          "yshift": -30
         },
         {
          "align": "center",
          "font": {
           "color": "grey",
           "size": 14
          },
          "showarrow": false,
          "text": "Percentages represent total sold / total from last year<br>Gray reference total capacity of each section",
          "x": 0.5,
          "xref": "paper",
          "y": -0.2,
          "yref": "paper"
         }
        ],
        "bargap": 0.3,
        "barmode": "stack",
        "height": 600,
        "legend": {
         "bordercolor": "Black",
         "borderwidth": 1,
         "font": {
          "size": 10
         },
         "x": 0.02,
         "y": 0.99
        },
        "margin": {
         "b": 80,
         "l": 20,
         "r": 20,
         "t": 40
        },
        "paper_bgcolor": "white",
        "plot_bgcolor": "white",
        "template": {
         "data": {
          "bar": [
           {
            "error_x": {
             "color": "#2a3f5f"
            },
            "error_y": {
             "color": "#2a3f5f"
            },
            "marker": {
             "line": {
              "color": "#E5ECF6",
              "width": 0.5
             },
             "pattern": {
              "fillmode": "overlay",
              "size": 10,
              "solidity": 0.2
             }
            },
            "type": "bar"
           }
          ],
          "barpolar": [
           {
            "marker": {
             "line": {
              "color": "#E5ECF6",
              "width": 0.5
             },
             "pattern": {
              "fillmode": "overlay",
              "size": 10,
              "solidity": 0.2
             }
            },
            "type": "barpolar"
           }
          ],
          "carpet": [
           {
            "aaxis": {
             "endlinecolor": "#2a3f5f",
             "gridcolor": "white",
             "linecolor": "white",
             "minorgridcolor": "white",
             "startlinecolor": "#2a3f5f"
            },
            "baxis": {
             "endlinecolor": "#2a3f5f",
             "gridcolor": "white",
             "linecolor": "white",
             "minorgridcolor": "white",
             "startlinecolor": "#2a3f5f"
            },
            "type": "carpet"
           }
          ],
          "choropleth": [
           {
            "colorbar": {
             "outlinewidth": 0,
             "ticks": ""
            },
            "type": "choropleth"
           }
          ],
          "contour": [
           {
            "colorbar": {
             "outlinewidth": 0,
             "ticks": ""
            },
            "colorscale": [
             [
              0,
              "#0d0887"
             ],
             [
              0.1111111111111111,
              "#46039f"
             ],
             [
              0.2222222222222222,
              "#7201a8"
             ],
             [
              0.3333333333333333,
              "#9c179e"
             ],
             [
              0.4444444444444444,
              "#bd3786"
             ],
             [
              0.5555555555555556,
              "#d8576b"
             ],
             [
              0.6666666666666666,
              "#ed7953"
             ],
             [
              0.7777777777777778,
              "#fb9f3a"
             ],
             [
              0.8888888888888888,
              "#fdca26"
             ],
             [
              1,
              "#f0f921"
             ]
            ],
            "type": "contour"
           }
          ],
          "contourcarpet": [
           {
            "colorbar": {
             "outlinewidth": 0,
             "ticks": ""
            },
            "type": "contourcarpet"
           }
          ],
          "heatmap": [
           {
            "colorbar": {
             "outlinewidth": 0,
             "ticks": ""
            },
            "colorscale": [
             [
              0,
              "#0d0887"
             ],
             [
              0.1111111111111111,
              "#46039f"
             ],
             [
              0.2222222222222222,
              "#7201a8"
             ],
             [
              0.3333333333333333,
              "#9c179e"
             ],
             [
              0.4444444444444444,
              "#bd3786"
             ],
             [
              0.5555555555555556,
              "#d8576b"
             ],
             [
              0.6666666666666666,
              "#ed7953"
             ],
             [
              0.7777777777777778,
              "#fb9f3a"
             ],
             [
              0.8888888888888888,
              "#fdca26"
             ],
             [
              1,
              "#f0f921"
             ]
            ],
            "type": "heatmap"
           }
          ],
          "heatmapgl": [
           {
            "colorbar": {
             "outlinewidth": 0,
             "ticks": ""
            },
            "colorscale": [
             [
              0,
              "#0d0887"
             ],
             [
              0.1111111111111111,
              "#46039f"
             ],
             [
              0.2222222222222222,
              "#7201a8"
             ],
             [
              0.3333333333333333,
              "#9c179e"
             ],
             [
              0.4444444444444444,
              "#bd3786"
             ],
             [
              0.5555555555555556,
              "#d8576b"
             ],
             [
              0.6666666666666666,
              "#ed7953"
             ],
             [
              0.7777777777777778,
              "#fb9f3a"
             ],
             [
              0.8888888888888888,
              "#fdca26"
             ],
             [
              1,
              "#f0f921"
             ]
            ],
            "type": "heatmapgl"
           }
          ],
          "histogram": [
           {
            "marker": {
             "pattern": {
              "fillmode": "overlay",
              "size": 10,
              "solidity": 0.2
             }
            },
            "type": "histogram"
           }
          ],
          "histogram2d": [
           {
            "colorbar": {
             "outlinewidth": 0,
             "ticks": ""
            },
            "colorscale": [
             [
              0,
              "#0d0887"
             ],
             [
              0.1111111111111111,
              "#46039f"
             ],
             [
              0.2222222222222222,
              "#7201a8"
             ],
             [
              0.3333333333333333,
              "#9c179e"
             ],
             [
              0.4444444444444444,
              "#bd3786"
             ],
             [
              0.5555555555555556,
              "#d8576b"
             ],
             [
              0.6666666666666666,
              "#ed7953"
             ],
             [
              0.7777777777777778,
              "#fb9f3a"
             ],
             [
              0.8888888888888888,
              "#fdca26"
             ],
             [
              1,
              "#f0f921"
             ]
            ],
            "type": "histogram2d"
           }
          ],
          "histogram2dcontour": [
           {
            "colorbar": {
             "outlinewidth": 0,
             "ticks": ""
            },
            "colorscale": [
             [
              0,
              "#0d0887"
             ],
             [
              0.1111111111111111,
              "#46039f"
             ],
             [
              0.2222222222222222,
              "#7201a8"
             ],
             [
              0.3333333333333333,
              "#9c179e"
             ],
             [
              0.4444444444444444,
              "#bd3786"
             ],
             [
              0.5555555555555556,
              "#d8576b"
             ],
             [
              0.6666666666666666,
              "#ed7953"
             ],
             [
              0.7777777777777778,
              "#fb9f3a"
             ],
             [
              0.8888888888888888,
              "#fdca26"
             ],
             [
              1,
              "#f0f921"
             ]
            ],
            "type": "histogram2dcontour"
           }
          ],
          "mesh3d": [
           {
            "colorbar": {
             "outlinewidth": 0,
             "ticks": ""
            },
            "type": "mesh3d"
           }
          ],
          "parcoords": [
           {
            "line": {
             "colorbar": {
              "outlinewidth": 0,
              "ticks": ""
             }
            },
            "type": "parcoords"
           }
          ],
          "pie": [
           {
            "automargin": true,
            "type": "pie"
           }
          ],
          "scatter": [
           {
            "fillpattern": {
             "fillmode": "overlay",
             "size": 10,
             "solidity": 0.2
            },
            "type": "scatter"
           }
          ],
          "scatter3d": [
           {
            "line": {
             "colorbar": {
              "outlinewidth": 0,
              "ticks": ""
             }
            },
            "marker": {
             "colorbar": {
              "outlinewidth": 0,
              "ticks": ""
             }
            },
            "type": "scatter3d"
           }
          ],
          "scattercarpet": [
           {
            "marker": {
             "colorbar": {
              "outlinewidth": 0,
              "ticks": ""
             }
            },
            "type": "scattercarpet"
           }
          ],
          "scattergeo": [
           {
            "marker": {
             "colorbar": {
              "outlinewidth": 0,
              "ticks": ""
             }
            },
            "type": "scattergeo"
           }
          ],
          "scattergl": [
           {
            "marker": {
             "colorbar": {
              "outlinewidth": 0,
              "ticks": ""
             }
            },
            "type": "scattergl"
           }
          ],
          "scattermapbox": [
           {
            "marker": {
             "colorbar": {
              "outlinewidth": 0,
              "ticks": ""
             }
            },
            "type": "scattermapbox"
           }
          ],
          "scatterpolar": [
           {
            "marker": {
             "colorbar": {
              "outlinewidth": 0,
              "ticks": ""
             }
            },
            "type": "scatterpolar"
           }
          ],
          "scatterpolargl": [
           {
            "marker": {
             "colorbar": {
              "outlinewidth": 0,
              "ticks": ""
             }
            },
            "type": "scatterpolargl"
           }
          ],
          "scatterternary": [
           {
            "marker": {
             "colorbar": {
              "outlinewidth": 0,
              "ticks": ""
             }
            },
            "type": "scatterternary"
           }
          ],
          "surface": [
           {
            "colorbar": {
             "outlinewidth": 0,
             "ticks": ""
            },
            "colorscale": [
             [
              0,
              "#0d0887"
             ],
             [
              0.1111111111111111,
              "#46039f"
             ],
             [
              0.2222222222222222,
              "#7201a8"
             ],
             [
              0.3333333333333333,
              "#9c179e"
             ],
             [
              0.4444444444444444,
              "#bd3786"
             ],
             [
              0.5555555555555556,
              "#d8576b"
             ],
             [
              0.6666666666666666,
              "#ed7953"
             ],
             [
              0.7777777777777778,
              "#fb9f3a"
             ],
             [
              0.8888888888888888,
              "#fdca26"
             ],
             [
              1,
              "#f0f921"
             ]
            ],
            "type": "surface"
           }
          ],
          "table": [
           {
            "cells": {
             "fill": {
              "color": "#EBF0F8"
             },
             "line": {
              "color": "white"
             }
            },
            "header": {
             "fill": {
              "color": "#C8D4E3"
             },
             "line": {
              "color": "white"
             }
            },
            "type": "table"
           }
          ]
         },
         "layout": {
          "annotationdefaults": {
           "arrowcolor": "#2a3f5f",
           "arrowhead": 0,
           "arrowwidth": 1
          },
          "autotypenumbers": "strict",
          "coloraxis": {
           "colorbar": {
            "outlinewidth": 0,
            "ticks": ""
           }
          },
          "colorscale": {
           "diverging": [
            [
             0,
             "#8e0152"
            ],
            [
             0.1,
             "#c51b7d"
            ],
            [
             0.2,
             "#de77ae"
            ],
            [
             0.3,
             "#f1b6da"
            ],
            [
             0.4,
             "#fde0ef"
            ],
            [
             0.5,
             "#f7f7f7"
            ],
            [
             0.6,
             "#e6f5d0"
            ],
            [
             0.7,
             "#b8e186"
            ],
            [
             0.8,
             "#7fbc41"
            ],
            [
             0.9,
             "#4d9221"
            ],
            [
             1,
             "#276419"
            ]
           ],
           "sequential": [
            [
             0,
             "#0d0887"
            ],
            [
             0.1111111111111111,
             "#46039f"
            ],
            [
             0.2222222222222222,
             "#7201a8"
            ],
            [
             0.3333333333333333,
             "#9c179e"
            ],
            [
             0.4444444444444444,
             "#bd3786"
            ],
            [
             0.5555555555555556,
             "#d8576b"
            ],
            [
             0.6666666666666666,
             "#ed7953"
            ],
            [
             0.7777777777777778,
             "#fb9f3a"
            ],
            [
             0.8888888888888888,
             "#fdca26"
            ],
            [
             1,
             "#f0f921"
            ]
           ],
           "sequentialminus": [
            [
             0,
             "#0d0887"
            ],
            [
             0.1111111111111111,
             "#46039f"
            ],
            [
             0.2222222222222222,
             "#7201a8"
            ],
            [
             0.3333333333333333,
             "#9c179e"
            ],
            [
             0.4444444444444444,
             "#bd3786"
            ],
            [
             0.5555555555555556,
             "#d8576b"
            ],
            [
             0.6666666666666666,
             "#ed7953"
            ],
            [
             0.7777777777777778,
             "#fb9f3a"
            ],
            [
             0.8888888888888888,
             "#fdca26"
            ],
            [
             1,
             "#f0f921"
            ]
           ]
          },
          "colorway": [
           "#636efa",
           "#EF553B",
           "#00cc96",
           "#ab63fa",
           "#FFA15A",
           "#19d3f3",
           "#FF6692",
           "#B6E880",
           "#FF97FF",
           "#FECB52"
          ],
          "font": {
           "color": "#2a3f5f"
          },
          "geo": {
           "bgcolor": "white",
           "lakecolor": "white",
           "landcolor": "#E5ECF6",
           "showlakes": true,
           "showland": true,
           "subunitcolor": "white"
          },
          "hoverlabel": {
           "align": "left"
          },
          "hovermode": "closest",
          "mapbox": {
           "style": "light"
          },
          "paper_bgcolor": "white",
          "plot_bgcolor": "#E5ECF6",
          "polar": {
           "angularaxis": {
            "gridcolor": "white",
            "linecolor": "white",
            "ticks": ""
           },
           "bgcolor": "#E5ECF6",
           "radialaxis": {
            "gridcolor": "white",
            "linecolor": "white",
            "ticks": ""
           }
          },
          "scene": {
           "xaxis": {
            "backgroundcolor": "#E5ECF6",
            "gridcolor": "white",
            "gridwidth": 2,
            "linecolor": "white",
            "showbackground": true,
            "ticks": "",
            "zerolinecolor": "white"
           },
           "yaxis": {
            "backgroundcolor": "#E5ECF6",
            "gridcolor": "white",
            "gridwidth": 2,
            "linecolor": "white",
            "showbackground": true,
            "ticks": "",
            "zerolinecolor": "white"
           },
           "zaxis": {
            "backgroundcolor": "#E5ECF6",
            "gridcolor": "white",
            "gridwidth": 2,
            "linecolor": "white",
            "showbackground": true,
            "ticks": "",
            "zerolinecolor": "white"
           }
          },
          "shapedefaults": {
           "line": {
            "color": "#2a3f5f"
           }
          },
          "ternary": {
           "aaxis": {
            "gridcolor": "white",
            "linecolor": "white",
            "ticks": ""
           },
           "baxis": {
            "gridcolor": "white",
            "linecolor": "white",
            "ticks": ""
           },
           "bgcolor": "#E5ECF6",
           "caxis": {
            "gridcolor": "white",
            "linecolor": "white",
            "ticks": ""
           }
          },
          "title": {
           "x": 0.05
          },
          "xaxis": {
           "automargin": true,
           "gridcolor": "white",
           "linecolor": "white",
           "ticks": "",
           "title": {
            "standoff": 15
           },
           "zerolinecolor": "white",
           "zerolinewidth": 2
          },
          "yaxis": {
           "automargin": true,
           "gridcolor": "white",
           "linecolor": "white",
           "ticks": "",
           "title": {
            "standoff": 15
           },
           "zerolinecolor": "white",
           "zerolinewidth": 2
          }
         }
        },
        "title": {
         "font": {
          "size": 16
         },
         "text": "Season Ticket Distribution by Section",
         "x": 0.25
        },
        "width": 1200,
        "xaxis": {
         "constrain": "domain",
         "tickangle": 45,
         "tickfont": {
          "size": 10
         },
         "title": {
          "font": {
           "size": 14
          },
          "text": ""
         }
        },
        "yaxis": {
         "range": [
          0,
          null
         ],
         "tickfont": {
          "size": 12
         },
         "title": {
          "font": {
           "size": 14
          },
          "text": "Tickets"
         }
        }
       }
      }
     },
     "metadata": {},
     "output_type": "display_data"
    },
    {
     "data": {
      "text/html": [
       "<div>\n",
       "<style scoped>\n",
       "    .dataframe tbody tr th:only-of-type {\n",
       "        vertical-align: middle;\n",
       "    }\n",
       "\n",
       "    .dataframe tbody tr th {\n",
       "        vertical-align: top;\n",
       "    }\n",
       "\n",
       "    .dataframe thead th {\n",
       "        text-align: right;\n",
       "    }\n",
       "</style>\n",
       "<table border=\"1\" class=\"dataframe\">\n",
       "  <thead>\n",
       "    <tr style=\"text-align: right;\">\n",
       "      <th></th>\n",
       "      <th>area</th>\n",
       "      <th>Season_Tickets_Renew</th>\n",
       "      <th>Season_Tickets_New</th>\n",
       "      <th>Total_Price</th>\n",
       "      <th>area_velocity</th>\n",
       "      <th>presentation_order</th>\n",
       "      <th>last_year_tickets</th>\n",
       "      <th>remaining_capacity</th>\n",
       "      <th>fixed_remaining_capacity</th>\n",
       "      <th>ratio_capacity</th>\n",
       "      <th>ratio_capacity_percent</th>\n",
       "      <th>total_tickets</th>\n",
       "      <th>area_he</th>\n",
       "      <th>Season_Tickets_Renew_hover_text</th>\n",
       "      <th>Season_Tickets_New_hover_text</th>\n",
       "      <th>remaining_capacity_hover_text</th>\n",
       "    </tr>\n",
       "  </thead>\n",
       "  <tbody>\n",
       "    <tr>\n",
       "      <th>0</th>\n",
       "      <td>Court_1C</td>\n",
       "      <td>48</td>\n",
       "      <td>2</td>\n",
       "      <td>58040</td>\n",
       "      <td>50</td>\n",
       "      <td>1.0</td>\n",
       "      <td>57</td>\n",
       "      <td>7</td>\n",
       "      <td>7</td>\n",
       "      <td>0.877193</td>\n",
       "      <td>88.0</td>\n",
       "      <td>57</td>\n",
       "      <td>1C</td>\n",
       "      <td>48 Tickets&lt;br&gt;(84.21%)</td>\n",
       "      <td>2 Tickets&lt;br&gt;(3.51%)</td>\n",
       "      <td>7 Tickets&lt;br&gt;(12.28%)</td>\n",
       "    </tr>\n",
       "    <tr>\n",
       "      <th>1</th>\n",
       "      <td>Court_2</td>\n",
       "      <td>231</td>\n",
       "      <td>18</td>\n",
       "      <td>396760</td>\n",
       "      <td>249</td>\n",
       "      <td>2.0</td>\n",
       "      <td>278</td>\n",
       "      <td>29</td>\n",
       "      <td>29</td>\n",
       "      <td>0.895683</td>\n",
       "      <td>90.0</td>\n",
       "      <td>278</td>\n",
       "      <td>אולם 2</td>\n",
       "      <td>231 Tickets&lt;br&gt;(83.09%)</td>\n",
       "      <td>18 Tickets&lt;br&gt;(6.47%)</td>\n",
       "      <td>29 Tickets&lt;br&gt;(10.43%)</td>\n",
       "    </tr>\n",
       "    <tr>\n",
       "      <th>2</th>\n",
       "      <td>Court_3</td>\n",
       "      <td>196</td>\n",
       "      <td>13</td>\n",
       "      <td>451811</td>\n",
       "      <td>209</td>\n",
       "      <td>3.0</td>\n",
       "      <td>267</td>\n",
       "      <td>58</td>\n",
       "      <td>58</td>\n",
       "      <td>0.782772</td>\n",
       "      <td>78.0</td>\n",
       "      <td>267</td>\n",
       "      <td>אולם 3</td>\n",
       "      <td>196 Tickets&lt;br&gt;(73.41%)</td>\n",
       "      <td>13 Tickets&lt;br&gt;(4.87%)</td>\n",
       "      <td>58 Tickets&lt;br&gt;(21.72%)</td>\n",
       "    </tr>\n",
       "    <tr>\n",
       "      <th>3</th>\n",
       "      <td>Court_4</td>\n",
       "      <td>108</td>\n",
       "      <td>10</td>\n",
       "      <td>184950</td>\n",
       "      <td>118</td>\n",
       "      <td>4.0</td>\n",
       "      <td>200</td>\n",
       "      <td>82</td>\n",
       "      <td>82</td>\n",
       "      <td>0.590000</td>\n",
       "      <td>59.0</td>\n",
       "      <td>200</td>\n",
       "      <td>אולם 4</td>\n",
       "      <td>108 Tickets&lt;br&gt;(54.00%)</td>\n",
       "      <td>10 Tickets&lt;br&gt;(5.00%)</td>\n",
       "      <td>82 Tickets&lt;br&gt;(41.00%)</td>\n",
       "    </tr>\n",
       "    <tr>\n",
       "      <th>4</th>\n",
       "      <td>Court_5</td>\n",
       "      <td>136</td>\n",
       "      <td>2</td>\n",
       "      <td>162300</td>\n",
       "      <td>138</td>\n",
       "      <td>5.0</td>\n",
       "      <td>202</td>\n",
       "      <td>64</td>\n",
       "      <td>64</td>\n",
       "      <td>0.683168</td>\n",
       "      <td>68.0</td>\n",
       "      <td>202</td>\n",
       "      <td>אולם 5</td>\n",
       "      <td>136 Tickets&lt;br&gt;(67.33%)</td>\n",
       "      <td>2 Tickets&lt;br&gt;(0.99%)</td>\n",
       "      <td>64 Tickets&lt;br&gt;(31.68%)</td>\n",
       "    </tr>\n",
       "    <tr>\n",
       "      <th>5</th>\n",
       "      <td>Court_6</td>\n",
       "      <td>274</td>\n",
       "      <td>68</td>\n",
       "      <td>259825</td>\n",
       "      <td>342</td>\n",
       "      <td>6.0</td>\n",
       "      <td>404</td>\n",
       "      <td>62</td>\n",
       "      <td>62</td>\n",
       "      <td>0.846535</td>\n",
       "      <td>85.0</td>\n",
       "      <td>404</td>\n",
       "      <td>אולם 6</td>\n",
       "      <td>274 Tickets&lt;br&gt;(67.82%)</td>\n",
       "      <td>68 Tickets&lt;br&gt;(16.83%)</td>\n",
       "      <td>62 Tickets&lt;br&gt;(15.35%)</td>\n",
       "    </tr>\n",
       "    <tr>\n",
       "      <th>6</th>\n",
       "      <td>Court_7</td>\n",
       "      <td>22</td>\n",
       "      <td>2</td>\n",
       "      <td>27930</td>\n",
       "      <td>24</td>\n",
       "      <td>7.0</td>\n",
       "      <td>123</td>\n",
       "      <td>99</td>\n",
       "      <td>99</td>\n",
       "      <td>0.195122</td>\n",
       "      <td>20.0</td>\n",
       "      <td>123</td>\n",
       "      <td>אולם 7</td>\n",
       "      <td>22 Tickets&lt;br&gt;(17.89%)</td>\n",
       "      <td>2 Tickets&lt;br&gt;(1.63%)</td>\n",
       "      <td>99 Tickets&lt;br&gt;(80.49%)</td>\n",
       "    </tr>\n",
       "    <tr>\n",
       "      <th>7</th>\n",
       "      <td>Court_8</td>\n",
       "      <td>101</td>\n",
       "      <td>8</td>\n",
       "      <td>171680</td>\n",
       "      <td>109</td>\n",
       "      <td>8.0</td>\n",
       "      <td>169</td>\n",
       "      <td>60</td>\n",
       "      <td>60</td>\n",
       "      <td>0.644970</td>\n",
       "      <td>64.0</td>\n",
       "      <td>169</td>\n",
       "      <td>אולם 8</td>\n",
       "      <td>101 Tickets&lt;br&gt;(59.76%)</td>\n",
       "      <td>8 Tickets&lt;br&gt;(4.73%)</td>\n",
       "      <td>60 Tickets&lt;br&gt;(35.50%)</td>\n",
       "    </tr>\n",
       "    <tr>\n",
       "      <th>8</th>\n",
       "      <td>Court_9</td>\n",
       "      <td>41</td>\n",
       "      <td>1</td>\n",
       "      <td>194100</td>\n",
       "      <td>42</td>\n",
       "      <td>9.0</td>\n",
       "      <td>134</td>\n",
       "      <td>92</td>\n",
       "      <td>92</td>\n",
       "      <td>0.313433</td>\n",
       "      <td>31.0</td>\n",
       "      <td>134</td>\n",
       "      <td>אולם 9</td>\n",
       "      <td>41 Tickets&lt;br&gt;(30.60%)</td>\n",
       "      <td>1 Tickets&lt;br&gt;(0.75%)</td>\n",
       "      <td>92 Tickets&lt;br&gt;(68.66%)</td>\n",
       "    </tr>\n",
       "    <tr>\n",
       "      <th>9</th>\n",
       "      <td>Court_10</td>\n",
       "      <td>165</td>\n",
       "      <td>12</td>\n",
       "      <td>274800</td>\n",
       "      <td>177</td>\n",
       "      <td>10.0</td>\n",
       "      <td>212</td>\n",
       "      <td>35</td>\n",
       "      <td>35</td>\n",
       "      <td>0.834906</td>\n",
       "      <td>83.0</td>\n",
       "      <td>212</td>\n",
       "      <td>אולם 10</td>\n",
       "      <td>165 Tickets&lt;br&gt;(77.83%)</td>\n",
       "      <td>12 Tickets&lt;br&gt;(5.66%)</td>\n",
       "      <td>35 Tickets&lt;br&gt;(16.51%)</td>\n",
       "    </tr>\n",
       "    <tr>\n",
       "      <th>10</th>\n",
       "      <td>Court_11</td>\n",
       "      <td>189</td>\n",
       "      <td>24</td>\n",
       "      <td>249710</td>\n",
       "      <td>213</td>\n",
       "      <td>11.0</td>\n",
       "      <td>265</td>\n",
       "      <td>52</td>\n",
       "      <td>52</td>\n",
       "      <td>0.803774</td>\n",
       "      <td>80.0</td>\n",
       "      <td>265</td>\n",
       "      <td>אולם 11</td>\n",
       "      <td>189 Tickets&lt;br&gt;(71.32%)</td>\n",
       "      <td>24 Tickets&lt;br&gt;(9.06%)</td>\n",
       "      <td>52 Tickets&lt;br&gt;(19.62%)</td>\n",
       "    </tr>\n",
       "    <tr>\n",
       "      <th>11</th>\n",
       "      <td>Court_12</td>\n",
       "      <td>371</td>\n",
       "      <td>7</td>\n",
       "      <td>283918</td>\n",
       "      <td>378</td>\n",
       "      <td>12.0</td>\n",
       "      <td>483</td>\n",
       "      <td>105</td>\n",
       "      <td>105</td>\n",
       "      <td>0.782609</td>\n",
       "      <td>78.0</td>\n",
       "      <td>483</td>\n",
       "      <td>12 אולם</td>\n",
       "      <td>371 Tickets&lt;br&gt;(76.81%)</td>\n",
       "      <td>7 Tickets&lt;br&gt;(1.45%)</td>\n",
       "      <td>105 Tickets&lt;br&gt;(21.74%)</td>\n",
       "    </tr>\n",
       "    <tr>\n",
       "      <th>12</th>\n",
       "      <td>אולם 1 עמידה</td>\n",
       "      <td>179</td>\n",
       "      <td>35</td>\n",
       "      <td>178012</td>\n",
       "      <td>214</td>\n",
       "      <td>NaN</td>\n",
       "      <td>381</td>\n",
       "      <td>167</td>\n",
       "      <td>167</td>\n",
       "      <td>0.561680</td>\n",
       "      <td>56.0</td>\n",
       "      <td>381</td>\n",
       "      <td>אולם 1 עמידה</td>\n",
       "      <td>179 Tickets&lt;br&gt;(46.98%)</td>\n",
       "      <td>35 Tickets&lt;br&gt;(9.19%)</td>\n",
       "      <td>167 Tickets&lt;br&gt;(43.83%)</td>\n",
       "    </tr>\n",
       "  </tbody>\n",
       "</table>\n",
       "</div>"
      ],
      "text/plain": [
       "             area  Season_Tickets_Renew  Season_Tickets_New  Total_Price  \\\n",
       "0        Court_1C                    48                   2        58040   \n",
       "1         Court_2                   231                  18       396760   \n",
       "2         Court_3                   196                  13       451811   \n",
       "3         Court_4                   108                  10       184950   \n",
       "4         Court_5                   136                   2       162300   \n",
       "5         Court_6                   274                  68       259825   \n",
       "6         Court_7                    22                   2        27930   \n",
       "7         Court_8                   101                   8       171680   \n",
       "8         Court_9                    41                   1       194100   \n",
       "9        Court_10                   165                  12       274800   \n",
       "10       Court_11                   189                  24       249710   \n",
       "11       Court_12                   371                   7       283918   \n",
       "12  אולם 1 עמידה                    179                  35       178012   \n",
       "\n",
       "    area_velocity  presentation_order  last_year_tickets  remaining_capacity  \\\n",
       "0              50                 1.0                 57                   7   \n",
       "1             249                 2.0                278                  29   \n",
       "2             209                 3.0                267                  58   \n",
       "3             118                 4.0                200                  82   \n",
       "4             138                 5.0                202                  64   \n",
       "5             342                 6.0                404                  62   \n",
       "6              24                 7.0                123                  99   \n",
       "7             109                 8.0                169                  60   \n",
       "8              42                 9.0                134                  92   \n",
       "9             177                10.0                212                  35   \n",
       "10            213                11.0                265                  52   \n",
       "11            378                12.0                483                 105   \n",
       "12            214                 NaN                381                 167   \n",
       "\n",
       "    fixed_remaining_capacity  ratio_capacity  ratio_capacity_percent  \\\n",
       "0                          7        0.877193                    88.0   \n",
       "1                         29        0.895683                    90.0   \n",
       "2                         58        0.782772                    78.0   \n",
       "3                         82        0.590000                    59.0   \n",
       "4                         64        0.683168                    68.0   \n",
       "5                         62        0.846535                    85.0   \n",
       "6                         99        0.195122                    20.0   \n",
       "7                         60        0.644970                    64.0   \n",
       "8                         92        0.313433                    31.0   \n",
       "9                         35        0.834906                    83.0   \n",
       "10                        52        0.803774                    80.0   \n",
       "11                       105        0.782609                    78.0   \n",
       "12                       167        0.561680                    56.0   \n",
       "\n",
       "    total_tickets        area_he Season_Tickets_Renew_hover_text  \\\n",
       "0              57             1C          48 Tickets<br>(84.21%)   \n",
       "1             278         אולם 2         231 Tickets<br>(83.09%)   \n",
       "2             267         אולם 3         196 Tickets<br>(73.41%)   \n",
       "3             200         אולם 4         108 Tickets<br>(54.00%)   \n",
       "4             202         אולם 5         136 Tickets<br>(67.33%)   \n",
       "5             404         אולם 6         274 Tickets<br>(67.82%)   \n",
       "6             123         אולם 7          22 Tickets<br>(17.89%)   \n",
       "7             169         אולם 8         101 Tickets<br>(59.76%)   \n",
       "8             134         אולם 9          41 Tickets<br>(30.60%)   \n",
       "9             212        אולם 10         165 Tickets<br>(77.83%)   \n",
       "10            265        אולם 11         189 Tickets<br>(71.32%)   \n",
       "11            483        12 אולם         371 Tickets<br>(76.81%)   \n",
       "12            381  אולם 1 עמידה          179 Tickets<br>(46.98%)   \n",
       "\n",
       "   Season_Tickets_New_hover_text remaining_capacity_hover_text  \n",
       "0           2 Tickets<br>(3.51%)         7 Tickets<br>(12.28%)  \n",
       "1          18 Tickets<br>(6.47%)        29 Tickets<br>(10.43%)  \n",
       "2          13 Tickets<br>(4.87%)        58 Tickets<br>(21.72%)  \n",
       "3          10 Tickets<br>(5.00%)        82 Tickets<br>(41.00%)  \n",
       "4           2 Tickets<br>(0.99%)        64 Tickets<br>(31.68%)  \n",
       "5         68 Tickets<br>(16.83%)        62 Tickets<br>(15.35%)  \n",
       "6           2 Tickets<br>(1.63%)        99 Tickets<br>(80.49%)  \n",
       "7           8 Tickets<br>(4.73%)        60 Tickets<br>(35.50%)  \n",
       "8           1 Tickets<br>(0.75%)        92 Tickets<br>(68.66%)  \n",
       "9          12 Tickets<br>(5.66%)        35 Tickets<br>(16.51%)  \n",
       "10         24 Tickets<br>(9.06%)        52 Tickets<br>(19.62%)  \n",
       "11          7 Tickets<br>(1.45%)       105 Tickets<br>(21.74%)  \n",
       "12         35 Tickets<br>(9.19%)       167 Tickets<br>(43.83%)  "
      ]
     },
     "execution_count": 6,
     "metadata": {},
     "output_type": "execute_result"
    }
   ],
   "source": [
    "def distributed_by_area(perc, presentation_order, st_2425, area_mapper):\n",
    "    # SMALL CHANGE WITHOUT GALLERIES\n",
    "    perc = perc[~perc['area'].isin(['גלריה 2', 'גלריה 6'])]\n",
    "    st_2425 = st_2425[~st_2425['area'].isin(['גלריה 2', 'גלריה 6'])]\n",
    "\n",
    "    # Prepare last year tickets\n",
    "    last_year_tickets = (\n",
    "        st_2425[st_2425['price'] > 0]\n",
    "        .groupby('area')\n",
    "        .size()\n",
    "        .reset_index(name='last_year_tickets')\n",
    "    )\n",
    "\n",
    "    # Mark renewals\n",
    "    perc['is_renew'] = perc['client_number'].isin(st_2425['client_number'])\n",
    "\n",
    "    # Mark new members\n",
    "    perc['is_new'] = ~perc['is_renew']\n",
    "\n",
    "    stats_by_Court = (\n",
    "        perc.groupby('area')\n",
    "            .agg(\n",
    "                Season_Tickets_Renew=('is_renew', 'sum'),\n",
    "                Season_Tickets_New=('is_new', 'sum'),\n",
    "                Total_Price=('price', 'sum')\n",
    "            )\n",
    "            .reset_index()\n",
    "    )\n",
    "\n",
    "    stats_by_Court['area_velocity'] = stats_by_Court[['Season_Tickets_Renew', 'Season_Tickets_New']].sum(axis=1)\n",
    "    stats_by_Court['presentation_order'] = stats_by_Court['area'].map(presentation_order)\n",
    "    stats_by_Court = stats_by_Court.sort_values(by='presentation_order')\n",
    "\n",
    "    # CHANGED FROM LEFT TO INNER JOIN\n",
    "    stats_by_Court = stats_by_Court.merge(last_year_tickets, on='area', how='inner')\n",
    "    stats_by_Court = stats_by_Court[stats_by_Court['area_velocity'] > 0]\n",
    "\n",
    "    stats_by_Court['remaining_capacity'] = stats_by_Court['last_year_tickets'] - stats_by_Court['area_velocity']\n",
    "    stats_by_Court['fixed_remaining_capacity'] = np.maximum(stats_by_Court['remaining_capacity'], 0)\n",
    "    stats_by_Court['ratio_capacity'] = stats_by_Court['area_velocity'] / stats_by_Court['last_year_tickets']\n",
    "    stats_by_Court['ratio_capacity'] = np.minimum(stats_by_Court['ratio_capacity'], 1).fillna(1)\n",
    "    stats_by_Court['ratio_capacity_percent'] = (stats_by_Court['ratio_capacity'] * 100).round().fillna(0)\n",
    "\n",
    "    stats_by_Court['total_tickets'] = stats_by_Court['area_velocity'] + stats_by_Court['fixed_remaining_capacity']\n",
    "\n",
    "    # Map area names back to Hebrew for plot\n",
    "    reverse_area_mapper = {v: k for k, v in area_mapper.items()}\n",
    "    stats_by_Court['area_he'] = stats_by_Court['area'].map(reverse_area_mapper).fillna(stats_by_Court['area'])\n",
    "\n",
    "    # Override specific values\n",
    "    stats_by_Court.loc[stats_by_Court['area'] == 'Court_1S', 'area_he'] = 'אולם 1 עמידה'\n",
    "    stats_by_Court.loc[stats_by_Court['area'] == 'Court_1C', 'area_he'] = '1C'\n",
    "\n",
    "    # Hover texts\n",
    "    stats_by_Court['Season_Tickets_Renew_hover_text'] = stats_by_Court.apply(lambda x: f\"{x['Season_Tickets_Renew']} Tickets<br>({x['Season_Tickets_Renew']/x['total_tickets']:.2%})\", axis=1)\n",
    "    stats_by_Court['Season_Tickets_New_hover_text'] = stats_by_Court.apply(lambda x: f\"{x['Season_Tickets_New']} Tickets<br>({x['Season_Tickets_New']/x['total_tickets']:.2%})\", axis=1)\n",
    "    stats_by_Court['remaining_capacity_hover_text'] = stats_by_Court.apply(lambda x: f\"{x['fixed_remaining_capacity']} Tickets<br>({x['fixed_remaining_capacity']/x['total_tickets']:.2%})\", axis=1)\n",
    "\n",
    "    # Plot\n",
    "    fig = go.Figure()\n",
    "\n",
    "    fig.add_trace(go.Bar(\n",
    "        x=stats_by_Court['area_he'],\n",
    "        y=stats_by_Court['Season_Tickets_Renew'],\n",
    "        name='Renewals',\n",
    "        marker_color='red',\n",
    "        hovertext=stats_by_Court['Season_Tickets_Renew_hover_text'],\n",
    "        hoverinfo='text'\n",
    "    ))\n",
    "\n",
    "    fig.add_trace(go.Bar(\n",
    "        x=stats_by_Court['area_he'],\n",
    "        y=stats_by_Court['Season_Tickets_New'],\n",
    "        name='New',\n",
    "        marker_color='tomato',\n",
    "        hovertext=stats_by_Court['Season_Tickets_New_hover_text'],\n",
    "        hoverinfo='text'\n",
    "    ))\n",
    "\n",
    "    fig.add_trace(go.Bar(\n",
    "        x=stats_by_Court['area_he'],\n",
    "        y=stats_by_Court['fixed_remaining_capacity'],\n",
    "        name='Remaining Capacity',\n",
    "        marker_color='grey',\n",
    "        base=stats_by_Court['area_velocity'],\n",
    "        hovertext=stats_by_Court['remaining_capacity_hover_text'],\n",
    "        hoverinfo='text'\n",
    "    ))\n",
    "\n",
    "    fig.update_layout(\n",
    "        title=dict(text='Season Ticket Distribution by Section', font=dict(size=16)),\n",
    "        xaxis=dict(title='', tickangle=45, title_font=dict(size=14), tickfont=dict(size=10), constrain='domain'),\n",
    "        yaxis=dict(title='Tickets', title_font=dict(size=14), tickfont=dict(size=12), range=[0, None]),\n",
    "        barmode='stack',\n",
    "        bargap=0.3,\n",
    "        legend=dict(\n",
    "            x=0.02,  # near the left\n",
    "            y=0.99,  # top\n",
    "            bordercolor=\"Black\",\n",
    "            borderwidth=1,\n",
    "            font=dict(size=10)\n",
    "        ),\n",
    "        margin=dict(l=20, r=20, t=40, b=80),\n",
    "        width=1200,\n",
    "        height=600,\n",
    "        plot_bgcolor='white',\n",
    "        paper_bgcolor='white',\n",
    "        title_x=0.25\n",
    "    )\n",
    "\n",
    "    # % sold annotations\n",
    "    for area_he, pct, y1, y2 in zip(stats_by_Court['area_he'], stats_by_Court['ratio_capacity_percent'],\n",
    "                                    stats_by_Court['Season_Tickets_Renew'], stats_by_Court['Season_Tickets_New']):\n",
    "        total_height = y1 + y2\n",
    "        fig.add_annotation(\n",
    "            x=area_he,\n",
    "            y=total_height + 20,\n",
    "            text=f\"{int(pct)}%\",\n",
    "            showarrow=False,\n",
    "            font=dict(size=12, color=\"black\"),\n",
    "            align='center'\n",
    "        )\n",
    "\n",
    "    # ₪ revenue annotations\n",
    "    for area_he, revenue in zip(stats_by_Court['area_he'], stats_by_Court['Total_Price']):\n",
    "        fig.add_annotation(\n",
    "            x=area_he,\n",
    "            y=0,\n",
    "            text=f\"₪{int(revenue):,}\",\n",
    "            showarrow=False,\n",
    "            yshift=-30,\n",
    "            font=dict(size=12, color=\"blue\"),\n",
    "            textangle=45\n",
    "        )\n",
    "\n",
    "    fig.add_annotation(\n",
    "        text=\"Percentages represent total sold / total from last year<br>Gray reference total capacity of each section\",\n",
    "        xref=\"paper\", yref=\"paper\", x=0.5, y=-0.2,\n",
    "        showarrow=False, font=dict(size=14, color=\"grey\"), align=\"center\"\n",
    "    )\n",
    "\n",
    "    fig.show()\n",
    "\n",
    "    return stats_by_Court\n",
    "\n",
    "# Example usage\n",
    "distributed_by_area(perc, presentation_order, st_2425, area_mapper)\n"
   ]
  },
  {
   "cell_type": "code",
   "execution_count": 7,
   "id": "d9154518",
   "metadata": {},
   "outputs": [
    {
     "data": {
      "application/vnd.plotly.v1+json": {
       "config": {
        "plotlyServerURL": "https://plot.ly"
       },
       "data": [
        {
         "marker": {
          "color": "firebrick"
         },
         "name": "Daily Sales",
         "text": [
          "1,038",
          "298",
          "126",
          "560",
          "158",
          "87",
          "3",
          "1"
         ],
         "textfont": {
          "size": 12
         },
         "textposition": "outside",
         "type": "bar",
         "x": [
          "2025-06-05",
          "2025-06-06",
          "2025-06-07",
          "2025-06-08",
          "2025-06-09",
          "2025-06-10",
          "2025-06-11",
          "2025-06-12"
         ],
         "y": [
          1038,
          298,
          126,
          560,
          158,
          87,
          3,
          1
         ]
        }
       ],
       "layout": {
        "bargap": 0.1,
        "height": 750,
        "margin": {
         "b": 120,
         "l": 60,
         "r": 60,
         "t": 90
        },
        "paper_bgcolor": "white",
        "plot_bgcolor": "white",
        "showlegend": false,
        "template": {
         "data": {
          "bar": [
           {
            "error_x": {
             "color": "#2a3f5f"
            },
            "error_y": {
             "color": "#2a3f5f"
            },
            "marker": {
             "line": {
              "color": "#E5ECF6",
              "width": 0.5
             },
             "pattern": {
              "fillmode": "overlay",
              "size": 10,
              "solidity": 0.2
             }
            },
            "type": "bar"
           }
          ],
          "barpolar": [
           {
            "marker": {
             "line": {
              "color": "#E5ECF6",
              "width": 0.5
             },
             "pattern": {
              "fillmode": "overlay",
              "size": 10,
              "solidity": 0.2
             }
            },
            "type": "barpolar"
           }
          ],
          "carpet": [
           {
            "aaxis": {
             "endlinecolor": "#2a3f5f",
             "gridcolor": "white",
             "linecolor": "white",
             "minorgridcolor": "white",
             "startlinecolor": "#2a3f5f"
            },
            "baxis": {
             "endlinecolor": "#2a3f5f",
             "gridcolor": "white",
             "linecolor": "white",
             "minorgridcolor": "white",
             "startlinecolor": "#2a3f5f"
            },
            "type": "carpet"
           }
          ],
          "choropleth": [
           {
            "colorbar": {
             "outlinewidth": 0,
             "ticks": ""
            },
            "type": "choropleth"
           }
          ],
          "contour": [
           {
            "colorbar": {
             "outlinewidth": 0,
             "ticks": ""
            },
            "colorscale": [
             [
              0,
              "#0d0887"
             ],
             [
              0.1111111111111111,
              "#46039f"
             ],
             [
              0.2222222222222222,
              "#7201a8"
             ],
             [
              0.3333333333333333,
              "#9c179e"
             ],
             [
              0.4444444444444444,
              "#bd3786"
             ],
             [
              0.5555555555555556,
              "#d8576b"
             ],
             [
              0.6666666666666666,
              "#ed7953"
             ],
             [
              0.7777777777777778,
              "#fb9f3a"
             ],
             [
              0.8888888888888888,
              "#fdca26"
             ],
             [
              1,
              "#f0f921"
             ]
            ],
            "type": "contour"
           }
          ],
          "contourcarpet": [
           {
            "colorbar": {
             "outlinewidth": 0,
             "ticks": ""
            },
            "type": "contourcarpet"
           }
          ],
          "heatmap": [
           {
            "colorbar": {
             "outlinewidth": 0,
             "ticks": ""
            },
            "colorscale": [
             [
              0,
              "#0d0887"
             ],
             [
              0.1111111111111111,
              "#46039f"
             ],
             [
              0.2222222222222222,
              "#7201a8"
             ],
             [
              0.3333333333333333,
              "#9c179e"
             ],
             [
              0.4444444444444444,
              "#bd3786"
             ],
             [
              0.5555555555555556,
              "#d8576b"
             ],
             [
              0.6666666666666666,
              "#ed7953"
             ],
             [
              0.7777777777777778,
              "#fb9f3a"
             ],
             [
              0.8888888888888888,
              "#fdca26"
             ],
             [
              1,
              "#f0f921"
             ]
            ],
            "type": "heatmap"
           }
          ],
          "heatmapgl": [
           {
            "colorbar": {
             "outlinewidth": 0,
             "ticks": ""
            },
            "colorscale": [
             [
              0,
              "#0d0887"
             ],
             [
              0.1111111111111111,
              "#46039f"
             ],
             [
              0.2222222222222222,
              "#7201a8"
             ],
             [
              0.3333333333333333,
              "#9c179e"
             ],
             [
              0.4444444444444444,
              "#bd3786"
             ],
             [
              0.5555555555555556,
              "#d8576b"
             ],
             [
              0.6666666666666666,
              "#ed7953"
             ],
             [
              0.7777777777777778,
              "#fb9f3a"
             ],
             [
              0.8888888888888888,
              "#fdca26"
             ],
             [
              1,
              "#f0f921"
             ]
            ],
            "type": "heatmapgl"
           }
          ],
          "histogram": [
           {
            "marker": {
             "pattern": {
              "fillmode": "overlay",
              "size": 10,
              "solidity": 0.2
             }
            },
            "type": "histogram"
           }
          ],
          "histogram2d": [
           {
            "colorbar": {
             "outlinewidth": 0,
             "ticks": ""
            },
            "colorscale": [
             [
              0,
              "#0d0887"
             ],
             [
              0.1111111111111111,
              "#46039f"
             ],
             [
              0.2222222222222222,
              "#7201a8"
             ],
             [
              0.3333333333333333,
              "#9c179e"
             ],
             [
              0.4444444444444444,
              "#bd3786"
             ],
             [
              0.5555555555555556,
              "#d8576b"
             ],
             [
              0.6666666666666666,
              "#ed7953"
             ],
             [
              0.7777777777777778,
              "#fb9f3a"
             ],
             [
              0.8888888888888888,
              "#fdca26"
             ],
             [
              1,
              "#f0f921"
             ]
            ],
            "type": "histogram2d"
           }
          ],
          "histogram2dcontour": [
           {
            "colorbar": {
             "outlinewidth": 0,
             "ticks": ""
            },
            "colorscale": [
             [
              0,
              "#0d0887"
             ],
             [
              0.1111111111111111,
              "#46039f"
             ],
             [
              0.2222222222222222,
              "#7201a8"
             ],
             [
              0.3333333333333333,
              "#9c179e"
             ],
             [
              0.4444444444444444,
              "#bd3786"
             ],
             [
              0.5555555555555556,
              "#d8576b"
             ],
             [
              0.6666666666666666,
              "#ed7953"
             ],
             [
              0.7777777777777778,
              "#fb9f3a"
             ],
             [
              0.8888888888888888,
              "#fdca26"
             ],
             [
              1,
              "#f0f921"
             ]
            ],
            "type": "histogram2dcontour"
           }
          ],
          "mesh3d": [
           {
            "colorbar": {
             "outlinewidth": 0,
             "ticks": ""
            },
            "type": "mesh3d"
           }
          ],
          "parcoords": [
           {
            "line": {
             "colorbar": {
              "outlinewidth": 0,
              "ticks": ""
             }
            },
            "type": "parcoords"
           }
          ],
          "pie": [
           {
            "automargin": true,
            "type": "pie"
           }
          ],
          "scatter": [
           {
            "fillpattern": {
             "fillmode": "overlay",
             "size": 10,
             "solidity": 0.2
            },
            "type": "scatter"
           }
          ],
          "scatter3d": [
           {
            "line": {
             "colorbar": {
              "outlinewidth": 0,
              "ticks": ""
             }
            },
            "marker": {
             "colorbar": {
              "outlinewidth": 0,
              "ticks": ""
             }
            },
            "type": "scatter3d"
           }
          ],
          "scattercarpet": [
           {
            "marker": {
             "colorbar": {
              "outlinewidth": 0,
              "ticks": ""
             }
            },
            "type": "scattercarpet"
           }
          ],
          "scattergeo": [
           {
            "marker": {
             "colorbar": {
              "outlinewidth": 0,
              "ticks": ""
             }
            },
            "type": "scattergeo"
           }
          ],
          "scattergl": [
           {
            "marker": {
             "colorbar": {
              "outlinewidth": 0,
              "ticks": ""
             }
            },
            "type": "scattergl"
           }
          ],
          "scattermapbox": [
           {
            "marker": {
             "colorbar": {
              "outlinewidth": 0,
              "ticks": ""
             }
            },
            "type": "scattermapbox"
           }
          ],
          "scatterpolar": [
           {
            "marker": {
             "colorbar": {
              "outlinewidth": 0,
              "ticks": ""
             }
            },
            "type": "scatterpolar"
           }
          ],
          "scatterpolargl": [
           {
            "marker": {
             "colorbar": {
              "outlinewidth": 0,
              "ticks": ""
             }
            },
            "type": "scatterpolargl"
           }
          ],
          "scatterternary": [
           {
            "marker": {
             "colorbar": {
              "outlinewidth": 0,
              "ticks": ""
             }
            },
            "type": "scatterternary"
           }
          ],
          "surface": [
           {
            "colorbar": {
             "outlinewidth": 0,
             "ticks": ""
            },
            "colorscale": [
             [
              0,
              "#0d0887"
             ],
             [
              0.1111111111111111,
              "#46039f"
             ],
             [
              0.2222222222222222,
              "#7201a8"
             ],
             [
              0.3333333333333333,
              "#9c179e"
             ],
             [
              0.4444444444444444,
              "#bd3786"
             ],
             [
              0.5555555555555556,
              "#d8576b"
             ],
             [
              0.6666666666666666,
              "#ed7953"
             ],
             [
              0.7777777777777778,
              "#fb9f3a"
             ],
             [
              0.8888888888888888,
              "#fdca26"
             ],
             [
              1,
              "#f0f921"
             ]
            ],
            "type": "surface"
           }
          ],
          "table": [
           {
            "cells": {
             "fill": {
              "color": "#EBF0F8"
             },
             "line": {
              "color": "white"
             }
            },
            "header": {
             "fill": {
              "color": "#C8D4E3"
             },
             "line": {
              "color": "white"
             }
            },
            "type": "table"
           }
          ]
         },
         "layout": {
          "annotationdefaults": {
           "arrowcolor": "#2a3f5f",
           "arrowhead": 0,
           "arrowwidth": 1
          },
          "autotypenumbers": "strict",
          "coloraxis": {
           "colorbar": {
            "outlinewidth": 0,
            "ticks": ""
           }
          },
          "colorscale": {
           "diverging": [
            [
             0,
             "#8e0152"
            ],
            [
             0.1,
             "#c51b7d"
            ],
            [
             0.2,
             "#de77ae"
            ],
            [
             0.3,
             "#f1b6da"
            ],
            [
             0.4,
             "#fde0ef"
            ],
            [
             0.5,
             "#f7f7f7"
            ],
            [
             0.6,
             "#e6f5d0"
            ],
            [
             0.7,
             "#b8e186"
            ],
            [
             0.8,
             "#7fbc41"
            ],
            [
             0.9,
             "#4d9221"
            ],
            [
             1,
             "#276419"
            ]
           ],
           "sequential": [
            [
             0,
             "#0d0887"
            ],
            [
             0.1111111111111111,
             "#46039f"
            ],
            [
             0.2222222222222222,
             "#7201a8"
            ],
            [
             0.3333333333333333,
             "#9c179e"
            ],
            [
             0.4444444444444444,
             "#bd3786"
            ],
            [
             0.5555555555555556,
             "#d8576b"
            ],
            [
             0.6666666666666666,
             "#ed7953"
            ],
            [
             0.7777777777777778,
             "#fb9f3a"
            ],
            [
             0.8888888888888888,
             "#fdca26"
            ],
            [
             1,
             "#f0f921"
            ]
           ],
           "sequentialminus": [
            [
             0,
             "#0d0887"
            ],
            [
             0.1111111111111111,
             "#46039f"
            ],
            [
             0.2222222222222222,
             "#7201a8"
            ],
            [
             0.3333333333333333,
             "#9c179e"
            ],
            [
             0.4444444444444444,
             "#bd3786"
            ],
            [
             0.5555555555555556,
             "#d8576b"
            ],
            [
             0.6666666666666666,
             "#ed7953"
            ],
            [
             0.7777777777777778,
             "#fb9f3a"
            ],
            [
             0.8888888888888888,
             "#fdca26"
            ],
            [
             1,
             "#f0f921"
            ]
           ]
          },
          "colorway": [
           "#636efa",
           "#EF553B",
           "#00cc96",
           "#ab63fa",
           "#FFA15A",
           "#19d3f3",
           "#FF6692",
           "#B6E880",
           "#FF97FF",
           "#FECB52"
          ],
          "font": {
           "color": "#2a3f5f"
          },
          "geo": {
           "bgcolor": "white",
           "lakecolor": "white",
           "landcolor": "#E5ECF6",
           "showlakes": true,
           "showland": true,
           "subunitcolor": "white"
          },
          "hoverlabel": {
           "align": "left"
          },
          "hovermode": "closest",
          "mapbox": {
           "style": "light"
          },
          "paper_bgcolor": "white",
          "plot_bgcolor": "#E5ECF6",
          "polar": {
           "angularaxis": {
            "gridcolor": "white",
            "linecolor": "white",
            "ticks": ""
           },
           "bgcolor": "#E5ECF6",
           "radialaxis": {
            "gridcolor": "white",
            "linecolor": "white",
            "ticks": ""
           }
          },
          "scene": {
           "xaxis": {
            "backgroundcolor": "#E5ECF6",
            "gridcolor": "white",
            "gridwidth": 2,
            "linecolor": "white",
            "showbackground": true,
            "ticks": "",
            "zerolinecolor": "white"
           },
           "yaxis": {
            "backgroundcolor": "#E5ECF6",
            "gridcolor": "white",
            "gridwidth": 2,
            "linecolor": "white",
            "showbackground": true,
            "ticks": "",
            "zerolinecolor": "white"
           },
           "zaxis": {
            "backgroundcolor": "#E5ECF6",
            "gridcolor": "white",
            "gridwidth": 2,
            "linecolor": "white",
            "showbackground": true,
            "ticks": "",
            "zerolinecolor": "white"
           }
          },
          "shapedefaults": {
           "line": {
            "color": "#2a3f5f"
           }
          },
          "ternary": {
           "aaxis": {
            "gridcolor": "white",
            "linecolor": "white",
            "ticks": ""
           },
           "baxis": {
            "gridcolor": "white",
            "linecolor": "white",
            "ticks": ""
           },
           "bgcolor": "#E5ECF6",
           "caxis": {
            "gridcolor": "white",
            "linecolor": "white",
            "ticks": ""
           }
          },
          "title": {
           "x": 0.05
          },
          "xaxis": {
           "automargin": true,
           "gridcolor": "white",
           "linecolor": "white",
           "ticks": "",
           "title": {
            "standoff": 15
           },
           "zerolinecolor": "white",
           "zerolinewidth": 2
          },
          "yaxis": {
           "automargin": true,
           "gridcolor": "white",
           "linecolor": "white",
           "ticks": "",
           "title": {
            "standoff": 15
           },
           "zerolinecolor": "white",
           "zerolinewidth": 2
          }
         }
        },
        "title": {
         "font": {
          "size": 20
         },
         "text": "Daily Season Tickets Sold",
         "x": 0.5
        },
        "width": 1400,
        "xaxis": {
         "tickangle": 45,
         "tickfont": {
          "size": 12
         },
         "tickmode": "array",
         "ticktext": [
          "2025-06-05",
          "2025-06-06",
          "2025-06-07",
          "2025-06-08",
          "2025-06-09",
          "2025-06-10",
          "2025-06-11",
          "2025-06-12"
         ],
         "tickvals": [
          "2025-06-05",
          "2025-06-06",
          "2025-06-07",
          "2025-06-08",
          "2025-06-09",
          "2025-06-10",
          "2025-06-11",
          "2025-06-12"
         ],
         "title": {
          "text": "Date"
         }
        },
        "yaxis": {
         "gridcolor": "lightgrey",
         "griddash": "dot",
         "tickfont": {
          "size": 14
         },
         "title": {
          "text": "Sales"
         }
        }
       }
      }
     },
     "metadata": {},
     "output_type": "display_data"
    }
   ],
   "source": [
    "def plot_daily_sales_plotly(df, date_column, font_size=12, y_shift=8):\n",
    "    df = df.copy()\n",
    "\n",
    "    # Ensure datetime only if not already\n",
    "    if not pd.api.types.is_datetime64_any_dtype(df[date_column]):\n",
    "        df[date_column] = pd.to_datetime(df[date_column], errors='coerce')\n",
    "\n",
    "    # Filter dates >= 2025-06-05\n",
    "    df = df[df[date_column] >= pd.to_datetime(\"2025-06-05\")]\n",
    "\n",
    "    # Group by date only (not full datetime)\n",
    "    df['date_only'] = df[date_column].dt.date\n",
    "\n",
    "    grouped = (\n",
    "        df.groupby('date_only')\n",
    "        .size()\n",
    "        .reset_index(name=\"Total_Sales\")\n",
    "        .sort_values('date_only')\n",
    "    )\n",
    "\n",
    "    # Convert date_only to string format for x-axis\n",
    "    grouped['period_label'] = grouped['date_only'].astype(str)\n",
    "\n",
    "    # Plotly figure\n",
    "    fig = go.Figure()\n",
    "\n",
    "    # Bar chart\n",
    "    fig.add_trace(go.Bar(\n",
    "        x=grouped['period_label'],\n",
    "        y=grouped['Total_Sales'],\n",
    "        name='Daily Sales',\n",
    "        marker_color='firebrick',\n",
    "        text=[f\"{val:,}\" for val in grouped['Total_Sales']],  # Pre-create formatted text\n",
    "        textposition='outside',\n",
    "        textfont=dict(size=font_size)\n",
    "    ))\n",
    "\n",
    "    # Layout\n",
    "    fig.update_layout(\n",
    "        title=dict(\n",
    "            text='Daily Season Tickets Sold',\n",
    "            font=dict(size=20),\n",
    "            x=0.5\n",
    "        ),\n",
    "        xaxis=dict(\n",
    "            title='Date',\n",
    "            tickmode='array',\n",
    "            tickvals=grouped['period_label'],\n",
    "            ticktext=grouped['period_label'],\n",
    "            tickangle=45,\n",
    "            tickfont=dict(size=12)\n",
    "        ),\n",
    "        yaxis=dict(\n",
    "            title='Sales',\n",
    "            tickfont=dict(size=14),\n",
    "            gridcolor='lightgrey',\n",
    "            griddash='dot'\n",
    "        ),\n",
    "        bargap=0.1,\n",
    "        height=750,\n",
    "        width=1400,\n",
    "        margin=dict(l=60, r=60, t=90, b=120),\n",
    "        plot_bgcolor='white',\n",
    "        paper_bgcolor='white',\n",
    "        showlegend=False\n",
    "    )\n",
    "\n",
    "    fig.show()\n",
    "\n",
    "# Call\n",
    "plot_daily_sales_plotly(perc, date_column='sale_date', font_size=12, y_shift=10)"
   ]
  },
  {
   "cell_type": "code",
   "execution_count": 8,
   "id": "777ea86b-16d8-4045-a21d-c9735ab1a7f5",
   "metadata": {},
   "outputs": [
    {
     "data": {
      "application/vnd.plotly.v1+json": {
       "config": {
        "plotlyServerURL": "https://plot.ly"
       },
       "data": [
        {
         "marker": {
          "color": "firebrick"
         },
         "name": "Cumulative Sales",
         "text": [
          "1,038",
          "1,336",
          "1,462",
          "2,022",
          "2,180",
          "2,267",
          "2,270",
          "2,271"
         ],
         "textfont": {
          "size": 12
         },
         "textposition": "outside",
         "type": "bar",
         "x": [
          "2025-06-05",
          "2025-06-06",
          "2025-06-07",
          "2025-06-08",
          "2025-06-09",
          "2025-06-10",
          "2025-06-11",
          "2025-06-12"
         ],
         "y": [
          1038,
          1336,
          1462,
          2022,
          2180,
          2267,
          2270,
          2271
         ]
        }
       ],
       "layout": {
        "bargap": 0.1,
        "height": 750,
        "margin": {
         "b": 120,
         "l": 60,
         "r": 60,
         "t": 90
        },
        "paper_bgcolor": "white",
        "plot_bgcolor": "white",
        "showlegend": false,
        "template": {
         "data": {
          "bar": [
           {
            "error_x": {
             "color": "#2a3f5f"
            },
            "error_y": {
             "color": "#2a3f5f"
            },
            "marker": {
             "line": {
              "color": "#E5ECF6",
              "width": 0.5
             },
             "pattern": {
              "fillmode": "overlay",
              "size": 10,
              "solidity": 0.2
             }
            },
            "type": "bar"
           }
          ],
          "barpolar": [
           {
            "marker": {
             "line": {
              "color": "#E5ECF6",
              "width": 0.5
             },
             "pattern": {
              "fillmode": "overlay",
              "size": 10,
              "solidity": 0.2
             }
            },
            "type": "barpolar"
           }
          ],
          "carpet": [
           {
            "aaxis": {
             "endlinecolor": "#2a3f5f",
             "gridcolor": "white",
             "linecolor": "white",
             "minorgridcolor": "white",
             "startlinecolor": "#2a3f5f"
            },
            "baxis": {
             "endlinecolor": "#2a3f5f",
             "gridcolor": "white",
             "linecolor": "white",
             "minorgridcolor": "white",
             "startlinecolor": "#2a3f5f"
            },
            "type": "carpet"
           }
          ],
          "choropleth": [
           {
            "colorbar": {
             "outlinewidth": 0,
             "ticks": ""
            },
            "type": "choropleth"
           }
          ],
          "contour": [
           {
            "colorbar": {
             "outlinewidth": 0,
             "ticks": ""
            },
            "colorscale": [
             [
              0,
              "#0d0887"
             ],
             [
              0.1111111111111111,
              "#46039f"
             ],
             [
              0.2222222222222222,
              "#7201a8"
             ],
             [
              0.3333333333333333,
              "#9c179e"
             ],
             [
              0.4444444444444444,
              "#bd3786"
             ],
             [
              0.5555555555555556,
              "#d8576b"
             ],
             [
              0.6666666666666666,
              "#ed7953"
             ],
             [
              0.7777777777777778,
              "#fb9f3a"
             ],
             [
              0.8888888888888888,
              "#fdca26"
             ],
             [
              1,
              "#f0f921"
             ]
            ],
            "type": "contour"
           }
          ],
          "contourcarpet": [
           {
            "colorbar": {
             "outlinewidth": 0,
             "ticks": ""
            },
            "type": "contourcarpet"
           }
          ],
          "heatmap": [
           {
            "colorbar": {
             "outlinewidth": 0,
             "ticks": ""
            },
            "colorscale": [
             [
              0,
              "#0d0887"
             ],
             [
              0.1111111111111111,
              "#46039f"
             ],
             [
              0.2222222222222222,
              "#7201a8"
             ],
             [
              0.3333333333333333,
              "#9c179e"
             ],
             [
              0.4444444444444444,
              "#bd3786"
             ],
             [
              0.5555555555555556,
              "#d8576b"
             ],
             [
              0.6666666666666666,
              "#ed7953"
             ],
             [
              0.7777777777777778,
              "#fb9f3a"
             ],
             [
              0.8888888888888888,
              "#fdca26"
             ],
             [
              1,
              "#f0f921"
             ]
            ],
            "type": "heatmap"
           }
          ],
          "heatmapgl": [
           {
            "colorbar": {
             "outlinewidth": 0,
             "ticks": ""
            },
            "colorscale": [
             [
              0,
              "#0d0887"
             ],
             [
              0.1111111111111111,
              "#46039f"
             ],
             [
              0.2222222222222222,
              "#7201a8"
             ],
             [
              0.3333333333333333,
              "#9c179e"
             ],
             [
              0.4444444444444444,
              "#bd3786"
             ],
             [
              0.5555555555555556,
              "#d8576b"
             ],
             [
              0.6666666666666666,
              "#ed7953"
             ],
             [
              0.7777777777777778,
              "#fb9f3a"
             ],
             [
              0.8888888888888888,
              "#fdca26"
             ],
             [
              1,
              "#f0f921"
             ]
            ],
            "type": "heatmapgl"
           }
          ],
          "histogram": [
           {
            "marker": {
             "pattern": {
              "fillmode": "overlay",
              "size": 10,
              "solidity": 0.2
             }
            },
            "type": "histogram"
           }
          ],
          "histogram2d": [
           {
            "colorbar": {
             "outlinewidth": 0,
             "ticks": ""
            },
            "colorscale": [
             [
              0,
              "#0d0887"
             ],
             [
              0.1111111111111111,
              "#46039f"
             ],
             [
              0.2222222222222222,
              "#7201a8"
             ],
             [
              0.3333333333333333,
              "#9c179e"
             ],
             [
              0.4444444444444444,
              "#bd3786"
             ],
             [
              0.5555555555555556,
              "#d8576b"
             ],
             [
              0.6666666666666666,
              "#ed7953"
             ],
             [
              0.7777777777777778,
              "#fb9f3a"
             ],
             [
              0.8888888888888888,
              "#fdca26"
             ],
             [
              1,
              "#f0f921"
             ]
            ],
            "type": "histogram2d"
           }
          ],
          "histogram2dcontour": [
           {
            "colorbar": {
             "outlinewidth": 0,
             "ticks": ""
            },
            "colorscale": [
             [
              0,
              "#0d0887"
             ],
             [
              0.1111111111111111,
              "#46039f"
             ],
             [
              0.2222222222222222,
              "#7201a8"
             ],
             [
              0.3333333333333333,
              "#9c179e"
             ],
             [
              0.4444444444444444,
              "#bd3786"
             ],
             [
              0.5555555555555556,
              "#d8576b"
             ],
             [
              0.6666666666666666,
              "#ed7953"
             ],
             [
              0.7777777777777778,
              "#fb9f3a"
             ],
             [
              0.8888888888888888,
              "#fdca26"
             ],
             [
              1,
              "#f0f921"
             ]
            ],
            "type": "histogram2dcontour"
           }
          ],
          "mesh3d": [
           {
            "colorbar": {
             "outlinewidth": 0,
             "ticks": ""
            },
            "type": "mesh3d"
           }
          ],
          "parcoords": [
           {
            "line": {
             "colorbar": {
              "outlinewidth": 0,
              "ticks": ""
             }
            },
            "type": "parcoords"
           }
          ],
          "pie": [
           {
            "automargin": true,
            "type": "pie"
           }
          ],
          "scatter": [
           {
            "fillpattern": {
             "fillmode": "overlay",
             "size": 10,
             "solidity": 0.2
            },
            "type": "scatter"
           }
          ],
          "scatter3d": [
           {
            "line": {
             "colorbar": {
              "outlinewidth": 0,
              "ticks": ""
             }
            },
            "marker": {
             "colorbar": {
              "outlinewidth": 0,
              "ticks": ""
             }
            },
            "type": "scatter3d"
           }
          ],
          "scattercarpet": [
           {
            "marker": {
             "colorbar": {
              "outlinewidth": 0,
              "ticks": ""
             }
            },
            "type": "scattercarpet"
           }
          ],
          "scattergeo": [
           {
            "marker": {
             "colorbar": {
              "outlinewidth": 0,
              "ticks": ""
             }
            },
            "type": "scattergeo"
           }
          ],
          "scattergl": [
           {
            "marker": {
             "colorbar": {
              "outlinewidth": 0,
              "ticks": ""
             }
            },
            "type": "scattergl"
           }
          ],
          "scattermapbox": [
           {
            "marker": {
             "colorbar": {
              "outlinewidth": 0,
              "ticks": ""
             }
            },
            "type": "scattermapbox"
           }
          ],
          "scatterpolar": [
           {
            "marker": {
             "colorbar": {
              "outlinewidth": 0,
              "ticks": ""
             }
            },
            "type": "scatterpolar"
           }
          ],
          "scatterpolargl": [
           {
            "marker": {
             "colorbar": {
              "outlinewidth": 0,
              "ticks": ""
             }
            },
            "type": "scatterpolargl"
           }
          ],
          "scatterternary": [
           {
            "marker": {
             "colorbar": {
              "outlinewidth": 0,
              "ticks": ""
             }
            },
            "type": "scatterternary"
           }
          ],
          "surface": [
           {
            "colorbar": {
             "outlinewidth": 0,
             "ticks": ""
            },
            "colorscale": [
             [
              0,
              "#0d0887"
             ],
             [
              0.1111111111111111,
              "#46039f"
             ],
             [
              0.2222222222222222,
              "#7201a8"
             ],
             [
              0.3333333333333333,
              "#9c179e"
             ],
             [
              0.4444444444444444,
              "#bd3786"
             ],
             [
              0.5555555555555556,
              "#d8576b"
             ],
             [
              0.6666666666666666,
              "#ed7953"
             ],
             [
              0.7777777777777778,
              "#fb9f3a"
             ],
             [
              0.8888888888888888,
              "#fdca26"
             ],
             [
              1,
              "#f0f921"
             ]
            ],
            "type": "surface"
           }
          ],
          "table": [
           {
            "cells": {
             "fill": {
              "color": "#EBF0F8"
             },
             "line": {
              "color": "white"
             }
            },
            "header": {
             "fill": {
              "color": "#C8D4E3"
             },
             "line": {
              "color": "white"
             }
            },
            "type": "table"
           }
          ]
         },
         "layout": {
          "annotationdefaults": {
           "arrowcolor": "#2a3f5f",
           "arrowhead": 0,
           "arrowwidth": 1
          },
          "autotypenumbers": "strict",
          "coloraxis": {
           "colorbar": {
            "outlinewidth": 0,
            "ticks": ""
           }
          },
          "colorscale": {
           "diverging": [
            [
             0,
             "#8e0152"
            ],
            [
             0.1,
             "#c51b7d"
            ],
            [
             0.2,
             "#de77ae"
            ],
            [
             0.3,
             "#f1b6da"
            ],
            [
             0.4,
             "#fde0ef"
            ],
            [
             0.5,
             "#f7f7f7"
            ],
            [
             0.6,
             "#e6f5d0"
            ],
            [
             0.7,
             "#b8e186"
            ],
            [
             0.8,
             "#7fbc41"
            ],
            [
             0.9,
             "#4d9221"
            ],
            [
             1,
             "#276419"
            ]
           ],
           "sequential": [
            [
             0,
             "#0d0887"
            ],
            [
             0.1111111111111111,
             "#46039f"
            ],
            [
             0.2222222222222222,
             "#7201a8"
            ],
            [
             0.3333333333333333,
             "#9c179e"
            ],
            [
             0.4444444444444444,
             "#bd3786"
            ],
            [
             0.5555555555555556,
             "#d8576b"
            ],
            [
             0.6666666666666666,
             "#ed7953"
            ],
            [
             0.7777777777777778,
             "#fb9f3a"
            ],
            [
             0.8888888888888888,
             "#fdca26"
            ],
            [
             1,
             "#f0f921"
            ]
           ],
           "sequentialminus": [
            [
             0,
             "#0d0887"
            ],
            [
             0.1111111111111111,
             "#46039f"
            ],
            [
             0.2222222222222222,
             "#7201a8"
            ],
            [
             0.3333333333333333,
             "#9c179e"
            ],
            [
             0.4444444444444444,
             "#bd3786"
            ],
            [
             0.5555555555555556,
             "#d8576b"
            ],
            [
             0.6666666666666666,
             "#ed7953"
            ],
            [
             0.7777777777777778,
             "#fb9f3a"
            ],
            [
             0.8888888888888888,
             "#fdca26"
            ],
            [
             1,
             "#f0f921"
            ]
           ]
          },
          "colorway": [
           "#636efa",
           "#EF553B",
           "#00cc96",
           "#ab63fa",
           "#FFA15A",
           "#19d3f3",
           "#FF6692",
           "#B6E880",
           "#FF97FF",
           "#FECB52"
          ],
          "font": {
           "color": "#2a3f5f"
          },
          "geo": {
           "bgcolor": "white",
           "lakecolor": "white",
           "landcolor": "#E5ECF6",
           "showlakes": true,
           "showland": true,
           "subunitcolor": "white"
          },
          "hoverlabel": {
           "align": "left"
          },
          "hovermode": "closest",
          "mapbox": {
           "style": "light"
          },
          "paper_bgcolor": "white",
          "plot_bgcolor": "#E5ECF6",
          "polar": {
           "angularaxis": {
            "gridcolor": "white",
            "linecolor": "white",
            "ticks": ""
           },
           "bgcolor": "#E5ECF6",
           "radialaxis": {
            "gridcolor": "white",
            "linecolor": "white",
            "ticks": ""
           }
          },
          "scene": {
           "xaxis": {
            "backgroundcolor": "#E5ECF6",
            "gridcolor": "white",
            "gridwidth": 2,
            "linecolor": "white",
            "showbackground": true,
            "ticks": "",
            "zerolinecolor": "white"
           },
           "yaxis": {
            "backgroundcolor": "#E5ECF6",
            "gridcolor": "white",
            "gridwidth": 2,
            "linecolor": "white",
            "showbackground": true,
            "ticks": "",
            "zerolinecolor": "white"
           },
           "zaxis": {
            "backgroundcolor": "#E5ECF6",
            "gridcolor": "white",
            "gridwidth": 2,
            "linecolor": "white",
            "showbackground": true,
            "ticks": "",
            "zerolinecolor": "white"
           }
          },
          "shapedefaults": {
           "line": {
            "color": "#2a3f5f"
           }
          },
          "ternary": {
           "aaxis": {
            "gridcolor": "white",
            "linecolor": "white",
            "ticks": ""
           },
           "baxis": {
            "gridcolor": "white",
            "linecolor": "white",
            "ticks": ""
           },
           "bgcolor": "#E5ECF6",
           "caxis": {
            "gridcolor": "white",
            "linecolor": "white",
            "ticks": ""
           }
          },
          "title": {
           "x": 0.05
          },
          "xaxis": {
           "automargin": true,
           "gridcolor": "white",
           "linecolor": "white",
           "ticks": "",
           "title": {
            "standoff": 15
           },
           "zerolinecolor": "white",
           "zerolinewidth": 2
          },
          "yaxis": {
           "automargin": true,
           "gridcolor": "white",
           "linecolor": "white",
           "ticks": "",
           "title": {
            "standoff": 15
           },
           "zerolinecolor": "white",
           "zerolinewidth": 2
          }
         }
        },
        "title": {
         "font": {
          "size": 20
         },
         "text": "Cumulative Season Tickets Sold (1-Day Aggregated)",
         "x": 0.5
        },
        "width": 1400,
        "xaxis": {
         "tickangle": 45,
         "tickfont": {
          "size": 12
         },
         "tickmode": "array",
         "ticktext": [
          "2025-06-05",
          "2025-06-06",
          "2025-06-07",
          "2025-06-08",
          "2025-06-09",
          "2025-06-10",
          "2025-06-11",
          "2025-06-12"
         ],
         "tickvals": [
          "2025-06-05",
          "2025-06-06",
          "2025-06-07",
          "2025-06-08",
          "2025-06-09",
          "2025-06-10",
          "2025-06-11",
          "2025-06-12"
         ],
         "title": {
          "text": "Date"
         }
        },
        "yaxis": {
         "gridcolor": "lightgrey",
         "griddash": "dot",
         "tickfont": {
          "size": 14
         },
         "title": {
          "text": "Cumulative Season Tickets Sold"
         }
        }
       }
      }
     },
     "metadata": {},
     "output_type": "display_data"
    }
   ],
   "source": [
    "def plot_cumulative_sales_plotly(df, date_column, days=1, font_size=12, y_shift=8, start_date=\"2025-06-05\"):\n",
    "    df = df.copy()\n",
    "\n",
    "    # Ensure datetime only if needed\n",
    "    if not pd.api.types.is_datetime64_any_dtype(df[date_column]):\n",
    "        df[date_column] = pd.to_datetime(df[date_column], errors='coerce')\n",
    "\n",
    "    df = df[pd.notna(df[date_column])]\n",
    "\n",
    "    # Filter to start from start_date\n",
    "    df = df[df[date_column] >= pd.to_datetime(start_date)]\n",
    "\n",
    "    # Work with date only\n",
    "    df['date_only'] = df[date_column].dt.date\n",
    "\n",
    "    if days == 1:\n",
    "        grouped = (\n",
    "            df.groupby('date_only')\n",
    "            .size()\n",
    "            .reset_index(name=\"Total_Sales\")\n",
    "            .sort_values('date_only')\n",
    "        )\n",
    "        grouped['period_label'] = grouped['date_only'].astype(str)  # Already date, just string it\n",
    "    else:\n",
    "        # N-day aggregation (e.g., 7 days = weekly)\n",
    "        df['n_day_period'] = (pd.to_datetime(df['date_only']) - pd.to_timedelta(pd.to_datetime(df['date_only']).dt.dayofyear % days, unit='D')).dt.date\n",
    "\n",
    "        grouped = (\n",
    "            df.groupby('n_day_period')\n",
    "            .size()\n",
    "            .reset_index(name=\"Total_Sales\")\n",
    "            .sort_values('n_day_period')\n",
    "        )\n",
    "        grouped['period_label'] = grouped['n_day_period'].astype(str)\n",
    "\n",
    "    # Cumulative sum\n",
    "    grouped['Cumulative_Sales'] = grouped['Total_Sales'].cumsum()\n",
    "\n",
    "    # Plotly figure\n",
    "    fig = go.Figure()\n",
    "\n",
    "    # Bars\n",
    "    fig.add_trace(go.Bar(\n",
    "        x=grouped['period_label'],\n",
    "        y=grouped['Cumulative_Sales'],\n",
    "        name='Cumulative Sales',\n",
    "        marker_color='firebrick',\n",
    "        text=[f\"{val:,}\" for val in grouped['Cumulative_Sales']],  # Faster than iterrows\n",
    "        textposition='outside',\n",
    "        textfont=dict(size=font_size)\n",
    "    ))\n",
    "\n",
    "    # Layout\n",
    "    fig.update_layout(\n",
    "        title=dict(\n",
    "            text=f'Cumulative Season Tickets Sold ({days}-Day Aggregated)',\n",
    "            font=dict(size=20),\n",
    "            x=0.5\n",
    "        ),\n",
    "        xaxis=dict(\n",
    "            title='Date',\n",
    "            tickmode='array',\n",
    "            tickvals=grouped['period_label'],\n",
    "            ticktext=grouped['period_label'],\n",
    "            tickangle=45,\n",
    "            tickfont=dict(size=12)\n",
    "        ),\n",
    "        yaxis=dict(\n",
    "            title='Cumulative Season Tickets Sold',\n",
    "            tickfont=dict(size=14),\n",
    "            gridcolor='lightgrey',\n",
    "            griddash='dot'\n",
    "        ),\n",
    "        bargap=0.1,\n",
    "        height=750,\n",
    "        width=1400,\n",
    "        margin=dict(l=60, r=60, t=90, b=120),\n",
    "        plot_bgcolor='white',\n",
    "        paper_bgcolor='white',\n",
    "        showlegend=False\n",
    "    )\n",
    "\n",
    "    fig.show()\n",
    "\n",
    "plot_cumulative_sales_plotly(perc, 'sale_date', days=1, font_size=12, y_shift=10)"
   ]
  },
  {
   "cell_type": "code",
   "execution_count": 9,
   "id": "91c7412e-4974-4fa2-80fd-16052559c6f7",
   "metadata": {},
   "outputs": [
    {
     "data": {
      "application/vnd.plotly.v1+json": {
       "config": {
        "plotlyServerURL": "https://plot.ly"
       },
       "data": [
        {
         "marker": {
          "color": "firebrick"
         },
         "name": "Daily Revenue",
         "text": [
          "1,291₪",
          "352₪",
          "152₪",
          "738₪",
          "233₪",
          "121₪",
          "3₪",
          "0₪"
         ],
         "textfont": {
          "size": 12
         },
         "textposition": "outside",
         "type": "bar",
         "x": [
          "05-Jun-2025",
          "06-Jun-2025",
          "07-Jun-2025",
          "08-Jun-2025",
          "09-Jun-2025",
          "10-Jun-2025",
          "11-Jun-2025",
          "12-Jun-2025"
         ],
         "y": [
          1291.691,
          352.077,
          152.06,
          738.858,
          233.59,
          121.35,
          3.36,
          0.85
         ]
        }
       ],
       "layout": {
        "bargap": 0.1,
        "height": 750,
        "margin": {
         "b": 120,
         "l": 60,
         "r": 60,
         "t": 90
        },
        "paper_bgcolor": "white",
        "plot_bgcolor": "white",
        "showlegend": false,
        "template": {
         "data": {
          "bar": [
           {
            "error_x": {
             "color": "#2a3f5f"
            },
            "error_y": {
             "color": "#2a3f5f"
            },
            "marker": {
             "line": {
              "color": "#E5ECF6",
              "width": 0.5
             },
             "pattern": {
              "fillmode": "overlay",
              "size": 10,
              "solidity": 0.2
             }
            },
            "type": "bar"
           }
          ],
          "barpolar": [
           {
            "marker": {
             "line": {
              "color": "#E5ECF6",
              "width": 0.5
             },
             "pattern": {
              "fillmode": "overlay",
              "size": 10,
              "solidity": 0.2
             }
            },
            "type": "barpolar"
           }
          ],
          "carpet": [
           {
            "aaxis": {
             "endlinecolor": "#2a3f5f",
             "gridcolor": "white",
             "linecolor": "white",
             "minorgridcolor": "white",
             "startlinecolor": "#2a3f5f"
            },
            "baxis": {
             "endlinecolor": "#2a3f5f",
             "gridcolor": "white",
             "linecolor": "white",
             "minorgridcolor": "white",
             "startlinecolor": "#2a3f5f"
            },
            "type": "carpet"
           }
          ],
          "choropleth": [
           {
            "colorbar": {
             "outlinewidth": 0,
             "ticks": ""
            },
            "type": "choropleth"
           }
          ],
          "contour": [
           {
            "colorbar": {
             "outlinewidth": 0,
             "ticks": ""
            },
            "colorscale": [
             [
              0,
              "#0d0887"
             ],
             [
              0.1111111111111111,
              "#46039f"
             ],
             [
              0.2222222222222222,
              "#7201a8"
             ],
             [
              0.3333333333333333,
              "#9c179e"
             ],
             [
              0.4444444444444444,
              "#bd3786"
             ],
             [
              0.5555555555555556,
              "#d8576b"
             ],
             [
              0.6666666666666666,
              "#ed7953"
             ],
             [
              0.7777777777777778,
              "#fb9f3a"
             ],
             [
              0.8888888888888888,
              "#fdca26"
             ],
             [
              1,
              "#f0f921"
             ]
            ],
            "type": "contour"
           }
          ],
          "contourcarpet": [
           {
            "colorbar": {
             "outlinewidth": 0,
             "ticks": ""
            },
            "type": "contourcarpet"
           }
          ],
          "heatmap": [
           {
            "colorbar": {
             "outlinewidth": 0,
             "ticks": ""
            },
            "colorscale": [
             [
              0,
              "#0d0887"
             ],
             [
              0.1111111111111111,
              "#46039f"
             ],
             [
              0.2222222222222222,
              "#7201a8"
             ],
             [
              0.3333333333333333,
              "#9c179e"
             ],
             [
              0.4444444444444444,
              "#bd3786"
             ],
             [
              0.5555555555555556,
              "#d8576b"
             ],
             [
              0.6666666666666666,
              "#ed7953"
             ],
             [
              0.7777777777777778,
              "#fb9f3a"
             ],
             [
              0.8888888888888888,
              "#fdca26"
             ],
             [
              1,
              "#f0f921"
             ]
            ],
            "type": "heatmap"
           }
          ],
          "heatmapgl": [
           {
            "colorbar": {
             "outlinewidth": 0,
             "ticks": ""
            },
            "colorscale": [
             [
              0,
              "#0d0887"
             ],
             [
              0.1111111111111111,
              "#46039f"
             ],
             [
              0.2222222222222222,
              "#7201a8"
             ],
             [
              0.3333333333333333,
              "#9c179e"
             ],
             [
              0.4444444444444444,
              "#bd3786"
             ],
             [
              0.5555555555555556,
              "#d8576b"
             ],
             [
              0.6666666666666666,
              "#ed7953"
             ],
             [
              0.7777777777777778,
              "#fb9f3a"
             ],
             [
              0.8888888888888888,
              "#fdca26"
             ],
             [
              1,
              "#f0f921"
             ]
            ],
            "type": "heatmapgl"
           }
          ],
          "histogram": [
           {
            "marker": {
             "pattern": {
              "fillmode": "overlay",
              "size": 10,
              "solidity": 0.2
             }
            },
            "type": "histogram"
           }
          ],
          "histogram2d": [
           {
            "colorbar": {
             "outlinewidth": 0,
             "ticks": ""
            },
            "colorscale": [
             [
              0,
              "#0d0887"
             ],
             [
              0.1111111111111111,
              "#46039f"
             ],
             [
              0.2222222222222222,
              "#7201a8"
             ],
             [
              0.3333333333333333,
              "#9c179e"
             ],
             [
              0.4444444444444444,
              "#bd3786"
             ],
             [
              0.5555555555555556,
              "#d8576b"
             ],
             [
              0.6666666666666666,
              "#ed7953"
             ],
             [
              0.7777777777777778,
              "#fb9f3a"
             ],
             [
              0.8888888888888888,
              "#fdca26"
             ],
             [
              1,
              "#f0f921"
             ]
            ],
            "type": "histogram2d"
           }
          ],
          "histogram2dcontour": [
           {
            "colorbar": {
             "outlinewidth": 0,
             "ticks": ""
            },
            "colorscale": [
             [
              0,
              "#0d0887"
             ],
             [
              0.1111111111111111,
              "#46039f"
             ],
             [
              0.2222222222222222,
              "#7201a8"
             ],
             [
              0.3333333333333333,
              "#9c179e"
             ],
             [
              0.4444444444444444,
              "#bd3786"
             ],
             [
              0.5555555555555556,
              "#d8576b"
             ],
             [
              0.6666666666666666,
              "#ed7953"
             ],
             [
              0.7777777777777778,
              "#fb9f3a"
             ],
             [
              0.8888888888888888,
              "#fdca26"
             ],
             [
              1,
              "#f0f921"
             ]
            ],
            "type": "histogram2dcontour"
           }
          ],
          "mesh3d": [
           {
            "colorbar": {
             "outlinewidth": 0,
             "ticks": ""
            },
            "type": "mesh3d"
           }
          ],
          "parcoords": [
           {
            "line": {
             "colorbar": {
              "outlinewidth": 0,
              "ticks": ""
             }
            },
            "type": "parcoords"
           }
          ],
          "pie": [
           {
            "automargin": true,
            "type": "pie"
           }
          ],
          "scatter": [
           {
            "fillpattern": {
             "fillmode": "overlay",
             "size": 10,
             "solidity": 0.2
            },
            "type": "scatter"
           }
          ],
          "scatter3d": [
           {
            "line": {
             "colorbar": {
              "outlinewidth": 0,
              "ticks": ""
             }
            },
            "marker": {
             "colorbar": {
              "outlinewidth": 0,
              "ticks": ""
             }
            },
            "type": "scatter3d"
           }
          ],
          "scattercarpet": [
           {
            "marker": {
             "colorbar": {
              "outlinewidth": 0,
              "ticks": ""
             }
            },
            "type": "scattercarpet"
           }
          ],
          "scattergeo": [
           {
            "marker": {
             "colorbar": {
              "outlinewidth": 0,
              "ticks": ""
             }
            },
            "type": "scattergeo"
           }
          ],
          "scattergl": [
           {
            "marker": {
             "colorbar": {
              "outlinewidth": 0,
              "ticks": ""
             }
            },
            "type": "scattergl"
           }
          ],
          "scattermapbox": [
           {
            "marker": {
             "colorbar": {
              "outlinewidth": 0,
              "ticks": ""
             }
            },
            "type": "scattermapbox"
           }
          ],
          "scatterpolar": [
           {
            "marker": {
             "colorbar": {
              "outlinewidth": 0,
              "ticks": ""
             }
            },
            "type": "scatterpolar"
           }
          ],
          "scatterpolargl": [
           {
            "marker": {
             "colorbar": {
              "outlinewidth": 0,
              "ticks": ""
             }
            },
            "type": "scatterpolargl"
           }
          ],
          "scatterternary": [
           {
            "marker": {
             "colorbar": {
              "outlinewidth": 0,
              "ticks": ""
             }
            },
            "type": "scatterternary"
           }
          ],
          "surface": [
           {
            "colorbar": {
             "outlinewidth": 0,
             "ticks": ""
            },
            "colorscale": [
             [
              0,
              "#0d0887"
             ],
             [
              0.1111111111111111,
              "#46039f"
             ],
             [
              0.2222222222222222,
              "#7201a8"
             ],
             [
              0.3333333333333333,
              "#9c179e"
             ],
             [
              0.4444444444444444,
              "#bd3786"
             ],
             [
              0.5555555555555556,
              "#d8576b"
             ],
             [
              0.6666666666666666,
              "#ed7953"
             ],
             [
              0.7777777777777778,
              "#fb9f3a"
             ],
             [
              0.8888888888888888,
              "#fdca26"
             ],
             [
              1,
              "#f0f921"
             ]
            ],
            "type": "surface"
           }
          ],
          "table": [
           {
            "cells": {
             "fill": {
              "color": "#EBF0F8"
             },
             "line": {
              "color": "white"
             }
            },
            "header": {
             "fill": {
              "color": "#C8D4E3"
             },
             "line": {
              "color": "white"
             }
            },
            "type": "table"
           }
          ]
         },
         "layout": {
          "annotationdefaults": {
           "arrowcolor": "#2a3f5f",
           "arrowhead": 0,
           "arrowwidth": 1
          },
          "autotypenumbers": "strict",
          "coloraxis": {
           "colorbar": {
            "outlinewidth": 0,
            "ticks": ""
           }
          },
          "colorscale": {
           "diverging": [
            [
             0,
             "#8e0152"
            ],
            [
             0.1,
             "#c51b7d"
            ],
            [
             0.2,
             "#de77ae"
            ],
            [
             0.3,
             "#f1b6da"
            ],
            [
             0.4,
             "#fde0ef"
            ],
            [
             0.5,
             "#f7f7f7"
            ],
            [
             0.6,
             "#e6f5d0"
            ],
            [
             0.7,
             "#b8e186"
            ],
            [
             0.8,
             "#7fbc41"
            ],
            [
             0.9,
             "#4d9221"
            ],
            [
             1,
             "#276419"
            ]
           ],
           "sequential": [
            [
             0,
             "#0d0887"
            ],
            [
             0.1111111111111111,
             "#46039f"
            ],
            [
             0.2222222222222222,
             "#7201a8"
            ],
            [
             0.3333333333333333,
             "#9c179e"
            ],
            [
             0.4444444444444444,
             "#bd3786"
            ],
            [
             0.5555555555555556,
             "#d8576b"
            ],
            [
             0.6666666666666666,
             "#ed7953"
            ],
            [
             0.7777777777777778,
             "#fb9f3a"
            ],
            [
             0.8888888888888888,
             "#fdca26"
            ],
            [
             1,
             "#f0f921"
            ]
           ],
           "sequentialminus": [
            [
             0,
             "#0d0887"
            ],
            [
             0.1111111111111111,
             "#46039f"
            ],
            [
             0.2222222222222222,
             "#7201a8"
            ],
            [
             0.3333333333333333,
             "#9c179e"
            ],
            [
             0.4444444444444444,
             "#bd3786"
            ],
            [
             0.5555555555555556,
             "#d8576b"
            ],
            [
             0.6666666666666666,
             "#ed7953"
            ],
            [
             0.7777777777777778,
             "#fb9f3a"
            ],
            [
             0.8888888888888888,
             "#fdca26"
            ],
            [
             1,
             "#f0f921"
            ]
           ]
          },
          "colorway": [
           "#636efa",
           "#EF553B",
           "#00cc96",
           "#ab63fa",
           "#FFA15A",
           "#19d3f3",
           "#FF6692",
           "#B6E880",
           "#FF97FF",
           "#FECB52"
          ],
          "font": {
           "color": "#2a3f5f"
          },
          "geo": {
           "bgcolor": "white",
           "lakecolor": "white",
           "landcolor": "#E5ECF6",
           "showlakes": true,
           "showland": true,
           "subunitcolor": "white"
          },
          "hoverlabel": {
           "align": "left"
          },
          "hovermode": "closest",
          "mapbox": {
           "style": "light"
          },
          "paper_bgcolor": "white",
          "plot_bgcolor": "#E5ECF6",
          "polar": {
           "angularaxis": {
            "gridcolor": "white",
            "linecolor": "white",
            "ticks": ""
           },
           "bgcolor": "#E5ECF6",
           "radialaxis": {
            "gridcolor": "white",
            "linecolor": "white",
            "ticks": ""
           }
          },
          "scene": {
           "xaxis": {
            "backgroundcolor": "#E5ECF6",
            "gridcolor": "white",
            "gridwidth": 2,
            "linecolor": "white",
            "showbackground": true,
            "ticks": "",
            "zerolinecolor": "white"
           },
           "yaxis": {
            "backgroundcolor": "#E5ECF6",
            "gridcolor": "white",
            "gridwidth": 2,
            "linecolor": "white",
            "showbackground": true,
            "ticks": "",
            "zerolinecolor": "white"
           },
           "zaxis": {
            "backgroundcolor": "#E5ECF6",
            "gridcolor": "white",
            "gridwidth": 2,
            "linecolor": "white",
            "showbackground": true,
            "ticks": "",
            "zerolinecolor": "white"
           }
          },
          "shapedefaults": {
           "line": {
            "color": "#2a3f5f"
           }
          },
          "ternary": {
           "aaxis": {
            "gridcolor": "white",
            "linecolor": "white",
            "ticks": ""
           },
           "baxis": {
            "gridcolor": "white",
            "linecolor": "white",
            "ticks": ""
           },
           "bgcolor": "#E5ECF6",
           "caxis": {
            "gridcolor": "white",
            "linecolor": "white",
            "ticks": ""
           }
          },
          "title": {
           "x": 0.05
          },
          "xaxis": {
           "automargin": true,
           "gridcolor": "white",
           "linecolor": "white",
           "ticks": "",
           "title": {
            "standoff": 15
           },
           "zerolinecolor": "white",
           "zerolinewidth": 2
          },
          "yaxis": {
           "automargin": true,
           "gridcolor": "white",
           "linecolor": "white",
           "ticks": "",
           "title": {
            "standoff": 15
           },
           "zerolinecolor": "white",
           "zerolinewidth": 2
          }
         }
        },
        "title": {
         "font": {
          "size": 20
         },
         "text": "Daily Income Revenue",
         "x": 0.5
        },
        "width": 1400,
        "xaxis": {
         "tickangle": 45,
         "tickfont": {
          "size": 12
         },
         "tickmode": "array",
         "ticktext": [
          "05-Jun-2025",
          "06-Jun-2025",
          "07-Jun-2025",
          "08-Jun-2025",
          "09-Jun-2025",
          "10-Jun-2025",
          "11-Jun-2025",
          "12-Jun-2025"
         ],
         "tickvals": [
          "05-Jun-2025",
          "06-Jun-2025",
          "07-Jun-2025",
          "08-Jun-2025",
          "09-Jun-2025",
          "10-Jun-2025",
          "11-Jun-2025",
          "12-Jun-2025"
         ],
         "title": {
          "text": "Date"
         }
        },
        "yaxis": {
         "gridcolor": "lightgrey",
         "griddash": "dot",
         "tickfont": {
          "size": 14
         },
         "title": {
          "text": "Revenue (Thousands of ₪)"
         }
        }
       }
      }
     },
     "metadata": {},
     "output_type": "display_data"
    }
   ],
   "source": [
    "def plot_daily_revenue_readable(df, font_size=12, y_shift=10):\n",
    "    df = df.copy()\n",
    "\n",
    "    # Ensure sale_date is datetime if needed\n",
    "    if not pd.api.types.is_datetime64_any_dtype(df['sale_date']):\n",
    "        df['sale_date'] = pd.to_datetime(df['sale_date'], errors='coerce')\n",
    "\n",
    "    # Clean price column\n",
    "    df = df[pd.to_numeric(df['price'], errors='coerce').notnull()]\n",
    "    df['price'] = df['price'].astype(float)\n",
    "\n",
    "    # Group by date only\n",
    "    df['sale_date_only'] = df['sale_date'].dt.date\n",
    "\n",
    "    daily = (\n",
    "        df.groupby('sale_date_only')['price']\n",
    "        .sum()\n",
    "        .reset_index(name='Total_revenue')\n",
    "        .sort_values('sale_date_only')\n",
    "    )\n",
    "\n",
    "    # Filter from June 5, 2025\n",
    "    daily = daily[pd.to_datetime(daily['sale_date_only']) >= pd.to_datetime('2025-06-05')]\n",
    "\n",
    "    # Divide by 1000\n",
    "    daily['Total_revenue_thousands'] = daily['Total_revenue'] / 1000\n",
    "\n",
    "    # Create period labels\n",
    "    daily['period_label'] = pd.to_datetime(daily['sale_date_only']).dt.strftime('%d-%b-%Y')\n",
    "\n",
    "    # Pre-create text annotations\n",
    "    text_annotations = [f\"{int(val):,}₪\" for val in daily['Total_revenue_thousands']]\n",
    "\n",
    "    # Plot\n",
    "    fig = go.Figure()\n",
    "\n",
    "    fig.add_trace(go.Bar(\n",
    "        x=daily['period_label'],\n",
    "        y=daily['Total_revenue_thousands'],\n",
    "        name='Daily Revenue',\n",
    "        marker_color='firebrick',\n",
    "        text=text_annotations,\n",
    "        textposition='outside',\n",
    "        textfont=dict(size=font_size)\n",
    "    ))\n",
    "\n",
    "    # Layout\n",
    "    fig.update_layout(\n",
    "        title=dict(text='Daily Income Revenue', font=dict(size=20), x=0.5),\n",
    "        xaxis=dict(\n",
    "            title='Date',\n",
    "            tickmode='array',\n",
    "            tickvals=daily['period_label'],\n",
    "            ticktext=daily['period_label'],\n",
    "            tickangle=45,\n",
    "            tickfont=dict(size=12)\n",
    "        ),\n",
    "        yaxis=dict(\n",
    "            title='Revenue (Thousands of ₪)',\n",
    "            tickfont=dict(size=14),\n",
    "            gridcolor='lightgrey',\n",
    "            griddash='dot'\n",
    "        ),\n",
    "        bargap=0.1,\n",
    "        height=750,\n",
    "        width=1400,\n",
    "        margin=dict(l=60, r=60, t=90, b=120),\n",
    "        plot_bgcolor='white',\n",
    "        paper_bgcolor='white',\n",
    "        showlegend=False\n",
    "    )\n",
    "\n",
    "    fig.show()\n",
    "\n",
    "# Example call\n",
    "plot_daily_revenue_readable(perc, font_size=12, y_shift=10)"
   ]
  },
  {
   "cell_type": "code",
   "execution_count": 10,
   "id": "00f6fc29-3adc-46ab-8fa8-262a9a10a552",
   "metadata": {},
   "outputs": [
    {
     "data": {
      "application/vnd.plotly.v1+json": {
       "config": {
        "plotlyServerURL": "https://plot.ly"
       },
       "data": [
        {
         "marker": {
          "color": "firebrick"
         },
         "name": "Cumulative Revenue",
         "text": [
          "1.292",
          "1.644",
          "1.796",
          "2.535",
          "2.768",
          "2.89",
          "2.893",
          "2.894"
         ],
         "textfont": {
          "size": 12
         },
         "textposition": "outside",
         "type": "bar",
         "x": [
          "2025-06-05",
          "2025-06-06",
          "2025-06-07",
          "2025-06-08",
          "2025-06-09",
          "2025-06-10",
          "2025-06-11",
          "2025-06-12"
         ],
         "y": [
          1.292,
          1.644,
          1.796,
          2.535,
          2.768,
          2.89,
          2.893,
          2.894
         ]
        }
       ],
       "layout": {
        "bargap": 0.1,
        "height": 750,
        "margin": {
         "b": 120,
         "l": 60,
         "r": 60,
         "t": 90
        },
        "paper_bgcolor": "white",
        "plot_bgcolor": "white",
        "showlegend": false,
        "template": {
         "data": {
          "bar": [
           {
            "error_x": {
             "color": "#2a3f5f"
            },
            "error_y": {
             "color": "#2a3f5f"
            },
            "marker": {
             "line": {
              "color": "#E5ECF6",
              "width": 0.5
             },
             "pattern": {
              "fillmode": "overlay",
              "size": 10,
              "solidity": 0.2
             }
            },
            "type": "bar"
           }
          ],
          "barpolar": [
           {
            "marker": {
             "line": {
              "color": "#E5ECF6",
              "width": 0.5
             },
             "pattern": {
              "fillmode": "overlay",
              "size": 10,
              "solidity": 0.2
             }
            },
            "type": "barpolar"
           }
          ],
          "carpet": [
           {
            "aaxis": {
             "endlinecolor": "#2a3f5f",
             "gridcolor": "white",
             "linecolor": "white",
             "minorgridcolor": "white",
             "startlinecolor": "#2a3f5f"
            },
            "baxis": {
             "endlinecolor": "#2a3f5f",
             "gridcolor": "white",
             "linecolor": "white",
             "minorgridcolor": "white",
             "startlinecolor": "#2a3f5f"
            },
            "type": "carpet"
           }
          ],
          "choropleth": [
           {
            "colorbar": {
             "outlinewidth": 0,
             "ticks": ""
            },
            "type": "choropleth"
           }
          ],
          "contour": [
           {
            "colorbar": {
             "outlinewidth": 0,
             "ticks": ""
            },
            "colorscale": [
             [
              0,
              "#0d0887"
             ],
             [
              0.1111111111111111,
              "#46039f"
             ],
             [
              0.2222222222222222,
              "#7201a8"
             ],
             [
              0.3333333333333333,
              "#9c179e"
             ],
             [
              0.4444444444444444,
              "#bd3786"
             ],
             [
              0.5555555555555556,
              "#d8576b"
             ],
             [
              0.6666666666666666,
              "#ed7953"
             ],
             [
              0.7777777777777778,
              "#fb9f3a"
             ],
             [
              0.8888888888888888,
              "#fdca26"
             ],
             [
              1,
              "#f0f921"
             ]
            ],
            "type": "contour"
           }
          ],
          "contourcarpet": [
           {
            "colorbar": {
             "outlinewidth": 0,
             "ticks": ""
            },
            "type": "contourcarpet"
           }
          ],
          "heatmap": [
           {
            "colorbar": {
             "outlinewidth": 0,
             "ticks": ""
            },
            "colorscale": [
             [
              0,
              "#0d0887"
             ],
             [
              0.1111111111111111,
              "#46039f"
             ],
             [
              0.2222222222222222,
              "#7201a8"
             ],
             [
              0.3333333333333333,
              "#9c179e"
             ],
             [
              0.4444444444444444,
              "#bd3786"
             ],
             [
              0.5555555555555556,
              "#d8576b"
             ],
             [
              0.6666666666666666,
              "#ed7953"
             ],
             [
              0.7777777777777778,
              "#fb9f3a"
             ],
             [
              0.8888888888888888,
              "#fdca26"
             ],
             [
              1,
              "#f0f921"
             ]
            ],
            "type": "heatmap"
           }
          ],
          "heatmapgl": [
           {
            "colorbar": {
             "outlinewidth": 0,
             "ticks": ""
            },
            "colorscale": [
             [
              0,
              "#0d0887"
             ],
             [
              0.1111111111111111,
              "#46039f"
             ],
             [
              0.2222222222222222,
              "#7201a8"
             ],
             [
              0.3333333333333333,
              "#9c179e"
             ],
             [
              0.4444444444444444,
              "#bd3786"
             ],
             [
              0.5555555555555556,
              "#d8576b"
             ],
             [
              0.6666666666666666,
              "#ed7953"
             ],
             [
              0.7777777777777778,
              "#fb9f3a"
             ],
             [
              0.8888888888888888,
              "#fdca26"
             ],
             [
              1,
              "#f0f921"
             ]
            ],
            "type": "heatmapgl"
           }
          ],
          "histogram": [
           {
            "marker": {
             "pattern": {
              "fillmode": "overlay",
              "size": 10,
              "solidity": 0.2
             }
            },
            "type": "histogram"
           }
          ],
          "histogram2d": [
           {
            "colorbar": {
             "outlinewidth": 0,
             "ticks": ""
            },
            "colorscale": [
             [
              0,
              "#0d0887"
             ],
             [
              0.1111111111111111,
              "#46039f"
             ],
             [
              0.2222222222222222,
              "#7201a8"
             ],
             [
              0.3333333333333333,
              "#9c179e"
             ],
             [
              0.4444444444444444,
              "#bd3786"
             ],
             [
              0.5555555555555556,
              "#d8576b"
             ],
             [
              0.6666666666666666,
              "#ed7953"
             ],
             [
              0.7777777777777778,
              "#fb9f3a"
             ],
             [
              0.8888888888888888,
              "#fdca26"
             ],
             [
              1,
              "#f0f921"
             ]
            ],
            "type": "histogram2d"
           }
          ],
          "histogram2dcontour": [
           {
            "colorbar": {
             "outlinewidth": 0,
             "ticks": ""
            },
            "colorscale": [
             [
              0,
              "#0d0887"
             ],
             [
              0.1111111111111111,
              "#46039f"
             ],
             [
              0.2222222222222222,
              "#7201a8"
             ],
             [
              0.3333333333333333,
              "#9c179e"
             ],
             [
              0.4444444444444444,
              "#bd3786"
             ],
             [
              0.5555555555555556,
              "#d8576b"
             ],
             [
              0.6666666666666666,
              "#ed7953"
             ],
             [
              0.7777777777777778,
              "#fb9f3a"
             ],
             [
              0.8888888888888888,
              "#fdca26"
             ],
             [
              1,
              "#f0f921"
             ]
            ],
            "type": "histogram2dcontour"
           }
          ],
          "mesh3d": [
           {
            "colorbar": {
             "outlinewidth": 0,
             "ticks": ""
            },
            "type": "mesh3d"
           }
          ],
          "parcoords": [
           {
            "line": {
             "colorbar": {
              "outlinewidth": 0,
              "ticks": ""
             }
            },
            "type": "parcoords"
           }
          ],
          "pie": [
           {
            "automargin": true,
            "type": "pie"
           }
          ],
          "scatter": [
           {
            "fillpattern": {
             "fillmode": "overlay",
             "size": 10,
             "solidity": 0.2
            },
            "type": "scatter"
           }
          ],
          "scatter3d": [
           {
            "line": {
             "colorbar": {
              "outlinewidth": 0,
              "ticks": ""
             }
            },
            "marker": {
             "colorbar": {
              "outlinewidth": 0,
              "ticks": ""
             }
            },
            "type": "scatter3d"
           }
          ],
          "scattercarpet": [
           {
            "marker": {
             "colorbar": {
              "outlinewidth": 0,
              "ticks": ""
             }
            },
            "type": "scattercarpet"
           }
          ],
          "scattergeo": [
           {
            "marker": {
             "colorbar": {
              "outlinewidth": 0,
              "ticks": ""
             }
            },
            "type": "scattergeo"
           }
          ],
          "scattergl": [
           {
            "marker": {
             "colorbar": {
              "outlinewidth": 0,
              "ticks": ""
             }
            },
            "type": "scattergl"
           }
          ],
          "scattermapbox": [
           {
            "marker": {
             "colorbar": {
              "outlinewidth": 0,
              "ticks": ""
             }
            },
            "type": "scattermapbox"
           }
          ],
          "scatterpolar": [
           {
            "marker": {
             "colorbar": {
              "outlinewidth": 0,
              "ticks": ""
             }
            },
            "type": "scatterpolar"
           }
          ],
          "scatterpolargl": [
           {
            "marker": {
             "colorbar": {
              "outlinewidth": 0,
              "ticks": ""
             }
            },
            "type": "scatterpolargl"
           }
          ],
          "scatterternary": [
           {
            "marker": {
             "colorbar": {
              "outlinewidth": 0,
              "ticks": ""
             }
            },
            "type": "scatterternary"
           }
          ],
          "surface": [
           {
            "colorbar": {
             "outlinewidth": 0,
             "ticks": ""
            },
            "colorscale": [
             [
              0,
              "#0d0887"
             ],
             [
              0.1111111111111111,
              "#46039f"
             ],
             [
              0.2222222222222222,
              "#7201a8"
             ],
             [
              0.3333333333333333,
              "#9c179e"
             ],
             [
              0.4444444444444444,
              "#bd3786"
             ],
             [
              0.5555555555555556,
              "#d8576b"
             ],
             [
              0.6666666666666666,
              "#ed7953"
             ],
             [
              0.7777777777777778,
              "#fb9f3a"
             ],
             [
              0.8888888888888888,
              "#fdca26"
             ],
             [
              1,
              "#f0f921"
             ]
            ],
            "type": "surface"
           }
          ],
          "table": [
           {
            "cells": {
             "fill": {
              "color": "#EBF0F8"
             },
             "line": {
              "color": "white"
             }
            },
            "header": {
             "fill": {
              "color": "#C8D4E3"
             },
             "line": {
              "color": "white"
             }
            },
            "type": "table"
           }
          ]
         },
         "layout": {
          "annotationdefaults": {
           "arrowcolor": "#2a3f5f",
           "arrowhead": 0,
           "arrowwidth": 1
          },
          "autotypenumbers": "strict",
          "coloraxis": {
           "colorbar": {
            "outlinewidth": 0,
            "ticks": ""
           }
          },
          "colorscale": {
           "diverging": [
            [
             0,
             "#8e0152"
            ],
            [
             0.1,
             "#c51b7d"
            ],
            [
             0.2,
             "#de77ae"
            ],
            [
             0.3,
             "#f1b6da"
            ],
            [
             0.4,
             "#fde0ef"
            ],
            [
             0.5,
             "#f7f7f7"
            ],
            [
             0.6,
             "#e6f5d0"
            ],
            [
             0.7,
             "#b8e186"
            ],
            [
             0.8,
             "#7fbc41"
            ],
            [
             0.9,
             "#4d9221"
            ],
            [
             1,
             "#276419"
            ]
           ],
           "sequential": [
            [
             0,
             "#0d0887"
            ],
            [
             0.1111111111111111,
             "#46039f"
            ],
            [
             0.2222222222222222,
             "#7201a8"
            ],
            [
             0.3333333333333333,
             "#9c179e"
            ],
            [
             0.4444444444444444,
             "#bd3786"
            ],
            [
             0.5555555555555556,
             "#d8576b"
            ],
            [
             0.6666666666666666,
             "#ed7953"
            ],
            [
             0.7777777777777778,
             "#fb9f3a"
            ],
            [
             0.8888888888888888,
             "#fdca26"
            ],
            [
             1,
             "#f0f921"
            ]
           ],
           "sequentialminus": [
            [
             0,
             "#0d0887"
            ],
            [
             0.1111111111111111,
             "#46039f"
            ],
            [
             0.2222222222222222,
             "#7201a8"
            ],
            [
             0.3333333333333333,
             "#9c179e"
            ],
            [
             0.4444444444444444,
             "#bd3786"
            ],
            [
             0.5555555555555556,
             "#d8576b"
            ],
            [
             0.6666666666666666,
             "#ed7953"
            ],
            [
             0.7777777777777778,
             "#fb9f3a"
            ],
            [
             0.8888888888888888,
             "#fdca26"
            ],
            [
             1,
             "#f0f921"
            ]
           ]
          },
          "colorway": [
           "#636efa",
           "#EF553B",
           "#00cc96",
           "#ab63fa",
           "#FFA15A",
           "#19d3f3",
           "#FF6692",
           "#B6E880",
           "#FF97FF",
           "#FECB52"
          ],
          "font": {
           "color": "#2a3f5f"
          },
          "geo": {
           "bgcolor": "white",
           "lakecolor": "white",
           "landcolor": "#E5ECF6",
           "showlakes": true,
           "showland": true,
           "subunitcolor": "white"
          },
          "hoverlabel": {
           "align": "left"
          },
          "hovermode": "closest",
          "mapbox": {
           "style": "light"
          },
          "paper_bgcolor": "white",
          "plot_bgcolor": "#E5ECF6",
          "polar": {
           "angularaxis": {
            "gridcolor": "white",
            "linecolor": "white",
            "ticks": ""
           },
           "bgcolor": "#E5ECF6",
           "radialaxis": {
            "gridcolor": "white",
            "linecolor": "white",
            "ticks": ""
           }
          },
          "scene": {
           "xaxis": {
            "backgroundcolor": "#E5ECF6",
            "gridcolor": "white",
            "gridwidth": 2,
            "linecolor": "white",
            "showbackground": true,
            "ticks": "",
            "zerolinecolor": "white"
           },
           "yaxis": {
            "backgroundcolor": "#E5ECF6",
            "gridcolor": "white",
            "gridwidth": 2,
            "linecolor": "white",
            "showbackground": true,
            "ticks": "",
            "zerolinecolor": "white"
           },
           "zaxis": {
            "backgroundcolor": "#E5ECF6",
            "gridcolor": "white",
            "gridwidth": 2,
            "linecolor": "white",
            "showbackground": true,
            "ticks": "",
            "zerolinecolor": "white"
           }
          },
          "shapedefaults": {
           "line": {
            "color": "#2a3f5f"
           }
          },
          "ternary": {
           "aaxis": {
            "gridcolor": "white",
            "linecolor": "white",
            "ticks": ""
           },
           "baxis": {
            "gridcolor": "white",
            "linecolor": "white",
            "ticks": ""
           },
           "bgcolor": "#E5ECF6",
           "caxis": {
            "gridcolor": "white",
            "linecolor": "white",
            "ticks": ""
           }
          },
          "title": {
           "x": 0.05
          },
          "xaxis": {
           "automargin": true,
           "gridcolor": "white",
           "linecolor": "white",
           "ticks": "",
           "title": {
            "standoff": 15
           },
           "zerolinecolor": "white",
           "zerolinewidth": 2
          },
          "yaxis": {
           "automargin": true,
           "gridcolor": "white",
           "linecolor": "white",
           "ticks": "",
           "title": {
            "standoff": 15
           },
           "zerolinecolor": "white",
           "zerolinewidth": 2
          }
         }
        },
        "title": {
         "font": {
          "size": 20
         },
         "text": "Cumulative Revenue (1-Day Aggregated)",
         "x": 0.5
        },
        "width": 1400,
        "xaxis": {
         "tickangle": 45,
         "tickfont": {
          "size": 12
         },
         "tickmode": "array",
         "ticktext": [
          "2025-06-05",
          "2025-06-06",
          "2025-06-07",
          "2025-06-08",
          "2025-06-09",
          "2025-06-10",
          "2025-06-11",
          "2025-06-12"
         ],
         "tickvals": [
          "2025-06-05",
          "2025-06-06",
          "2025-06-07",
          "2025-06-08",
          "2025-06-09",
          "2025-06-10",
          "2025-06-11",
          "2025-06-12"
         ],
         "title": {
          "text": "Date"
         }
        },
        "yaxis": {
         "gridcolor": "lightgrey",
         "griddash": "dot",
         "tickfont": {
          "size": 14
         },
         "title": {
          "text": "Cumulative Revenue (Millions of ₪)"
         }
        }
       }
      }
     },
     "metadata": {},
     "output_type": "display_data"
    }
   ],
   "source": [
    "def plot_cumulative_revenue_plotly(df, date_column, revenue_column, days, font_size=12, y_shift=10, start_date=\"2025-06-05\"):\n",
    "    df = df.copy()\n",
    "\n",
    "    # Ensure datetime if needed\n",
    "    if not pd.api.types.is_datetime64_any_dtype(df[date_column]):\n",
    "        df[date_column] = pd.to_datetime(df[date_column], errors='coerce')\n",
    "\n",
    "    # Ensure numeric revenue\n",
    "    df = df[pd.to_numeric(df[revenue_column], errors='coerce').notnull()]\n",
    "    df[revenue_column] = df[revenue_column].astype(float)\n",
    "\n",
    "    # Filter dates\n",
    "    df = df[df[date_column] >= pd.to_datetime(start_date)]\n",
    "\n",
    "    # Vectorized calculation of n-day periods\n",
    "    df['n_day_period'] = (\n",
    "        df[date_column]\n",
    "        .dt.floor(f'{days}D')  # Round down to nearest n-day bucket\n",
    "    )\n",
    "\n",
    "    # Group and cumulative revenue\n",
    "    grouped = (\n",
    "        df.groupby('n_day_period')[revenue_column]\n",
    "        .sum()\n",
    "        .reset_index(name=\"Total_revenue\")\n",
    "        .sort_values('n_day_period')\n",
    "    )\n",
    "\n",
    "    grouped['Cumulative_Revenue'] = grouped['Total_revenue'].cumsum()\n",
    "    grouped['Cumulative_Revenue_Million'] = (grouped['Cumulative_Revenue'] / 1_000_000).round(3)\n",
    "\n",
    "    # Create period labels\n",
    "    grouped['period_label'] = grouped['n_day_period'].dt.strftime('%Y-%m-%d')\n",
    "\n",
    "    # Pre-create annotations\n",
    "    text_annotations = [f\"{val}\" for val in grouped['Cumulative_Revenue_Million']]\n",
    "\n",
    "    # Plot\n",
    "    fig = go.Figure()\n",
    "\n",
    "    fig.add_trace(go.Bar(\n",
    "        x=grouped['period_label'],\n",
    "        y=grouped['Cumulative_Revenue_Million'],\n",
    "        name='Cumulative Revenue',\n",
    "        marker_color='firebrick',\n",
    "        text=text_annotations,\n",
    "        textposition='outside',\n",
    "        textfont=dict(size=font_size)\n",
    "    ))\n",
    "\n",
    "    # Layout\n",
    "    fig.update_layout(\n",
    "        title=dict(\n",
    "            text=f'Cumulative Revenue ({days}-Day Aggregated)',\n",
    "            font=dict(size=20),\n",
    "            x=0.5\n",
    "        ),\n",
    "        xaxis=dict(\n",
    "            title='Date',\n",
    "            tickangle=45,\n",
    "            tickfont=dict(size=12),\n",
    "            tickmode='array',\n",
    "            tickvals=grouped['period_label'],\n",
    "            ticktext=grouped['period_label']\n",
    "        ),\n",
    "        yaxis=dict(\n",
    "            title='Cumulative Revenue (Millions of ₪)',\n",
    "            tickfont=dict(size=14),\n",
    "            gridcolor='lightgrey',\n",
    "            griddash='dot'\n",
    "        ),\n",
    "        bargap=0.1,\n",
    "        height=750,\n",
    "        width=1400,\n",
    "        margin=dict(l=60, r=60, t=90, b=120),\n",
    "        plot_bgcolor='white',\n",
    "        paper_bgcolor='white',\n",
    "        showlegend=False\n",
    "    )\n",
    "\n",
    "    fig.show()\n",
    "\n",
    "# Example call\n",
    "plot_cumulative_revenue_plotly(perc, 'sale_date', 'price', days=1)"
   ]
  },
  {
   "cell_type": "code",
   "execution_count": 11,
   "id": "d64cf16f-547e-49aa-9d79-e0072aa280f2",
   "metadata": {},
   "outputs": [
    {
     "data": {
      "application/vnd.plotly.v1+json": {
       "config": {
        "plotlyServerURL": "https://plot.ly"
       },
       "data": [
        {
         "hole": 0.3,
         "insidetextorientation": "radial",
         "labels": [
          "Renewal (2066)",
          "New (207)"
         ],
         "marker": {
          "colors": [
           "red",
           "skyblue"
          ]
         },
         "textinfo": "label+percent",
         "type": "pie",
         "values": [
          2066,
          207
         ]
        }
       ],
       "layout": {
        "height": 500,
        "margin": {
         "b": 60,
         "l": 60,
         "r": 60,
         "t": 60
        },
        "showlegend": false,
        "template": {
         "data": {
          "bar": [
           {
            "error_x": {
             "color": "#2a3f5f"
            },
            "error_y": {
             "color": "#2a3f5f"
            },
            "marker": {
             "line": {
              "color": "#E5ECF6",
              "width": 0.5
             },
             "pattern": {
              "fillmode": "overlay",
              "size": 10,
              "solidity": 0.2
             }
            },
            "type": "bar"
           }
          ],
          "barpolar": [
           {
            "marker": {
             "line": {
              "color": "#E5ECF6",
              "width": 0.5
             },
             "pattern": {
              "fillmode": "overlay",
              "size": 10,
              "solidity": 0.2
             }
            },
            "type": "barpolar"
           }
          ],
          "carpet": [
           {
            "aaxis": {
             "endlinecolor": "#2a3f5f",
             "gridcolor": "white",
             "linecolor": "white",
             "minorgridcolor": "white",
             "startlinecolor": "#2a3f5f"
            },
            "baxis": {
             "endlinecolor": "#2a3f5f",
             "gridcolor": "white",
             "linecolor": "white",
             "minorgridcolor": "white",
             "startlinecolor": "#2a3f5f"
            },
            "type": "carpet"
           }
          ],
          "choropleth": [
           {
            "colorbar": {
             "outlinewidth": 0,
             "ticks": ""
            },
            "type": "choropleth"
           }
          ],
          "contour": [
           {
            "colorbar": {
             "outlinewidth": 0,
             "ticks": ""
            },
            "colorscale": [
             [
              0,
              "#0d0887"
             ],
             [
              0.1111111111111111,
              "#46039f"
             ],
             [
              0.2222222222222222,
              "#7201a8"
             ],
             [
              0.3333333333333333,
              "#9c179e"
             ],
             [
              0.4444444444444444,
              "#bd3786"
             ],
             [
              0.5555555555555556,
              "#d8576b"
             ],
             [
              0.6666666666666666,
              "#ed7953"
             ],
             [
              0.7777777777777778,
              "#fb9f3a"
             ],
             [
              0.8888888888888888,
              "#fdca26"
             ],
             [
              1,
              "#f0f921"
             ]
            ],
            "type": "contour"
           }
          ],
          "contourcarpet": [
           {
            "colorbar": {
             "outlinewidth": 0,
             "ticks": ""
            },
            "type": "contourcarpet"
           }
          ],
          "heatmap": [
           {
            "colorbar": {
             "outlinewidth": 0,
             "ticks": ""
            },
            "colorscale": [
             [
              0,
              "#0d0887"
             ],
             [
              0.1111111111111111,
              "#46039f"
             ],
             [
              0.2222222222222222,
              "#7201a8"
             ],
             [
              0.3333333333333333,
              "#9c179e"
             ],
             [
              0.4444444444444444,
              "#bd3786"
             ],
             [
              0.5555555555555556,
              "#d8576b"
             ],
             [
              0.6666666666666666,
              "#ed7953"
             ],
             [
              0.7777777777777778,
              "#fb9f3a"
             ],
             [
              0.8888888888888888,
              "#fdca26"
             ],
             [
              1,
              "#f0f921"
             ]
            ],
            "type": "heatmap"
           }
          ],
          "heatmapgl": [
           {
            "colorbar": {
             "outlinewidth": 0,
             "ticks": ""
            },
            "colorscale": [
             [
              0,
              "#0d0887"
             ],
             [
              0.1111111111111111,
              "#46039f"
             ],
             [
              0.2222222222222222,
              "#7201a8"
             ],
             [
              0.3333333333333333,
              "#9c179e"
             ],
             [
              0.4444444444444444,
              "#bd3786"
             ],
             [
              0.5555555555555556,
              "#d8576b"
             ],
             [
              0.6666666666666666,
              "#ed7953"
             ],
             [
              0.7777777777777778,
              "#fb9f3a"
             ],
             [
              0.8888888888888888,
              "#fdca26"
             ],
             [
              1,
              "#f0f921"
             ]
            ],
            "type": "heatmapgl"
           }
          ],
          "histogram": [
           {
            "marker": {
             "pattern": {
              "fillmode": "overlay",
              "size": 10,
              "solidity": 0.2
             }
            },
            "type": "histogram"
           }
          ],
          "histogram2d": [
           {
            "colorbar": {
             "outlinewidth": 0,
             "ticks": ""
            },
            "colorscale": [
             [
              0,
              "#0d0887"
             ],
             [
              0.1111111111111111,
              "#46039f"
             ],
             [
              0.2222222222222222,
              "#7201a8"
             ],
             [
              0.3333333333333333,
              "#9c179e"
             ],
             [
              0.4444444444444444,
              "#bd3786"
             ],
             [
              0.5555555555555556,
              "#d8576b"
             ],
             [
              0.6666666666666666,
              "#ed7953"
             ],
             [
              0.7777777777777778,
              "#fb9f3a"
             ],
             [
              0.8888888888888888,
              "#fdca26"
             ],
             [
              1,
              "#f0f921"
             ]
            ],
            "type": "histogram2d"
           }
          ],
          "histogram2dcontour": [
           {
            "colorbar": {
             "outlinewidth": 0,
             "ticks": ""
            },
            "colorscale": [
             [
              0,
              "#0d0887"
             ],
             [
              0.1111111111111111,
              "#46039f"
             ],
             [
              0.2222222222222222,
              "#7201a8"
             ],
             [
              0.3333333333333333,
              "#9c179e"
             ],
             [
              0.4444444444444444,
              "#bd3786"
             ],
             [
              0.5555555555555556,
              "#d8576b"
             ],
             [
              0.6666666666666666,
              "#ed7953"
             ],
             [
              0.7777777777777778,
              "#fb9f3a"
             ],
             [
              0.8888888888888888,
              "#fdca26"
             ],
             [
              1,
              "#f0f921"
             ]
            ],
            "type": "histogram2dcontour"
           }
          ],
          "mesh3d": [
           {
            "colorbar": {
             "outlinewidth": 0,
             "ticks": ""
            },
            "type": "mesh3d"
           }
          ],
          "parcoords": [
           {
            "line": {
             "colorbar": {
              "outlinewidth": 0,
              "ticks": ""
             }
            },
            "type": "parcoords"
           }
          ],
          "pie": [
           {
            "automargin": true,
            "type": "pie"
           }
          ],
          "scatter": [
           {
            "fillpattern": {
             "fillmode": "overlay",
             "size": 10,
             "solidity": 0.2
            },
            "type": "scatter"
           }
          ],
          "scatter3d": [
           {
            "line": {
             "colorbar": {
              "outlinewidth": 0,
              "ticks": ""
             }
            },
            "marker": {
             "colorbar": {
              "outlinewidth": 0,
              "ticks": ""
             }
            },
            "type": "scatter3d"
           }
          ],
          "scattercarpet": [
           {
            "marker": {
             "colorbar": {
              "outlinewidth": 0,
              "ticks": ""
             }
            },
            "type": "scattercarpet"
           }
          ],
          "scattergeo": [
           {
            "marker": {
             "colorbar": {
              "outlinewidth": 0,
              "ticks": ""
             }
            },
            "type": "scattergeo"
           }
          ],
          "scattergl": [
           {
            "marker": {
             "colorbar": {
              "outlinewidth": 0,
              "ticks": ""
             }
            },
            "type": "scattergl"
           }
          ],
          "scattermapbox": [
           {
            "marker": {
             "colorbar": {
              "outlinewidth": 0,
              "ticks": ""
             }
            },
            "type": "scattermapbox"
           }
          ],
          "scatterpolar": [
           {
            "marker": {
             "colorbar": {
              "outlinewidth": 0,
              "ticks": ""
             }
            },
            "type": "scatterpolar"
           }
          ],
          "scatterpolargl": [
           {
            "marker": {
             "colorbar": {
              "outlinewidth": 0,
              "ticks": ""
             }
            },
            "type": "scatterpolargl"
           }
          ],
          "scatterternary": [
           {
            "marker": {
             "colorbar": {
              "outlinewidth": 0,
              "ticks": ""
             }
            },
            "type": "scatterternary"
           }
          ],
          "surface": [
           {
            "colorbar": {
             "outlinewidth": 0,
             "ticks": ""
            },
            "colorscale": [
             [
              0,
              "#0d0887"
             ],
             [
              0.1111111111111111,
              "#46039f"
             ],
             [
              0.2222222222222222,
              "#7201a8"
             ],
             [
              0.3333333333333333,
              "#9c179e"
             ],
             [
              0.4444444444444444,
              "#bd3786"
             ],
             [
              0.5555555555555556,
              "#d8576b"
             ],
             [
              0.6666666666666666,
              "#ed7953"
             ],
             [
              0.7777777777777778,
              "#fb9f3a"
             ],
             [
              0.8888888888888888,
              "#fdca26"
             ],
             [
              1,
              "#f0f921"
             ]
            ],
            "type": "surface"
           }
          ],
          "table": [
           {
            "cells": {
             "fill": {
              "color": "#EBF0F8"
             },
             "line": {
              "color": "white"
             }
            },
            "header": {
             "fill": {
              "color": "#C8D4E3"
             },
             "line": {
              "color": "white"
             }
            },
            "type": "table"
           }
          ]
         },
         "layout": {
          "annotationdefaults": {
           "arrowcolor": "#2a3f5f",
           "arrowhead": 0,
           "arrowwidth": 1
          },
          "autotypenumbers": "strict",
          "coloraxis": {
           "colorbar": {
            "outlinewidth": 0,
            "ticks": ""
           }
          },
          "colorscale": {
           "diverging": [
            [
             0,
             "#8e0152"
            ],
            [
             0.1,
             "#c51b7d"
            ],
            [
             0.2,
             "#de77ae"
            ],
            [
             0.3,
             "#f1b6da"
            ],
            [
             0.4,
             "#fde0ef"
            ],
            [
             0.5,
             "#f7f7f7"
            ],
            [
             0.6,
             "#e6f5d0"
            ],
            [
             0.7,
             "#b8e186"
            ],
            [
             0.8,
             "#7fbc41"
            ],
            [
             0.9,
             "#4d9221"
            ],
            [
             1,
             "#276419"
            ]
           ],
           "sequential": [
            [
             0,
             "#0d0887"
            ],
            [
             0.1111111111111111,
             "#46039f"
            ],
            [
             0.2222222222222222,
             "#7201a8"
            ],
            [
             0.3333333333333333,
             "#9c179e"
            ],
            [
             0.4444444444444444,
             "#bd3786"
            ],
            [
             0.5555555555555556,
             "#d8576b"
            ],
            [
             0.6666666666666666,
             "#ed7953"
            ],
            [
             0.7777777777777778,
             "#fb9f3a"
            ],
            [
             0.8888888888888888,
             "#fdca26"
            ],
            [
             1,
             "#f0f921"
            ]
           ],
           "sequentialminus": [
            [
             0,
             "#0d0887"
            ],
            [
             0.1111111111111111,
             "#46039f"
            ],
            [
             0.2222222222222222,
             "#7201a8"
            ],
            [
             0.3333333333333333,
             "#9c179e"
            ],
            [
             0.4444444444444444,
             "#bd3786"
            ],
            [
             0.5555555555555556,
             "#d8576b"
            ],
            [
             0.6666666666666666,
             "#ed7953"
            ],
            [
             0.7777777777777778,
             "#fb9f3a"
            ],
            [
             0.8888888888888888,
             "#fdca26"
            ],
            [
             1,
             "#f0f921"
            ]
           ]
          },
          "colorway": [
           "#636efa",
           "#EF553B",
           "#00cc96",
           "#ab63fa",
           "#FFA15A",
           "#19d3f3",
           "#FF6692",
           "#B6E880",
           "#FF97FF",
           "#FECB52"
          ],
          "font": {
           "color": "#2a3f5f"
          },
          "geo": {
           "bgcolor": "white",
           "lakecolor": "white",
           "landcolor": "#E5ECF6",
           "showlakes": true,
           "showland": true,
           "subunitcolor": "white"
          },
          "hoverlabel": {
           "align": "left"
          },
          "hovermode": "closest",
          "mapbox": {
           "style": "light"
          },
          "paper_bgcolor": "white",
          "plot_bgcolor": "#E5ECF6",
          "polar": {
           "angularaxis": {
            "gridcolor": "white",
            "linecolor": "white",
            "ticks": ""
           },
           "bgcolor": "#E5ECF6",
           "radialaxis": {
            "gridcolor": "white",
            "linecolor": "white",
            "ticks": ""
           }
          },
          "scene": {
           "xaxis": {
            "backgroundcolor": "#E5ECF6",
            "gridcolor": "white",
            "gridwidth": 2,
            "linecolor": "white",
            "showbackground": true,
            "ticks": "",
            "zerolinecolor": "white"
           },
           "yaxis": {
            "backgroundcolor": "#E5ECF6",
            "gridcolor": "white",
            "gridwidth": 2,
            "linecolor": "white",
            "showbackground": true,
            "ticks": "",
            "zerolinecolor": "white"
           },
           "zaxis": {
            "backgroundcolor": "#E5ECF6",
            "gridcolor": "white",
            "gridwidth": 2,
            "linecolor": "white",
            "showbackground": true,
            "ticks": "",
            "zerolinecolor": "white"
           }
          },
          "shapedefaults": {
           "line": {
            "color": "#2a3f5f"
           }
          },
          "ternary": {
           "aaxis": {
            "gridcolor": "white",
            "linecolor": "white",
            "ticks": ""
           },
           "baxis": {
            "gridcolor": "white",
            "linecolor": "white",
            "ticks": ""
           },
           "bgcolor": "#E5ECF6",
           "caxis": {
            "gridcolor": "white",
            "linecolor": "white",
            "ticks": ""
           }
          },
          "title": {
           "x": 0.05
          },
          "xaxis": {
           "automargin": true,
           "gridcolor": "white",
           "linecolor": "white",
           "ticks": "",
           "title": {
            "standoff": 15
           },
           "zerolinecolor": "white",
           "zerolinewidth": 2
          },
          "yaxis": {
           "automargin": true,
           "gridcolor": "white",
           "linecolor": "white",
           "ticks": "",
           "title": {
            "standoff": 15
           },
           "zerolinecolor": "white",
           "zerolinewidth": 2
          }
         }
        },
        "title": {
         "font": {
          "size": 20
         },
         "text": "Season Tickets: Renewals vs New",
         "x": 0.5
        },
        "width": 500
       }
      }
     },
     "metadata": {},
     "output_type": "display_data"
    }
   ],
   "source": [
    "def plot_renewals_pie_chart(df, st_df, client_col='client_number', column='is_renew'):\n",
    "    \"\"\"\n",
    "    Plots a pie chart of renewals vs new season tickets using Plotly.\n",
    "\n",
    "    Parameters:\n",
    "    - df: DataFrame with season ticket holders for this season.\n",
    "    - st_df: DataFrame with last season's client numbers (for renewals).\n",
    "    - client_col: Column name with client numbers.\n",
    "    - column: Name of the boolean column for renewal status (calculated inside).\n",
    "    \"\"\"\n",
    "    # Do not modify original df\n",
    "    temp_df = df.copy()\n",
    "\n",
    "    # Calculate renewals (True if client_number is in last season's data)\n",
    "    temp_df[column] = temp_df[client_col].isin(st_df[client_col])\n",
    "\n",
    "    # Count renewals and new\n",
    "    counts = temp_df[column].value_counts()\n",
    "\n",
    "    # Extract values safely\n",
    "    renew_count = counts.get(True, 0)\n",
    "    new_count = counts.get(False, 0)\n",
    "\n",
    "    # Labels and values\n",
    "    labels = [f'Renewal ({renew_count})', f'New ({new_count})']\n",
    "    values = [renew_count, new_count]\n",
    "    colors = ['red', 'skyblue']\n",
    "\n",
    "    # Plotly pie chart\n",
    "    fig = go.Figure(data=[\n",
    "        go.Pie(\n",
    "            labels=labels,\n",
    "            values=values,\n",
    "            marker=dict(colors=colors),\n",
    "            textinfo='label+percent',\n",
    "            insidetextorientation='radial',\n",
    "            hole=0.3  # donut chart\n",
    "        )\n",
    "    ])\n",
    "\n",
    "    fig.update_layout(\n",
    "        title=dict(text='Season Tickets: Renewals vs New', font=dict(size=20), x=0.5),\n",
    "        height=500,\n",
    "        width=500,\n",
    "        margin=dict(t=60, b=60, l=60, r=60),\n",
    "        showlegend=False\n",
    "    )\n",
    "\n",
    "    fig.show()\n",
    "\n",
    "# Example usage\n",
    "plot_renewals_pie_chart(perc, st_2425)"
   ]
  },
  {
   "cell_type": "code",
   "execution_count": 12,
   "id": "0a0b4812-1512-4f5b-842f-7f9e5a077571",
   "metadata": {},
   "outputs": [
    {
     "data": {
      "application/vnd.plotly.v1+json": {
       "config": {
        "plotlyServerURL": "https://plot.ly"
       },
       "data": [
        {
         "marker": {
          "color": [
           "firebrick",
           "skyblue",
           "red",
           "gray",
           "black",
           "lightblue"
          ]
         },
         "orientation": "h",
         "text": [
          1675,
          537,
          23,
          21,
          16,
          1
         ],
         "textfont": {
          "size": 14
         },
         "textposition": "outside",
         "type": "bar",
         "x": [
          1675,
          537,
          23,
          21,
          16,
          1
         ],
         "y": [
          "Playoff finals - Adult",
          "Playoff finals - Child",
          "Adult",
          "Complementary",
          "Child",
          "test"
         ]
        }
       ],
       "layout": {
        "height": 600,
        "margin": {
         "b": 60,
         "l": 120,
         "r": 60,
         "t": 80
        },
        "paper_bgcolor": "white",
        "plot_bgcolor": "white",
        "showlegend": false,
        "template": {
         "data": {
          "bar": [
           {
            "error_x": {
             "color": "#2a3f5f"
            },
            "error_y": {
             "color": "#2a3f5f"
            },
            "marker": {
             "line": {
              "color": "#E5ECF6",
              "width": 0.5
             },
             "pattern": {
              "fillmode": "overlay",
              "size": 10,
              "solidity": 0.2
             }
            },
            "type": "bar"
           }
          ],
          "barpolar": [
           {
            "marker": {
             "line": {
              "color": "#E5ECF6",
              "width": 0.5
             },
             "pattern": {
              "fillmode": "overlay",
              "size": 10,
              "solidity": 0.2
             }
            },
            "type": "barpolar"
           }
          ],
          "carpet": [
           {
            "aaxis": {
             "endlinecolor": "#2a3f5f",
             "gridcolor": "white",
             "linecolor": "white",
             "minorgridcolor": "white",
             "startlinecolor": "#2a3f5f"
            },
            "baxis": {
             "endlinecolor": "#2a3f5f",
             "gridcolor": "white",
             "linecolor": "white",
             "minorgridcolor": "white",
             "startlinecolor": "#2a3f5f"
            },
            "type": "carpet"
           }
          ],
          "choropleth": [
           {
            "colorbar": {
             "outlinewidth": 0,
             "ticks": ""
            },
            "type": "choropleth"
           }
          ],
          "contour": [
           {
            "colorbar": {
             "outlinewidth": 0,
             "ticks": ""
            },
            "colorscale": [
             [
              0,
              "#0d0887"
             ],
             [
              0.1111111111111111,
              "#46039f"
             ],
             [
              0.2222222222222222,
              "#7201a8"
             ],
             [
              0.3333333333333333,
              "#9c179e"
             ],
             [
              0.4444444444444444,
              "#bd3786"
             ],
             [
              0.5555555555555556,
              "#d8576b"
             ],
             [
              0.6666666666666666,
              "#ed7953"
             ],
             [
              0.7777777777777778,
              "#fb9f3a"
             ],
             [
              0.8888888888888888,
              "#fdca26"
             ],
             [
              1,
              "#f0f921"
             ]
            ],
            "type": "contour"
           }
          ],
          "contourcarpet": [
           {
            "colorbar": {
             "outlinewidth": 0,
             "ticks": ""
            },
            "type": "contourcarpet"
           }
          ],
          "heatmap": [
           {
            "colorbar": {
             "outlinewidth": 0,
             "ticks": ""
            },
            "colorscale": [
             [
              0,
              "#0d0887"
             ],
             [
              0.1111111111111111,
              "#46039f"
             ],
             [
              0.2222222222222222,
              "#7201a8"
             ],
             [
              0.3333333333333333,
              "#9c179e"
             ],
             [
              0.4444444444444444,
              "#bd3786"
             ],
             [
              0.5555555555555556,
              "#d8576b"
             ],
             [
              0.6666666666666666,
              "#ed7953"
             ],
             [
              0.7777777777777778,
              "#fb9f3a"
             ],
             [
              0.8888888888888888,
              "#fdca26"
             ],
             [
              1,
              "#f0f921"
             ]
            ],
            "type": "heatmap"
           }
          ],
          "heatmapgl": [
           {
            "colorbar": {
             "outlinewidth": 0,
             "ticks": ""
            },
            "colorscale": [
             [
              0,
              "#0d0887"
             ],
             [
              0.1111111111111111,
              "#46039f"
             ],
             [
              0.2222222222222222,
              "#7201a8"
             ],
             [
              0.3333333333333333,
              "#9c179e"
             ],
             [
              0.4444444444444444,
              "#bd3786"
             ],
             [
              0.5555555555555556,
              "#d8576b"
             ],
             [
              0.6666666666666666,
              "#ed7953"
             ],
             [
              0.7777777777777778,
              "#fb9f3a"
             ],
             [
              0.8888888888888888,
              "#fdca26"
             ],
             [
              1,
              "#f0f921"
             ]
            ],
            "type": "heatmapgl"
           }
          ],
          "histogram": [
           {
            "marker": {
             "pattern": {
              "fillmode": "overlay",
              "size": 10,
              "solidity": 0.2
             }
            },
            "type": "histogram"
           }
          ],
          "histogram2d": [
           {
            "colorbar": {
             "outlinewidth": 0,
             "ticks": ""
            },
            "colorscale": [
             [
              0,
              "#0d0887"
             ],
             [
              0.1111111111111111,
              "#46039f"
             ],
             [
              0.2222222222222222,
              "#7201a8"
             ],
             [
              0.3333333333333333,
              "#9c179e"
             ],
             [
              0.4444444444444444,
              "#bd3786"
             ],
             [
              0.5555555555555556,
              "#d8576b"
             ],
             [
              0.6666666666666666,
              "#ed7953"
             ],
             [
              0.7777777777777778,
              "#fb9f3a"
             ],
             [
              0.8888888888888888,
              "#fdca26"
             ],
             [
              1,
              "#f0f921"
             ]
            ],
            "type": "histogram2d"
           }
          ],
          "histogram2dcontour": [
           {
            "colorbar": {
             "outlinewidth": 0,
             "ticks": ""
            },
            "colorscale": [
             [
              0,
              "#0d0887"
             ],
             [
              0.1111111111111111,
              "#46039f"
             ],
             [
              0.2222222222222222,
              "#7201a8"
             ],
             [
              0.3333333333333333,
              "#9c179e"
             ],
             [
              0.4444444444444444,
              "#bd3786"
             ],
             [
              0.5555555555555556,
              "#d8576b"
             ],
             [
              0.6666666666666666,
              "#ed7953"
             ],
             [
              0.7777777777777778,
              "#fb9f3a"
             ],
             [
              0.8888888888888888,
              "#fdca26"
             ],
             [
              1,
              "#f0f921"
             ]
            ],
            "type": "histogram2dcontour"
           }
          ],
          "mesh3d": [
           {
            "colorbar": {
             "outlinewidth": 0,
             "ticks": ""
            },
            "type": "mesh3d"
           }
          ],
          "parcoords": [
           {
            "line": {
             "colorbar": {
              "outlinewidth": 0,
              "ticks": ""
             }
            },
            "type": "parcoords"
           }
          ],
          "pie": [
           {
            "automargin": true,
            "type": "pie"
           }
          ],
          "scatter": [
           {
            "fillpattern": {
             "fillmode": "overlay",
             "size": 10,
             "solidity": 0.2
            },
            "type": "scatter"
           }
          ],
          "scatter3d": [
           {
            "line": {
             "colorbar": {
              "outlinewidth": 0,
              "ticks": ""
             }
            },
            "marker": {
             "colorbar": {
              "outlinewidth": 0,
              "ticks": ""
             }
            },
            "type": "scatter3d"
           }
          ],
          "scattercarpet": [
           {
            "marker": {
             "colorbar": {
              "outlinewidth": 0,
              "ticks": ""
             }
            },
            "type": "scattercarpet"
           }
          ],
          "scattergeo": [
           {
            "marker": {
             "colorbar": {
              "outlinewidth": 0,
              "ticks": ""
             }
            },
            "type": "scattergeo"
           }
          ],
          "scattergl": [
           {
            "marker": {
             "colorbar": {
              "outlinewidth": 0,
              "ticks": ""
             }
            },
            "type": "scattergl"
           }
          ],
          "scattermapbox": [
           {
            "marker": {
             "colorbar": {
              "outlinewidth": 0,
              "ticks": ""
             }
            },
            "type": "scattermapbox"
           }
          ],
          "scatterpolar": [
           {
            "marker": {
             "colorbar": {
              "outlinewidth": 0,
              "ticks": ""
             }
            },
            "type": "scatterpolar"
           }
          ],
          "scatterpolargl": [
           {
            "marker": {
             "colorbar": {
              "outlinewidth": 0,
              "ticks": ""
             }
            },
            "type": "scatterpolargl"
           }
          ],
          "scatterternary": [
           {
            "marker": {
             "colorbar": {
              "outlinewidth": 0,
              "ticks": ""
             }
            },
            "type": "scatterternary"
           }
          ],
          "surface": [
           {
            "colorbar": {
             "outlinewidth": 0,
             "ticks": ""
            },
            "colorscale": [
             [
              0,
              "#0d0887"
             ],
             [
              0.1111111111111111,
              "#46039f"
             ],
             [
              0.2222222222222222,
              "#7201a8"
             ],
             [
              0.3333333333333333,
              "#9c179e"
             ],
             [
              0.4444444444444444,
              "#bd3786"
             ],
             [
              0.5555555555555556,
              "#d8576b"
             ],
             [
              0.6666666666666666,
              "#ed7953"
             ],
             [
              0.7777777777777778,
              "#fb9f3a"
             ],
             [
              0.8888888888888888,
              "#fdca26"
             ],
             [
              1,
              "#f0f921"
             ]
            ],
            "type": "surface"
           }
          ],
          "table": [
           {
            "cells": {
             "fill": {
              "color": "#EBF0F8"
             },
             "line": {
              "color": "white"
             }
            },
            "header": {
             "fill": {
              "color": "#C8D4E3"
             },
             "line": {
              "color": "white"
             }
            },
            "type": "table"
           }
          ]
         },
         "layout": {
          "annotationdefaults": {
           "arrowcolor": "#2a3f5f",
           "arrowhead": 0,
           "arrowwidth": 1
          },
          "autotypenumbers": "strict",
          "coloraxis": {
           "colorbar": {
            "outlinewidth": 0,
            "ticks": ""
           }
          },
          "colorscale": {
           "diverging": [
            [
             0,
             "#8e0152"
            ],
            [
             0.1,
             "#c51b7d"
            ],
            [
             0.2,
             "#de77ae"
            ],
            [
             0.3,
             "#f1b6da"
            ],
            [
             0.4,
             "#fde0ef"
            ],
            [
             0.5,
             "#f7f7f7"
            ],
            [
             0.6,
             "#e6f5d0"
            ],
            [
             0.7,
             "#b8e186"
            ],
            [
             0.8,
             "#7fbc41"
            ],
            [
             0.9,
             "#4d9221"
            ],
            [
             1,
             "#276419"
            ]
           ],
           "sequential": [
            [
             0,
             "#0d0887"
            ],
            [
             0.1111111111111111,
             "#46039f"
            ],
            [
             0.2222222222222222,
             "#7201a8"
            ],
            [
             0.3333333333333333,
             "#9c179e"
            ],
            [
             0.4444444444444444,
             "#bd3786"
            ],
            [
             0.5555555555555556,
             "#d8576b"
            ],
            [
             0.6666666666666666,
             "#ed7953"
            ],
            [
             0.7777777777777778,
             "#fb9f3a"
            ],
            [
             0.8888888888888888,
             "#fdca26"
            ],
            [
             1,
             "#f0f921"
            ]
           ],
           "sequentialminus": [
            [
             0,
             "#0d0887"
            ],
            [
             0.1111111111111111,
             "#46039f"
            ],
            [
             0.2222222222222222,
             "#7201a8"
            ],
            [
             0.3333333333333333,
             "#9c179e"
            ],
            [
             0.4444444444444444,
             "#bd3786"
            ],
            [
             0.5555555555555556,
             "#d8576b"
            ],
            [
             0.6666666666666666,
             "#ed7953"
            ],
            [
             0.7777777777777778,
             "#fb9f3a"
            ],
            [
             0.8888888888888888,
             "#fdca26"
            ],
            [
             1,
             "#f0f921"
            ]
           ]
          },
          "colorway": [
           "#636efa",
           "#EF553B",
           "#00cc96",
           "#ab63fa",
           "#FFA15A",
           "#19d3f3",
           "#FF6692",
           "#B6E880",
           "#FF97FF",
           "#FECB52"
          ],
          "font": {
           "color": "#2a3f5f"
          },
          "geo": {
           "bgcolor": "white",
           "lakecolor": "white",
           "landcolor": "#E5ECF6",
           "showlakes": true,
           "showland": true,
           "subunitcolor": "white"
          },
          "hoverlabel": {
           "align": "left"
          },
          "hovermode": "closest",
          "mapbox": {
           "style": "light"
          },
          "paper_bgcolor": "white",
          "plot_bgcolor": "#E5ECF6",
          "polar": {
           "angularaxis": {
            "gridcolor": "white",
            "linecolor": "white",
            "ticks": ""
           },
           "bgcolor": "#E5ECF6",
           "radialaxis": {
            "gridcolor": "white",
            "linecolor": "white",
            "ticks": ""
           }
          },
          "scene": {
           "xaxis": {
            "backgroundcolor": "#E5ECF6",
            "gridcolor": "white",
            "gridwidth": 2,
            "linecolor": "white",
            "showbackground": true,
            "ticks": "",
            "zerolinecolor": "white"
           },
           "yaxis": {
            "backgroundcolor": "#E5ECF6",
            "gridcolor": "white",
            "gridwidth": 2,
            "linecolor": "white",
            "showbackground": true,
            "ticks": "",
            "zerolinecolor": "white"
           },
           "zaxis": {
            "backgroundcolor": "#E5ECF6",
            "gridcolor": "white",
            "gridwidth": 2,
            "linecolor": "white",
            "showbackground": true,
            "ticks": "",
            "zerolinecolor": "white"
           }
          },
          "shapedefaults": {
           "line": {
            "color": "#2a3f5f"
           }
          },
          "ternary": {
           "aaxis": {
            "gridcolor": "white",
            "linecolor": "white",
            "ticks": ""
           },
           "baxis": {
            "gridcolor": "white",
            "linecolor": "white",
            "ticks": ""
           },
           "bgcolor": "#E5ECF6",
           "caxis": {
            "gridcolor": "white",
            "linecolor": "white",
            "ticks": ""
           }
          },
          "title": {
           "x": 0.05
          },
          "xaxis": {
           "automargin": true,
           "gridcolor": "white",
           "linecolor": "white",
           "ticks": "",
           "title": {
            "standoff": 15
           },
           "zerolinecolor": "white",
           "zerolinewidth": 2
          },
          "yaxis": {
           "automargin": true,
           "gridcolor": "white",
           "linecolor": "white",
           "ticks": "",
           "title": {
            "standoff": 15
           },
           "zerolinecolor": "white",
           "zerolinewidth": 2
          }
         }
        },
        "title": {
         "font": {
          "size": 24
         },
         "text": "Season Tickets By Price Type",
         "x": 0.5
        },
        "width": 950,
        "yaxis": {
         "categoryorder": "total ascending",
         "tickfont": {
          "size": 14
         },
         "title": {
          "text": ""
         }
        }
       }
      }
     },
     "metadata": {},
     "output_type": "display_data"
    }
   ],
   "source": [
    "def plot_season_tickets_by_price_type(df):\n",
    "    \"\"\"\n",
    "    Plots a horizontal bar chart of season tickets by price type using Plotly,\n",
    "    ordered from most popular to least.\n",
    "    \"\"\"\n",
    "    # Copy only if necessary\n",
    "    df = df.copy()\n",
    "\n",
    "    # Efficiently clean up price types\n",
    "    df['price_type'] = (\n",
    "        df['price_type']\n",
    "        .astype(str)  # Ensure it's a string\n",
    "        .str.replace(' (upgrade)', '', regex=False)\n",
    "        .replace({'עסקי': 'Business'})\n",
    "        .replace(to_replace=r'.*VIP.*', value='VIP', regex=True)\n",
    "        .replace(to_replace=r'.*מחלקת נוער.*', value='Youth Department', regex=True)\n",
    "    )\n",
    "\n",
    "    # Count and aggregate\n",
    "    grouped = (\n",
    "        df['price_type']\n",
    "        .value_counts()\n",
    "        .rename_axis('price_type')\n",
    "        .reset_index(name='ticket_count')\n",
    "    )\n",
    "\n",
    "    # Color map\n",
    "    color_map = {\n",
    "        'Complementary': 'gray',\n",
    "        'Business': 'orange',\n",
    "        'Box': 'brown',\n",
    "        'VIP': 'purple',\n",
    "        'Community': 'seagreen',\n",
    "        'Youth Department': 'navy',\n",
    "        'Child': 'black',\n",
    "        'Adult': 'red',\n",
    "        'Playoff finals - Adult': 'firebrick',\n",
    "        'Playoff finals - Child': 'skyblue'\n",
    "    }\n",
    "\n",
    "    # Assign colors with fallback\n",
    "    grouped['color'] = grouped['price_type'].map(color_map).fillna('lightblue')\n",
    "\n",
    "    # Plot\n",
    "    fig = go.Figure(go.Bar(\n",
    "        x=grouped['ticket_count'],\n",
    "        y=grouped['price_type'],\n",
    "        orientation='h',\n",
    "        marker_color=grouped['color'],\n",
    "        text=grouped['ticket_count'],\n",
    "        textposition='outside',\n",
    "        textfont=dict(size=14)\n",
    "    ))\n",
    "\n",
    "    fig.update_layout(\n",
    "        title=dict(text='Season Tickets By Price Type', font=dict(size=24), x=0.5),\n",
    "        yaxis=dict(\n",
    "            title='',\n",
    "            tickfont=dict(size=14),\n",
    "            categoryorder='total ascending'  # Automatically sort y-axis\n",
    "        ),\n",
    "        height=600,\n",
    "        width=950,\n",
    "        margin=dict(l=120, r=60, t=80, b=60),\n",
    "        plot_bgcolor='white',\n",
    "        paper_bgcolor='white',\n",
    "        showlegend=False\n",
    "    )\n",
    "\n",
    "    fig.show()\n",
    "\n",
    "# Example run\n",
    "plot_season_tickets_by_price_type(perc)"
   ]
  },
  {
   "cell_type": "code",
   "execution_count": 13,
   "id": "a679f432-3c76-469e-967c-784385d63e3d",
   "metadata": {},
   "outputs": [
    {
     "data": {
      "application/vnd.plotly.v1+json": {
       "config": {
        "plotlyServerURL": "https://plot.ly"
       },
       "data": [
        {
         "hole": 0.4,
         "insidetextorientation": "radial",
         "labels": [
          "Independently (1783)",
          "Telemarketing (490)"
         ],
         "marker": {
          "colors": [
           "red",
           "skyblue"
          ]
         },
         "textfont": {
          "color": "white",
          "size": 16
         },
         "textinfo": "label+percent",
         "textposition": "inside",
         "type": "pie",
         "values": [
          1783,
          490
         ]
        }
       ],
       "layout": {
        "height": 400,
        "margin": {
         "b": 40,
         "l": 40,
         "r": 40,
         "t": 60
        },
        "showlegend": false,
        "template": {
         "data": {
          "bar": [
           {
            "error_x": {
             "color": "#2a3f5f"
            },
            "error_y": {
             "color": "#2a3f5f"
            },
            "marker": {
             "line": {
              "color": "#E5ECF6",
              "width": 0.5
             },
             "pattern": {
              "fillmode": "overlay",
              "size": 10,
              "solidity": 0.2
             }
            },
            "type": "bar"
           }
          ],
          "barpolar": [
           {
            "marker": {
             "line": {
              "color": "#E5ECF6",
              "width": 0.5
             },
             "pattern": {
              "fillmode": "overlay",
              "size": 10,
              "solidity": 0.2
             }
            },
            "type": "barpolar"
           }
          ],
          "carpet": [
           {
            "aaxis": {
             "endlinecolor": "#2a3f5f",
             "gridcolor": "white",
             "linecolor": "white",
             "minorgridcolor": "white",
             "startlinecolor": "#2a3f5f"
            },
            "baxis": {
             "endlinecolor": "#2a3f5f",
             "gridcolor": "white",
             "linecolor": "white",
             "minorgridcolor": "white",
             "startlinecolor": "#2a3f5f"
            },
            "type": "carpet"
           }
          ],
          "choropleth": [
           {
            "colorbar": {
             "outlinewidth": 0,
             "ticks": ""
            },
            "type": "choropleth"
           }
          ],
          "contour": [
           {
            "colorbar": {
             "outlinewidth": 0,
             "ticks": ""
            },
            "colorscale": [
             [
              0,
              "#0d0887"
             ],
             [
              0.1111111111111111,
              "#46039f"
             ],
             [
              0.2222222222222222,
              "#7201a8"
             ],
             [
              0.3333333333333333,
              "#9c179e"
             ],
             [
              0.4444444444444444,
              "#bd3786"
             ],
             [
              0.5555555555555556,
              "#d8576b"
             ],
             [
              0.6666666666666666,
              "#ed7953"
             ],
             [
              0.7777777777777778,
              "#fb9f3a"
             ],
             [
              0.8888888888888888,
              "#fdca26"
             ],
             [
              1,
              "#f0f921"
             ]
            ],
            "type": "contour"
           }
          ],
          "contourcarpet": [
           {
            "colorbar": {
             "outlinewidth": 0,
             "ticks": ""
            },
            "type": "contourcarpet"
           }
          ],
          "heatmap": [
           {
            "colorbar": {
             "outlinewidth": 0,
             "ticks": ""
            },
            "colorscale": [
             [
              0,
              "#0d0887"
             ],
             [
              0.1111111111111111,
              "#46039f"
             ],
             [
              0.2222222222222222,
              "#7201a8"
             ],
             [
              0.3333333333333333,
              "#9c179e"
             ],
             [
              0.4444444444444444,
              "#bd3786"
             ],
             [
              0.5555555555555556,
              "#d8576b"
             ],
             [
              0.6666666666666666,
              "#ed7953"
             ],
             [
              0.7777777777777778,
              "#fb9f3a"
             ],
             [
              0.8888888888888888,
              "#fdca26"
             ],
             [
              1,
              "#f0f921"
             ]
            ],
            "type": "heatmap"
           }
          ],
          "heatmapgl": [
           {
            "colorbar": {
             "outlinewidth": 0,
             "ticks": ""
            },
            "colorscale": [
             [
              0,
              "#0d0887"
             ],
             [
              0.1111111111111111,
              "#46039f"
             ],
             [
              0.2222222222222222,
              "#7201a8"
             ],
             [
              0.3333333333333333,
              "#9c179e"
             ],
             [
              0.4444444444444444,
              "#bd3786"
             ],
             [
              0.5555555555555556,
              "#d8576b"
             ],
             [
              0.6666666666666666,
              "#ed7953"
             ],
             [
              0.7777777777777778,
              "#fb9f3a"
             ],
             [
              0.8888888888888888,
              "#fdca26"
             ],
             [
              1,
              "#f0f921"
             ]
            ],
            "type": "heatmapgl"
           }
          ],
          "histogram": [
           {
            "marker": {
             "pattern": {
              "fillmode": "overlay",
              "size": 10,
              "solidity": 0.2
             }
            },
            "type": "histogram"
           }
          ],
          "histogram2d": [
           {
            "colorbar": {
             "outlinewidth": 0,
             "ticks": ""
            },
            "colorscale": [
             [
              0,
              "#0d0887"
             ],
             [
              0.1111111111111111,
              "#46039f"
             ],
             [
              0.2222222222222222,
              "#7201a8"
             ],
             [
              0.3333333333333333,
              "#9c179e"
             ],
             [
              0.4444444444444444,
              "#bd3786"
             ],
             [
              0.5555555555555556,
              "#d8576b"
             ],
             [
              0.6666666666666666,
              "#ed7953"
             ],
             [
              0.7777777777777778,
              "#fb9f3a"
             ],
             [
              0.8888888888888888,
              "#fdca26"
             ],
             [
              1,
              "#f0f921"
             ]
            ],
            "type": "histogram2d"
           }
          ],
          "histogram2dcontour": [
           {
            "colorbar": {
             "outlinewidth": 0,
             "ticks": ""
            },
            "colorscale": [
             [
              0,
              "#0d0887"
             ],
             [
              0.1111111111111111,
              "#46039f"
             ],
             [
              0.2222222222222222,
              "#7201a8"
             ],
             [
              0.3333333333333333,
              "#9c179e"
             ],
             [
              0.4444444444444444,
              "#bd3786"
             ],
             [
              0.5555555555555556,
              "#d8576b"
             ],
             [
              0.6666666666666666,
              "#ed7953"
             ],
             [
              0.7777777777777778,
              "#fb9f3a"
             ],
             [
              0.8888888888888888,
              "#fdca26"
             ],
             [
              1,
              "#f0f921"
             ]
            ],
            "type": "histogram2dcontour"
           }
          ],
          "mesh3d": [
           {
            "colorbar": {
             "outlinewidth": 0,
             "ticks": ""
            },
            "type": "mesh3d"
           }
          ],
          "parcoords": [
           {
            "line": {
             "colorbar": {
              "outlinewidth": 0,
              "ticks": ""
             }
            },
            "type": "parcoords"
           }
          ],
          "pie": [
           {
            "automargin": true,
            "type": "pie"
           }
          ],
          "scatter": [
           {
            "fillpattern": {
             "fillmode": "overlay",
             "size": 10,
             "solidity": 0.2
            },
            "type": "scatter"
           }
          ],
          "scatter3d": [
           {
            "line": {
             "colorbar": {
              "outlinewidth": 0,
              "ticks": ""
             }
            },
            "marker": {
             "colorbar": {
              "outlinewidth": 0,
              "ticks": ""
             }
            },
            "type": "scatter3d"
           }
          ],
          "scattercarpet": [
           {
            "marker": {
             "colorbar": {
              "outlinewidth": 0,
              "ticks": ""
             }
            },
            "type": "scattercarpet"
           }
          ],
          "scattergeo": [
           {
            "marker": {
             "colorbar": {
              "outlinewidth": 0,
              "ticks": ""
             }
            },
            "type": "scattergeo"
           }
          ],
          "scattergl": [
           {
            "marker": {
             "colorbar": {
              "outlinewidth": 0,
              "ticks": ""
             }
            },
            "type": "scattergl"
           }
          ],
          "scattermapbox": [
           {
            "marker": {
             "colorbar": {
              "outlinewidth": 0,
              "ticks": ""
             }
            },
            "type": "scattermapbox"
           }
          ],
          "scatterpolar": [
           {
            "marker": {
             "colorbar": {
              "outlinewidth": 0,
              "ticks": ""
             }
            },
            "type": "scatterpolar"
           }
          ],
          "scatterpolargl": [
           {
            "marker": {
             "colorbar": {
              "outlinewidth": 0,
              "ticks": ""
             }
            },
            "type": "scatterpolargl"
           }
          ],
          "scatterternary": [
           {
            "marker": {
             "colorbar": {
              "outlinewidth": 0,
              "ticks": ""
             }
            },
            "type": "scatterternary"
           }
          ],
          "surface": [
           {
            "colorbar": {
             "outlinewidth": 0,
             "ticks": ""
            },
            "colorscale": [
             [
              0,
              "#0d0887"
             ],
             [
              0.1111111111111111,
              "#46039f"
             ],
             [
              0.2222222222222222,
              "#7201a8"
             ],
             [
              0.3333333333333333,
              "#9c179e"
             ],
             [
              0.4444444444444444,
              "#bd3786"
             ],
             [
              0.5555555555555556,
              "#d8576b"
             ],
             [
              0.6666666666666666,
              "#ed7953"
             ],
             [
              0.7777777777777778,
              "#fb9f3a"
             ],
             [
              0.8888888888888888,
              "#fdca26"
             ],
             [
              1,
              "#f0f921"
             ]
            ],
            "type": "surface"
           }
          ],
          "table": [
           {
            "cells": {
             "fill": {
              "color": "#EBF0F8"
             },
             "line": {
              "color": "white"
             }
            },
            "header": {
             "fill": {
              "color": "#C8D4E3"
             },
             "line": {
              "color": "white"
             }
            },
            "type": "table"
           }
          ]
         },
         "layout": {
          "annotationdefaults": {
           "arrowcolor": "#2a3f5f",
           "arrowhead": 0,
           "arrowwidth": 1
          },
          "autotypenumbers": "strict",
          "coloraxis": {
           "colorbar": {
            "outlinewidth": 0,
            "ticks": ""
           }
          },
          "colorscale": {
           "diverging": [
            [
             0,
             "#8e0152"
            ],
            [
             0.1,
             "#c51b7d"
            ],
            [
             0.2,
             "#de77ae"
            ],
            [
             0.3,
             "#f1b6da"
            ],
            [
             0.4,
             "#fde0ef"
            ],
            [
             0.5,
             "#f7f7f7"
            ],
            [
             0.6,
             "#e6f5d0"
            ],
            [
             0.7,
             "#b8e186"
            ],
            [
             0.8,
             "#7fbc41"
            ],
            [
             0.9,
             "#4d9221"
            ],
            [
             1,
             "#276419"
            ]
           ],
           "sequential": [
            [
             0,
             "#0d0887"
            ],
            [
             0.1111111111111111,
             "#46039f"
            ],
            [
             0.2222222222222222,
             "#7201a8"
            ],
            [
             0.3333333333333333,
             "#9c179e"
            ],
            [
             0.4444444444444444,
             "#bd3786"
            ],
            [
             0.5555555555555556,
             "#d8576b"
            ],
            [
             0.6666666666666666,
             "#ed7953"
            ],
            [
             0.7777777777777778,
             "#fb9f3a"
            ],
            [
             0.8888888888888888,
             "#fdca26"
            ],
            [
             1,
             "#f0f921"
            ]
           ],
           "sequentialminus": [
            [
             0,
             "#0d0887"
            ],
            [
             0.1111111111111111,
             "#46039f"
            ],
            [
             0.2222222222222222,
             "#7201a8"
            ],
            [
             0.3333333333333333,
             "#9c179e"
            ],
            [
             0.4444444444444444,
             "#bd3786"
            ],
            [
             0.5555555555555556,
             "#d8576b"
            ],
            [
             0.6666666666666666,
             "#ed7953"
            ],
            [
             0.7777777777777778,
             "#fb9f3a"
            ],
            [
             0.8888888888888888,
             "#fdca26"
            ],
            [
             1,
             "#f0f921"
            ]
           ]
          },
          "colorway": [
           "#636efa",
           "#EF553B",
           "#00cc96",
           "#ab63fa",
           "#FFA15A",
           "#19d3f3",
           "#FF6692",
           "#B6E880",
           "#FF97FF",
           "#FECB52"
          ],
          "font": {
           "color": "#2a3f5f"
          },
          "geo": {
           "bgcolor": "white",
           "lakecolor": "white",
           "landcolor": "#E5ECF6",
           "showlakes": true,
           "showland": true,
           "subunitcolor": "white"
          },
          "hoverlabel": {
           "align": "left"
          },
          "hovermode": "closest",
          "mapbox": {
           "style": "light"
          },
          "paper_bgcolor": "white",
          "plot_bgcolor": "#E5ECF6",
          "polar": {
           "angularaxis": {
            "gridcolor": "white",
            "linecolor": "white",
            "ticks": ""
           },
           "bgcolor": "#E5ECF6",
           "radialaxis": {
            "gridcolor": "white",
            "linecolor": "white",
            "ticks": ""
           }
          },
          "scene": {
           "xaxis": {
            "backgroundcolor": "#E5ECF6",
            "gridcolor": "white",
            "gridwidth": 2,
            "linecolor": "white",
            "showbackground": true,
            "ticks": "",
            "zerolinecolor": "white"
           },
           "yaxis": {
            "backgroundcolor": "#E5ECF6",
            "gridcolor": "white",
            "gridwidth": 2,
            "linecolor": "white",
            "showbackground": true,
            "ticks": "",
            "zerolinecolor": "white"
           },
           "zaxis": {
            "backgroundcolor": "#E5ECF6",
            "gridcolor": "white",
            "gridwidth": 2,
            "linecolor": "white",
            "showbackground": true,
            "ticks": "",
            "zerolinecolor": "white"
           }
          },
          "shapedefaults": {
           "line": {
            "color": "#2a3f5f"
           }
          },
          "ternary": {
           "aaxis": {
            "gridcolor": "white",
            "linecolor": "white",
            "ticks": ""
           },
           "baxis": {
            "gridcolor": "white",
            "linecolor": "white",
            "ticks": ""
           },
           "bgcolor": "#E5ECF6",
           "caxis": {
            "gridcolor": "white",
            "linecolor": "white",
            "ticks": ""
           }
          },
          "title": {
           "x": 0.05
          },
          "xaxis": {
           "automargin": true,
           "gridcolor": "white",
           "linecolor": "white",
           "ticks": "",
           "title": {
            "standoff": 15
           },
           "zerolinecolor": "white",
           "zerolinewidth": 2
          },
          "yaxis": {
           "automargin": true,
           "gridcolor": "white",
           "linecolor": "white",
           "ticks": "",
           "title": {
            "standoff": 15
           },
           "zerolinecolor": "white",
           "zerolinewidth": 2
          }
         }
        },
        "title": {
         "font": {
          "size": 20
         },
         "text": "How Is A Season Ticket Purchased?",
         "x": 0.5
        },
        "width": 500
       }
      }
     },
     "metadata": {},
     "output_type": "display_data"
    }
   ],
   "source": [
    "def plot_purchase_method_pie(df, column='co_purchaser_email'):\n",
    "    \"\"\"\n",
    "    Plots a pie chart of purchase methods (Independently vs Telemarketing).\n",
    "    \"\"\"\n",
    "    # Do not modify original df\n",
    "    temp_df = df.copy()\n",
    "\n",
    "    # Vectorized assignment of purchase method\n",
    "    temp_df['purchase_method'] = np.where(temp_df[column].isna(), 'Independently', 'Telemarketing')\n",
    "\n",
    "    # Count\n",
    "    counts = temp_df['purchase_method'].value_counts()\n",
    "\n",
    "    # Prepare data\n",
    "    purchase_methods = ['Independently', 'Telemarketing']\n",
    "    values = [counts.get(method, 0) for method in purchase_methods]\n",
    "    labels = [f\"{method} ({count})\" for method, count in zip(purchase_methods, values)]\n",
    "    colors = ['red', 'skyblue']\n",
    "\n",
    "    # Plot\n",
    "    fig = go.Figure(data=[\n",
    "        go.Pie(\n",
    "            labels=labels,\n",
    "            values=values,\n",
    "            marker=dict(colors=colors),\n",
    "            hole=0.4,\n",
    "            textinfo='label+percent',\n",
    "            textposition='inside',\n",
    "            insidetextorientation='radial',\n",
    "            textfont=dict(size=16, color='white')\n",
    "        )\n",
    "    ])\n",
    "\n",
    "    fig.update_layout(\n",
    "        title=dict(text='How Is A Season Ticket Purchased?', x=0.5, font=dict(size=20)),\n",
    "        height=400,\n",
    "        width=500,\n",
    "        margin=dict(t=60, b=40, l=40, r=40),\n",
    "        showlegend=False\n",
    "    )\n",
    "\n",
    "    fig.show()\n",
    "\n",
    "# Example call\n",
    "plot_purchase_method_pie(perc)"
   ]
  },
  {
   "cell_type": "code",
   "execution_count": 14,
   "id": "c4cab7f6-1e99-4136-a31f-c4dd32324b02",
   "metadata": {},
   "outputs": [
    {
     "data": {
      "application/vnd.plotly.v1+json": {
       "config": {
        "plotlyServerURL": "https://plot.ly"
       },
       "data": [
        {
         "link": {
          "color": [
           "rgba(220, 20, 60, 0.8)",
           "rgba(128, 128, 128, 0.8)",
           "rgba(139, 0, 0, 0.8)",
           "rgba(255, 182, 193, 0.8)",
           "rgba(255, 165, 0, 0.8)",
           "rgba(220, 20, 60, 0.8)",
           "rgba(128, 128, 128, 0.8)",
           "rgba(139, 0, 0, 0.8)",
           "rgba(255, 182, 193, 0.8)",
           "rgba(255, 165, 0, 0.8)"
          ],
          "customdata": [
           "14 clients moved from Silver to A",
           "9 clients moved from D to C",
           "8 clients moved from F to Silver",
           "8 clients moved from C to D",
           "7 clients moved from Silver to F",
           "7 clients moved from B to F",
           "7 clients moved from F to D",
           "6 clients moved from C to B",
           "5 clients moved from D to B",
           "4 clients moved from E to D"
          ],
          "hovertemplate": "%{customdata}<extra></extra>",
          "source": [
           0,
           1,
           2,
           3,
           0,
           4,
           2,
           3,
           1,
           5
          ],
          "target": [
           6,
           3,
           0,
           1,
           2,
           2,
           1,
           4,
           4,
           1
          ],
          "value": [
           14,
           9,
           8,
           8,
           7,
           7,
           7,
           6,
           5,
           4
          ]
         },
         "node": {
          "color": "lightgray",
          "label": [
           "Silver",
           "D",
           "F",
           "C",
           "B",
           "E",
           "A"
          ],
          "line": {
           "color": "black",
           "width": 0.5
          },
          "pad": 20,
          "thickness": 20
         },
         "type": "sankey"
        }
       ],
       "layout": {
        "font": {
         "size": 16
        },
        "height": 600,
        "margin": {
         "b": 40,
         "l": 20,
         "r": 20,
         "t": 40
        },
        "template": {
         "data": {
          "bar": [
           {
            "error_x": {
             "color": "#2a3f5f"
            },
            "error_y": {
             "color": "#2a3f5f"
            },
            "marker": {
             "line": {
              "color": "#E5ECF6",
              "width": 0.5
             },
             "pattern": {
              "fillmode": "overlay",
              "size": 10,
              "solidity": 0.2
             }
            },
            "type": "bar"
           }
          ],
          "barpolar": [
           {
            "marker": {
             "line": {
              "color": "#E5ECF6",
              "width": 0.5
             },
             "pattern": {
              "fillmode": "overlay",
              "size": 10,
              "solidity": 0.2
             }
            },
            "type": "barpolar"
           }
          ],
          "carpet": [
           {
            "aaxis": {
             "endlinecolor": "#2a3f5f",
             "gridcolor": "white",
             "linecolor": "white",
             "minorgridcolor": "white",
             "startlinecolor": "#2a3f5f"
            },
            "baxis": {
             "endlinecolor": "#2a3f5f",
             "gridcolor": "white",
             "linecolor": "white",
             "minorgridcolor": "white",
             "startlinecolor": "#2a3f5f"
            },
            "type": "carpet"
           }
          ],
          "choropleth": [
           {
            "colorbar": {
             "outlinewidth": 0,
             "ticks": ""
            },
            "type": "choropleth"
           }
          ],
          "contour": [
           {
            "colorbar": {
             "outlinewidth": 0,
             "ticks": ""
            },
            "colorscale": [
             [
              0,
              "#0d0887"
             ],
             [
              0.1111111111111111,
              "#46039f"
             ],
             [
              0.2222222222222222,
              "#7201a8"
             ],
             [
              0.3333333333333333,
              "#9c179e"
             ],
             [
              0.4444444444444444,
              "#bd3786"
             ],
             [
              0.5555555555555556,
              "#d8576b"
             ],
             [
              0.6666666666666666,
              "#ed7953"
             ],
             [
              0.7777777777777778,
              "#fb9f3a"
             ],
             [
              0.8888888888888888,
              "#fdca26"
             ],
             [
              1,
              "#f0f921"
             ]
            ],
            "type": "contour"
           }
          ],
          "contourcarpet": [
           {
            "colorbar": {
             "outlinewidth": 0,
             "ticks": ""
            },
            "type": "contourcarpet"
           }
          ],
          "heatmap": [
           {
            "colorbar": {
             "outlinewidth": 0,
             "ticks": ""
            },
            "colorscale": [
             [
              0,
              "#0d0887"
             ],
             [
              0.1111111111111111,
              "#46039f"
             ],
             [
              0.2222222222222222,
              "#7201a8"
             ],
             [
              0.3333333333333333,
              "#9c179e"
             ],
             [
              0.4444444444444444,
              "#bd3786"
             ],
             [
              0.5555555555555556,
              "#d8576b"
             ],
             [
              0.6666666666666666,
              "#ed7953"
             ],
             [
              0.7777777777777778,
              "#fb9f3a"
             ],
             [
              0.8888888888888888,
              "#fdca26"
             ],
             [
              1,
              "#f0f921"
             ]
            ],
            "type": "heatmap"
           }
          ],
          "heatmapgl": [
           {
            "colorbar": {
             "outlinewidth": 0,
             "ticks": ""
            },
            "colorscale": [
             [
              0,
              "#0d0887"
             ],
             [
              0.1111111111111111,
              "#46039f"
             ],
             [
              0.2222222222222222,
              "#7201a8"
             ],
             [
              0.3333333333333333,
              "#9c179e"
             ],
             [
              0.4444444444444444,
              "#bd3786"
             ],
             [
              0.5555555555555556,
              "#d8576b"
             ],
             [
              0.6666666666666666,
              "#ed7953"
             ],
             [
              0.7777777777777778,
              "#fb9f3a"
             ],
             [
              0.8888888888888888,
              "#fdca26"
             ],
             [
              1,
              "#f0f921"
             ]
            ],
            "type": "heatmapgl"
           }
          ],
          "histogram": [
           {
            "marker": {
             "pattern": {
              "fillmode": "overlay",
              "size": 10,
              "solidity": 0.2
             }
            },
            "type": "histogram"
           }
          ],
          "histogram2d": [
           {
            "colorbar": {
             "outlinewidth": 0,
             "ticks": ""
            },
            "colorscale": [
             [
              0,
              "#0d0887"
             ],
             [
              0.1111111111111111,
              "#46039f"
             ],
             [
              0.2222222222222222,
              "#7201a8"
             ],
             [
              0.3333333333333333,
              "#9c179e"
             ],
             [
              0.4444444444444444,
              "#bd3786"
             ],
             [
              0.5555555555555556,
              "#d8576b"
             ],
             [
              0.6666666666666666,
              "#ed7953"
             ],
             [
              0.7777777777777778,
              "#fb9f3a"
             ],
             [
              0.8888888888888888,
              "#fdca26"
             ],
             [
              1,
              "#f0f921"
             ]
            ],
            "type": "histogram2d"
           }
          ],
          "histogram2dcontour": [
           {
            "colorbar": {
             "outlinewidth": 0,
             "ticks": ""
            },
            "colorscale": [
             [
              0,
              "#0d0887"
             ],
             [
              0.1111111111111111,
              "#46039f"
             ],
             [
              0.2222222222222222,
              "#7201a8"
             ],
             [
              0.3333333333333333,
              "#9c179e"
             ],
             [
              0.4444444444444444,
              "#bd3786"
             ],
             [
              0.5555555555555556,
              "#d8576b"
             ],
             [
              0.6666666666666666,
              "#ed7953"
             ],
             [
              0.7777777777777778,
              "#fb9f3a"
             ],
             [
              0.8888888888888888,
              "#fdca26"
             ],
             [
              1,
              "#f0f921"
             ]
            ],
            "type": "histogram2dcontour"
           }
          ],
          "mesh3d": [
           {
            "colorbar": {
             "outlinewidth": 0,
             "ticks": ""
            },
            "type": "mesh3d"
           }
          ],
          "parcoords": [
           {
            "line": {
             "colorbar": {
              "outlinewidth": 0,
              "ticks": ""
             }
            },
            "type": "parcoords"
           }
          ],
          "pie": [
           {
            "automargin": true,
            "type": "pie"
           }
          ],
          "scatter": [
           {
            "fillpattern": {
             "fillmode": "overlay",
             "size": 10,
             "solidity": 0.2
            },
            "type": "scatter"
           }
          ],
          "scatter3d": [
           {
            "line": {
             "colorbar": {
              "outlinewidth": 0,
              "ticks": ""
             }
            },
            "marker": {
             "colorbar": {
              "outlinewidth": 0,
              "ticks": ""
             }
            },
            "type": "scatter3d"
           }
          ],
          "scattercarpet": [
           {
            "marker": {
             "colorbar": {
              "outlinewidth": 0,
              "ticks": ""
             }
            },
            "type": "scattercarpet"
           }
          ],
          "scattergeo": [
           {
            "marker": {
             "colorbar": {
              "outlinewidth": 0,
              "ticks": ""
             }
            },
            "type": "scattergeo"
           }
          ],
          "scattergl": [
           {
            "marker": {
             "colorbar": {
              "outlinewidth": 0,
              "ticks": ""
             }
            },
            "type": "scattergl"
           }
          ],
          "scattermapbox": [
           {
            "marker": {
             "colorbar": {
              "outlinewidth": 0,
              "ticks": ""
             }
            },
            "type": "scattermapbox"
           }
          ],
          "scatterpolar": [
           {
            "marker": {
             "colorbar": {
              "outlinewidth": 0,
              "ticks": ""
             }
            },
            "type": "scatterpolar"
           }
          ],
          "scatterpolargl": [
           {
            "marker": {
             "colorbar": {
              "outlinewidth": 0,
              "ticks": ""
             }
            },
            "type": "scatterpolargl"
           }
          ],
          "scatterternary": [
           {
            "marker": {
             "colorbar": {
              "outlinewidth": 0,
              "ticks": ""
             }
            },
            "type": "scatterternary"
           }
          ],
          "surface": [
           {
            "colorbar": {
             "outlinewidth": 0,
             "ticks": ""
            },
            "colorscale": [
             [
              0,
              "#0d0887"
             ],
             [
              0.1111111111111111,
              "#46039f"
             ],
             [
              0.2222222222222222,
              "#7201a8"
             ],
             [
              0.3333333333333333,
              "#9c179e"
             ],
             [
              0.4444444444444444,
              "#bd3786"
             ],
             [
              0.5555555555555556,
              "#d8576b"
             ],
             [
              0.6666666666666666,
              "#ed7953"
             ],
             [
              0.7777777777777778,
              "#fb9f3a"
             ],
             [
              0.8888888888888888,
              "#fdca26"
             ],
             [
              1,
              "#f0f921"
             ]
            ],
            "type": "surface"
           }
          ],
          "table": [
           {
            "cells": {
             "fill": {
              "color": "#EBF0F8"
             },
             "line": {
              "color": "white"
             }
            },
            "header": {
             "fill": {
              "color": "#C8D4E3"
             },
             "line": {
              "color": "white"
             }
            },
            "type": "table"
           }
          ]
         },
         "layout": {
          "annotationdefaults": {
           "arrowcolor": "#2a3f5f",
           "arrowhead": 0,
           "arrowwidth": 1
          },
          "autotypenumbers": "strict",
          "coloraxis": {
           "colorbar": {
            "outlinewidth": 0,
            "ticks": ""
           }
          },
          "colorscale": {
           "diverging": [
            [
             0,
             "#8e0152"
            ],
            [
             0.1,
             "#c51b7d"
            ],
            [
             0.2,
             "#de77ae"
            ],
            [
             0.3,
             "#f1b6da"
            ],
            [
             0.4,
             "#fde0ef"
            ],
            [
             0.5,
             "#f7f7f7"
            ],
            [
             0.6,
             "#e6f5d0"
            ],
            [
             0.7,
             "#b8e186"
            ],
            [
             0.8,
             "#7fbc41"
            ],
            [
             0.9,
             "#4d9221"
            ],
            [
             1,
             "#276419"
            ]
           ],
           "sequential": [
            [
             0,
             "#0d0887"
            ],
            [
             0.1111111111111111,
             "#46039f"
            ],
            [
             0.2222222222222222,
             "#7201a8"
            ],
            [
             0.3333333333333333,
             "#9c179e"
            ],
            [
             0.4444444444444444,
             "#bd3786"
            ],
            [
             0.5555555555555556,
             "#d8576b"
            ],
            [
             0.6666666666666666,
             "#ed7953"
            ],
            [
             0.7777777777777778,
             "#fb9f3a"
            ],
            [
             0.8888888888888888,
             "#fdca26"
            ],
            [
             1,
             "#f0f921"
            ]
           ],
           "sequentialminus": [
            [
             0,
             "#0d0887"
            ],
            [
             0.1111111111111111,
             "#46039f"
            ],
            [
             0.2222222222222222,
             "#7201a8"
            ],
            [
             0.3333333333333333,
             "#9c179e"
            ],
            [
             0.4444444444444444,
             "#bd3786"
            ],
            [
             0.5555555555555556,
             "#d8576b"
            ],
            [
             0.6666666666666666,
             "#ed7953"
            ],
            [
             0.7777777777777778,
             "#fb9f3a"
            ],
            [
             0.8888888888888888,
             "#fdca26"
            ],
            [
             1,
             "#f0f921"
            ]
           ]
          },
          "colorway": [
           "#636efa",
           "#EF553B",
           "#00cc96",
           "#ab63fa",
           "#FFA15A",
           "#19d3f3",
           "#FF6692",
           "#B6E880",
           "#FF97FF",
           "#FECB52"
          ],
          "font": {
           "color": "#2a3f5f"
          },
          "geo": {
           "bgcolor": "white",
           "lakecolor": "white",
           "landcolor": "#E5ECF6",
           "showlakes": true,
           "showland": true,
           "subunitcolor": "white"
          },
          "hoverlabel": {
           "align": "left"
          },
          "hovermode": "closest",
          "mapbox": {
           "style": "light"
          },
          "paper_bgcolor": "white",
          "plot_bgcolor": "#E5ECF6",
          "polar": {
           "angularaxis": {
            "gridcolor": "white",
            "linecolor": "white",
            "ticks": ""
           },
           "bgcolor": "#E5ECF6",
           "radialaxis": {
            "gridcolor": "white",
            "linecolor": "white",
            "ticks": ""
           }
          },
          "scene": {
           "xaxis": {
            "backgroundcolor": "#E5ECF6",
            "gridcolor": "white",
            "gridwidth": 2,
            "linecolor": "white",
            "showbackground": true,
            "ticks": "",
            "zerolinecolor": "white"
           },
           "yaxis": {
            "backgroundcolor": "#E5ECF6",
            "gridcolor": "white",
            "gridwidth": 2,
            "linecolor": "white",
            "showbackground": true,
            "ticks": "",
            "zerolinecolor": "white"
           },
           "zaxis": {
            "backgroundcolor": "#E5ECF6",
            "gridcolor": "white",
            "gridwidth": 2,
            "linecolor": "white",
            "showbackground": true,
            "ticks": "",
            "zerolinecolor": "white"
           }
          },
          "shapedefaults": {
           "line": {
            "color": "#2a3f5f"
           }
          },
          "ternary": {
           "aaxis": {
            "gridcolor": "white",
            "linecolor": "white",
            "ticks": ""
           },
           "baxis": {
            "gridcolor": "white",
            "linecolor": "white",
            "ticks": ""
           },
           "bgcolor": "#E5ECF6",
           "caxis": {
            "gridcolor": "white",
            "linecolor": "white",
            "ticks": ""
           }
          },
          "title": {
           "x": 0.05
          },
          "xaxis": {
           "automargin": true,
           "gridcolor": "white",
           "linecolor": "white",
           "ticks": "",
           "title": {
            "standoff": 15
           },
           "zerolinecolor": "white",
           "zerolinewidth": 2
          },
          "yaxis": {
           "automargin": true,
           "gridcolor": "white",
           "linecolor": "white",
           "ticks": "",
           "title": {
            "standoff": 15
           },
           "zerolinecolor": "white",
           "zerolinewidth": 2
          }
         }
        },
        "title": {
         "text": "Season Ticket Price Category Real Transitions",
         "x": 0.5
        },
        "width": 1100
       }
      }
     },
     "metadata": {},
     "output_type": "display_data"
    },
    {
     "name": "stdout",
     "output_type": "stream",
     "text": [
      "\n",
      "Top Real Transitions Table (No Same-to-Same):\n"
     ]
    },
    {
     "data": {
      "text/html": [
       "<div>\n",
       "<style scoped>\n",
       "    .dataframe tbody tr th:only-of-type {\n",
       "        vertical-align: middle;\n",
       "    }\n",
       "\n",
       "    .dataframe tbody tr th {\n",
       "        vertical-align: top;\n",
       "    }\n",
       "\n",
       "    .dataframe thead th {\n",
       "        text-align: right;\n",
       "    }\n",
       "</style>\n",
       "<table border=\"1\" class=\"dataframe\">\n",
       "  <thead>\n",
       "    <tr style=\"text-align: right;\">\n",
       "      <th></th>\n",
       "      <th>From</th>\n",
       "      <th>To</th>\n",
       "      <th>Number of Clients</th>\n",
       "    </tr>\n",
       "  </thead>\n",
       "  <tbody>\n",
       "    <tr>\n",
       "      <th>38</th>\n",
       "      <td>Silver</td>\n",
       "      <td>A</td>\n",
       "      <td>14</td>\n",
       "    </tr>\n",
       "    <tr>\n",
       "      <th>18</th>\n",
       "      <td>D</td>\n",
       "      <td>C</td>\n",
       "      <td>9</td>\n",
       "    </tr>\n",
       "    <tr>\n",
       "      <th>30</th>\n",
       "      <td>F</td>\n",
       "      <td>Silver</td>\n",
       "      <td>8</td>\n",
       "    </tr>\n",
       "    <tr>\n",
       "      <th>12</th>\n",
       "      <td>C</td>\n",
       "      <td>D</td>\n",
       "      <td>8</td>\n",
       "    </tr>\n",
       "    <tr>\n",
       "      <th>41</th>\n",
       "      <td>Silver</td>\n",
       "      <td>F</td>\n",
       "      <td>7</td>\n",
       "    </tr>\n",
       "    <tr>\n",
       "      <th>7</th>\n",
       "      <td>B</td>\n",
       "      <td>F</td>\n",
       "      <td>7</td>\n",
       "    </tr>\n",
       "    <tr>\n",
       "      <th>27</th>\n",
       "      <td>F</td>\n",
       "      <td>D</td>\n",
       "      <td>7</td>\n",
       "    </tr>\n",
       "    <tr>\n",
       "      <th>10</th>\n",
       "      <td>C</td>\n",
       "      <td>B</td>\n",
       "      <td>6</td>\n",
       "    </tr>\n",
       "    <tr>\n",
       "      <th>17</th>\n",
       "      <td>D</td>\n",
       "      <td>B</td>\n",
       "      <td>5</td>\n",
       "    </tr>\n",
       "    <tr>\n",
       "      <th>23</th>\n",
       "      <td>E</td>\n",
       "      <td>D</td>\n",
       "      <td>4</td>\n",
       "    </tr>\n",
       "  </tbody>\n",
       "</table>\n",
       "</div>"
      ],
      "text/plain": [
       "      From      To  Number of Clients\n",
       "38  Silver       A                 14\n",
       "18       D       C                  9\n",
       "30       F  Silver                  8\n",
       "12       C       D                  8\n",
       "41  Silver       F                  7\n",
       "7        B       F                  7\n",
       "27       F       D                  7\n",
       "10       C       B                  6\n",
       "17       D       B                  5\n",
       "23       E       D                  4"
      ]
     },
     "metadata": {},
     "output_type": "display_data"
    }
   ],
   "source": [
    "def plot_price_transition_sankey(st_2425, perc, min_transitions=2, top_n=10):\n",
    "    perc = perc.copy()\n",
    "    perc['is_renew'] = perc['client_number'].isin(st_2425['client_number'])\n",
    "\n",
    "    renewals = perc[perc['is_renew']][['client_number', 'price_category']]\n",
    "    previous = st_2425[['client_number', 'price_category']].rename(columns={'price_category': 'price_category_21'})\n",
    "    renewals = renewals.rename(columns={'price_category': 'price_category_22'})\n",
    "\n",
    "    transitions = pd.merge(previous, renewals, on='client_number', how='inner')\n",
    "    transitions['price_category_21'] = transitions['price_category_21'].astype(str).str.strip()\n",
    "    transitions['price_category_22'] = transitions['price_category_22'].astype(str).str.strip()\n",
    "\n",
    "    pair_counts = (\n",
    "        transitions.groupby(['price_category_21', 'price_category_22'])\n",
    "        .size()\n",
    "        .reset_index(name='value')\n",
    "    )\n",
    "\n",
    "    pair_counts = pair_counts[\n",
    "        (pair_counts['price_category_21'] != pair_counts['price_category_22']) &\n",
    "        (pair_counts['value'] >= min_transitions)\n",
    "    ].sort_values(by='value', ascending=False).head(top_n)\n",
    "\n",
    "    if pair_counts.empty:\n",
    "        print(\"No transitions meet the minimum transition size after filtering.\")\n",
    "        return\n",
    "\n",
    "    all_labels = pd.concat([pair_counts['price_category_21'], pair_counts['price_category_22']]).unique()\n",
    "    label_to_index = {label: idx for idx, label in enumerate(all_labels)}\n",
    "\n",
    "    sources = pair_counts['price_category_21'].map(label_to_index)\n",
    "    targets = pair_counts['price_category_22'].map(label_to_index)\n",
    "    values = pair_counts['value'].values\n",
    "\n",
    "    # Custom color palette\n",
    "    custom_palette = [\n",
    "        'rgba(220, 20, 60, 0.8)',   # Crimson (Red)\n",
    "        'rgba(128, 128, 128, 0.8)', # Gray\n",
    "        'rgba(139, 0, 0, 0.8)',     # Dark Red\n",
    "        'rgba(255, 182, 193, 0.8)', # Light Pink\n",
    "        'rgba(255, 165, 0, 0.8)'    # Orange\n",
    "    ]\n",
    "\n",
    "    # Repeat palette if not enough colors\n",
    "    red_colors = [custom_palette[i % len(custom_palette)] for i in range(len(values))]\n",
    "\n",
    "    hover_labels = (\n",
    "        pair_counts['value'].astype(str) + \" clients moved from \" +\n",
    "        pair_counts['price_category_21'] + \" to \" +\n",
    "        pair_counts['price_category_22']\n",
    "    )\n",
    "\n",
    "    fig = go.Figure(data=[go.Sankey(\n",
    "        node=dict(\n",
    "            pad=20,\n",
    "            thickness=20,\n",
    "            line=dict(color=\"black\", width=0.5),\n",
    "            label=list(all_labels),\n",
    "            color=\"lightgray\"\n",
    "        ),\n",
    "        link=dict(\n",
    "            source=sources,\n",
    "            target=targets,\n",
    "            value=values,\n",
    "            color=red_colors,\n",
    "            customdata=hover_labels,\n",
    "            hovertemplate='%{customdata}<extra></extra>',\n",
    "        )\n",
    "    )])\n",
    "\n",
    "    fig.update_layout(\n",
    "        title_text=\"Season Ticket Price Category Real Transitions\",\n",
    "        title_x=0.5,\n",
    "        font_size=16,\n",
    "        width=1100,\n",
    "        height=600,\n",
    "        margin=dict(l=20, r=20, t=40, b=40)\n",
    "    )\n",
    "\n",
    "    fig.show()\n",
    "\n",
    "    print(\"\\nTop Real Transitions Table (No Same-to-Same):\")\n",
    "    display(pair_counts.rename(columns={\n",
    "        'price_category_21': 'From',\n",
    "        'price_category_22': 'To',\n",
    "        'value': 'Number of Clients'\n",
    "    }))\n",
    "\n",
    "# Usage\n",
    "plot_price_transition_sankey(st_2425, perc)"
   ]
  },
  {
   "cell_type": "code",
   "execution_count": 15,
   "id": "85124db4",
   "metadata": {},
   "outputs": [],
   "source": [
    "def prepare_cumulative_revenue(df, open_date, days_limit=160):\n",
    "    df = df.copy()\n",
    "    df['Date'] = pd.to_datetime(df['sale_date'])\n",
    "    df = df[df['Date'] >= open_date]\n",
    "\n",
    "    revenue = (\n",
    "        df.groupby('Date')['price']\n",
    "        .sum()\n",
    "        .reindex(pd.date_range(df['Date'].min(), df['Date'].max()), fill_value=0)\n",
    "        .rename_axis('Date')\n",
    "        .reset_index(name='daily_revenue')\n",
    "    )\n",
    "\n",
    "    revenue['Days Since Opening'] = (revenue['Date'] - open_date).dt.days + 1\n",
    "    revenue = revenue[revenue['Days Since Opening'] < days_limit]\n",
    "    revenue['Cumulative Revenue'] = revenue['daily_revenue'].cumsum()\n",
    "\n",
    "    return revenue"
   ]
  },
  {
   "cell_type": "code",
   "execution_count": 16,
   "id": "8986619c",
   "metadata": {},
   "outputs": [
    {
     "data": {
      "application/vnd.plotly.v1+json": {
       "config": {
        "plotlyServerURL": "https://plot.ly"
       },
       "data": [
        {
         "line": {
          "color": "black",
          "width": 2
         },
         "marker": {
          "size": 5
         },
         "mode": "lines+markers",
         "name": "Season 24/25 (4,330 ST)",
         "type": "scatter",
         "x": [
          1,
          2,
          3,
          4,
          5,
          6,
          7,
          8,
          9,
          10,
          11,
          12,
          13,
          14,
          15,
          16,
          17,
          18,
          19,
          20,
          21,
          22,
          23,
          24,
          25,
          26,
          27,
          28,
          29,
          30,
          31,
          32,
          33,
          34,
          35,
          36,
          37,
          38,
          39,
          40,
          41,
          42,
          43,
          44,
          45,
          46,
          47,
          48,
          49,
          50,
          51,
          52,
          53,
          54,
          55,
          56,
          57,
          58,
          59,
          60,
          61,
          62,
          63,
          64,
          65,
          66,
          67,
          68,
          69,
          70,
          71,
          72,
          73,
          74,
          75,
          76,
          77,
          78,
          79,
          80,
          81,
          82,
          83,
          84,
          85,
          86,
          87,
          88,
          89,
          90,
          91,
          92,
          93,
          94,
          95,
          96,
          97,
          98,
          99,
          100,
          101,
          102,
          103,
          104,
          105,
          106,
          107,
          108,
          109,
          110,
          111,
          112,
          113,
          114,
          115,
          116,
          117,
          118,
          119,
          120,
          121,
          122,
          123,
          124,
          125,
          126,
          127,
          128,
          129,
          130,
          131,
          132,
          133,
          134,
          135,
          136,
          137,
          138,
          139,
          140,
          141,
          142,
          143,
          144,
          145,
          146,
          147,
          148,
          149,
          150,
          151,
          152,
          153,
          154,
          155,
          156,
          157,
          158,
          159
         ],
         "y": [
          184831,
          347931,
          376399,
          399134,
          511137,
          591577,
          644463,
          731078,
          821933,
          829563,
          832863,
          904148,
          993508,
          1088613,
          1138601,
          1191026,
          1199434,
          1203524,
          1260894,
          1332249,
          1364294,
          1430334,
          1451344,
          1456294,
          1456994,
          1491879,
          1520994,
          1571169,
          1607049,
          1706944,
          1709044,
          1710724,
          1741274,
          1774044,
          1828724,
          1876109,
          1907179,
          1910979,
          1912029,
          1954239,
          2032219,
          2038644,
          2130434,
          2250114,
          2280399,
          2282809,
          2342574,
          2384619,
          2407364,
          2442169,
          2468454,
          2471854,
          2484074,
          2531994,
          2558574,
          2581134,
          2605679,
          2618334,
          2619884,
          2621334,
          2628474,
          2632724,
          2670559,
          2743229,
          2777959,
          2777959,
          2779509,
          2804479,
          2817199,
          2837009,
          2873769,
          2900249,
          2900249,
          2900249,
          2941864,
          2967864,
          3053934,
          3055734,
          3077684,
          3077684,
          3077684,
          3080184,
          3080734,
          3081334,
          3081334,
          3082434,
          3082434,
          3082434,
          3114194,
          3141444,
          3143784,
          3145434,
          3145434,
          3146734,
          3146734,
          3214454,
          3302454,
          3489214,
          3870364,
          3884794,
          3884794,
          3884794,
          3896044,
          3899874,
          3912284,
          3913584,
          3913584,
          3913584,
          3913584,
          3914984,
          4213134,
          4490934,
          4490934,
          4490934,
          4491684,
          4492334,
          4801744,
          4815704,
          4815704,
          4962254,
          4985654,
          4985654,
          4985654,
          4986254,
          5080684,
          5212774,
          5214664,
          5214664,
          5214664,
          5214664,
          5263709,
          5364259,
          5364259,
          5414259,
          5415359,
          5415359,
          5415359,
          5417909,
          5476709,
          5486709,
          5577569,
          5602569,
          5602569,
          5602569,
          5602569,
          5602569,
          5613609,
          5613609,
          5613609,
          5613609,
          5613609,
          5613609,
          5613609,
          5631859,
          5670659,
          5678389,
          5678389,
          5678389,
          5696689
         ]
        },
        {
         "line": {
          "color": "red",
          "width": 2
         },
         "marker": {
          "size": 5
         },
         "mode": "lines+markers",
         "name": "Season 25/26 (2,273 ST)",
         "type": "scatter",
         "x": [
          1,
          2,
          3,
          4,
          5,
          6,
          7,
          8
         ],
         "y": [
          1291691,
          1643768,
          1795828,
          2534686,
          2768276,
          2889626,
          2892986,
          2893836
         ]
        }
       ],
       "layout": {
        "annotations": [
         {
          "arrowcolor": "red",
          "arrowhead": 2,
          "ax": 20,
          "ay": -40,
          "font": {
           "color": "red"
          },
          "showarrow": true,
          "text": "Day 8<br>2,893,836₪",
          "x": 8,
          "y": 2893836
         },
         {
          "arrowcolor": "black",
          "arrowhead": 2,
          "ax": 60,
          "ay": -90,
          "font": {
           "color": "black"
          },
          "showarrow": true,
          "text": "Day 8<br>731,078₪",
          "x": 8,
          "y": 731078
         }
        ],
        "height": 600,
        "legend": {
         "font": {
          "size": 12
         }
        },
        "paper_bgcolor": "white",
        "plot_bgcolor": "white",
        "template": {
         "data": {
          "bar": [
           {
            "error_x": {
             "color": "#2a3f5f"
            },
            "error_y": {
             "color": "#2a3f5f"
            },
            "marker": {
             "line": {
              "color": "#E5ECF6",
              "width": 0.5
             },
             "pattern": {
              "fillmode": "overlay",
              "size": 10,
              "solidity": 0.2
             }
            },
            "type": "bar"
           }
          ],
          "barpolar": [
           {
            "marker": {
             "line": {
              "color": "#E5ECF6",
              "width": 0.5
             },
             "pattern": {
              "fillmode": "overlay",
              "size": 10,
              "solidity": 0.2
             }
            },
            "type": "barpolar"
           }
          ],
          "carpet": [
           {
            "aaxis": {
             "endlinecolor": "#2a3f5f",
             "gridcolor": "white",
             "linecolor": "white",
             "minorgridcolor": "white",
             "startlinecolor": "#2a3f5f"
            },
            "baxis": {
             "endlinecolor": "#2a3f5f",
             "gridcolor": "white",
             "linecolor": "white",
             "minorgridcolor": "white",
             "startlinecolor": "#2a3f5f"
            },
            "type": "carpet"
           }
          ],
          "choropleth": [
           {
            "colorbar": {
             "outlinewidth": 0,
             "ticks": ""
            },
            "type": "choropleth"
           }
          ],
          "contour": [
           {
            "colorbar": {
             "outlinewidth": 0,
             "ticks": ""
            },
            "colorscale": [
             [
              0,
              "#0d0887"
             ],
             [
              0.1111111111111111,
              "#46039f"
             ],
             [
              0.2222222222222222,
              "#7201a8"
             ],
             [
              0.3333333333333333,
              "#9c179e"
             ],
             [
              0.4444444444444444,
              "#bd3786"
             ],
             [
              0.5555555555555556,
              "#d8576b"
             ],
             [
              0.6666666666666666,
              "#ed7953"
             ],
             [
              0.7777777777777778,
              "#fb9f3a"
             ],
             [
              0.8888888888888888,
              "#fdca26"
             ],
             [
              1,
              "#f0f921"
             ]
            ],
            "type": "contour"
           }
          ],
          "contourcarpet": [
           {
            "colorbar": {
             "outlinewidth": 0,
             "ticks": ""
            },
            "type": "contourcarpet"
           }
          ],
          "heatmap": [
           {
            "colorbar": {
             "outlinewidth": 0,
             "ticks": ""
            },
            "colorscale": [
             [
              0,
              "#0d0887"
             ],
             [
              0.1111111111111111,
              "#46039f"
             ],
             [
              0.2222222222222222,
              "#7201a8"
             ],
             [
              0.3333333333333333,
              "#9c179e"
             ],
             [
              0.4444444444444444,
              "#bd3786"
             ],
             [
              0.5555555555555556,
              "#d8576b"
             ],
             [
              0.6666666666666666,
              "#ed7953"
             ],
             [
              0.7777777777777778,
              "#fb9f3a"
             ],
             [
              0.8888888888888888,
              "#fdca26"
             ],
             [
              1,
              "#f0f921"
             ]
            ],
            "type": "heatmap"
           }
          ],
          "heatmapgl": [
           {
            "colorbar": {
             "outlinewidth": 0,
             "ticks": ""
            },
            "colorscale": [
             [
              0,
              "#0d0887"
             ],
             [
              0.1111111111111111,
              "#46039f"
             ],
             [
              0.2222222222222222,
              "#7201a8"
             ],
             [
              0.3333333333333333,
              "#9c179e"
             ],
             [
              0.4444444444444444,
              "#bd3786"
             ],
             [
              0.5555555555555556,
              "#d8576b"
             ],
             [
              0.6666666666666666,
              "#ed7953"
             ],
             [
              0.7777777777777778,
              "#fb9f3a"
             ],
             [
              0.8888888888888888,
              "#fdca26"
             ],
             [
              1,
              "#f0f921"
             ]
            ],
            "type": "heatmapgl"
           }
          ],
          "histogram": [
           {
            "marker": {
             "pattern": {
              "fillmode": "overlay",
              "size": 10,
              "solidity": 0.2
             }
            },
            "type": "histogram"
           }
          ],
          "histogram2d": [
           {
            "colorbar": {
             "outlinewidth": 0,
             "ticks": ""
            },
            "colorscale": [
             [
              0,
              "#0d0887"
             ],
             [
              0.1111111111111111,
              "#46039f"
             ],
             [
              0.2222222222222222,
              "#7201a8"
             ],
             [
              0.3333333333333333,
              "#9c179e"
             ],
             [
              0.4444444444444444,
              "#bd3786"
             ],
             [
              0.5555555555555556,
              "#d8576b"
             ],
             [
              0.6666666666666666,
              "#ed7953"
             ],
             [
              0.7777777777777778,
              "#fb9f3a"
             ],
             [
              0.8888888888888888,
              "#fdca26"
             ],
             [
              1,
              "#f0f921"
             ]
            ],
            "type": "histogram2d"
           }
          ],
          "histogram2dcontour": [
           {
            "colorbar": {
             "outlinewidth": 0,
             "ticks": ""
            },
            "colorscale": [
             [
              0,
              "#0d0887"
             ],
             [
              0.1111111111111111,
              "#46039f"
             ],
             [
              0.2222222222222222,
              "#7201a8"
             ],
             [
              0.3333333333333333,
              "#9c179e"
             ],
             [
              0.4444444444444444,
              "#bd3786"
             ],
             [
              0.5555555555555556,
              "#d8576b"
             ],
             [
              0.6666666666666666,
              "#ed7953"
             ],
             [
              0.7777777777777778,
              "#fb9f3a"
             ],
             [
              0.8888888888888888,
              "#fdca26"
             ],
             [
              1,
              "#f0f921"
             ]
            ],
            "type": "histogram2dcontour"
           }
          ],
          "mesh3d": [
           {
            "colorbar": {
             "outlinewidth": 0,
             "ticks": ""
            },
            "type": "mesh3d"
           }
          ],
          "parcoords": [
           {
            "line": {
             "colorbar": {
              "outlinewidth": 0,
              "ticks": ""
             }
            },
            "type": "parcoords"
           }
          ],
          "pie": [
           {
            "automargin": true,
            "type": "pie"
           }
          ],
          "scatter": [
           {
            "fillpattern": {
             "fillmode": "overlay",
             "size": 10,
             "solidity": 0.2
            },
            "type": "scatter"
           }
          ],
          "scatter3d": [
           {
            "line": {
             "colorbar": {
              "outlinewidth": 0,
              "ticks": ""
             }
            },
            "marker": {
             "colorbar": {
              "outlinewidth": 0,
              "ticks": ""
             }
            },
            "type": "scatter3d"
           }
          ],
          "scattercarpet": [
           {
            "marker": {
             "colorbar": {
              "outlinewidth": 0,
              "ticks": ""
             }
            },
            "type": "scattercarpet"
           }
          ],
          "scattergeo": [
           {
            "marker": {
             "colorbar": {
              "outlinewidth": 0,
              "ticks": ""
             }
            },
            "type": "scattergeo"
           }
          ],
          "scattergl": [
           {
            "marker": {
             "colorbar": {
              "outlinewidth": 0,
              "ticks": ""
             }
            },
            "type": "scattergl"
           }
          ],
          "scattermapbox": [
           {
            "marker": {
             "colorbar": {
              "outlinewidth": 0,
              "ticks": ""
             }
            },
            "type": "scattermapbox"
           }
          ],
          "scatterpolar": [
           {
            "marker": {
             "colorbar": {
              "outlinewidth": 0,
              "ticks": ""
             }
            },
            "type": "scatterpolar"
           }
          ],
          "scatterpolargl": [
           {
            "marker": {
             "colorbar": {
              "outlinewidth": 0,
              "ticks": ""
             }
            },
            "type": "scatterpolargl"
           }
          ],
          "scatterternary": [
           {
            "marker": {
             "colorbar": {
              "outlinewidth": 0,
              "ticks": ""
             }
            },
            "type": "scatterternary"
           }
          ],
          "surface": [
           {
            "colorbar": {
             "outlinewidth": 0,
             "ticks": ""
            },
            "colorscale": [
             [
              0,
              "#0d0887"
             ],
             [
              0.1111111111111111,
              "#46039f"
             ],
             [
              0.2222222222222222,
              "#7201a8"
             ],
             [
              0.3333333333333333,
              "#9c179e"
             ],
             [
              0.4444444444444444,
              "#bd3786"
             ],
             [
              0.5555555555555556,
              "#d8576b"
             ],
             [
              0.6666666666666666,
              "#ed7953"
             ],
             [
              0.7777777777777778,
              "#fb9f3a"
             ],
             [
              0.8888888888888888,
              "#fdca26"
             ],
             [
              1,
              "#f0f921"
             ]
            ],
            "type": "surface"
           }
          ],
          "table": [
           {
            "cells": {
             "fill": {
              "color": "#EBF0F8"
             },
             "line": {
              "color": "white"
             }
            },
            "header": {
             "fill": {
              "color": "#C8D4E3"
             },
             "line": {
              "color": "white"
             }
            },
            "type": "table"
           }
          ]
         },
         "layout": {
          "annotationdefaults": {
           "arrowcolor": "#2a3f5f",
           "arrowhead": 0,
           "arrowwidth": 1
          },
          "autotypenumbers": "strict",
          "coloraxis": {
           "colorbar": {
            "outlinewidth": 0,
            "ticks": ""
           }
          },
          "colorscale": {
           "diverging": [
            [
             0,
             "#8e0152"
            ],
            [
             0.1,
             "#c51b7d"
            ],
            [
             0.2,
             "#de77ae"
            ],
            [
             0.3,
             "#f1b6da"
            ],
            [
             0.4,
             "#fde0ef"
            ],
            [
             0.5,
             "#f7f7f7"
            ],
            [
             0.6,
             "#e6f5d0"
            ],
            [
             0.7,
             "#b8e186"
            ],
            [
             0.8,
             "#7fbc41"
            ],
            [
             0.9,
             "#4d9221"
            ],
            [
             1,
             "#276419"
            ]
           ],
           "sequential": [
            [
             0,
             "#0d0887"
            ],
            [
             0.1111111111111111,
             "#46039f"
            ],
            [
             0.2222222222222222,
             "#7201a8"
            ],
            [
             0.3333333333333333,
             "#9c179e"
            ],
            [
             0.4444444444444444,
             "#bd3786"
            ],
            [
             0.5555555555555556,
             "#d8576b"
            ],
            [
             0.6666666666666666,
             "#ed7953"
            ],
            [
             0.7777777777777778,
             "#fb9f3a"
            ],
            [
             0.8888888888888888,
             "#fdca26"
            ],
            [
             1,
             "#f0f921"
            ]
           ],
           "sequentialminus": [
            [
             0,
             "#0d0887"
            ],
            [
             0.1111111111111111,
             "#46039f"
            ],
            [
             0.2222222222222222,
             "#7201a8"
            ],
            [
             0.3333333333333333,
             "#9c179e"
            ],
            [
             0.4444444444444444,
             "#bd3786"
            ],
            [
             0.5555555555555556,
             "#d8576b"
            ],
            [
             0.6666666666666666,
             "#ed7953"
            ],
            [
             0.7777777777777778,
             "#fb9f3a"
            ],
            [
             0.8888888888888888,
             "#fdca26"
            ],
            [
             1,
             "#f0f921"
            ]
           ]
          },
          "colorway": [
           "#636efa",
           "#EF553B",
           "#00cc96",
           "#ab63fa",
           "#FFA15A",
           "#19d3f3",
           "#FF6692",
           "#B6E880",
           "#FF97FF",
           "#FECB52"
          ],
          "font": {
           "color": "#2a3f5f"
          },
          "geo": {
           "bgcolor": "white",
           "lakecolor": "white",
           "landcolor": "#E5ECF6",
           "showlakes": true,
           "showland": true,
           "subunitcolor": "white"
          },
          "hoverlabel": {
           "align": "left"
          },
          "hovermode": "closest",
          "mapbox": {
           "style": "light"
          },
          "paper_bgcolor": "white",
          "plot_bgcolor": "#E5ECF6",
          "polar": {
           "angularaxis": {
            "gridcolor": "white",
            "linecolor": "white",
            "ticks": ""
           },
           "bgcolor": "#E5ECF6",
           "radialaxis": {
            "gridcolor": "white",
            "linecolor": "white",
            "ticks": ""
           }
          },
          "scene": {
           "xaxis": {
            "backgroundcolor": "#E5ECF6",
            "gridcolor": "white",
            "gridwidth": 2,
            "linecolor": "white",
            "showbackground": true,
            "ticks": "",
            "zerolinecolor": "white"
           },
           "yaxis": {
            "backgroundcolor": "#E5ECF6",
            "gridcolor": "white",
            "gridwidth": 2,
            "linecolor": "white",
            "showbackground": true,
            "ticks": "",
            "zerolinecolor": "white"
           },
           "zaxis": {
            "backgroundcolor": "#E5ECF6",
            "gridcolor": "white",
            "gridwidth": 2,
            "linecolor": "white",
            "showbackground": true,
            "ticks": "",
            "zerolinecolor": "white"
           }
          },
          "shapedefaults": {
           "line": {
            "color": "#2a3f5f"
           }
          },
          "ternary": {
           "aaxis": {
            "gridcolor": "white",
            "linecolor": "white",
            "ticks": ""
           },
           "baxis": {
            "gridcolor": "white",
            "linecolor": "white",
            "ticks": ""
           },
           "bgcolor": "#E5ECF6",
           "caxis": {
            "gridcolor": "white",
            "linecolor": "white",
            "ticks": ""
           }
          },
          "title": {
           "x": 0.05
          },
          "xaxis": {
           "automargin": true,
           "gridcolor": "white",
           "linecolor": "white",
           "ticks": "",
           "title": {
            "standoff": 15
           },
           "zerolinecolor": "white",
           "zerolinewidth": 2
          },
          "yaxis": {
           "automargin": true,
           "gridcolor": "white",
           "linecolor": "white",
           "ticks": "",
           "title": {
            "standoff": 15
           },
           "zerolinecolor": "white",
           "zerolinewidth": 2
          }
         }
        },
        "title": {
         "font": {
          "size": 20
         },
         "text": "Cumulative Revenue Over Time",
         "x": 0.5
        },
        "width": 1000,
        "xaxis": {
         "dtick": 7,
         "range": [
          1,
          160
         ],
         "tick0": 1,
         "tickangle": 45,
         "tickfont": {
          "size": 12
         },
         "title": {
          "text": "Days Since the Season Ticket Renewals Period Opening"
         }
        },
        "yaxis": {
         "gridcolor": "lightgray",
         "tickfont": {
          "size": 12
         },
         "title": {
          "text": "Cumulative Revenue"
         },
         "zeroline": false
        }
       }
      }
     },
     "metadata": {},
     "output_type": "display_data"
    }
   ],
   "source": [
    "def plot_cumulative_revenue_comparison(st_2425, perc):\n",
    "    OPENING_DATE_2425 = pd.to_datetime(\"2024-07-03\")\n",
    "    OPENING_DATE_2526 = pd.to_datetime(\"2025-06-05\")\n",
    "\n",
    "    st_count_2425 = st_2425.shape[0]\n",
    "    st_count_2526 = perc.shape[0]\n",
    "\n",
    "    # Prepare data\n",
    "    daily_revenue_2425 = prepare_cumulative_revenue(st_2425, OPENING_DATE_2425)\n",
    "    daily_revenue_2526 = prepare_cumulative_revenue(perc, OPENING_DATE_2526)\n",
    "\n",
    "    fig = go.Figure()\n",
    "\n",
    "    # 24/25 Trace\n",
    "    fig.add_trace(go.Scatter(\n",
    "        x=daily_revenue_2425['Days Since Opening'],\n",
    "        y=daily_revenue_2425['Cumulative Revenue'],\n",
    "        mode='lines+markers',\n",
    "        name=f'Season 24/25 ({st_count_2425:,} ST)',\n",
    "        line=dict(color='black', width=2),\n",
    "        marker=dict(size=5)\n",
    "    ))\n",
    "\n",
    "    # 25/26 Trace\n",
    "    fig.add_trace(go.Scatter(\n",
    "        x=daily_revenue_2526['Days Since Opening'],\n",
    "        y=daily_revenue_2526['Cumulative Revenue'],\n",
    "        mode='lines+markers',\n",
    "        name=f'Season 25/26 ({st_count_2526:,} ST)',\n",
    "        line=dict(color='red', width=2),\n",
    "        marker=dict(size=5)\n",
    "    ))\n",
    "\n",
    "    # Annotations\n",
    "    last_day = daily_revenue_2526['Days Since Opening'].max()\n",
    "    last_rev_2526 = daily_revenue_2526.loc[daily_revenue_2526['Days Since Opening'] == last_day, 'Cumulative Revenue'].values[0]\n",
    "    last_rev_2425 = daily_revenue_2425.loc[daily_revenue_2425['Days Since Opening'] == last_day, 'Cumulative Revenue']\n",
    "    last_rev_2425 = last_rev_2425.values[0] if not last_rev_2425.empty else None\n",
    "\n",
    "    fig.add_annotation(\n",
    "        x=last_day,\n",
    "        y=last_rev_2526,\n",
    "        text=f'Day {last_day}<br>{last_rev_2526:,.0f}₪',\n",
    "        showarrow=True,\n",
    "        arrowhead=2,\n",
    "        ax=20,\n",
    "        ay=-40,\n",
    "        font=dict(color='red'),\n",
    "        arrowcolor='red'\n",
    "    )\n",
    "\n",
    "    if last_rev_2425 is not None:\n",
    "        fig.add_annotation(\n",
    "            x=last_day,\n",
    "            y=last_rev_2425,\n",
    "            text=f'Day {last_day}<br>{last_rev_2425:,.0f}₪',\n",
    "            showarrow=True,\n",
    "            arrowhead=2,\n",
    "            ax=60,\n",
    "            ay=-90,\n",
    "            font=dict(color='black'),\n",
    "            arrowcolor='black'\n",
    "        )\n",
    "\n",
    "    # Layout\n",
    "    fig.update_layout(\n",
    "        title=dict(\n",
    "            text='Cumulative Revenue Over Time',\n",
    "            x=0.5,\n",
    "            font=dict(size=20)\n",
    "        ),\n",
    "        xaxis=dict(\n",
    "            title='Days Since the Season Ticket Renewals Period Opening',\n",
    "            tickfont=dict(size=12),\n",
    "            tick0=1,\n",
    "            dtick=7,\n",
    "            tickangle=45,\n",
    "            range=[1, max(daily_revenue_2425['Days Since Opening'].max(), daily_revenue_2526['Days Since Opening'].max()) + 1]\n",
    "        ),\n",
    "        yaxis=dict(\n",
    "            title='Cumulative Revenue',\n",
    "            tickfont=dict(size=12),\n",
    "            zeroline=False,\n",
    "            gridcolor='lightgray',\n",
    "        ),\n",
    "        width=1000,\n",
    "        height=600,\n",
    "        plot_bgcolor='white',\n",
    "        paper_bgcolor='white',\n",
    "        legend=dict(font=dict(size=12)),\n",
    "    )\n",
    "\n",
    "    fig.show()\n",
    "\n",
    "# Call\n",
    "plot_cumulative_revenue_comparison(st_2425, perc)"
   ]
  },
  {
   "cell_type": "code",
   "execution_count": 17,
   "id": "fd200a11",
   "metadata": {},
   "outputs": [],
   "source": [
    "def prepare_cumulative_count(df, open_date=None, days_limit=160):\n",
    "    df = df.copy()\n",
    "\n",
    "    # Determine which date column to use\n",
    "    date_column = 'Date.1' if 'Date.1' in df.columns else 'sale_date'\n",
    "\n",
    "    if 'Date.1' in df.columns:\n",
    "        sample = str(df['Date.1'].dropna().iloc[0])\n",
    "        if '/' in sample:\n",
    "            # st_2324 style: DD/MM/YYYY\n",
    "            df['Date'] = pd.to_datetime(df['Date.1'], format='%d/%m/%Y', errors='coerce')\n",
    "        else:\n",
    "            # ISO style: YYYY-MM-DD\n",
    "            df['Date'] = pd.to_datetime(df['Date.1'], errors='coerce')\n",
    "\n",
    "    # Filter for valid 2023/2024 ranges\n",
    "    before_filter = len(df)\n",
    "    df = df[\n",
    "        ((df['Date'].dt.year == 2023) & (df['Date'].dt.month >= 6) & (df['Date'] >= pd.Timestamp('2023-06-25'))) |\n",
    "        (df['Date'].dt.year >= 2024)\n",
    "    ]\n",
    "    after_filter = len(df)\n",
    "\n",
    "    # Drop rows with failed date parsing\n",
    "    df = df.dropna(subset=['Date'])\n",
    "\n",
    "    # Set the open date\n",
    "    if open_date is None:\n",
    "        open_date = df['Date'].min()\n",
    "\n",
    "    # Remove dates before opening\n",
    "    before_open_filter = len(df)\n",
    "    df = df[df['Date'] >= open_date]\n",
    "    after_open_filter = len(df)\n",
    "\n",
    "    if df.empty:\n",
    "        raise ValueError(\"No data remaining after applying date filters.\")\n",
    "\n",
    "    # Daily and cumulative count\n",
    "    count = (\n",
    "        df.groupby('Date')\n",
    "        .size()\n",
    "        .reindex(pd.date_range(df['Date'].min(), df['Date'].max()), fill_value=0)\n",
    "        .rename_axis('Date')\n",
    "        .reset_index(name='daily_count')\n",
    "    )\n",
    "\n",
    "    count['Days Since Opening'] = (count['Date'] - open_date).dt.days + 1\n",
    "    count = count[count['Days Since Opening'] < days_limit]\n",
    "    count['Cumulative Count'] = count['daily_count'].cumsum()\n",
    "\n",
    "    return count\n"
   ]
  },
  {
   "cell_type": "code",
   "execution_count": 18,
   "id": "1a70e8c7",
   "metadata": {},
   "outputs": [
    {
     "data": {
      "application/vnd.plotly.v1+json": {
       "config": {
        "plotlyServerURL": "https://plot.ly"
       },
       "data": [
        {
         "line": {
          "color": "gray",
          "width": 2
         },
         "marker": {
          "size": 5
         },
         "mode": "lines+markers",
         "name": "Season 23/24 (4,253 ST)",
         "type": "scatter",
         "x": [
          1,
          2,
          3,
          4,
          5,
          6,
          7,
          8,
          9,
          10,
          11,
          12,
          13,
          14,
          15,
          16,
          17,
          18,
          19,
          20,
          21,
          22,
          23,
          24,
          25,
          26,
          27,
          28,
          29,
          30,
          31,
          32,
          33,
          34,
          35,
          36,
          37,
          38,
          39,
          40,
          41,
          42,
          43,
          44,
          45,
          46,
          47,
          48,
          49,
          50,
          51,
          52,
          53,
          54,
          55,
          56,
          57,
          58,
          59,
          60,
          61,
          62,
          63,
          64,
          65,
          66,
          67,
          68,
          69,
          70,
          71,
          72,
          73,
          74,
          75,
          76,
          77,
          78,
          79,
          80,
          81,
          82,
          83,
          84,
          85,
          86,
          87,
          88,
          89,
          90,
          91,
          92,
          93,
          94,
          95,
          96,
          97,
          98,
          99,
          100,
          101,
          102,
          103,
          104,
          105,
          106,
          107,
          108,
          109,
          110,
          111,
          112,
          113,
          114,
          115,
          116,
          117,
          118,
          119,
          120,
          121,
          122,
          123,
          124,
          125,
          126,
          127,
          128,
          129,
          130,
          131,
          132,
          133,
          134,
          135,
          136,
          137,
          138,
          139,
          140,
          141,
          142,
          143,
          144,
          145,
          146,
          147,
          148,
          149,
          150,
          151,
          152,
          153,
          154,
          155,
          156,
          157,
          158,
          159
         ],
         "y": [
          358,
          553,
          668,
          763,
          768,
          781,
          882,
          965,
          1087,
          1163,
          1237,
          1255,
          1261,
          1333,
          1413,
          1497,
          1586,
          1648,
          1657,
          1664,
          1710,
          1798,
          1894,
          1973,
          2030,
          2037,
          2043,
          2118,
          2189,
          2313,
          2334,
          2342,
          2343,
          2346,
          2386,
          2395,
          2401,
          2409,
          2415,
          2416,
          2422,
          2452,
          2457,
          2477,
          2516,
          2549,
          2550,
          2554,
          2581,
          2600,
          2617,
          2631,
          2642,
          2643,
          2643,
          2653,
          2662,
          2672,
          2682,
          2694,
          2695,
          2695,
          2715,
          2718,
          2726,
          2740,
          2763,
          2764,
          2764,
          2787,
          2803,
          2824,
          2835,
          2884,
          2885,
          2885,
          2949,
          3021,
          3047,
          3061,
          3071,
          3072,
          3073,
          3073,
          3168,
          3246,
          3283,
          3290,
          3290,
          3290,
          3293,
          3294,
          3368,
          3386,
          3396,
          3396,
          3396,
          3427,
          3439,
          3475,
          3492,
          3500,
          3501,
          3501,
          3502,
          3504,
          3504,
          3504,
          3504,
          3504,
          3504,
          3504,
          3504,
          3504,
          3504,
          3504,
          3504,
          3504,
          3510,
          3511,
          3512,
          3514,
          3514,
          3514,
          3514,
          3515,
          3515,
          3515,
          3517,
          3523,
          3523,
          3523,
          3524,
          3524,
          3524,
          3525,
          3525,
          3525,
          3525,
          3525,
          3525,
          3525,
          3525,
          3532,
          3532,
          3532,
          3532,
          3532,
          3532,
          3538,
          3538,
          3538,
          3538,
          3541,
          3541,
          3541,
          3542,
          3542,
          3542
         ]
        },
        {
         "line": {
          "color": "black",
          "width": 2
         },
         "marker": {
          "size": 5
         },
         "mode": "lines+markers",
         "name": "Season 24/25 (4,330 ST)",
         "type": "scatter",
         "x": [
          1,
          2,
          3,
          4,
          5,
          6,
          7,
          8,
          9,
          10,
          11,
          12,
          13,
          14,
          15,
          16,
          17,
          18,
          19,
          20,
          21,
          22,
          23,
          24,
          25,
          26,
          27,
          28,
          29,
          30,
          31,
          32,
          33,
          34,
          35,
          36,
          37,
          38,
          39,
          40,
          41,
          42,
          43,
          44,
          45,
          46,
          47,
          48,
          49,
          50,
          51,
          52,
          53,
          54,
          55,
          56,
          57,
          58,
          59,
          60,
          61,
          62,
          63,
          64,
          65,
          66,
          67,
          68,
          69,
          70,
          71,
          72,
          73,
          74,
          75,
          76,
          77,
          78,
          79,
          80,
          81,
          82,
          83,
          84,
          85,
          86,
          87,
          88,
          89,
          90,
          91,
          92,
          93,
          94,
          95,
          96,
          97,
          98,
          99,
          100,
          101,
          102,
          103,
          104,
          105,
          106,
          107,
          108,
          109,
          110,
          111,
          112,
          113,
          114,
          115,
          116,
          117,
          118,
          119,
          120,
          121,
          122,
          123,
          124,
          125,
          126,
          127,
          128,
          129,
          130,
          131,
          132,
          133,
          134,
          135,
          136,
          137,
          138,
          139,
          140,
          141,
          142,
          143,
          144,
          145,
          146,
          147,
          148,
          149,
          150,
          151,
          152,
          153,
          154,
          155,
          156,
          157,
          158,
          159
         ],
         "y": [
          159,
          295,
          320,
          339,
          440,
          516,
          572,
          659,
          737,
          746,
          751,
          820,
          905,
          974,
          1030,
          1081,
          1088,
          1092,
          1142,
          1204,
          1234,
          1285,
          1310,
          1315,
          1316,
          1343,
          1373,
          1423,
          1466,
          1553,
          1554,
          1557,
          1587,
          1620,
          1669,
          1712,
          1752,
          1758,
          1759,
          1797,
          1870,
          1877,
          1971,
          2091,
          2121,
          2124,
          2176,
          2212,
          2238,
          2279,
          2310,
          2313,
          2332,
          2435,
          2481,
          2511,
          2542,
          2559,
          2561,
          2563,
          2571,
          2577,
          2635,
          2696,
          2724,
          2724,
          2726,
          2762,
          2797,
          2822,
          2852,
          2882,
          2882,
          2882,
          2910,
          2975,
          3010,
          3027,
          3071,
          3071,
          3071,
          3082,
          3098,
          3099,
          3109,
          3121,
          3121,
          3121,
          3127,
          3170,
          3178,
          3179,
          3179,
          3180,
          3180,
          3221,
          3236,
          3266,
          3407,
          3441,
          3442,
          3442,
          3501,
          3507,
          3541,
          3542,
          3542,
          3542,
          3542,
          3546,
          3691,
          3754,
          3754,
          3754,
          3755,
          3765,
          3799,
          3832,
          3847,
          3876,
          3883,
          3883,
          3883,
          3894,
          3910,
          3918,
          3923,
          3926,
          3926,
          3926,
          3936,
          3955,
          3955,
          3959,
          3963,
          3963,
          3968,
          3984,
          3996,
          3998,
          4013,
          4015,
          4015,
          4015,
          4018,
          4018,
          4028,
          4028,
          4028,
          4028,
          4028,
          4029,
          4030,
          4034,
          4063,
          4081,
          4081,
          4085,
          4091
         ]
        },
        {
         "line": {
          "color": "red",
          "width": 2
         },
         "marker": {
          "size": 5
         },
         "mode": "lines+markers",
         "name": "Season 25/26 (2,273 ST)",
         "type": "scatter",
         "x": [
          1,
          2,
          3,
          4,
          5,
          6,
          7,
          8
         ],
         "y": [
          1038,
          1336,
          1462,
          2022,
          2180,
          2267,
          2270,
          2271
         ]
        }
       ],
       "layout": {
        "annotations": [
         {
          "arrowcolor": "gray",
          "arrowhead": 2,
          "ax": 10,
          "ay": -60,
          "font": {
           "color": "gray"
          },
          "showarrow": true,
          "text": "Day 8<br>965 ST",
          "x": 8,
          "y": 965
         },
         {
          "arrowcolor": "black",
          "arrowhead": 2,
          "ax": 100,
          "ay": -20,
          "font": {
           "color": "black"
          },
          "showarrow": true,
          "text": "Day 8<br>659 ST",
          "x": 8,
          "y": 659
         },
         {
          "arrowcolor": "red",
          "arrowhead": 2,
          "ax": 80,
          "ay": -40,
          "font": {
           "color": "red"
          },
          "showarrow": true,
          "text": "Day 8<br>2,271 ST",
          "x": 8.6,
          "y": 2371
         }
        ],
        "height": 600,
        "legend": {
         "font": {
          "size": 12
         }
        },
        "paper_bgcolor": "white",
        "plot_bgcolor": "white",
        "template": {
         "data": {
          "bar": [
           {
            "error_x": {
             "color": "#2a3f5f"
            },
            "error_y": {
             "color": "#2a3f5f"
            },
            "marker": {
             "line": {
              "color": "#E5ECF6",
              "width": 0.5
             },
             "pattern": {
              "fillmode": "overlay",
              "size": 10,
              "solidity": 0.2
             }
            },
            "type": "bar"
           }
          ],
          "barpolar": [
           {
            "marker": {
             "line": {
              "color": "#E5ECF6",
              "width": 0.5
             },
             "pattern": {
              "fillmode": "overlay",
              "size": 10,
              "solidity": 0.2
             }
            },
            "type": "barpolar"
           }
          ],
          "carpet": [
           {
            "aaxis": {
             "endlinecolor": "#2a3f5f",
             "gridcolor": "white",
             "linecolor": "white",
             "minorgridcolor": "white",
             "startlinecolor": "#2a3f5f"
            },
            "baxis": {
             "endlinecolor": "#2a3f5f",
             "gridcolor": "white",
             "linecolor": "white",
             "minorgridcolor": "white",
             "startlinecolor": "#2a3f5f"
            },
            "type": "carpet"
           }
          ],
          "choropleth": [
           {
            "colorbar": {
             "outlinewidth": 0,
             "ticks": ""
            },
            "type": "choropleth"
           }
          ],
          "contour": [
           {
            "colorbar": {
             "outlinewidth": 0,
             "ticks": ""
            },
            "colorscale": [
             [
              0,
              "#0d0887"
             ],
             [
              0.1111111111111111,
              "#46039f"
             ],
             [
              0.2222222222222222,
              "#7201a8"
             ],
             [
              0.3333333333333333,
              "#9c179e"
             ],
             [
              0.4444444444444444,
              "#bd3786"
             ],
             [
              0.5555555555555556,
              "#d8576b"
             ],
             [
              0.6666666666666666,
              "#ed7953"
             ],
             [
              0.7777777777777778,
              "#fb9f3a"
             ],
             [
              0.8888888888888888,
              "#fdca26"
             ],
             [
              1,
              "#f0f921"
             ]
            ],
            "type": "contour"
           }
          ],
          "contourcarpet": [
           {
            "colorbar": {
             "outlinewidth": 0,
             "ticks": ""
            },
            "type": "contourcarpet"
           }
          ],
          "heatmap": [
           {
            "colorbar": {
             "outlinewidth": 0,
             "ticks": ""
            },
            "colorscale": [
             [
              0,
              "#0d0887"
             ],
             [
              0.1111111111111111,
              "#46039f"
             ],
             [
              0.2222222222222222,
              "#7201a8"
             ],
             [
              0.3333333333333333,
              "#9c179e"
             ],
             [
              0.4444444444444444,
              "#bd3786"
             ],
             [
              0.5555555555555556,
              "#d8576b"
             ],
             [
              0.6666666666666666,
              "#ed7953"
             ],
             [
              0.7777777777777778,
              "#fb9f3a"
             ],
             [
              0.8888888888888888,
              "#fdca26"
             ],
             [
              1,
              "#f0f921"
             ]
            ],
            "type": "heatmap"
           }
          ],
          "heatmapgl": [
           {
            "colorbar": {
             "outlinewidth": 0,
             "ticks": ""
            },
            "colorscale": [
             [
              0,
              "#0d0887"
             ],
             [
              0.1111111111111111,
              "#46039f"
             ],
             [
              0.2222222222222222,
              "#7201a8"
             ],
             [
              0.3333333333333333,
              "#9c179e"
             ],
             [
              0.4444444444444444,
              "#bd3786"
             ],
             [
              0.5555555555555556,
              "#d8576b"
             ],
             [
              0.6666666666666666,
              "#ed7953"
             ],
             [
              0.7777777777777778,
              "#fb9f3a"
             ],
             [
              0.8888888888888888,
              "#fdca26"
             ],
             [
              1,
              "#f0f921"
             ]
            ],
            "type": "heatmapgl"
           }
          ],
          "histogram": [
           {
            "marker": {
             "pattern": {
              "fillmode": "overlay",
              "size": 10,
              "solidity": 0.2
             }
            },
            "type": "histogram"
           }
          ],
          "histogram2d": [
           {
            "colorbar": {
             "outlinewidth": 0,
             "ticks": ""
            },
            "colorscale": [
             [
              0,
              "#0d0887"
             ],
             [
              0.1111111111111111,
              "#46039f"
             ],
             [
              0.2222222222222222,
              "#7201a8"
             ],
             [
              0.3333333333333333,
              "#9c179e"
             ],
             [
              0.4444444444444444,
              "#bd3786"
             ],
             [
              0.5555555555555556,
              "#d8576b"
             ],
             [
              0.6666666666666666,
              "#ed7953"
             ],
             [
              0.7777777777777778,
              "#fb9f3a"
             ],
             [
              0.8888888888888888,
              "#fdca26"
             ],
             [
              1,
              "#f0f921"
             ]
            ],
            "type": "histogram2d"
           }
          ],
          "histogram2dcontour": [
           {
            "colorbar": {
             "outlinewidth": 0,
             "ticks": ""
            },
            "colorscale": [
             [
              0,
              "#0d0887"
             ],
             [
              0.1111111111111111,
              "#46039f"
             ],
             [
              0.2222222222222222,
              "#7201a8"
             ],
             [
              0.3333333333333333,
              "#9c179e"
             ],
             [
              0.4444444444444444,
              "#bd3786"
             ],
             [
              0.5555555555555556,
              "#d8576b"
             ],
             [
              0.6666666666666666,
              "#ed7953"
             ],
             [
              0.7777777777777778,
              "#fb9f3a"
             ],
             [
              0.8888888888888888,
              "#fdca26"
             ],
             [
              1,
              "#f0f921"
             ]
            ],
            "type": "histogram2dcontour"
           }
          ],
          "mesh3d": [
           {
            "colorbar": {
             "outlinewidth": 0,
             "ticks": ""
            },
            "type": "mesh3d"
           }
          ],
          "parcoords": [
           {
            "line": {
             "colorbar": {
              "outlinewidth": 0,
              "ticks": ""
             }
            },
            "type": "parcoords"
           }
          ],
          "pie": [
           {
            "automargin": true,
            "type": "pie"
           }
          ],
          "scatter": [
           {
            "fillpattern": {
             "fillmode": "overlay",
             "size": 10,
             "solidity": 0.2
            },
            "type": "scatter"
           }
          ],
          "scatter3d": [
           {
            "line": {
             "colorbar": {
              "outlinewidth": 0,
              "ticks": ""
             }
            },
            "marker": {
             "colorbar": {
              "outlinewidth": 0,
              "ticks": ""
             }
            },
            "type": "scatter3d"
           }
          ],
          "scattercarpet": [
           {
            "marker": {
             "colorbar": {
              "outlinewidth": 0,
              "ticks": ""
             }
            },
            "type": "scattercarpet"
           }
          ],
          "scattergeo": [
           {
            "marker": {
             "colorbar": {
              "outlinewidth": 0,
              "ticks": ""
             }
            },
            "type": "scattergeo"
           }
          ],
          "scattergl": [
           {
            "marker": {
             "colorbar": {
              "outlinewidth": 0,
              "ticks": ""
             }
            },
            "type": "scattergl"
           }
          ],
          "scattermapbox": [
           {
            "marker": {
             "colorbar": {
              "outlinewidth": 0,
              "ticks": ""
             }
            },
            "type": "scattermapbox"
           }
          ],
          "scatterpolar": [
           {
            "marker": {
             "colorbar": {
              "outlinewidth": 0,
              "ticks": ""
             }
            },
            "type": "scatterpolar"
           }
          ],
          "scatterpolargl": [
           {
            "marker": {
             "colorbar": {
              "outlinewidth": 0,
              "ticks": ""
             }
            },
            "type": "scatterpolargl"
           }
          ],
          "scatterternary": [
           {
            "marker": {
             "colorbar": {
              "outlinewidth": 0,
              "ticks": ""
             }
            },
            "type": "scatterternary"
           }
          ],
          "surface": [
           {
            "colorbar": {
             "outlinewidth": 0,
             "ticks": ""
            },
            "colorscale": [
             [
              0,
              "#0d0887"
             ],
             [
              0.1111111111111111,
              "#46039f"
             ],
             [
              0.2222222222222222,
              "#7201a8"
             ],
             [
              0.3333333333333333,
              "#9c179e"
             ],
             [
              0.4444444444444444,
              "#bd3786"
             ],
             [
              0.5555555555555556,
              "#d8576b"
             ],
             [
              0.6666666666666666,
              "#ed7953"
             ],
             [
              0.7777777777777778,
              "#fb9f3a"
             ],
             [
              0.8888888888888888,
              "#fdca26"
             ],
             [
              1,
              "#f0f921"
             ]
            ],
            "type": "surface"
           }
          ],
          "table": [
           {
            "cells": {
             "fill": {
              "color": "#EBF0F8"
             },
             "line": {
              "color": "white"
             }
            },
            "header": {
             "fill": {
              "color": "#C8D4E3"
             },
             "line": {
              "color": "white"
             }
            },
            "type": "table"
           }
          ]
         },
         "layout": {
          "annotationdefaults": {
           "arrowcolor": "#2a3f5f",
           "arrowhead": 0,
           "arrowwidth": 1
          },
          "autotypenumbers": "strict",
          "coloraxis": {
           "colorbar": {
            "outlinewidth": 0,
            "ticks": ""
           }
          },
          "colorscale": {
           "diverging": [
            [
             0,
             "#8e0152"
            ],
            [
             0.1,
             "#c51b7d"
            ],
            [
             0.2,
             "#de77ae"
            ],
            [
             0.3,
             "#f1b6da"
            ],
            [
             0.4,
             "#fde0ef"
            ],
            [
             0.5,
             "#f7f7f7"
            ],
            [
             0.6,
             "#e6f5d0"
            ],
            [
             0.7,
             "#b8e186"
            ],
            [
             0.8,
             "#7fbc41"
            ],
            [
             0.9,
             "#4d9221"
            ],
            [
             1,
             "#276419"
            ]
           ],
           "sequential": [
            [
             0,
             "#0d0887"
            ],
            [
             0.1111111111111111,
             "#46039f"
            ],
            [
             0.2222222222222222,
             "#7201a8"
            ],
            [
             0.3333333333333333,
             "#9c179e"
            ],
            [
             0.4444444444444444,
             "#bd3786"
            ],
            [
             0.5555555555555556,
             "#d8576b"
            ],
            [
             0.6666666666666666,
             "#ed7953"
            ],
            [
             0.7777777777777778,
             "#fb9f3a"
            ],
            [
             0.8888888888888888,
             "#fdca26"
            ],
            [
             1,
             "#f0f921"
            ]
           ],
           "sequentialminus": [
            [
             0,
             "#0d0887"
            ],
            [
             0.1111111111111111,
             "#46039f"
            ],
            [
             0.2222222222222222,
             "#7201a8"
            ],
            [
             0.3333333333333333,
             "#9c179e"
            ],
            [
             0.4444444444444444,
             "#bd3786"
            ],
            [
             0.5555555555555556,
             "#d8576b"
            ],
            [
             0.6666666666666666,
             "#ed7953"
            ],
            [
             0.7777777777777778,
             "#fb9f3a"
            ],
            [
             0.8888888888888888,
             "#fdca26"
            ],
            [
             1,
             "#f0f921"
            ]
           ]
          },
          "colorway": [
           "#636efa",
           "#EF553B",
           "#00cc96",
           "#ab63fa",
           "#FFA15A",
           "#19d3f3",
           "#FF6692",
           "#B6E880",
           "#FF97FF",
           "#FECB52"
          ],
          "font": {
           "color": "#2a3f5f"
          },
          "geo": {
           "bgcolor": "white",
           "lakecolor": "white",
           "landcolor": "#E5ECF6",
           "showlakes": true,
           "showland": true,
           "subunitcolor": "white"
          },
          "hoverlabel": {
           "align": "left"
          },
          "hovermode": "closest",
          "mapbox": {
           "style": "light"
          },
          "paper_bgcolor": "white",
          "plot_bgcolor": "#E5ECF6",
          "polar": {
           "angularaxis": {
            "gridcolor": "white",
            "linecolor": "white",
            "ticks": ""
           },
           "bgcolor": "#E5ECF6",
           "radialaxis": {
            "gridcolor": "white",
            "linecolor": "white",
            "ticks": ""
           }
          },
          "scene": {
           "xaxis": {
            "backgroundcolor": "#E5ECF6",
            "gridcolor": "white",
            "gridwidth": 2,
            "linecolor": "white",
            "showbackground": true,
            "ticks": "",
            "zerolinecolor": "white"
           },
           "yaxis": {
            "backgroundcolor": "#E5ECF6",
            "gridcolor": "white",
            "gridwidth": 2,
            "linecolor": "white",
            "showbackground": true,
            "ticks": "",
            "zerolinecolor": "white"
           },
           "zaxis": {
            "backgroundcolor": "#E5ECF6",
            "gridcolor": "white",
            "gridwidth": 2,
            "linecolor": "white",
            "showbackground": true,
            "ticks": "",
            "zerolinecolor": "white"
           }
          },
          "shapedefaults": {
           "line": {
            "color": "#2a3f5f"
           }
          },
          "ternary": {
           "aaxis": {
            "gridcolor": "white",
            "linecolor": "white",
            "ticks": ""
           },
           "baxis": {
            "gridcolor": "white",
            "linecolor": "white",
            "ticks": ""
           },
           "bgcolor": "#E5ECF6",
           "caxis": {
            "gridcolor": "white",
            "linecolor": "white",
            "ticks": ""
           }
          },
          "title": {
           "x": 0.05
          },
          "xaxis": {
           "automargin": true,
           "gridcolor": "white",
           "linecolor": "white",
           "ticks": "",
           "title": {
            "standoff": 15
           },
           "zerolinecolor": "white",
           "zerolinewidth": 2
          },
          "yaxis": {
           "automargin": true,
           "gridcolor": "white",
           "linecolor": "white",
           "ticks": "",
           "title": {
            "standoff": 15
           },
           "zerolinecolor": "white",
           "zerolinewidth": 2
          }
         }
        },
        "title": {
         "font": {
          "size": 20
         },
         "text": "Cumulative Season Ticket Count Over Time",
         "x": 0.5
        },
        "width": 1000,
        "xaxis": {
         "dtick": 7,
         "range": [
          1,
          160
         ],
         "tick0": 1,
         "tickangle": 45,
         "tickfont": {
          "size": 12
         },
         "title": {
          "text": "Days Since the Season Ticket Renewals Period Opening"
         }
        },
        "yaxis": {
         "gridcolor": "lightgray",
         "tickfont": {
          "size": 12
         },
         "title": {
          "text": "Cumulative Count"
         },
         "zeroline": false
        }
       }
      }
     },
     "metadata": {},
     "output_type": "display_data"
    }
   ],
   "source": [
    "def plot_cumulative_count_comparison(st_2324, st_2425, perc):\n",
    "\n",
    "    OPENING_DATE_2324 = pd.to_datetime(\"2023-06-26\")\n",
    "    OPENING_DATE_2425 = pd.to_datetime(\"2024-07-03\")\n",
    "    OPENING_DATE_2526 = pd.to_datetime(\"2025-06-05\")\n",
    "\n",
    "    st_count_2324 = st_2324.shape[0]\n",
    "    st_count_2425 = st_2425.shape[0]\n",
    "    st_count_2526 = perc.shape[0]\n",
    "\n",
    "    # Prepare data\n",
    "    daily_count_2324 = prepare_cumulative_count(st_2324, OPENING_DATE_2324)  # First sale date\n",
    "    daily_count_2425 = prepare_cumulative_count(st_2425, OPENING_DATE_2425)  # Fixed\n",
    "    daily_count_2526 = prepare_cumulative_count(perc, OPENING_DATE_2526)     # Fixed\n",
    "\n",
    "    fig = go.Figure()\n",
    "\n",
    "    # 23/24\n",
    "    fig.add_trace(go.Scatter(\n",
    "        x=daily_count_2324['Days Since Opening'],\n",
    "        y=daily_count_2324['Cumulative Count'],\n",
    "        mode='lines+markers',\n",
    "        name=f'Season 23/24 ({st_count_2324:,} ST)',\n",
    "        line=dict(color='gray', width=2),\n",
    "        marker=dict(size=5)\n",
    "    ))\n",
    "\n",
    "    # 24/25\n",
    "    fig.add_trace(go.Scatter(\n",
    "        x=daily_count_2425['Days Since Opening'],\n",
    "        y=daily_count_2425['Cumulative Count'],\n",
    "        mode='lines+markers',\n",
    "        name=f'Season 24/25 ({st_count_2425:,} ST)',\n",
    "        line=dict(color='black', width=2),\n",
    "        marker=dict(size=5)\n",
    "    ))\n",
    "\n",
    "    # 25/26\n",
    "    fig.add_trace(go.Scatter(\n",
    "        x=daily_count_2526['Days Since Opening'],\n",
    "        y=daily_count_2526['Cumulative Count'],\n",
    "        mode='lines+markers',\n",
    "        name=f'Season 25/26 ({st_count_2526:,} ST)',\n",
    "        line=dict(color='red', width=2),\n",
    "        marker=dict(size=5)\n",
    "    ))\n",
    "\n",
    "    # Annotations\n",
    "    day_to_annotate = daily_count_2526['Days Since Opening'].max()\n",
    "    for df, color, label in [\n",
    "        (daily_count_2324, 'gray', '23/24'),\n",
    "        (daily_count_2425, 'black', '24/25'),\n",
    "        (daily_count_2526, 'red', '25/26')\n",
    "    ]:\n",
    "        day_count = df.loc[df['Days Since Opening'] == day_to_annotate, 'Cumulative Count']\n",
    "        if not day_count.empty:\n",
    "            if color == 'gray':\n",
    "                x_pos = day_to_annotate\n",
    "                y_pos = day_count.values[0]\n",
    "                ax_shift, ay_shift = 10, -60\n",
    "\n",
    "            elif color == 'black':\n",
    "                x_pos = day_to_annotate\n",
    "                y_pos = day_count.values[0]\n",
    "                ax_shift, ay_shift = 100, -20\n",
    "\n",
    "            else:  # red\n",
    "                x_pos = day_to_annotate + 0.6\n",
    "                y_pos = day_count.values[0] + 100 # increase the gap between the arrowhead and the red dot\n",
    "                ax_shift, ay_shift = 80, -40\n",
    "\n",
    "            fig.add_annotation(\n",
    "                x=x_pos,\n",
    "                y=y_pos,\n",
    "                text=f'Day {day_to_annotate}<br>{day_count.values[0]:,} ST',\n",
    "                showarrow=True,\n",
    "                arrowhead=2,\n",
    "                ax=ax_shift,\n",
    "                ay=ay_shift,\n",
    "                font=dict(color=color),\n",
    "                arrowcolor=color\n",
    "            )\n",
    "\n",
    "\n",
    "\n",
    "    fig.update_layout(\n",
    "        title=dict(\n",
    "            text='Cumulative Season Ticket Count Over Time',\n",
    "            x=0.5,\n",
    "            font=dict(size=20)\n",
    "        ),\n",
    "        xaxis=dict(\n",
    "            title='Days Since the Season Ticket Renewals Period Opening',\n",
    "            tickfont=dict(size=12),\n",
    "            tick0=1,\n",
    "            dtick=7,\n",
    "            tickangle=45,\n",
    "            range=[1, max(\n",
    "                daily_count_2324['Days Since Opening'].max(),\n",
    "                daily_count_2425['Days Since Opening'].max(),\n",
    "                daily_count_2526['Days Since Opening'].max()\n",
    "            ) + 1]\n",
    "        ),\n",
    "        yaxis=dict(\n",
    "            title='Cumulative Count',\n",
    "            tickfont=dict(size=12),\n",
    "            zeroline=False,\n",
    "            gridcolor='lightgray',\n",
    "        ),\n",
    "        width=1000,\n",
    "        height=600,\n",
    "        plot_bgcolor='white',\n",
    "        paper_bgcolor='white',\n",
    "        legend=dict(font=dict(size=12)),\n",
    "    )\n",
    "\n",
    "    fig.show()\n",
    "\n",
    "# Usage\n",
    "plot_cumulative_count_comparison(st_2324, st_2425, perc)"
   ]
  },
  {
   "cell_type": "markdown",
   "id": "01f14f9d",
   "metadata": {},
   "source": [
    "# OLD CODE WITHOUT 23-24    "
   ]
  },
  {
   "cell_type": "code",
   "execution_count": 19,
   "id": "ef3e59b5",
   "metadata": {},
   "outputs": [],
   "source": [
    "# def prepare_cumulative_count(df, open_date, days_limit=160):\n",
    "#     df = df.copy()\n",
    "#     df['Date'] = pd.to_datetime(df['sale_date'])\n",
    "#     df = df[df['Date'] >= open_date]\n",
    "\n",
    "#     count = (\n",
    "#         df.groupby('Date')\n",
    "#         .size()\n",
    "#         .reindex(pd.date_range(df['Date'].min(), df['Date'].max()), fill_value=0)\n",
    "#         .rename_axis('Date')\n",
    "#         .reset_index(name='daily_count')\n",
    "#     )\n",
    "\n",
    "#     count['Days Since Opening'] = (count['Date'] - open_date).dt.days + 1\n",
    "#     count = count[count['Days Since Opening'] < days_limit]\n",
    "#     count['Cumulative Count'] = count['daily_count'].cumsum()\n",
    "\n",
    "#     return count"
   ]
  },
  {
   "cell_type": "code",
   "execution_count": 20,
   "id": "b2e8e813-f535-43ef-9339-c0bd823e2937",
   "metadata": {},
   "outputs": [],
   "source": [
    "# def plot_cumulative_count_comparison(st_2425, perc):\n",
    "#     OPENING_DATE_2425 = pd.to_datetime(\"2024-07-03\")\n",
    "#     OPENING_DATE_2526 = pd.to_datetime(\"2025-06-05\")\n",
    "\n",
    "#     st_count_2425 = st_2425.shape[0]\n",
    "#     st_count_2526 = perc.shape[0]\n",
    "\n",
    "#     # Prepare data\n",
    "#     daily_count_2425 = prepare_cumulative_count(st_2425, OPENING_DATE_2425)\n",
    "#     daily_count_2526 = prepare_cumulative_count(perc, OPENING_DATE_2526)\n",
    "\n",
    "#     fig = go.Figure()\n",
    "\n",
    "#     # Trace for 24/25\n",
    "#     fig.add_trace(go.Scatter(\n",
    "#         x=daily_count_2425['Days Since Opening'],\n",
    "#         y=daily_count_2425['Cumulative Count'],\n",
    "#         mode='lines+markers',\n",
    "#         name=f'Season 24/25 ({st_count_2425:,} ST)',\n",
    "#         line=dict(color='black', width=2),\n",
    "#         marker=dict(size=5)\n",
    "#     ))\n",
    "\n",
    "#     # Trace for 25/26\n",
    "#     fig.add_trace(go.Scatter(\n",
    "#         x=daily_count_2526['Days Since Opening'],\n",
    "#         y=daily_count_2526['Cumulative Count'],\n",
    "#         mode='lines+markers',\n",
    "#         name=f'Season 25/26 ({st_count_2526:,} ST)',\n",
    "#         line=dict(color='red', width=2),\n",
    "#         marker=dict(size=5)\n",
    "#     ))\n",
    "\n",
    "#     # Add annotations\n",
    "#     last_day = daily_count_2526['Days Since Opening'].max()\n",
    "#     last_count_2526 = daily_count_2526.loc[daily_count_2526['Days Since Opening'] == last_day, 'Cumulative Count'].values[0]\n",
    "#     last_count_2425 = daily_count_2425.loc[daily_count_2425['Days Since Opening'] == last_day, 'Cumulative Count']\n",
    "#     last_count_2425 = last_count_2425.values[0] if not last_count_2425.empty else None\n",
    "\n",
    "#     fig.add_annotation(\n",
    "#         x=last_day,\n",
    "#         y=last_count_2526,\n",
    "#         text=f'Day {last_day}<br>{last_count_2526:,} ST',\n",
    "#         showarrow=True,\n",
    "#         arrowhead=2,\n",
    "#         ax=20,\n",
    "#         ay=-40,\n",
    "#         font=dict(color='red'),\n",
    "#         arrowcolor='red'\n",
    "#     )\n",
    "\n",
    "#     if last_count_2425 is not None:\n",
    "#         fig.add_annotation(\n",
    "#             x=last_day,\n",
    "#             y=last_count_2425,\n",
    "#             text=f'Day {last_day}<br>{last_count_2425:,} ST',\n",
    "#             showarrow=True,\n",
    "#             arrowhead=2,\n",
    "#             ax=60,\n",
    "#             ay=-90,\n",
    "#             font=dict(color='black'),\n",
    "#             arrowcolor='black'\n",
    "#         )\n",
    "\n",
    "#     fig.update_layout(\n",
    "#         title=dict(\n",
    "#             text='Cumulative Season Ticket Count Over Time',\n",
    "#             x=0.5,\n",
    "#             font=dict(size=20)\n",
    "#         ),\n",
    "#         xaxis=dict(\n",
    "#             title='Days Since the Season Ticket Renewals Period Opening',\n",
    "#             tickfont=dict(size=12),\n",
    "#             tick0=1,\n",
    "#             dtick=7,\n",
    "#             tickangle=45,\n",
    "#             range=[1, max(daily_count_2425['Days Since Opening'].max(), daily_count_2526['Days Since Opening'].max()) + 1]\n",
    "#         ),\n",
    "#         yaxis=dict(\n",
    "#             title='Cumulative Count',\n",
    "#             tickfont=dict(size=12),\n",
    "#             zeroline=False,\n",
    "#             gridcolor='lightgray',\n",
    "#         ),\n",
    "#         width=1000,\n",
    "#         height=600,\n",
    "#         plot_bgcolor='white',\n",
    "#         paper_bgcolor='white',\n",
    "#         legend=dict(font=dict(size=12)),\n",
    "#     )\n",
    "\n",
    "#     fig.show()\n",
    "\n",
    "# # Usage\n",
    "# plot_cumulative_count_comparison(st_2425, perc)"
   ]
  },
  {
   "cell_type": "markdown",
   "id": "6c5db987",
   "metadata": {},
   "source": [
    "## Impact of Games Attended on ST Renewal"
   ]
  },
  {
   "cell_type": "code",
   "execution_count": 21,
   "id": "1b4007ad",
   "metadata": {},
   "outputs": [
    {
     "ename": "FileNotFoundError",
     "evalue": "[Errno 2] No such file or directory: 'summary_df.xlsx'",
     "output_type": "error",
     "traceback": [
      "\u001b[0;31m---------------------------------------------------------------------------\u001b[0m",
      "\u001b[0;31mFileNotFoundError\u001b[0m                         Traceback (most recent call last)",
      "Cell \u001b[0;32mIn[21], line 1\u001b[0m\n\u001b[0;32m----> 1\u001b[0m df \u001b[38;5;241m=\u001b[39m pd\u001b[38;5;241m.\u001b[39mread_excel(\u001b[38;5;124m'\u001b[39m\u001b[38;5;124msummary_df.xlsx\u001b[39m\u001b[38;5;124m'\u001b[39m)\n",
      "File \u001b[0;32m/opt/anaconda3/lib/python3.12/site-packages/pandas/io/excel/_base.py:495\u001b[0m, in \u001b[0;36mread_excel\u001b[0;34m(io, sheet_name, header, names, index_col, usecols, dtype, engine, converters, true_values, false_values, skiprows, nrows, na_values, keep_default_na, na_filter, verbose, parse_dates, date_parser, date_format, thousands, decimal, comment, skipfooter, storage_options, dtype_backend, engine_kwargs)\u001b[0m\n\u001b[1;32m    493\u001b[0m \u001b[38;5;28;01mif\u001b[39;00m \u001b[38;5;129;01mnot\u001b[39;00m \u001b[38;5;28misinstance\u001b[39m(io, ExcelFile):\n\u001b[1;32m    494\u001b[0m     should_close \u001b[38;5;241m=\u001b[39m \u001b[38;5;28;01mTrue\u001b[39;00m\n\u001b[0;32m--> 495\u001b[0m     io \u001b[38;5;241m=\u001b[39m ExcelFile(\n\u001b[1;32m    496\u001b[0m         io,\n\u001b[1;32m    497\u001b[0m         storage_options\u001b[38;5;241m=\u001b[39mstorage_options,\n\u001b[1;32m    498\u001b[0m         engine\u001b[38;5;241m=\u001b[39mengine,\n\u001b[1;32m    499\u001b[0m         engine_kwargs\u001b[38;5;241m=\u001b[39mengine_kwargs,\n\u001b[1;32m    500\u001b[0m     )\n\u001b[1;32m    501\u001b[0m \u001b[38;5;28;01melif\u001b[39;00m engine \u001b[38;5;129;01mand\u001b[39;00m engine \u001b[38;5;241m!=\u001b[39m io\u001b[38;5;241m.\u001b[39mengine:\n\u001b[1;32m    502\u001b[0m     \u001b[38;5;28;01mraise\u001b[39;00m \u001b[38;5;167;01mValueError\u001b[39;00m(\n\u001b[1;32m    503\u001b[0m         \u001b[38;5;124m\"\u001b[39m\u001b[38;5;124mEngine should not be specified when passing \u001b[39m\u001b[38;5;124m\"\u001b[39m\n\u001b[1;32m    504\u001b[0m         \u001b[38;5;124m\"\u001b[39m\u001b[38;5;124man ExcelFile - ExcelFile already has the engine set\u001b[39m\u001b[38;5;124m\"\u001b[39m\n\u001b[1;32m    505\u001b[0m     )\n",
      "File \u001b[0;32m/opt/anaconda3/lib/python3.12/site-packages/pandas/io/excel/_base.py:1550\u001b[0m, in \u001b[0;36mExcelFile.__init__\u001b[0;34m(self, path_or_buffer, engine, storage_options, engine_kwargs)\u001b[0m\n\u001b[1;32m   1548\u001b[0m     ext \u001b[38;5;241m=\u001b[39m \u001b[38;5;124m\"\u001b[39m\u001b[38;5;124mxls\u001b[39m\u001b[38;5;124m\"\u001b[39m\n\u001b[1;32m   1549\u001b[0m \u001b[38;5;28;01melse\u001b[39;00m:\n\u001b[0;32m-> 1550\u001b[0m     ext \u001b[38;5;241m=\u001b[39m inspect_excel_format(\n\u001b[1;32m   1551\u001b[0m         content_or_path\u001b[38;5;241m=\u001b[39mpath_or_buffer, storage_options\u001b[38;5;241m=\u001b[39mstorage_options\n\u001b[1;32m   1552\u001b[0m     )\n\u001b[1;32m   1553\u001b[0m     \u001b[38;5;28;01mif\u001b[39;00m ext \u001b[38;5;129;01mis\u001b[39;00m \u001b[38;5;28;01mNone\u001b[39;00m:\n\u001b[1;32m   1554\u001b[0m         \u001b[38;5;28;01mraise\u001b[39;00m \u001b[38;5;167;01mValueError\u001b[39;00m(\n\u001b[1;32m   1555\u001b[0m             \u001b[38;5;124m\"\u001b[39m\u001b[38;5;124mExcel file format cannot be determined, you must specify \u001b[39m\u001b[38;5;124m\"\u001b[39m\n\u001b[1;32m   1556\u001b[0m             \u001b[38;5;124m\"\u001b[39m\u001b[38;5;124man engine manually.\u001b[39m\u001b[38;5;124m\"\u001b[39m\n\u001b[1;32m   1557\u001b[0m         )\n",
      "File \u001b[0;32m/opt/anaconda3/lib/python3.12/site-packages/pandas/io/excel/_base.py:1402\u001b[0m, in \u001b[0;36minspect_excel_format\u001b[0;34m(content_or_path, storage_options)\u001b[0m\n\u001b[1;32m   1399\u001b[0m \u001b[38;5;28;01mif\u001b[39;00m \u001b[38;5;28misinstance\u001b[39m(content_or_path, \u001b[38;5;28mbytes\u001b[39m):\n\u001b[1;32m   1400\u001b[0m     content_or_path \u001b[38;5;241m=\u001b[39m BytesIO(content_or_path)\n\u001b[0;32m-> 1402\u001b[0m \u001b[38;5;28;01mwith\u001b[39;00m get_handle(\n\u001b[1;32m   1403\u001b[0m     content_or_path, \u001b[38;5;124m\"\u001b[39m\u001b[38;5;124mrb\u001b[39m\u001b[38;5;124m\"\u001b[39m, storage_options\u001b[38;5;241m=\u001b[39mstorage_options, is_text\u001b[38;5;241m=\u001b[39m\u001b[38;5;28;01mFalse\u001b[39;00m\n\u001b[1;32m   1404\u001b[0m ) \u001b[38;5;28;01mas\u001b[39;00m handle:\n\u001b[1;32m   1405\u001b[0m     stream \u001b[38;5;241m=\u001b[39m handle\u001b[38;5;241m.\u001b[39mhandle\n\u001b[1;32m   1406\u001b[0m     stream\u001b[38;5;241m.\u001b[39mseek(\u001b[38;5;241m0\u001b[39m)\n",
      "File \u001b[0;32m/opt/anaconda3/lib/python3.12/site-packages/pandas/io/common.py:882\u001b[0m, in \u001b[0;36mget_handle\u001b[0;34m(path_or_buf, mode, encoding, compression, memory_map, is_text, errors, storage_options)\u001b[0m\n\u001b[1;32m    873\u001b[0m         handle \u001b[38;5;241m=\u001b[39m \u001b[38;5;28mopen\u001b[39m(\n\u001b[1;32m    874\u001b[0m             handle,\n\u001b[1;32m    875\u001b[0m             ioargs\u001b[38;5;241m.\u001b[39mmode,\n\u001b[0;32m   (...)\u001b[0m\n\u001b[1;32m    878\u001b[0m             newline\u001b[38;5;241m=\u001b[39m\u001b[38;5;124m\"\u001b[39m\u001b[38;5;124m\"\u001b[39m,\n\u001b[1;32m    879\u001b[0m         )\n\u001b[1;32m    880\u001b[0m     \u001b[38;5;28;01melse\u001b[39;00m:\n\u001b[1;32m    881\u001b[0m         \u001b[38;5;66;03m# Binary mode\u001b[39;00m\n\u001b[0;32m--> 882\u001b[0m         handle \u001b[38;5;241m=\u001b[39m \u001b[38;5;28mopen\u001b[39m(handle, ioargs\u001b[38;5;241m.\u001b[39mmode)\n\u001b[1;32m    883\u001b[0m     handles\u001b[38;5;241m.\u001b[39mappend(handle)\n\u001b[1;32m    885\u001b[0m \u001b[38;5;66;03m# Convert BytesIO or file objects passed with an encoding\u001b[39;00m\n",
      "\u001b[0;31mFileNotFoundError\u001b[0m: [Errno 2] No such file or directory: 'summary_df.xlsx'"
     ]
    }
   ],
   "source": [
    "df = pd.read_excel('summary_df.xlsx')"
   ]
  },
  {
   "cell_type": "code",
   "execution_count": null,
   "id": "f1a819ee",
   "metadata": {},
   "outputs": [
    {
     "data": {
      "application/vnd.plotly.v1+json": {
       "config": {
        "plotlyServerURL": "https://plot.ly"
       },
       "data": [
        {
         "marker": {
          "color": "#ff9999"
         },
         "name": "ST Members",
         "text": [
          "434",
          "330",
          "417",
          "455",
          "473",
          "479",
          "487",
          "396",
          "344",
          "255",
          "184",
          "87"
         ],
         "textposition": "outside",
         "type": "bar",
         "x": [
          0,
          1,
          2,
          3,
          4,
          5,
          6,
          7,
          8,
          9,
          10,
          11
         ],
         "y": [
          434,
          330,
          417,
          455,
          473,
          479,
          487,
          396,
          344,
          255,
          184,
          87
         ],
         "yaxis": "y"
        },
        {
         "marker": {
          "color": "#cc0000"
         },
         "name": "Renewed Members",
         "text": [
          "83",
          "124",
          "165",
          "156",
          "228",
          "249",
          "247",
          "211",
          "235",
          "171",
          "134",
          "69"
         ],
         "textposition": "outside",
         "type": "bar",
         "x": [
          0,
          1,
          2,
          3,
          4,
          5,
          6,
          7,
          8,
          9,
          10,
          11
         ],
         "y": [
          83,
          124,
          165,
          156,
          228,
          249,
          247,
          211,
          235,
          171,
          134,
          69
         ],
         "yaxis": "y"
        },
        {
         "line": {
          "color": "black",
          "width": 2
         },
         "marker": {
          "size": 8
         },
         "mode": "lines+markers+text",
         "name": "Renewal Rate (%)",
         "text": [
          "19.1%",
          "37.6%",
          "39.6%",
          "34.3%",
          "48.2%",
          "52.0%",
          "50.7%",
          "53.3%",
          "68.3%",
          "67.1%",
          "72.8%",
          "79.3%"
         ],
         "textposition": "top center",
         "type": "scatter",
         "x": [
          0,
          1,
          2,
          3,
          4,
          5,
          6,
          7,
          8,
          9,
          10,
          11
         ],
         "y": [
          19.1,
          37.6,
          39.6,
          34.3,
          48.2,
          52,
          50.7,
          53.3,
          68.3,
          67.1,
          72.8,
          79.3
         ],
         "yaxis": "y2"
        }
       ],
       "layout": {
        "bargap": 0.15,
        "bargroupgap": 0.1,
        "barmode": "group",
        "height": 500,
        "legend": {
         "bgcolor": "rgba(255,255,255,0)",
         "orientation": "h",
         "x": 0.7,
         "y": 1.15
        },
        "template": {
         "data": {
          "bar": [
           {
            "error_x": {
             "color": "rgb(36,36,36)"
            },
            "error_y": {
             "color": "rgb(36,36,36)"
            },
            "marker": {
             "line": {
              "color": "white",
              "width": 0.5
             },
             "pattern": {
              "fillmode": "overlay",
              "size": 10,
              "solidity": 0.2
             }
            },
            "type": "bar"
           }
          ],
          "barpolar": [
           {
            "marker": {
             "line": {
              "color": "white",
              "width": 0.5
             },
             "pattern": {
              "fillmode": "overlay",
              "size": 10,
              "solidity": 0.2
             }
            },
            "type": "barpolar"
           }
          ],
          "carpet": [
           {
            "aaxis": {
             "endlinecolor": "rgb(36,36,36)",
             "gridcolor": "white",
             "linecolor": "white",
             "minorgridcolor": "white",
             "startlinecolor": "rgb(36,36,36)"
            },
            "baxis": {
             "endlinecolor": "rgb(36,36,36)",
             "gridcolor": "white",
             "linecolor": "white",
             "minorgridcolor": "white",
             "startlinecolor": "rgb(36,36,36)"
            },
            "type": "carpet"
           }
          ],
          "choropleth": [
           {
            "colorbar": {
             "outlinewidth": 1,
             "tickcolor": "rgb(36,36,36)",
             "ticks": "outside"
            },
            "type": "choropleth"
           }
          ],
          "contour": [
           {
            "colorbar": {
             "outlinewidth": 1,
             "tickcolor": "rgb(36,36,36)",
             "ticks": "outside"
            },
            "colorscale": [
             [
              0,
              "#440154"
             ],
             [
              0.1111111111111111,
              "#482878"
             ],
             [
              0.2222222222222222,
              "#3e4989"
             ],
             [
              0.3333333333333333,
              "#31688e"
             ],
             [
              0.4444444444444444,
              "#26828e"
             ],
             [
              0.5555555555555556,
              "#1f9e89"
             ],
             [
              0.6666666666666666,
              "#35b779"
             ],
             [
              0.7777777777777778,
              "#6ece58"
             ],
             [
              0.8888888888888888,
              "#b5de2b"
             ],
             [
              1,
              "#fde725"
             ]
            ],
            "type": "contour"
           }
          ],
          "contourcarpet": [
           {
            "colorbar": {
             "outlinewidth": 1,
             "tickcolor": "rgb(36,36,36)",
             "ticks": "outside"
            },
            "type": "contourcarpet"
           }
          ],
          "heatmap": [
           {
            "colorbar": {
             "outlinewidth": 1,
             "tickcolor": "rgb(36,36,36)",
             "ticks": "outside"
            },
            "colorscale": [
             [
              0,
              "#440154"
             ],
             [
              0.1111111111111111,
              "#482878"
             ],
             [
              0.2222222222222222,
              "#3e4989"
             ],
             [
              0.3333333333333333,
              "#31688e"
             ],
             [
              0.4444444444444444,
              "#26828e"
             ],
             [
              0.5555555555555556,
              "#1f9e89"
             ],
             [
              0.6666666666666666,
              "#35b779"
             ],
             [
              0.7777777777777778,
              "#6ece58"
             ],
             [
              0.8888888888888888,
              "#b5de2b"
             ],
             [
              1,
              "#fde725"
             ]
            ],
            "type": "heatmap"
           }
          ],
          "heatmapgl": [
           {
            "colorbar": {
             "outlinewidth": 1,
             "tickcolor": "rgb(36,36,36)",
             "ticks": "outside"
            },
            "colorscale": [
             [
              0,
              "#440154"
             ],
             [
              0.1111111111111111,
              "#482878"
             ],
             [
              0.2222222222222222,
              "#3e4989"
             ],
             [
              0.3333333333333333,
              "#31688e"
             ],
             [
              0.4444444444444444,
              "#26828e"
             ],
             [
              0.5555555555555556,
              "#1f9e89"
             ],
             [
              0.6666666666666666,
              "#35b779"
             ],
             [
              0.7777777777777778,
              "#6ece58"
             ],
             [
              0.8888888888888888,
              "#b5de2b"
             ],
             [
              1,
              "#fde725"
             ]
            ],
            "type": "heatmapgl"
           }
          ],
          "histogram": [
           {
            "marker": {
             "line": {
              "color": "white",
              "width": 0.6
             }
            },
            "type": "histogram"
           }
          ],
          "histogram2d": [
           {
            "colorbar": {
             "outlinewidth": 1,
             "tickcolor": "rgb(36,36,36)",
             "ticks": "outside"
            },
            "colorscale": [
             [
              0,
              "#440154"
             ],
             [
              0.1111111111111111,
              "#482878"
             ],
             [
              0.2222222222222222,
              "#3e4989"
             ],
             [
              0.3333333333333333,
              "#31688e"
             ],
             [
              0.4444444444444444,
              "#26828e"
             ],
             [
              0.5555555555555556,
              "#1f9e89"
             ],
             [
              0.6666666666666666,
              "#35b779"
             ],
             [
              0.7777777777777778,
              "#6ece58"
             ],
             [
              0.8888888888888888,
              "#b5de2b"
             ],
             [
              1,
              "#fde725"
             ]
            ],
            "type": "histogram2d"
           }
          ],
          "histogram2dcontour": [
           {
            "colorbar": {
             "outlinewidth": 1,
             "tickcolor": "rgb(36,36,36)",
             "ticks": "outside"
            },
            "colorscale": [
             [
              0,
              "#440154"
             ],
             [
              0.1111111111111111,
              "#482878"
             ],
             [
              0.2222222222222222,
              "#3e4989"
             ],
             [
              0.3333333333333333,
              "#31688e"
             ],
             [
              0.4444444444444444,
              "#26828e"
             ],
             [
              0.5555555555555556,
              "#1f9e89"
             ],
             [
              0.6666666666666666,
              "#35b779"
             ],
             [
              0.7777777777777778,
              "#6ece58"
             ],
             [
              0.8888888888888888,
              "#b5de2b"
             ],
             [
              1,
              "#fde725"
             ]
            ],
            "type": "histogram2dcontour"
           }
          ],
          "mesh3d": [
           {
            "colorbar": {
             "outlinewidth": 1,
             "tickcolor": "rgb(36,36,36)",
             "ticks": "outside"
            },
            "type": "mesh3d"
           }
          ],
          "parcoords": [
           {
            "line": {
             "colorbar": {
              "outlinewidth": 1,
              "tickcolor": "rgb(36,36,36)",
              "ticks": "outside"
             }
            },
            "type": "parcoords"
           }
          ],
          "pie": [
           {
            "automargin": true,
            "type": "pie"
           }
          ],
          "scatter": [
           {
            "fillpattern": {
             "fillmode": "overlay",
             "size": 10,
             "solidity": 0.2
            },
            "type": "scatter"
           }
          ],
          "scatter3d": [
           {
            "line": {
             "colorbar": {
              "outlinewidth": 1,
              "tickcolor": "rgb(36,36,36)",
              "ticks": "outside"
             }
            },
            "marker": {
             "colorbar": {
              "outlinewidth": 1,
              "tickcolor": "rgb(36,36,36)",
              "ticks": "outside"
             }
            },
            "type": "scatter3d"
           }
          ],
          "scattercarpet": [
           {
            "marker": {
             "colorbar": {
              "outlinewidth": 1,
              "tickcolor": "rgb(36,36,36)",
              "ticks": "outside"
             }
            },
            "type": "scattercarpet"
           }
          ],
          "scattergeo": [
           {
            "marker": {
             "colorbar": {
              "outlinewidth": 1,
              "tickcolor": "rgb(36,36,36)",
              "ticks": "outside"
             }
            },
            "type": "scattergeo"
           }
          ],
          "scattergl": [
           {
            "marker": {
             "colorbar": {
              "outlinewidth": 1,
              "tickcolor": "rgb(36,36,36)",
              "ticks": "outside"
             }
            },
            "type": "scattergl"
           }
          ],
          "scattermapbox": [
           {
            "marker": {
             "colorbar": {
              "outlinewidth": 1,
              "tickcolor": "rgb(36,36,36)",
              "ticks": "outside"
             }
            },
            "type": "scattermapbox"
           }
          ],
          "scatterpolar": [
           {
            "marker": {
             "colorbar": {
              "outlinewidth": 1,
              "tickcolor": "rgb(36,36,36)",
              "ticks": "outside"
             }
            },
            "type": "scatterpolar"
           }
          ],
          "scatterpolargl": [
           {
            "marker": {
             "colorbar": {
              "outlinewidth": 1,
              "tickcolor": "rgb(36,36,36)",
              "ticks": "outside"
             }
            },
            "type": "scatterpolargl"
           }
          ],
          "scatterternary": [
           {
            "marker": {
             "colorbar": {
              "outlinewidth": 1,
              "tickcolor": "rgb(36,36,36)",
              "ticks": "outside"
             }
            },
            "type": "scatterternary"
           }
          ],
          "surface": [
           {
            "colorbar": {
             "outlinewidth": 1,
             "tickcolor": "rgb(36,36,36)",
             "ticks": "outside"
            },
            "colorscale": [
             [
              0,
              "#440154"
             ],
             [
              0.1111111111111111,
              "#482878"
             ],
             [
              0.2222222222222222,
              "#3e4989"
             ],
             [
              0.3333333333333333,
              "#31688e"
             ],
             [
              0.4444444444444444,
              "#26828e"
             ],
             [
              0.5555555555555556,
              "#1f9e89"
             ],
             [
              0.6666666666666666,
              "#35b779"
             ],
             [
              0.7777777777777778,
              "#6ece58"
             ],
             [
              0.8888888888888888,
              "#b5de2b"
             ],
             [
              1,
              "#fde725"
             ]
            ],
            "type": "surface"
           }
          ],
          "table": [
           {
            "cells": {
             "fill": {
              "color": "rgb(237,237,237)"
             },
             "line": {
              "color": "white"
             }
            },
            "header": {
             "fill": {
              "color": "rgb(217,217,217)"
             },
             "line": {
              "color": "white"
             }
            },
            "type": "table"
           }
          ]
         },
         "layout": {
          "annotationdefaults": {
           "arrowhead": 0,
           "arrowwidth": 1
          },
          "autotypenumbers": "strict",
          "coloraxis": {
           "colorbar": {
            "outlinewidth": 1,
            "tickcolor": "rgb(36,36,36)",
            "ticks": "outside"
           }
          },
          "colorscale": {
           "diverging": [
            [
             0,
             "rgb(103,0,31)"
            ],
            [
             0.1,
             "rgb(178,24,43)"
            ],
            [
             0.2,
             "rgb(214,96,77)"
            ],
            [
             0.3,
             "rgb(244,165,130)"
            ],
            [
             0.4,
             "rgb(253,219,199)"
            ],
            [
             0.5,
             "rgb(247,247,247)"
            ],
            [
             0.6,
             "rgb(209,229,240)"
            ],
            [
             0.7,
             "rgb(146,197,222)"
            ],
            [
             0.8,
             "rgb(67,147,195)"
            ],
            [
             0.9,
             "rgb(33,102,172)"
            ],
            [
             1,
             "rgb(5,48,97)"
            ]
           ],
           "sequential": [
            [
             0,
             "#440154"
            ],
            [
             0.1111111111111111,
             "#482878"
            ],
            [
             0.2222222222222222,
             "#3e4989"
            ],
            [
             0.3333333333333333,
             "#31688e"
            ],
            [
             0.4444444444444444,
             "#26828e"
            ],
            [
             0.5555555555555556,
             "#1f9e89"
            ],
            [
             0.6666666666666666,
             "#35b779"
            ],
            [
             0.7777777777777778,
             "#6ece58"
            ],
            [
             0.8888888888888888,
             "#b5de2b"
            ],
            [
             1,
             "#fde725"
            ]
           ],
           "sequentialminus": [
            [
             0,
             "#440154"
            ],
            [
             0.1111111111111111,
             "#482878"
            ],
            [
             0.2222222222222222,
             "#3e4989"
            ],
            [
             0.3333333333333333,
             "#31688e"
            ],
            [
             0.4444444444444444,
             "#26828e"
            ],
            [
             0.5555555555555556,
             "#1f9e89"
            ],
            [
             0.6666666666666666,
             "#35b779"
            ],
            [
             0.7777777777777778,
             "#6ece58"
            ],
            [
             0.8888888888888888,
             "#b5de2b"
            ],
            [
             1,
             "#fde725"
            ]
           ]
          },
          "colorway": [
           "#1F77B4",
           "#FF7F0E",
           "#2CA02C",
           "#D62728",
           "#9467BD",
           "#8C564B",
           "#E377C2",
           "#7F7F7F",
           "#BCBD22",
           "#17BECF"
          ],
          "font": {
           "color": "rgb(36,36,36)"
          },
          "geo": {
           "bgcolor": "white",
           "lakecolor": "white",
           "landcolor": "white",
           "showlakes": true,
           "showland": true,
           "subunitcolor": "white"
          },
          "hoverlabel": {
           "align": "left"
          },
          "hovermode": "closest",
          "mapbox": {
           "style": "light"
          },
          "paper_bgcolor": "white",
          "plot_bgcolor": "white",
          "polar": {
           "angularaxis": {
            "gridcolor": "rgb(232,232,232)",
            "linecolor": "rgb(36,36,36)",
            "showgrid": false,
            "showline": true,
            "ticks": "outside"
           },
           "bgcolor": "white",
           "radialaxis": {
            "gridcolor": "rgb(232,232,232)",
            "linecolor": "rgb(36,36,36)",
            "showgrid": false,
            "showline": true,
            "ticks": "outside"
           }
          },
          "scene": {
           "xaxis": {
            "backgroundcolor": "white",
            "gridcolor": "rgb(232,232,232)",
            "gridwidth": 2,
            "linecolor": "rgb(36,36,36)",
            "showbackground": true,
            "showgrid": false,
            "showline": true,
            "ticks": "outside",
            "zeroline": false,
            "zerolinecolor": "rgb(36,36,36)"
           },
           "yaxis": {
            "backgroundcolor": "white",
            "gridcolor": "rgb(232,232,232)",
            "gridwidth": 2,
            "linecolor": "rgb(36,36,36)",
            "showbackground": true,
            "showgrid": false,
            "showline": true,
            "ticks": "outside",
            "zeroline": false,
            "zerolinecolor": "rgb(36,36,36)"
           },
           "zaxis": {
            "backgroundcolor": "white",
            "gridcolor": "rgb(232,232,232)",
            "gridwidth": 2,
            "linecolor": "rgb(36,36,36)",
            "showbackground": true,
            "showgrid": false,
            "showline": true,
            "ticks": "outside",
            "zeroline": false,
            "zerolinecolor": "rgb(36,36,36)"
           }
          },
          "shapedefaults": {
           "fillcolor": "black",
           "line": {
            "width": 0
           },
           "opacity": 0.3
          },
          "ternary": {
           "aaxis": {
            "gridcolor": "rgb(232,232,232)",
            "linecolor": "rgb(36,36,36)",
            "showgrid": false,
            "showline": true,
            "ticks": "outside"
           },
           "baxis": {
            "gridcolor": "rgb(232,232,232)",
            "linecolor": "rgb(36,36,36)",
            "showgrid": false,
            "showline": true,
            "ticks": "outside"
           },
           "bgcolor": "white",
           "caxis": {
            "gridcolor": "rgb(232,232,232)",
            "linecolor": "rgb(36,36,36)",
            "showgrid": false,
            "showline": true,
            "ticks": "outside"
           }
          },
          "title": {
           "x": 0.05
          },
          "xaxis": {
           "automargin": true,
           "gridcolor": "rgb(232,232,232)",
           "linecolor": "rgb(36,36,36)",
           "showgrid": false,
           "showline": true,
           "ticks": "outside",
           "title": {
            "standoff": 15
           },
           "zeroline": false,
           "zerolinecolor": "rgb(36,36,36)"
          },
          "yaxis": {
           "automargin": true,
           "gridcolor": "rgb(232,232,232)",
           "linecolor": "rgb(36,36,36)",
           "showgrid": false,
           "showline": true,
           "ticks": "outside",
           "title": {
            "standoff": 15
           },
           "zeroline": false,
           "zerolinecolor": "rgb(36,36,36)"
          }
         }
        },
        "title": {
         "text": "Impact of Games Attended on ST Renewal"
        },
        "xaxis": {
         "dtick": 1,
         "tick0": 0,
         "tickmode": "linear",
         "title": {
          "text": "Games Attended"
         }
        },
        "yaxis": {
         "side": "left",
         "title": {
          "text": "Number of ST Members"
         }
        },
        "yaxis2": {
         "overlaying": "y",
         "range": [
          0,
          100
         ],
         "side": "right",
         "title": {
          "text": "Renewal Rate (%)"
         }
        }
       }
      }
     },
     "metadata": {},
     "output_type": "display_data"
    }
   ],
   "source": [
    "# Convert User Id and client_number to int\n",
    "df['User Id'] = df['User Id'].astype(int)\n",
    "perc['client_number'] = perc['client_number'].astype(int)\n",
    "\n",
    "# Make sure Games Attended is numeric\n",
    "df['Games Attended'] = pd.to_numeric(df['Games Attended'], errors='coerce')\n",
    "\n",
    "# Prepare renewed flag\n",
    "renewed_ids = set(perc['client_number'])\n",
    "df['Renewed'] = df['User Id'].isin(renewed_ids)\n",
    "\n",
    "# Max games attended (to define the range)\n",
    "max_games_attended = int(df['Games Attended'].max())\n",
    "\n",
    "# Create categories: 0, 1, 2, ..., max_games_attended\n",
    "attendance_bins = list(range(0, max_games_attended + 1))\n",
    "\n",
    "# Count total ST members per number of games attended\n",
    "total_counts = df['Games Attended'].value_counts().reindex(attendance_bins, fill_value=0)\n",
    "\n",
    "# Count renewed ST members per number of games attended\n",
    "renewed_counts = df[df['Renewed']]['Games Attended'].value_counts().reindex(attendance_bins, fill_value=0)\n",
    "\n",
    "# Calculate renewal rates\n",
    "renewal_rates = (renewed_counts / total_counts * 100).round(1)  # percentage with 1 decimal\n",
    "\n",
    "# Prepare texts (only counts, no percentages)\n",
    "total_texts = total_counts.astype(str)\n",
    "renewed_texts = renewed_counts.astype(str)\n",
    "\n",
    "# Plot with Plotly\n",
    "fig = go.Figure()\n",
    "\n",
    "# Light Red bars - total ST members\n",
    "fig.add_trace(go.Bar(\n",
    "    x=attendance_bins,\n",
    "    y=total_counts,\n",
    "    name='ST Members',\n",
    "    marker_color='#ff9999',\n",
    "    text=total_counts.astype(str),\n",
    "    textposition='outside',\n",
    "    yaxis='y1'\n",
    "))\n",
    "\n",
    "# Dark Red bars - renewed ST members\n",
    "fig.add_trace(go.Bar(\n",
    "    x=attendance_bins,\n",
    "    y=renewed_counts,\n",
    "    name='Renewed Members',\n",
    "    marker_color='#cc0000',\n",
    "    text=renewed_counts.astype(str),\n",
    "    textposition='outside',\n",
    "    yaxis='y1'\n",
    "))\n",
    "\n",
    "# Renewal Rate Line\n",
    "fig.add_trace(go.Scatter(\n",
    "    x=attendance_bins,\n",
    "    y=renewal_rates,\n",
    "    name='Renewal Rate (%)',\n",
    "    mode='lines+markers+text',\n",
    "    text=[f\"{r}%\" for r in renewal_rates],\n",
    "    textposition='top center',\n",
    "    line=dict(color='black', width=2),\n",
    "    marker=dict(size=8),\n",
    "    yaxis='y2'\n",
    "))\n",
    "\n",
    "# Update layout with bigger height\n",
    "fig.update_layout(\n",
    "    title='Impact of Games Attended on ST Renewal',\n",
    "    xaxis_title='Games Attended',\n",
    "    yaxis=dict(\n",
    "        title='Number of ST Members',\n",
    "        side='left'\n",
    "    ),\n",
    "    yaxis2=dict(\n",
    "        title='Renewal Rate (%)',\n",
    "        overlaying='y',\n",
    "        side='right',\n",
    "        range=[0, 100]\n",
    "    ),\n",
    "    xaxis=dict(\n",
    "        tickmode='linear',\n",
    "        tick0=0,\n",
    "        dtick=1\n",
    "    ),\n",
    "    barmode='group',\n",
    "    bargap=0.15,\n",
    "    bargroupgap=0.1,\n",
    "    template='simple_white',\n",
    "    legend=dict(x=0.7, y=1.15, orientation='h', bgcolor='rgba(255,255,255,0)'),\n",
    "    height=500  # <-- This makes it higher! Default is ~450-500\n",
    ")\n",
    "\n",
    "fig.show()"
   ]
  },
  {
   "cell_type": "code",
   "execution_count": null,
   "id": "90621773",
   "metadata": {},
   "outputs": [],
   "source": []
  }
 ],
 "metadata": {
  "kernelspec": {
   "display_name": "base",
   "language": "python",
   "name": "python3"
  },
  "language_info": {
   "codemirror_mode": {
    "name": "ipython",
    "version": 3
   },
   "file_extension": ".py",
   "mimetype": "text/x-python",
   "name": "python",
   "nbconvert_exporter": "python",
   "pygments_lexer": "ipython3",
   "version": "3.12.4"
  }
 },
 "nbformat": 4,
 "nbformat_minor": 5
}
