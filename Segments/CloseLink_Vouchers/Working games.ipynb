{
 "cells": [
  {
   "cell_type": "code",
   "execution_count": 120,
   "id": "fd0749ed-2003-49b0-a62f-1ffe42b019bf",
   "metadata": {},
   "outputs": [],
   "source": [
    "import pandas as pd\n",
    "import numpy as np\n",
    "import os"
   ]
  },
  {
   "cell_type": "code",
   "execution_count": 121,
   "id": "285f4f9b-c381-4100-8d25-47d79dbac830",
   "metadata": {},
   "outputs": [
    {
     "name": "stderr",
     "output_type": "stream",
     "text": [
      "/var/folders/nt/lqq9984n7p3fpfvd92swmw280000gn/T/ipykernel_32295/3250463268.py:23: DtypeWarning:\n",
      "\n",
      "Columns (16,21,31,35,38,40,44,45,64,65,70,71,75) have mixed types. Specify dtype option on import or set low_memory=False.\n",
      "\n"
     ]
    },
    {
     "data": {
      "text/html": [
       "<div>\n",
       "<style scoped>\n",
       "    .dataframe tbody tr th:only-of-type {\n",
       "        vertical-align: middle;\n",
       "    }\n",
       "\n",
       "    .dataframe tbody tr th {\n",
       "        vertical-align: top;\n",
       "    }\n",
       "\n",
       "    .dataframe thead th {\n",
       "        text-align: right;\n",
       "    }\n",
       "</style>\n",
       "<table border=\"1\" class=\"dataframe\">\n",
       "  <thead>\n",
       "    <tr style=\"text-align: right;\">\n",
       "      <th></th>\n",
       "      <th>Event Name</th>\n",
       "      <th>Name</th>\n",
       "      <th>Type</th>\n",
       "      <th>Count</th>\n",
       "    </tr>\n",
       "  </thead>\n",
       "  <tbody>\n",
       "    <tr>\n",
       "      <th>0</th>\n",
       "      <td>Round 2_ Hapoel Tel Aviv 🚗</td>\n",
       "      <td>-50%t</td>\n",
       "      <td>Voucher</td>\n",
       "      <td>7</td>\n",
       "    </tr>\n",
       "    <tr>\n",
       "      <th>1</th>\n",
       "      <td>Round 2_ Hapoel Tel Aviv 🚗</td>\n",
       "      <td>-50t</td>\n",
       "      <td>Voucher</td>\n",
       "      <td>4</td>\n",
       "    </tr>\n",
       "    <tr>\n",
       "      <th>2</th>\n",
       "      <td>Round 2_ Hapoel Tel Aviv 🚗</td>\n",
       "      <td>00</td>\n",
       "      <td>Voucher</td>\n",
       "      <td>2</td>\n",
       "    </tr>\n",
       "    <tr>\n",
       "      <th>3</th>\n",
       "      <td>Round 2_ Hapoel Tel Aviv 🚗</td>\n",
       "      <td>lovehaphat</td>\n",
       "      <td>Voucher</td>\n",
       "      <td>9</td>\n",
       "    </tr>\n",
       "    <tr>\n",
       "      <th>4</th>\n",
       "      <td>Round 2_ Hapoel Tel Aviv 🚗</td>\n",
       "      <td>טסט קופון רב פעמי 1</td>\n",
       "      <td>Voucher</td>\n",
       "      <td>2</td>\n",
       "    </tr>\n",
       "    <tr>\n",
       "      <th>...</th>\n",
       "      <td>...</td>\n",
       "      <td>...</td>\n",
       "      <td>...</td>\n",
       "      <td>...</td>\n",
       "    </tr>\n",
       "    <tr>\n",
       "      <th>38</th>\n",
       "      <td>🏠 מחזור11_ הפועל ״בנק יהב״ ירושלים -מכבי ת\"א</td>\n",
       "      <td>HAPOELFAM2212</td>\n",
       "      <td>Voucher</td>\n",
       "      <td>1</td>\n",
       "    </tr>\n",
       "    <tr>\n",
       "      <th>39</th>\n",
       "      <td>🏠 מחזור11_ הפועל ״בנק יהב״ ירושלים -מכבי ת\"א</td>\n",
       "      <td>הפועל לב ירושלים</td>\n",
       "      <td>CloseLink</td>\n",
       "      <td>4</td>\n",
       "    </tr>\n",
       "    <tr>\n",
       "      <th>40</th>\n",
       "      <td>🏠 מחזור11_ הפועל ״בנק יהב״ ירושלים -מכבי ת\"א</td>\n",
       "      <td>טסט קופון רב פעמי 1</td>\n",
       "      <td>Voucher</td>\n",
       "      <td>2</td>\n",
       "    </tr>\n",
       "    <tr>\n",
       "      <th>41</th>\n",
       "      <td>🏠 מחזור11_ הפועל ״בנק יהב״ ירושלים -מכבי ת\"א</td>\n",
       "      <td>מאפס קרדיט</td>\n",
       "      <td>Voucher</td>\n",
       "      <td>1</td>\n",
       "    </tr>\n",
       "    <tr>\n",
       "      <th>42</th>\n",
       "      <td>🏠 מחזור11_ הפועל ״בנק יהב״ ירושלים -מכבי ת\"א</td>\n",
       "      <td>צוות דובדבן</td>\n",
       "      <td>CloseLink</td>\n",
       "      <td>23</td>\n",
       "    </tr>\n",
       "  </tbody>\n",
       "</table>\n",
       "<p>162 rows × 4 columns</p>\n",
       "</div>"
      ],
      "text/plain": [
       "                                      Event Name                 Name  \\\n",
       "0                     Round 2_ Hapoel Tel Aviv 🚗                -50%t   \n",
       "1                     Round 2_ Hapoel Tel Aviv 🚗                 -50t   \n",
       "2                     Round 2_ Hapoel Tel Aviv 🚗                   00   \n",
       "3                     Round 2_ Hapoel Tel Aviv 🚗           lovehaphat   \n",
       "4                     Round 2_ Hapoel Tel Aviv 🚗  טסט קופון רב פעמי 1   \n",
       "..                                           ...                  ...   \n",
       "38  🏠 מחזור11_ הפועל ״בנק יהב״ ירושלים -מכבי ת\"א        HAPOELFAM2212   \n",
       "39  🏠 מחזור11_ הפועל ״בנק יהב״ ירושלים -מכבי ת\"א     הפועל לב ירושלים   \n",
       "40  🏠 מחזור11_ הפועל ״בנק יהב״ ירושלים -מכבי ת\"א  טסט קופון רב פעמי 1   \n",
       "41  🏠 מחזור11_ הפועל ״בנק יהב״ ירושלים -מכבי ת\"א           מאפס קרדיט   \n",
       "42  🏠 מחזור11_ הפועל ״בנק יהב״ ירושלים -מכבי ת\"א          צוות דובדבן   \n",
       "\n",
       "         Type  Count  \n",
       "0     Voucher      7  \n",
       "1     Voucher      4  \n",
       "2     Voucher      2  \n",
       "3     Voucher      9  \n",
       "4     Voucher      2  \n",
       "..        ...    ...  \n",
       "38    Voucher      1  \n",
       "39  CloseLink      4  \n",
       "40    Voucher      2  \n",
       "41    Voucher      1  \n",
       "42  CloseLink     23  \n",
       "\n",
       "[162 rows x 4 columns]"
      ]
     },
     "execution_count": 121,
     "metadata": {},
     "output_type": "execute_result"
    }
   ],
   "source": [
    "game_files = [\n",
    "    'AuthorizedAttendanceReportCsv_Round 2_ Hapoel Tel Aviv 🚗.csv',\n",
    "    'AuthorizedAttendanceReportCsv_Round 4_ Hapoel Holon 🏠.csv',\n",
    "    'AuthorizedAttendanceReportCsv_Round 8_ Hapoel Afula 🏠.csv',\n",
    "    'AuthorizedAttendanceReportCsv_🏠 מחזור 9_ הפועל ״בנק יהב״ ירושלים -הפועל גליל עליון.csv',\n",
    "    'AuthorizedAttendanceReportCsv_🏠 מחזור11_ הפועל ״בנק יהב״ ירושלים -מכבי ת\"א.csv',\n",
    "    'AuthorizedAttendanceReportCsv_ליגת ווינר סל מחזור 17_ גלבוע גליל 🏠.csv',\n",
    "    'AuthorizedAttendanceReportCsv_ליגת ווינר סל מחזור 18_ הרצליה 🏠 .csv',\n",
    "    'AuthorizedAttendanceReportCsv_ליגת ווינר סל מחזור 20_ הפועל חיפה 🏠.csv',\n",
    "    'AuthorizedAttendanceReportCsv_מחזור 22_ אליצור עירוני נתניה 🏠.csv',\n",
    "    'AuthorizedAttendanceReportCsv_מחזור 24_ הפועל באר שבע - דימונה 🏠.csv',\n",
    "    'AuthorizedAttendanceReportCsv_מחזור 26_ עירוני נס ציונה 🏠.csv',\n",
    "    'AuthorizedAttendanceReportCsv_רבע גמר 1_ מכבי  עירוני רמת גן 🏠.csv',\n",
    "    'AuthorizedAttendanceReportCsv_רבע גמר 3_ מכבי  עירוני רמת גן 🏠.csv',\n",
    "    'AuthorizedAttendanceReportCsv_חצי גמר משחק 2_ הפועל תל אביב 🏠.csv',\n",
    "    'AuthorizedAttendanceReportCsv_גמר ליגת ווינר משחק 2_ מכבי תל אביב 🏠.csv'\n",
    "]\n",
    "\n",
    "summary_list = []\n",
    "raw_data_list = [] \n",
    "\n",
    "for file in game_files:\n",
    "    game_df = pd.read_csv(file)\n",
    "    game_df['Full Name'] = game_df['First name'] + \" \" + game_df['Last name']\n",
    "\n",
    "    # Add Event Name\n",
    "    event_name = file.split('Csv_')[1].replace('.csv', '')\n",
    "    game_df['Event Name'] = event_name\n",
    "\n",
    "    # Store unfiltered raw data\n",
    "    raw_data_list.append(game_df.copy())\n",
    "\n",
    "    # Filter only single ticket purchases\n",
    "    game_df = game_df[(game_df['STRefID'].isna()) & (game_df['Type'] == 'Ticket')]\n",
    "\n",
    "    # Use Voucher or CloseLink\n",
    "    game_df['Name'] = np.where(\n",
    "        game_df['Voucher name'].notna(),\n",
    "        game_df['Voucher name'],\n",
    "        game_df['CloseLink reservation name']\n",
    "    )\n",
    "\n",
    "    game_df['Type'] = np.where(\n",
    "        game_df['Voucher name'].notna(),\n",
    "        'Voucher',\n",
    "        'CloseLink'\n",
    "    )\n",
    "\n",
    "    # Drop NA group names\n",
    "    game_df = game_df.dropna(subset=['Name'])\n",
    "\n",
    "    # Group by\n",
    "    grouped = game_df.groupby(['Name']).size().reset_index(name='Count')\n",
    "    grouped['Event Name'] = event_name\n",
    "\n",
    "    grouped = grouped.merge(\n",
    "        game_df[['Type', 'Name']].drop_duplicates(subset='Name'),\n",
    "        on='Name',\n",
    "        how='left'\n",
    "    )\n",
    "\n",
    "    summary_list.append(grouped)\n",
    "\n",
    "\n",
    "working_games = pd.concat(summary_list, ignore_index=True)\n",
    "\n",
    "# Define unwanted substrings\n",
    "unwanted_substrings = ['חוץ', 'אורחת', 'רמת גן קישור לאוהדים', 'הפועל באר שבע דימונה', 'ניסיון קהילה']\n",
    "\n",
    "# Filter out rows where Name contains any of the unwanted substrings\n",
    "pattern = '|'.join(unwanted_substrings)\n",
    "working_games = working_games[~working_games['Name'].str.contains(pattern, na=False)]\n",
    "\n",
    "\n",
    "working_games = working_games[['Event Name', 'Name', 'Type', 'Count']].sort_values(by=['Event Name', 'Name'])\n",
    "working_games.to_excel('working_games.xlsx')\n",
    "\n",
    "all_raw_data = pd.concat(raw_data_list, ignore_index=True)\n",
    "\n",
    "working_games"
   ]
  },
  {
   "cell_type": "markdown",
   "id": "059369c5-b575-4562-acbb-51c1b4ef7eea",
   "metadata": {},
   "source": [
    "### Same table with names and id of the people who used it:"
   ]
  },
  {
   "cell_type": "code",
   "execution_count": 122,
   "id": "4d56cfc7-e0bb-48d3-b924-4ffc35e45fa2",
   "metadata": {},
   "outputs": [
    {
     "name": "stderr",
     "output_type": "stream",
     "text": [
      "/var/folders/nt/lqq9984n7p3fpfvd92swmw280000gn/T/ipykernel_32295/3461724238.py:25: DtypeWarning:\n",
      "\n",
      "Columns (16,21,31,35,38,40,44,45,64,65,70,71,75) have mixed types. Specify dtype option on import or set low_memory=False.\n",
      "\n"
     ]
    },
    {
     "data": {
      "text/html": [
       "<div>\n",
       "<style scoped>\n",
       "    .dataframe tbody tr th:only-of-type {\n",
       "        vertical-align: middle;\n",
       "    }\n",
       "\n",
       "    .dataframe tbody tr th {\n",
       "        vertical-align: top;\n",
       "    }\n",
       "\n",
       "    .dataframe thead th {\n",
       "        text-align: right;\n",
       "    }\n",
       "</style>\n",
       "<table border=\"1\" class=\"dataframe\">\n",
       "  <thead>\n",
       "    <tr style=\"text-align: right;\">\n",
       "      <th></th>\n",
       "      <th>Event Name</th>\n",
       "      <th>Name</th>\n",
       "      <th>Full Name</th>\n",
       "      <th>assign using  ID number</th>\n",
       "      <th>Age</th>\n",
       "      <th>Type</th>\n",
       "      <th>Transaction date</th>\n",
       "      <th>Count</th>\n",
       "    </tr>\n",
       "  </thead>\n",
       "  <tbody>\n",
       "    <tr>\n",
       "      <th>8</th>\n",
       "      <td>Round 2_ Hapoel Tel Aviv 🚗</td>\n",
       "      <td>-50%t</td>\n",
       "      <td>יקי קוזאהינוף</td>\n",
       "      <td>027124510</td>\n",
       "      <td>51.0</td>\n",
       "      <td>Voucher</td>\n",
       "      <td>2024-10-13</td>\n",
       "      <td>1</td>\n",
       "    </tr>\n",
       "    <tr>\n",
       "      <th>11</th>\n",
       "      <td>Round 2_ Hapoel Tel Aviv 🚗</td>\n",
       "      <td>-50%t</td>\n",
       "      <td>גיל בש</td>\n",
       "      <td>GILBASH@GMAIL.COM</td>\n",
       "      <td>NaN</td>\n",
       "      <td>Voucher</td>\n",
       "      <td>2024-10-13</td>\n",
       "      <td>1</td>\n",
       "    </tr>\n",
       "    <tr>\n",
       "      <th>13</th>\n",
       "      <td>Round 2_ Hapoel Tel Aviv 🚗</td>\n",
       "      <td>-50%t</td>\n",
       "      <td>אבי סמואלס</td>\n",
       "      <td>28327</td>\n",
       "      <td>24.0</td>\n",
       "      <td>Voucher</td>\n",
       "      <td>2024-10-13</td>\n",
       "      <td>1</td>\n",
       "    </tr>\n",
       "    <tr>\n",
       "      <th>4</th>\n",
       "      <td>Round 2_ Hapoel Tel Aviv 🚗</td>\n",
       "      <td>-50t</td>\n",
       "      <td>יאיר מרינוב</td>\n",
       "      <td>11206</td>\n",
       "      <td>24.0</td>\n",
       "      <td>Voucher</td>\n",
       "      <td>2024-10-09</td>\n",
       "      <td>1</td>\n",
       "    </tr>\n",
       "    <tr>\n",
       "      <th>2</th>\n",
       "      <td>Round 2_ Hapoel Tel Aviv 🚗</td>\n",
       "      <td>00</td>\n",
       "      <td>ELAD KASIR</td>\n",
       "      <td>217991017</td>\n",
       "      <td>15.0</td>\n",
       "      <td>Voucher</td>\n",
       "      <td>2024-10-09</td>\n",
       "      <td>1</td>\n",
       "    </tr>\n",
       "    <tr>\n",
       "      <th>...</th>\n",
       "      <td>...</td>\n",
       "      <td>...</td>\n",
       "      <td>...</td>\n",
       "      <td>...</td>\n",
       "      <td>...</td>\n",
       "      <td>...</td>\n",
       "      <td>...</td>\n",
       "      <td>...</td>\n",
       "    </tr>\n",
       "    <tr>\n",
       "      <th>930</th>\n",
       "      <td>🏠 מחזור11_ הפועל ״בנק יהב״ ירושלים -מכבי ת\"א</td>\n",
       "      <td>צוות דובדבן</td>\n",
       "      <td>עילי ליכטנשטיין</td>\n",
       "      <td>326612280</td>\n",
       "      <td>20.0</td>\n",
       "      <td>CloseLink</td>\n",
       "      <td>2024-12-16</td>\n",
       "      <td>1</td>\n",
       "    </tr>\n",
       "    <tr>\n",
       "      <th>931</th>\n",
       "      <td>🏠 מחזור11_ הפועל ״בנק יהב״ ירושלים -מכבי ת\"א</td>\n",
       "      <td>צוות דובדבן</td>\n",
       "      <td>איתי תורג׳מן</td>\n",
       "      <td>324187095</td>\n",
       "      <td>20.0</td>\n",
       "      <td>CloseLink</td>\n",
       "      <td>2024-12-16</td>\n",
       "      <td>1</td>\n",
       "    </tr>\n",
       "    <tr>\n",
       "      <th>932</th>\n",
       "      <td>🏠 מחזור11_ הפועל ״בנק יהב״ ירושלים -מכבי ת\"א</td>\n",
       "      <td>צוות דובדבן</td>\n",
       "      <td>יונתן אליעז</td>\n",
       "      <td>216009829</td>\n",
       "      <td>19.0</td>\n",
       "      <td>CloseLink</td>\n",
       "      <td>2024-12-16</td>\n",
       "      <td>1</td>\n",
       "    </tr>\n",
       "    <tr>\n",
       "      <th>949</th>\n",
       "      <td>🏠 מחזור11_ הפועל ״בנק יהב״ ירושלים -מכבי ת\"א</td>\n",
       "      <td>צוות דובדבן</td>\n",
       "      <td>נטלי אנגלמן</td>\n",
       "      <td>306930702</td>\n",
       "      <td>45.0</td>\n",
       "      <td>CloseLink</td>\n",
       "      <td>2024-12-19</td>\n",
       "      <td>1</td>\n",
       "    </tr>\n",
       "    <tr>\n",
       "      <th>950</th>\n",
       "      <td>🏠 מחזור11_ הפועל ״בנק יהב״ ירושלים -מכבי ת\"א</td>\n",
       "      <td>צוות דובדבן</td>\n",
       "      <td>אייל תנעזר</td>\n",
       "      <td>214160111</td>\n",
       "      <td>21.0</td>\n",
       "      <td>CloseLink</td>\n",
       "      <td>2024-12-19</td>\n",
       "      <td>1</td>\n",
       "    </tr>\n",
       "  </tbody>\n",
       "</table>\n",
       "<p>3917 rows × 8 columns</p>\n",
       "</div>"
      ],
      "text/plain": [
       "                                       Event Name         Name  \\\n",
       "8                      Round 2_ Hapoel Tel Aviv 🚗        -50%t   \n",
       "11                     Round 2_ Hapoel Tel Aviv 🚗        -50%t   \n",
       "13                     Round 2_ Hapoel Tel Aviv 🚗        -50%t   \n",
       "4                      Round 2_ Hapoel Tel Aviv 🚗         -50t   \n",
       "2                      Round 2_ Hapoel Tel Aviv 🚗           00   \n",
       "..                                            ...          ...   \n",
       "930  🏠 מחזור11_ הפועל ״בנק יהב״ ירושלים -מכבי ת\"א  צוות דובדבן   \n",
       "931  🏠 מחזור11_ הפועל ״בנק יהב״ ירושלים -מכבי ת\"א  צוות דובדבן   \n",
       "932  🏠 מחזור11_ הפועל ״בנק יהב״ ירושלים -מכבי ת\"א  צוות דובדבן   \n",
       "949  🏠 מחזור11_ הפועל ״בנק יהב״ ירושלים -מכבי ת\"א  צוות דובדבן   \n",
       "950  🏠 מחזור11_ הפועל ״בנק יהב״ ירושלים -מכבי ת\"א  צוות דובדבן   \n",
       "\n",
       "           Full Name assign using  ID number   Age       Type  \\\n",
       "8      יקי קוזאהינוף               027124510  51.0    Voucher   \n",
       "11            גיל בש       GILBASH@GMAIL.COM   NaN    Voucher   \n",
       "13        אבי סמואלס                   28327  24.0    Voucher   \n",
       "4        יאיר מרינוב                   11206  24.0    Voucher   \n",
       "2         ELAD KASIR               217991017  15.0    Voucher   \n",
       "..               ...                     ...   ...        ...   \n",
       "930  עילי ליכטנשטיין               326612280  20.0  CloseLink   \n",
       "931     איתי תורג׳מן               324187095  20.0  CloseLink   \n",
       "932      יונתן אליעז               216009829  19.0  CloseLink   \n",
       "949      נטלי אנגלמן               306930702  45.0  CloseLink   \n",
       "950       אייל תנעזר               214160111  21.0  CloseLink   \n",
       "\n",
       "    Transaction date  Count  \n",
       "8         2024-10-13      1  \n",
       "11        2024-10-13      1  \n",
       "13        2024-10-13      1  \n",
       "4         2024-10-09      1  \n",
       "2         2024-10-09      1  \n",
       "..               ...    ...  \n",
       "930       2024-12-16      1  \n",
       "931       2024-12-16      1  \n",
       "932       2024-12-16      1  \n",
       "949       2024-12-19      1  \n",
       "950       2024-12-19      1  \n",
       "\n",
       "[3917 rows x 8 columns]"
      ]
     },
     "execution_count": 122,
     "metadata": {},
     "output_type": "execute_result"
    }
   ],
   "source": [
    "from fuzzywuzzy import fuzz\n",
    "from fuzzywuzzy import process\n",
    "import pandas as pd\n",
    "import numpy as np\n",
    "import re\n",
    "\n",
    "def normalize_name(name):\n",
    "    if pd.isna(name):\n",
    "        return name\n",
    "    name = str(name)\n",
    "    name = name.replace(\"'\", \"\")  # remove apostrophes\n",
    "    name = name.replace('\"', \"\")  # remove double quotes\n",
    "    name = name.replace('אשה', 'אישה')  # fix missing י\n",
    "    name = name.replace('בית ספר כרמים', 'בית הספר כרמים')  # fix missing י\n",
    "    name = re.sub(r'\\bה\\s+', '', name)  # remove 'ה' if it's at beginning of a word\n",
    "    name = re.sub(r'\\s+', ' ', name)  # normalize multiple spaces\n",
    "    name = name.strip()  # remove leading/trailing spaces\n",
    "    return name\n",
    "\n",
    "\n",
    "summary_list = []\n",
    "raw_data_list = [] \n",
    "\n",
    "for file in game_files:\n",
    "    game_df = pd.read_csv(file)\n",
    "\n",
    "    if 'Transaction date' in game_df.columns:\n",
    "        game_df['Transaction date'] = pd.to_datetime(game_df['Transaction date'], errors='coerce').dt.date\n",
    "    else:\n",
    "        game_df['Transaction date'] = pd.NaT  # Fill with NaT if not present\n",
    "\n",
    "    game_df['Full Name'] = game_df['First name'] + \" \" + game_df['Last name']\n",
    "\n",
    "    # Add Event Name\n",
    "    event_name = file.split('Csv_')[1].replace('.csv', '')\n",
    "    game_df['Event Name'] = event_name\n",
    "\n",
    "    # Store unfiltered raw data\n",
    "    raw_data_list.append(game_df.copy())\n",
    "\n",
    "    # Filter only single ticket purchases\n",
    "    game_df = game_df[(game_df['STRefID'].isna()) & (game_df['Type'] == 'Ticket')]\n",
    "\n",
    "    # Use Voucher or CloseLink\n",
    "    game_df['Name'] = np.where(\n",
    "        game_df['Voucher name'].notna(),\n",
    "        game_df['Voucher name'],\n",
    "        game_df['CloseLink reservation name']\n",
    "    )\n",
    "\n",
    "    game_df['Type'] = np.where(\n",
    "        game_df['Voucher name'].notna(),\n",
    "        'Voucher',\n",
    "        'CloseLink'\n",
    "    )\n",
    "\n",
    "    # Drop NA group names\n",
    "    game_df = game_df.dropna(subset=['Name'])\n",
    "\n",
    "    # Instead of grouping: just select columns\n",
    "    selected = game_df[['Event Name', 'Name', 'Full Name', 'assign using  ID number', 'Age', 'Type', 'Transaction date']].copy()\n",
    "\n",
    "    selected['Count'] = 1  # each row = 1 ticket/person\n",
    "\n",
    "    summary_list.append(selected)\n",
    "\n",
    "working_games_with_ids = pd.concat(summary_list, ignore_index=True)\n",
    "\n",
    "# Drop bad rows\n",
    "working_games_with_ids = working_games_with_ids.dropna(subset=['assign using  ID number'])\n",
    "working_games_with_ids = working_games_with_ids[\n",
    "    working_games_with_ids['assign using  ID number'].astype(str).str.len() > 2\n",
    "]\n",
    "working_games_with_ids = working_games_with_ids.drop_duplicates()\n",
    "\n",
    "# Normalize names\n",
    "working_games_with_ids['Name_normalized'] = working_games_with_ids['Name'].apply(normalize_name)\n",
    "\n",
    "# Fuzzy match similar names\n",
    "unique_names = working_games_with_ids['Name_normalized'].unique()\n",
    "name_mapping = {}\n",
    "\n",
    "for name in unique_names:\n",
    "    if name not in name_mapping:\n",
    "        matches = process.extract(name, unique_names, scorer=fuzz.token_sort_ratio)\n",
    "        for match_name, score in matches:\n",
    "            if score > 90:  # adjust threshold if needed\n",
    "                name_mapping[match_name] = name\n",
    "\n",
    "# Apply mapping\n",
    "working_games_with_ids['Name_normalized'] = working_games_with_ids['Name_normalized'].map(name_mapping).fillna(working_games_with_ids['Name_normalized'])\n",
    "\n",
    "# Replace Name column\n",
    "working_games_with_ids['Name'] = working_games_with_ids['Name_normalized']\n",
    "working_games_with_ids = working_games_with_ids.drop(columns=['Name_normalized'])\n",
    "\n",
    "# Define unwanted substrings\n",
    "unwanted_substrings = ['חוץ', 'אורחת', 'רמת גן קישור לאוהדים', 'הפועל באר שבע דימונה', 'ניסיון קהילה']\n",
    "\n",
    "# Filter out rows where Name contains any of the unwanted substrings\n",
    "pattern = '|'.join(unwanted_substrings)\n",
    "working_games_with_ids = working_games_with_ids[~working_games_with_ids['Name'].str.contains(pattern, na=False)]\n",
    "\n",
    "# Final sorting\n",
    "working_games_with_ids = working_games_with_ids.sort_values(by=['Event Name', 'Name'])\n",
    "\n",
    "# Export to Excel\n",
    "working_games_with_ids.to_excel('working_games_with_ids.xlsx', index=False)\n",
    "\n",
    "working_games_with_ids"
   ]
  },
  {
   "cell_type": "code",
   "execution_count": 123,
   "id": "aeb96c56-9b4b-4235-8628-6e0854ce78e2",
   "metadata": {},
   "outputs": [
    {
     "data": {
      "text/plain": [
       "array(['-50%t', '-50t', '00', 'lovehaphat', 'טסט קופון רב פעמי 1',\n",
       "       'Complementary game tickets', 'אישה לאישה', 'בית הלוחם',\n",
       "       'בית הספר בית הכרם', 'בית ספר תבל', 'הפועל ירושלים כדורעף',\n",
       "       'כרטיס ב-50% הנחה', 'מועצה אזורית עין גדי', 'מיכאל.', 'מקיף גילה',\n",
       "       '-100T', 'Credit', 'Resale', 'כרטיסי חבר גלריה', '-250', '100%T',\n",
       "       'זיכוי', 'חצי גמר 2025', 'יאללה הדסה', 'כרטיס חבר B',\n",
       "       'בית הספר כרמים', 'גדוד 53', 'הפועל אורן מודיעין', 'מכון סאמיט',\n",
       "       'מרכז קהילתי גוננים', 'עמותת עדי', 'שמחה לילד', 'תיכון הימלפרב',\n",
       "       'early0203', 'hjfamilyfriends', 'גימנסיה ירושלים', 'קרוס ריבר בנק',\n",
       "       'תיכון מבשרת', '-10%T', 'NCSY', 'מכינת יונתן',\n",
       "       'עובדי הדסה - קישור כללי', 'עמותת שבט הנובה', '-30%',\n",
       "       'בית ילדים רמת רחל', 'בית ספר גאולים', 'כפר שאול',\n",
       "       'כרטיסי ארגונים', 'מחלקת הנוער - הר אדר', 'מינהל קהילתי הר חומה',\n",
       "       'הפועל לב ירושלים', 'כרטיסים להגרלה', '-40T', '-80T', '40 ALL',\n",
       "       'קבוצת נוער רמת השרון', 'שוברי פסח 2025', 'שערי צדק 2.5',\n",
       "       'Athletes for Israel', 'לוחמי האש', 'מייבן תיירות 10.5',\n",
       "       'Early0712', 'משפחת אייזנשטדט', '-170', '100%DIS', '210FIX',\n",
       "       '240T', 'EARLY2212', 'HAPOELFAM2212', 'מאפס קרדיט', 'צוות דובדבן'],\n",
       "      dtype=object)"
      ]
     },
     "execution_count": 123,
     "metadata": {},
     "output_type": "execute_result"
    }
   ],
   "source": [
    "working_games_with_ids['Name'].unique()"
   ]
  },
  {
   "cell_type": "markdown",
   "id": "7616f19a-b03c-41fd-981b-1cdee619198f",
   "metadata": {},
   "source": [
    "### All row data:"
   ]
  },
  {
   "cell_type": "code",
   "execution_count": 124,
   "id": "b4d9d707-9e30-4e2d-852a-6b74340a85ba",
   "metadata": {},
   "outputs": [
    {
     "data": {
      "text/html": [
       "<div>\n",
       "<style scoped>\n",
       "    .dataframe tbody tr th:only-of-type {\n",
       "        vertical-align: middle;\n",
       "    }\n",
       "\n",
       "    .dataframe tbody tr th {\n",
       "        vertical-align: top;\n",
       "    }\n",
       "\n",
       "    .dataframe thead th {\n",
       "        text-align: right;\n",
       "    }\n",
       "</style>\n",
       "<table border=\"1\" class=\"dataframe\">\n",
       "  <thead>\n",
       "    <tr style=\"text-align: right;\">\n",
       "      <th></th>\n",
       "      <th>Event Id</th>\n",
       "      <th>assign using  ID number</th>\n",
       "      <th>First name</th>\n",
       "      <th>Last name</th>\n",
       "      <th>School</th>\n",
       "      <th>Gender</th>\n",
       "      <th>Age</th>\n",
       "      <th>Email</th>\n",
       "      <th>Id</th>\n",
       "      <th>Type</th>\n",
       "      <th>...</th>\n",
       "      <th>Voucher name</th>\n",
       "      <th>Voucher batch name</th>\n",
       "      <th>Discount price</th>\n",
       "      <th>Role</th>\n",
       "      <th>User group</th>\n",
       "      <th>Payment method</th>\n",
       "      <th>Ticket note</th>\n",
       "      <th>Season tickets</th>\n",
       "      <th>Attendance</th>\n",
       "      <th>Attendance date</th>\n",
       "    </tr>\n",
       "  </thead>\n",
       "  <tbody>\n",
       "    <tr>\n",
       "      <th>0</th>\n",
       "      <td>1694</td>\n",
       "      <td>NaN</td>\n",
       "      <td>NaN</td>\n",
       "      <td>NaN</td>\n",
       "      <td>NaN</td>\n",
       "      <td>Unknown</td>\n",
       "      <td>NaN</td>\n",
       "      <td>NaN</td>\n",
       "      <td>3045986</td>\n",
       "      <td>Ticket</td>\n",
       "      <td>...</td>\n",
       "      <td>NaN</td>\n",
       "      <td>NaN</td>\n",
       "      <td>No discount</td>\n",
       "      <td>Administrator</td>\n",
       "      <td>NaN</td>\n",
       "      <td>Cash</td>\n",
       "      <td>NaN</td>\n",
       "      <td>NaN</td>\n",
       "      <td>No</td>\n",
       "      <td>No data</td>\n",
       "    </tr>\n",
       "    <tr>\n",
       "      <th>1</th>\n",
       "      <td>1694</td>\n",
       "      <td>43552660</td>\n",
       "      <td>עינת</td>\n",
       "      <td>מידן-דוד</td>\n",
       "      <td>NaN</td>\n",
       "      <td>Female</td>\n",
       "      <td>42.0</td>\n",
       "      <td>einatth@gmail.com</td>\n",
       "      <td>3046265</td>\n",
       "      <td>Ticket</td>\n",
       "      <td>...</td>\n",
       "      <td>NaN</td>\n",
       "      <td>NaN</td>\n",
       "      <td>No discount</td>\n",
       "      <td>Fan</td>\n",
       "      <td>NaN</td>\n",
       "      <td>Other</td>\n",
       "      <td>NaN</td>\n",
       "      <td>NaN</td>\n",
       "      <td>No</td>\n",
       "      <td>No data</td>\n",
       "    </tr>\n",
       "    <tr>\n",
       "      <th>2</th>\n",
       "      <td>1694</td>\n",
       "      <td>236546305</td>\n",
       "      <td>נועם</td>\n",
       "      <td>אהרוני</td>\n",
       "      <td>NaN</td>\n",
       "      <td>Unknown</td>\n",
       "      <td>1.0</td>\n",
       "      <td>NaN</td>\n",
       "      <td>3050463</td>\n",
       "      <td>Ticket</td>\n",
       "      <td>...</td>\n",
       "      <td>NaN</td>\n",
       "      <td>NaN</td>\n",
       "      <td>No discount</td>\n",
       "      <td>Administrator</td>\n",
       "      <td>NaN</td>\n",
       "      <td>Pelecard_Credit Card</td>\n",
       "      <td>NaN</td>\n",
       "      <td>NaN</td>\n",
       "      <td>No</td>\n",
       "      <td>No data</td>\n",
       "    </tr>\n",
       "    <tr>\n",
       "      <th>3</th>\n",
       "      <td>1694</td>\n",
       "      <td>43467760</td>\n",
       "      <td>עדו</td>\n",
       "      <td>מידן דוד</td>\n",
       "      <td>NaN</td>\n",
       "      <td>Male</td>\n",
       "      <td>43.0</td>\n",
       "      <td>idomedan@gmail.com</td>\n",
       "      <td>3053065</td>\n",
       "      <td>Ticket</td>\n",
       "      <td>...</td>\n",
       "      <td>NaN</td>\n",
       "      <td>NaN</td>\n",
       "      <td>No discount</td>\n",
       "      <td>Administrator</td>\n",
       "      <td>פרימיום, חיילים בסדיר, מילואים, Hapoel Test gr...</td>\n",
       "      <td>Cash</td>\n",
       "      <td>NaN</td>\n",
       "      <td>NaN</td>\n",
       "      <td>No</td>\n",
       "      <td>No data</td>\n",
       "    </tr>\n",
       "    <tr>\n",
       "      <th>4</th>\n",
       "      <td>1694</td>\n",
       "      <td>215015306</td>\n",
       "      <td>עילי</td>\n",
       "      <td>שליו</td>\n",
       "      <td>NaN</td>\n",
       "      <td>Unknown</td>\n",
       "      <td>20.0</td>\n",
       "      <td>NaN</td>\n",
       "      <td>3053295</td>\n",
       "      <td>Ticket</td>\n",
       "      <td>...</td>\n",
       "      <td>NaN</td>\n",
       "      <td>NaN</td>\n",
       "      <td>No discount</td>\n",
       "      <td>Fan</td>\n",
       "      <td>NaN</td>\n",
       "      <td>Pelecard_Credit Card</td>\n",
       "      <td>NaN</td>\n",
       "      <td>NaN</td>\n",
       "      <td>Yes</td>\n",
       "      <td>2024-10-13 20:05:30</td>\n",
       "    </tr>\n",
       "    <tr>\n",
       "      <th>...</th>\n",
       "      <td>...</td>\n",
       "      <td>...</td>\n",
       "      <td>...</td>\n",
       "      <td>...</td>\n",
       "      <td>...</td>\n",
       "      <td>...</td>\n",
       "      <td>...</td>\n",
       "      <td>...</td>\n",
       "      <td>...</td>\n",
       "      <td>...</td>\n",
       "      <td>...</td>\n",
       "      <td>...</td>\n",
       "      <td>...</td>\n",
       "      <td>...</td>\n",
       "      <td>...</td>\n",
       "      <td>...</td>\n",
       "      <td>...</td>\n",
       "      <td>...</td>\n",
       "      <td>...</td>\n",
       "      <td>...</td>\n",
       "      <td>...</td>\n",
       "    </tr>\n",
       "    <tr>\n",
       "      <th>90263</th>\n",
       "      <td>4172</td>\n",
       "      <td>339027559</td>\n",
       "      <td>זיו</td>\n",
       "      <td>קציר</td>\n",
       "      <td>NaN</td>\n",
       "      <td>Unknown</td>\n",
       "      <td>11.0</td>\n",
       "      <td>NaN</td>\n",
       "      <td>899550</td>\n",
       "      <td>SeasonTicket</td>\n",
       "      <td>...</td>\n",
       "      <td>NaN</td>\n",
       "      <td>NaN</td>\n",
       "      <td>No discount</td>\n",
       "      <td>Administrator</td>\n",
       "      <td>NaN</td>\n",
       "      <td>External Payment Subscriptions</td>\n",
       "      <td>NaN</td>\n",
       "      <td>NaN</td>\n",
       "      <td>No</td>\n",
       "      <td>No data</td>\n",
       "    </tr>\n",
       "    <tr>\n",
       "      <th>90264</th>\n",
       "      <td>4172</td>\n",
       "      <td>222664401</td>\n",
       "      <td>מיטל</td>\n",
       "      <td>הערצקה</td>\n",
       "      <td>NaN</td>\n",
       "      <td>Unknown</td>\n",
       "      <td>10.0</td>\n",
       "      <td>NaN</td>\n",
       "      <td>899556</td>\n",
       "      <td>SeasonTicket</td>\n",
       "      <td>...</td>\n",
       "      <td>NaN</td>\n",
       "      <td>NaN</td>\n",
       "      <td>No discount</td>\n",
       "      <td>Administrator</td>\n",
       "      <td>NaN</td>\n",
       "      <td>Pelecard_Credit Card</td>\n",
       "      <td>NaN</td>\n",
       "      <td>NaN</td>\n",
       "      <td>No</td>\n",
       "      <td>No data</td>\n",
       "    </tr>\n",
       "    <tr>\n",
       "      <th>90265</th>\n",
       "      <td>4172</td>\n",
       "      <td>332578384</td>\n",
       "      <td>איילה</td>\n",
       "      <td>הערצקה</td>\n",
       "      <td>NaN</td>\n",
       "      <td>Female</td>\n",
       "      <td>15.0</td>\n",
       "      <td>isaacherzka8@gmail.com</td>\n",
       "      <td>899557</td>\n",
       "      <td>SeasonTicket</td>\n",
       "      <td>...</td>\n",
       "      <td>NaN</td>\n",
       "      <td>NaN</td>\n",
       "      <td>No discount</td>\n",
       "      <td>Administrator</td>\n",
       "      <td>NaN</td>\n",
       "      <td>Pelecard_Credit Card</td>\n",
       "      <td>NaN</td>\n",
       "      <td>NaN</td>\n",
       "      <td>No</td>\n",
       "      <td>No data</td>\n",
       "    </tr>\n",
       "    <tr>\n",
       "      <th>90266</th>\n",
       "      <td>4172</td>\n",
       "      <td>25304320</td>\n",
       "      <td>ערן</td>\n",
       "      <td>ויס</td>\n",
       "      <td>NaN</td>\n",
       "      <td>Male</td>\n",
       "      <td>51.0</td>\n",
       "      <td>eranwe36@gmail.com</td>\n",
       "      <td>899563</td>\n",
       "      <td>SeasonTicket</td>\n",
       "      <td>...</td>\n",
       "      <td>NaN</td>\n",
       "      <td>NaN</td>\n",
       "      <td>No discount</td>\n",
       "      <td>Administrator</td>\n",
       "      <td>NaN</td>\n",
       "      <td>Pelecard_Credit Card</td>\n",
       "      <td>NaN</td>\n",
       "      <td>NaN</td>\n",
       "      <td>No</td>\n",
       "      <td>No data</td>\n",
       "    </tr>\n",
       "    <tr>\n",
       "      <th>90267</th>\n",
       "      <td>4172</td>\n",
       "      <td>333193563</td>\n",
       "      <td>אלון</td>\n",
       "      <td>ויס</td>\n",
       "      <td>NaN</td>\n",
       "      <td>Male</td>\n",
       "      <td>16.0</td>\n",
       "      <td>alonweiss123@gmail.com</td>\n",
       "      <td>899567</td>\n",
       "      <td>SeasonTicket</td>\n",
       "      <td>...</td>\n",
       "      <td>NaN</td>\n",
       "      <td>NaN</td>\n",
       "      <td>No discount</td>\n",
       "      <td>Administrator</td>\n",
       "      <td>NaN</td>\n",
       "      <td>Pelecard_Credit Card</td>\n",
       "      <td>NaN</td>\n",
       "      <td>NaN</td>\n",
       "      <td>No</td>\n",
       "      <td>No data</td>\n",
       "    </tr>\n",
       "  </tbody>\n",
       "</table>\n",
       "<p>90268 rows × 50 columns</p>\n",
       "</div>"
      ],
      "text/plain": [
       "       Event Id assign using  ID number First name Last name School   Gender  \\\n",
       "0          1694                     NaN        NaN       NaN    NaN  Unknown   \n",
       "1          1694                43552660       עינת  מידן-דוד    NaN   Female   \n",
       "2          1694               236546305       נועם    אהרוני    NaN  Unknown   \n",
       "3          1694                43467760        עדו  מידן דוד    NaN     Male   \n",
       "4          1694               215015306       עילי      שליו    NaN  Unknown   \n",
       "...         ...                     ...        ...       ...    ...      ...   \n",
       "90263      4172               339027559        זיו      קציר    NaN  Unknown   \n",
       "90264      4172               222664401       מיטל    הערצקה    NaN  Unknown   \n",
       "90265      4172               332578384      איילה    הערצקה    NaN   Female   \n",
       "90266      4172                25304320        ערן       ויס    NaN     Male   \n",
       "90267      4172               333193563       אלון       ויס    NaN     Male   \n",
       "\n",
       "        Age                   Email       Id          Type  ... Voucher name  \\\n",
       "0       NaN                     NaN  3045986        Ticket  ...          NaN   \n",
       "1      42.0       einatth@gmail.com  3046265        Ticket  ...          NaN   \n",
       "2       1.0                     NaN  3050463        Ticket  ...          NaN   \n",
       "3      43.0      idomedan@gmail.com  3053065        Ticket  ...          NaN   \n",
       "4      20.0                     NaN  3053295        Ticket  ...          NaN   \n",
       "...     ...                     ...      ...           ...  ...          ...   \n",
       "90263  11.0                     NaN   899550  SeasonTicket  ...          NaN   \n",
       "90264  10.0                     NaN   899556  SeasonTicket  ...          NaN   \n",
       "90265  15.0  isaacherzka8@gmail.com   899557  SeasonTicket  ...          NaN   \n",
       "90266  51.0      eranwe36@gmail.com   899563  SeasonTicket  ...          NaN   \n",
       "90267  16.0  alonweiss123@gmail.com   899567  SeasonTicket  ...          NaN   \n",
       "\n",
       "       Voucher batch name Discount price           Role  \\\n",
       "0                     NaN    No discount  Administrator   \n",
       "1                     NaN    No discount            Fan   \n",
       "2                     NaN    No discount  Administrator   \n",
       "3                     NaN    No discount  Administrator   \n",
       "4                     NaN    No discount            Fan   \n",
       "...                   ...            ...            ...   \n",
       "90263                 NaN    No discount  Administrator   \n",
       "90264                 NaN    No discount  Administrator   \n",
       "90265                 NaN    No discount  Administrator   \n",
       "90266                 NaN    No discount  Administrator   \n",
       "90267                 NaN    No discount  Administrator   \n",
       "\n",
       "                                              User group  \\\n",
       "0                                                    NaN   \n",
       "1                                                    NaN   \n",
       "2                                                    NaN   \n",
       "3      פרימיום, חיילים בסדיר, מילואים, Hapoel Test gr...   \n",
       "4                                                    NaN   \n",
       "...                                                  ...   \n",
       "90263                                                NaN   \n",
       "90264                                                NaN   \n",
       "90265                                                NaN   \n",
       "90266                                                NaN   \n",
       "90267                                                NaN   \n",
       "\n",
       "                       Payment method Ticket note  Season tickets  Attendance  \\\n",
       "0                                Cash         NaN             NaN          No   \n",
       "1                               Other         NaN             NaN          No   \n",
       "2                Pelecard_Credit Card         NaN             NaN          No   \n",
       "3                                Cash         NaN             NaN          No   \n",
       "4                Pelecard_Credit Card         NaN             NaN         Yes   \n",
       "...                               ...         ...             ...         ...   \n",
       "90263  External Payment Subscriptions         NaN             NaN          No   \n",
       "90264            Pelecard_Credit Card         NaN             NaN          No   \n",
       "90265            Pelecard_Credit Card         NaN             NaN          No   \n",
       "90266            Pelecard_Credit Card         NaN             NaN          No   \n",
       "90267            Pelecard_Credit Card         NaN             NaN          No   \n",
       "\n",
       "           Attendance date  \n",
       "0                  No data  \n",
       "1                  No data  \n",
       "2                  No data  \n",
       "3                  No data  \n",
       "4      2024-10-13 20:05:30  \n",
       "...                    ...  \n",
       "90263              No data  \n",
       "90264              No data  \n",
       "90265              No data  \n",
       "90266              No data  \n",
       "90267              No data  \n",
       "\n",
       "[90268 rows x 50 columns]"
      ]
     },
     "execution_count": 124,
     "metadata": {},
     "output_type": "execute_result"
    }
   ],
   "source": [
    "columns_to_keep = [\n",
    "    'Event Id', 'assign using  ID number', 'First name', 'Last name', 'School', 'Gender', 'Age', 'Email', 'Id', 'Type', 'Event Name',\n",
    "    'Additional phone number', 'Product', 'STRefID', 'OwnerSTUserId', 'OwnerSTName', 'Subtype Ticket number', 'Barcode', 'Card number',\n",
    "    'User Id', 'Street', 'House number City', 'Country', 'Zip code', 'Stand', 'Area', 'Row', 'Number', 'Price area', 'Entrance code',\n",
    "    'Entrance text', 'Transaction identifier', 'Transaction date', 'Delivery type', 'Price type', 'Price paid', 'Phone No.',\n",
    "    'Transaction owner first name', 'Transaction owner last name', 'Transaction owner email', 'CloseLink reservation name',\n",
    "    'CloseLink code', 'Voucher name', 'Voucher batch name', 'Discount price', 'Role', 'User group', 'Payment method', 'Ticket note',\n",
    "    'Season tickets', 'Custom field 1 UserIdentityVerified', 'Attendance', 'Attendance date'\n",
    "]\n",
    "\n",
    "# Keep only columns that actually exist in the final DataFrame\n",
    "existing_columns = [col for col in columns_to_keep if col in all_raw_data.columns]\n",
    "all_raw_data = all_raw_data[existing_columns]\n",
    "\n",
    "all_raw_data.to_excel('all_raw_data.xlsx')\n",
    "\n",
    "all_raw_data"
   ]
  },
  {
   "cell_type": "markdown",
   "id": "9e2716d8",
   "metadata": {},
   "source": [
    "## Community data for Irit:"
   ]
  },
  {
   "cell_type": "code",
   "execution_count": 137,
   "id": "c02996df",
   "metadata": {},
   "outputs": [
    {
     "data": {
      "text/html": [
       "<div>\n",
       "<style scoped>\n",
       "    .dataframe tbody tr th:only-of-type {\n",
       "        vertical-align: middle;\n",
       "    }\n",
       "\n",
       "    .dataframe tbody tr th {\n",
       "        vertical-align: top;\n",
       "    }\n",
       "\n",
       "    .dataframe thead th {\n",
       "        text-align: right;\n",
       "    }\n",
       "</style>\n",
       "<table border=\"1\" class=\"dataframe\">\n",
       "  <thead>\n",
       "    <tr style=\"text-align: right;\">\n",
       "      <th></th>\n",
       "      <th>createdon</th>\n",
       "      <th>Full Name</th>\n",
       "      <th>identifier</th>\n",
       "    </tr>\n",
       "  </thead>\n",
       "  <tbody>\n",
       "    <tr>\n",
       "      <th>0</th>\n",
       "      <td>2024-03-28</td>\n",
       "      <td>אביתר שמחוביץ</td>\n",
       "      <td>339130957</td>\n",
       "    </tr>\n",
       "    <tr>\n",
       "      <th>1</th>\n",
       "      <td>2024-03-28</td>\n",
       "      <td>גיא סלוניקי</td>\n",
       "      <td>201463015</td>\n",
       "    </tr>\n",
       "    <tr>\n",
       "      <th>2</th>\n",
       "      <td>2024-03-28</td>\n",
       "      <td>Uriya Aharoni</td>\n",
       "      <td>039052600</td>\n",
       "    </tr>\n",
       "    <tr>\n",
       "      <th>3</th>\n",
       "      <td>2024-03-28</td>\n",
       "      <td>דבורה זקין</td>\n",
       "      <td>321153488</td>\n",
       "    </tr>\n",
       "    <tr>\n",
       "      <th>4</th>\n",
       "      <td>2024-03-28</td>\n",
       "      <td>גל נוברט</td>\n",
       "      <td>208287953</td>\n",
       "    </tr>\n",
       "    <tr>\n",
       "      <th>...</th>\n",
       "      <td>...</td>\n",
       "      <td>...</td>\n",
       "      <td>...</td>\n",
       "    </tr>\n",
       "    <tr>\n",
       "      <th>23194</th>\n",
       "      <td>2025-06-14</td>\n",
       "      <td>איתי קליין</td>\n",
       "      <td>213143431</td>\n",
       "    </tr>\n",
       "    <tr>\n",
       "      <th>23195</th>\n",
       "      <td>2025-06-14</td>\n",
       "      <td>נרקיס יפת</td>\n",
       "      <td>313748360</td>\n",
       "    </tr>\n",
       "    <tr>\n",
       "      <th>23196</th>\n",
       "      <td>2025-06-15</td>\n",
       "      <td>רזיאל זלקר</td>\n",
       "      <td>323074500</td>\n",
       "    </tr>\n",
       "    <tr>\n",
       "      <th>23197</th>\n",
       "      <td>2025-06-15</td>\n",
       "      <td>גיא שחורי</td>\n",
       "      <td>216993212</td>\n",
       "    </tr>\n",
       "    <tr>\n",
       "      <th>23198</th>\n",
       "      <td>2025-06-16</td>\n",
       "      <td>f gk</td>\n",
       "      <td>307941021</td>\n",
       "    </tr>\n",
       "  </tbody>\n",
       "</table>\n",
       "<p>23199 rows × 3 columns</p>\n",
       "</div>"
      ],
      "text/plain": [
       "        createdon      Full Name identifier\n",
       "0      2024-03-28  אביתר שמחוביץ  339130957\n",
       "1      2024-03-28    גיא סלוניקי  201463015\n",
       "2      2024-03-28  Uriya Aharoni  039052600\n",
       "3      2024-03-28     דבורה זקין  321153488\n",
       "4      2024-03-28       גל נוברט  208287953\n",
       "...           ...            ...        ...\n",
       "23194  2025-06-14     איתי קליין  213143431\n",
       "23195  2025-06-14      נרקיס יפת  313748360\n",
       "23196  2025-06-15     רזיאל זלקר  323074500\n",
       "23197  2025-06-15      גיא שחורי  216993212\n",
       "23198  2025-06-16           f gk  307941021\n",
       "\n",
       "[23199 rows x 3 columns]"
      ]
     },
     "execution_count": 137,
     "metadata": {},
     "output_type": "execute_result"
    }
   ],
   "source": [
    "users = pd.read_csv('UserCreatedReport_2025-06-18 13_18.csv')\n",
    "users['Full Name'] = users['firstname'] + \" \" + users['lastname']\n",
    "users = users[['createdon', 'Full Name', 'identifier']]\n",
    "users['createdon'] = pd.to_datetime(users['createdon'], errors='coerce').dt.date\n",
    "\n",
    "users"
   ]
  },
  {
   "cell_type": "code",
   "execution_count": 138,
   "id": "946d5543",
   "metadata": {},
   "outputs": [
    {
     "data": {
      "text/html": [
       "<div>\n",
       "<style scoped>\n",
       "    .dataframe tbody tr th:only-of-type {\n",
       "        vertical-align: middle;\n",
       "    }\n",
       "\n",
       "    .dataframe tbody tr th {\n",
       "        vertical-align: top;\n",
       "    }\n",
       "\n",
       "    .dataframe thead th {\n",
       "        text-align: right;\n",
       "    }\n",
       "</style>\n",
       "<table border=\"1\" class=\"dataframe\">\n",
       "  <thead>\n",
       "    <tr style=\"text-align: right;\">\n",
       "      <th></th>\n",
       "      <th>Event Name</th>\n",
       "      <th>Name</th>\n",
       "      <th>Full Name_x</th>\n",
       "      <th>assign using  ID number</th>\n",
       "      <th>Age</th>\n",
       "      <th>Type</th>\n",
       "      <th>Transaction date</th>\n",
       "      <th>Count</th>\n",
       "      <th>createdon</th>\n",
       "      <th>Full Name_y</th>\n",
       "      <th>identifier</th>\n",
       "    </tr>\n",
       "  </thead>\n",
       "  <tbody>\n",
       "    <tr>\n",
       "      <th>0</th>\n",
       "      <td>Round 2_ Hapoel Tel Aviv 🚗</td>\n",
       "      <td>-50%t</td>\n",
       "      <td>יקי קוזאהינוף</td>\n",
       "      <td>027124510</td>\n",
       "      <td>51.0</td>\n",
       "      <td>Voucher</td>\n",
       "      <td>2024-10-13</td>\n",
       "      <td>1</td>\n",
       "      <td>2024-10-13</td>\n",
       "      <td>יקי קוזאהינוף</td>\n",
       "      <td>027124510</td>\n",
       "    </tr>\n",
       "    <tr>\n",
       "      <th>1</th>\n",
       "      <td>Round 2_ Hapoel Tel Aviv 🚗</td>\n",
       "      <td>-50%t</td>\n",
       "      <td>גיל בש</td>\n",
       "      <td>GILBASH@GMAIL.COM</td>\n",
       "      <td>NaN</td>\n",
       "      <td>Voucher</td>\n",
       "      <td>2024-10-13</td>\n",
       "      <td>1</td>\n",
       "      <td>2024-10-13</td>\n",
       "      <td>גיל בש</td>\n",
       "      <td>GILBASH@GMAIL.COM</td>\n",
       "    </tr>\n",
       "    <tr>\n",
       "      <th>2</th>\n",
       "      <td>Round 2_ Hapoel Tel Aviv 🚗</td>\n",
       "      <td>-50%t</td>\n",
       "      <td>אבי סמואלס</td>\n",
       "      <td>28327</td>\n",
       "      <td>24.0</td>\n",
       "      <td>Voucher</td>\n",
       "      <td>2024-10-13</td>\n",
       "      <td>1</td>\n",
       "      <td>2024-03-28</td>\n",
       "      <td>אבי סמואלס</td>\n",
       "      <td>28327</td>\n",
       "    </tr>\n",
       "    <tr>\n",
       "      <th>3</th>\n",
       "      <td>Round 2_ Hapoel Tel Aviv 🚗</td>\n",
       "      <td>-50t</td>\n",
       "      <td>יאיר מרינוב</td>\n",
       "      <td>11206</td>\n",
       "      <td>24.0</td>\n",
       "      <td>Voucher</td>\n",
       "      <td>2024-10-09</td>\n",
       "      <td>1</td>\n",
       "      <td>2024-03-28</td>\n",
       "      <td>יאיר מרינוב</td>\n",
       "      <td>11206</td>\n",
       "    </tr>\n",
       "    <tr>\n",
       "      <th>4</th>\n",
       "      <td>Round 2_ Hapoel Tel Aviv 🚗</td>\n",
       "      <td>00</td>\n",
       "      <td>ELAD KASIR</td>\n",
       "      <td>217991017</td>\n",
       "      <td>15.0</td>\n",
       "      <td>Voucher</td>\n",
       "      <td>2024-10-09</td>\n",
       "      <td>1</td>\n",
       "      <td>2024-09-30</td>\n",
       "      <td>ELAD KASIR</td>\n",
       "      <td>217991017</td>\n",
       "    </tr>\n",
       "    <tr>\n",
       "      <th>...</th>\n",
       "      <td>...</td>\n",
       "      <td>...</td>\n",
       "      <td>...</td>\n",
       "      <td>...</td>\n",
       "      <td>...</td>\n",
       "      <td>...</td>\n",
       "      <td>...</td>\n",
       "      <td>...</td>\n",
       "      <td>...</td>\n",
       "      <td>...</td>\n",
       "      <td>...</td>\n",
       "    </tr>\n",
       "    <tr>\n",
       "      <th>3915</th>\n",
       "      <td>🏠 מחזור11_ הפועל ״בנק יהב״ ירושלים -מכבי ת\"א</td>\n",
       "      <td>צוות דובדבן</td>\n",
       "      <td>עילי ליכטנשטיין</td>\n",
       "      <td>326612280</td>\n",
       "      <td>20.0</td>\n",
       "      <td>CloseLink</td>\n",
       "      <td>2024-12-16</td>\n",
       "      <td>1</td>\n",
       "      <td>2024-12-16</td>\n",
       "      <td>עילי ליכטנשטיין</td>\n",
       "      <td>326612280</td>\n",
       "    </tr>\n",
       "    <tr>\n",
       "      <th>3916</th>\n",
       "      <td>🏠 מחזור11_ הפועל ״בנק יהב״ ירושלים -מכבי ת\"א</td>\n",
       "      <td>צוות דובדבן</td>\n",
       "      <td>איתי תורג׳מן</td>\n",
       "      <td>324187095</td>\n",
       "      <td>20.0</td>\n",
       "      <td>CloseLink</td>\n",
       "      <td>2024-12-16</td>\n",
       "      <td>1</td>\n",
       "      <td>2024-12-16</td>\n",
       "      <td>איתי תורג׳מן</td>\n",
       "      <td>324187095</td>\n",
       "    </tr>\n",
       "    <tr>\n",
       "      <th>3917</th>\n",
       "      <td>🏠 מחזור11_ הפועל ״בנק יהב״ ירושלים -מכבי ת\"א</td>\n",
       "      <td>צוות דובדבן</td>\n",
       "      <td>יונתן אליעז</td>\n",
       "      <td>216009829</td>\n",
       "      <td>19.0</td>\n",
       "      <td>CloseLink</td>\n",
       "      <td>2024-12-16</td>\n",
       "      <td>1</td>\n",
       "      <td>2024-12-16</td>\n",
       "      <td>יונתן אליעז</td>\n",
       "      <td>216009829</td>\n",
       "    </tr>\n",
       "    <tr>\n",
       "      <th>3918</th>\n",
       "      <td>🏠 מחזור11_ הפועל ״בנק יהב״ ירושלים -מכבי ת\"א</td>\n",
       "      <td>צוות דובדבן</td>\n",
       "      <td>נטלי אנגלמן</td>\n",
       "      <td>306930702</td>\n",
       "      <td>45.0</td>\n",
       "      <td>CloseLink</td>\n",
       "      <td>2024-12-19</td>\n",
       "      <td>1</td>\n",
       "      <td>2024-12-18</td>\n",
       "      <td>נטלי אנגלמן</td>\n",
       "      <td>306930702</td>\n",
       "    </tr>\n",
       "    <tr>\n",
       "      <th>3919</th>\n",
       "      <td>🏠 מחזור11_ הפועל ״בנק יהב״ ירושלים -מכבי ת\"א</td>\n",
       "      <td>צוות דובדבן</td>\n",
       "      <td>אייל תנעזר</td>\n",
       "      <td>214160111</td>\n",
       "      <td>21.0</td>\n",
       "      <td>CloseLink</td>\n",
       "      <td>2024-12-19</td>\n",
       "      <td>1</td>\n",
       "      <td>2024-12-19</td>\n",
       "      <td>אייל תנעזר</td>\n",
       "      <td>214160111</td>\n",
       "    </tr>\n",
       "  </tbody>\n",
       "</table>\n",
       "<p>3920 rows × 11 columns</p>\n",
       "</div>"
      ],
      "text/plain": [
       "                                        Event Name         Name  \\\n",
       "0                       Round 2_ Hapoel Tel Aviv 🚗        -50%t   \n",
       "1                       Round 2_ Hapoel Tel Aviv 🚗        -50%t   \n",
       "2                       Round 2_ Hapoel Tel Aviv 🚗        -50%t   \n",
       "3                       Round 2_ Hapoel Tel Aviv 🚗         -50t   \n",
       "4                       Round 2_ Hapoel Tel Aviv 🚗           00   \n",
       "...                                            ...          ...   \n",
       "3915  🏠 מחזור11_ הפועל ״בנק יהב״ ירושלים -מכבי ת\"א  צוות דובדבן   \n",
       "3916  🏠 מחזור11_ הפועל ״בנק יהב״ ירושלים -מכבי ת\"א  צוות דובדבן   \n",
       "3917  🏠 מחזור11_ הפועל ״בנק יהב״ ירושלים -מכבי ת\"א  צוות דובדבן   \n",
       "3918  🏠 מחזור11_ הפועל ״בנק יהב״ ירושלים -מכבי ת\"א  צוות דובדבן   \n",
       "3919  🏠 מחזור11_ הפועל ״בנק יהב״ ירושלים -מכבי ת\"א  צוות דובדבן   \n",
       "\n",
       "          Full Name_x assign using  ID number   Age       Type  \\\n",
       "0       יקי קוזאהינוף               027124510  51.0    Voucher   \n",
       "1              גיל בש       GILBASH@GMAIL.COM   NaN    Voucher   \n",
       "2          אבי סמואלס                   28327  24.0    Voucher   \n",
       "3         יאיר מרינוב                   11206  24.0    Voucher   \n",
       "4          ELAD KASIR               217991017  15.0    Voucher   \n",
       "...               ...                     ...   ...        ...   \n",
       "3915  עילי ליכטנשטיין               326612280  20.0  CloseLink   \n",
       "3916     איתי תורג׳מן               324187095  20.0  CloseLink   \n",
       "3917      יונתן אליעז               216009829  19.0  CloseLink   \n",
       "3918      נטלי אנגלמן               306930702  45.0  CloseLink   \n",
       "3919       אייל תנעזר               214160111  21.0  CloseLink   \n",
       "\n",
       "     Transaction date  Count   createdon      Full Name_y         identifier  \n",
       "0          2024-10-13      1  2024-10-13    יקי קוזאהינוף          027124510  \n",
       "1          2024-10-13      1  2024-10-13           גיל בש  GILBASH@GMAIL.COM  \n",
       "2          2024-10-13      1  2024-03-28       אבי סמואלס              28327  \n",
       "3          2024-10-09      1  2024-03-28      יאיר מרינוב              11206  \n",
       "4          2024-10-09      1  2024-09-30       ELAD KASIR          217991017  \n",
       "...               ...    ...         ...              ...                ...  \n",
       "3915       2024-12-16      1  2024-12-16  עילי ליכטנשטיין          326612280  \n",
       "3916       2024-12-16      1  2024-12-16     איתי תורג׳מן          324187095  \n",
       "3917       2024-12-16      1  2024-12-16      יונתן אליעז          216009829  \n",
       "3918       2024-12-19      1  2024-12-18      נטלי אנגלמן          306930702  \n",
       "3919       2024-12-19      1  2024-12-19       אייל תנעזר          214160111  \n",
       "\n",
       "[3920 rows x 11 columns]"
      ]
     },
     "execution_count": 138,
     "metadata": {},
     "output_type": "execute_result"
    }
   ],
   "source": [
    "merged = pd.merge(\n",
    "    working_games_with_ids,\n",
    "    users,\n",
    "    left_on='assign using  ID number',\n",
    "    right_on='identifier',\n",
    "    how='left'\n",
    ")\n",
    "\n",
    "merged"
   ]
  },
  {
   "cell_type": "code",
   "execution_count": 139,
   "id": "fc07a62e",
   "metadata": {},
   "outputs": [
    {
     "name": "stdout",
     "output_type": "stream",
     "text": [
      "Shape: (2969, 11)\n"
     ]
    }
   ],
   "source": [
    "test = merged.copy()\n",
    "test = test[test['Type'] == 'CloseLink']\n",
    "print('Shape:' ,test.shape)"
   ]
  },
  {
   "cell_type": "code",
   "execution_count": 140,
   "id": "47307c76",
   "metadata": {},
   "outputs": [
    {
     "name": "stderr",
     "output_type": "stream",
     "text": [
      "/var/folders/nt/lqq9984n7p3fpfvd92swmw280000gn/T/ipykernel_32295/2881411419.py:4: SettingWithCopyWarning:\n",
      "\n",
      "\n",
      "A value is trying to be set on a copy of a slice from a DataFrame.\n",
      "Try using .loc[row_indexer,col_indexer] = value instead\n",
      "\n",
      "See the caveats in the documentation: https://pandas.pydata.org/pandas-docs/stable/user_guide/indexing.html#returning-a-view-versus-a-copy\n",
      "\n",
      "/var/folders/nt/lqq9984n7p3fpfvd92swmw280000gn/T/ipykernel_32295/2881411419.py:5: SettingWithCopyWarning:\n",
      "\n",
      "\n",
      "A value is trying to be set on a copy of a slice from a DataFrame.\n",
      "Try using .loc[row_indexer,col_indexer] = value instead\n",
      "\n",
      "See the caveats in the documentation: https://pandas.pydata.org/pandas-docs/stable/user_guide/indexing.html#returning-a-view-versus-a-copy\n",
      "\n",
      "/var/folders/nt/lqq9984n7p3fpfvd92swmw280000gn/T/ipykernel_32295/2881411419.py:8: SettingWithCopyWarning:\n",
      "\n",
      "\n",
      "A value is trying to be set on a copy of a slice from a DataFrame.\n",
      "Try using .loc[row_indexer,col_indexer] = value instead\n",
      "\n",
      "See the caveats in the documentation: https://pandas.pydata.org/pandas-docs/stable/user_guide/indexing.html#returning-a-view-versus-a-copy\n",
      "\n",
      "/var/folders/nt/lqq9984n7p3fpfvd92swmw280000gn/T/ipykernel_32295/2881411419.py:10: SettingWithCopyWarning:\n",
      "\n",
      "\n",
      "A value is trying to be set on a copy of a slice from a DataFrame.\n",
      "Try using .loc[row_indexer,col_indexer] = value instead\n",
      "\n",
      "See the caveats in the documentation: https://pandas.pydata.org/pandas-docs/stable/user_guide/indexing.html#returning-a-view-versus-a-copy\n",
      "\n",
      "/var/folders/nt/lqq9984n7p3fpfvd92swmw280000gn/T/ipykernel_32295/2881411419.py:11: SettingWithCopyWarning:\n",
      "\n",
      "\n",
      "A value is trying to be set on a copy of a slice from a DataFrame.\n",
      "Try using .loc[row_indexer,col_indexer] = value instead\n",
      "\n",
      "See the caveats in the documentation: https://pandas.pydata.org/pandas-docs/stable/user_guide/indexing.html#returning-a-view-versus-a-copy\n",
      "\n"
     ]
    },
    {
     "data": {
      "text/html": [
       "<div>\n",
       "<style scoped>\n",
       "    .dataframe tbody tr th:only-of-type {\n",
       "        vertical-align: middle;\n",
       "    }\n",
       "\n",
       "    .dataframe tbody tr th {\n",
       "        vertical-align: top;\n",
       "    }\n",
       "\n",
       "    .dataframe thead th {\n",
       "        text-align: right;\n",
       "    }\n",
       "</style>\n",
       "<table border=\"1\" class=\"dataframe\">\n",
       "  <thead>\n",
       "    <tr style=\"text-align: right;\">\n",
       "      <th></th>\n",
       "      <th>Event Name</th>\n",
       "      <th>Name</th>\n",
       "      <th>Full Name_x</th>\n",
       "      <th>assign using  ID number</th>\n",
       "      <th>Age</th>\n",
       "      <th>Type</th>\n",
       "      <th>Transaction date</th>\n",
       "      <th>Count</th>\n",
       "      <th>createdon</th>\n",
       "      <th>Full Name_y</th>\n",
       "      <th>identifier</th>\n",
       "      <th>days_diff</th>\n",
       "    </tr>\n",
       "  </thead>\n",
       "  <tbody>\n",
       "    <tr>\n",
       "      <th>18</th>\n",
       "      <td>Round 8_ Hapoel Afula 🏠</td>\n",
       "      <td>אישה לאישה</td>\n",
       "      <td>איילת בן יעקב</td>\n",
       "      <td>301607347</td>\n",
       "      <td>36</td>\n",
       "      <td>CloseLink</td>\n",
       "      <td>2024-11-15</td>\n",
       "      <td>1</td>\n",
       "      <td>2024-11-15</td>\n",
       "      <td>איילת בן יעקב</td>\n",
       "      <td>301607347</td>\n",
       "      <td>0</td>\n",
       "    </tr>\n",
       "    <tr>\n",
       "      <th>19</th>\n",
       "      <td>Round 8_ Hapoel Afula 🏠</td>\n",
       "      <td>אישה לאישה</td>\n",
       "      <td>נועם בן יעקב</td>\n",
       "      <td>344013602</td>\n",
       "      <td>7</td>\n",
       "      <td>CloseLink</td>\n",
       "      <td>2024-11-15</td>\n",
       "      <td>1</td>\n",
       "      <td>2024-11-15</td>\n",
       "      <td>נועם בן יעקב</td>\n",
       "      <td>344013602</td>\n",
       "      <td>0</td>\n",
       "    </tr>\n",
       "    <tr>\n",
       "      <th>20</th>\n",
       "      <td>Round 8_ Hapoel Afula 🏠</td>\n",
       "      <td>אישה לאישה</td>\n",
       "      <td>נעמי ג'אנה</td>\n",
       "      <td>012438388</td>\n",
       "      <td>59</td>\n",
       "      <td>CloseLink</td>\n",
       "      <td>2024-11-15</td>\n",
       "      <td>1</td>\n",
       "      <td>2024-11-15</td>\n",
       "      <td>נעמי ג'אנה</td>\n",
       "      <td>012438388</td>\n",
       "      <td>0</td>\n",
       "    </tr>\n",
       "    <tr>\n",
       "      <th>21</th>\n",
       "      <td>Round 8_ Hapoel Afula 🏠</td>\n",
       "      <td>אישה לאישה</td>\n",
       "      <td>עמית שובל</td>\n",
       "      <td>328117718</td>\n",
       "      <td>20</td>\n",
       "      <td>CloseLink</td>\n",
       "      <td>2024-11-15</td>\n",
       "      <td>1</td>\n",
       "      <td>2024-11-15</td>\n",
       "      <td>עמית שובל</td>\n",
       "      <td>328117718</td>\n",
       "      <td>0</td>\n",
       "    </tr>\n",
       "    <tr>\n",
       "      <th>22</th>\n",
       "      <td>Round 8_ Hapoel Afula 🏠</td>\n",
       "      <td>אישה לאישה</td>\n",
       "      <td>יצחק שובל</td>\n",
       "      <td>038675211</td>\n",
       "      <td>56</td>\n",
       "      <td>CloseLink</td>\n",
       "      <td>2024-11-15</td>\n",
       "      <td>1</td>\n",
       "      <td>2024-11-15</td>\n",
       "      <td>יצחק שובל</td>\n",
       "      <td>038675211</td>\n",
       "      <td>0</td>\n",
       "    </tr>\n",
       "    <tr>\n",
       "      <th>...</th>\n",
       "      <td>...</td>\n",
       "      <td>...</td>\n",
       "      <td>...</td>\n",
       "      <td>...</td>\n",
       "      <td>...</td>\n",
       "      <td>...</td>\n",
       "      <td>...</td>\n",
       "      <td>...</td>\n",
       "      <td>...</td>\n",
       "      <td>...</td>\n",
       "      <td>...</td>\n",
       "      <td>...</td>\n",
       "    </tr>\n",
       "    <tr>\n",
       "      <th>3915</th>\n",
       "      <td>🏠 מחזור11_ הפועל ״בנק יהב״ ירושלים -מכבי ת\"א</td>\n",
       "      <td>צוות דובדבן</td>\n",
       "      <td>עילי ליכטנשטיין</td>\n",
       "      <td>326612280</td>\n",
       "      <td>20</td>\n",
       "      <td>CloseLink</td>\n",
       "      <td>2024-12-16</td>\n",
       "      <td>1</td>\n",
       "      <td>2024-12-16</td>\n",
       "      <td>עילי ליכטנשטיין</td>\n",
       "      <td>326612280</td>\n",
       "      <td>0</td>\n",
       "    </tr>\n",
       "    <tr>\n",
       "      <th>3916</th>\n",
       "      <td>🏠 מחזור11_ הפועל ״בנק יהב״ ירושלים -מכבי ת\"א</td>\n",
       "      <td>צוות דובדבן</td>\n",
       "      <td>איתי תורג׳מן</td>\n",
       "      <td>324187095</td>\n",
       "      <td>20</td>\n",
       "      <td>CloseLink</td>\n",
       "      <td>2024-12-16</td>\n",
       "      <td>1</td>\n",
       "      <td>2024-12-16</td>\n",
       "      <td>איתי תורג׳מן</td>\n",
       "      <td>324187095</td>\n",
       "      <td>0</td>\n",
       "    </tr>\n",
       "    <tr>\n",
       "      <th>3917</th>\n",
       "      <td>🏠 מחזור11_ הפועל ״בנק יהב״ ירושלים -מכבי ת\"א</td>\n",
       "      <td>צוות דובדבן</td>\n",
       "      <td>יונתן אליעז</td>\n",
       "      <td>216009829</td>\n",
       "      <td>19</td>\n",
       "      <td>CloseLink</td>\n",
       "      <td>2024-12-16</td>\n",
       "      <td>1</td>\n",
       "      <td>2024-12-16</td>\n",
       "      <td>יונתן אליעז</td>\n",
       "      <td>216009829</td>\n",
       "      <td>0</td>\n",
       "    </tr>\n",
       "    <tr>\n",
       "      <th>3918</th>\n",
       "      <td>🏠 מחזור11_ הפועל ״בנק יהב״ ירושלים -מכבי ת\"א</td>\n",
       "      <td>צוות דובדבן</td>\n",
       "      <td>נטלי אנגלמן</td>\n",
       "      <td>306930702</td>\n",
       "      <td>45</td>\n",
       "      <td>CloseLink</td>\n",
       "      <td>2024-12-19</td>\n",
       "      <td>1</td>\n",
       "      <td>2024-12-18</td>\n",
       "      <td>נטלי אנגלמן</td>\n",
       "      <td>306930702</td>\n",
       "      <td>1</td>\n",
       "    </tr>\n",
       "    <tr>\n",
       "      <th>3919</th>\n",
       "      <td>🏠 מחזור11_ הפועל ״בנק יהב״ ירושלים -מכבי ת\"א</td>\n",
       "      <td>צוות דובדבן</td>\n",
       "      <td>אייל תנעזר</td>\n",
       "      <td>214160111</td>\n",
       "      <td>21</td>\n",
       "      <td>CloseLink</td>\n",
       "      <td>2024-12-19</td>\n",
       "      <td>1</td>\n",
       "      <td>2024-12-19</td>\n",
       "      <td>אייל תנעזר</td>\n",
       "      <td>214160111</td>\n",
       "      <td>0</td>\n",
       "    </tr>\n",
       "  </tbody>\n",
       "</table>\n",
       "<p>2296 rows × 12 columns</p>\n",
       "</div>"
      ],
      "text/plain": [
       "                                        Event Name         Name  \\\n",
       "18                         Round 8_ Hapoel Afula 🏠   אישה לאישה   \n",
       "19                         Round 8_ Hapoel Afula 🏠   אישה לאישה   \n",
       "20                         Round 8_ Hapoel Afula 🏠   אישה לאישה   \n",
       "21                         Round 8_ Hapoel Afula 🏠   אישה לאישה   \n",
       "22                         Round 8_ Hapoel Afula 🏠   אישה לאישה   \n",
       "...                                            ...          ...   \n",
       "3915  🏠 מחזור11_ הפועל ״בנק יהב״ ירושלים -מכבי ת\"א  צוות דובדבן   \n",
       "3916  🏠 מחזור11_ הפועל ״בנק יהב״ ירושלים -מכבי ת\"א  צוות דובדבן   \n",
       "3917  🏠 מחזור11_ הפועל ״בנק יהב״ ירושלים -מכבי ת\"א  צוות דובדבן   \n",
       "3918  🏠 מחזור11_ הפועל ״בנק יהב״ ירושלים -מכבי ת\"א  צוות דובדבן   \n",
       "3919  🏠 מחזור11_ הפועל ״בנק יהב״ ירושלים -מכבי ת\"א  צוות דובדבן   \n",
       "\n",
       "          Full Name_x assign using  ID number  Age       Type  \\\n",
       "18      איילת בן יעקב               301607347   36  CloseLink   \n",
       "19       נועם בן יעקב               344013602    7  CloseLink   \n",
       "20         נעמי ג'אנה               012438388   59  CloseLink   \n",
       "21          עמית שובל               328117718   20  CloseLink   \n",
       "22          יצחק שובל               038675211   56  CloseLink   \n",
       "...               ...                     ...  ...        ...   \n",
       "3915  עילי ליכטנשטיין               326612280   20  CloseLink   \n",
       "3916     איתי תורג׳מן               324187095   20  CloseLink   \n",
       "3917      יונתן אליעז               216009829   19  CloseLink   \n",
       "3918      נטלי אנגלמן               306930702   45  CloseLink   \n",
       "3919       אייל תנעזר               214160111   21  CloseLink   \n",
       "\n",
       "     Transaction date  Count  createdon      Full Name_y identifier  days_diff  \n",
       "18         2024-11-15      1 2024-11-15    איילת בן יעקב  301607347          0  \n",
       "19         2024-11-15      1 2024-11-15     נועם בן יעקב  344013602          0  \n",
       "20         2024-11-15      1 2024-11-15       נעמי ג'אנה  012438388          0  \n",
       "21         2024-11-15      1 2024-11-15        עמית שובל  328117718          0  \n",
       "22         2024-11-15      1 2024-11-15        יצחק שובל  038675211          0  \n",
       "...               ...    ...        ...              ...        ...        ...  \n",
       "3915       2024-12-16      1 2024-12-16  עילי ליכטנשטיין  326612280          0  \n",
       "3916       2024-12-16      1 2024-12-16     איתי תורג׳מן  324187095          0  \n",
       "3917       2024-12-16      1 2024-12-16      יונתן אליעז  216009829          0  \n",
       "3918       2024-12-19      1 2024-12-18      נטלי אנגלמן  306930702          1  \n",
       "3919       2024-12-19      1 2024-12-19       אייל תנעזר  214160111          0  \n",
       "\n",
       "[2296 rows x 12 columns]"
      ]
     },
     "execution_count": 140,
     "metadata": {},
     "output_type": "execute_result"
    }
   ],
   "source": [
    "merged = merged[merged['Type'] == 'CloseLink']\n",
    "\n",
    "# Convert to proper datetime (not just .dt.date)\n",
    "merged['Transaction date'] = pd.to_datetime(merged['Transaction date'], errors='coerce')\n",
    "merged['createdon'] = pd.to_datetime(merged['createdon'], errors='coerce')\n",
    "\n",
    "# Now calculate the difference in days\n",
    "merged['days_diff'] = (merged['Transaction date'] - merged['createdon']).dt.days\n",
    "\n",
    "merged['Age'] = merged['Age'].fillna(0).astype(int)\n",
    "merged['days_diff'] = merged['days_diff'].fillna(0).astype(int)\n",
    "\n",
    "merged['days_diff'].value_counts().sort_index()\n",
    "merged = merged.drop_duplicates(subset=['assign using  ID number'])\n",
    "\n",
    "merged"
   ]
  },
  {
   "cell_type": "code",
   "execution_count": 141,
   "id": "d427f3d6",
   "metadata": {},
   "outputs": [
    {
     "data": {
      "text/html": [
       "<div>\n",
       "<style scoped>\n",
       "    .dataframe tbody tr th:only-of-type {\n",
       "        vertical-align: middle;\n",
       "    }\n",
       "\n",
       "    .dataframe tbody tr th {\n",
       "        vertical-align: top;\n",
       "    }\n",
       "\n",
       "    .dataframe thead th {\n",
       "        text-align: right;\n",
       "    }\n",
       "</style>\n",
       "<table border=\"1\" class=\"dataframe\">\n",
       "  <thead>\n",
       "    <tr style=\"text-align: right;\">\n",
       "      <th></th>\n",
       "      <th>Event Name</th>\n",
       "      <th>Name</th>\n",
       "      <th>Full Name_x</th>\n",
       "      <th>assign using  ID number</th>\n",
       "      <th>Age</th>\n",
       "      <th>Type</th>\n",
       "      <th>Transaction date</th>\n",
       "      <th>Count</th>\n",
       "      <th>createdon</th>\n",
       "      <th>days_diff</th>\n",
       "    </tr>\n",
       "  </thead>\n",
       "  <tbody>\n",
       "    <tr>\n",
       "      <th>18</th>\n",
       "      <td>Round 8_ Hapoel Afula 🏠</td>\n",
       "      <td>אישה לאישה</td>\n",
       "      <td>איילת בן יעקב</td>\n",
       "      <td>301607347</td>\n",
       "      <td>36</td>\n",
       "      <td>CloseLink</td>\n",
       "      <td>2024-11-15</td>\n",
       "      <td>1</td>\n",
       "      <td>2024-11-15</td>\n",
       "      <td>0</td>\n",
       "    </tr>\n",
       "    <tr>\n",
       "      <th>19</th>\n",
       "      <td>Round 8_ Hapoel Afula 🏠</td>\n",
       "      <td>אישה לאישה</td>\n",
       "      <td>נועם בן יעקב</td>\n",
       "      <td>344013602</td>\n",
       "      <td>7</td>\n",
       "      <td>CloseLink</td>\n",
       "      <td>2024-11-15</td>\n",
       "      <td>1</td>\n",
       "      <td>2024-11-15</td>\n",
       "      <td>0</td>\n",
       "    </tr>\n",
       "    <tr>\n",
       "      <th>20</th>\n",
       "      <td>Round 8_ Hapoel Afula 🏠</td>\n",
       "      <td>אישה לאישה</td>\n",
       "      <td>נעמי ג'אנה</td>\n",
       "      <td>012438388</td>\n",
       "      <td>59</td>\n",
       "      <td>CloseLink</td>\n",
       "      <td>2024-11-15</td>\n",
       "      <td>1</td>\n",
       "      <td>2024-11-15</td>\n",
       "      <td>0</td>\n",
       "    </tr>\n",
       "    <tr>\n",
       "      <th>21</th>\n",
       "      <td>Round 8_ Hapoel Afula 🏠</td>\n",
       "      <td>אישה לאישה</td>\n",
       "      <td>עמית שובל</td>\n",
       "      <td>328117718</td>\n",
       "      <td>20</td>\n",
       "      <td>CloseLink</td>\n",
       "      <td>2024-11-15</td>\n",
       "      <td>1</td>\n",
       "      <td>2024-11-15</td>\n",
       "      <td>0</td>\n",
       "    </tr>\n",
       "    <tr>\n",
       "      <th>22</th>\n",
       "      <td>Round 8_ Hapoel Afula 🏠</td>\n",
       "      <td>אישה לאישה</td>\n",
       "      <td>יצחק שובל</td>\n",
       "      <td>038675211</td>\n",
       "      <td>56</td>\n",
       "      <td>CloseLink</td>\n",
       "      <td>2024-11-15</td>\n",
       "      <td>1</td>\n",
       "      <td>2024-11-15</td>\n",
       "      <td>0</td>\n",
       "    </tr>\n",
       "    <tr>\n",
       "      <th>...</th>\n",
       "      <td>...</td>\n",
       "      <td>...</td>\n",
       "      <td>...</td>\n",
       "      <td>...</td>\n",
       "      <td>...</td>\n",
       "      <td>...</td>\n",
       "      <td>...</td>\n",
       "      <td>...</td>\n",
       "      <td>...</td>\n",
       "      <td>...</td>\n",
       "    </tr>\n",
       "    <tr>\n",
       "      <th>3915</th>\n",
       "      <td>🏠 מחזור11_ הפועל ״בנק יהב״ ירושלים -מכבי ת\"א</td>\n",
       "      <td>צוות דובדבן</td>\n",
       "      <td>עילי ליכטנשטיין</td>\n",
       "      <td>326612280</td>\n",
       "      <td>20</td>\n",
       "      <td>CloseLink</td>\n",
       "      <td>2024-12-16</td>\n",
       "      <td>1</td>\n",
       "      <td>2024-12-16</td>\n",
       "      <td>0</td>\n",
       "    </tr>\n",
       "    <tr>\n",
       "      <th>3916</th>\n",
       "      <td>🏠 מחזור11_ הפועל ״בנק יהב״ ירושלים -מכבי ת\"א</td>\n",
       "      <td>צוות דובדבן</td>\n",
       "      <td>איתי תורג׳מן</td>\n",
       "      <td>324187095</td>\n",
       "      <td>20</td>\n",
       "      <td>CloseLink</td>\n",
       "      <td>2024-12-16</td>\n",
       "      <td>1</td>\n",
       "      <td>2024-12-16</td>\n",
       "      <td>0</td>\n",
       "    </tr>\n",
       "    <tr>\n",
       "      <th>3917</th>\n",
       "      <td>🏠 מחזור11_ הפועל ״בנק יהב״ ירושלים -מכבי ת\"א</td>\n",
       "      <td>צוות דובדבן</td>\n",
       "      <td>יונתן אליעז</td>\n",
       "      <td>216009829</td>\n",
       "      <td>19</td>\n",
       "      <td>CloseLink</td>\n",
       "      <td>2024-12-16</td>\n",
       "      <td>1</td>\n",
       "      <td>2024-12-16</td>\n",
       "      <td>0</td>\n",
       "    </tr>\n",
       "    <tr>\n",
       "      <th>3918</th>\n",
       "      <td>🏠 מחזור11_ הפועל ״בנק יהב״ ירושלים -מכבי ת\"א</td>\n",
       "      <td>צוות דובדבן</td>\n",
       "      <td>נטלי אנגלמן</td>\n",
       "      <td>306930702</td>\n",
       "      <td>45</td>\n",
       "      <td>CloseLink</td>\n",
       "      <td>2024-12-19</td>\n",
       "      <td>1</td>\n",
       "      <td>2024-12-18</td>\n",
       "      <td>1</td>\n",
       "    </tr>\n",
       "    <tr>\n",
       "      <th>3919</th>\n",
       "      <td>🏠 מחזור11_ הפועל ״בנק יהב״ ירושלים -מכבי ת\"א</td>\n",
       "      <td>צוות דובדבן</td>\n",
       "      <td>אייל תנעזר</td>\n",
       "      <td>214160111</td>\n",
       "      <td>21</td>\n",
       "      <td>CloseLink</td>\n",
       "      <td>2024-12-19</td>\n",
       "      <td>1</td>\n",
       "      <td>2024-12-19</td>\n",
       "      <td>0</td>\n",
       "    </tr>\n",
       "  </tbody>\n",
       "</table>\n",
       "<p>2296 rows × 10 columns</p>\n",
       "</div>"
      ],
      "text/plain": [
       "                                        Event Name         Name  \\\n",
       "18                         Round 8_ Hapoel Afula 🏠   אישה לאישה   \n",
       "19                         Round 8_ Hapoel Afula 🏠   אישה לאישה   \n",
       "20                         Round 8_ Hapoel Afula 🏠   אישה לאישה   \n",
       "21                         Round 8_ Hapoel Afula 🏠   אישה לאישה   \n",
       "22                         Round 8_ Hapoel Afula 🏠   אישה לאישה   \n",
       "...                                            ...          ...   \n",
       "3915  🏠 מחזור11_ הפועל ״בנק יהב״ ירושלים -מכבי ת\"א  צוות דובדבן   \n",
       "3916  🏠 מחזור11_ הפועל ״בנק יהב״ ירושלים -מכבי ת\"א  צוות דובדבן   \n",
       "3917  🏠 מחזור11_ הפועל ״בנק יהב״ ירושלים -מכבי ת\"א  צוות דובדבן   \n",
       "3918  🏠 מחזור11_ הפועל ״בנק יהב״ ירושלים -מכבי ת\"א  צוות דובדבן   \n",
       "3919  🏠 מחזור11_ הפועל ״בנק יהב״ ירושלים -מכבי ת\"א  צוות דובדבן   \n",
       "\n",
       "          Full Name_x assign using  ID number  Age       Type  \\\n",
       "18      איילת בן יעקב               301607347   36  CloseLink   \n",
       "19       נועם בן יעקב               344013602    7  CloseLink   \n",
       "20         נעמי ג'אנה               012438388   59  CloseLink   \n",
       "21          עמית שובל               328117718   20  CloseLink   \n",
       "22          יצחק שובל               038675211   56  CloseLink   \n",
       "...               ...                     ...  ...        ...   \n",
       "3915  עילי ליכטנשטיין               326612280   20  CloseLink   \n",
       "3916     איתי תורג׳מן               324187095   20  CloseLink   \n",
       "3917      יונתן אליעז               216009829   19  CloseLink   \n",
       "3918      נטלי אנגלמן               306930702   45  CloseLink   \n",
       "3919       אייל תנעזר               214160111   21  CloseLink   \n",
       "\n",
       "     Transaction date  Count  createdon  days_diff  \n",
       "18         2024-11-15      1 2024-11-15          0  \n",
       "19         2024-11-15      1 2024-11-15          0  \n",
       "20         2024-11-15      1 2024-11-15          0  \n",
       "21         2024-11-15      1 2024-11-15          0  \n",
       "22         2024-11-15      1 2024-11-15          0  \n",
       "...               ...    ...        ...        ...  \n",
       "3915       2024-12-16      1 2024-12-16          0  \n",
       "3916       2024-12-16      1 2024-12-16          0  \n",
       "3917       2024-12-16      1 2024-12-16          0  \n",
       "3918       2024-12-19      1 2024-12-18          1  \n",
       "3919       2024-12-19      1 2024-12-19          0  \n",
       "\n",
       "[2296 rows x 10 columns]"
      ]
     },
     "execution_count": 141,
     "metadata": {},
     "output_type": "execute_result"
    }
   ],
   "source": [
    "df_to_irit = merged.copy()\n",
    "df_to_irit = df_to_irit[['Event Name', 'Name', 'Full Name_x', 'assign using  ID number', 'Age', 'Type', 'Transaction date', 'Count', 'createdon', 'days_diff']]\n",
    "df_to_irit"
   ]
  },
  {
   "cell_type": "code",
   "execution_count": 142,
   "id": "c8219416",
   "metadata": {},
   "outputs": [
    {
     "data": {
      "text/html": [
       "<div>\n",
       "<style scoped>\n",
       "    .dataframe tbody tr th:only-of-type {\n",
       "        vertical-align: middle;\n",
       "    }\n",
       "\n",
       "    .dataframe tbody tr th {\n",
       "        vertical-align: top;\n",
       "    }\n",
       "\n",
       "    .dataframe thead th {\n",
       "        text-align: right;\n",
       "    }\n",
       "</style>\n",
       "<table border=\"1\" class=\"dataframe\">\n",
       "  <thead>\n",
       "    <tr style=\"text-align: right;\">\n",
       "      <th></th>\n",
       "      <th>Event Name</th>\n",
       "      <th>Name</th>\n",
       "      <th>Full Name_x</th>\n",
       "      <th>assign using  ID number</th>\n",
       "      <th>Age</th>\n",
       "      <th>Type</th>\n",
       "      <th>Transaction date</th>\n",
       "      <th>Count</th>\n",
       "      <th>createdon</th>\n",
       "      <th>Full Name_y</th>\n",
       "      <th>identifier</th>\n",
       "      <th>days_diff</th>\n",
       "    </tr>\n",
       "  </thead>\n",
       "  <tbody>\n",
       "    <tr>\n",
       "      <th>18</th>\n",
       "      <td>Round 8_ Hapoel Afula 🏠</td>\n",
       "      <td>אישה לאישה</td>\n",
       "      <td>איילת בן יעקב</td>\n",
       "      <td>301607347</td>\n",
       "      <td>36</td>\n",
       "      <td>CloseLink</td>\n",
       "      <td>2024-11-15</td>\n",
       "      <td>1</td>\n",
       "      <td>2024-11-15</td>\n",
       "      <td>איילת בן יעקב</td>\n",
       "      <td>301607347</td>\n",
       "      <td>0</td>\n",
       "    </tr>\n",
       "    <tr>\n",
       "      <th>19</th>\n",
       "      <td>Round 8_ Hapoel Afula 🏠</td>\n",
       "      <td>אישה לאישה</td>\n",
       "      <td>נועם בן יעקב</td>\n",
       "      <td>344013602</td>\n",
       "      <td>7</td>\n",
       "      <td>CloseLink</td>\n",
       "      <td>2024-11-15</td>\n",
       "      <td>1</td>\n",
       "      <td>2024-11-15</td>\n",
       "      <td>נועם בן יעקב</td>\n",
       "      <td>344013602</td>\n",
       "      <td>0</td>\n",
       "    </tr>\n",
       "    <tr>\n",
       "      <th>20</th>\n",
       "      <td>Round 8_ Hapoel Afula 🏠</td>\n",
       "      <td>אישה לאישה</td>\n",
       "      <td>נעמי ג'אנה</td>\n",
       "      <td>012438388</td>\n",
       "      <td>59</td>\n",
       "      <td>CloseLink</td>\n",
       "      <td>2024-11-15</td>\n",
       "      <td>1</td>\n",
       "      <td>2024-11-15</td>\n",
       "      <td>נעמי ג'אנה</td>\n",
       "      <td>012438388</td>\n",
       "      <td>0</td>\n",
       "    </tr>\n",
       "    <tr>\n",
       "      <th>21</th>\n",
       "      <td>Round 8_ Hapoel Afula 🏠</td>\n",
       "      <td>אישה לאישה</td>\n",
       "      <td>עמית שובל</td>\n",
       "      <td>328117718</td>\n",
       "      <td>20</td>\n",
       "      <td>CloseLink</td>\n",
       "      <td>2024-11-15</td>\n",
       "      <td>1</td>\n",
       "      <td>2024-11-15</td>\n",
       "      <td>עמית שובל</td>\n",
       "      <td>328117718</td>\n",
       "      <td>0</td>\n",
       "    </tr>\n",
       "    <tr>\n",
       "      <th>22</th>\n",
       "      <td>Round 8_ Hapoel Afula 🏠</td>\n",
       "      <td>אישה לאישה</td>\n",
       "      <td>יצחק שובל</td>\n",
       "      <td>038675211</td>\n",
       "      <td>56</td>\n",
       "      <td>CloseLink</td>\n",
       "      <td>2024-11-15</td>\n",
       "      <td>1</td>\n",
       "      <td>2024-11-15</td>\n",
       "      <td>יצחק שובל</td>\n",
       "      <td>038675211</td>\n",
       "      <td>0</td>\n",
       "    </tr>\n",
       "    <tr>\n",
       "      <th>...</th>\n",
       "      <td>...</td>\n",
       "      <td>...</td>\n",
       "      <td>...</td>\n",
       "      <td>...</td>\n",
       "      <td>...</td>\n",
       "      <td>...</td>\n",
       "      <td>...</td>\n",
       "      <td>...</td>\n",
       "      <td>...</td>\n",
       "      <td>...</td>\n",
       "      <td>...</td>\n",
       "      <td>...</td>\n",
       "    </tr>\n",
       "    <tr>\n",
       "      <th>3915</th>\n",
       "      <td>🏠 מחזור11_ הפועל ״בנק יהב״ ירושלים -מכבי ת\"א</td>\n",
       "      <td>צוות דובדבן</td>\n",
       "      <td>עילי ליכטנשטיין</td>\n",
       "      <td>326612280</td>\n",
       "      <td>20</td>\n",
       "      <td>CloseLink</td>\n",
       "      <td>2024-12-16</td>\n",
       "      <td>1</td>\n",
       "      <td>2024-12-16</td>\n",
       "      <td>עילי ליכטנשטיין</td>\n",
       "      <td>326612280</td>\n",
       "      <td>0</td>\n",
       "    </tr>\n",
       "    <tr>\n",
       "      <th>3916</th>\n",
       "      <td>🏠 מחזור11_ הפועל ״בנק יהב״ ירושלים -מכבי ת\"א</td>\n",
       "      <td>צוות דובדבן</td>\n",
       "      <td>איתי תורג׳מן</td>\n",
       "      <td>324187095</td>\n",
       "      <td>20</td>\n",
       "      <td>CloseLink</td>\n",
       "      <td>2024-12-16</td>\n",
       "      <td>1</td>\n",
       "      <td>2024-12-16</td>\n",
       "      <td>איתי תורג׳מן</td>\n",
       "      <td>324187095</td>\n",
       "      <td>0</td>\n",
       "    </tr>\n",
       "    <tr>\n",
       "      <th>3917</th>\n",
       "      <td>🏠 מחזור11_ הפועל ״בנק יהב״ ירושלים -מכבי ת\"א</td>\n",
       "      <td>צוות דובדבן</td>\n",
       "      <td>יונתן אליעז</td>\n",
       "      <td>216009829</td>\n",
       "      <td>19</td>\n",
       "      <td>CloseLink</td>\n",
       "      <td>2024-12-16</td>\n",
       "      <td>1</td>\n",
       "      <td>2024-12-16</td>\n",
       "      <td>יונתן אליעז</td>\n",
       "      <td>216009829</td>\n",
       "      <td>0</td>\n",
       "    </tr>\n",
       "    <tr>\n",
       "      <th>3918</th>\n",
       "      <td>🏠 מחזור11_ הפועל ״בנק יהב״ ירושלים -מכבי ת\"א</td>\n",
       "      <td>צוות דובדבן</td>\n",
       "      <td>נטלי אנגלמן</td>\n",
       "      <td>306930702</td>\n",
       "      <td>45</td>\n",
       "      <td>CloseLink</td>\n",
       "      <td>2024-12-19</td>\n",
       "      <td>1</td>\n",
       "      <td>2024-12-18</td>\n",
       "      <td>נטלי אנגלמן</td>\n",
       "      <td>306930702</td>\n",
       "      <td>1</td>\n",
       "    </tr>\n",
       "    <tr>\n",
       "      <th>3919</th>\n",
       "      <td>🏠 מחזור11_ הפועל ״בנק יהב״ ירושלים -מכבי ת\"א</td>\n",
       "      <td>צוות דובדבן</td>\n",
       "      <td>אייל תנעזר</td>\n",
       "      <td>214160111</td>\n",
       "      <td>21</td>\n",
       "      <td>CloseLink</td>\n",
       "      <td>2024-12-19</td>\n",
       "      <td>1</td>\n",
       "      <td>2024-12-19</td>\n",
       "      <td>אייל תנעזר</td>\n",
       "      <td>214160111</td>\n",
       "      <td>0</td>\n",
       "    </tr>\n",
       "  </tbody>\n",
       "</table>\n",
       "<p>1793 rows × 12 columns</p>\n",
       "</div>"
      ],
      "text/plain": [
       "                                        Event Name         Name  \\\n",
       "18                         Round 8_ Hapoel Afula 🏠   אישה לאישה   \n",
       "19                         Round 8_ Hapoel Afula 🏠   אישה לאישה   \n",
       "20                         Round 8_ Hapoel Afula 🏠   אישה לאישה   \n",
       "21                         Round 8_ Hapoel Afula 🏠   אישה לאישה   \n",
       "22                         Round 8_ Hapoel Afula 🏠   אישה לאישה   \n",
       "...                                            ...          ...   \n",
       "3915  🏠 מחזור11_ הפועל ״בנק יהב״ ירושלים -מכבי ת\"א  צוות דובדבן   \n",
       "3916  🏠 מחזור11_ הפועל ״בנק יהב״ ירושלים -מכבי ת\"א  צוות דובדבן   \n",
       "3917  🏠 מחזור11_ הפועל ״בנק יהב״ ירושלים -מכבי ת\"א  צוות דובדבן   \n",
       "3918  🏠 מחזור11_ הפועל ״בנק יהב״ ירושלים -מכבי ת\"א  צוות דובדבן   \n",
       "3919  🏠 מחזור11_ הפועל ״בנק יהב״ ירושלים -מכבי ת\"א  צוות דובדבן   \n",
       "\n",
       "          Full Name_x assign using  ID number  Age       Type  \\\n",
       "18      איילת בן יעקב               301607347   36  CloseLink   \n",
       "19       נועם בן יעקב               344013602    7  CloseLink   \n",
       "20         נעמי ג'אנה               012438388   59  CloseLink   \n",
       "21          עמית שובל               328117718   20  CloseLink   \n",
       "22          יצחק שובל               038675211   56  CloseLink   \n",
       "...               ...                     ...  ...        ...   \n",
       "3915  עילי ליכטנשטיין               326612280   20  CloseLink   \n",
       "3916     איתי תורג׳מן               324187095   20  CloseLink   \n",
       "3917      יונתן אליעז               216009829   19  CloseLink   \n",
       "3918      נטלי אנגלמן               306930702   45  CloseLink   \n",
       "3919       אייל תנעזר               214160111   21  CloseLink   \n",
       "\n",
       "     Transaction date  Count  createdon      Full Name_y identifier  days_diff  \n",
       "18         2024-11-15      1 2024-11-15    איילת בן יעקב  301607347          0  \n",
       "19         2024-11-15      1 2024-11-15     נועם בן יעקב  344013602          0  \n",
       "20         2024-11-15      1 2024-11-15       נעמי ג'אנה  012438388          0  \n",
       "21         2024-11-15      1 2024-11-15        עמית שובל  328117718          0  \n",
       "22         2024-11-15      1 2024-11-15        יצחק שובל  038675211          0  \n",
       "...               ...    ...        ...              ...        ...        ...  \n",
       "3915       2024-12-16      1 2024-12-16  עילי ליכטנשטיין  326612280          0  \n",
       "3916       2024-12-16      1 2024-12-16     איתי תורג׳מן  324187095          0  \n",
       "3917       2024-12-16      1 2024-12-16      יונתן אליעז  216009829          0  \n",
       "3918       2024-12-19      1 2024-12-18      נטלי אנגלמן  306930702          1  \n",
       "3919       2024-12-19      1 2024-12-19       אייל תנעזר  214160111          0  \n",
       "\n",
       "[1793 rows x 12 columns]"
      ]
     },
     "execution_count": 142,
     "metadata": {},
     "output_type": "execute_result"
    }
   ],
   "source": [
    "filtered = merged[(merged['days_diff'] >= 0) & (merged['days_diff'] <= 50)]\n",
    "filtered = filtered.drop_duplicates(subset=['assign using  ID number'])\n",
    "filtered"
   ]
  },
  {
   "cell_type": "code",
   "execution_count": 143,
   "id": "d4beca58",
   "metadata": {},
   "outputs": [
    {
     "data": {
      "text/plain": [
       "days_diff\n",
       "0     1527\n",
       "1       93\n",
       "2       33\n",
       "3       20\n",
       "4       11\n",
       "5       12\n",
       "6        7\n",
       "7       18\n",
       "8        2\n",
       "10       4\n",
       "11       5\n",
       "12       3\n",
       "13       2\n",
       "14       3\n",
       "15       1\n",
       "17       4\n",
       "19       1\n",
       "20       2\n",
       "21       1\n",
       "22       1\n",
       "23       1\n",
       "24      10\n",
       "25       4\n",
       "26       2\n",
       "28       1\n",
       "29       1\n",
       "30       1\n",
       "31       1\n",
       "33       2\n",
       "40       4\n",
       "41       2\n",
       "42       1\n",
       "43       1\n",
       "45       2\n",
       "46       2\n",
       "47       1\n",
       "48       5\n",
       "49       2\n",
       "Name: count, dtype: int64"
      ]
     },
     "execution_count": 143,
     "metadata": {},
     "output_type": "execute_result"
    }
   ],
   "source": [
    "filtered['days_diff'].value_counts().sort_index()"
   ]
  },
  {
   "cell_type": "markdown",
   "id": "818d044f",
   "metadata": {},
   "source": [
    "## Plot by days_diff:"
   ]
  },
  {
   "cell_type": "code",
   "execution_count": null,
   "id": "cd76232b",
   "metadata": {},
   "outputs": [],
   "source": [
    "import plotly.graph_objects as go\n",
    "from datetime import datetime, timedelta\n",
    "import pandas as pd\n",
    "\n",
    "# Define your game dates\n",
    "game_dates = [\n",
    "    \"2024-10-13\", \"2024-10-26\", \"2024-11-16\", \"2024-12-07\", \"2024-12-22\",\n",
    "    \"2025-02-16\", \"2025-03-02\", \"2025-03-17\", \"2025-03-30\", \"2025-04-11\",\n",
    "    \"2025-04-22\", \"2025-05-02\", \"2025-05-10\", \"2025-05-28\", \"2025-06-12\"\n",
    "]\n",
    "game_dates = [datetime.strptime(d, \"%Y-%m-%d\") for d in game_dates]\n",
    "\n",
    "# Ensure datetime types in merged\n",
    "merged['createdon'] = pd.to_datetime(merged['createdon'], errors='coerce')\n",
    "merged['Transaction date'] = pd.to_datetime(merged['Transaction date'], errors='coerce')\n",
    "\n",
    "results = []\n",
    "\n",
    "for i, game_date in enumerate(game_dates):\n",
    "    if i == 0:\n",
    "        # First game: just use 20 days\n",
    "        start_window = game_date - timedelta(days=20)\n",
    "        days_between_games = 20\n",
    "    else:\n",
    "        previous_game = game_dates[i - 1]\n",
    "        days_diff = (game_date - previous_game).days\n",
    "        days_between_games = min(20, days_diff)\n",
    "        start_window = game_date - timedelta(days=days_between_games)\n",
    "\n",
    "    game_attendees = merged[merged['Transaction date'] == game_date]\n",
    "\n",
    "    attendees_window = game_attendees[\n",
    "        (game_attendees['createdon'] >= start_window) & (game_attendees['createdon'] <= game_date)\n",
    "    ]\n",
    "\n",
    "    user_count = attendees_window['assign using  ID number'].nunique()\n",
    "\n",
    "    results.append({\n",
    "        'Game Date': game_date.date().isoformat(),\n",
    "        'Users in Window': user_count,\n",
    "        'Days Used for Window': days_between_games\n",
    "    })\n",
    "\n",
    "# Create DataFrame\n",
    "df_plot = pd.DataFrame(results)\n",
    "df_plot = df_plot[df_plot['Users in Window'] > 0]\n",
    "df_plot['Game Date'] = pd.to_datetime(df_plot['Game Date']).dt.strftime('%Y-%m-%d')\n"
   ]
  },
  {
   "cell_type": "code",
   "execution_count": null,
   "id": "edccbf13",
   "metadata": {},
   "outputs": [
    {
     "data": {
      "application/vnd.plotly.v1+json": {
       "config": {
        "plotlyServerURL": "https://plot.ly"
       },
       "data": [
        {
         "marker": {
          "color": "pink"
         },
         "showlegend": false,
         "text": [
          20,
          1,
          4,
          164,
          31,
          25,
          99,
          11,
          12,
          3
         ],
         "textposition": "outside",
         "type": "bar",
         "x": [
          "2024-11-16",
          "2024-12-07",
          "2024-12-22",
          "2025-02-16",
          "2025-03-02",
          "2025-03-17",
          "2025-03-30",
          "2025-04-11",
          "2025-04-22",
          "2025-05-10"
         ],
         "y": [
          20,
          1,
          4,
          164,
          31,
          25,
          99,
          11,
          12,
          3
         ]
        }
       ],
       "layout": {
        "plot_bgcolor": "white",
        "template": {
         "data": {
          "bar": [
           {
            "error_x": {
             "color": "#2a3f5f"
            },
            "error_y": {
             "color": "#2a3f5f"
            },
            "marker": {
             "line": {
              "color": "#E5ECF6",
              "width": 0.5
             },
             "pattern": {
              "fillmode": "overlay",
              "size": 10,
              "solidity": 0.2
             }
            },
            "type": "bar"
           }
          ],
          "barpolar": [
           {
            "marker": {
             "line": {
              "color": "#E5ECF6",
              "width": 0.5
             },
             "pattern": {
              "fillmode": "overlay",
              "size": 10,
              "solidity": 0.2
             }
            },
            "type": "barpolar"
           }
          ],
          "carpet": [
           {
            "aaxis": {
             "endlinecolor": "#2a3f5f",
             "gridcolor": "white",
             "linecolor": "white",
             "minorgridcolor": "white",
             "startlinecolor": "#2a3f5f"
            },
            "baxis": {
             "endlinecolor": "#2a3f5f",
             "gridcolor": "white",
             "linecolor": "white",
             "minorgridcolor": "white",
             "startlinecolor": "#2a3f5f"
            },
            "type": "carpet"
           }
          ],
          "choropleth": [
           {
            "colorbar": {
             "outlinewidth": 0,
             "ticks": ""
            },
            "type": "choropleth"
           }
          ],
          "contour": [
           {
            "colorbar": {
             "outlinewidth": 0,
             "ticks": ""
            },
            "colorscale": [
             [
              0,
              "#0d0887"
             ],
             [
              0.1111111111111111,
              "#46039f"
             ],
             [
              0.2222222222222222,
              "#7201a8"
             ],
             [
              0.3333333333333333,
              "#9c179e"
             ],
             [
              0.4444444444444444,
              "#bd3786"
             ],
             [
              0.5555555555555556,
              "#d8576b"
             ],
             [
              0.6666666666666666,
              "#ed7953"
             ],
             [
              0.7777777777777778,
              "#fb9f3a"
             ],
             [
              0.8888888888888888,
              "#fdca26"
             ],
             [
              1,
              "#f0f921"
             ]
            ],
            "type": "contour"
           }
          ],
          "contourcarpet": [
           {
            "colorbar": {
             "outlinewidth": 0,
             "ticks": ""
            },
            "type": "contourcarpet"
           }
          ],
          "heatmap": [
           {
            "colorbar": {
             "outlinewidth": 0,
             "ticks": ""
            },
            "colorscale": [
             [
              0,
              "#0d0887"
             ],
             [
              0.1111111111111111,
              "#46039f"
             ],
             [
              0.2222222222222222,
              "#7201a8"
             ],
             [
              0.3333333333333333,
              "#9c179e"
             ],
             [
              0.4444444444444444,
              "#bd3786"
             ],
             [
              0.5555555555555556,
              "#d8576b"
             ],
             [
              0.6666666666666666,
              "#ed7953"
             ],
             [
              0.7777777777777778,
              "#fb9f3a"
             ],
             [
              0.8888888888888888,
              "#fdca26"
             ],
             [
              1,
              "#f0f921"
             ]
            ],
            "type": "heatmap"
           }
          ],
          "heatmapgl": [
           {
            "colorbar": {
             "outlinewidth": 0,
             "ticks": ""
            },
            "colorscale": [
             [
              0,
              "#0d0887"
             ],
             [
              0.1111111111111111,
              "#46039f"
             ],
             [
              0.2222222222222222,
              "#7201a8"
             ],
             [
              0.3333333333333333,
              "#9c179e"
             ],
             [
              0.4444444444444444,
              "#bd3786"
             ],
             [
              0.5555555555555556,
              "#d8576b"
             ],
             [
              0.6666666666666666,
              "#ed7953"
             ],
             [
              0.7777777777777778,
              "#fb9f3a"
             ],
             [
              0.8888888888888888,
              "#fdca26"
             ],
             [
              1,
              "#f0f921"
             ]
            ],
            "type": "heatmapgl"
           }
          ],
          "histogram": [
           {
            "marker": {
             "pattern": {
              "fillmode": "overlay",
              "size": 10,
              "solidity": 0.2
             }
            },
            "type": "histogram"
           }
          ],
          "histogram2d": [
           {
            "colorbar": {
             "outlinewidth": 0,
             "ticks": ""
            },
            "colorscale": [
             [
              0,
              "#0d0887"
             ],
             [
              0.1111111111111111,
              "#46039f"
             ],
             [
              0.2222222222222222,
              "#7201a8"
             ],
             [
              0.3333333333333333,
              "#9c179e"
             ],
             [
              0.4444444444444444,
              "#bd3786"
             ],
             [
              0.5555555555555556,
              "#d8576b"
             ],
             [
              0.6666666666666666,
              "#ed7953"
             ],
             [
              0.7777777777777778,
              "#fb9f3a"
             ],
             [
              0.8888888888888888,
              "#fdca26"
             ],
             [
              1,
              "#f0f921"
             ]
            ],
            "type": "histogram2d"
           }
          ],
          "histogram2dcontour": [
           {
            "colorbar": {
             "outlinewidth": 0,
             "ticks": ""
            },
            "colorscale": [
             [
              0,
              "#0d0887"
             ],
             [
              0.1111111111111111,
              "#46039f"
             ],
             [
              0.2222222222222222,
              "#7201a8"
             ],
             [
              0.3333333333333333,
              "#9c179e"
             ],
             [
              0.4444444444444444,
              "#bd3786"
             ],
             [
              0.5555555555555556,
              "#d8576b"
             ],
             [
              0.6666666666666666,
              "#ed7953"
             ],
             [
              0.7777777777777778,
              "#fb9f3a"
             ],
             [
              0.8888888888888888,
              "#fdca26"
             ],
             [
              1,
              "#f0f921"
             ]
            ],
            "type": "histogram2dcontour"
           }
          ],
          "mesh3d": [
           {
            "colorbar": {
             "outlinewidth": 0,
             "ticks": ""
            },
            "type": "mesh3d"
           }
          ],
          "parcoords": [
           {
            "line": {
             "colorbar": {
              "outlinewidth": 0,
              "ticks": ""
             }
            },
            "type": "parcoords"
           }
          ],
          "pie": [
           {
            "automargin": true,
            "type": "pie"
           }
          ],
          "scatter": [
           {
            "fillpattern": {
             "fillmode": "overlay",
             "size": 10,
             "solidity": 0.2
            },
            "type": "scatter"
           }
          ],
          "scatter3d": [
           {
            "line": {
             "colorbar": {
              "outlinewidth": 0,
              "ticks": ""
             }
            },
            "marker": {
             "colorbar": {
              "outlinewidth": 0,
              "ticks": ""
             }
            },
            "type": "scatter3d"
           }
          ],
          "scattercarpet": [
           {
            "marker": {
             "colorbar": {
              "outlinewidth": 0,
              "ticks": ""
             }
            },
            "type": "scattercarpet"
           }
          ],
          "scattergeo": [
           {
            "marker": {
             "colorbar": {
              "outlinewidth": 0,
              "ticks": ""
             }
            },
            "type": "scattergeo"
           }
          ],
          "scattergl": [
           {
            "marker": {
             "colorbar": {
              "outlinewidth": 0,
              "ticks": ""
             }
            },
            "type": "scattergl"
           }
          ],
          "scattermapbox": [
           {
            "marker": {
             "colorbar": {
              "outlinewidth": 0,
              "ticks": ""
             }
            },
            "type": "scattermapbox"
           }
          ],
          "scatterpolar": [
           {
            "marker": {
             "colorbar": {
              "outlinewidth": 0,
              "ticks": ""
             }
            },
            "type": "scatterpolar"
           }
          ],
          "scatterpolargl": [
           {
            "marker": {
             "colorbar": {
              "outlinewidth": 0,
              "ticks": ""
             }
            },
            "type": "scatterpolargl"
           }
          ],
          "scatterternary": [
           {
            "marker": {
             "colorbar": {
              "outlinewidth": 0,
              "ticks": ""
             }
            },
            "type": "scatterternary"
           }
          ],
          "surface": [
           {
            "colorbar": {
             "outlinewidth": 0,
             "ticks": ""
            },
            "colorscale": [
             [
              0,
              "#0d0887"
             ],
             [
              0.1111111111111111,
              "#46039f"
             ],
             [
              0.2222222222222222,
              "#7201a8"
             ],
             [
              0.3333333333333333,
              "#9c179e"
             ],
             [
              0.4444444444444444,
              "#bd3786"
             ],
             [
              0.5555555555555556,
              "#d8576b"
             ],
             [
              0.6666666666666666,
              "#ed7953"
             ],
             [
              0.7777777777777778,
              "#fb9f3a"
             ],
             [
              0.8888888888888888,
              "#fdca26"
             ],
             [
              1,
              "#f0f921"
             ]
            ],
            "type": "surface"
           }
          ],
          "table": [
           {
            "cells": {
             "fill": {
              "color": "#EBF0F8"
             },
             "line": {
              "color": "white"
             }
            },
            "header": {
             "fill": {
              "color": "#C8D4E3"
             },
             "line": {
              "color": "white"
             }
            },
            "type": "table"
           }
          ]
         },
         "layout": {
          "annotationdefaults": {
           "arrowcolor": "#2a3f5f",
           "arrowhead": 0,
           "arrowwidth": 1
          },
          "autotypenumbers": "strict",
          "coloraxis": {
           "colorbar": {
            "outlinewidth": 0,
            "ticks": ""
           }
          },
          "colorscale": {
           "diverging": [
            [
             0,
             "#8e0152"
            ],
            [
             0.1,
             "#c51b7d"
            ],
            [
             0.2,
             "#de77ae"
            ],
            [
             0.3,
             "#f1b6da"
            ],
            [
             0.4,
             "#fde0ef"
            ],
            [
             0.5,
             "#f7f7f7"
            ],
            [
             0.6,
             "#e6f5d0"
            ],
            [
             0.7,
             "#b8e186"
            ],
            [
             0.8,
             "#7fbc41"
            ],
            [
             0.9,
             "#4d9221"
            ],
            [
             1,
             "#276419"
            ]
           ],
           "sequential": [
            [
             0,
             "#0d0887"
            ],
            [
             0.1111111111111111,
             "#46039f"
            ],
            [
             0.2222222222222222,
             "#7201a8"
            ],
            [
             0.3333333333333333,
             "#9c179e"
            ],
            [
             0.4444444444444444,
             "#bd3786"
            ],
            [
             0.5555555555555556,
             "#d8576b"
            ],
            [
             0.6666666666666666,
             "#ed7953"
            ],
            [
             0.7777777777777778,
             "#fb9f3a"
            ],
            [
             0.8888888888888888,
             "#fdca26"
            ],
            [
             1,
             "#f0f921"
            ]
           ],
           "sequentialminus": [
            [
             0,
             "#0d0887"
            ],
            [
             0.1111111111111111,
             "#46039f"
            ],
            [
             0.2222222222222222,
             "#7201a8"
            ],
            [
             0.3333333333333333,
             "#9c179e"
            ],
            [
             0.4444444444444444,
             "#bd3786"
            ],
            [
             0.5555555555555556,
             "#d8576b"
            ],
            [
             0.6666666666666666,
             "#ed7953"
            ],
            [
             0.7777777777777778,
             "#fb9f3a"
            ],
            [
             0.8888888888888888,
             "#fdca26"
            ],
            [
             1,
             "#f0f921"
            ]
           ]
          },
          "colorway": [
           "#636efa",
           "#EF553B",
           "#00cc96",
           "#ab63fa",
           "#FFA15A",
           "#19d3f3",
           "#FF6692",
           "#B6E880",
           "#FF97FF",
           "#FECB52"
          ],
          "font": {
           "color": "#2a3f5f"
          },
          "geo": {
           "bgcolor": "white",
           "lakecolor": "white",
           "landcolor": "#E5ECF6",
           "showlakes": true,
           "showland": true,
           "subunitcolor": "white"
          },
          "hoverlabel": {
           "align": "left"
          },
          "hovermode": "closest",
          "mapbox": {
           "style": "light"
          },
          "paper_bgcolor": "white",
          "plot_bgcolor": "#E5ECF6",
          "polar": {
           "angularaxis": {
            "gridcolor": "white",
            "linecolor": "white",
            "ticks": ""
           },
           "bgcolor": "#E5ECF6",
           "radialaxis": {
            "gridcolor": "white",
            "linecolor": "white",
            "ticks": ""
           }
          },
          "scene": {
           "xaxis": {
            "backgroundcolor": "#E5ECF6",
            "gridcolor": "white",
            "gridwidth": 2,
            "linecolor": "white",
            "showbackground": true,
            "ticks": "",
            "zerolinecolor": "white"
           },
           "yaxis": {
            "backgroundcolor": "#E5ECF6",
            "gridcolor": "white",
            "gridwidth": 2,
            "linecolor": "white",
            "showbackground": true,
            "ticks": "",
            "zerolinecolor": "white"
           },
           "zaxis": {
            "backgroundcolor": "#E5ECF6",
            "gridcolor": "white",
            "gridwidth": 2,
            "linecolor": "white",
            "showbackground": true,
            "ticks": "",
            "zerolinecolor": "white"
           }
          },
          "shapedefaults": {
           "line": {
            "color": "#2a3f5f"
           }
          },
          "ternary": {
           "aaxis": {
            "gridcolor": "white",
            "linecolor": "white",
            "ticks": ""
           },
           "baxis": {
            "gridcolor": "white",
            "linecolor": "white",
            "ticks": ""
           },
           "bgcolor": "#E5ECF6",
           "caxis": {
            "gridcolor": "white",
            "linecolor": "white",
            "ticks": ""
           }
          },
          "title": {
           "x": 0.05
          },
          "xaxis": {
           "automargin": true,
           "gridcolor": "white",
           "linecolor": "white",
           "ticks": "",
           "title": {
            "standoff": 15
           },
           "zerolinecolor": "white",
           "zerolinewidth": 2
          },
          "yaxis": {
           "automargin": true,
           "gridcolor": "white",
           "linecolor": "white",
           "ticks": "",
           "title": {
            "standoff": 15
           },
           "zerolinecolor": "white",
           "zerolinewidth": 2
          }
         }
        },
        "title": {
         "text": "New Users Created Between Previous Game and This One (Max 20 Days)"
        },
        "xaxis": {
         "tickangle": -45,
         "tickmode": "array",
         "ticktext": [
          "2024-11-16",
          "2024-12-07",
          "2024-12-22",
          "2025-02-16",
          "2025-03-02",
          "2025-03-17",
          "2025-03-30",
          "2025-04-11",
          "2025-04-22",
          "2025-05-10"
         ],
         "tickvals": [
          "2024-11-16",
          "2024-12-07",
          "2024-12-22",
          "2025-02-16",
          "2025-03-02",
          "2025-03-17",
          "2025-03-30",
          "2025-04-11",
          "2025-04-22",
          "2025-05-10"
         ],
         "title": {
          "text": "Game Date"
         },
         "type": "category"
        },
        "yaxis": {
         "range": [
          0,
          196.79999999999998
         ],
         "title": {
          "text": "Number of New Users"
         }
        }
       }
      }
     },
     "metadata": {},
     "output_type": "display_data"
    }
   ],
   "source": [
    "# Plot\n",
    "fig = go.Figure()\n",
    "\n",
    "fig.add_trace(go.Bar(\n",
    "    x=df_plot['Game Date'],\n",
    "    y=df_plot['Users in Window'],\n",
    "    marker_color='pink',\n",
    "    text=df_plot['Users in Window'],\n",
    "    textposition='outside',\n",
    "    showlegend=False\n",
    "))\n",
    "\n",
    "fig.update_layout(\n",
    "    title='New Users Created Between Previous Game and This One (Max 20 Days)',\n",
    "    xaxis_title='Game Date',\n",
    "    yaxis=dict(\n",
    "        title='Number of New Users',\n",
    "        range=[0, df_plot['Users in Window'].max() * 1.2]\n",
    "    ),\n",
    "    xaxis=dict(\n",
    "        tickmode='array',\n",
    "        tickvals=df_plot['Game Date'],\n",
    "        ticktext=df_plot['Game Date'],\n",
    "        tickangle=-45,\n",
    "        type='category'\n",
    "    ),\n",
    "    plot_bgcolor='white'\n",
    ")\n",
    "\n",
    "fig.show()\n"
   ]
  },
  {
   "cell_type": "markdown",
   "id": "f4cafc30",
   "metadata": {},
   "source": [
    "## Pie chart of ages:\n",
    "### 0-5\n",
    "### 6-12\n",
    "### 13-18\n",
    "### 19+"
   ]
  },
  {
   "cell_type": "code",
   "execution_count": 151,
   "id": "73c376de",
   "metadata": {},
   "outputs": [],
   "source": [
    "import plotly.express as px\n",
    "\n",
    "# Step 1: Categorize ages\n",
    "def categorize_age(age):\n",
    "    if pd.isna(age):\n",
    "        return 'Unknown'\n",
    "    try:\n",
    "        age = int(age)\n",
    "        if age <= 5:\n",
    "            return '0–5'\n",
    "        elif age <= 12:\n",
    "            return '6–12'\n",
    "        elif age <= 18:\n",
    "            return '13–18'\n",
    "        else:\n",
    "            return '19+'\n",
    "    except:\n",
    "        return 'Unknown'\n"
   ]
  },
  {
   "cell_type": "code",
   "execution_count": 152,
   "id": "b64153fa",
   "metadata": {},
   "outputs": [
    {
     "data": {
      "application/vnd.plotly.v1+json": {
       "config": {
        "plotlyServerURL": "https://plot.ly"
       },
       "data": [
        {
         "domain": {
          "x": [
           0,
           1
          ],
          "y": [
           0,
           1
          ]
         },
         "hovertemplate": "Age Group=%{label}<br>Count=%{value}<extra></extra>",
         "labels": [
          "0–5",
          "13–18",
          "19+",
          "6–12"
         ],
         "legendgroup": "",
         "name": "",
         "showlegend": true,
         "textinfo": "percent+label",
         "textposition": "inside",
         "type": "pie",
         "values": [
          117,
          347,
          1219,
          613
         ]
        }
       ],
       "layout": {
        "height": 400,
        "legend": {
         "orientation": "v",
         "tracegroupgap": 0,
         "x": 1,
         "xanchor": "left",
         "y": 0.5
        },
        "piecolorway": [
         "rgb(255,247,243)",
         "rgb(253,224,221)",
         "rgb(252,197,192)",
         "rgb(250,159,181)",
         "rgb(247,104,161)",
         "rgb(221,52,151)",
         "rgb(174,1,126)",
         "rgb(122,1,119)",
         "rgb(73,0,106)"
        ],
        "template": {
         "data": {
          "bar": [
           {
            "error_x": {
             "color": "#2a3f5f"
            },
            "error_y": {
             "color": "#2a3f5f"
            },
            "marker": {
             "line": {
              "color": "#E5ECF6",
              "width": 0.5
             },
             "pattern": {
              "fillmode": "overlay",
              "size": 10,
              "solidity": 0.2
             }
            },
            "type": "bar"
           }
          ],
          "barpolar": [
           {
            "marker": {
             "line": {
              "color": "#E5ECF6",
              "width": 0.5
             },
             "pattern": {
              "fillmode": "overlay",
              "size": 10,
              "solidity": 0.2
             }
            },
            "type": "barpolar"
           }
          ],
          "carpet": [
           {
            "aaxis": {
             "endlinecolor": "#2a3f5f",
             "gridcolor": "white",
             "linecolor": "white",
             "minorgridcolor": "white",
             "startlinecolor": "#2a3f5f"
            },
            "baxis": {
             "endlinecolor": "#2a3f5f",
             "gridcolor": "white",
             "linecolor": "white",
             "minorgridcolor": "white",
             "startlinecolor": "#2a3f5f"
            },
            "type": "carpet"
           }
          ],
          "choropleth": [
           {
            "colorbar": {
             "outlinewidth": 0,
             "ticks": ""
            },
            "type": "choropleth"
           }
          ],
          "contour": [
           {
            "colorbar": {
             "outlinewidth": 0,
             "ticks": ""
            },
            "colorscale": [
             [
              0,
              "#0d0887"
             ],
             [
              0.1111111111111111,
              "#46039f"
             ],
             [
              0.2222222222222222,
              "#7201a8"
             ],
             [
              0.3333333333333333,
              "#9c179e"
             ],
             [
              0.4444444444444444,
              "#bd3786"
             ],
             [
              0.5555555555555556,
              "#d8576b"
             ],
             [
              0.6666666666666666,
              "#ed7953"
             ],
             [
              0.7777777777777778,
              "#fb9f3a"
             ],
             [
              0.8888888888888888,
              "#fdca26"
             ],
             [
              1,
              "#f0f921"
             ]
            ],
            "type": "contour"
           }
          ],
          "contourcarpet": [
           {
            "colorbar": {
             "outlinewidth": 0,
             "ticks": ""
            },
            "type": "contourcarpet"
           }
          ],
          "heatmap": [
           {
            "colorbar": {
             "outlinewidth": 0,
             "ticks": ""
            },
            "colorscale": [
             [
              0,
              "#0d0887"
             ],
             [
              0.1111111111111111,
              "#46039f"
             ],
             [
              0.2222222222222222,
              "#7201a8"
             ],
             [
              0.3333333333333333,
              "#9c179e"
             ],
             [
              0.4444444444444444,
              "#bd3786"
             ],
             [
              0.5555555555555556,
              "#d8576b"
             ],
             [
              0.6666666666666666,
              "#ed7953"
             ],
             [
              0.7777777777777778,
              "#fb9f3a"
             ],
             [
              0.8888888888888888,
              "#fdca26"
             ],
             [
              1,
              "#f0f921"
             ]
            ],
            "type": "heatmap"
           }
          ],
          "heatmapgl": [
           {
            "colorbar": {
             "outlinewidth": 0,
             "ticks": ""
            },
            "colorscale": [
             [
              0,
              "#0d0887"
             ],
             [
              0.1111111111111111,
              "#46039f"
             ],
             [
              0.2222222222222222,
              "#7201a8"
             ],
             [
              0.3333333333333333,
              "#9c179e"
             ],
             [
              0.4444444444444444,
              "#bd3786"
             ],
             [
              0.5555555555555556,
              "#d8576b"
             ],
             [
              0.6666666666666666,
              "#ed7953"
             ],
             [
              0.7777777777777778,
              "#fb9f3a"
             ],
             [
              0.8888888888888888,
              "#fdca26"
             ],
             [
              1,
              "#f0f921"
             ]
            ],
            "type": "heatmapgl"
           }
          ],
          "histogram": [
           {
            "marker": {
             "pattern": {
              "fillmode": "overlay",
              "size": 10,
              "solidity": 0.2
             }
            },
            "type": "histogram"
           }
          ],
          "histogram2d": [
           {
            "colorbar": {
             "outlinewidth": 0,
             "ticks": ""
            },
            "colorscale": [
             [
              0,
              "#0d0887"
             ],
             [
              0.1111111111111111,
              "#46039f"
             ],
             [
              0.2222222222222222,
              "#7201a8"
             ],
             [
              0.3333333333333333,
              "#9c179e"
             ],
             [
              0.4444444444444444,
              "#bd3786"
             ],
             [
              0.5555555555555556,
              "#d8576b"
             ],
             [
              0.6666666666666666,
              "#ed7953"
             ],
             [
              0.7777777777777778,
              "#fb9f3a"
             ],
             [
              0.8888888888888888,
              "#fdca26"
             ],
             [
              1,
              "#f0f921"
             ]
            ],
            "type": "histogram2d"
           }
          ],
          "histogram2dcontour": [
           {
            "colorbar": {
             "outlinewidth": 0,
             "ticks": ""
            },
            "colorscale": [
             [
              0,
              "#0d0887"
             ],
             [
              0.1111111111111111,
              "#46039f"
             ],
             [
              0.2222222222222222,
              "#7201a8"
             ],
             [
              0.3333333333333333,
              "#9c179e"
             ],
             [
              0.4444444444444444,
              "#bd3786"
             ],
             [
              0.5555555555555556,
              "#d8576b"
             ],
             [
              0.6666666666666666,
              "#ed7953"
             ],
             [
              0.7777777777777778,
              "#fb9f3a"
             ],
             [
              0.8888888888888888,
              "#fdca26"
             ],
             [
              1,
              "#f0f921"
             ]
            ],
            "type": "histogram2dcontour"
           }
          ],
          "mesh3d": [
           {
            "colorbar": {
             "outlinewidth": 0,
             "ticks": ""
            },
            "type": "mesh3d"
           }
          ],
          "parcoords": [
           {
            "line": {
             "colorbar": {
              "outlinewidth": 0,
              "ticks": ""
             }
            },
            "type": "parcoords"
           }
          ],
          "pie": [
           {
            "automargin": true,
            "type": "pie"
           }
          ],
          "scatter": [
           {
            "fillpattern": {
             "fillmode": "overlay",
             "size": 10,
             "solidity": 0.2
            },
            "type": "scatter"
           }
          ],
          "scatter3d": [
           {
            "line": {
             "colorbar": {
              "outlinewidth": 0,
              "ticks": ""
             }
            },
            "marker": {
             "colorbar": {
              "outlinewidth": 0,
              "ticks": ""
             }
            },
            "type": "scatter3d"
           }
          ],
          "scattercarpet": [
           {
            "marker": {
             "colorbar": {
              "outlinewidth": 0,
              "ticks": ""
             }
            },
            "type": "scattercarpet"
           }
          ],
          "scattergeo": [
           {
            "marker": {
             "colorbar": {
              "outlinewidth": 0,
              "ticks": ""
             }
            },
            "type": "scattergeo"
           }
          ],
          "scattergl": [
           {
            "marker": {
             "colorbar": {
              "outlinewidth": 0,
              "ticks": ""
             }
            },
            "type": "scattergl"
           }
          ],
          "scattermapbox": [
           {
            "marker": {
             "colorbar": {
              "outlinewidth": 0,
              "ticks": ""
             }
            },
            "type": "scattermapbox"
           }
          ],
          "scatterpolar": [
           {
            "marker": {
             "colorbar": {
              "outlinewidth": 0,
              "ticks": ""
             }
            },
            "type": "scatterpolar"
           }
          ],
          "scatterpolargl": [
           {
            "marker": {
             "colorbar": {
              "outlinewidth": 0,
              "ticks": ""
             }
            },
            "type": "scatterpolargl"
           }
          ],
          "scatterternary": [
           {
            "marker": {
             "colorbar": {
              "outlinewidth": 0,
              "ticks": ""
             }
            },
            "type": "scatterternary"
           }
          ],
          "surface": [
           {
            "colorbar": {
             "outlinewidth": 0,
             "ticks": ""
            },
            "colorscale": [
             [
              0,
              "#0d0887"
             ],
             [
              0.1111111111111111,
              "#46039f"
             ],
             [
              0.2222222222222222,
              "#7201a8"
             ],
             [
              0.3333333333333333,
              "#9c179e"
             ],
             [
              0.4444444444444444,
              "#bd3786"
             ],
             [
              0.5555555555555556,
              "#d8576b"
             ],
             [
              0.6666666666666666,
              "#ed7953"
             ],
             [
              0.7777777777777778,
              "#fb9f3a"
             ],
             [
              0.8888888888888888,
              "#fdca26"
             ],
             [
              1,
              "#f0f921"
             ]
            ],
            "type": "surface"
           }
          ],
          "table": [
           {
            "cells": {
             "fill": {
              "color": "#EBF0F8"
             },
             "line": {
              "color": "white"
             }
            },
            "header": {
             "fill": {
              "color": "#C8D4E3"
             },
             "line": {
              "color": "white"
             }
            },
            "type": "table"
           }
          ]
         },
         "layout": {
          "annotationdefaults": {
           "arrowcolor": "#2a3f5f",
           "arrowhead": 0,
           "arrowwidth": 1
          },
          "autotypenumbers": "strict",
          "coloraxis": {
           "colorbar": {
            "outlinewidth": 0,
            "ticks": ""
           }
          },
          "colorscale": {
           "diverging": [
            [
             0,
             "#8e0152"
            ],
            [
             0.1,
             "#c51b7d"
            ],
            [
             0.2,
             "#de77ae"
            ],
            [
             0.3,
             "#f1b6da"
            ],
            [
             0.4,
             "#fde0ef"
            ],
            [
             0.5,
             "#f7f7f7"
            ],
            [
             0.6,
             "#e6f5d0"
            ],
            [
             0.7,
             "#b8e186"
            ],
            [
             0.8,
             "#7fbc41"
            ],
            [
             0.9,
             "#4d9221"
            ],
            [
             1,
             "#276419"
            ]
           ],
           "sequential": [
            [
             0,
             "#0d0887"
            ],
            [
             0.1111111111111111,
             "#46039f"
            ],
            [
             0.2222222222222222,
             "#7201a8"
            ],
            [
             0.3333333333333333,
             "#9c179e"
            ],
            [
             0.4444444444444444,
             "#bd3786"
            ],
            [
             0.5555555555555556,
             "#d8576b"
            ],
            [
             0.6666666666666666,
             "#ed7953"
            ],
            [
             0.7777777777777778,
             "#fb9f3a"
            ],
            [
             0.8888888888888888,
             "#fdca26"
            ],
            [
             1,
             "#f0f921"
            ]
           ],
           "sequentialminus": [
            [
             0,
             "#0d0887"
            ],
            [
             0.1111111111111111,
             "#46039f"
            ],
            [
             0.2222222222222222,
             "#7201a8"
            ],
            [
             0.3333333333333333,
             "#9c179e"
            ],
            [
             0.4444444444444444,
             "#bd3786"
            ],
            [
             0.5555555555555556,
             "#d8576b"
            ],
            [
             0.6666666666666666,
             "#ed7953"
            ],
            [
             0.7777777777777778,
             "#fb9f3a"
            ],
            [
             0.8888888888888888,
             "#fdca26"
            ],
            [
             1,
             "#f0f921"
            ]
           ]
          },
          "colorway": [
           "#636efa",
           "#EF553B",
           "#00cc96",
           "#ab63fa",
           "#FFA15A",
           "#19d3f3",
           "#FF6692",
           "#B6E880",
           "#FF97FF",
           "#FECB52"
          ],
          "font": {
           "color": "#2a3f5f"
          },
          "geo": {
           "bgcolor": "white",
           "lakecolor": "white",
           "landcolor": "#E5ECF6",
           "showlakes": true,
           "showland": true,
           "subunitcolor": "white"
          },
          "hoverlabel": {
           "align": "left"
          },
          "hovermode": "closest",
          "mapbox": {
           "style": "light"
          },
          "paper_bgcolor": "white",
          "plot_bgcolor": "#E5ECF6",
          "polar": {
           "angularaxis": {
            "gridcolor": "white",
            "linecolor": "white",
            "ticks": ""
           },
           "bgcolor": "#E5ECF6",
           "radialaxis": {
            "gridcolor": "white",
            "linecolor": "white",
            "ticks": ""
           }
          },
          "scene": {
           "xaxis": {
            "backgroundcolor": "#E5ECF6",
            "gridcolor": "white",
            "gridwidth": 2,
            "linecolor": "white",
            "showbackground": true,
            "ticks": "",
            "zerolinecolor": "white"
           },
           "yaxis": {
            "backgroundcolor": "#E5ECF6",
            "gridcolor": "white",
            "gridwidth": 2,
            "linecolor": "white",
            "showbackground": true,
            "ticks": "",
            "zerolinecolor": "white"
           },
           "zaxis": {
            "backgroundcolor": "#E5ECF6",
            "gridcolor": "white",
            "gridwidth": 2,
            "linecolor": "white",
            "showbackground": true,
            "ticks": "",
            "zerolinecolor": "white"
           }
          },
          "shapedefaults": {
           "line": {
            "color": "#2a3f5f"
           }
          },
          "ternary": {
           "aaxis": {
            "gridcolor": "white",
            "linecolor": "white",
            "ticks": ""
           },
           "baxis": {
            "gridcolor": "white",
            "linecolor": "white",
            "ticks": ""
           },
           "bgcolor": "#E5ECF6",
           "caxis": {
            "gridcolor": "white",
            "linecolor": "white",
            "ticks": ""
           }
          },
          "title": {
           "x": 0.05
          },
          "xaxis": {
           "automargin": true,
           "gridcolor": "white",
           "linecolor": "white",
           "ticks": "",
           "title": {
            "standoff": 15
           },
           "zerolinecolor": "white",
           "zerolinewidth": 2
          },
          "yaxis": {
           "automargin": true,
           "gridcolor": "white",
           "linecolor": "white",
           "ticks": "",
           "title": {
            "standoff": 15
           },
           "zerolinecolor": "white",
           "zerolinewidth": 2
          }
         }
        },
        "title": {
         "text": "Overall Age Distribution"
        },
        "width": 500
       }
      }
     },
     "metadata": {},
     "output_type": "display_data"
    }
   ],
   "source": [
    "# Step 2: Apply to filtered table (the general table of interest)\n",
    "merged['Age Group'] = merged['Age'].apply(categorize_age)\n",
    "\n",
    "# Step 3: Count per age group\n",
    "age_counts = merged['Age Group'].value_counts().reset_index()\n",
    "age_counts.columns = ['Age Group', 'Count']\n",
    "age_counts = age_counts.sort_values('Age Group')\n",
    "\n",
    "# Step 4: Plot with Plotly\n",
    "fig = px.pie(\n",
    "    age_counts,\n",
    "    names='Age Group',\n",
    "    values='Count',\n",
    "    title='Overall Age Distribution',\n",
    "    color_discrete_sequence=px.colors.sequential.RdPu\n",
    ")\n",
    "\n",
    "fig.update_traces(textposition='inside', textinfo='percent+label')\n",
    "\n",
    "fig.update_layout(\n",
    "    title='Overall Age Distribution',\n",
    "    width=500,  # 👈 reduce width\n",
    "    height=400,  # 👈 optional: set height\n",
    "    legend=dict(\n",
    "        orientation=\"v\",  # vertical legend\n",
    "        x=1,  # place it just outside the pie\n",
    "        y=0.5,\n",
    "        xanchor='left'\n",
    "    )\n",
    ")\n",
    "\n",
    "fig.show()\n"
   ]
  },
  {
   "cell_type": "markdown",
   "id": "07d442c6",
   "metadata": {},
   "source": [
    "## New table for Irit with only closeLinks:"
   ]
  },
  {
   "cell_type": "code",
   "execution_count": null,
   "id": "f1f5a41b",
   "metadata": {},
   "outputs": [],
   "source": [
    "df_to_irit.to_excel('df_to_irit.xlsx', index=False)"
   ]
  },
  {
   "cell_type": "code",
   "execution_count": null,
   "id": "f07b6594",
   "metadata": {},
   "outputs": [],
   "source": []
  }
 ],
 "metadata": {
  "kernelspec": {
   "display_name": "base",
   "language": "python",
   "name": "python3"
  },
  "language_info": {
   "codemirror_mode": {
    "name": "ipython",
    "version": 3
   },
   "file_extension": ".py",
   "mimetype": "text/x-python",
   "name": "python",
   "nbconvert_exporter": "python",
   "pygments_lexer": "ipython3",
   "version": "3.12.4"
  }
 },
 "nbformat": 4,
 "nbformat_minor": 5
}
