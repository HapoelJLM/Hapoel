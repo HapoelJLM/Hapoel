{
 "cells": [
  {
   "cell_type": "code",
   "execution_count": 8,
   "id": "ac5b6d53",
   "metadata": {},
   "outputs": [],
   "source": [
    "import pandas as pd\n",
    "import numpy as np"
   ]
  },
  {
   "cell_type": "code",
   "execution_count": 9,
   "id": "974a8265",
   "metadata": {},
   "outputs": [],
   "source": [
    "products = pd.read_csv('products.csv')"
   ]
  },
  {
   "cell_type": "code",
   "execution_count": 10,
   "id": "1f6105ab",
   "metadata": {},
   "outputs": [
    {
     "data": {
      "text/html": [
       "<div>\n",
       "<style scoped>\n",
       "    .dataframe tbody tr th:only-of-type {\n",
       "        vertical-align: middle;\n",
       "    }\n",
       "\n",
       "    .dataframe tbody tr th {\n",
       "        vertical-align: top;\n",
       "    }\n",
       "\n",
       "    .dataframe thead th {\n",
       "        text-align: right;\n",
       "    }\n",
       "</style>\n",
       "<table border=\"1\" class=\"dataframe\">\n",
       "  <thead>\n",
       "    <tr style=\"text-align: right;\">\n",
       "      <th></th>\n",
       "      <th>ProductId</th>\n",
       "      <th>Season ID</th>\n",
       "      <th>ProductName</th>\n",
       "      <th>ProductType</th>\n",
       "      <th>ProductDate</th>\n",
       "      <th>StadiumId</th>\n",
       "    </tr>\n",
       "  </thead>\n",
       "  <tbody>\n",
       "    <tr>\n",
       "      <th>0</th>\n",
       "      <td>1063</td>\n",
       "      <td>25</td>\n",
       "      <td>פרסום: דף העסקים של הפועל 2025/26</td>\n",
       "      <td>Merchndise</td>\n",
       "      <td>2025-06-10</td>\n",
       "      <td>None</td>\n",
       "    </tr>\n",
       "    <tr>\n",
       "      <th>1</th>\n",
       "      <td>62</td>\n",
       "      <td>25</td>\n",
       "      <td>מנוי לעונת 2025/2026</td>\n",
       "      <td>SeasonTicket</td>\n",
       "      <td>2025-06-05</td>\n",
       "      <td>1</td>\n",
       "    </tr>\n",
       "  </tbody>\n",
       "</table>\n",
       "</div>"
      ],
      "text/plain": [
       "   ProductId  Season ID                        ProductName   ProductType  \\\n",
       "0       1063         25  פרסום: דף העסקים של הפועל 2025/26    Merchndise   \n",
       "1         62         25               מנוי לעונת 2025/2026  SeasonTicket   \n",
       "\n",
       "  ProductDate StadiumId  \n",
       "0  2025-06-10      None  \n",
       "1  2025-06-05         1  "
      ]
     },
     "execution_count": 10,
     "metadata": {},
     "output_type": "execute_result"
    }
   ],
   "source": [
    "# Rename columns\n",
    "products = products.rename(columns={\n",
    "    'Product Id': 'ProductId',\n",
    "    'Product': 'ProductName',\n",
    "    'Date.1': 'ProductDate'\n",
    "})\n",
    "\n",
    "# Add missing columns\n",
    "new_columns = ['Season ID', 'StadiumId', 'ProductType']\n",
    "\n",
    "for col in new_columns:\n",
    "    if col not in products.columns:\n",
    "        products[col] = None\n",
    "\n",
    "# Reorder columns\n",
    "desired_columns = ['ProductId', 'Season ID', 'ProductName', 'ProductType', 'ProductDate', 'StadiumId']\n",
    "for col in desired_columns:\n",
    "    if col not in products.columns:\n",
    "        products[col] = None\n",
    "products = products[desired_columns]\n",
    "\n",
    "# Set default values\n",
    "products['Season ID'] = 25\n",
    "products['ProductType'] = 'Merchndise'\n",
    "\n",
    "products = products.drop_duplicates(subset='ProductName')\n",
    "\n",
    "# New row as a dictionary\n",
    "new_row = {\n",
    "    'ProductId': 62,\n",
    "    'Season ID': 25,\n",
    "    'ProductName': 'מנוי לעונת 2025/2026',\n",
    "    'ProductType': 'SeasonTicket',\n",
    "    'ProductDate': '2025-06-05',\n",
    "    'StadiumId': 1\n",
    "}\n",
    "\n",
    "# Convert the dict to a DataFrame\n",
    "new_row_df = pd.DataFrame([new_row])\n",
    "\n",
    "# Concatenate\n",
    "products = pd.concat([products, new_row_df], ignore_index=True)\n",
    "\n",
    "products"
   ]
  },
  {
   "cell_type": "code",
   "execution_count": 11,
   "id": "bef2aea4",
   "metadata": {},
   "outputs": [],
   "source": [
    "# tickets = pd.read_excel('tickets2425.xlsx')"
   ]
  },
  {
   "cell_type": "code",
   "execution_count": 12,
   "id": "c7e35809",
   "metadata": {},
   "outputs": [],
   "source": [
    "# # 1. Extract only relevant columns from tickets\n",
    "# match_info = tickets[['Product ID' ,'Asset Name', 'Season ID', 'Product Date']]\n",
    "\n",
    "# # 2. Keep only the first occurrence per unique 'Asset Name'\n",
    "# match_info = match_info.drop_duplicates(subset='Asset Name')\n",
    "\n",
    "# # 3. Rename to match products column names\n",
    "# match_info = match_info.rename(columns={\n",
    "#     'Asset Name': 'ProductName',\n",
    "#     'Product Date': 'ProductDate',\n",
    "#     'Product ID': 'ProductId'\n",
    "# })\n",
    "\n",
    "# # 4. Add fixed values\n",
    "# match_info['ProductType'] = 'Match'\n",
    "# match_info['StadiumId'] = 1\n",
    "\n",
    "# # 6. Reorder columns to match `products` table\n",
    "# # Ensure this order matches the actual structure of your products DataFrame\n",
    "# match_info = match_info[['ProductId', 'Season ID', 'ProductName', 'ProductType', 'ProductDate', 'StadiumId']]\n",
    "\n",
    "# # 7. Concatenate into products\n",
    "# products = pd.concat([products, match_info], ignore_index=True)\n",
    "\n",
    "# products"
   ]
  },
  {
   "cell_type": "code",
   "execution_count": 13,
   "id": "c16f332c",
   "metadata": {},
   "outputs": [],
   "source": [
    "# vouchers = pd.read_csv('vouchers.csv')"
   ]
  },
  {
   "cell_type": "code",
   "execution_count": 14,
   "id": "f14c5940",
   "metadata": {},
   "outputs": [],
   "source": [
    "# # 1. Extract only relevant columns from tickets\n",
    "# vouchers_info = vouchers[['Product Id' ,'Product', 'Date.1']]\n",
    "\n",
    "# # 2. Keep only the first occurrence per unique 'Asset Name'\n",
    "# vouchers_info = vouchers_info.drop_duplicates(subset='Product')\n",
    "\n",
    "# # 3. Rename to match products column names\n",
    "# vouchers_info = vouchers_info.rename(columns={\n",
    "#     'Product': 'ProductName',\n",
    "#     'Date.1': 'ProductDate',\n",
    "#     'Product Id': 'ProductId'\n",
    "# })\n",
    "\n",
    "# vouchers_info['ProductDate'] = pd.to_datetime(vouchers_info['ProductDate'], dayfirst=True).dt.date\n",
    "\n",
    "# # 4. Add fixed values\n",
    "# vouchers_info['ProductType'] = 'Voucher'\n",
    "# vouchers_info['StadiumId'] = 1\n",
    "# vouchers_info['Season ID'] = 24\n",
    "\n",
    "# # 6. Reorder columns to match `products` table\n",
    "# # Ensure this order matches the actual structure of your products DataFrame\n",
    "# vouchers_info = vouchers_info[['ProductId', 'Season ID', 'ProductName', 'ProductType', 'ProductDate', 'StadiumId']]\n",
    "\n",
    "# # 7. Concatenate into products\n",
    "# products = pd.concat([products, vouchers_info], ignore_index=True)\n",
    "\n",
    "# products"
   ]
  },
  {
   "cell_type": "code",
   "execution_count": 15,
   "id": "a47224e5",
   "metadata": {},
   "outputs": [],
   "source": [
    "products.to_excel('products2526.xlsx')"
   ]
  },
  {
   "cell_type": "code",
   "execution_count": null,
   "id": "3d6d8e37",
   "metadata": {},
   "outputs": [],
   "source": []
  }
 ],
 "metadata": {
  "kernelspec": {
   "display_name": "base",
   "language": "python",
   "name": "python3"
  },
  "language_info": {
   "codemirror_mode": {
    "name": "ipython",
    "version": 3
   },
   "file_extension": ".py",
   "mimetype": "text/x-python",
   "name": "python",
   "nbconvert_exporter": "python",
   "pygments_lexer": "ipython3",
   "version": "3.12.4"
  }
 },
 "nbformat": 4,
 "nbformat_minor": 5
}
