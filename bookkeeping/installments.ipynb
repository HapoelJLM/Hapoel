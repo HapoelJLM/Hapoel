{
 "cells": [
  {
   "cell_type": "code",
   "execution_count": null,
   "id": "21bc04da",
   "metadata": {},
   "outputs": [
    {
     "name": "stderr",
     "output_type": "stream",
     "text": [
      "2025-08-14 16:42:30.946 WARNING streamlit.runtime.scriptrunner_utils.script_run_context: Thread 'MainThread': missing ScriptRunContext! This warning can be ignored when running in bare mode.\n",
      "2025-08-14 16:42:30.947 WARNING streamlit.runtime.scriptrunner_utils.script_run_context: Thread 'MainThread': missing ScriptRunContext! This warning can be ignored when running in bare mode.\n",
      "2025-08-14 16:42:30.976 \n",
      "  \u001b[33m\u001b[1mWarning:\u001b[0m to view this Streamlit app on a browser, run it with the following\n",
      "  command:\n",
      "\n",
      "    streamlit run /opt/anaconda3/lib/python3.12/site-packages/ipykernel_launcher.py [ARGUMENTS]\n",
      "2025-08-14 16:42:30.976 Thread 'MainThread': missing ScriptRunContext! This warning can be ignored when running in bare mode.\n",
      "2025-08-14 16:42:30.976 Thread 'MainThread': missing ScriptRunContext! This warning can be ignored when running in bare mode.\n",
      "2025-08-14 16:42:30.977 Thread 'MainThread': missing ScriptRunContext! This warning can be ignored when running in bare mode.\n",
      "2025-08-14 16:42:30.977 Thread 'MainThread': missing ScriptRunContext! This warning can be ignored when running in bare mode.\n",
      "2025-08-14 16:42:30.977 Thread 'MainThread': missing ScriptRunContext! This warning can be ignored when running in bare mode.\n",
      "2025-08-14 16:42:30.977 Thread 'MainThread': missing ScriptRunContext! This warning can be ignored when running in bare mode.\n",
      "2025-08-14 16:42:30.977 Thread 'MainThread': missing ScriptRunContext! This warning can be ignored when running in bare mode.\n",
      "2025-08-14 16:42:30.978 Thread 'MainThread': missing ScriptRunContext! This warning can be ignored when running in bare mode.\n",
      "2025-08-14 16:42:30.978 Thread 'MainThread': missing ScriptRunContext! This warning can be ignored when running in bare mode.\n",
      "2025-08-14 16:42:30.978 Thread 'MainThread': missing ScriptRunContext! This warning can be ignored when running in bare mode.\n",
      "2025-08-14 16:42:30.978 Thread 'MainThread': missing ScriptRunContext! This warning can be ignored when running in bare mode.\n",
      "2025-08-14 16:42:30.978 Thread 'MainThread': missing ScriptRunContext! This warning can be ignored when running in bare mode.\n",
      "2025-08-14 16:42:30.978 Session state does not function when running a script without `streamlit run`\n",
      "2025-08-14 16:42:30.978 Thread 'MainThread': missing ScriptRunContext! This warning can be ignored when running in bare mode.\n",
      "2025-08-14 16:42:30.979 Thread 'MainThread': missing ScriptRunContext! This warning can be ignored when running in bare mode.\n",
      "2025-08-14 16:42:30.979 Thread 'MainThread': missing ScriptRunContext! This warning can be ignored when running in bare mode.\n",
      "2025-08-14 16:42:30.979 Thread 'MainThread': missing ScriptRunContext! This warning can be ignored when running in bare mode.\n",
      "2025-08-14 16:42:30.979 Thread 'MainThread': missing ScriptRunContext! This warning can be ignored when running in bare mode.\n",
      "2025-08-14 16:42:30.979 Thread 'MainThread': missing ScriptRunContext! This warning can be ignored when running in bare mode.\n",
      "2025-08-14 16:42:30.980 Thread 'MainThread': missing ScriptRunContext! This warning can be ignored when running in bare mode.\n",
      "2025-08-14 16:42:30.980 Thread 'MainThread': missing ScriptRunContext! This warning can be ignored when running in bare mode.\n",
      "2025-08-14 16:42:30.980 Thread 'MainThread': missing ScriptRunContext! This warning can be ignored when running in bare mode.\n",
      "2025-08-14 16:42:30.980 Thread 'MainThread': missing ScriptRunContext! This warning can be ignored when running in bare mode.\n",
      "2025-08-14 16:42:30.980 Thread 'MainThread': missing ScriptRunContext! This warning can be ignored when running in bare mode.\n",
      "2025-08-14 16:42:30.980 Thread 'MainThread': missing ScriptRunContext! This warning can be ignored when running in bare mode.\n",
      "2025-08-14 16:42:30.981 Thread 'MainThread': missing ScriptRunContext! This warning can be ignored when running in bare mode.\n",
      "2025-08-14 16:42:30.981 Thread 'MainThread': missing ScriptRunContext! This warning can be ignored when running in bare mode.\n",
      "2025-08-14 16:42:30.981 Thread 'MainThread': missing ScriptRunContext! This warning can be ignored when running in bare mode.\n",
      "2025-08-14 16:42:30.981 Thread 'MainThread': missing ScriptRunContext! This warning can be ignored when running in bare mode.\n",
      "2025-08-14 16:42:30.981 Thread 'MainThread': missing ScriptRunContext! This warning can be ignored when running in bare mode.\n",
      "2025-08-14 16:42:30.981 Thread 'MainThread': missing ScriptRunContext! This warning can be ignored when running in bare mode.\n",
      "2025-08-14 16:42:30.981 Thread 'MainThread': missing ScriptRunContext! This warning can be ignored when running in bare mode.\n",
      "2025-08-14 16:42:30.982 Thread 'MainThread': missing ScriptRunContext! This warning can be ignored when running in bare mode.\n",
      "2025-08-14 16:42:30.982 Thread 'MainThread': missing ScriptRunContext! This warning can be ignored when running in bare mode.\n",
      "2025-08-14 16:42:30.982 Thread 'MainThread': missing ScriptRunContext! This warning can be ignored when running in bare mode.\n",
      "2025-08-14 16:42:30.982 Thread 'MainThread': missing ScriptRunContext! This warning can be ignored when running in bare mode.\n",
      "2025-08-14 16:42:30.982 Thread 'MainThread': missing ScriptRunContext! This warning can be ignored when running in bare mode.\n",
      "2025-08-14 16:42:30.983 Thread 'MainThread': missing ScriptRunContext! This warning can be ignored when running in bare mode.\n",
      "2025-08-14 16:42:30.983 Thread 'MainThread': missing ScriptRunContext! This warning can be ignored when running in bare mode.\n",
      "2025-08-14 16:42:30.983 Thread 'MainThread': missing ScriptRunContext! This warning can be ignored when running in bare mode.\n",
      "2025-08-14 16:42:30.983 Thread 'MainThread': missing ScriptRunContext! This warning can be ignored when running in bare mode.\n",
      "2025-08-14 16:42:30.983 Thread 'MainThread': missing ScriptRunContext! This warning can be ignored when running in bare mode.\n",
      "2025-08-14 16:42:30.984 Thread 'MainThread': missing ScriptRunContext! This warning can be ignored when running in bare mode.\n"
     ]
    },
    {
     "data": {
      "text/plain": [
       "DeltaGenerator()"
      ]
     },
     "execution_count": 21,
     "metadata": {},
     "output_type": "execute_result"
    }
   ],
   "source": [
    "import pandas as pd\n",
    "from pathlib import Path\n",
    "\n",
    "def split_by_extref_block(\n",
    "    input_csv,\n",
    "    extref_col='InstallmentPaymentExtRef',\n",
    "    target_value=79991,\n",
    "    output_xlsx=None,\n",
    "    preview_rows=20,          # how many rows to show in preview\n",
    "    save=True                 # set False if you only want to preview\n",
    "):\n",
    "    df = pd.read_csv(input_csv)\n",
    "\n",
    "    # --- find the exact column name (ignore spaces/case) ---\n",
    "    norm = {c: ''.join(str(c).split()).lower() for c in df.columns}\n",
    "    wanted = ''.join(extref_col.split()).lower()\n",
    "    try:\n",
    "        col = next(orig for orig, n in norm.items() if n == wanted)\n",
    "    except StopIteration:\n",
    "        raise KeyError(f\"Column '{extref_col}' not found. Available: {list(df.columns)}\")\n",
    "\n",
    "    # --- treat the ExtRef column as numeric to avoid '79991' vs '79991.0' mismatches ---\n",
    "    ext = pd.to_numeric(df[col], errors='coerce')\n",
    "\n",
    "    # --- make block ids: every non-null in ExtRef starts a new block ---\n",
    "    block_id = df[col].notna().cumsum()\n",
    "\n",
    "    # --- which block ids start with the target header? (can be multiple) ---\n",
    "    target_blocks = block_id[ext == float(target_value)].unique()\n",
    "\n",
    "    # --- mask for rows that belong to any target block ---\n",
    "    mask = block_id.isin(target_blocks)\n",
    "\n",
    "    df_only   = df[mask].copy()\n",
    "    df_except = df[~mask].copy()\n",
    "\n",
    "    # --- optionally save to Excel with two sheets ---\n",
    "    if save:\n",
    "        if output_xlsx is None:\n",
    "            output_xlsx = str(Path(input_csv).with_suffix('')) + '_split.xlsx'\n",
    "        with pd.ExcelWriter(output_xlsx, engine='openpyxl') as w:\n",
    "            df_except.to_excel(w, sheet_name='except_79991', index=False)\n",
    "            df_only.to_excel(w,   sheet_name='only_79991',   index=False)\n",
    "        print(f\"\\nSaved: {output_xlsx}\")\n",
    "\n",
    "    return df_only, df_except\n",
    "\n",
    "# df_only, df_except = split_by_extref_block(\"HapoelInstallmentsReportCsv_2025-08-14.csv\", save=False)\n",
    "# When happy:\n",
    "# split_by_extref_block(\"HapoelInstallmentsReportCsv_2025-08-14.csv\", save=True)\n"
   ]
  },
  {
   "cell_type": "code",
   "execution_count": null,
   "id": "04fb6682",
   "metadata": {},
   "outputs": [],
   "source": []
  },
  {
   "cell_type": "code",
   "execution_count": null,
   "id": "d1090ace",
   "metadata": {},
   "outputs": [],
   "source": []
  }
 ],
 "metadata": {
  "kernelspec": {
   "display_name": "base",
   "language": "python",
   "name": "python3"
  },
  "language_info": {
   "codemirror_mode": {
    "name": "ipython",
    "version": 3
   },
   "file_extension": ".py",
   "mimetype": "text/x-python",
   "name": "python",
   "nbconvert_exporter": "python",
   "pygments_lexer": "ipython3",
   "version": "3.12.4"
  }
 },
 "nbformat": 4,
 "nbformat_minor": 5
}
