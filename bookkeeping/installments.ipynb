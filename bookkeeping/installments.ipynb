{
 "cells": [
  {
   "cell_type": "code",
   "execution_count": 42,
   "id": "82b0c8d3",
   "metadata": {},
   "outputs": [],
   "source": [
    "import pandas as pd"
   ]
  },
  {
   "cell_type": "code",
   "execution_count": 43,
   "id": "f9a7a0bb",
   "metadata": {},
   "outputs": [
    {
     "name": "stdout",
     "output_type": "stream",
     "text": [
      "Rows in 79991 block: (418, 10)\n",
      "Rows in the rest: (1449, 10)\n"
     ]
    }
   ],
   "source": [
    "df = pd.read_csv(\"HapoelInstallmentsReportCsv_2025-08-14.csv\")\n",
    "\n",
    "# Normalize the key and build a block key that fills through blanks\n",
    "df['block_key'] = df['InstallmentPaymentExtRef'].replace({\"\": pd.NA, \"nan\": pd.NA, \"NaN\": pd.NA}).ffill()\n",
    "\n",
    "df[\"block_key\"] = (pd.to_numeric(df[\"block_key\"], errors=\"coerce\").astype(\"Int64\").astype(str))\n",
    "\n",
    "# split\n",
    "only_79991 = df[df[\"block_key\"] == \"79991\"].drop(columns=[\"block_key\"])\n",
    "rest = df[df[\"block_key\"] != \"79991\"].drop(columns=[\"block_key\"])\n",
    "\n",
    "print(\"Rows in 79991 block:\", only_79991.shape)\n",
    "print(\"Rows in the rest:\", rest.shape)\n",
    "\n",
    "# save both to one Excel file\n",
    "out = \"HapoelInstallments_split.xlsx\"\n",
    "with pd.ExcelWriter(out, engine=\"openpyxl\") as w:\n",
    "    only_79991.to_excel(w, sheet_name=\"Only_79991\", index=False)\n",
    "    rest.to_excel(w, sheet_name=\"Rest\", index=False)\n"
   ]
  },
  {
   "cell_type": "code",
   "execution_count": null,
   "id": "d66a996b",
   "metadata": {},
   "outputs": [],
   "source": []
  }
 ],
 "metadata": {
  "kernelspec": {
   "display_name": "base",
   "language": "python",
   "name": "python3"
  },
  "language_info": {
   "codemirror_mode": {
    "name": "ipython",
    "version": 3
   },
   "file_extension": ".py",
   "mimetype": "text/x-python",
   "name": "python",
   "nbconvert_exporter": "python",
   "pygments_lexer": "ipython3",
   "version": "3.12.4"
  }
 },
 "nbformat": 4,
 "nbformat_minor": 5
}
